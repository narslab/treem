{
 "cells": [
  {
   "cell_type": "markdown",
   "metadata": {},
   "source": [
    "# MBTA database connection and data extraction\n",
    "## Ridership extraction "
   ]
  },
  {
   "cell_type": "code",
   "execution_count": 11,
   "metadata": {},
   "outputs": [
    {
     "name": "stderr",
     "output_type": "stream",
     "text": [
      "Warning message:\n",
      "\"package 'DBI' was built under R version 3.6.3\"\n"
     ]
    }
   ],
   "source": [
    "library(DBI) # DB connection"
   ]
  },
  {
   "cell_type": "code",
   "execution_count": 12,
   "metadata": {},
   "outputs": [],
   "source": [
    "# Input the credential files for accessing database\n",
    "CERT = \"D:/MBTA/movement/postgresql/zhuohan.crt\"\n",
    "KEY = \"D:/MBTA/movement/postgresql/zhuohan.key\"\n",
    "ROOTCERT = \"D:/MBTA/movement/postgresql/root-ca.crt\"\n",
    "USER = \"zhuohan\"\n",
    "PASSWORD = \"5irmwhg382aae\""
   ]
  },
  {
   "cell_type": "code",
   "execution_count": 30,
   "metadata": {},
   "outputs": [],
   "source": [
    "# Input the time range you want to investigate\n",
    "start_year = \"2019\"\n",
    "start_month = \"01\"\n",
    "end_year = \"2020\"\n",
    "end_month = \"12\""
   ]
  },
  {
   "cell_type": "code",
   "execution_count": 31,
   "metadata": {},
   "outputs": [],
   "source": [
    "ridership_table_extraction = function(start_year,start_month,end_year,end_month){\n",
    "    start_date = paste(start_year, start_month, \"01\", sep = \"-\",collapse = \"\")\n",
    "    end_date = paste(end_year, end_month, \"31\", sep = \"-\",collapse = \"\")\n",
    "    con <- dbConnect(RPostgres::Postgres(), host=\"mbta01.mghpcc.org\", port=\"5432\", dbname = \"mbta_dw\",\n",
    "                     sslcert = CERT, sslkey = KEY, sslrootcert = ROOTCERT,\n",
    "                     sslmode=\"verify-full\", user = USER, password = PASSWORD)\n",
    "    query = dbSendQuery(con,statement = paste(\"SELECT * FROM ridership.tableau_r WHERE route_or_line NOT IN ('Bus', 'Silver Line') AND (servicedate >= '\",\n",
    "                                          start_date,\"' AND servicedate <= '\",end_date,\"')\",sep = \"\",collapse = \"\"))\n",
    "    df = dbFetch(query, n = -1)\n",
    "    filename = paste(paste(c(\"ridership\",start_year,end_year),collapse = \"-\"),\".csv\", sep = \"\")\n",
    "    write.csv(df, file.path(\"../../data/raw/\", filename), row.names = FALSE)\n",
    "    dbClearResult(query)\n",
    "    dbDisconnect(con)\n",
    "}"
   ]
  },
  {
   "cell_type": "code",
   "execution_count": null,
   "metadata": {},
   "outputs": [],
   "source": [
    "ridership_table_extraction(start_year,start_month,end_year,end_month)"
   ]
  }
 ],
 "metadata": {
  "kernelspec": {
   "display_name": "R",
   "language": "R",
   "name": "ir"
  },
  "language_info": {
   "codemirror_mode": "r",
   "file_extension": ".r",
   "mimetype": "text/x-r-source",
   "name": "R",
   "pygments_lexer": "r",
   "version": "3.6.2"
  }
 },
 "nbformat": 4,
 "nbformat_minor": 4
}
