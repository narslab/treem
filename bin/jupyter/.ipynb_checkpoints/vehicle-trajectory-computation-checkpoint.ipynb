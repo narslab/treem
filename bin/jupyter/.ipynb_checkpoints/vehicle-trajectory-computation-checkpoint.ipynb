{
 "cells": [
  {
   "cell_type": "markdown",
   "metadata": {},
   "source": [
    "# Data preprocessing and model preparation"
   ]
  },
  {
   "cell_type": "code",
   "execution_count": 1,
   "metadata": {
    "collapsed": true,
    "jupyter": {
     "outputs_hidden": true
    }
   },
   "outputs": [
    {
     "name": "stderr",
     "output_type": "stream",
     "text": [
      "Warning message:\n",
      "\"package 'data.table' was built under R version 3.6.3\"\n",
      "\n",
      "Attaching package: 'dplyr'\n",
      "\n",
      "\n",
      "The following objects are masked from 'package:data.table':\n",
      "\n",
      "    between, first, last\n",
      "\n",
      "\n",
      "The following objects are masked from 'package:stats':\n",
      "\n",
      "    filter, lag\n",
      "\n",
      "\n",
      "The following objects are masked from 'package:base':\n",
      "\n",
      "    intersect, setdiff, setequal, union\n",
      "\n",
      "\n",
      "Warning message:\n",
      "\"package 'geosphere' was built under R version 3.6.3\"\n",
      "\n",
      "Attaching package: 'lubridate'\n",
      "\n",
      "\n",
      "The following objects are masked from 'package:data.table':\n",
      "\n",
      "    hour, isoweek, mday, minute, month, quarter, second, wday, week,\n",
      "    yday, year\n",
      "\n",
      "\n",
      "The following object is masked from 'package:base':\n",
      "\n",
      "    date\n",
      "\n",
      "\n"
     ]
    }
   ],
   "source": [
    "library(data.table) #fread\n",
    "library(dplyr)\n",
    "library(geosphere) # Calculate vehicle distance\n",
    "library(lubridate)# Date column extraction"
   ]
  },
  {
   "cell_type": "code",
   "execution_count": 2,
   "metadata": {},
   "outputs": [
    {
     "data": {
      "text/html": [
       "249200"
      ],
      "text/latex": [
       "249200"
      ],
      "text/markdown": [
       "249200"
      ],
      "text/plain": [
       "[1] 249200"
      ]
     },
     "metadata": {},
     "output_type": "display_data"
    }
   ],
   "source": [
    "# adjust the R limit\n",
    "memory.limit(size=249200)"
   ]
  },
  {
   "cell_type": "markdown",
   "metadata": {},
   "source": [
    "### Input location data and data preprocessing"
   ]
  },
  {
   "cell_type": "code",
   "execution_count": 3,
   "metadata": {},
   "outputs": [],
   "source": [
    "# Read data from folder\n",
    "# Suggestion: Just do one year at one time. One year's table has 94363502 rows(green)\n",
    "yearlist = c('19')\n",
    "monthlist = c(\"01\", \"02\", \"03\", \"04\", \"05\", \"06\", \"07\", \"08\", \"09\", \"10\", \"11\", \"12\") #FOR FULL TABLE\n",
    "distance_filepath = \"../../data/raw/vehicle-location/\"\n",
    "# aggregrate_trajectory_table\n",
    "trajectory_table_combination = function(yearlist,monthlist){\n",
    "    for (year in yearlist) {\n",
    "        for (month in monthlist) {\n",
    "        assign(paste(\"dg\", year, month, sep=\"\"), fread(paste(distance_filepath, paste(\"lightrail\", \"trajectories\", month, year, \".csv\", sep = \"-\", collapse = \"\"), sep=\"\")))\n",
    "        assign(paste(\"dh\", year, month, sep=\"\"), fread(paste(distance_filepath, paste(\"heavyrail\", \"trajectories\", month, year, \".csv\", sep = \"-\", collapse = \"\"), sep=\"\")))\n",
    "        }\n",
    "    }\n",
    "   # Combine the original tables to a single one for analysis\n",
    "   dg = rbind(dg1901,dg1902,dg1903,dg1904,dg1905,dg1906,dg1907,dg1908,dg1909,dg1910,dg1911,dg1912)\n",
    "   dh = rbind(dh1901,dh1902,dh1903,dh1904,dh1905,dh1906,dh1907,dh1908,dh1909,dh1910,dh1911,dh1912)\n",
    "   dg = subset(dg,select = c(trxtime,trainid,lineid,lat,lon))\n",
    "   dh = subset(dh,select = c(trxtime,trainid,lineid,lat,lon))\n",
    "   df = rbind(dg,dh)\n",
    "   return(df)\n",
    "}"
   ]
  },
  {
   "cell_type": "code",
   "execution_count": 4,
   "metadata": {},
   "outputs": [],
   "source": [
    "df_trajectory_table = trajectory_table_combination(yearlist,monthlist)"
   ]
  },
  {
   "cell_type": "code",
   "execution_count": 8,
   "metadata": {
    "collapsed": true,
    "jupyter": {
     "outputs_hidden": true
    }
   },
   "outputs": [
    {
     "data": {
      "text/html": [
       "<table>\n",
       "<caption>A data.table: 6 × 8</caption>\n",
       "<thead>\n",
       "\t<tr><th scope=col>trxtime</th><th scope=col>trainid</th><th scope=col>lineid</th><th scope=col>lat</th><th scope=col>lon</th><th scope=col>day</th><th scope=col>month</th><th scope=col>year</th></tr>\n",
       "\t<tr><th scope=col>&lt;chr&gt;</th><th scope=col>&lt;int&gt;</th><th scope=col>&lt;int&gt;</th><th scope=col>&lt;dbl&gt;</th><th scope=col>&lt;dbl&gt;</th><th scope=col>&lt;int&gt;</th><th scope=col>&lt;dbl&gt;</th><th scope=col>&lt;dbl&gt;</th></tr>\n",
       "</thead>\n",
       "<tbody>\n",
       "\t<tr><td>2019-01-01 23:59:59</td><td>10415</td><td>4</td><td>42.31891</td><td>-71.21649</td><td>1</td><td>1</td><td>2019</td></tr>\n",
       "\t<tr><td>2019-01-01 23:59:42</td><td>10018</td><td>4</td><td>42.35164</td><td>-71.07172</td><td>1</td><td>1</td><td>2019</td></tr>\n",
       "\t<tr><td>2019-01-01 23:59:26</td><td>10262</td><td>4</td><td>42.34763</td><td>-71.10144</td><td>1</td><td>1</td><td>2019</td></tr>\n",
       "\t<tr><td>2019-01-01 23:59:23</td><td>10172</td><td>4</td><td>42.35927</td><td>-71.05945</td><td>1</td><td>1</td><td>2019</td></tr>\n",
       "\t<tr><td>2019-01-01 23:59:47</td><td>10444</td><td>4</td><td>42.35301</td><td>-71.06454</td><td>1</td><td>1</td><td>2019</td></tr>\n",
       "\t<tr><td>2019-01-01 23:59:16</td><td>10075</td><td>4</td><td>42.35986</td><td>-71.05891</td><td>1</td><td>1</td><td>2019</td></tr>\n",
       "</tbody>\n",
       "</table>\n"
      ],
      "text/latex": [
       "A data.table: 6 × 8\n",
       "\\begin{tabular}{llllllll}\n",
       " trxtime & trainid & lineid & lat & lon & day & month & year\\\\\n",
       " <chr> & <int> & <int> & <dbl> & <dbl> & <int> & <dbl> & <dbl>\\\\\n",
       "\\hline\n",
       "\t 2019-01-01 23:59:59 & 10415 & 4 & 42.31891 & -71.21649 & 1 & 1 & 2019\\\\\n",
       "\t 2019-01-01 23:59:42 & 10018 & 4 & 42.35164 & -71.07172 & 1 & 1 & 2019\\\\\n",
       "\t 2019-01-01 23:59:26 & 10262 & 4 & 42.34763 & -71.10144 & 1 & 1 & 2019\\\\\n",
       "\t 2019-01-01 23:59:23 & 10172 & 4 & 42.35927 & -71.05945 & 1 & 1 & 2019\\\\\n",
       "\t 2019-01-01 23:59:47 & 10444 & 4 & 42.35301 & -71.06454 & 1 & 1 & 2019\\\\\n",
       "\t 2019-01-01 23:59:16 & 10075 & 4 & 42.35986 & -71.05891 & 1 & 1 & 2019\\\\\n",
       "\\end{tabular}\n"
      ],
      "text/markdown": [
       "\n",
       "A data.table: 6 × 8\n",
       "\n",
       "| trxtime &lt;chr&gt; | trainid &lt;int&gt; | lineid &lt;int&gt; | lat &lt;dbl&gt; | lon &lt;dbl&gt; | day &lt;int&gt; | month &lt;dbl&gt; | year &lt;dbl&gt; |\n",
       "|---|---|---|---|---|---|---|---|\n",
       "| 2019-01-01 23:59:59 | 10415 | 4 | 42.31891 | -71.21649 | 1 | 1 | 2019 |\n",
       "| 2019-01-01 23:59:42 | 10018 | 4 | 42.35164 | -71.07172 | 1 | 1 | 2019 |\n",
       "| 2019-01-01 23:59:26 | 10262 | 4 | 42.34763 | -71.10144 | 1 | 1 | 2019 |\n",
       "| 2019-01-01 23:59:23 | 10172 | 4 | 42.35927 | -71.05945 | 1 | 1 | 2019 |\n",
       "| 2019-01-01 23:59:47 | 10444 | 4 | 42.35301 | -71.06454 | 1 | 1 | 2019 |\n",
       "| 2019-01-01 23:59:16 | 10075 | 4 | 42.35986 | -71.05891 | 1 | 1 | 2019 |\n",
       "\n"
      ],
      "text/plain": [
       "  trxtime             trainid lineid lat      lon       day month year\n",
       "1 2019-01-01 23:59:59 10415   4      42.31891 -71.21649 1   1     2019\n",
       "2 2019-01-01 23:59:42 10018   4      42.35164 -71.07172 1   1     2019\n",
       "3 2019-01-01 23:59:26 10262   4      42.34763 -71.10144 1   1     2019\n",
       "4 2019-01-01 23:59:23 10172   4      42.35927 -71.05945 1   1     2019\n",
       "5 2019-01-01 23:59:47 10444   4      42.35301 -71.06454 1   1     2019\n",
       "6 2019-01-01 23:59:16 10075   4      42.35986 -71.05891 1   1     2019"
      ]
     },
     "metadata": {},
     "output_type": "display_data"
    }
   ],
   "source": [
    "head(df_trajectory_table)"
   ]
  },
  {
   "cell_type": "markdown",
   "metadata": {},
   "source": [
    "### Experimental section"
   ]
  },
  {
   "cell_type": "code",
   "execution_count": 98,
   "metadata": {},
   "outputs": [
    {
     "data": {
      "text/html": [
       "<style>\n",
       ".list-inline {list-style: none; margin:0; padding: 0}\n",
       ".list-inline>li {display: inline-block}\n",
       ".list-inline>li:not(:last-child)::after {content: \"\\00b7\"; padding: 0 .5ex}\n",
       "</style>\n",
       "<ol class=list-inline><li>26834325</li><li>8</li></ol>\n"
      ],
      "text/latex": [
       "\\begin{enumerate*}\n",
       "\\item 26834325\n",
       "\\item 8\n",
       "\\end{enumerate*}\n"
      ],
      "text/markdown": [
       "1. 26834325\n",
       "2. 8\n",
       "\n",
       "\n"
      ],
      "text/plain": [
       "[1] 26834325        8"
      ]
     },
     "metadata": {},
     "output_type": "display_data"
    }
   ],
   "source": [
    "dim(d_test)"
   ]
  },
  {
   "cell_type": "code",
   "execution_count": 96,
   "metadata": {},
   "outputs": [],
   "source": [
    "# Data preprocessing\n",
    "preprocess_data = function(df){\n",
    "    # Add time column to do analysis by random time scale\n",
    "     df$day = day(df$trxtime)\n",
    "     df$month = month(df$trxtime)\n",
    "     df$year = year(df$trxtime)\n",
    "    # check the na values ratio\n",
    "     df_na = df[(is.na(df$lon)) | (is.na(df$lat)),]\n",
    "     df_na_rate = nrow(df_na)/nrow(df)\n",
    "    # remove the rows with values of lat and lon are 0\n",
    "     df = df[!(is.na(df$lon)) | !(is.na(df$lat)),] \n",
    "     df = df[order(df$trainid, df$trxtime),]\n",
    "     df = distinct(df,trxtime, trainid, .keep_all = TRUE) # Remove the duplicated time record\n",
    "    return(df_na_rate)\n",
    "}"
   ]
  },
  {
   "cell_type": "code",
   "execution_count": 97,
   "metadata": {},
   "outputs": [
    {
     "data": {
      "text/html": [
       "0"
      ],
      "text/latex": [
       "0"
      ],
      "text/markdown": [
       "0"
      ],
      "text/plain": [
       "[1] 0"
      ]
     },
     "metadata": {},
     "output_type": "display_data"
    }
   ],
   "source": [
    "preprocess_data(d_test)"
   ]
  },
  {
   "cell_type": "code",
   "execution_count": null,
   "metadata": {},
   "outputs": [],
   "source": [
    "# All speed are mph\n",
    "# Green line\n",
    "## Branch main 8.6\n",
    "## Branch B 7.1\n",
    "## Branch C 7.9\n",
    "## Branch D 18.7\n",
    "## Branch E 7.1\n",
    "# Red line \n",
    "## A 16.7\n",
    "## B 20.1\n",
    "# Orange line 18.3\n",
    "# Blue line 18.6\n",
    "# Ref: https://www.fixmbta.com/green-line-upgrades"
   ]
  },
  {
   "cell_type": "code",
   "execution_count": 102,
   "metadata": {
    "collapsed": true,
    "jupyter": {
     "outputs_hidden": true
    }
   },
   "outputs": [
    {
     "data": {
      "text/html": [
       "<table>\n",
       "<caption>A data.table: 6 × 8</caption>\n",
       "<thead>\n",
       "\t<tr><th scope=col>trxtime</th><th scope=col>trainid</th><th scope=col>lineid</th><th scope=col>lat</th><th scope=col>lon</th><th scope=col>day</th><th scope=col>month</th><th scope=col>year</th></tr>\n",
       "\t<tr><th scope=col>&lt;chr&gt;</th><th scope=col>&lt;int&gt;</th><th scope=col>&lt;int&gt;</th><th scope=col>&lt;dbl&gt;</th><th scope=col>&lt;dbl&gt;</th><th scope=col>&lt;int&gt;</th><th scope=col>&lt;dbl&gt;</th><th scope=col>&lt;dbl&gt;</th></tr>\n",
       "</thead>\n",
       "<tbody>\n",
       "\t<tr><td>2019-01-01 23:59:59</td><td>10415</td><td>4</td><td>42.31891</td><td>-71.21649</td><td>1</td><td>1</td><td>2019</td></tr>\n",
       "\t<tr><td>2019-01-01 23:59:42</td><td>10018</td><td>4</td><td>42.35164</td><td>-71.07172</td><td>1</td><td>1</td><td>2019</td></tr>\n",
       "\t<tr><td>2019-01-01 23:59:26</td><td>10262</td><td>4</td><td>42.34763</td><td>-71.10144</td><td>1</td><td>1</td><td>2019</td></tr>\n",
       "\t<tr><td>2019-01-01 23:59:23</td><td>10172</td><td>4</td><td>42.35927</td><td>-71.05945</td><td>1</td><td>1</td><td>2019</td></tr>\n",
       "\t<tr><td>2019-01-01 23:59:47</td><td>10444</td><td>4</td><td>42.35301</td><td>-71.06454</td><td>1</td><td>1</td><td>2019</td></tr>\n",
       "\t<tr><td>2019-01-01 23:59:16</td><td>10075</td><td>4</td><td>42.35986</td><td>-71.05891</td><td>1</td><td>1</td><td>2019</td></tr>\n",
       "</tbody>\n",
       "</table>\n"
      ],
      "text/latex": [
       "A data.table: 6 × 8\n",
       "\\begin{tabular}{llllllll}\n",
       " trxtime & trainid & lineid & lat & lon & day & month & year\\\\\n",
       " <chr> & <int> & <int> & <dbl> & <dbl> & <int> & <dbl> & <dbl>\\\\\n",
       "\\hline\n",
       "\t 2019-01-01 23:59:59 & 10415 & 4 & 42.31891 & -71.21649 & 1 & 1 & 2019\\\\\n",
       "\t 2019-01-01 23:59:42 & 10018 & 4 & 42.35164 & -71.07172 & 1 & 1 & 2019\\\\\n",
       "\t 2019-01-01 23:59:26 & 10262 & 4 & 42.34763 & -71.10144 & 1 & 1 & 2019\\\\\n",
       "\t 2019-01-01 23:59:23 & 10172 & 4 & 42.35927 & -71.05945 & 1 & 1 & 2019\\\\\n",
       "\t 2019-01-01 23:59:47 & 10444 & 4 & 42.35301 & -71.06454 & 1 & 1 & 2019\\\\\n",
       "\t 2019-01-01 23:59:16 & 10075 & 4 & 42.35986 & -71.05891 & 1 & 1 & 2019\\\\\n",
       "\\end{tabular}\n"
      ],
      "text/markdown": [
       "\n",
       "A data.table: 6 × 8\n",
       "\n",
       "| trxtime &lt;chr&gt; | trainid &lt;int&gt; | lineid &lt;int&gt; | lat &lt;dbl&gt; | lon &lt;dbl&gt; | day &lt;int&gt; | month &lt;dbl&gt; | year &lt;dbl&gt; |\n",
       "|---|---|---|---|---|---|---|---|\n",
       "| 2019-01-01 23:59:59 | 10415 | 4 | 42.31891 | -71.21649 | 1 | 1 | 2019 |\n",
       "| 2019-01-01 23:59:42 | 10018 | 4 | 42.35164 | -71.07172 | 1 | 1 | 2019 |\n",
       "| 2019-01-01 23:59:26 | 10262 | 4 | 42.34763 | -71.10144 | 1 | 1 | 2019 |\n",
       "| 2019-01-01 23:59:23 | 10172 | 4 | 42.35927 | -71.05945 | 1 | 1 | 2019 |\n",
       "| 2019-01-01 23:59:47 | 10444 | 4 | 42.35301 | -71.06454 | 1 | 1 | 2019 |\n",
       "| 2019-01-01 23:59:16 | 10075 | 4 | 42.35986 | -71.05891 | 1 | 1 | 2019 |\n",
       "\n"
      ],
      "text/plain": [
       "  trxtime             trainid lineid lat      lon       day month year\n",
       "1 2019-01-01 23:59:59 10415   4      42.31891 -71.21649 1   1     2019\n",
       "2 2019-01-01 23:59:42 10018   4      42.35164 -71.07172 1   1     2019\n",
       "3 2019-01-01 23:59:26 10262   4      42.34763 -71.10144 1   1     2019\n",
       "4 2019-01-01 23:59:23 10172   4      42.35927 -71.05945 1   1     2019\n",
       "5 2019-01-01 23:59:47 10444   4      42.35301 -71.06454 1   1     2019\n",
       "6 2019-01-01 23:59:16 10075   4      42.35986 -71.05891 1   1     2019"
      ]
     },
     "metadata": {},
     "output_type": "display_data"
    }
   ],
   "source": [
    "head(d_test)"
   ]
  },
  {
   "cell_type": "markdown",
   "metadata": {},
   "source": [
    "### Vehicle distance,speed, acceleration calculation"
   ]
  },
  {
   "cell_type": "code",
   "execution_count": 104,
   "metadata": {},
   "outputs": [],
   "source": [
    "# For making sure the data structure is same, please generate the df_trajectory_table firstly\n",
    "d_outlier = df_trajectory_table[0,]\n",
    "# Function to compute distances (D), speeds (S) and acceleration (A) in meters, meters per second, km per hour and m s^-2\n",
    "compute_variables <- function(d) {\n",
    "    d$dist_meters=NA\n",
    "    d$interval_seconds=NA\n",
    "    d$speed_mps=NA\n",
    "    d$speed_kph=NA\n",
    "    d$accel_mps2=NA\n",
    "    n <- nrow(d)\n",
    "    if (n >= 2) {\n",
    "        # Compute interval distance using Haversine function\n",
    "        d$dist_meters[2:n] = distHaversine(cbind(d$lon[1:n-1],d$lat[1:n-1]),cbind(d$lon[2:n],d$lat[2:n]))\n",
    "        # Compute time interval\n",
    "        d$interval_seconds[2:n] = as.numeric(difftime(d$trxtime[2:n], d$trxtime[1:n-1], units = \"secs\"))\n",
    "        # Compute speed in meters per second\n",
    "        d$speed_mps[2:n] = d$dist_meters[2:n] / d$interval_seconds[2:n]\n",
    "        d$speed_kph[2:n] = d$speed_mps[2:n]*3.6\n",
    "        d$accel_mps2[2:n] = (d$speed_mps[2:n] - d$speed_mps[1:n-1])/d$interval_seconds[2:n]\n",
    "         # revise the incorrect values \n",
    "        for(k in 2:n) { \n",
    "            if (!(is.na(d$speed_kph[k]))) {\n",
    "                if (d$speed_kph[k] > 128 ){\n",
    "                    # put all excessive values to one single table\n",
    "                    d_outlier = rbind(d_outlier,as.vector(d[k,1:8]))\n",
    "                # the reference link is here:\n",
    "                # https://www.masslive.com/worcester/2019/09/electrified-faster-and-more-trains-7-ways-the-mbtas-commuter-rail-service-could-be-a-lot-better.html\n",
    "                     d$speed_kph[k] = d$speed_kph[k-1]\n",
    "                     d$speed_mps[k] = d$speed_kph[k] / 3.6\n",
    "                     d$accel_mps2[k] = (d$speed_mps[k]-d$speed_mps[k-1]) / d$interval_seconds[k]\n",
    "                     d$dist_meters[k] = d$speed_mps[k] * d$interval_seconds[k]  \n",
    "                 }\n",
    "             }\n",
    "         }    \n",
    "     } \n",
    "}\n",
    "summary_computation = data.frame(outlier_rate = nrow(d_outlier)/nrow(d),outlier_mean = mean(d_outlier$speed_kph),outlier_max = max(d_outlier$speed_kph),outlier_min = min(d_outlier$speed_kph),max_correct = max(d$speed_kph),\n",
    "                         min_correct = min(d$speed_kph),mean_correct = (d$speed_kph))"
   ]
  },
  {
   "cell_type": "code",
   "execution_count": 105,
   "metadata": {},
   "outputs": [],
   "source": [
    "# Process calculation for four lines\n",
    "results.df = data.frame() # empty dataframe\n",
    "compute_trajectory = function(data){\n",
    " for(i in unique(data$day)) { \n",
    "    if (i <= 31) { # define when the loop will end\n",
    "        data.day <- data[data$day == i, ]\n",
    "        for (j in unique(data.day$trainid)) {# Put each train in one loop in a subset\n",
    "            data.day.train = data.day[data.day$trainid == j, ]        \n",
    "            results <- compute_variables(data.day.train) # Process data with only one row separately        \n",
    "            results.df <- rbind(results.df, results) # put all the results in one table\n",
    "          }\n",
    "       }\n",
    "    }\n",
    " # Save the results for one year\n",
    "# write.csv(x=results.df,file.path(\"../../data/tidy/\", paste(\"rail_distances\",yearlist,monthlist,\".csv\",sep = \"-\",collapse = \"\")))\n",
    "    return(results.df)\n",
    "}"
   ]
  },
  {
   "cell_type": "code",
   "execution_count": 89,
   "metadata": {
    "collapsed": true,
    "jupyter": {
     "outputs_hidden": true
    }
   },
   "outputs": [
    {
     "data": {
      "text/html": [
       "<table>\n",
       "<caption>A data.table: 9902 × 8</caption>\n",
       "<thead>\n",
       "\t<tr><th scope=col>trxtime</th><th scope=col>trainid</th><th scope=col>lineid</th><th scope=col>lat</th><th scope=col>lon</th><th scope=col>day</th><th scope=col>month</th><th scope=col>year</th></tr>\n",
       "\t<tr><th scope=col>&lt;chr&gt;</th><th scope=col>&lt;int&gt;</th><th scope=col>&lt;int&gt;</th><th scope=col>&lt;dbl&gt;</th><th scope=col>&lt;dbl&gt;</th><th scope=col>&lt;int&gt;</th><th scope=col>&lt;dbl&gt;</th><th scope=col>&lt;dbl&gt;</th></tr>\n",
       "</thead>\n",
       "<tbody>\n",
       "\t<tr><td>2019-01-01 04:00:00</td><td>10001</td><td>4</td><td>42.33701</td><td>-71.25349</td><td>1</td><td>1</td><td>2019</td></tr>\n",
       "\t<tr><td>2019-01-01 04:00:01</td><td>10002</td><td>4</td><td>42.33668</td><td>-71.25398</td><td>1</td><td>1</td><td>2019</td></tr>\n",
       "\t<tr><td>2019-01-01 04:00:01</td><td>10003</td><td>4</td><td>42.33623</td><td>-71.25426</td><td>1</td><td>1</td><td>2019</td></tr>\n",
       "\t<tr><td>2019-01-01 04:00:02</td><td>10004</td><td>4</td><td>42.33689</td><td>-71.25384</td><td>1</td><td>1</td><td>2019</td></tr>\n",
       "\t<tr><td>2019-01-01 03:57:15</td><td>10005</td><td>4</td><td>42.33569</td><td>-71.25421</td><td>1</td><td>1</td><td>2019</td></tr>\n",
       "\t<tr><td>2019-01-01 04:00:03</td><td>10006</td><td>4</td><td>42.33645</td><td>-71.25413</td><td>1</td><td>1</td><td>2019</td></tr>\n",
       "\t<tr><td>2019-01-01 04:00:12</td><td>10007</td><td>4</td><td>42.33584</td><td>-71.14817</td><td>1</td><td>1</td><td>2019</td></tr>\n",
       "\t<tr><td>2019-01-01 04:05:31</td><td>10008</td><td>4</td><td>42.33680</td><td>-71.25352</td><td>1</td><td>1</td><td>2019</td></tr>\n",
       "\t<tr><td>2019-01-01 04:09:23</td><td>10009</td><td>4</td><td>42.33591</td><td>-71.25405</td><td>1</td><td>1</td><td>2019</td></tr>\n",
       "\t<tr><td>2019-01-01 04:16:27</td><td>10010</td><td>4</td><td>42.33728</td><td>-71.25358</td><td>1</td><td>1</td><td>2019</td></tr>\n",
       "\t<tr><td>2019-01-01 04:23:09</td><td>10011</td><td>4</td><td>42.33668</td><td>-71.25398</td><td>1</td><td>1</td><td>2019</td></tr>\n",
       "\t<tr><td>2019-01-01 03:00:21</td><td>10012</td><td>4</td><td>42.33728</td><td>-71.25358</td><td>1</td><td>1</td><td>2019</td></tr>\n",
       "\t<tr><td>2019-01-01 05:13:38</td><td>10013</td><td>4</td><td>42.33546</td><td>-71.14940</td><td>1</td><td>1</td><td>2019</td></tr>\n",
       "\t<tr><td>2019-01-01 05:18:19</td><td>10014</td><td>4</td><td>42.33658</td><td>-71.25367</td><td>1</td><td>1</td><td>2019</td></tr>\n",
       "\t<tr><td>2019-01-01 05:21:49</td><td>10015</td><td>4</td><td>42.34012</td><td>-71.16402</td><td>1</td><td>1</td><td>2019</td></tr>\n",
       "\t<tr><td>2019-01-01 05:22:55</td><td>10016</td><td>4</td><td>42.33728</td><td>-71.25358</td><td>1</td><td>1</td><td>2019</td></tr>\n",
       "\t<tr><td>2019-01-01 05:25:18</td><td>10017</td><td>4</td><td>42.33692</td><td>-71.25150</td><td>1</td><td>1</td><td>2019</td></tr>\n",
       "\t<tr><td>2019-01-01 05:32:41</td><td>10018</td><td>4</td><td>42.33998</td><td>-71.16642</td><td>1</td><td>1</td><td>2019</td></tr>\n",
       "\t<tr><td>2019-01-01 05:32:43</td><td>10019</td><td>4</td><td>42.33641</td><td>-71.14817</td><td>1</td><td>1</td><td>2019</td></tr>\n",
       "\t<tr><td>2019-01-01 05:35:22</td><td>10020</td><td>4</td><td>42.37061</td><td>-71.07579</td><td>1</td><td>1</td><td>2019</td></tr>\n",
       "\t<tr><td>2019-01-01 05:40:09</td><td>10021</td><td>4</td><td>42.33649</td><td>-71.25061</td><td>1</td><td>1</td><td>2019</td></tr>\n",
       "\t<tr><td>2019-01-01 05:41:54</td><td>10022</td><td>4</td><td>42.33641</td><td>-71.14817</td><td>1</td><td>1</td><td>2019</td></tr>\n",
       "\t<tr><td>2019-01-01 05:44:46</td><td>10023</td><td>4</td><td>42.34012</td><td>-71.16402</td><td>1</td><td>1</td><td>2019</td></tr>\n",
       "\t<tr><td>2019-01-01 05:45:10</td><td>10024</td><td>4</td><td>42.33635</td><td>-71.25379</td><td>1</td><td>1</td><td>2019</td></tr>\n",
       "\t<tr><td>2019-01-01 05:47:17</td><td>10025</td><td>4</td><td>42.33635</td><td>-71.25379</td><td>1</td><td>1</td><td>2019</td></tr>\n",
       "\t<tr><td>2019-01-01 05:51:31</td><td>10026</td><td>4</td><td>42.37061</td><td>-71.07579</td><td>1</td><td>1</td><td>2019</td></tr>\n",
       "\t<tr><td>2019-01-01 05:51:38</td><td>10027</td><td>4</td><td>42.33613</td><td>-71.25391</td><td>1</td><td>1</td><td>2019</td></tr>\n",
       "\t<tr><td>2019-01-01 06:11:45</td><td>10028</td><td>4</td><td> 0.00000</td><td>  0.00000</td><td>1</td><td>1</td><td>2019</td></tr>\n",
       "\t<tr><td>2019-01-01 05:53:34</td><td>10029</td><td>4</td><td>42.33649</td><td>-71.25061</td><td>1</td><td>1</td><td>2019</td></tr>\n",
       "\t<tr><td>2019-01-01 05:53:37</td><td>10030</td><td>4</td><td>42.33641</td><td>-71.14817</td><td>1</td><td>1</td><td>2019</td></tr>\n",
       "\t<tr><td>...</td><td>...</td><td>...</td><td>...</td><td>...</td><td>...</td><td>...</td><td>...</td></tr>\n",
       "\t<tr><td>2020-01-01 00:00:37</td><td>1415709726</td><td>2</td><td>42.37435</td><td>-71.03017</td><td>1</td><td>1</td><td>2020</td></tr>\n",
       "\t<tr><td>2020-01-01 00:00:20</td><td>1415709731</td><td>1</td><td>42.28323</td><td>-71.06299</td><td>1</td><td>1</td><td>2020</td></tr>\n",
       "\t<tr><td>2020-01-01 00:00:09</td><td>1415709732</td><td>3</td><td>42.39536</td><td>-71.07730</td><td>1</td><td>1</td><td>2020</td></tr>\n",
       "\t<tr><td>2020-01-01 00:00:21</td><td>1415709733</td><td>2</td><td>42.36115</td><td>-71.06208</td><td>1</td><td>1</td><td>2020</td></tr>\n",
       "\t<tr><td>2020-01-01 00:01:01</td><td>1415709734</td><td>2</td><td>42.36923</td><td>-71.03944</td><td>1</td><td>1</td><td>2020</td></tr>\n",
       "\t<tr><td>2020-01-01 00:00:11</td><td>1415709736</td><td>3</td><td>42.42462</td><td>-71.07519</td><td>1</td><td>1</td><td>2020</td></tr>\n",
       "\t<tr><td>2020-01-01 00:00:10</td><td>1415709737</td><td>1</td><td>42.33022</td><td>-71.05700</td><td>1</td><td>1</td><td>2020</td></tr>\n",
       "\t<tr><td>2020-01-01 00:05:47</td><td>1415709739</td><td>3</td><td>42.43649</td><td>-71.07094</td><td>1</td><td>1</td><td>2020</td></tr>\n",
       "\t<tr><td>2020-01-01 00:04:58</td><td>1415709742</td><td>3</td><td>42.42861</td><td>-71.07350</td><td>1</td><td>1</td><td>2020</td></tr>\n",
       "\t<tr><td>2020-01-01 00:00:37</td><td>1415709749</td><td>1</td><td>42.32233</td><td>-71.05275</td><td>1</td><td>1</td><td>2020</td></tr>\n",
       "\t<tr><td>2020-01-01 00:00:16</td><td>1415709751</td><td>2</td><td>42.38632</td><td>-71.00652</td><td>1</td><td>1</td><td>2020</td></tr>\n",
       "\t<tr><td>2020-01-01 00:00:35</td><td>1415709753</td><td>3</td><td>42.39404</td><td>-71.07723</td><td>1</td><td>1</td><td>2020</td></tr>\n",
       "\t<tr><td>2020-01-01 00:00:14</td><td>1415709781</td><td>3</td><td>42.43589</td><td>-71.07110</td><td>1</td><td>1</td><td>2020</td></tr>\n",
       "\t<tr><td>2020-01-01 00:00:20</td><td>1415709973</td><td>1</td><td>42.28643</td><td>-71.06448</td><td>1</td><td>1</td><td>2020</td></tr>\n",
       "\t<tr><td>2020-01-01 00:00:27</td><td>1415710047</td><td>1</td><td>42.37636</td><td>-71.11910</td><td>1</td><td>1</td><td>2020</td></tr>\n",
       "\t<tr><td>2020-01-01 00:00:36</td><td>1415710125</td><td>1</td><td>42.36525</td><td>-71.10323</td><td>1</td><td>1</td><td>2020</td></tr>\n",
       "\t<tr><td>2020-01-01 00:00:04</td><td>1415710171</td><td>3</td><td>42.31005</td><td>-71.10796</td><td>1</td><td>1</td><td>2020</td></tr>\n",
       "\t<tr><td>2020-01-01 00:00:18</td><td>1415710172</td><td>3</td><td>42.36912</td><td>-71.06372</td><td>1</td><td>1</td><td>2020</td></tr>\n",
       "\t<tr><td>2020-01-01 00:00:06</td><td>1415710236</td><td>2</td><td>42.35937</td><td>-71.05298</td><td>1</td><td>1</td><td>2020</td></tr>\n",
       "\t<tr><td>2020-01-01 00:00:32</td><td>1415710255</td><td>2</td><td>42.39601</td><td>-70.99340</td><td>1</td><td>1</td><td>2020</td></tr>\n",
       "\t<tr><td>2020-01-01 00:04:06</td><td>1415710273</td><td>2</td><td>42.41512</td><td>-70.99082</td><td>1</td><td>1</td><td>2020</td></tr>\n",
       "\t<tr><td>2020-01-01 00:00:31</td><td>1415710276</td><td>1</td><td>42.29076</td><td>-71.06530</td><td>1</td><td>1</td><td>2020</td></tr>\n",
       "\t<tr><td>2020-01-01 00:00:16</td><td>1415710309</td><td>1</td><td>42.35266</td><td>-71.05536</td><td>1</td><td>1</td><td>2020</td></tr>\n",
       "\t<tr><td>2020-01-01 00:00:42</td><td>1415710312</td><td>1</td><td>42.37230</td><td>-71.11585</td><td>1</td><td>1</td><td>2020</td></tr>\n",
       "\t<tr><td>2020-01-01 00:00:08</td><td>1415710327</td><td>1</td><td>42.37246</td><td>-71.11586</td><td>1</td><td>1</td><td>2020</td></tr>\n",
       "\t<tr><td>2020-01-01 00:00:19</td><td>1415710358</td><td>1</td><td>42.36126</td><td>-71.07162</td><td>1</td><td>1</td><td>2020</td></tr>\n",
       "\t<tr><td>2020-01-01 00:00:32</td><td>1415710505</td><td>3</td><td>42.35406</td><td>-71.06190</td><td>1</td><td>1</td><td>2020</td></tr>\n",
       "\t<tr><td>2020-01-01 00:00:25</td><td>1415710566</td><td>1</td><td>42.35591</td><td>-71.06149</td><td>1</td><td>1</td><td>2020</td></tr>\n",
       "\t<tr><td>2020-01-01 00:00:52</td><td>1415710986</td><td>1</td><td>42.33170</td><td>-71.05700</td><td>1</td><td>1</td><td>2020</td></tr>\n",
       "\t<tr><td>2020-01-01 00:06:19</td><td>1415711051</td><td>3</td><td>42.40370</td><td>-71.07738</td><td>1</td><td>1</td><td>2020</td></tr>\n",
       "</tbody>\n",
       "</table>\n"
      ],
      "text/latex": [
       "A data.table: 9902 × 8\n",
       "\\begin{tabular}{llllllll}\n",
       " trxtime & trainid & lineid & lat & lon & day & month & year\\\\\n",
       " <chr> & <int> & <int> & <dbl> & <dbl> & <int> & <dbl> & <dbl>\\\\\n",
       "\\hline\n",
       "\t 2019-01-01 04:00:00 & 10001 & 4 & 42.33701 & -71.25349 & 1 & 1 & 2019\\\\\n",
       "\t 2019-01-01 04:00:01 & 10002 & 4 & 42.33668 & -71.25398 & 1 & 1 & 2019\\\\\n",
       "\t 2019-01-01 04:00:01 & 10003 & 4 & 42.33623 & -71.25426 & 1 & 1 & 2019\\\\\n",
       "\t 2019-01-01 04:00:02 & 10004 & 4 & 42.33689 & -71.25384 & 1 & 1 & 2019\\\\\n",
       "\t 2019-01-01 03:57:15 & 10005 & 4 & 42.33569 & -71.25421 & 1 & 1 & 2019\\\\\n",
       "\t 2019-01-01 04:00:03 & 10006 & 4 & 42.33645 & -71.25413 & 1 & 1 & 2019\\\\\n",
       "\t 2019-01-01 04:00:12 & 10007 & 4 & 42.33584 & -71.14817 & 1 & 1 & 2019\\\\\n",
       "\t 2019-01-01 04:05:31 & 10008 & 4 & 42.33680 & -71.25352 & 1 & 1 & 2019\\\\\n",
       "\t 2019-01-01 04:09:23 & 10009 & 4 & 42.33591 & -71.25405 & 1 & 1 & 2019\\\\\n",
       "\t 2019-01-01 04:16:27 & 10010 & 4 & 42.33728 & -71.25358 & 1 & 1 & 2019\\\\\n",
       "\t 2019-01-01 04:23:09 & 10011 & 4 & 42.33668 & -71.25398 & 1 & 1 & 2019\\\\\n",
       "\t 2019-01-01 03:00:21 & 10012 & 4 & 42.33728 & -71.25358 & 1 & 1 & 2019\\\\\n",
       "\t 2019-01-01 05:13:38 & 10013 & 4 & 42.33546 & -71.14940 & 1 & 1 & 2019\\\\\n",
       "\t 2019-01-01 05:18:19 & 10014 & 4 & 42.33658 & -71.25367 & 1 & 1 & 2019\\\\\n",
       "\t 2019-01-01 05:21:49 & 10015 & 4 & 42.34012 & -71.16402 & 1 & 1 & 2019\\\\\n",
       "\t 2019-01-01 05:22:55 & 10016 & 4 & 42.33728 & -71.25358 & 1 & 1 & 2019\\\\\n",
       "\t 2019-01-01 05:25:18 & 10017 & 4 & 42.33692 & -71.25150 & 1 & 1 & 2019\\\\\n",
       "\t 2019-01-01 05:32:41 & 10018 & 4 & 42.33998 & -71.16642 & 1 & 1 & 2019\\\\\n",
       "\t 2019-01-01 05:32:43 & 10019 & 4 & 42.33641 & -71.14817 & 1 & 1 & 2019\\\\\n",
       "\t 2019-01-01 05:35:22 & 10020 & 4 & 42.37061 & -71.07579 & 1 & 1 & 2019\\\\\n",
       "\t 2019-01-01 05:40:09 & 10021 & 4 & 42.33649 & -71.25061 & 1 & 1 & 2019\\\\\n",
       "\t 2019-01-01 05:41:54 & 10022 & 4 & 42.33641 & -71.14817 & 1 & 1 & 2019\\\\\n",
       "\t 2019-01-01 05:44:46 & 10023 & 4 & 42.34012 & -71.16402 & 1 & 1 & 2019\\\\\n",
       "\t 2019-01-01 05:45:10 & 10024 & 4 & 42.33635 & -71.25379 & 1 & 1 & 2019\\\\\n",
       "\t 2019-01-01 05:47:17 & 10025 & 4 & 42.33635 & -71.25379 & 1 & 1 & 2019\\\\\n",
       "\t 2019-01-01 05:51:31 & 10026 & 4 & 42.37061 & -71.07579 & 1 & 1 & 2019\\\\\n",
       "\t 2019-01-01 05:51:38 & 10027 & 4 & 42.33613 & -71.25391 & 1 & 1 & 2019\\\\\n",
       "\t 2019-01-01 06:11:45 & 10028 & 4 &  0.00000 &   0.00000 & 1 & 1 & 2019\\\\\n",
       "\t 2019-01-01 05:53:34 & 10029 & 4 & 42.33649 & -71.25061 & 1 & 1 & 2019\\\\\n",
       "\t 2019-01-01 05:53:37 & 10030 & 4 & 42.33641 & -71.14817 & 1 & 1 & 2019\\\\\n",
       "\t ... & ... & ... & ... & ... & ... & ... & ...\\\\\n",
       "\t 2020-01-01 00:00:37 & 1415709726 & 2 & 42.37435 & -71.03017 & 1 & 1 & 2020\\\\\n",
       "\t 2020-01-01 00:00:20 & 1415709731 & 1 & 42.28323 & -71.06299 & 1 & 1 & 2020\\\\\n",
       "\t 2020-01-01 00:00:09 & 1415709732 & 3 & 42.39536 & -71.07730 & 1 & 1 & 2020\\\\\n",
       "\t 2020-01-01 00:00:21 & 1415709733 & 2 & 42.36115 & -71.06208 & 1 & 1 & 2020\\\\\n",
       "\t 2020-01-01 00:01:01 & 1415709734 & 2 & 42.36923 & -71.03944 & 1 & 1 & 2020\\\\\n",
       "\t 2020-01-01 00:00:11 & 1415709736 & 3 & 42.42462 & -71.07519 & 1 & 1 & 2020\\\\\n",
       "\t 2020-01-01 00:00:10 & 1415709737 & 1 & 42.33022 & -71.05700 & 1 & 1 & 2020\\\\\n",
       "\t 2020-01-01 00:05:47 & 1415709739 & 3 & 42.43649 & -71.07094 & 1 & 1 & 2020\\\\\n",
       "\t 2020-01-01 00:04:58 & 1415709742 & 3 & 42.42861 & -71.07350 & 1 & 1 & 2020\\\\\n",
       "\t 2020-01-01 00:00:37 & 1415709749 & 1 & 42.32233 & -71.05275 & 1 & 1 & 2020\\\\\n",
       "\t 2020-01-01 00:00:16 & 1415709751 & 2 & 42.38632 & -71.00652 & 1 & 1 & 2020\\\\\n",
       "\t 2020-01-01 00:00:35 & 1415709753 & 3 & 42.39404 & -71.07723 & 1 & 1 & 2020\\\\\n",
       "\t 2020-01-01 00:00:14 & 1415709781 & 3 & 42.43589 & -71.07110 & 1 & 1 & 2020\\\\\n",
       "\t 2020-01-01 00:00:20 & 1415709973 & 1 & 42.28643 & -71.06448 & 1 & 1 & 2020\\\\\n",
       "\t 2020-01-01 00:00:27 & 1415710047 & 1 & 42.37636 & -71.11910 & 1 & 1 & 2020\\\\\n",
       "\t 2020-01-01 00:00:36 & 1415710125 & 1 & 42.36525 & -71.10323 & 1 & 1 & 2020\\\\\n",
       "\t 2020-01-01 00:00:04 & 1415710171 & 3 & 42.31005 & -71.10796 & 1 & 1 & 2020\\\\\n",
       "\t 2020-01-01 00:00:18 & 1415710172 & 3 & 42.36912 & -71.06372 & 1 & 1 & 2020\\\\\n",
       "\t 2020-01-01 00:00:06 & 1415710236 & 2 & 42.35937 & -71.05298 & 1 & 1 & 2020\\\\\n",
       "\t 2020-01-01 00:00:32 & 1415710255 & 2 & 42.39601 & -70.99340 & 1 & 1 & 2020\\\\\n",
       "\t 2020-01-01 00:04:06 & 1415710273 & 2 & 42.41512 & -70.99082 & 1 & 1 & 2020\\\\\n",
       "\t 2020-01-01 00:00:31 & 1415710276 & 1 & 42.29076 & -71.06530 & 1 & 1 & 2020\\\\\n",
       "\t 2020-01-01 00:00:16 & 1415710309 & 1 & 42.35266 & -71.05536 & 1 & 1 & 2020\\\\\n",
       "\t 2020-01-01 00:00:42 & 1415710312 & 1 & 42.37230 & -71.11585 & 1 & 1 & 2020\\\\\n",
       "\t 2020-01-01 00:00:08 & 1415710327 & 1 & 42.37246 & -71.11586 & 1 & 1 & 2020\\\\\n",
       "\t 2020-01-01 00:00:19 & 1415710358 & 1 & 42.36126 & -71.07162 & 1 & 1 & 2020\\\\\n",
       "\t 2020-01-01 00:00:32 & 1415710505 & 3 & 42.35406 & -71.06190 & 1 & 1 & 2020\\\\\n",
       "\t 2020-01-01 00:00:25 & 1415710566 & 1 & 42.35591 & -71.06149 & 1 & 1 & 2020\\\\\n",
       "\t 2020-01-01 00:00:52 & 1415710986 & 1 & 42.33170 & -71.05700 & 1 & 1 & 2020\\\\\n",
       "\t 2020-01-01 00:06:19 & 1415711051 & 3 & 42.40370 & -71.07738 & 1 & 1 & 2020\\\\\n",
       "\\end{tabular}\n"
      ],
      "text/markdown": [
       "\n",
       "A data.table: 9902 × 8\n",
       "\n",
       "| trxtime &lt;chr&gt; | trainid &lt;int&gt; | lineid &lt;int&gt; | lat &lt;dbl&gt; | lon &lt;dbl&gt; | day &lt;int&gt; | month &lt;dbl&gt; | year &lt;dbl&gt; |\n",
       "|---|---|---|---|---|---|---|---|\n",
       "| 2019-01-01 04:00:00 | 10001 | 4 | 42.33701 | -71.25349 | 1 | 1 | 2019 |\n",
       "| 2019-01-01 04:00:01 | 10002 | 4 | 42.33668 | -71.25398 | 1 | 1 | 2019 |\n",
       "| 2019-01-01 04:00:01 | 10003 | 4 | 42.33623 | -71.25426 | 1 | 1 | 2019 |\n",
       "| 2019-01-01 04:00:02 | 10004 | 4 | 42.33689 | -71.25384 | 1 | 1 | 2019 |\n",
       "| 2019-01-01 03:57:15 | 10005 | 4 | 42.33569 | -71.25421 | 1 | 1 | 2019 |\n",
       "| 2019-01-01 04:00:03 | 10006 | 4 | 42.33645 | -71.25413 | 1 | 1 | 2019 |\n",
       "| 2019-01-01 04:00:12 | 10007 | 4 | 42.33584 | -71.14817 | 1 | 1 | 2019 |\n",
       "| 2019-01-01 04:05:31 | 10008 | 4 | 42.33680 | -71.25352 | 1 | 1 | 2019 |\n",
       "| 2019-01-01 04:09:23 | 10009 | 4 | 42.33591 | -71.25405 | 1 | 1 | 2019 |\n",
       "| 2019-01-01 04:16:27 | 10010 | 4 | 42.33728 | -71.25358 | 1 | 1 | 2019 |\n",
       "| 2019-01-01 04:23:09 | 10011 | 4 | 42.33668 | -71.25398 | 1 | 1 | 2019 |\n",
       "| 2019-01-01 03:00:21 | 10012 | 4 | 42.33728 | -71.25358 | 1 | 1 | 2019 |\n",
       "| 2019-01-01 05:13:38 | 10013 | 4 | 42.33546 | -71.14940 | 1 | 1 | 2019 |\n",
       "| 2019-01-01 05:18:19 | 10014 | 4 | 42.33658 | -71.25367 | 1 | 1 | 2019 |\n",
       "| 2019-01-01 05:21:49 | 10015 | 4 | 42.34012 | -71.16402 | 1 | 1 | 2019 |\n",
       "| 2019-01-01 05:22:55 | 10016 | 4 | 42.33728 | -71.25358 | 1 | 1 | 2019 |\n",
       "| 2019-01-01 05:25:18 | 10017 | 4 | 42.33692 | -71.25150 | 1 | 1 | 2019 |\n",
       "| 2019-01-01 05:32:41 | 10018 | 4 | 42.33998 | -71.16642 | 1 | 1 | 2019 |\n",
       "| 2019-01-01 05:32:43 | 10019 | 4 | 42.33641 | -71.14817 | 1 | 1 | 2019 |\n",
       "| 2019-01-01 05:35:22 | 10020 | 4 | 42.37061 | -71.07579 | 1 | 1 | 2019 |\n",
       "| 2019-01-01 05:40:09 | 10021 | 4 | 42.33649 | -71.25061 | 1 | 1 | 2019 |\n",
       "| 2019-01-01 05:41:54 | 10022 | 4 | 42.33641 | -71.14817 | 1 | 1 | 2019 |\n",
       "| 2019-01-01 05:44:46 | 10023 | 4 | 42.34012 | -71.16402 | 1 | 1 | 2019 |\n",
       "| 2019-01-01 05:45:10 | 10024 | 4 | 42.33635 | -71.25379 | 1 | 1 | 2019 |\n",
       "| 2019-01-01 05:47:17 | 10025 | 4 | 42.33635 | -71.25379 | 1 | 1 | 2019 |\n",
       "| 2019-01-01 05:51:31 | 10026 | 4 | 42.37061 | -71.07579 | 1 | 1 | 2019 |\n",
       "| 2019-01-01 05:51:38 | 10027 | 4 | 42.33613 | -71.25391 | 1 | 1 | 2019 |\n",
       "| 2019-01-01 06:11:45 | 10028 | 4 |  0.00000 |   0.00000 | 1 | 1 | 2019 |\n",
       "| 2019-01-01 05:53:34 | 10029 | 4 | 42.33649 | -71.25061 | 1 | 1 | 2019 |\n",
       "| 2019-01-01 05:53:37 | 10030 | 4 | 42.33641 | -71.14817 | 1 | 1 | 2019 |\n",
       "| ... | ... | ... | ... | ... | ... | ... | ... |\n",
       "| 2020-01-01 00:00:37 | 1415709726 | 2 | 42.37435 | -71.03017 | 1 | 1 | 2020 |\n",
       "| 2020-01-01 00:00:20 | 1415709731 | 1 | 42.28323 | -71.06299 | 1 | 1 | 2020 |\n",
       "| 2020-01-01 00:00:09 | 1415709732 | 3 | 42.39536 | -71.07730 | 1 | 1 | 2020 |\n",
       "| 2020-01-01 00:00:21 | 1415709733 | 2 | 42.36115 | -71.06208 | 1 | 1 | 2020 |\n",
       "| 2020-01-01 00:01:01 | 1415709734 | 2 | 42.36923 | -71.03944 | 1 | 1 | 2020 |\n",
       "| 2020-01-01 00:00:11 | 1415709736 | 3 | 42.42462 | -71.07519 | 1 | 1 | 2020 |\n",
       "| 2020-01-01 00:00:10 | 1415709737 | 1 | 42.33022 | -71.05700 | 1 | 1 | 2020 |\n",
       "| 2020-01-01 00:05:47 | 1415709739 | 3 | 42.43649 | -71.07094 | 1 | 1 | 2020 |\n",
       "| 2020-01-01 00:04:58 | 1415709742 | 3 | 42.42861 | -71.07350 | 1 | 1 | 2020 |\n",
       "| 2020-01-01 00:00:37 | 1415709749 | 1 | 42.32233 | -71.05275 | 1 | 1 | 2020 |\n",
       "| 2020-01-01 00:00:16 | 1415709751 | 2 | 42.38632 | -71.00652 | 1 | 1 | 2020 |\n",
       "| 2020-01-01 00:00:35 | 1415709753 | 3 | 42.39404 | -71.07723 | 1 | 1 | 2020 |\n",
       "| 2020-01-01 00:00:14 | 1415709781 | 3 | 42.43589 | -71.07110 | 1 | 1 | 2020 |\n",
       "| 2020-01-01 00:00:20 | 1415709973 | 1 | 42.28643 | -71.06448 | 1 | 1 | 2020 |\n",
       "| 2020-01-01 00:00:27 | 1415710047 | 1 | 42.37636 | -71.11910 | 1 | 1 | 2020 |\n",
       "| 2020-01-01 00:00:36 | 1415710125 | 1 | 42.36525 | -71.10323 | 1 | 1 | 2020 |\n",
       "| 2020-01-01 00:00:04 | 1415710171 | 3 | 42.31005 | -71.10796 | 1 | 1 | 2020 |\n",
       "| 2020-01-01 00:00:18 | 1415710172 | 3 | 42.36912 | -71.06372 | 1 | 1 | 2020 |\n",
       "| 2020-01-01 00:00:06 | 1415710236 | 2 | 42.35937 | -71.05298 | 1 | 1 | 2020 |\n",
       "| 2020-01-01 00:00:32 | 1415710255 | 2 | 42.39601 | -70.99340 | 1 | 1 | 2020 |\n",
       "| 2020-01-01 00:04:06 | 1415710273 | 2 | 42.41512 | -70.99082 | 1 | 1 | 2020 |\n",
       "| 2020-01-01 00:00:31 | 1415710276 | 1 | 42.29076 | -71.06530 | 1 | 1 | 2020 |\n",
       "| 2020-01-01 00:00:16 | 1415710309 | 1 | 42.35266 | -71.05536 | 1 | 1 | 2020 |\n",
       "| 2020-01-01 00:00:42 | 1415710312 | 1 | 42.37230 | -71.11585 | 1 | 1 | 2020 |\n",
       "| 2020-01-01 00:00:08 | 1415710327 | 1 | 42.37246 | -71.11586 | 1 | 1 | 2020 |\n",
       "| 2020-01-01 00:00:19 | 1415710358 | 1 | 42.36126 | -71.07162 | 1 | 1 | 2020 |\n",
       "| 2020-01-01 00:00:32 | 1415710505 | 3 | 42.35406 | -71.06190 | 1 | 1 | 2020 |\n",
       "| 2020-01-01 00:00:25 | 1415710566 | 1 | 42.35591 | -71.06149 | 1 | 1 | 2020 |\n",
       "| 2020-01-01 00:00:52 | 1415710986 | 1 | 42.33170 | -71.05700 | 1 | 1 | 2020 |\n",
       "| 2020-01-01 00:06:19 | 1415711051 | 3 | 42.40370 | -71.07738 | 1 | 1 | 2020 |\n",
       "\n"
      ],
      "text/plain": [
       "     trxtime             trainid    lineid lat      lon       day month year\n",
       "1    2019-01-01 04:00:00 10001      4      42.33701 -71.25349 1   1     2019\n",
       "2    2019-01-01 04:00:01 10002      4      42.33668 -71.25398 1   1     2019\n",
       "3    2019-01-01 04:00:01 10003      4      42.33623 -71.25426 1   1     2019\n",
       "4    2019-01-01 04:00:02 10004      4      42.33689 -71.25384 1   1     2019\n",
       "5    2019-01-01 03:57:15 10005      4      42.33569 -71.25421 1   1     2019\n",
       "6    2019-01-01 04:00:03 10006      4      42.33645 -71.25413 1   1     2019\n",
       "7    2019-01-01 04:00:12 10007      4      42.33584 -71.14817 1   1     2019\n",
       "8    2019-01-01 04:05:31 10008      4      42.33680 -71.25352 1   1     2019\n",
       "9    2019-01-01 04:09:23 10009      4      42.33591 -71.25405 1   1     2019\n",
       "10   2019-01-01 04:16:27 10010      4      42.33728 -71.25358 1   1     2019\n",
       "11   2019-01-01 04:23:09 10011      4      42.33668 -71.25398 1   1     2019\n",
       "12   2019-01-01 03:00:21 10012      4      42.33728 -71.25358 1   1     2019\n",
       "13   2019-01-01 05:13:38 10013      4      42.33546 -71.14940 1   1     2019\n",
       "14   2019-01-01 05:18:19 10014      4      42.33658 -71.25367 1   1     2019\n",
       "15   2019-01-01 05:21:49 10015      4      42.34012 -71.16402 1   1     2019\n",
       "16   2019-01-01 05:22:55 10016      4      42.33728 -71.25358 1   1     2019\n",
       "17   2019-01-01 05:25:18 10017      4      42.33692 -71.25150 1   1     2019\n",
       "18   2019-01-01 05:32:41 10018      4      42.33998 -71.16642 1   1     2019\n",
       "19   2019-01-01 05:32:43 10019      4      42.33641 -71.14817 1   1     2019\n",
       "20   2019-01-01 05:35:22 10020      4      42.37061 -71.07579 1   1     2019\n",
       "21   2019-01-01 05:40:09 10021      4      42.33649 -71.25061 1   1     2019\n",
       "22   2019-01-01 05:41:54 10022      4      42.33641 -71.14817 1   1     2019\n",
       "23   2019-01-01 05:44:46 10023      4      42.34012 -71.16402 1   1     2019\n",
       "24   2019-01-01 05:45:10 10024      4      42.33635 -71.25379 1   1     2019\n",
       "25   2019-01-01 05:47:17 10025      4      42.33635 -71.25379 1   1     2019\n",
       "26   2019-01-01 05:51:31 10026      4      42.37061 -71.07579 1   1     2019\n",
       "27   2019-01-01 05:51:38 10027      4      42.33613 -71.25391 1   1     2019\n",
       "28   2019-01-01 06:11:45 10028      4       0.00000   0.00000 1   1     2019\n",
       "29   2019-01-01 05:53:34 10029      4      42.33649 -71.25061 1   1     2019\n",
       "30   2019-01-01 05:53:37 10030      4      42.33641 -71.14817 1   1     2019\n",
       "...  ...                 ...        ...    ...      ...       ... ...   ... \n",
       "9873 2020-01-01 00:00:37 1415709726 2      42.37435 -71.03017 1   1     2020\n",
       "9874 2020-01-01 00:00:20 1415709731 1      42.28323 -71.06299 1   1     2020\n",
       "9875 2020-01-01 00:00:09 1415709732 3      42.39536 -71.07730 1   1     2020\n",
       "9876 2020-01-01 00:00:21 1415709733 2      42.36115 -71.06208 1   1     2020\n",
       "9877 2020-01-01 00:01:01 1415709734 2      42.36923 -71.03944 1   1     2020\n",
       "9878 2020-01-01 00:00:11 1415709736 3      42.42462 -71.07519 1   1     2020\n",
       "9879 2020-01-01 00:00:10 1415709737 1      42.33022 -71.05700 1   1     2020\n",
       "9880 2020-01-01 00:05:47 1415709739 3      42.43649 -71.07094 1   1     2020\n",
       "9881 2020-01-01 00:04:58 1415709742 3      42.42861 -71.07350 1   1     2020\n",
       "9882 2020-01-01 00:00:37 1415709749 1      42.32233 -71.05275 1   1     2020\n",
       "9883 2020-01-01 00:00:16 1415709751 2      42.38632 -71.00652 1   1     2020\n",
       "9884 2020-01-01 00:00:35 1415709753 3      42.39404 -71.07723 1   1     2020\n",
       "9885 2020-01-01 00:00:14 1415709781 3      42.43589 -71.07110 1   1     2020\n",
       "9886 2020-01-01 00:00:20 1415709973 1      42.28643 -71.06448 1   1     2020\n",
       "9887 2020-01-01 00:00:27 1415710047 1      42.37636 -71.11910 1   1     2020\n",
       "9888 2020-01-01 00:00:36 1415710125 1      42.36525 -71.10323 1   1     2020\n",
       "9889 2020-01-01 00:00:04 1415710171 3      42.31005 -71.10796 1   1     2020\n",
       "9890 2020-01-01 00:00:18 1415710172 3      42.36912 -71.06372 1   1     2020\n",
       "9891 2020-01-01 00:00:06 1415710236 2      42.35937 -71.05298 1   1     2020\n",
       "9892 2020-01-01 00:00:32 1415710255 2      42.39601 -70.99340 1   1     2020\n",
       "9893 2020-01-01 00:04:06 1415710273 2      42.41512 -70.99082 1   1     2020\n",
       "9894 2020-01-01 00:00:31 1415710276 1      42.29076 -71.06530 1   1     2020\n",
       "9895 2020-01-01 00:00:16 1415710309 1      42.35266 -71.05536 1   1     2020\n",
       "9896 2020-01-01 00:00:42 1415710312 1      42.37230 -71.11585 1   1     2020\n",
       "9897 2020-01-01 00:00:08 1415710327 1      42.37246 -71.11586 1   1     2020\n",
       "9898 2020-01-01 00:00:19 1415710358 1      42.36126 -71.07162 1   1     2020\n",
       "9899 2020-01-01 00:00:32 1415710505 3      42.35406 -71.06190 1   1     2020\n",
       "9900 2020-01-01 00:00:25 1415710566 1      42.35591 -71.06149 1   1     2020\n",
       "9901 2020-01-01 00:00:52 1415710986 1      42.33170 -71.05700 1   1     2020\n",
       "9902 2020-01-01 00:06:19 1415711051 3      42.40370 -71.07738 1   1     2020"
      ]
     },
     "metadata": {},
     "output_type": "display_data"
    }
   ],
   "source": [
    "d_test"
   ]
  },
  {
   "cell_type": "code",
   "execution_count": null,
   "metadata": {},
   "outputs": [],
   "source": [
    "compute_trajectory(d_test)"
   ]
  },
  {
   "cell_type": "code",
   "execution_count": 88,
   "metadata": {},
   "outputs": [
    {
     "data": {
      "text/html": [],
      "text/latex": [],
      "text/markdown": [],
      "text/plain": [
       "<0 x 0 matrix>"
      ]
     },
     "metadata": {},
     "output_type": "display_data"
    }
   ],
   "source": [
    "d_test_result "
   ]
  },
  {
   "cell_type": "markdown",
   "metadata": {},
   "source": [
    "### Experimental section"
   ]
  },
  {
   "cell_type": "code",
   "execution_count": null,
   "metadata": {},
   "outputs": [],
   "source": [
    "#  # Count the row numbers which lat and lon are NA\n",
    "#      df_na = df[(is.na(data$lon)) | (is.na(data$lat)),]\n",
    "#      number_na = nrow(df_na)"
   ]
  },
  {
   "cell_type": "code",
   "execution_count": null,
   "metadata": {},
   "outputs": [],
   "source": [
    "# # Process value correction\n",
    "#         for(k in 2:n) { \n",
    "#                 # revise the incorrect values \n",
    "#                 if (!(is.na(d$speed_kph[k]))) {\n",
    "#                     if (d$speed_kph[k] > 128 ){\n",
    "#                        # the reference link is here:\n",
    "#                        # https://www.masslive.com/worcester/2019/09/electrified-faster-and-more-trains-7-ways-the-mbtas-commuter-rail-service-could-be-a-lot-better.html\n",
    "#                          if(k==3){d$speed_kph[k] = d$speed_kph[k+1]}\n",
    "#                          else{\n",
    "#                         d$speed_kph[k] = (d$speed_kph[k-1] + d$speed_kph[k+1] )/2\n",
    "#                         d$speed_mps[k] = d$speed_kph[k] / 3.6\n",
    "#                         d$accel_mps2[k] = (d$speed_mps[k]-d$speed_mps[k-1]) / d$interval_seconds[k]\n",
    "#                         d$dist_meters[k] = d$speed_mps[k] * d$interval_seconds[k]}\n",
    "#                         else if (k == nrows(d)){d$speed_kph[k] = d$speed_kph[k-1]}\n",
    "#                     }\n",
    "#                 }\n",
    "#     }        "
   ]
  }
 ],
 "metadata": {
  "kernelspec": {
   "display_name": "R",
   "language": "R",
   "name": "ir"
  },
  "language_info": {
   "codemirror_mode": "r",
   "file_extension": ".r",
   "mimetype": "text/x-r-source",
   "name": "R",
   "pygments_lexer": "r",
   "version": "3.6.2"
  }
 },
 "nbformat": 4,
 "nbformat_minor": 4
}
