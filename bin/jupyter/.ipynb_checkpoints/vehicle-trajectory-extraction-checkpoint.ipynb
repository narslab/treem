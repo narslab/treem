{
 "cells": [
  {
   "cell_type": "markdown",
   "metadata": {},
   "source": [
    "# MBTA database connection and data extraction\n",
    "## Location data"
   ]
  },
  {
   "cell_type": "code",
   "execution_count": 7,
   "metadata": {},
   "outputs": [],
   "source": [
    "library(DBI)\n",
    "# Input the credential files for accessing database\n",
    "CERT = \"D:/MBTA/movement/postgresql/zhuohan.crt\"\n",
    "KEY = \"D:/MBTA/movement/postgresql/zhuohan.key\"\n",
    "ROOTCERT = \"D:/MBTA/movement/postgresql/root-ca.crt\"\n",
    "USER = \"zhuohan\"\n",
    "PASSWORD = \"5irmwhg382aae\"\n",
    "con <- dbConnect(RPostgres::Postgres(), host=\"mbta01.mghpcc.org\", port=\"5432\", dbname = \"mbta_dw\",\n",
    "                     sslcert = CERT, sslkey = KEY, sslrootcert = ROOTCERT,\n",
    "                     sslmode=\"verify-full\", user = USER, password = PASSWORD)\n",
    "# Input months and years here\n",
    "MONTHS_TO_EXTRACT = c('01', '02', '03', '04', '05', '06', '07', '08', '09', '10', '11', '12')\n",
    "YEARS_TO_EXTRACT = c('19')"
   ]
  },
  {
   "cell_type": "code",
   "execution_count": 5,
   "metadata": {},
   "outputs": [],
   "source": [
    "# Extract the data as given month,year and rail type\n",
    "query_location_table = function(month, year, rail_type){\n",
    "    query = dbSendQuery(con,statement = paste(\"SELECT *\",\"FROM\",\"ttr.\",\n",
    "                                           paste(rail_type, \"location\", year, month, sep = \"\",collapse = \"\")))\n",
    "    return(query)\n",
    "}\n",
    "read_tables_to_file <- function(month, year) {\n",
    "    for (type in c(\"lightrail\", \"heavyrail\")) {\n",
    "        rs = query_location_table(month, year, type)\n",
    "        df = dbFetch(rs, n = -1)\n",
    "        filename = paste(type, \"trajectories\", month, year, \".csv\", sep = \"-\", collapse = \"\")\n",
    "        write.csv(df, file.path(\"../../data/raw/vehicle-location\", filename), row.names = FALSE)\n",
    "        dbClearResult(rs)\n",
    "        }\n",
    "}"
   ]
  },
  {
   "cell_type": "code",
   "execution_count": 6,
   "metadata": {},
   "outputs": [],
   "source": [
    "extract_locations_by_month_year <- function(monthlist, yearlist) {\n",
    "    for (yy in yearlist) {\n",
    "        for (mm in monthlist){\n",
    "            read_tables_to_file(mm, yy)\n",
    "        }\n",
    "    }\n",
    "    dbDisconnect(con)     #close connetion\n",
    "}\n"
   ]
  },
  {
   "cell_type": "code",
   "execution_count": 10,
   "metadata": {},
   "outputs": [
    {
     "name": "stderr",
     "output_type": "stream",
     "text": [
      "Warning message in result_create(conn@ptr, statement):\n",
      "\"Closing open result set, cancelling previous query\"\n"
     ]
    }
   ],
   "source": [
    "extract_locations_by_month_year(MONTHS_TO_EXTRACT, YEARS_TO_EXTRACT)"
   ]
  },
  {
   "cell_type": "code",
   "execution_count": null,
   "metadata": {},
   "outputs": [],
   "source": [
    "# if (!interactive()) {\n",
    "#   extract_locations_by_month_year(MONTHS_TO_EXTRACT, YEARS_TO_EXTRACT)\n",
    "# }"
   ]
  }
 ],
 "metadata": {
  "kernelspec": {
   "display_name": "R",
   "language": "R",
   "name": "ir"
  },
  "language_info": {
   "codemirror_mode": "r",
   "file_extension": ".r",
   "mimetype": "text/x-r-source",
   "name": "R",
   "pygments_lexer": "r",
   "version": "3.6.2"
  }
 },
 "nbformat": 4,
 "nbformat_minor": 4
}
