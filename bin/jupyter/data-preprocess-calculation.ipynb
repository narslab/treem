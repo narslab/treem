{
 "cells": [
  {
   "cell_type": "markdown",
   "metadata": {},
   "source": [
    "# Data preprocessing and model preparation\n",
    "## Vehicle distance,acceleration and speed calculation"
   ]
  },
  {
   "cell_type": "code",
   "execution_count": null,
   "metadata": {},
   "outputs": [],
   "source": [
    "library(data.table) #fread\n",
    "library(lubridate)\n",
    "library(dplyr)\n",
    "library(geosphere) # Calculate vehicle distance"
   ]
  },
  {
   "cell_type": "code",
   "execution_count": null,
   "metadata": {},
   "outputs": [],
   "source": [
    "# adjust the R limit\n",
    "memory.limit(size=249200)"
   ]
  },
  {
   "cell_type": "markdown",
   "metadata": {},
   "source": [
    "### Input location data and process calculation"
   ]
  },
  {
   "cell_type": "code",
   "execution_count": null,
   "metadata": {},
   "outputs": [],
   "source": [
    "# Choose the time nad line which will be investigated\n",
    "month = 03\n",
    "year = 20\n",
    "rail = \"heavy\""
   ]
  },
  {
   "cell_type": "code",
   "execution_count": null,
   "metadata": {
    "scrolled": true
   },
   "outputs": [],
   "source": [
    "df = read.csv(paste(\"../../data/raw/Orginal  table/\",\n",
    "            paste(\"ttr.\",paste(rail,\"location\",year,month,sep = \"\",collapse = \"\"),sep = \"\",collapse = \"\")sep = \"\",collapse = \"\"),header = TRUE, na.strings =0)\n",
    "df$Day = day(df$trxtime)\n",
    "# Duplicate the heavy rail table\n",
    "if(rail = \"heavy\"){ dr = subsetf,df$lineid==1)\n",
    "                    db = subset(df,df$lineid==2)\n",
    "                    do = subset(df,df$lineid==3)}\n",
    "else{\n",
    "    dg = df\n",
    "}\n",
    "# Data preprocessing\n",
    "data_pre = function(df){\n",
    "     data = data.frame(time=df$trxtime, Day=df$Day, trainid=df$trainid, route=df$routeid, lat=df$lat, lon=df$lon)\n",
    "     data = data[!(is.na(data$lon)) | !(is.na(data$lat)),] #remove the rows with values of lat and lon are 0\n",
    "     data = data[order(data$trainid, data$time),]\n",
    "     data = distinct(data, time, trainid, route, .keep_all = TRUE) # Remove the duplicated time record\n",
    "    return(data)\n",
    "}"
   ]
  },
  {
   "cell_type": "code",
   "execution_count": null,
   "metadata": {},
   "outputs": [],
   "source": [
    "# Get ready for calculation\n",
    "dr = data_pre(dr)\n",
    "db = data_pre(db)\n",
    "do = data_pre(do)\n",
    "dg = data_pre(dg)"
   ]
  },
  {
   "cell_type": "code",
   "execution_count": null,
   "metadata": {},
   "outputs": [],
   "source": [
    "# Function to compute distances (D), speeds (S) and acceleration (A) in meters, meters per second, km per hour and m s^-2\n",
    "computeDSA <- function(d) {\n",
    "    d$dist=NA\n",
    "    d$timeinterval=NA\n",
    "    d$mps=NA\n",
    "    d$kph=NA\n",
    "    d$acc=NA\n",
    "    d$line = 4\n",
    "    n <- nrow(d)\n",
    "    if (n >= 2) {\n",
    "        d$dist[2:n] = distHaversine(cbind(d$lon[1:n-1],d$lat[1:n-1]),cbind(d$lon[2:n],d$lat[2:n]))\n",
    "        d$timeinterval[2:n] = as.numeric(difftime(d$time[2:n], d$time[1:n-1], units = \"secs\"))\n",
    "        d$mps[2:n] = d$dist[2:n] / d$timeinterval[2:n]\n",
    "        d$kph[2:n] = d$mps[2:n]*3.6\n",
    "        d$acc[2:n] = (d$mps[2:n] - d$mps[1:n-1])/d$timeinterval[2:n]\n",
    "        for(k in 2:n) { \n",
    "                # revise the incorrect values \n",
    "                if (!(is.na(d$kph[k]))) {\n",
    "                    if (d$kph[k] > 70 ) {\n",
    "                        d$kph[k] = d$kph[k-1]\n",
    "                        d$mps[k] = d$kph[k] / 3.6\n",
    "                        d$acc[k] = (d$mps[k]-d$mps[k-1]) / d$timeinterval[k]\n",
    "                        d$dist[k] = d$mps[k] * d$timeinterval[k] \n",
    "                    }\n",
    "                }\n",
    "            }\n",
    "        }    \n",
    "    return(d)\n",
    "}"
   ]
  },
  {
   "cell_type": "code",
   "execution_count": null,
   "metadata": {},
   "outputs": [],
   "source": [
    "# Process calculation for four lines\n",
    "results.df = data.frame() # empty dataframe\n",
    "Month_calculation = function(data){\n",
    "for(i in unique(data$Day)) { \n",
    "    if (i <= 31) { #Change this to 15 so we get half the month\n",
    "        data.day <- data[data$Day == i, ]\n",
    "        for (j in unique(data.day$trainid)) {# Put each train in one loop in a subset\n",
    "            data.day.train = data.day[data.day$trainid == j, ]        \n",
    "            results <- computeDSA(data.day.train) # Process data with only one row separately        \n",
    "            results.df <- rbind(results.df, results) # put all the results in one table\n",
    "        }\n",
    "     }\n",
    "  }\n",
    "}\n",
    "write.csv(x=results.df,file.path(\"../../data/tidy/Calculated Table\", paste(rail,\"rail_distances_\",paste(year,month,sep = \"\",collapse = \"\"),\".csv\",sep = \"\",collapse = \"\")))"
   ]
  },
  {
   "cell_type": "markdown",
   "metadata": {},
   "source": [
    "### Combine four lines as one table and ready for model"
   ]
  },
  {
   "cell_type": "code",
   "execution_count": 4,
   "metadata": {},
   "outputs": [],
   "source": [
    "# Read distance calculation data\n",
    "yearlist = c('19')\n",
    "monthlist = c(\"01\", \"02\", \"03\", \"04\", \"05\", \"06\", \"07\", \"08\", \"09\", \"10\", \"11\", \"12\") #FOR FULL TABLE\n",
    "heavyrail_distance_filepath = \"../../data/tidy/Heavy line movement/Calculated table/\"\n",
    "lightrail_distance_filepath = \"../../data/tidy/Green line movement/Calculated Table/\"\n",
    "for (year in yearlist) {\n",
    "    for (month in monthlist) {\n",
    "        assign(paste(\"dr\", year, month, sep=\"\"), fread(paste(heavyrail_distance_filepath, \"heavyrailred_distances_\", year, month, \".csv\", sep=\"\")))\n",
    "        assign(paste(\"db\", year, month, sep=\"\"), fread(paste(heavyrail_distance_filepath, \"heavyrailblue_distances_\", year, month, \".csv\", sep=\"\")))\n",
    "        assign(paste(\"do\", year, month, sep=\"\"), fread(paste(heavyrail_distance_filepath, \"heavyrailorange_distances_\", year, month, \".csv\", sep=\"\")))\n",
    "        assign(paste(\"dg\", year, month, sep=\"\"), fread(paste(lightrail_distance_filepath, \"lightrail_distances_\", year, month, \".csv\", sep=\"\")))\n",
    "    }\n",
    "}"
   ]
  },
  {
   "cell_type": "code",
   "execution_count": 8,
   "metadata": {},
   "outputs": [],
   "source": [
    "# Combine the 4 line table\n",
    "dg = rbind(dg1901,dg1902,dg1903,dg1904,dg1905,dg1906,dg1907,dg1908,dg1909,dg1910,dg1911,dg1912)\n",
    "write.csv(dg,'../../data/tidy/green-vehicle-trajectories-2019.csv')\n",
    "dr = rbind(dr1901,dr1902,dr1903,dr1904,dr1905,dr1906,dr1907,dr1908,dr1909,dr1910,dr1911,dr1912)\n",
    "write.csv(dr,'../../data/tidy/red-vehicle-trajectories-2019.csv')\n",
    "do = rbind(do1901,do1902,do1903,do1904,do1905,do1906,do1907,do1908,do1909,do1910,do1911,do1912)\n",
    "write.csv(do,'../../data/tidy/orange-vehicle-trajectories-2019.csv')\n",
    "db = rbind(db1901,db1902,db1903,db1904,db1905,db1906,db1907,db1908,db1909,db1910,db1911,db1912)\n",
    "write.csv(db,'../../data/tidy/blue-vehicle-trajectories-2019.csv')"
   ]
  },
  {
   "cell_type": "code",
   "execution_count": null,
   "metadata": {},
   "outputs": [],
   "source": [
    "# Add  month column \n",
    "dg$Month = month(dg$time)\n",
    "do$Month = month(do$time)\n",
    "dr$Month = month(dr$time)\n",
    "db$Month = month(db$time)\n",
    "# Add Day column \n",
    "dg$Day = day(dg$time)\n",
    "do$Day = day(do$time)\n",
    "dr$Day = day(dr$time)\n",
    "db$Day = day(db$time)\n",
    "# Add hour column \n",
    "dg$Hour = hour(dg$time)\n",
    "do$Hour = hour(do$time)\n",
    "dr$Hour = hour(dr$time)\n",
    "db$Hour = hour(db$time)"
   ]
  },
  {
   "cell_type": "code",
   "execution_count": null,
   "metadata": {},
   "outputs": [],
   "source": [
    "# Remove the route column of Green line for the combination of tables of 4 lines\n",
    "dg = subset(dg,select= -route)"
   ]
  },
  {
   "cell_type": "code",
   "execution_count": null,
   "metadata": {},
   "outputs": [],
   "source": [
    "interval_df = rbind(dg,dr,do,db) #combine interval data for all lines"
   ]
  },
  {
   "cell_type": "code",
   "execution_count": null,
   "metadata": {},
   "outputs": [],
   "source": [
    "write.csv(interval_df,paste(\"../../data/tidy/\",\"train-trajectories-\",year,\".csv\",sep = \"\",collapse = \"\"))"
   ]
  }
 ],
 "metadata": {
  "kernelspec": {
   "display_name": "R",
   "language": "R",
   "name": "ir"
  },
  "language_info": {
   "codemirror_mode": "r",
   "file_extension": ".r",
   "mimetype": "text/x-r-source",
   "name": "R",
   "pygments_lexer": "r",
   "version": "3.6.2"
  }
 },
 "nbformat": 4,
 "nbformat_minor": 4
}
