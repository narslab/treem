{
 "cells": [
  {
   "cell_type": "markdown",
   "metadata": {},
   "source": [
    "# MBTA TREEM Project Energy Consumption Data Exploration"
   ]
  },
  {
   "cell_type": "code",
   "execution_count": 1,
   "metadata": {
    "collapsed": true,
    "jupyter": {
     "outputs_hidden": true
    }
   },
   "outputs": [
    {
     "name": "stderr",
     "output_type": "stream",
     "text": [
      "Warning message:\n",
      "\"package 'ggplot2' was built under R version 3.6.3\"\n",
      "Warning message:\n",
      "\"package 'dplyr' was built under R version 3.6.3\"\n",
      "\n",
      "Attaching package: 'dplyr'\n",
      "\n",
      "\n",
      "The following objects are masked from 'package:stats':\n",
      "\n",
      "    filter, lag\n",
      "\n",
      "\n",
      "The following objects are masked from 'package:base':\n",
      "\n",
      "    intersect, setdiff, setequal, union\n",
      "\n",
      "\n",
      "\n",
      "Attaching package: 'lubridate'\n",
      "\n",
      "\n",
      "The following object is masked from 'package:base':\n",
      "\n",
      "    date\n",
      "\n",
      "\n",
      "Warning message:\n",
      "\"package 'xts' was built under R version 3.6.3\"\n",
      "Loading required package: zoo\n",
      "\n",
      "Warning message:\n",
      "\"package 'zoo' was built under R version 3.6.3\"\n",
      "\n",
      "Attaching package: 'zoo'\n",
      "\n",
      "\n",
      "The following objects are masked from 'package:base':\n",
      "\n",
      "    as.Date, as.Date.numeric\n",
      "\n",
      "\n",
      "\n",
      "Attaching package: 'xts'\n",
      "\n",
      "\n",
      "The following objects are masked from 'package:dplyr':\n",
      "\n",
      "    first, last\n",
      "\n",
      "\n",
      "Warning message:\n",
      "\"package 'reshape2' was built under R version 3.6.3\"\n",
      "Warning message:\n",
      "\"package 'numform' was built under R version 3.6.3\"\n",
      "\n",
      "Attaching package: 'numform'\n",
      "\n",
      "\n",
      "The following object is masked from 'package:dplyr':\n",
      "\n",
      "    collapse\n",
      "\n",
      "\n",
      "-- \u001b[1mAttaching packages\u001b[22m ------------------------------------------------------------------------------- tidyverse 1.3.0 --\n",
      "\n",
      "\u001b[32mv\u001b[39m \u001b[34mtibble \u001b[39m 3.1.1     \u001b[32mv\u001b[39m \u001b[34mpurrr  \u001b[39m 0.3.3\n",
      "\u001b[32mv\u001b[39m \u001b[34mtidyr  \u001b[39m 1.1.3     \u001b[32mv\u001b[39m \u001b[34mstringr\u001b[39m 1.4.0\n",
      "\u001b[32mv\u001b[39m \u001b[34mreadr  \u001b[39m 1.4.0     \u001b[32mv\u001b[39m \u001b[34mforcats\u001b[39m 0.5.1\n",
      "\n",
      "Warning message:\n",
      "\"package 'tibble' was built under R version 3.6.3\"\n",
      "Warning message:\n",
      "\"package 'tidyr' was built under R version 3.6.3\"\n",
      "Warning message:\n",
      "\"package 'readr' was built under R version 3.6.3\"\n",
      "Warning message:\n",
      "\"package 'forcats' was built under R version 3.6.3\"\n",
      "-- \u001b[1mConflicts\u001b[22m ---------------------------------------------------------------------------------- tidyverse_conflicts() --\n",
      "\u001b[31mx\u001b[39m \u001b[34mlubridate\u001b[39m::\u001b[32mas.difftime()\u001b[39m masks \u001b[34mbase\u001b[39m::as.difftime()\n",
      "\u001b[31mx\u001b[39m \u001b[34mforcats\u001b[39m::\u001b[32mas_factor()\u001b[39m     masks \u001b[34mnumform\u001b[39m::as_factor()\n",
      "\u001b[31mx\u001b[39m \u001b[34mnumform\u001b[39m::\u001b[32mcollapse()\u001b[39m      masks \u001b[34mdplyr\u001b[39m::collapse()\n",
      "\u001b[31mx\u001b[39m \u001b[34mlubridate\u001b[39m::\u001b[32mdate()\u001b[39m        masks \u001b[34mbase\u001b[39m::date()\n",
      "\u001b[31mx\u001b[39m \u001b[34mdplyr\u001b[39m::\u001b[32mfilter()\u001b[39m          masks \u001b[34mstats\u001b[39m::filter()\n",
      "\u001b[31mx\u001b[39m \u001b[34mxts\u001b[39m::\u001b[32mfirst()\u001b[39m             masks \u001b[34mdplyr\u001b[39m::first()\n",
      "\u001b[31mx\u001b[39m \u001b[34mlubridate\u001b[39m::\u001b[32mintersect()\u001b[39m   masks \u001b[34mbase\u001b[39m::intersect()\n",
      "\u001b[31mx\u001b[39m \u001b[34mdplyr\u001b[39m::\u001b[32mlag()\u001b[39m             masks \u001b[34mstats\u001b[39m::lag()\n",
      "\u001b[31mx\u001b[39m \u001b[34mxts\u001b[39m::\u001b[32mlast()\u001b[39m              masks \u001b[34mdplyr\u001b[39m::last()\n",
      "\u001b[31mx\u001b[39m \u001b[34mlubridate\u001b[39m::\u001b[32msetdiff()\u001b[39m     masks \u001b[34mbase\u001b[39m::setdiff()\n",
      "\u001b[31mx\u001b[39m \u001b[34mlubridate\u001b[39m::\u001b[32munion()\u001b[39m       masks \u001b[34mbase\u001b[39m::union()\n",
      "\n"
     ]
    }
   ],
   "source": [
    "#load data and related packages\n",
    "library(ggplot2)\n",
    "library(dplyr)\n",
    "library(lubridate)\n",
    "library(xts)\n",
    "library(reshape2)\n",
    "library(RColorBrewer)\n",
    "library(numform)\n",
    "library(gcookbook)\n",
    "library(tidyverse)\n",
    "wholedata_frame <- read.csv(\"../../data/raw/energy-consumption-08-20.csv\",header = TRUE\n",
    "                           #, na.strings =0\n",
    "                          )"
   ]
  },
  {
   "cell_type": "code",
   "execution_count": 177,
   "metadata": {
    "collapsed": true,
    "jupyter": {
     "outputs_hidden": true
    }
   },
   "outputs": [
    {
     "name": "stderr",
     "output_type": "stream",
     "text": [
      "-- \u001b[1mAttaching packages\u001b[22m ------------------------------------------------------------------------------- tidyverse 1.3.0 --\n",
      "\n",
      "\u001b[32mv\u001b[39m \u001b[34mtibble \u001b[39m 3.1.1     \u001b[32mv\u001b[39m \u001b[34mpurrr  \u001b[39m 0.3.3\n",
      "\u001b[32mv\u001b[39m \u001b[34mtidyr  \u001b[39m 1.1.3     \u001b[32mv\u001b[39m \u001b[34mstringr\u001b[39m 1.4.0\n",
      "\u001b[32mv\u001b[39m \u001b[34mreadr  \u001b[39m 1.4.0     \u001b[32mv\u001b[39m \u001b[34mforcats\u001b[39m 0.5.1\n",
      "\n",
      "Warning message:\n",
      "\"package 'tibble' was built under R version 3.6.3\"\n",
      "Warning message:\n",
      "\"package 'tidyr' was built under R version 3.6.3\"\n",
      "Warning message:\n",
      "\"package 'readr' was built under R version 3.6.3\"\n",
      "Warning message:\n",
      "\"package 'forcats' was built under R version 3.6.3\"\n",
      "-- \u001b[1mConflicts\u001b[22m ---------------------------------------------------------------------------------- tidyverse_conflicts() --\n",
      "\u001b[31mx\u001b[39m \u001b[34mlubridate\u001b[39m::\u001b[32mas.difftime()\u001b[39m masks \u001b[34mbase\u001b[39m::as.difftime()\n",
      "\u001b[31mx\u001b[39m \u001b[34mforcats\u001b[39m::\u001b[32mas_factor()\u001b[39m     masks \u001b[34mnumform\u001b[39m::as_factor()\n",
      "\u001b[31mx\u001b[39m \u001b[34mnumform\u001b[39m::\u001b[32mcollapse()\u001b[39m      masks \u001b[34mdplyr\u001b[39m::collapse()\n",
      "\u001b[31mx\u001b[39m \u001b[34mlubridate\u001b[39m::\u001b[32mdate()\u001b[39m        masks \u001b[34mbase\u001b[39m::date()\n",
      "\u001b[31mx\u001b[39m \u001b[34mdplyr\u001b[39m::\u001b[32mfilter()\u001b[39m          masks \u001b[34mstats\u001b[39m::filter()\n",
      "\u001b[31mx\u001b[39m \u001b[34mxts\u001b[39m::\u001b[32mfirst()\u001b[39m             masks \u001b[34mdplyr\u001b[39m::first()\n",
      "\u001b[31mx\u001b[39m \u001b[34mlubridate\u001b[39m::\u001b[32mintersect()\u001b[39m   masks \u001b[34mbase\u001b[39m::intersect()\n",
      "\u001b[31mx\u001b[39m \u001b[34mdplyr\u001b[39m::\u001b[32mlag()\u001b[39m             masks \u001b[34mstats\u001b[39m::lag()\n",
      "\u001b[31mx\u001b[39m \u001b[34mxts\u001b[39m::\u001b[32mlast()\u001b[39m              masks \u001b[34mdplyr\u001b[39m::last()\n",
      "\u001b[31mx\u001b[39m \u001b[34mlubridate\u001b[39m::\u001b[32msetdiff()\u001b[39m     masks \u001b[34mbase\u001b[39m::setdiff()\n",
      "\u001b[31mx\u001b[39m \u001b[34mlubridate\u001b[39m::\u001b[32munion()\u001b[39m       masks \u001b[34mbase\u001b[39m::union()\n",
      "\n"
     ]
    }
   ],
   "source": [
    "library(tidyverse)"
   ]
  },
  {
   "cell_type": "markdown",
   "metadata": {},
   "source": [
    "## Daily time series plot"
   ]
  },
  {
   "cell_type": "code",
   "execution_count": 4,
   "metadata": {},
   "outputs": [
    {
     "name": "stderr",
     "output_type": "stream",
     "text": [
      "Warning message:\n",
      "\"Removed 36 rows containing missing values (geom_point).\"\n"
     ]
    },
    {
     "data": {
      "text/html": [
       "<strong>png:</strong> 2"
      ],
      "text/latex": [
       "\\textbf{png:} 2"
      ],
      "text/markdown": [
       "**png:** 2"
      ],
      "text/plain": [
       "png \n",
       "  2 "
      ]
     },
     "metadata": {},
     "output_type": "display_data"
    }
   ],
   "source": [
    "#generate time series plots\n",
    "mycolors<-c(brewer.pal(4,\"Set1\"),brewer.pal(4, \"Paired\"),brewer.pal(4,\"Set2\"))\n",
    "png(\"../../figures/figures for report/Time series daily.png\",height= 2000,width=6000,res=360)\n",
    "wholedata_frame <- wholedata_frame %>%\n",
    "  # na.omit() %>%\n",
    "  mutate(Date = as.Date(Date, format = \"%m/%d/%Y\"))\n",
    "ggplot(wholedata_frame,aes(x = Date, y = Total.Daily.Load,color=factor(WJ))) +\n",
    "geom_point() + theme_bw(base_size = 15) + scale_y_continuous(limits=c(750,1800))+\n",
    "theme_bw() + scale_color_manual(\"WJ\",values = mycolors,labels=c(\"Weekend\", \"Weekday\"))+\n",
    "theme(axis.text=element_text(size=20),axis.title.x = element_text(size = 25),\n",
    "      axis.title.y = element_text(size = 25),title= element_text(size = 25),\n",
    "      legend.text = element_text(size=20),\n",
    "      axis.text.x = element_text(angle = 90, hjust = 1, vjust = 0.5)) +\n",
    "  labs( y = \"Energy consumption (MWh)\",\n",
    "       x = \"Date\") +\n",
    "    guides(color=guide_legend(title=NULL))+\n",
    "   scale_x_date(date_breaks =\"1 year\",date_labels = \"%Y-%m\")\n",
    "dev.off()"
   ]
  },
  {
   "cell_type": "code",
   "execution_count": 21,
   "metadata": {},
   "outputs": [
    {
     "data": {
      "text/html": [
       "<strong>png:</strong> 2"
      ],
      "text/latex": [
       "\\textbf{png:} 2"
      ],
      "text/markdown": [
       "**png:** 2"
      ],
      "text/plain": [
       "png \n",
       "  2 "
      ]
     },
     "metadata": {},
     "output_type": "display_data"
    }
   ],
   "source": [
    "# Time series facet plot\n",
    "png(\"Time series facet plot.png\",height= 2000,width=5000,res=360)\n",
    "wholedata_frame  %>%\n",
    "  na.omit() %>%\n",
    "  ggplot(aes(x = Day.of.Year, y = Total.Daily.Load)) +\n",
    "  geom_point(color = \"darkorchid4\") +\n",
    "  facet_wrap( ~wholedata_frame$Year ) +\n",
    "  labs(title = \"Energy consumption of MBTA Rapid Transit\",\n",
    "       subtitle = \"Use facets to plot by a variable - year in this case\",\n",
    "       y = \"Energy consumption (kWh)\",\n",
    "       x = \"Day\") + theme_bw(base_size = 15)\n",
    "dev.off()"
   ]
  },
  {
   "cell_type": "code",
   "execution_count": 2,
   "metadata": {},
   "outputs": [],
   "source": [
    "df_month_melt = melt(wholedata_frame, id.vars = c(\"Year\",\"Month\"), measure.vars = c(\"Total.Daily.Load\"))"
   ]
  },
  {
   "cell_type": "code",
   "execution_count": 4,
   "metadata": {
    "collapsed": true,
    "jupyter": {
     "outputs_hidden": true
    }
   },
   "outputs": [
    {
     "data": {
      "text/html": [
       "<table class=\"dataframe\">\n",
       "<caption>A data.frame: 4749 × 4</caption>\n",
       "<thead>\n",
       "\t<tr><th scope=col>Year</th><th scope=col>Month</th><th scope=col>variable</th><th scope=col>value</th></tr>\n",
       "\t<tr><th scope=col>&lt;int&gt;</th><th scope=col>&lt;int&gt;</th><th scope=col>&lt;fct&gt;</th><th scope=col>&lt;dbl&gt;</th></tr>\n",
       "</thead>\n",
       "<tbody>\n",
       "\t<tr><td>2008</td><td>1</td><td>Total.Daily.Load</td><td>0</td></tr>\n",
       "\t<tr><td>2008</td><td>1</td><td>Total.Daily.Load</td><td>0</td></tr>\n",
       "\t<tr><td>2008</td><td>1</td><td>Total.Daily.Load</td><td>0</td></tr>\n",
       "\t<tr><td>2008</td><td>1</td><td>Total.Daily.Load</td><td>0</td></tr>\n",
       "\t<tr><td>2008</td><td>1</td><td>Total.Daily.Load</td><td>0</td></tr>\n",
       "\t<tr><td>2008</td><td>1</td><td>Total.Daily.Load</td><td>0</td></tr>\n",
       "\t<tr><td>2008</td><td>1</td><td>Total.Daily.Load</td><td>0</td></tr>\n",
       "\t<tr><td>2008</td><td>1</td><td>Total.Daily.Load</td><td>0</td></tr>\n",
       "\t<tr><td>2008</td><td>1</td><td>Total.Daily.Load</td><td>0</td></tr>\n",
       "\t<tr><td>2008</td><td>1</td><td>Total.Daily.Load</td><td>0</td></tr>\n",
       "\t<tr><td>2008</td><td>1</td><td>Total.Daily.Load</td><td>0</td></tr>\n",
       "\t<tr><td>2008</td><td>1</td><td>Total.Daily.Load</td><td>0</td></tr>\n",
       "\t<tr><td>2008</td><td>1</td><td>Total.Daily.Load</td><td>0</td></tr>\n",
       "\t<tr><td>2008</td><td>1</td><td>Total.Daily.Load</td><td>0</td></tr>\n",
       "\t<tr><td>2008</td><td>1</td><td>Total.Daily.Load</td><td>0</td></tr>\n",
       "\t<tr><td>2008</td><td>1</td><td>Total.Daily.Load</td><td>0</td></tr>\n",
       "\t<tr><td>2008</td><td>1</td><td>Total.Daily.Load</td><td>0</td></tr>\n",
       "\t<tr><td>2008</td><td>1</td><td>Total.Daily.Load</td><td>0</td></tr>\n",
       "\t<tr><td>2008</td><td>1</td><td>Total.Daily.Load</td><td>0</td></tr>\n",
       "\t<tr><td>2008</td><td>1</td><td>Total.Daily.Load</td><td>0</td></tr>\n",
       "\t<tr><td>2008</td><td>1</td><td>Total.Daily.Load</td><td>0</td></tr>\n",
       "\t<tr><td>2008</td><td>1</td><td>Total.Daily.Load</td><td>0</td></tr>\n",
       "\t<tr><td>2008</td><td>1</td><td>Total.Daily.Load</td><td>0</td></tr>\n",
       "\t<tr><td>2008</td><td>1</td><td>Total.Daily.Load</td><td>0</td></tr>\n",
       "\t<tr><td>2008</td><td>1</td><td>Total.Daily.Load</td><td>0</td></tr>\n",
       "\t<tr><td>2008</td><td>1</td><td>Total.Daily.Load</td><td>0</td></tr>\n",
       "\t<tr><td>2008</td><td>1</td><td>Total.Daily.Load</td><td>0</td></tr>\n",
       "\t<tr><td>2008</td><td>1</td><td>Total.Daily.Load</td><td>0</td></tr>\n",
       "\t<tr><td>2008</td><td>1</td><td>Total.Daily.Load</td><td>0</td></tr>\n",
       "\t<tr><td>2008</td><td>1</td><td>Total.Daily.Load</td><td>0</td></tr>\n",
       "\t<tr><td>...</td><td>...</td><td>...</td><td>...</td></tr>\n",
       "\t<tr><td>2020</td><td>12</td><td>Total.Daily.Load</td><td>1033.215</td></tr>\n",
       "\t<tr><td>2020</td><td>12</td><td>Total.Daily.Load</td><td>1019.974</td></tr>\n",
       "\t<tr><td>2020</td><td>12</td><td>Total.Daily.Load</td><td>1053.237</td></tr>\n",
       "\t<tr><td>2020</td><td>12</td><td>Total.Daily.Load</td><td>1050.630</td></tr>\n",
       "\t<tr><td>2020</td><td>12</td><td>Total.Daily.Load</td><td>1040.902</td></tr>\n",
       "\t<tr><td>2020</td><td>12</td><td>Total.Daily.Load</td><td>1113.311</td></tr>\n",
       "\t<tr><td>2020</td><td>12</td><td>Total.Daily.Load</td><td>1131.387</td></tr>\n",
       "\t<tr><td>2020</td><td>12</td><td>Total.Daily.Load</td><td>1123.150</td></tr>\n",
       "\t<tr><td>2020</td><td>12</td><td>Total.Daily.Load</td><td>1085.838</td></tr>\n",
       "\t<tr><td>2020</td><td>12</td><td>Total.Daily.Load</td><td>1076.417</td></tr>\n",
       "\t<tr><td>2020</td><td>12</td><td>Total.Daily.Load</td><td> 933.283</td></tr>\n",
       "\t<tr><td>2020</td><td>12</td><td>Total.Daily.Load</td><td> 905.157</td></tr>\n",
       "\t<tr><td>2020</td><td>12</td><td>Total.Daily.Load</td><td>1093.014</td></tr>\n",
       "\t<tr><td>2020</td><td>12</td><td>Total.Daily.Load</td><td>1128.294</td></tr>\n",
       "\t<tr><td>2020</td><td>12</td><td>Total.Daily.Load</td><td>1217.808</td></tr>\n",
       "\t<tr><td>2020</td><td>12</td><td>Total.Daily.Load</td><td>1258.813</td></tr>\n",
       "\t<tr><td>2020</td><td>12</td><td>Total.Daily.Load</td><td>1261.760</td></tr>\n",
       "\t<tr><td>2020</td><td>12</td><td>Total.Daily.Load</td><td>1175.970</td></tr>\n",
       "\t<tr><td>2020</td><td>12</td><td>Total.Daily.Load</td><td>1105.150</td></tr>\n",
       "\t<tr><td>2020</td><td>12</td><td>Total.Daily.Load</td><td>1199.413</td></tr>\n",
       "\t<tr><td>2020</td><td>12</td><td>Total.Daily.Load</td><td>1190.628</td></tr>\n",
       "\t<tr><td>2020</td><td>12</td><td>Total.Daily.Load</td><td>1210.913</td></tr>\n",
       "\t<tr><td>2020</td><td>12</td><td>Total.Daily.Load</td><td>1162.454</td></tr>\n",
       "\t<tr><td>2020</td><td>12</td><td>Total.Daily.Load</td><td>1013.980</td></tr>\n",
       "\t<tr><td>2020</td><td>12</td><td>Total.Daily.Load</td><td>1092.785</td></tr>\n",
       "\t<tr><td>2020</td><td>12</td><td>Total.Daily.Load</td><td>1069.708</td></tr>\n",
       "\t<tr><td>2020</td><td>12</td><td>Total.Daily.Load</td><td>1140.568</td></tr>\n",
       "\t<tr><td>2020</td><td>12</td><td>Total.Daily.Load</td><td>1123.031</td></tr>\n",
       "\t<tr><td>2020</td><td>12</td><td>Total.Daily.Load</td><td>1134.845</td></tr>\n",
       "\t<tr><td>2020</td><td>12</td><td>Total.Daily.Load</td><td>1033.005</td></tr>\n",
       "</tbody>\n",
       "</table>\n"
      ],
      "text/latex": [
       "A data.frame: 4749 × 4\n",
       "\\begin{tabular}{llll}\n",
       " Year & Month & variable & value\\\\\n",
       " <int> & <int> & <fct> & <dbl>\\\\\n",
       "\\hline\n",
       "\t 2008 & 1 & Total.Daily.Load & 0\\\\\n",
       "\t 2008 & 1 & Total.Daily.Load & 0\\\\\n",
       "\t 2008 & 1 & Total.Daily.Load & 0\\\\\n",
       "\t 2008 & 1 & Total.Daily.Load & 0\\\\\n",
       "\t 2008 & 1 & Total.Daily.Load & 0\\\\\n",
       "\t 2008 & 1 & Total.Daily.Load & 0\\\\\n",
       "\t 2008 & 1 & Total.Daily.Load & 0\\\\\n",
       "\t 2008 & 1 & Total.Daily.Load & 0\\\\\n",
       "\t 2008 & 1 & Total.Daily.Load & 0\\\\\n",
       "\t 2008 & 1 & Total.Daily.Load & 0\\\\\n",
       "\t 2008 & 1 & Total.Daily.Load & 0\\\\\n",
       "\t 2008 & 1 & Total.Daily.Load & 0\\\\\n",
       "\t 2008 & 1 & Total.Daily.Load & 0\\\\\n",
       "\t 2008 & 1 & Total.Daily.Load & 0\\\\\n",
       "\t 2008 & 1 & Total.Daily.Load & 0\\\\\n",
       "\t 2008 & 1 & Total.Daily.Load & 0\\\\\n",
       "\t 2008 & 1 & Total.Daily.Load & 0\\\\\n",
       "\t 2008 & 1 & Total.Daily.Load & 0\\\\\n",
       "\t 2008 & 1 & Total.Daily.Load & 0\\\\\n",
       "\t 2008 & 1 & Total.Daily.Load & 0\\\\\n",
       "\t 2008 & 1 & Total.Daily.Load & 0\\\\\n",
       "\t 2008 & 1 & Total.Daily.Load & 0\\\\\n",
       "\t 2008 & 1 & Total.Daily.Load & 0\\\\\n",
       "\t 2008 & 1 & Total.Daily.Load & 0\\\\\n",
       "\t 2008 & 1 & Total.Daily.Load & 0\\\\\n",
       "\t 2008 & 1 & Total.Daily.Load & 0\\\\\n",
       "\t 2008 & 1 & Total.Daily.Load & 0\\\\\n",
       "\t 2008 & 1 & Total.Daily.Load & 0\\\\\n",
       "\t 2008 & 1 & Total.Daily.Load & 0\\\\\n",
       "\t 2008 & 1 & Total.Daily.Load & 0\\\\\n",
       "\t ... & ... & ... & ...\\\\\n",
       "\t 2020 & 12 & Total.Daily.Load & 1033.215\\\\\n",
       "\t 2020 & 12 & Total.Daily.Load & 1019.974\\\\\n",
       "\t 2020 & 12 & Total.Daily.Load & 1053.237\\\\\n",
       "\t 2020 & 12 & Total.Daily.Load & 1050.630\\\\\n",
       "\t 2020 & 12 & Total.Daily.Load & 1040.902\\\\\n",
       "\t 2020 & 12 & Total.Daily.Load & 1113.311\\\\\n",
       "\t 2020 & 12 & Total.Daily.Load & 1131.387\\\\\n",
       "\t 2020 & 12 & Total.Daily.Load & 1123.150\\\\\n",
       "\t 2020 & 12 & Total.Daily.Load & 1085.838\\\\\n",
       "\t 2020 & 12 & Total.Daily.Load & 1076.417\\\\\n",
       "\t 2020 & 12 & Total.Daily.Load &  933.283\\\\\n",
       "\t 2020 & 12 & Total.Daily.Load &  905.157\\\\\n",
       "\t 2020 & 12 & Total.Daily.Load & 1093.014\\\\\n",
       "\t 2020 & 12 & Total.Daily.Load & 1128.294\\\\\n",
       "\t 2020 & 12 & Total.Daily.Load & 1217.808\\\\\n",
       "\t 2020 & 12 & Total.Daily.Load & 1258.813\\\\\n",
       "\t 2020 & 12 & Total.Daily.Load & 1261.760\\\\\n",
       "\t 2020 & 12 & Total.Daily.Load & 1175.970\\\\\n",
       "\t 2020 & 12 & Total.Daily.Load & 1105.150\\\\\n",
       "\t 2020 & 12 & Total.Daily.Load & 1199.413\\\\\n",
       "\t 2020 & 12 & Total.Daily.Load & 1190.628\\\\\n",
       "\t 2020 & 12 & Total.Daily.Load & 1210.913\\\\\n",
       "\t 2020 & 12 & Total.Daily.Load & 1162.454\\\\\n",
       "\t 2020 & 12 & Total.Daily.Load & 1013.980\\\\\n",
       "\t 2020 & 12 & Total.Daily.Load & 1092.785\\\\\n",
       "\t 2020 & 12 & Total.Daily.Load & 1069.708\\\\\n",
       "\t 2020 & 12 & Total.Daily.Load & 1140.568\\\\\n",
       "\t 2020 & 12 & Total.Daily.Load & 1123.031\\\\\n",
       "\t 2020 & 12 & Total.Daily.Load & 1134.845\\\\\n",
       "\t 2020 & 12 & Total.Daily.Load & 1033.005\\\\\n",
       "\\end{tabular}\n"
      ],
      "text/markdown": [
       "\n",
       "A data.frame: 4749 × 4\n",
       "\n",
       "| Year &lt;int&gt; | Month &lt;int&gt; | variable &lt;fct&gt; | value &lt;dbl&gt; |\n",
       "|---|---|---|---|\n",
       "| 2008 | 1 | Total.Daily.Load | 0 |\n",
       "| 2008 | 1 | Total.Daily.Load | 0 |\n",
       "| 2008 | 1 | Total.Daily.Load | 0 |\n",
       "| 2008 | 1 | Total.Daily.Load | 0 |\n",
       "| 2008 | 1 | Total.Daily.Load | 0 |\n",
       "| 2008 | 1 | Total.Daily.Load | 0 |\n",
       "| 2008 | 1 | Total.Daily.Load | 0 |\n",
       "| 2008 | 1 | Total.Daily.Load | 0 |\n",
       "| 2008 | 1 | Total.Daily.Load | 0 |\n",
       "| 2008 | 1 | Total.Daily.Load | 0 |\n",
       "| 2008 | 1 | Total.Daily.Load | 0 |\n",
       "| 2008 | 1 | Total.Daily.Load | 0 |\n",
       "| 2008 | 1 | Total.Daily.Load | 0 |\n",
       "| 2008 | 1 | Total.Daily.Load | 0 |\n",
       "| 2008 | 1 | Total.Daily.Load | 0 |\n",
       "| 2008 | 1 | Total.Daily.Load | 0 |\n",
       "| 2008 | 1 | Total.Daily.Load | 0 |\n",
       "| 2008 | 1 | Total.Daily.Load | 0 |\n",
       "| 2008 | 1 | Total.Daily.Load | 0 |\n",
       "| 2008 | 1 | Total.Daily.Load | 0 |\n",
       "| 2008 | 1 | Total.Daily.Load | 0 |\n",
       "| 2008 | 1 | Total.Daily.Load | 0 |\n",
       "| 2008 | 1 | Total.Daily.Load | 0 |\n",
       "| 2008 | 1 | Total.Daily.Load | 0 |\n",
       "| 2008 | 1 | Total.Daily.Load | 0 |\n",
       "| 2008 | 1 | Total.Daily.Load | 0 |\n",
       "| 2008 | 1 | Total.Daily.Load | 0 |\n",
       "| 2008 | 1 | Total.Daily.Load | 0 |\n",
       "| 2008 | 1 | Total.Daily.Load | 0 |\n",
       "| 2008 | 1 | Total.Daily.Load | 0 |\n",
       "| ... | ... | ... | ... |\n",
       "| 2020 | 12 | Total.Daily.Load | 1033.215 |\n",
       "| 2020 | 12 | Total.Daily.Load | 1019.974 |\n",
       "| 2020 | 12 | Total.Daily.Load | 1053.237 |\n",
       "| 2020 | 12 | Total.Daily.Load | 1050.630 |\n",
       "| 2020 | 12 | Total.Daily.Load | 1040.902 |\n",
       "| 2020 | 12 | Total.Daily.Load | 1113.311 |\n",
       "| 2020 | 12 | Total.Daily.Load | 1131.387 |\n",
       "| 2020 | 12 | Total.Daily.Load | 1123.150 |\n",
       "| 2020 | 12 | Total.Daily.Load | 1085.838 |\n",
       "| 2020 | 12 | Total.Daily.Load | 1076.417 |\n",
       "| 2020 | 12 | Total.Daily.Load |  933.283 |\n",
       "| 2020 | 12 | Total.Daily.Load |  905.157 |\n",
       "| 2020 | 12 | Total.Daily.Load | 1093.014 |\n",
       "| 2020 | 12 | Total.Daily.Load | 1128.294 |\n",
       "| 2020 | 12 | Total.Daily.Load | 1217.808 |\n",
       "| 2020 | 12 | Total.Daily.Load | 1258.813 |\n",
       "| 2020 | 12 | Total.Daily.Load | 1261.760 |\n",
       "| 2020 | 12 | Total.Daily.Load | 1175.970 |\n",
       "| 2020 | 12 | Total.Daily.Load | 1105.150 |\n",
       "| 2020 | 12 | Total.Daily.Load | 1199.413 |\n",
       "| 2020 | 12 | Total.Daily.Load | 1190.628 |\n",
       "| 2020 | 12 | Total.Daily.Load | 1210.913 |\n",
       "| 2020 | 12 | Total.Daily.Load | 1162.454 |\n",
       "| 2020 | 12 | Total.Daily.Load | 1013.980 |\n",
       "| 2020 | 12 | Total.Daily.Load | 1092.785 |\n",
       "| 2020 | 12 | Total.Daily.Load | 1069.708 |\n",
       "| 2020 | 12 | Total.Daily.Load | 1140.568 |\n",
       "| 2020 | 12 | Total.Daily.Load | 1123.031 |\n",
       "| 2020 | 12 | Total.Daily.Load | 1134.845 |\n",
       "| 2020 | 12 | Total.Daily.Load | 1033.005 |\n",
       "\n"
      ],
      "text/plain": [
       "     Year Month variable         value   \n",
       "1    2008 1     Total.Daily.Load 0       \n",
       "2    2008 1     Total.Daily.Load 0       \n",
       "3    2008 1     Total.Daily.Load 0       \n",
       "4    2008 1     Total.Daily.Load 0       \n",
       "5    2008 1     Total.Daily.Load 0       \n",
       "6    2008 1     Total.Daily.Load 0       \n",
       "7    2008 1     Total.Daily.Load 0       \n",
       "8    2008 1     Total.Daily.Load 0       \n",
       "9    2008 1     Total.Daily.Load 0       \n",
       "10   2008 1     Total.Daily.Load 0       \n",
       "11   2008 1     Total.Daily.Load 0       \n",
       "12   2008 1     Total.Daily.Load 0       \n",
       "13   2008 1     Total.Daily.Load 0       \n",
       "14   2008 1     Total.Daily.Load 0       \n",
       "15   2008 1     Total.Daily.Load 0       \n",
       "16   2008 1     Total.Daily.Load 0       \n",
       "17   2008 1     Total.Daily.Load 0       \n",
       "18   2008 1     Total.Daily.Load 0       \n",
       "19   2008 1     Total.Daily.Load 0       \n",
       "20   2008 1     Total.Daily.Load 0       \n",
       "21   2008 1     Total.Daily.Load 0       \n",
       "22   2008 1     Total.Daily.Load 0       \n",
       "23   2008 1     Total.Daily.Load 0       \n",
       "24   2008 1     Total.Daily.Load 0       \n",
       "25   2008 1     Total.Daily.Load 0       \n",
       "26   2008 1     Total.Daily.Load 0       \n",
       "27   2008 1     Total.Daily.Load 0       \n",
       "28   2008 1     Total.Daily.Load 0       \n",
       "29   2008 1     Total.Daily.Load 0       \n",
       "30   2008 1     Total.Daily.Load 0       \n",
       "...  ...  ...   ...              ...     \n",
       "4720 2020 12    Total.Daily.Load 1033.215\n",
       "4721 2020 12    Total.Daily.Load 1019.974\n",
       "4722 2020 12    Total.Daily.Load 1053.237\n",
       "4723 2020 12    Total.Daily.Load 1050.630\n",
       "4724 2020 12    Total.Daily.Load 1040.902\n",
       "4725 2020 12    Total.Daily.Load 1113.311\n",
       "4726 2020 12    Total.Daily.Load 1131.387\n",
       "4727 2020 12    Total.Daily.Load 1123.150\n",
       "4728 2020 12    Total.Daily.Load 1085.838\n",
       "4729 2020 12    Total.Daily.Load 1076.417\n",
       "4730 2020 12    Total.Daily.Load  933.283\n",
       "4731 2020 12    Total.Daily.Load  905.157\n",
       "4732 2020 12    Total.Daily.Load 1093.014\n",
       "4733 2020 12    Total.Daily.Load 1128.294\n",
       "4734 2020 12    Total.Daily.Load 1217.808\n",
       "4735 2020 12    Total.Daily.Load 1258.813\n",
       "4736 2020 12    Total.Daily.Load 1261.760\n",
       "4737 2020 12    Total.Daily.Load 1175.970\n",
       "4738 2020 12    Total.Daily.Load 1105.150\n",
       "4739 2020 12    Total.Daily.Load 1199.413\n",
       "4740 2020 12    Total.Daily.Load 1190.628\n",
       "4741 2020 12    Total.Daily.Load 1210.913\n",
       "4742 2020 12    Total.Daily.Load 1162.454\n",
       "4743 2020 12    Total.Daily.Load 1013.980\n",
       "4744 2020 12    Total.Daily.Load 1092.785\n",
       "4745 2020 12    Total.Daily.Load 1069.708\n",
       "4746 2020 12    Total.Daily.Load 1140.568\n",
       "4747 2020 12    Total.Daily.Load 1123.031\n",
       "4748 2020 12    Total.Daily.Load 1134.845\n",
       "4749 2020 12    Total.Daily.Load 1033.005"
      ]
     },
     "metadata": {},
     "output_type": "display_data"
    }
   ],
   "source": [
    "df_month_melt "
   ]
  },
  {
   "cell_type": "code",
   "execution_count": 3,
   "metadata": {},
   "outputs": [],
   "source": [
    "df_month_melt_agg = aggregate(df_month_melt$value,list(df_month_melt$Year, df_month_melt$Month),sum)"
   ]
  },
  {
   "cell_type": "code",
   "execution_count": 10,
   "metadata": {},
   "outputs": [
    {
     "name": "stderr",
     "output_type": "stream",
     "text": [
      "Warning message:\n",
      "\"Removed 1 rows containing non-finite values (stat_boxplot).\"\n"
     ]
    },
    {
     "data": {
      "text/html": [
       "<strong>png:</strong> 2"
      ],
      "text/latex": [
       "\\textbf{png:} 2"
      ],
      "text/markdown": [
       "**png:** 2"
      ],
      "text/plain": [
       "png \n",
       "  2 "
      ]
     },
     "metadata": {},
     "output_type": "display_data"
    }
   ],
   "source": [
    "#Time Series plot by month\n",
    "png(file=\"../../figures/figures for report/Month box plot.png\", height= 3500,width=6000,res=360)\n",
    "df_month_melt_agg  %>%\n",
    "ggplot(aes(x = month.abb[Group.2], y = x/1000,fill=factor(Group.2)))+\n",
    "  geom_boxplot() +\n",
    "ylim(20,50) +\n",
    "  #facet_wrap(~ wholedata_frame$Year, nrow = 3) +\n",
    "  labs(#title = \"Total Monthly Energy comsumption\",\n",
    "       #subtitle = \"Data plotted by year\",\n",
    "       y = \"Energy consumption (GWh)\",\n",
    "       x = \"Month\") + \n",
    " #geom_text(aes(label = Group.1),size = 15) + \n",
    "  theme_bw() + scale_fill_manual(\"Month\",values= mycolors) + scale_x_discrete(limits = month.abb)+\n",
    "  theme(#strip.text=element_text(size=50),\n",
    "      axis.text=element_text(size=20),axis.title.x = element_text(size = 25),axis.title.y = element_text(size = 25),title= element_text(size = 25)) + \n",
    "  guides(fill=FALSE)\n",
    "dev.off()"
   ]
  },
  {
   "cell_type": "code",
   "execution_count": 4,
   "metadata": {
    "collapsed": true,
    "jupyter": {
     "outputs_hidden": true
    }
   },
   "outputs": [
    {
     "data": {
      "text/html": [
       "<table class=\"dataframe\">\n",
       "<caption>A data.frame: 12 × 6</caption>\n",
       "<thead>\n",
       "\t<tr><th></th><th scope=col>year</th><th scope=col>mean</th><th scope=col>sum</th><th scope=col>max</th><th scope=col>min</th><th scope=col>median</th></tr>\n",
       "\t<tr><th></th><th scope=col>&lt;dbl&gt;</th><th scope=col>&lt;dbl&gt;</th><th scope=col>&lt;dbl&gt;</th><th scope=col>&lt;dbl&gt;</th><th scope=col>&lt;dbl&gt;</th><th scope=col>&lt;dbl&gt;</th></tr>\n",
       "</thead>\n",
       "<tbody>\n",
       "\t<tr><th scope=row>2009</th><td>2009</td><td>1178.238</td><td>430057.0</td><td>1655.613</td><td>835.110</td><td>1133.982</td></tr>\n",
       "\t<tr><th scope=row>2010</th><td>2010</td><td>1177.562</td><td>429810.1</td><td>1599.186</td><td>893.418</td><td>1157.462</td></tr>\n",
       "\t<tr><th scope=row>2011</th><td>2011</td><td>1179.360</td><td>430466.4</td><td>1657.292</td><td>740.180</td><td>1154.546</td></tr>\n",
       "\t<tr><th scope=row>2012</th><td>2012</td><td>1153.191</td><td>422068.1</td><td>1486.984</td><td>849.733</td><td>1158.397</td></tr>\n",
       "\t<tr><th scope=row>2013</th><td>2013</td><td>1196.392</td><td>436682.9</td><td>1587.326</td><td>869.037</td><td>1177.588</td></tr>\n",
       "\t<tr><th scope=row>2014</th><td>2014</td><td>1196.107</td><td>436579.2</td><td>1669.817</td><td>876.948</td><td>1156.778</td></tr>\n",
       "\t<tr><th scope=row>2015</th><td>2015</td><td>1149.656</td><td>419624.3</td><td>1597.792</td><td>833.849</td><td>1118.276</td></tr>\n",
       "\t<tr><th scope=row>2016</th><td>2016</td><td>1142.173</td><td>418035.2</td><td>1542.008</td><td>831.458</td><td>1120.059</td></tr>\n",
       "\t<tr><th scope=row>2017</th><td>2017</td><td>1144.280</td><td>417662.3</td><td>1588.161</td><td>849.350</td><td>1111.108</td></tr>\n",
       "\t<tr><th scope=row>2018</th><td>2018</td><td>1148.131</td><td>419067.8</td><td>1590.719</td><td>830.332</td><td>1126.810</td></tr>\n",
       "\t<tr><th scope=row>2019</th><td>2019</td><td>1134.973</td><td>414265.0</td><td>1617.000</td><td>870.000</td><td>1093.000</td></tr>\n",
       "\t<tr><th scope=row>2020</th><td>2020</td><td>1048.676</td><td>383815.4</td><td>1432.855</td><td>818.082</td><td>1029.011</td></tr>\n",
       "</tbody>\n",
       "</table>\n"
      ],
      "text/latex": [
       "A data.frame: 12 × 6\n",
       "\\begin{tabular}{r|llllll}\n",
       "  & year & mean & sum & max & min & median\\\\\n",
       "  & <dbl> & <dbl> & <dbl> & <dbl> & <dbl> & <dbl>\\\\\n",
       "\\hline\n",
       "\t2009 & 2009 & 1178.238 & 430057.0 & 1655.613 & 835.110 & 1133.982\\\\\n",
       "\t2010 & 2010 & 1177.562 & 429810.1 & 1599.186 & 893.418 & 1157.462\\\\\n",
       "\t2011 & 2011 & 1179.360 & 430466.4 & 1657.292 & 740.180 & 1154.546\\\\\n",
       "\t2012 & 2012 & 1153.191 & 422068.1 & 1486.984 & 849.733 & 1158.397\\\\\n",
       "\t2013 & 2013 & 1196.392 & 436682.9 & 1587.326 & 869.037 & 1177.588\\\\\n",
       "\t2014 & 2014 & 1196.107 & 436579.2 & 1669.817 & 876.948 & 1156.778\\\\\n",
       "\t2015 & 2015 & 1149.656 & 419624.3 & 1597.792 & 833.849 & 1118.276\\\\\n",
       "\t2016 & 2016 & 1142.173 & 418035.2 & 1542.008 & 831.458 & 1120.059\\\\\n",
       "\t2017 & 2017 & 1144.280 & 417662.3 & 1588.161 & 849.350 & 1111.108\\\\\n",
       "\t2018 & 2018 & 1148.131 & 419067.8 & 1590.719 & 830.332 & 1126.810\\\\\n",
       "\t2019 & 2019 & 1134.973 & 414265.0 & 1617.000 & 870.000 & 1093.000\\\\\n",
       "\t2020 & 2020 & 1048.676 & 383815.4 & 1432.855 & 818.082 & 1029.011\\\\\n",
       "\\end{tabular}\n"
      ],
      "text/markdown": [
       "\n",
       "A data.frame: 12 × 6\n",
       "\n",
       "| <!--/--> | year &lt;dbl&gt; | mean &lt;dbl&gt; | sum &lt;dbl&gt; | max &lt;dbl&gt; | min &lt;dbl&gt; | median &lt;dbl&gt; |\n",
       "|---|---|---|---|---|---|---|\n",
       "| 2009 | 2009 | 1178.238 | 430057.0 | 1655.613 | 835.110 | 1133.982 |\n",
       "| 2010 | 2010 | 1177.562 | 429810.1 | 1599.186 | 893.418 | 1157.462 |\n",
       "| 2011 | 2011 | 1179.360 | 430466.4 | 1657.292 | 740.180 | 1154.546 |\n",
       "| 2012 | 2012 | 1153.191 | 422068.1 | 1486.984 | 849.733 | 1158.397 |\n",
       "| 2013 | 2013 | 1196.392 | 436682.9 | 1587.326 | 869.037 | 1177.588 |\n",
       "| 2014 | 2014 | 1196.107 | 436579.2 | 1669.817 | 876.948 | 1156.778 |\n",
       "| 2015 | 2015 | 1149.656 | 419624.3 | 1597.792 | 833.849 | 1118.276 |\n",
       "| 2016 | 2016 | 1142.173 | 418035.2 | 1542.008 | 831.458 | 1120.059 |\n",
       "| 2017 | 2017 | 1144.280 | 417662.3 | 1588.161 | 849.350 | 1111.108 |\n",
       "| 2018 | 2018 | 1148.131 | 419067.8 | 1590.719 | 830.332 | 1126.810 |\n",
       "| 2019 | 2019 | 1134.973 | 414265.0 | 1617.000 | 870.000 | 1093.000 |\n",
       "| 2020 | 2020 | 1048.676 | 383815.4 | 1432.855 | 818.082 | 1029.011 |\n",
       "\n"
      ],
      "text/plain": [
       "     year mean     sum      max      min     median  \n",
       "2009 2009 1178.238 430057.0 1655.613 835.110 1133.982\n",
       "2010 2010 1177.562 429810.1 1599.186 893.418 1157.462\n",
       "2011 2011 1179.360 430466.4 1657.292 740.180 1154.546\n",
       "2012 2012 1153.191 422068.1 1486.984 849.733 1158.397\n",
       "2013 2013 1196.392 436682.9 1587.326 869.037 1177.588\n",
       "2014 2014 1196.107 436579.2 1669.817 876.948 1156.778\n",
       "2015 2015 1149.656 419624.3 1597.792 833.849 1118.276\n",
       "2016 2016 1142.173 418035.2 1542.008 831.458 1120.059\n",
       "2017 2017 1144.280 417662.3 1588.161 849.350 1111.108\n",
       "2018 2018 1148.131 419067.8 1590.719 830.332 1126.810\n",
       "2019 2019 1134.973 414265.0 1617.000 870.000 1093.000\n",
       "2020 2020 1048.676 383815.4 1432.855 818.082 1029.011"
      ]
     },
     "metadata": {},
     "output_type": "display_data"
    },
    {
     "data": {
      "text/html": [
       "<strong>png:</strong> 2"
      ],
      "text/latex": [
       "\\textbf{png:} 2"
      ],
      "text/markdown": [
       "**png:** 2"
      ],
      "text/plain": [
       "png \n",
       "  2 "
      ]
     },
     "metadata": {},
     "output_type": "display_data"
    }
   ],
   "source": [
    "#generate annual energy consumption table\n",
    "mean_year=tapply(wholedata_frame$Total.Daily.Load,wholedata_frame$Year,mean,na.rm =TRUE)\n",
    "sum_year=tapply(wholedata_frame$Total.Daily.Load,wholedata_frame$Year,sum,na.rm =TRUE)\n",
    "max_year=tapply(wholedata_frame$Total.Daily.Load,wholedata_frame$Year,max,na.rm =TRUE)\n",
    "min_year=tapply(wholedata_frame$Total.Daily.Load,wholedata_frame$Year,min,na.rm =TRUE)\n",
    "median_year=tapply(wholedata_frame$Total.Daily.Load,wholedata_frame$Year,median,na.rm =TRUE)\n",
    "# onpeak_year=tapply(wholedata_frame$on.peak,wholedata_frame$Year,sum,na.rm =TRUE)\n",
    "# offpeak_year=tapply(wholedata_frame$off.peak,wholedata_frame$Year,sum,na.rm =TRUE)\n",
    "Year_table=data.frame(year=c(2008,2009,2010,2011,2012,2013,2014,2015,2016,2017,2018,2019,2020),mean=mean_year,sum=sum_year,max=max_year,min=min_year,median=median_year\n",
    "#                       ,onpeak=onpeak_year,offpeak=offpeak_year\n",
    "                     )\n",
    "Year_table1 = Year_table[-1,]\n",
    "Year_table1\n",
    "#generate annual energy consumption bar plot\n",
    "png(file=\"../../figures/annual energy consumption line plot.png\", height= 2500,width=7000,res=180)\n",
    "ggplot(data=Year_table1, aes(x = factor(year), y = sum/1000, group = 1))+ \n",
    "  geom_line( color = \"red\", size = 5)+\n",
    "  geom_point( color = \"darkBlue\", shape = 23, size = 20) +\n",
    " # geom_text(aes(label = round(sum/1000, 1)),size = 30) +\n",
    " labs(#title = \"Annual Energy consumption of MBTA Rapid Transit \", \n",
    "      y = \"Energy consumption (GWh)\",x = \"Year\") + \n",
    "  theme_bw() +\n",
    " theme(axis.text=element_text(size=50),axis.title.x = element_text(size = 60),axis.title.y = element_text(size = 60),title= element_text(size = 20)\n",
    "      #panel.grid.major = element_line(size = 0.5, linetype = 'solid',colour = \"Black\")\n",
    "      ) + \n",
    " # scale_fill_manual(\"year\",values= mycolors) +\n",
    " guides(fill=FALSE)\n",
    "dev.off()"
   ]
  },
  {
   "cell_type": "code",
   "execution_count": 19,
   "metadata": {
    "collapsed": true,
    "jupyter": {
     "outputs_hidden": true
    }
   },
   "outputs": [
    {
     "data": {
      "text/html": [
       "<table class=\"dataframe\">\n",
       "<caption>A data.frame: 4383 × 35</caption>\n",
       "<thead>\n",
       "\t<tr><th></th><th scope=col>X</th><th scope=col>WJ</th><th scope=col>Date</th><th scope=col>Year</th><th scope=col>Month</th><th scope=col>Day.of.Month</th><th scope=col>Day.of.Year</th><th scope=col>Hour.1</th><th scope=col>Hour.2</th><th scope=col>Hour.3</th><th scope=col>...</th><th scope=col>Hour.19</th><th scope=col>Hour.20</th><th scope=col>Hour.21</th><th scope=col>Hour.22</th><th scope=col>Hour.23</th><th scope=col>Hour.24</th><th scope=col>Total.Daily.Load</th><th scope=col>on.peak</th><th scope=col>off.peak</th><th scope=col>TAVG</th></tr>\n",
       "\t<tr><th></th><th scope=col>&lt;int&gt;</th><th scope=col>&lt;int&gt;</th><th scope=col>&lt;date&gt;</th><th scope=col>&lt;int&gt;</th><th scope=col>&lt;int&gt;</th><th scope=col>&lt;int&gt;</th><th scope=col>&lt;int&gt;</th><th scope=col>&lt;dbl&gt;</th><th scope=col>&lt;dbl&gt;</th><th scope=col>&lt;dbl&gt;</th><th scope=col>...</th><th scope=col>&lt;dbl&gt;</th><th scope=col>&lt;dbl&gt;</th><th scope=col>&lt;dbl&gt;</th><th scope=col>&lt;dbl&gt;</th><th scope=col>&lt;dbl&gt;</th><th scope=col>&lt;dbl&gt;</th><th scope=col>&lt;dbl&gt;</th><th scope=col>&lt;dbl&gt;</th><th scope=col>&lt;dbl&gt;</th><th scope=col>&lt;dbl&gt;</th></tr>\n",
       "</thead>\n",
       "<tbody>\n",
       "\t<tr><th scope=row>367</th><td>367</td><td>0</td><td>2009-01-01</td><td>2009</td><td>1</td><td> 1</td><td> 1</td><td>76.353</td><td>74.555</td><td>69.647</td><td>...</td><td>68.596</td><td>68.224</td><td>67.343</td><td>67.256</td><td>67.210</td><td>66.241</td><td>1600.212</td><td>265.248</td><td>1334.964</td><td>12.5</td></tr>\n",
       "\t<tr><th scope=row>368</th><td>368</td><td>0</td><td>2009-01-02</td><td>2009</td><td>1</td><td> 2</td><td> 2</td><td>64.638</td><td>57.381</td><td>55.696</td><td>...</td><td>69.902</td><td>64.802</td><td>62.062</td><td>61.031</td><td>61.225</td><td>58.939</td><td>1547.151</td><td>301.619</td><td>1245.532</td><td>24.0</td></tr>\n",
       "\t<tr><th scope=row>369</th><td>369</td><td>1</td><td>2009-01-03</td><td>2009</td><td>1</td><td> 3</td><td> 3</td><td>55.865</td><td>48.374</td><td>46.659</td><td>...</td><td>61.690</td><td>60.755</td><td>59.600</td><td>60.629</td><td>60.163</td><td>59.440</td><td>1374.963</td><td>234.510</td><td>1140.453</td><td>29.0</td></tr>\n",
       "\t<tr><th scope=row>370</th><td>370</td><td>1</td><td>2009-01-04</td><td>2009</td><td>1</td><td> 4</td><td> 4</td><td>56.272</td><td>49.135</td><td>48.036</td><td>...</td><td>56.616</td><td>56.362</td><td>55.003</td><td>56.269</td><td>56.032</td><td>55.832</td><td>1298.538</td><td>223.299</td><td>1075.239</td><td>30.0</td></tr>\n",
       "\t<tr><th scope=row>371</th><td>371</td><td>0</td><td>2009-01-05</td><td>2009</td><td>1</td><td> 5</td><td> 5</td><td>53.368</td><td>47.039</td><td>44.416</td><td>...</td><td>68.755</td><td>64.032</td><td>59.391</td><td>58.658</td><td>58.341</td><td>57.924</td><td>1429.619</td><td>273.158</td><td>1156.461</td><td>33.0</td></tr>\n",
       "\t<tr><th scope=row>372</th><td>372</td><td>0</td><td>2009-01-06</td><td>2009</td><td>1</td><td> 6</td><td> 6</td><td>53.578</td><td>44.545</td><td>42.242</td><td>...</td><td>66.444</td><td>61.828</td><td>57.771</td><td>56.863</td><td>57.380</td><td>54.572</td><td>1403.528</td><td>272.919</td><td>1130.609</td><td>30.5</td></tr>\n",
       "\t<tr><th scope=row>373</th><td>373</td><td>0</td><td>2009-01-07</td><td>2009</td><td>1</td><td> 7</td><td> 7</td><td>53.819</td><td>50.624</td><td>51.749</td><td>...</td><td>72.182</td><td>66.223</td><td>61.278</td><td>60.620</td><td>62.008</td><td>60.814</td><td>1527.052</td><td>291.287</td><td>1235.765</td><td>33.5</td></tr>\n",
       "\t<tr><th scope=row>374</th><td>374</td><td>0</td><td>2009-01-08</td><td>2009</td><td>1</td><td> 8</td><td> 8</td><td>57.544</td><td>50.397</td><td>50.441</td><td>...</td><td>71.374</td><td>66.454</td><td>61.955</td><td>62.013</td><td>63.152</td><td>60.838</td><td>1479.261</td><td>269.715</td><td>1209.546</td><td>32.5</td></tr>\n",
       "\t<tr><th scope=row>375</th><td>375</td><td>0</td><td>2009-01-09</td><td>2009</td><td>1</td><td> 9</td><td> 9</td><td>57.890</td><td>50.337</td><td>47.941</td><td>...</td><td>74.010</td><td>68.511</td><td>65.108</td><td>62.079</td><td>62.524</td><td>61.136</td><td>1531.058</td><td>289.567</td><td>1241.491</td><td>24.5</td></tr>\n",
       "\t<tr><th scope=row>376</th><td>376</td><td>1</td><td>2009-01-10</td><td>2009</td><td>1</td><td>10</td><td>10</td><td>59.132</td><td>53.667</td><td>50.057</td><td>...</td><td>61.956</td><td>59.946</td><td>60.171</td><td>62.759</td><td>64.457</td><td>62.504</td><td>1444.593</td><td>248.873</td><td>1195.720</td><td>21.5</td></tr>\n",
       "\t<tr><th scope=row>377</th><td>377</td><td>1</td><td>2009-01-11</td><td>2009</td><td>1</td><td>11</td><td>11</td><td>59.962</td><td>53.641</td><td>53.498</td><td>...</td><td>62.249</td><td>61.565</td><td>61.569</td><td>60.631</td><td>61.284</td><td>60.050</td><td>1432.994</td><td>243.525</td><td>1189.469</td><td>27.5</td></tr>\n",
       "\t<tr><th scope=row>378</th><td>378</td><td>0</td><td>2009-01-12</td><td>2009</td><td>1</td><td>12</td><td>12</td><td>56.885</td><td>51.028</td><td>49.558</td><td>...</td><td>73.163</td><td>68.470</td><td>63.423</td><td>63.321</td><td>63.632</td><td>62.584</td><td>1547.852</td><td>297.134</td><td>1250.718</td><td>24.0</td></tr>\n",
       "\t<tr><th scope=row>379</th><td>379</td><td>0</td><td>2009-01-13</td><td>2009</td><td>1</td><td>13</td><td>13</td><td>60.046</td><td>52.477</td><td>49.375</td><td>...</td><td>72.565</td><td>65.340</td><td>60.332</td><td>58.320</td><td>59.067</td><td>56.065</td><td>1511.121</td><td>285.535</td><td>1225.586</td><td>27.5</td></tr>\n",
       "\t<tr><th scope=row>380</th><td>380</td><td>0</td><td>2009-01-14</td><td>2009</td><td>1</td><td>14</td><td>14</td><td>53.162</td><td>46.072</td><td>44.451</td><td>...</td><td>76.140</td><td>69.682</td><td>66.275</td><td>66.176</td><td>67.027</td><td>65.387</td><td>1544.616</td><td>296.409</td><td>1248.207</td><td>25.5</td></tr>\n",
       "\t<tr><th scope=row>381</th><td>381</td><td>0</td><td>2009-01-15</td><td>2009</td><td>1</td><td>15</td><td>15</td><td>63.051</td><td>55.689</td><td>53.160</td><td>...</td><td>75.421</td><td>71.342</td><td>68.894</td><td>68.452</td><td>69.394</td><td>67.798</td><td>1622.967</td><td>303.320</td><td>1319.647</td><td>13.5</td></tr>\n",
       "\t<tr><th scope=row>382</th><td>382</td><td>0</td><td>2009-01-16</td><td>2009</td><td>1</td><td>16</td><td>16</td><td>65.185</td><td>57.637</td><td>56.075</td><td>...</td><td>77.956</td><td>71.163</td><td>69.113</td><td>68.809</td><td>68.289</td><td>66.706</td><td>1655.613</td><td>309.050</td><td>1346.563</td><td>12.0</td></tr>\n",
       "\t<tr><th scope=row>383</th><td>383</td><td>1</td><td>2009-01-17</td><td>2009</td><td>1</td><td>17</td><td>17</td><td>64.662</td><td>57.477</td><td>55.713</td><td>...</td><td>64.049</td><td>63.025</td><td>63.406</td><td>61.582</td><td>61.786</td><td>60.223</td><td>1514.069</td><td>268.379</td><td>1245.690</td><td>13.5</td></tr>\n",
       "\t<tr><th scope=row>384</th><td>384</td><td>1</td><td>2009-01-18</td><td>2009</td><td>1</td><td>18</td><td>18</td><td>58.565</td><td>52.515</td><td>52.459</td><td>...</td><td>65.075</td><td>64.266</td><td>62.903</td><td>63.356</td><td>61.794</td><td>61.609</td><td>1448.762</td><td>245.263</td><td>1203.499</td><td>25.5</td></tr>\n",
       "\t<tr><th scope=row>385</th><td>385</td><td>0</td><td>2009-01-19</td><td>2009</td><td>1</td><td>19</td><td>19</td><td>57.444</td><td>51.167</td><td>51.050</td><td>...</td><td>63.165</td><td>60.653</td><td>58.972</td><td>60.796</td><td>61.628</td><td>60.009</td><td>1406.475</td><td>239.609</td><td>1166.866</td><td>27.5</td></tr>\n",
       "\t<tr><th scope=row>386</th><td>386</td><td>0</td><td>2009-01-20</td><td>2009</td><td>1</td><td>20</td><td>20</td><td>58.314</td><td>49.926</td><td>48.584</td><td>...</td><td>73.652</td><td>66.860</td><td>64.326</td><td>63.725</td><td>63.435</td><td>62.107</td><td>1520.032</td><td>282.526</td><td>1237.506</td><td>26.5</td></tr>\n",
       "\t<tr><th scope=row>387</th><td>387</td><td>0</td><td>2009-01-21</td><td>2009</td><td>1</td><td>21</td><td>21</td><td>59.341</td><td>53.070</td><td>50.059</td><td>...</td><td>70.493</td><td>67.040</td><td>65.239</td><td>63.498</td><td>63.673</td><td>61.551</td><td>1546.858</td><td>291.111</td><td>1255.747</td><td>20.0</td></tr>\n",
       "\t<tr><th scope=row>388</th><td>388</td><td>0</td><td>2009-01-22</td><td>2009</td><td>1</td><td>22</td><td>22</td><td>60.951</td><td>53.815</td><td>50.361</td><td>...</td><td>72.172</td><td>68.500</td><td>63.665</td><td>62.599</td><td>63.063</td><td>61.057</td><td>1539.286</td><td>290.754</td><td>1248.532</td><td>25.0</td></tr>\n",
       "\t<tr><th scope=row>389</th><td>389</td><td>0</td><td>2009-01-23</td><td>2009</td><td>1</td><td>23</td><td>23</td><td>60.382</td><td>50.937</td><td>47.821</td><td>...</td><td>69.785</td><td>63.594</td><td>59.688</td><td>57.718</td><td>57.904</td><td>56.356</td><td>1491.452</td><td>289.749</td><td>1201.703</td><td>32.0</td></tr>\n",
       "\t<tr><th scope=row>390</th><td>390</td><td>1</td><td>2009-01-24</td><td>2009</td><td>1</td><td>24</td><td>24</td><td>53.711</td><td>45.355</td><td>42.692</td><td>...</td><td>63.415</td><td>62.812</td><td>62.927</td><td>63.287</td><td>64.185</td><td>63.157</td><td>1369.083</td><td>229.402</td><td>1139.681</td><td>27.5</td></tr>\n",
       "\t<tr><th scope=row>391</th><td>391</td><td>1</td><td>2009-01-25</td><td>2009</td><td>1</td><td>25</td><td>25</td><td>60.070</td><td>53.414</td><td>52.629</td><td>...</td><td>61.058</td><td>59.942</td><td>59.990</td><td>60.682</td><td>60.859</td><td>60.581</td><td>1418.227</td><td>243.458</td><td>1174.769</td><td>16.0</td></tr>\n",
       "\t<tr><th scope=row>392</th><td>392</td><td>0</td><td>2009-01-26</td><td>2009</td><td>1</td><td>26</td><td>26</td><td>57.942</td><td>52.184</td><td>51.409</td><td>...</td><td>73.372</td><td>67.656</td><td>63.944</td><td>62.882</td><td>62.856</td><td>61.758</td><td>1540.830</td><td>292.259</td><td>1248.571</td><td>19.5</td></tr>\n",
       "\t<tr><th scope=row>393</th><td>393</td><td>0</td><td>2009-01-27</td><td>2009</td><td>1</td><td>27</td><td>27</td><td>60.158</td><td>51.581</td><td>49.750</td><td>...</td><td>71.997</td><td>68.199</td><td>63.248</td><td>62.441</td><td>61.934</td><td>60.499</td><td>1529.847</td><td>292.270</td><td>1237.577</td><td>24.0</td></tr>\n",
       "\t<tr><th scope=row>394</th><td>394</td><td>0</td><td>2009-01-28</td><td>2009</td><td>1</td><td>28</td><td>28</td><td>59.458</td><td>50.775</td><td>48.688</td><td>...</td><td>75.285</td><td>68.434</td><td>61.521</td><td>60.404</td><td>61.052</td><td>59.684</td><td>1562.105</td><td>299.649</td><td>1262.456</td><td>30.0</td></tr>\n",
       "\t<tr><th scope=row>395</th><td>395</td><td>0</td><td>2009-01-29</td><td>2009</td><td>1</td><td>29</td><td>29</td><td>57.911</td><td>50.308</td><td>50.459</td><td>...</td><td>71.271</td><td>65.588</td><td>60.872</td><td>61.462</td><td>61.061</td><td>60.023</td><td>1510.411</td><td>291.943</td><td>1218.468</td><td>31.0</td></tr>\n",
       "\t<tr><th scope=row>396</th><td>396</td><td>0</td><td>2009-01-30</td><td>2009</td><td>1</td><td>30</td><td>30</td><td>58.740</td><td>50.482</td><td>47.979</td><td>...</td><td>69.203</td><td>64.145</td><td>60.061</td><td>58.659</td><td>58.890</td><td>58.340</td><td>1478.405</td><td>286.048</td><td>1192.357</td><td>27.5</td></tr>\n",
       "\t<tr><th scope=row>...</th><td>...</td><td>...</td><td>...</td><td>...</td><td>...</td><td>...</td><td>...</td><td>...</td><td>...</td><td>...</td><td></td><td>...</td><td>...</td><td>...</td><td>...</td><td>...</td><td>...</td><td>...</td><td>...</td><td>...</td><td>...</td></tr>\n",
       "\t<tr><th scope=row>4720</th><td>4720</td><td>0</td><td>2020-12-02</td><td>2020</td><td>12</td><td> 2</td><td>337</td><td>37.819</td><td>30.552</td><td>28.030</td><td>...</td><td>49.660</td><td>48.704</td><td>45.243</td><td>43.590</td><td>43.465</td><td>42.186</td><td>1033.215</td><td>NA</td><td>NA</td><td>NA</td></tr>\n",
       "\t<tr><th scope=row>4721</th><td>4721</td><td>0</td><td>2020-12-03</td><td>2020</td><td>12</td><td> 3</td><td>338</td><td>39.576</td><td>31.113</td><td>28.614</td><td>...</td><td>49.812</td><td>47.168</td><td>44.605</td><td>42.602</td><td>42.231</td><td>41.802</td><td>1019.974</td><td>NA</td><td>NA</td><td>NA</td></tr>\n",
       "\t<tr><th scope=row>4722</th><td>4722</td><td>0</td><td>2020-12-04</td><td>2020</td><td>12</td><td> 4</td><td>339</td><td>39.875</td><td>31.879</td><td>28.434</td><td>...</td><td>50.770</td><td>49.112</td><td>45.144</td><td>45.159</td><td>44.649</td><td>44.035</td><td>1053.237</td><td>NA</td><td>NA</td><td>NA</td></tr>\n",
       "\t<tr><th scope=row>4723</th><td>4723</td><td>1</td><td>2020-12-05</td><td>2020</td><td>12</td><td> 5</td><td>340</td><td>40.869</td><td>31.353</td><td>28.435</td><td>...</td><td>51.822</td><td>50.651</td><td>50.210</td><td>49.875</td><td>48.409</td><td>48.832</td><td>1050.630</td><td>NA</td><td>NA</td><td>NA</td></tr>\n",
       "\t<tr><th scope=row>4724</th><td>4724</td><td>1</td><td>2020-12-06</td><td>2020</td><td>12</td><td> 6</td><td>341</td><td>45.982</td><td>38.912</td><td>38.204</td><td>...</td><td>45.187</td><td>44.223</td><td>43.992</td><td>44.533</td><td>45.440</td><td>44.664</td><td>1040.902</td><td>NA</td><td>NA</td><td>NA</td></tr>\n",
       "\t<tr><th scope=row>4725</th><td>4725</td><td>0</td><td>2020-12-07</td><td>2020</td><td>12</td><td> 7</td><td>342</td><td>42.080</td><td>35.017</td><td>32.152</td><td>...</td><td>54.395</td><td>51.566</td><td>47.990</td><td>45.327</td><td>45.500</td><td>44.100</td><td>1113.311</td><td>NA</td><td>NA</td><td>NA</td></tr>\n",
       "\t<tr><th scope=row>4726</th><td>4726</td><td>0</td><td>2020-12-08</td><td>2020</td><td>12</td><td> 8</td><td>343</td><td>42.246</td><td>35.690</td><td>32.728</td><td>...</td><td>54.677</td><td>52.639</td><td>48.808</td><td>46.169</td><td>46.665</td><td>46.468</td><td>1131.387</td><td>NA</td><td>NA</td><td>NA</td></tr>\n",
       "\t<tr><th scope=row>4727</th><td>4727</td><td>0</td><td>2020-12-09</td><td>2020</td><td>12</td><td> 9</td><td>344</td><td>44.447</td><td>37.577</td><td>34.953</td><td>...</td><td>52.427</td><td>50.823</td><td>47.658</td><td>46.557</td><td>45.529</td><td>44.041</td><td>1123.150</td><td>NA</td><td>NA</td><td>NA</td></tr>\n",
       "\t<tr><th scope=row>4728</th><td>4728</td><td>0</td><td>2020-12-10</td><td>2020</td><td>12</td><td>10</td><td>345</td><td>42.865</td><td>34.815</td><td>32.172</td><td>...</td><td>51.148</td><td>49.981</td><td>46.839</td><td>44.329</td><td>44.740</td><td>44.114</td><td>1085.838</td><td>NA</td><td>NA</td><td>NA</td></tr>\n",
       "\t<tr><th scope=row>4729</th><td>4729</td><td>0</td><td>2020-12-11</td><td>2020</td><td>12</td><td>11</td><td>346</td><td>41.815</td><td>34.723</td><td>32.290</td><td>...</td><td>51.876</td><td>49.933</td><td>46.519</td><td>45.648</td><td>45.313</td><td>43.887</td><td>1076.417</td><td>NA</td><td>NA</td><td>NA</td></tr>\n",
       "\t<tr><th scope=row>4730</th><td>4730</td><td>1</td><td>2020-12-12</td><td>2020</td><td>12</td><td>12</td><td>347</td><td>40.916</td><td>32.275</td><td>29.647</td><td>...</td><td>42.395</td><td>41.941</td><td>41.045</td><td>40.558</td><td>40.747</td><td>39.971</td><td> 933.283</td><td>NA</td><td>NA</td><td>NA</td></tr>\n",
       "\t<tr><th scope=row>4731</th><td>4731</td><td>1</td><td>2020-12-13</td><td>2020</td><td>12</td><td>13</td><td>348</td><td>38.020</td><td>31.665</td><td>30.444</td><td>...</td><td>40.532</td><td>39.221</td><td>39.106</td><td>39.699</td><td>39.884</td><td>39.291</td><td> 905.157</td><td>NA</td><td>NA</td><td>NA</td></tr>\n",
       "\t<tr><th scope=row>4732</th><td>4732</td><td>0</td><td>2020-12-14</td><td>2020</td><td>12</td><td>14</td><td>349</td><td>37.197</td><td>33.137</td><td>30.586</td><td>...</td><td>53.059</td><td>49.262</td><td>48.379</td><td>45.735</td><td>47.295</td><td>46.195</td><td>1093.014</td><td>NA</td><td>NA</td><td>NA</td></tr>\n",
       "\t<tr><th scope=row>4733</th><td>4733</td><td>0</td><td>2020-12-15</td><td>2020</td><td>12</td><td>15</td><td>350</td><td>42.783</td><td>34.273</td><td>31.531</td><td>...</td><td>54.858</td><td>53.487</td><td>50.738</td><td>48.796</td><td>49.106</td><td>49.176</td><td>1128.294</td><td>NA</td><td>NA</td><td>NA</td></tr>\n",
       "\t<tr><th scope=row>4734</th><td>4734</td><td>0</td><td>2020-12-16</td><td>2020</td><td>12</td><td>16</td><td>351</td><td>46.193</td><td>37.724</td><td>35.661</td><td>...</td><td>58.655</td><td>56.955</td><td>53.546</td><td>51.741</td><td>52.880</td><td>53.534</td><td>1217.808</td><td>NA</td><td>NA</td><td>NA</td></tr>\n",
       "\t<tr><th scope=row>4735</th><td>4735</td><td>0</td><td>2020-12-17</td><td>2020</td><td>12</td><td>17</td><td>352</td><td>51.630</td><td>43.926</td><td>42.320</td><td>...</td><td>57.803</td><td>56.917</td><td>54.719</td><td>54.827</td><td>54.327</td><td>53.772</td><td>1258.813</td><td>NA</td><td>NA</td><td>NA</td></tr>\n",
       "\t<tr><th scope=row>4736</th><td>4736</td><td>0</td><td>2020-12-18</td><td>2020</td><td>12</td><td>18</td><td>353</td><td>52.213</td><td>44.434</td><td>43.114</td><td>...</td><td>57.875</td><td>57.082</td><td>54.538</td><td>52.789</td><td>53.567</td><td>53.574</td><td>1261.760</td><td>NA</td><td>NA</td><td>NA</td></tr>\n",
       "\t<tr><th scope=row>4737</th><td>4737</td><td>1</td><td>2020-12-19</td><td>2020</td><td>12</td><td>19</td><td>354</td><td>51.617</td><td>43.641</td><td>41.714</td><td>...</td><td>51.475</td><td>51.646</td><td>50.721</td><td>50.575</td><td>51.075</td><td>50.016</td><td>1175.970</td><td>NA</td><td>NA</td><td>NA</td></tr>\n",
       "\t<tr><th scope=row>4738</th><td>4738</td><td>1</td><td>2020-12-20</td><td>2020</td><td>12</td><td>20</td><td>355</td><td>47.398</td><td>41.236</td><td>39.551</td><td>...</td><td>49.215</td><td>47.423</td><td>47.051</td><td>47.361</td><td>48.073</td><td>46.878</td><td>1105.150</td><td>NA</td><td>NA</td><td>NA</td></tr>\n",
       "\t<tr><th scope=row>4739</th><td>4739</td><td>0</td><td>2020-12-21</td><td>2020</td><td>12</td><td>21</td><td>356</td><td>44.441</td><td>37.628</td><td>34.810</td><td>...</td><td>57.533</td><td>55.617</td><td>51.400</td><td>49.713</td><td>50.685</td><td>49.870</td><td>1199.413</td><td>NA</td><td>NA</td><td>NA</td></tr>\n",
       "\t<tr><th scope=row>4740</th><td>4740</td><td>0</td><td>2020-12-22</td><td>2020</td><td>12</td><td>22</td><td>357</td><td>46.605</td><td>37.963</td><td>32.862</td><td>...</td><td>56.967</td><td>55.249</td><td>52.301</td><td>51.099</td><td>51.122</td><td>51.354</td><td>1190.628</td><td>NA</td><td>NA</td><td>NA</td></tr>\n",
       "\t<tr><th scope=row>4741</th><td>4741</td><td>0</td><td>2020-12-23</td><td>2020</td><td>12</td><td>23</td><td>358</td><td>48.020</td><td>38.905</td><td>34.651</td><td>...</td><td>57.116</td><td>55.679</td><td>53.100</td><td>50.790</td><td>50.794</td><td>50.722</td><td>1210.913</td><td>NA</td><td>NA</td><td>NA</td></tr>\n",
       "\t<tr><th scope=row>4742</th><td>4742</td><td>0</td><td>2020-12-24</td><td>2020</td><td>12</td><td>24</td><td>359</td><td>47.831</td><td>38.766</td><td>35.175</td><td>...</td><td>54.747</td><td>53.298</td><td>49.931</td><td>48.257</td><td>47.609</td><td>47.933</td><td>1162.454</td><td>NA</td><td>NA</td><td>NA</td></tr>\n",
       "\t<tr><th scope=row>4743</th><td>4743</td><td>0</td><td>2020-12-25</td><td>2020</td><td>12</td><td>25</td><td>360</td><td>43.865</td><td>36.085</td><td>33.644</td><td>...</td><td>45.385</td><td>45.702</td><td>44.869</td><td>45.013</td><td>45.244</td><td>44.375</td><td>1013.980</td><td>NA</td><td>NA</td><td>NA</td></tr>\n",
       "\t<tr><th scope=row>4744</th><td>4744</td><td>1</td><td>2020-12-26</td><td>2020</td><td>12</td><td>26</td><td>361</td><td>42.359</td><td>35.958</td><td>33.905</td><td>...</td><td>50.772</td><td>50.178</td><td>48.901</td><td>49.788</td><td>49.276</td><td>49.134</td><td>1092.785</td><td>NA</td><td>NA</td><td>NA</td></tr>\n",
       "\t<tr><th scope=row>4745</th><td>4745</td><td>1</td><td>2020-12-27</td><td>2020</td><td>12</td><td>27</td><td>362</td><td>45.860</td><td>39.104</td><td>37.629</td><td>...</td><td>47.438</td><td>47.567</td><td>47.404</td><td>46.761</td><td>47.471</td><td>45.399</td><td>1069.708</td><td>NA</td><td>NA</td><td>NA</td></tr>\n",
       "\t<tr><th scope=row>4746</th><td>4746</td><td>0</td><td>2020-12-28</td><td>2020</td><td>12</td><td>28</td><td>363</td><td>42.189</td><td>37.789</td><td>34.205</td><td>...</td><td>53.292</td><td>52.516</td><td>49.685</td><td>47.226</td><td>47.438</td><td>45.894</td><td>1140.568</td><td>NA</td><td>NA</td><td>NA</td></tr>\n",
       "\t<tr><th scope=row>4747</th><td>4747</td><td>0</td><td>2020-12-29</td><td>2020</td><td>12</td><td>29</td><td>364</td><td>43.157</td><td>33.517</td><td>30.578</td><td>...</td><td>55.282</td><td>52.969</td><td>49.839</td><td>48.874</td><td>48.792</td><td>48.434</td><td>1123.031</td><td>NA</td><td>NA</td><td>NA</td></tr>\n",
       "\t<tr><th scope=row>4748</th><td>4748</td><td>0</td><td>2020-12-30</td><td>2020</td><td>12</td><td>30</td><td>365</td><td>45.134</td><td>36.896</td><td>34.473</td><td>...</td><td>53.484</td><td>51.129</td><td>48.119</td><td>46.588</td><td>45.968</td><td>45.558</td><td>1134.845</td><td>NA</td><td>NA</td><td>NA</td></tr>\n",
       "\t<tr><th scope=row>4749</th><td>4749</td><td>0</td><td>2020-12-31</td><td>2020</td><td>12</td><td>31</td><td>366</td><td>42.722</td><td>34.553</td><td>31.420</td><td>...</td><td>46.439</td><td>46.645</td><td>44.875</td><td>44.979</td><td>45.394</td><td>44.506</td><td>1033.005</td><td>NA</td><td>NA</td><td>NA</td></tr>\n",
       "</tbody>\n",
       "</table>\n"
      ],
      "text/latex": [
       "A data.frame: 4383 × 35\n",
       "\\begin{tabular}{r|lllllllllllllllllllll}\n",
       "  & X & WJ & Date & Year & Month & Day.of.Month & Day.of.Year & Hour.1 & Hour.2 & Hour.3 & ... & Hour.19 & Hour.20 & Hour.21 & Hour.22 & Hour.23 & Hour.24 & Total.Daily.Load & on.peak & off.peak & TAVG\\\\\n",
       "  & <int> & <int> & <date> & <int> & <int> & <int> & <int> & <dbl> & <dbl> & <dbl> & ... & <dbl> & <dbl> & <dbl> & <dbl> & <dbl> & <dbl> & <dbl> & <dbl> & <dbl> & <dbl>\\\\\n",
       "\\hline\n",
       "\t367 & 367 & 0 & 2009-01-01 & 2009 & 1 &  1 &  1 & 76.353 & 74.555 & 69.647 & ... & 68.596 & 68.224 & 67.343 & 67.256 & 67.210 & 66.241 & 1600.212 & 265.248 & 1334.964 & 12.5\\\\\n",
       "\t368 & 368 & 0 & 2009-01-02 & 2009 & 1 &  2 &  2 & 64.638 & 57.381 & 55.696 & ... & 69.902 & 64.802 & 62.062 & 61.031 & 61.225 & 58.939 & 1547.151 & 301.619 & 1245.532 & 24.0\\\\\n",
       "\t369 & 369 & 1 & 2009-01-03 & 2009 & 1 &  3 &  3 & 55.865 & 48.374 & 46.659 & ... & 61.690 & 60.755 & 59.600 & 60.629 & 60.163 & 59.440 & 1374.963 & 234.510 & 1140.453 & 29.0\\\\\n",
       "\t370 & 370 & 1 & 2009-01-04 & 2009 & 1 &  4 &  4 & 56.272 & 49.135 & 48.036 & ... & 56.616 & 56.362 & 55.003 & 56.269 & 56.032 & 55.832 & 1298.538 & 223.299 & 1075.239 & 30.0\\\\\n",
       "\t371 & 371 & 0 & 2009-01-05 & 2009 & 1 &  5 &  5 & 53.368 & 47.039 & 44.416 & ... & 68.755 & 64.032 & 59.391 & 58.658 & 58.341 & 57.924 & 1429.619 & 273.158 & 1156.461 & 33.0\\\\\n",
       "\t372 & 372 & 0 & 2009-01-06 & 2009 & 1 &  6 &  6 & 53.578 & 44.545 & 42.242 & ... & 66.444 & 61.828 & 57.771 & 56.863 & 57.380 & 54.572 & 1403.528 & 272.919 & 1130.609 & 30.5\\\\\n",
       "\t373 & 373 & 0 & 2009-01-07 & 2009 & 1 &  7 &  7 & 53.819 & 50.624 & 51.749 & ... & 72.182 & 66.223 & 61.278 & 60.620 & 62.008 & 60.814 & 1527.052 & 291.287 & 1235.765 & 33.5\\\\\n",
       "\t374 & 374 & 0 & 2009-01-08 & 2009 & 1 &  8 &  8 & 57.544 & 50.397 & 50.441 & ... & 71.374 & 66.454 & 61.955 & 62.013 & 63.152 & 60.838 & 1479.261 & 269.715 & 1209.546 & 32.5\\\\\n",
       "\t375 & 375 & 0 & 2009-01-09 & 2009 & 1 &  9 &  9 & 57.890 & 50.337 & 47.941 & ... & 74.010 & 68.511 & 65.108 & 62.079 & 62.524 & 61.136 & 1531.058 & 289.567 & 1241.491 & 24.5\\\\\n",
       "\t376 & 376 & 1 & 2009-01-10 & 2009 & 1 & 10 & 10 & 59.132 & 53.667 & 50.057 & ... & 61.956 & 59.946 & 60.171 & 62.759 & 64.457 & 62.504 & 1444.593 & 248.873 & 1195.720 & 21.5\\\\\n",
       "\t377 & 377 & 1 & 2009-01-11 & 2009 & 1 & 11 & 11 & 59.962 & 53.641 & 53.498 & ... & 62.249 & 61.565 & 61.569 & 60.631 & 61.284 & 60.050 & 1432.994 & 243.525 & 1189.469 & 27.5\\\\\n",
       "\t378 & 378 & 0 & 2009-01-12 & 2009 & 1 & 12 & 12 & 56.885 & 51.028 & 49.558 & ... & 73.163 & 68.470 & 63.423 & 63.321 & 63.632 & 62.584 & 1547.852 & 297.134 & 1250.718 & 24.0\\\\\n",
       "\t379 & 379 & 0 & 2009-01-13 & 2009 & 1 & 13 & 13 & 60.046 & 52.477 & 49.375 & ... & 72.565 & 65.340 & 60.332 & 58.320 & 59.067 & 56.065 & 1511.121 & 285.535 & 1225.586 & 27.5\\\\\n",
       "\t380 & 380 & 0 & 2009-01-14 & 2009 & 1 & 14 & 14 & 53.162 & 46.072 & 44.451 & ... & 76.140 & 69.682 & 66.275 & 66.176 & 67.027 & 65.387 & 1544.616 & 296.409 & 1248.207 & 25.5\\\\\n",
       "\t381 & 381 & 0 & 2009-01-15 & 2009 & 1 & 15 & 15 & 63.051 & 55.689 & 53.160 & ... & 75.421 & 71.342 & 68.894 & 68.452 & 69.394 & 67.798 & 1622.967 & 303.320 & 1319.647 & 13.5\\\\\n",
       "\t382 & 382 & 0 & 2009-01-16 & 2009 & 1 & 16 & 16 & 65.185 & 57.637 & 56.075 & ... & 77.956 & 71.163 & 69.113 & 68.809 & 68.289 & 66.706 & 1655.613 & 309.050 & 1346.563 & 12.0\\\\\n",
       "\t383 & 383 & 1 & 2009-01-17 & 2009 & 1 & 17 & 17 & 64.662 & 57.477 & 55.713 & ... & 64.049 & 63.025 & 63.406 & 61.582 & 61.786 & 60.223 & 1514.069 & 268.379 & 1245.690 & 13.5\\\\\n",
       "\t384 & 384 & 1 & 2009-01-18 & 2009 & 1 & 18 & 18 & 58.565 & 52.515 & 52.459 & ... & 65.075 & 64.266 & 62.903 & 63.356 & 61.794 & 61.609 & 1448.762 & 245.263 & 1203.499 & 25.5\\\\\n",
       "\t385 & 385 & 0 & 2009-01-19 & 2009 & 1 & 19 & 19 & 57.444 & 51.167 & 51.050 & ... & 63.165 & 60.653 & 58.972 & 60.796 & 61.628 & 60.009 & 1406.475 & 239.609 & 1166.866 & 27.5\\\\\n",
       "\t386 & 386 & 0 & 2009-01-20 & 2009 & 1 & 20 & 20 & 58.314 & 49.926 & 48.584 & ... & 73.652 & 66.860 & 64.326 & 63.725 & 63.435 & 62.107 & 1520.032 & 282.526 & 1237.506 & 26.5\\\\\n",
       "\t387 & 387 & 0 & 2009-01-21 & 2009 & 1 & 21 & 21 & 59.341 & 53.070 & 50.059 & ... & 70.493 & 67.040 & 65.239 & 63.498 & 63.673 & 61.551 & 1546.858 & 291.111 & 1255.747 & 20.0\\\\\n",
       "\t388 & 388 & 0 & 2009-01-22 & 2009 & 1 & 22 & 22 & 60.951 & 53.815 & 50.361 & ... & 72.172 & 68.500 & 63.665 & 62.599 & 63.063 & 61.057 & 1539.286 & 290.754 & 1248.532 & 25.0\\\\\n",
       "\t389 & 389 & 0 & 2009-01-23 & 2009 & 1 & 23 & 23 & 60.382 & 50.937 & 47.821 & ... & 69.785 & 63.594 & 59.688 & 57.718 & 57.904 & 56.356 & 1491.452 & 289.749 & 1201.703 & 32.0\\\\\n",
       "\t390 & 390 & 1 & 2009-01-24 & 2009 & 1 & 24 & 24 & 53.711 & 45.355 & 42.692 & ... & 63.415 & 62.812 & 62.927 & 63.287 & 64.185 & 63.157 & 1369.083 & 229.402 & 1139.681 & 27.5\\\\\n",
       "\t391 & 391 & 1 & 2009-01-25 & 2009 & 1 & 25 & 25 & 60.070 & 53.414 & 52.629 & ... & 61.058 & 59.942 & 59.990 & 60.682 & 60.859 & 60.581 & 1418.227 & 243.458 & 1174.769 & 16.0\\\\\n",
       "\t392 & 392 & 0 & 2009-01-26 & 2009 & 1 & 26 & 26 & 57.942 & 52.184 & 51.409 & ... & 73.372 & 67.656 & 63.944 & 62.882 & 62.856 & 61.758 & 1540.830 & 292.259 & 1248.571 & 19.5\\\\\n",
       "\t393 & 393 & 0 & 2009-01-27 & 2009 & 1 & 27 & 27 & 60.158 & 51.581 & 49.750 & ... & 71.997 & 68.199 & 63.248 & 62.441 & 61.934 & 60.499 & 1529.847 & 292.270 & 1237.577 & 24.0\\\\\n",
       "\t394 & 394 & 0 & 2009-01-28 & 2009 & 1 & 28 & 28 & 59.458 & 50.775 & 48.688 & ... & 75.285 & 68.434 & 61.521 & 60.404 & 61.052 & 59.684 & 1562.105 & 299.649 & 1262.456 & 30.0\\\\\n",
       "\t395 & 395 & 0 & 2009-01-29 & 2009 & 1 & 29 & 29 & 57.911 & 50.308 & 50.459 & ... & 71.271 & 65.588 & 60.872 & 61.462 & 61.061 & 60.023 & 1510.411 & 291.943 & 1218.468 & 31.0\\\\\n",
       "\t396 & 396 & 0 & 2009-01-30 & 2009 & 1 & 30 & 30 & 58.740 & 50.482 & 47.979 & ... & 69.203 & 64.145 & 60.061 & 58.659 & 58.890 & 58.340 & 1478.405 & 286.048 & 1192.357 & 27.5\\\\\n",
       "\t... & ... & ... & ... & ... & ... & ... & ... & ... & ... & ... &  & ... & ... & ... & ... & ... & ... & ... & ... & ... & ...\\\\\n",
       "\t4720 & 4720 & 0 & 2020-12-02 & 2020 & 12 &  2 & 337 & 37.819 & 30.552 & 28.030 & ... & 49.660 & 48.704 & 45.243 & 43.590 & 43.465 & 42.186 & 1033.215 & NA & NA & NA\\\\\n",
       "\t4721 & 4721 & 0 & 2020-12-03 & 2020 & 12 &  3 & 338 & 39.576 & 31.113 & 28.614 & ... & 49.812 & 47.168 & 44.605 & 42.602 & 42.231 & 41.802 & 1019.974 & NA & NA & NA\\\\\n",
       "\t4722 & 4722 & 0 & 2020-12-04 & 2020 & 12 &  4 & 339 & 39.875 & 31.879 & 28.434 & ... & 50.770 & 49.112 & 45.144 & 45.159 & 44.649 & 44.035 & 1053.237 & NA & NA & NA\\\\\n",
       "\t4723 & 4723 & 1 & 2020-12-05 & 2020 & 12 &  5 & 340 & 40.869 & 31.353 & 28.435 & ... & 51.822 & 50.651 & 50.210 & 49.875 & 48.409 & 48.832 & 1050.630 & NA & NA & NA\\\\\n",
       "\t4724 & 4724 & 1 & 2020-12-06 & 2020 & 12 &  6 & 341 & 45.982 & 38.912 & 38.204 & ... & 45.187 & 44.223 & 43.992 & 44.533 & 45.440 & 44.664 & 1040.902 & NA & NA & NA\\\\\n",
       "\t4725 & 4725 & 0 & 2020-12-07 & 2020 & 12 &  7 & 342 & 42.080 & 35.017 & 32.152 & ... & 54.395 & 51.566 & 47.990 & 45.327 & 45.500 & 44.100 & 1113.311 & NA & NA & NA\\\\\n",
       "\t4726 & 4726 & 0 & 2020-12-08 & 2020 & 12 &  8 & 343 & 42.246 & 35.690 & 32.728 & ... & 54.677 & 52.639 & 48.808 & 46.169 & 46.665 & 46.468 & 1131.387 & NA & NA & NA\\\\\n",
       "\t4727 & 4727 & 0 & 2020-12-09 & 2020 & 12 &  9 & 344 & 44.447 & 37.577 & 34.953 & ... & 52.427 & 50.823 & 47.658 & 46.557 & 45.529 & 44.041 & 1123.150 & NA & NA & NA\\\\\n",
       "\t4728 & 4728 & 0 & 2020-12-10 & 2020 & 12 & 10 & 345 & 42.865 & 34.815 & 32.172 & ... & 51.148 & 49.981 & 46.839 & 44.329 & 44.740 & 44.114 & 1085.838 & NA & NA & NA\\\\\n",
       "\t4729 & 4729 & 0 & 2020-12-11 & 2020 & 12 & 11 & 346 & 41.815 & 34.723 & 32.290 & ... & 51.876 & 49.933 & 46.519 & 45.648 & 45.313 & 43.887 & 1076.417 & NA & NA & NA\\\\\n",
       "\t4730 & 4730 & 1 & 2020-12-12 & 2020 & 12 & 12 & 347 & 40.916 & 32.275 & 29.647 & ... & 42.395 & 41.941 & 41.045 & 40.558 & 40.747 & 39.971 &  933.283 & NA & NA & NA\\\\\n",
       "\t4731 & 4731 & 1 & 2020-12-13 & 2020 & 12 & 13 & 348 & 38.020 & 31.665 & 30.444 & ... & 40.532 & 39.221 & 39.106 & 39.699 & 39.884 & 39.291 &  905.157 & NA & NA & NA\\\\\n",
       "\t4732 & 4732 & 0 & 2020-12-14 & 2020 & 12 & 14 & 349 & 37.197 & 33.137 & 30.586 & ... & 53.059 & 49.262 & 48.379 & 45.735 & 47.295 & 46.195 & 1093.014 & NA & NA & NA\\\\\n",
       "\t4733 & 4733 & 0 & 2020-12-15 & 2020 & 12 & 15 & 350 & 42.783 & 34.273 & 31.531 & ... & 54.858 & 53.487 & 50.738 & 48.796 & 49.106 & 49.176 & 1128.294 & NA & NA & NA\\\\\n",
       "\t4734 & 4734 & 0 & 2020-12-16 & 2020 & 12 & 16 & 351 & 46.193 & 37.724 & 35.661 & ... & 58.655 & 56.955 & 53.546 & 51.741 & 52.880 & 53.534 & 1217.808 & NA & NA & NA\\\\\n",
       "\t4735 & 4735 & 0 & 2020-12-17 & 2020 & 12 & 17 & 352 & 51.630 & 43.926 & 42.320 & ... & 57.803 & 56.917 & 54.719 & 54.827 & 54.327 & 53.772 & 1258.813 & NA & NA & NA\\\\\n",
       "\t4736 & 4736 & 0 & 2020-12-18 & 2020 & 12 & 18 & 353 & 52.213 & 44.434 & 43.114 & ... & 57.875 & 57.082 & 54.538 & 52.789 & 53.567 & 53.574 & 1261.760 & NA & NA & NA\\\\\n",
       "\t4737 & 4737 & 1 & 2020-12-19 & 2020 & 12 & 19 & 354 & 51.617 & 43.641 & 41.714 & ... & 51.475 & 51.646 & 50.721 & 50.575 & 51.075 & 50.016 & 1175.970 & NA & NA & NA\\\\\n",
       "\t4738 & 4738 & 1 & 2020-12-20 & 2020 & 12 & 20 & 355 & 47.398 & 41.236 & 39.551 & ... & 49.215 & 47.423 & 47.051 & 47.361 & 48.073 & 46.878 & 1105.150 & NA & NA & NA\\\\\n",
       "\t4739 & 4739 & 0 & 2020-12-21 & 2020 & 12 & 21 & 356 & 44.441 & 37.628 & 34.810 & ... & 57.533 & 55.617 & 51.400 & 49.713 & 50.685 & 49.870 & 1199.413 & NA & NA & NA\\\\\n",
       "\t4740 & 4740 & 0 & 2020-12-22 & 2020 & 12 & 22 & 357 & 46.605 & 37.963 & 32.862 & ... & 56.967 & 55.249 & 52.301 & 51.099 & 51.122 & 51.354 & 1190.628 & NA & NA & NA\\\\\n",
       "\t4741 & 4741 & 0 & 2020-12-23 & 2020 & 12 & 23 & 358 & 48.020 & 38.905 & 34.651 & ... & 57.116 & 55.679 & 53.100 & 50.790 & 50.794 & 50.722 & 1210.913 & NA & NA & NA\\\\\n",
       "\t4742 & 4742 & 0 & 2020-12-24 & 2020 & 12 & 24 & 359 & 47.831 & 38.766 & 35.175 & ... & 54.747 & 53.298 & 49.931 & 48.257 & 47.609 & 47.933 & 1162.454 & NA & NA & NA\\\\\n",
       "\t4743 & 4743 & 0 & 2020-12-25 & 2020 & 12 & 25 & 360 & 43.865 & 36.085 & 33.644 & ... & 45.385 & 45.702 & 44.869 & 45.013 & 45.244 & 44.375 & 1013.980 & NA & NA & NA\\\\\n",
       "\t4744 & 4744 & 1 & 2020-12-26 & 2020 & 12 & 26 & 361 & 42.359 & 35.958 & 33.905 & ... & 50.772 & 50.178 & 48.901 & 49.788 & 49.276 & 49.134 & 1092.785 & NA & NA & NA\\\\\n",
       "\t4745 & 4745 & 1 & 2020-12-27 & 2020 & 12 & 27 & 362 & 45.860 & 39.104 & 37.629 & ... & 47.438 & 47.567 & 47.404 & 46.761 & 47.471 & 45.399 & 1069.708 & NA & NA & NA\\\\\n",
       "\t4746 & 4746 & 0 & 2020-12-28 & 2020 & 12 & 28 & 363 & 42.189 & 37.789 & 34.205 & ... & 53.292 & 52.516 & 49.685 & 47.226 & 47.438 & 45.894 & 1140.568 & NA & NA & NA\\\\\n",
       "\t4747 & 4747 & 0 & 2020-12-29 & 2020 & 12 & 29 & 364 & 43.157 & 33.517 & 30.578 & ... & 55.282 & 52.969 & 49.839 & 48.874 & 48.792 & 48.434 & 1123.031 & NA & NA & NA\\\\\n",
       "\t4748 & 4748 & 0 & 2020-12-30 & 2020 & 12 & 30 & 365 & 45.134 & 36.896 & 34.473 & ... & 53.484 & 51.129 & 48.119 & 46.588 & 45.968 & 45.558 & 1134.845 & NA & NA & NA\\\\\n",
       "\t4749 & 4749 & 0 & 2020-12-31 & 2020 & 12 & 31 & 366 & 42.722 & 34.553 & 31.420 & ... & 46.439 & 46.645 & 44.875 & 44.979 & 45.394 & 44.506 & 1033.005 & NA & NA & NA\\\\\n",
       "\\end{tabular}\n"
      ],
      "text/markdown": [
       "\n",
       "A data.frame: 4383 × 35\n",
       "\n",
       "| <!--/--> | X &lt;int&gt; | WJ &lt;int&gt; | Date &lt;date&gt; | Year &lt;int&gt; | Month &lt;int&gt; | Day.of.Month &lt;int&gt; | Day.of.Year &lt;int&gt; | Hour.1 &lt;dbl&gt; | Hour.2 &lt;dbl&gt; | Hour.3 &lt;dbl&gt; | ... ... | Hour.19 &lt;dbl&gt; | Hour.20 &lt;dbl&gt; | Hour.21 &lt;dbl&gt; | Hour.22 &lt;dbl&gt; | Hour.23 &lt;dbl&gt; | Hour.24 &lt;dbl&gt; | Total.Daily.Load &lt;dbl&gt; | on.peak &lt;dbl&gt; | off.peak &lt;dbl&gt; | TAVG &lt;dbl&gt; |\n",
       "|---|---|---|---|---|---|---|---|---|---|---|---|---|---|---|---|---|---|---|---|---|---|\n",
       "| 367 | 367 | 0 | 2009-01-01 | 2009 | 1 |  1 |  1 | 76.353 | 74.555 | 69.647 | ... | 68.596 | 68.224 | 67.343 | 67.256 | 67.210 | 66.241 | 1600.212 | 265.248 | 1334.964 | 12.5 |\n",
       "| 368 | 368 | 0 | 2009-01-02 | 2009 | 1 |  2 |  2 | 64.638 | 57.381 | 55.696 | ... | 69.902 | 64.802 | 62.062 | 61.031 | 61.225 | 58.939 | 1547.151 | 301.619 | 1245.532 | 24.0 |\n",
       "| 369 | 369 | 1 | 2009-01-03 | 2009 | 1 |  3 |  3 | 55.865 | 48.374 | 46.659 | ... | 61.690 | 60.755 | 59.600 | 60.629 | 60.163 | 59.440 | 1374.963 | 234.510 | 1140.453 | 29.0 |\n",
       "| 370 | 370 | 1 | 2009-01-04 | 2009 | 1 |  4 |  4 | 56.272 | 49.135 | 48.036 | ... | 56.616 | 56.362 | 55.003 | 56.269 | 56.032 | 55.832 | 1298.538 | 223.299 | 1075.239 | 30.0 |\n",
       "| 371 | 371 | 0 | 2009-01-05 | 2009 | 1 |  5 |  5 | 53.368 | 47.039 | 44.416 | ... | 68.755 | 64.032 | 59.391 | 58.658 | 58.341 | 57.924 | 1429.619 | 273.158 | 1156.461 | 33.0 |\n",
       "| 372 | 372 | 0 | 2009-01-06 | 2009 | 1 |  6 |  6 | 53.578 | 44.545 | 42.242 | ... | 66.444 | 61.828 | 57.771 | 56.863 | 57.380 | 54.572 | 1403.528 | 272.919 | 1130.609 | 30.5 |\n",
       "| 373 | 373 | 0 | 2009-01-07 | 2009 | 1 |  7 |  7 | 53.819 | 50.624 | 51.749 | ... | 72.182 | 66.223 | 61.278 | 60.620 | 62.008 | 60.814 | 1527.052 | 291.287 | 1235.765 | 33.5 |\n",
       "| 374 | 374 | 0 | 2009-01-08 | 2009 | 1 |  8 |  8 | 57.544 | 50.397 | 50.441 | ... | 71.374 | 66.454 | 61.955 | 62.013 | 63.152 | 60.838 | 1479.261 | 269.715 | 1209.546 | 32.5 |\n",
       "| 375 | 375 | 0 | 2009-01-09 | 2009 | 1 |  9 |  9 | 57.890 | 50.337 | 47.941 | ... | 74.010 | 68.511 | 65.108 | 62.079 | 62.524 | 61.136 | 1531.058 | 289.567 | 1241.491 | 24.5 |\n",
       "| 376 | 376 | 1 | 2009-01-10 | 2009 | 1 | 10 | 10 | 59.132 | 53.667 | 50.057 | ... | 61.956 | 59.946 | 60.171 | 62.759 | 64.457 | 62.504 | 1444.593 | 248.873 | 1195.720 | 21.5 |\n",
       "| 377 | 377 | 1 | 2009-01-11 | 2009 | 1 | 11 | 11 | 59.962 | 53.641 | 53.498 | ... | 62.249 | 61.565 | 61.569 | 60.631 | 61.284 | 60.050 | 1432.994 | 243.525 | 1189.469 | 27.5 |\n",
       "| 378 | 378 | 0 | 2009-01-12 | 2009 | 1 | 12 | 12 | 56.885 | 51.028 | 49.558 | ... | 73.163 | 68.470 | 63.423 | 63.321 | 63.632 | 62.584 | 1547.852 | 297.134 | 1250.718 | 24.0 |\n",
       "| 379 | 379 | 0 | 2009-01-13 | 2009 | 1 | 13 | 13 | 60.046 | 52.477 | 49.375 | ... | 72.565 | 65.340 | 60.332 | 58.320 | 59.067 | 56.065 | 1511.121 | 285.535 | 1225.586 | 27.5 |\n",
       "| 380 | 380 | 0 | 2009-01-14 | 2009 | 1 | 14 | 14 | 53.162 | 46.072 | 44.451 | ... | 76.140 | 69.682 | 66.275 | 66.176 | 67.027 | 65.387 | 1544.616 | 296.409 | 1248.207 | 25.5 |\n",
       "| 381 | 381 | 0 | 2009-01-15 | 2009 | 1 | 15 | 15 | 63.051 | 55.689 | 53.160 | ... | 75.421 | 71.342 | 68.894 | 68.452 | 69.394 | 67.798 | 1622.967 | 303.320 | 1319.647 | 13.5 |\n",
       "| 382 | 382 | 0 | 2009-01-16 | 2009 | 1 | 16 | 16 | 65.185 | 57.637 | 56.075 | ... | 77.956 | 71.163 | 69.113 | 68.809 | 68.289 | 66.706 | 1655.613 | 309.050 | 1346.563 | 12.0 |\n",
       "| 383 | 383 | 1 | 2009-01-17 | 2009 | 1 | 17 | 17 | 64.662 | 57.477 | 55.713 | ... | 64.049 | 63.025 | 63.406 | 61.582 | 61.786 | 60.223 | 1514.069 | 268.379 | 1245.690 | 13.5 |\n",
       "| 384 | 384 | 1 | 2009-01-18 | 2009 | 1 | 18 | 18 | 58.565 | 52.515 | 52.459 | ... | 65.075 | 64.266 | 62.903 | 63.356 | 61.794 | 61.609 | 1448.762 | 245.263 | 1203.499 | 25.5 |\n",
       "| 385 | 385 | 0 | 2009-01-19 | 2009 | 1 | 19 | 19 | 57.444 | 51.167 | 51.050 | ... | 63.165 | 60.653 | 58.972 | 60.796 | 61.628 | 60.009 | 1406.475 | 239.609 | 1166.866 | 27.5 |\n",
       "| 386 | 386 | 0 | 2009-01-20 | 2009 | 1 | 20 | 20 | 58.314 | 49.926 | 48.584 | ... | 73.652 | 66.860 | 64.326 | 63.725 | 63.435 | 62.107 | 1520.032 | 282.526 | 1237.506 | 26.5 |\n",
       "| 387 | 387 | 0 | 2009-01-21 | 2009 | 1 | 21 | 21 | 59.341 | 53.070 | 50.059 | ... | 70.493 | 67.040 | 65.239 | 63.498 | 63.673 | 61.551 | 1546.858 | 291.111 | 1255.747 | 20.0 |\n",
       "| 388 | 388 | 0 | 2009-01-22 | 2009 | 1 | 22 | 22 | 60.951 | 53.815 | 50.361 | ... | 72.172 | 68.500 | 63.665 | 62.599 | 63.063 | 61.057 | 1539.286 | 290.754 | 1248.532 | 25.0 |\n",
       "| 389 | 389 | 0 | 2009-01-23 | 2009 | 1 | 23 | 23 | 60.382 | 50.937 | 47.821 | ... | 69.785 | 63.594 | 59.688 | 57.718 | 57.904 | 56.356 | 1491.452 | 289.749 | 1201.703 | 32.0 |\n",
       "| 390 | 390 | 1 | 2009-01-24 | 2009 | 1 | 24 | 24 | 53.711 | 45.355 | 42.692 | ... | 63.415 | 62.812 | 62.927 | 63.287 | 64.185 | 63.157 | 1369.083 | 229.402 | 1139.681 | 27.5 |\n",
       "| 391 | 391 | 1 | 2009-01-25 | 2009 | 1 | 25 | 25 | 60.070 | 53.414 | 52.629 | ... | 61.058 | 59.942 | 59.990 | 60.682 | 60.859 | 60.581 | 1418.227 | 243.458 | 1174.769 | 16.0 |\n",
       "| 392 | 392 | 0 | 2009-01-26 | 2009 | 1 | 26 | 26 | 57.942 | 52.184 | 51.409 | ... | 73.372 | 67.656 | 63.944 | 62.882 | 62.856 | 61.758 | 1540.830 | 292.259 | 1248.571 | 19.5 |\n",
       "| 393 | 393 | 0 | 2009-01-27 | 2009 | 1 | 27 | 27 | 60.158 | 51.581 | 49.750 | ... | 71.997 | 68.199 | 63.248 | 62.441 | 61.934 | 60.499 | 1529.847 | 292.270 | 1237.577 | 24.0 |\n",
       "| 394 | 394 | 0 | 2009-01-28 | 2009 | 1 | 28 | 28 | 59.458 | 50.775 | 48.688 | ... | 75.285 | 68.434 | 61.521 | 60.404 | 61.052 | 59.684 | 1562.105 | 299.649 | 1262.456 | 30.0 |\n",
       "| 395 | 395 | 0 | 2009-01-29 | 2009 | 1 | 29 | 29 | 57.911 | 50.308 | 50.459 | ... | 71.271 | 65.588 | 60.872 | 61.462 | 61.061 | 60.023 | 1510.411 | 291.943 | 1218.468 | 31.0 |\n",
       "| 396 | 396 | 0 | 2009-01-30 | 2009 | 1 | 30 | 30 | 58.740 | 50.482 | 47.979 | ... | 69.203 | 64.145 | 60.061 | 58.659 | 58.890 | 58.340 | 1478.405 | 286.048 | 1192.357 | 27.5 |\n",
       "| ... | ... | ... | ... | ... | ... | ... | ... | ... | ... | ... | <!----> | ... | ... | ... | ... | ... | ... | ... | ... | ... | ... |\n",
       "| 4720 | 4720 | 0 | 2020-12-02 | 2020 | 12 |  2 | 337 | 37.819 | 30.552 | 28.030 | ... | 49.660 | 48.704 | 45.243 | 43.590 | 43.465 | 42.186 | 1033.215 | NA | NA | NA |\n",
       "| 4721 | 4721 | 0 | 2020-12-03 | 2020 | 12 |  3 | 338 | 39.576 | 31.113 | 28.614 | ... | 49.812 | 47.168 | 44.605 | 42.602 | 42.231 | 41.802 | 1019.974 | NA | NA | NA |\n",
       "| 4722 | 4722 | 0 | 2020-12-04 | 2020 | 12 |  4 | 339 | 39.875 | 31.879 | 28.434 | ... | 50.770 | 49.112 | 45.144 | 45.159 | 44.649 | 44.035 | 1053.237 | NA | NA | NA |\n",
       "| 4723 | 4723 | 1 | 2020-12-05 | 2020 | 12 |  5 | 340 | 40.869 | 31.353 | 28.435 | ... | 51.822 | 50.651 | 50.210 | 49.875 | 48.409 | 48.832 | 1050.630 | NA | NA | NA |\n",
       "| 4724 | 4724 | 1 | 2020-12-06 | 2020 | 12 |  6 | 341 | 45.982 | 38.912 | 38.204 | ... | 45.187 | 44.223 | 43.992 | 44.533 | 45.440 | 44.664 | 1040.902 | NA | NA | NA |\n",
       "| 4725 | 4725 | 0 | 2020-12-07 | 2020 | 12 |  7 | 342 | 42.080 | 35.017 | 32.152 | ... | 54.395 | 51.566 | 47.990 | 45.327 | 45.500 | 44.100 | 1113.311 | NA | NA | NA |\n",
       "| 4726 | 4726 | 0 | 2020-12-08 | 2020 | 12 |  8 | 343 | 42.246 | 35.690 | 32.728 | ... | 54.677 | 52.639 | 48.808 | 46.169 | 46.665 | 46.468 | 1131.387 | NA | NA | NA |\n",
       "| 4727 | 4727 | 0 | 2020-12-09 | 2020 | 12 |  9 | 344 | 44.447 | 37.577 | 34.953 | ... | 52.427 | 50.823 | 47.658 | 46.557 | 45.529 | 44.041 | 1123.150 | NA | NA | NA |\n",
       "| 4728 | 4728 | 0 | 2020-12-10 | 2020 | 12 | 10 | 345 | 42.865 | 34.815 | 32.172 | ... | 51.148 | 49.981 | 46.839 | 44.329 | 44.740 | 44.114 | 1085.838 | NA | NA | NA |\n",
       "| 4729 | 4729 | 0 | 2020-12-11 | 2020 | 12 | 11 | 346 | 41.815 | 34.723 | 32.290 | ... | 51.876 | 49.933 | 46.519 | 45.648 | 45.313 | 43.887 | 1076.417 | NA | NA | NA |\n",
       "| 4730 | 4730 | 1 | 2020-12-12 | 2020 | 12 | 12 | 347 | 40.916 | 32.275 | 29.647 | ... | 42.395 | 41.941 | 41.045 | 40.558 | 40.747 | 39.971 |  933.283 | NA | NA | NA |\n",
       "| 4731 | 4731 | 1 | 2020-12-13 | 2020 | 12 | 13 | 348 | 38.020 | 31.665 | 30.444 | ... | 40.532 | 39.221 | 39.106 | 39.699 | 39.884 | 39.291 |  905.157 | NA | NA | NA |\n",
       "| 4732 | 4732 | 0 | 2020-12-14 | 2020 | 12 | 14 | 349 | 37.197 | 33.137 | 30.586 | ... | 53.059 | 49.262 | 48.379 | 45.735 | 47.295 | 46.195 | 1093.014 | NA | NA | NA |\n",
       "| 4733 | 4733 | 0 | 2020-12-15 | 2020 | 12 | 15 | 350 | 42.783 | 34.273 | 31.531 | ... | 54.858 | 53.487 | 50.738 | 48.796 | 49.106 | 49.176 | 1128.294 | NA | NA | NA |\n",
       "| 4734 | 4734 | 0 | 2020-12-16 | 2020 | 12 | 16 | 351 | 46.193 | 37.724 | 35.661 | ... | 58.655 | 56.955 | 53.546 | 51.741 | 52.880 | 53.534 | 1217.808 | NA | NA | NA |\n",
       "| 4735 | 4735 | 0 | 2020-12-17 | 2020 | 12 | 17 | 352 | 51.630 | 43.926 | 42.320 | ... | 57.803 | 56.917 | 54.719 | 54.827 | 54.327 | 53.772 | 1258.813 | NA | NA | NA |\n",
       "| 4736 | 4736 | 0 | 2020-12-18 | 2020 | 12 | 18 | 353 | 52.213 | 44.434 | 43.114 | ... | 57.875 | 57.082 | 54.538 | 52.789 | 53.567 | 53.574 | 1261.760 | NA | NA | NA |\n",
       "| 4737 | 4737 | 1 | 2020-12-19 | 2020 | 12 | 19 | 354 | 51.617 | 43.641 | 41.714 | ... | 51.475 | 51.646 | 50.721 | 50.575 | 51.075 | 50.016 | 1175.970 | NA | NA | NA |\n",
       "| 4738 | 4738 | 1 | 2020-12-20 | 2020 | 12 | 20 | 355 | 47.398 | 41.236 | 39.551 | ... | 49.215 | 47.423 | 47.051 | 47.361 | 48.073 | 46.878 | 1105.150 | NA | NA | NA |\n",
       "| 4739 | 4739 | 0 | 2020-12-21 | 2020 | 12 | 21 | 356 | 44.441 | 37.628 | 34.810 | ... | 57.533 | 55.617 | 51.400 | 49.713 | 50.685 | 49.870 | 1199.413 | NA | NA | NA |\n",
       "| 4740 | 4740 | 0 | 2020-12-22 | 2020 | 12 | 22 | 357 | 46.605 | 37.963 | 32.862 | ... | 56.967 | 55.249 | 52.301 | 51.099 | 51.122 | 51.354 | 1190.628 | NA | NA | NA |\n",
       "| 4741 | 4741 | 0 | 2020-12-23 | 2020 | 12 | 23 | 358 | 48.020 | 38.905 | 34.651 | ... | 57.116 | 55.679 | 53.100 | 50.790 | 50.794 | 50.722 | 1210.913 | NA | NA | NA |\n",
       "| 4742 | 4742 | 0 | 2020-12-24 | 2020 | 12 | 24 | 359 | 47.831 | 38.766 | 35.175 | ... | 54.747 | 53.298 | 49.931 | 48.257 | 47.609 | 47.933 | 1162.454 | NA | NA | NA |\n",
       "| 4743 | 4743 | 0 | 2020-12-25 | 2020 | 12 | 25 | 360 | 43.865 | 36.085 | 33.644 | ... | 45.385 | 45.702 | 44.869 | 45.013 | 45.244 | 44.375 | 1013.980 | NA | NA | NA |\n",
       "| 4744 | 4744 | 1 | 2020-12-26 | 2020 | 12 | 26 | 361 | 42.359 | 35.958 | 33.905 | ... | 50.772 | 50.178 | 48.901 | 49.788 | 49.276 | 49.134 | 1092.785 | NA | NA | NA |\n",
       "| 4745 | 4745 | 1 | 2020-12-27 | 2020 | 12 | 27 | 362 | 45.860 | 39.104 | 37.629 | ... | 47.438 | 47.567 | 47.404 | 46.761 | 47.471 | 45.399 | 1069.708 | NA | NA | NA |\n",
       "| 4746 | 4746 | 0 | 2020-12-28 | 2020 | 12 | 28 | 363 | 42.189 | 37.789 | 34.205 | ... | 53.292 | 52.516 | 49.685 | 47.226 | 47.438 | 45.894 | 1140.568 | NA | NA | NA |\n",
       "| 4747 | 4747 | 0 | 2020-12-29 | 2020 | 12 | 29 | 364 | 43.157 | 33.517 | 30.578 | ... | 55.282 | 52.969 | 49.839 | 48.874 | 48.792 | 48.434 | 1123.031 | NA | NA | NA |\n",
       "| 4748 | 4748 | 0 | 2020-12-30 | 2020 | 12 | 30 | 365 | 45.134 | 36.896 | 34.473 | ... | 53.484 | 51.129 | 48.119 | 46.588 | 45.968 | 45.558 | 1134.845 | NA | NA | NA |\n",
       "| 4749 | 4749 | 0 | 2020-12-31 | 2020 | 12 | 31 | 366 | 42.722 | 34.553 | 31.420 | ... | 46.439 | 46.645 | 44.875 | 44.979 | 45.394 | 44.506 | 1033.005 | NA | NA | NA |\n",
       "\n"
      ],
      "text/plain": [
       "     X    WJ  Date       Year Month Day.of.Month Day.of.Year Hour.1 Hour.2\n",
       "367  367  0   2009-01-01 2009 1      1            1          76.353 74.555\n",
       "368  368  0   2009-01-02 2009 1      2            2          64.638 57.381\n",
       "369  369  1   2009-01-03 2009 1      3            3          55.865 48.374\n",
       "370  370  1   2009-01-04 2009 1      4            4          56.272 49.135\n",
       "371  371  0   2009-01-05 2009 1      5            5          53.368 47.039\n",
       "372  372  0   2009-01-06 2009 1      6            6          53.578 44.545\n",
       "373  373  0   2009-01-07 2009 1      7            7          53.819 50.624\n",
       "374  374  0   2009-01-08 2009 1      8            8          57.544 50.397\n",
       "375  375  0   2009-01-09 2009 1      9            9          57.890 50.337\n",
       "376  376  1   2009-01-10 2009 1     10           10          59.132 53.667\n",
       "377  377  1   2009-01-11 2009 1     11           11          59.962 53.641\n",
       "378  378  0   2009-01-12 2009 1     12           12          56.885 51.028\n",
       "379  379  0   2009-01-13 2009 1     13           13          60.046 52.477\n",
       "380  380  0   2009-01-14 2009 1     14           14          53.162 46.072\n",
       "381  381  0   2009-01-15 2009 1     15           15          63.051 55.689\n",
       "382  382  0   2009-01-16 2009 1     16           16          65.185 57.637\n",
       "383  383  1   2009-01-17 2009 1     17           17          64.662 57.477\n",
       "384  384  1   2009-01-18 2009 1     18           18          58.565 52.515\n",
       "385  385  0   2009-01-19 2009 1     19           19          57.444 51.167\n",
       "386  386  0   2009-01-20 2009 1     20           20          58.314 49.926\n",
       "387  387  0   2009-01-21 2009 1     21           21          59.341 53.070\n",
       "388  388  0   2009-01-22 2009 1     22           22          60.951 53.815\n",
       "389  389  0   2009-01-23 2009 1     23           23          60.382 50.937\n",
       "390  390  1   2009-01-24 2009 1     24           24          53.711 45.355\n",
       "391  391  1   2009-01-25 2009 1     25           25          60.070 53.414\n",
       "392  392  0   2009-01-26 2009 1     26           26          57.942 52.184\n",
       "393  393  0   2009-01-27 2009 1     27           27          60.158 51.581\n",
       "394  394  0   2009-01-28 2009 1     28           28          59.458 50.775\n",
       "395  395  0   2009-01-29 2009 1     29           29          57.911 50.308\n",
       "396  396  0   2009-01-30 2009 1     30           30          58.740 50.482\n",
       "...  ...  ... ...        ...  ...   ...          ...         ...    ...   \n",
       "4720 4720 0   2020-12-02 2020 12     2           337         37.819 30.552\n",
       "4721 4721 0   2020-12-03 2020 12     3           338         39.576 31.113\n",
       "4722 4722 0   2020-12-04 2020 12     4           339         39.875 31.879\n",
       "4723 4723 1   2020-12-05 2020 12     5           340         40.869 31.353\n",
       "4724 4724 1   2020-12-06 2020 12     6           341         45.982 38.912\n",
       "4725 4725 0   2020-12-07 2020 12     7           342         42.080 35.017\n",
       "4726 4726 0   2020-12-08 2020 12     8           343         42.246 35.690\n",
       "4727 4727 0   2020-12-09 2020 12     9           344         44.447 37.577\n",
       "4728 4728 0   2020-12-10 2020 12    10           345         42.865 34.815\n",
       "4729 4729 0   2020-12-11 2020 12    11           346         41.815 34.723\n",
       "4730 4730 1   2020-12-12 2020 12    12           347         40.916 32.275\n",
       "4731 4731 1   2020-12-13 2020 12    13           348         38.020 31.665\n",
       "4732 4732 0   2020-12-14 2020 12    14           349         37.197 33.137\n",
       "4733 4733 0   2020-12-15 2020 12    15           350         42.783 34.273\n",
       "4734 4734 0   2020-12-16 2020 12    16           351         46.193 37.724\n",
       "4735 4735 0   2020-12-17 2020 12    17           352         51.630 43.926\n",
       "4736 4736 0   2020-12-18 2020 12    18           353         52.213 44.434\n",
       "4737 4737 1   2020-12-19 2020 12    19           354         51.617 43.641\n",
       "4738 4738 1   2020-12-20 2020 12    20           355         47.398 41.236\n",
       "4739 4739 0   2020-12-21 2020 12    21           356         44.441 37.628\n",
       "4740 4740 0   2020-12-22 2020 12    22           357         46.605 37.963\n",
       "4741 4741 0   2020-12-23 2020 12    23           358         48.020 38.905\n",
       "4742 4742 0   2020-12-24 2020 12    24           359         47.831 38.766\n",
       "4743 4743 0   2020-12-25 2020 12    25           360         43.865 36.085\n",
       "4744 4744 1   2020-12-26 2020 12    26           361         42.359 35.958\n",
       "4745 4745 1   2020-12-27 2020 12    27           362         45.860 39.104\n",
       "4746 4746 0   2020-12-28 2020 12    28           363         42.189 37.789\n",
       "4747 4747 0   2020-12-29 2020 12    29           364         43.157 33.517\n",
       "4748 4748 0   2020-12-30 2020 12    30           365         45.134 36.896\n",
       "4749 4749 0   2020-12-31 2020 12    31           366         42.722 34.553\n",
       "     Hour.3 ... Hour.19 Hour.20 Hour.21 Hour.22 Hour.23 Hour.24\n",
       "367  69.647 ... 68.596  68.224  67.343  67.256  67.210  66.241 \n",
       "368  55.696 ... 69.902  64.802  62.062  61.031  61.225  58.939 \n",
       "369  46.659 ... 61.690  60.755  59.600  60.629  60.163  59.440 \n",
       "370  48.036 ... 56.616  56.362  55.003  56.269  56.032  55.832 \n",
       "371  44.416 ... 68.755  64.032  59.391  58.658  58.341  57.924 \n",
       "372  42.242 ... 66.444  61.828  57.771  56.863  57.380  54.572 \n",
       "373  51.749 ... 72.182  66.223  61.278  60.620  62.008  60.814 \n",
       "374  50.441 ... 71.374  66.454  61.955  62.013  63.152  60.838 \n",
       "375  47.941 ... 74.010  68.511  65.108  62.079  62.524  61.136 \n",
       "376  50.057 ... 61.956  59.946  60.171  62.759  64.457  62.504 \n",
       "377  53.498 ... 62.249  61.565  61.569  60.631  61.284  60.050 \n",
       "378  49.558 ... 73.163  68.470  63.423  63.321  63.632  62.584 \n",
       "379  49.375 ... 72.565  65.340  60.332  58.320  59.067  56.065 \n",
       "380  44.451 ... 76.140  69.682  66.275  66.176  67.027  65.387 \n",
       "381  53.160 ... 75.421  71.342  68.894  68.452  69.394  67.798 \n",
       "382  56.075 ... 77.956  71.163  69.113  68.809  68.289  66.706 \n",
       "383  55.713 ... 64.049  63.025  63.406  61.582  61.786  60.223 \n",
       "384  52.459 ... 65.075  64.266  62.903  63.356  61.794  61.609 \n",
       "385  51.050 ... 63.165  60.653  58.972  60.796  61.628  60.009 \n",
       "386  48.584 ... 73.652  66.860  64.326  63.725  63.435  62.107 \n",
       "387  50.059 ... 70.493  67.040  65.239  63.498  63.673  61.551 \n",
       "388  50.361 ... 72.172  68.500  63.665  62.599  63.063  61.057 \n",
       "389  47.821 ... 69.785  63.594  59.688  57.718  57.904  56.356 \n",
       "390  42.692 ... 63.415  62.812  62.927  63.287  64.185  63.157 \n",
       "391  52.629 ... 61.058  59.942  59.990  60.682  60.859  60.581 \n",
       "392  51.409 ... 73.372  67.656  63.944  62.882  62.856  61.758 \n",
       "393  49.750 ... 71.997  68.199  63.248  62.441  61.934  60.499 \n",
       "394  48.688 ... 75.285  68.434  61.521  60.404  61.052  59.684 \n",
       "395  50.459 ... 71.271  65.588  60.872  61.462  61.061  60.023 \n",
       "396  47.979 ... 69.203  64.145  60.061  58.659  58.890  58.340 \n",
       "...  ...        ...     ...     ...     ...     ...     ...    \n",
       "4720 28.030 ... 49.660  48.704  45.243  43.590  43.465  42.186 \n",
       "4721 28.614 ... 49.812  47.168  44.605  42.602  42.231  41.802 \n",
       "4722 28.434 ... 50.770  49.112  45.144  45.159  44.649  44.035 \n",
       "4723 28.435 ... 51.822  50.651  50.210  49.875  48.409  48.832 \n",
       "4724 38.204 ... 45.187  44.223  43.992  44.533  45.440  44.664 \n",
       "4725 32.152 ... 54.395  51.566  47.990  45.327  45.500  44.100 \n",
       "4726 32.728 ... 54.677  52.639  48.808  46.169  46.665  46.468 \n",
       "4727 34.953 ... 52.427  50.823  47.658  46.557  45.529  44.041 \n",
       "4728 32.172 ... 51.148  49.981  46.839  44.329  44.740  44.114 \n",
       "4729 32.290 ... 51.876  49.933  46.519  45.648  45.313  43.887 \n",
       "4730 29.647 ... 42.395  41.941  41.045  40.558  40.747  39.971 \n",
       "4731 30.444 ... 40.532  39.221  39.106  39.699  39.884  39.291 \n",
       "4732 30.586 ... 53.059  49.262  48.379  45.735  47.295  46.195 \n",
       "4733 31.531 ... 54.858  53.487  50.738  48.796  49.106  49.176 \n",
       "4734 35.661 ... 58.655  56.955  53.546  51.741  52.880  53.534 \n",
       "4735 42.320 ... 57.803  56.917  54.719  54.827  54.327  53.772 \n",
       "4736 43.114 ... 57.875  57.082  54.538  52.789  53.567  53.574 \n",
       "4737 41.714 ... 51.475  51.646  50.721  50.575  51.075  50.016 \n",
       "4738 39.551 ... 49.215  47.423  47.051  47.361  48.073  46.878 \n",
       "4739 34.810 ... 57.533  55.617  51.400  49.713  50.685  49.870 \n",
       "4740 32.862 ... 56.967  55.249  52.301  51.099  51.122  51.354 \n",
       "4741 34.651 ... 57.116  55.679  53.100  50.790  50.794  50.722 \n",
       "4742 35.175 ... 54.747  53.298  49.931  48.257  47.609  47.933 \n",
       "4743 33.644 ... 45.385  45.702  44.869  45.013  45.244  44.375 \n",
       "4744 33.905 ... 50.772  50.178  48.901  49.788  49.276  49.134 \n",
       "4745 37.629 ... 47.438  47.567  47.404  46.761  47.471  45.399 \n",
       "4746 34.205 ... 53.292  52.516  49.685  47.226  47.438  45.894 \n",
       "4747 30.578 ... 55.282  52.969  49.839  48.874  48.792  48.434 \n",
       "4748 34.473 ... 53.484  51.129  48.119  46.588  45.968  45.558 \n",
       "4749 31.420 ... 46.439  46.645  44.875  44.979  45.394  44.506 \n",
       "     Total.Daily.Load on.peak off.peak TAVG\n",
       "367  1600.212         265.248 1334.964 12.5\n",
       "368  1547.151         301.619 1245.532 24.0\n",
       "369  1374.963         234.510 1140.453 29.0\n",
       "370  1298.538         223.299 1075.239 30.0\n",
       "371  1429.619         273.158 1156.461 33.0\n",
       "372  1403.528         272.919 1130.609 30.5\n",
       "373  1527.052         291.287 1235.765 33.5\n",
       "374  1479.261         269.715 1209.546 32.5\n",
       "375  1531.058         289.567 1241.491 24.5\n",
       "376  1444.593         248.873 1195.720 21.5\n",
       "377  1432.994         243.525 1189.469 27.5\n",
       "378  1547.852         297.134 1250.718 24.0\n",
       "379  1511.121         285.535 1225.586 27.5\n",
       "380  1544.616         296.409 1248.207 25.5\n",
       "381  1622.967         303.320 1319.647 13.5\n",
       "382  1655.613         309.050 1346.563 12.0\n",
       "383  1514.069         268.379 1245.690 13.5\n",
       "384  1448.762         245.263 1203.499 25.5\n",
       "385  1406.475         239.609 1166.866 27.5\n",
       "386  1520.032         282.526 1237.506 26.5\n",
       "387  1546.858         291.111 1255.747 20.0\n",
       "388  1539.286         290.754 1248.532 25.0\n",
       "389  1491.452         289.749 1201.703 32.0\n",
       "390  1369.083         229.402 1139.681 27.5\n",
       "391  1418.227         243.458 1174.769 16.0\n",
       "392  1540.830         292.259 1248.571 19.5\n",
       "393  1529.847         292.270 1237.577 24.0\n",
       "394  1562.105         299.649 1262.456 30.0\n",
       "395  1510.411         291.943 1218.468 31.0\n",
       "396  1478.405         286.048 1192.357 27.5\n",
       "...  ...              ...     ...      ... \n",
       "4720 1033.215         NA      NA       NA  \n",
       "4721 1019.974         NA      NA       NA  \n",
       "4722 1053.237         NA      NA       NA  \n",
       "4723 1050.630         NA      NA       NA  \n",
       "4724 1040.902         NA      NA       NA  \n",
       "4725 1113.311         NA      NA       NA  \n",
       "4726 1131.387         NA      NA       NA  \n",
       "4727 1123.150         NA      NA       NA  \n",
       "4728 1085.838         NA      NA       NA  \n",
       "4729 1076.417         NA      NA       NA  \n",
       "4730  933.283         NA      NA       NA  \n",
       "4731  905.157         NA      NA       NA  \n",
       "4732 1093.014         NA      NA       NA  \n",
       "4733 1128.294         NA      NA       NA  \n",
       "4734 1217.808         NA      NA       NA  \n",
       "4735 1258.813         NA      NA       NA  \n",
       "4736 1261.760         NA      NA       NA  \n",
       "4737 1175.970         NA      NA       NA  \n",
       "4738 1105.150         NA      NA       NA  \n",
       "4739 1199.413         NA      NA       NA  \n",
       "4740 1190.628         NA      NA       NA  \n",
       "4741 1210.913         NA      NA       NA  \n",
       "4742 1162.454         NA      NA       NA  \n",
       "4743 1013.980         NA      NA       NA  \n",
       "4744 1092.785         NA      NA       NA  \n",
       "4745 1069.708         NA      NA       NA  \n",
       "4746 1140.568         NA      NA       NA  \n",
       "4747 1123.031         NA      NA       NA  \n",
       "4748 1134.845         NA      NA       NA  \n",
       "4749 1033.005         NA      NA       NA  "
      ]
     },
     "metadata": {},
     "output_type": "display_data"
    }
   ],
   "source": [
    "wholedata_frame"
   ]
  },
  {
   "cell_type": "code",
   "execution_count": 18,
   "metadata": {},
   "outputs": [],
   "source": [
    "wholedata_frame = wholedata_frame[wholedata_frame$Year!=2008,]"
   ]
  },
  {
   "cell_type": "code",
   "execution_count": 20,
   "metadata": {},
   "outputs": [
    {
     "data": {
      "text/html": [
       "<table class=\"dataframe\">\n",
       "<caption>A data.frame: 12 × 5</caption>\n",
       "<thead>\n",
       "\t<tr><th scope=col>month</th><th scope=col>mean</th><th scope=col>max</th><th scope=col>min</th><th scope=col>median</th></tr>\n",
       "\t<tr><th scope=col>&lt;fct&gt;</th><th scope=col>&lt;dbl&gt;</th><th scope=col>&lt;dbl&gt;</th><th scope=col>&lt;dbl&gt;</th><th scope=col>&lt;dbl&gt;</th></tr>\n",
       "</thead>\n",
       "<tbody>\n",
       "\t<tr><td>January  </td><td>42653.09</td><td>46225.32</td><td>38666.68</td><td>42495.70</td></tr>\n",
       "\t<tr><td>February </td><td>38203.05</td><td>40844.29</td><td>35766.88</td><td>38481.13</td></tr>\n",
       "\t<tr><td>March    </td><td>38676.16</td><td>41652.02</td><td>33597.76</td><td>38872.87</td></tr>\n",
       "\t<tr><td>April    </td><td>33374.59</td><td>34494.05</td><td>30105.90</td><td>33472.67</td></tr>\n",
       "\t<tr><td>May      </td><td>32149.68</td><td>33407.19</td><td>29158.05</td><td>32324.05</td></tr>\n",
       "\t<tr><td>June     </td><td>31781.32</td><td>33337.88</td><td>29154.43</td><td>31977.87</td></tr>\n",
       "\t<tr><td>July     </td><td>34292.89</td><td>36004.47</td><td>32095.16</td><td>34386.67</td></tr>\n",
       "\t<tr><td>August   </td><td>33917.68</td><td>35595.26</td><td>31668.98</td><td>33908.49</td></tr>\n",
       "\t<tr><td>September</td><td>31629.52</td><td>32853.44</td><td>29853.77</td><td>31613.82</td></tr>\n",
       "\t<tr><td>October  </td><td>32152.54</td><td>33479.37</td><td>29585.31</td><td>32263.18</td></tr>\n",
       "\t<tr><td>November </td><td>33638.99</td><td>35792.29</td><td>29966.86</td><td>33730.86</td></tr>\n",
       "\t<tr><td>December </td><td>39041.64</td><td>42713.29</td><td>34195.57</td><td>39223.12</td></tr>\n",
       "</tbody>\n",
       "</table>\n"
      ],
      "text/latex": [
       "A data.frame: 12 × 5\n",
       "\\begin{tabular}{lllll}\n",
       " month & mean & max & min & median\\\\\n",
       " <fct> & <dbl> & <dbl> & <dbl> & <dbl>\\\\\n",
       "\\hline\n",
       "\t January   & 42653.09 & 46225.32 & 38666.68 & 42495.70\\\\\n",
       "\t February  & 38203.05 & 40844.29 & 35766.88 & 38481.13\\\\\n",
       "\t March     & 38676.16 & 41652.02 & 33597.76 & 38872.87\\\\\n",
       "\t April     & 33374.59 & 34494.05 & 30105.90 & 33472.67\\\\\n",
       "\t May       & 32149.68 & 33407.19 & 29158.05 & 32324.05\\\\\n",
       "\t June      & 31781.32 & 33337.88 & 29154.43 & 31977.87\\\\\n",
       "\t July      & 34292.89 & 36004.47 & 32095.16 & 34386.67\\\\\n",
       "\t August    & 33917.68 & 35595.26 & 31668.98 & 33908.49\\\\\n",
       "\t September & 31629.52 & 32853.44 & 29853.77 & 31613.82\\\\\n",
       "\t October   & 32152.54 & 33479.37 & 29585.31 & 32263.18\\\\\n",
       "\t November  & 33638.99 & 35792.29 & 29966.86 & 33730.86\\\\\n",
       "\t December  & 39041.64 & 42713.29 & 34195.57 & 39223.12\\\\\n",
       "\\end{tabular}\n"
      ],
      "text/markdown": [
       "\n",
       "A data.frame: 12 × 5\n",
       "\n",
       "| month &lt;fct&gt; | mean &lt;dbl&gt; | max &lt;dbl&gt; | min &lt;dbl&gt; | median &lt;dbl&gt; |\n",
       "|---|---|---|---|---|\n",
       "| January   | 42653.09 | 46225.32 | 38666.68 | 42495.70 |\n",
       "| February  | 38203.05 | 40844.29 | 35766.88 | 38481.13 |\n",
       "| March     | 38676.16 | 41652.02 | 33597.76 | 38872.87 |\n",
       "| April     | 33374.59 | 34494.05 | 30105.90 | 33472.67 |\n",
       "| May       | 32149.68 | 33407.19 | 29158.05 | 32324.05 |\n",
       "| June      | 31781.32 | 33337.88 | 29154.43 | 31977.87 |\n",
       "| July      | 34292.89 | 36004.47 | 32095.16 | 34386.67 |\n",
       "| August    | 33917.68 | 35595.26 | 31668.98 | 33908.49 |\n",
       "| September | 31629.52 | 32853.44 | 29853.77 | 31613.82 |\n",
       "| October   | 32152.54 | 33479.37 | 29585.31 | 32263.18 |\n",
       "| November  | 33638.99 | 35792.29 | 29966.86 | 33730.86 |\n",
       "| December  | 39041.64 | 42713.29 | 34195.57 | 39223.12 |\n",
       "\n"
      ],
      "text/plain": [
       "   month     mean     max      min      median  \n",
       "1  January   42653.09 46225.32 38666.68 42495.70\n",
       "2  February  38203.05 40844.29 35766.88 38481.13\n",
       "3  March     38676.16 41652.02 33597.76 38872.87\n",
       "4  April     33374.59 34494.05 30105.90 33472.67\n",
       "5  May       32149.68 33407.19 29158.05 32324.05\n",
       "6  June      31781.32 33337.88 29154.43 31977.87\n",
       "7  July      34292.89 36004.47 32095.16 34386.67\n",
       "8  August    33917.68 35595.26 31668.98 33908.49\n",
       "9  September 31629.52 32853.44 29853.77 31613.82\n",
       "10 October   32152.54 33479.37 29585.31 32263.18\n",
       "11 November  33638.99 35792.29 29966.86 33730.86\n",
       "12 December  39041.64 42713.29 34195.57 39223.12"
      ]
     },
     "metadata": {},
     "output_type": "display_data"
    }
   ],
   "source": [
    "#generate the month energy consumption table\n",
    "sum_month=aggregate(wholedata_frame$Total.Daily.Load,list(wholedata_frame$Year,wholedata_frame$Month),sum,na.rm =TRUE)\n",
    "mean_month=aggregate(sum_month$x,list(sum_month$Group.2),mean)\n",
    "max_month=aggregate(sum_month$x,list(sum_month$Group.2),max)\n",
    "min_month=aggregate(sum_month$x,list(sum_month$Group.2),min)\n",
    "median_month=aggregate(sum_month$x,list(sum_month$Group.2),median)\n",
    "Month_table=data.frame(month=c('January','February','March','April','May','June','July','August','September','October','November','December'),mean=mean_month$x,max=max_month$x,min=min_month$x,median=median_month$x)\n",
    "Month_table"
   ]
  },
  {
   "cell_type": "code",
   "execution_count": 17,
   "metadata": {},
   "outputs": [],
   "source": [
    "sum_month2 = aggregate(sum_month$x,list(sum_month$Group.2),sum)"
   ]
  },
  {
   "cell_type": "code",
   "execution_count": 12,
   "metadata": {
    "collapsed": true,
    "jupyter": {
     "outputs_hidden": true
    }
   },
   "outputs": [
    {
     "data": {
      "text/html": [
       "<table class=\"dataframe\">\n",
       "<caption>A data.frame: 13 × 5</caption>\n",
       "<thead>\n",
       "\t<tr><th scope=col>year</th><th scope=col>mean</th><th scope=col>max</th><th scope=col>min</th><th scope=col>median</th></tr>\n",
       "\t<tr><th scope=col>&lt;dbl&gt;</th><th scope=col>&lt;dbl&gt;</th><th scope=col>&lt;dbl&gt;</th><th scope=col>&lt;dbl&gt;</th><th scope=col>&lt;dbl&gt;</th></tr>\n",
       "</thead>\n",
       "<tbody>\n",
       "\t<tr><td>2008</td><td>32437.57</td><td>41490.00</td><td>    0.00</td><td>34067.75</td></tr>\n",
       "\t<tr><td>2009</td><td>35838.08</td><td>46225.32</td><td>31189.00</td><td>34145.62</td></tr>\n",
       "\t<tr><td>2010</td><td>35817.51</td><td>43516.56</td><td>32853.44</td><td>34264.14</td></tr>\n",
       "\t<tr><td>2011</td><td>35872.20</td><td>45102.56</td><td>32338.28</td><td>34436.90</td></tr>\n",
       "\t<tr><td>2012</td><td>35172.34</td><td>40048.80</td><td>32285.47</td><td>35204.17</td></tr>\n",
       "\t<tr><td>2013</td><td>36390.25</td><td>42713.29</td><td>32263.06</td><td>35059.30</td></tr>\n",
       "\t<tr><td>2014</td><td>36381.60</td><td>45371.57</td><td>32090.10</td><td>34737.33</td></tr>\n",
       "\t<tr><td>2015</td><td>34968.69</td><td>44246.38</td><td>30496.83</td><td>33618.01</td></tr>\n",
       "\t<tr><td>2016</td><td>34836.27</td><td>42026.32</td><td>31007.11</td><td>33865.27</td></tr>\n",
       "\t<tr><td>2017</td><td>34805.19</td><td>40847.18</td><td>31004.85</td><td>33249.64</td></tr>\n",
       "\t<tr><td>2018</td><td>34922.32</td><td>42942.67</td><td>31168.49</td><td>33927.19</td></tr>\n",
       "\t<tr><td>2019</td><td>34522.08</td><td>41027.00</td><td>30599.00</td><td>33264.00</td></tr>\n",
       "\t<tr><td>2020</td><td>31984.61</td><td>38666.68</td><td>29154.43</td><td>30887.44</td></tr>\n",
       "</tbody>\n",
       "</table>\n"
      ],
      "text/latex": [
       "A data.frame: 13 × 5\n",
       "\\begin{tabular}{lllll}\n",
       " year & mean & max & min & median\\\\\n",
       " <dbl> & <dbl> & <dbl> & <dbl> & <dbl>\\\\\n",
       "\\hline\n",
       "\t 2008 & 32437.57 & 41490.00 &     0.00 & 34067.75\\\\\n",
       "\t 2009 & 35838.08 & 46225.32 & 31189.00 & 34145.62\\\\\n",
       "\t 2010 & 35817.51 & 43516.56 & 32853.44 & 34264.14\\\\\n",
       "\t 2011 & 35872.20 & 45102.56 & 32338.28 & 34436.90\\\\\n",
       "\t 2012 & 35172.34 & 40048.80 & 32285.47 & 35204.17\\\\\n",
       "\t 2013 & 36390.25 & 42713.29 & 32263.06 & 35059.30\\\\\n",
       "\t 2014 & 36381.60 & 45371.57 & 32090.10 & 34737.33\\\\\n",
       "\t 2015 & 34968.69 & 44246.38 & 30496.83 & 33618.01\\\\\n",
       "\t 2016 & 34836.27 & 42026.32 & 31007.11 & 33865.27\\\\\n",
       "\t 2017 & 34805.19 & 40847.18 & 31004.85 & 33249.64\\\\\n",
       "\t 2018 & 34922.32 & 42942.67 & 31168.49 & 33927.19\\\\\n",
       "\t 2019 & 34522.08 & 41027.00 & 30599.00 & 33264.00\\\\\n",
       "\t 2020 & 31984.61 & 38666.68 & 29154.43 & 30887.44\\\\\n",
       "\\end{tabular}\n"
      ],
      "text/markdown": [
       "\n",
       "A data.frame: 13 × 5\n",
       "\n",
       "| year &lt;dbl&gt; | mean &lt;dbl&gt; | max &lt;dbl&gt; | min &lt;dbl&gt; | median &lt;dbl&gt; |\n",
       "|---|---|---|---|---|\n",
       "| 2008 | 32437.57 | 41490.00 |     0.00 | 34067.75 |\n",
       "| 2009 | 35838.08 | 46225.32 | 31189.00 | 34145.62 |\n",
       "| 2010 | 35817.51 | 43516.56 | 32853.44 | 34264.14 |\n",
       "| 2011 | 35872.20 | 45102.56 | 32338.28 | 34436.90 |\n",
       "| 2012 | 35172.34 | 40048.80 | 32285.47 | 35204.17 |\n",
       "| 2013 | 36390.25 | 42713.29 | 32263.06 | 35059.30 |\n",
       "| 2014 | 36381.60 | 45371.57 | 32090.10 | 34737.33 |\n",
       "| 2015 | 34968.69 | 44246.38 | 30496.83 | 33618.01 |\n",
       "| 2016 | 34836.27 | 42026.32 | 31007.11 | 33865.27 |\n",
       "| 2017 | 34805.19 | 40847.18 | 31004.85 | 33249.64 |\n",
       "| 2018 | 34922.32 | 42942.67 | 31168.49 | 33927.19 |\n",
       "| 2019 | 34522.08 | 41027.00 | 30599.00 | 33264.00 |\n",
       "| 2020 | 31984.61 | 38666.68 | 29154.43 | 30887.44 |\n",
       "\n"
      ],
      "text/plain": [
       "   year mean     max      min      median  \n",
       "1  2008 32437.57 41490.00     0.00 34067.75\n",
       "2  2009 35838.08 46225.32 31189.00 34145.62\n",
       "3  2010 35817.51 43516.56 32853.44 34264.14\n",
       "4  2011 35872.20 45102.56 32338.28 34436.90\n",
       "5  2012 35172.34 40048.80 32285.47 35204.17\n",
       "6  2013 36390.25 42713.29 32263.06 35059.30\n",
       "7  2014 36381.60 45371.57 32090.10 34737.33\n",
       "8  2015 34968.69 44246.38 30496.83 33618.01\n",
       "9  2016 34836.27 42026.32 31007.11 33865.27\n",
       "10 2017 34805.19 40847.18 31004.85 33249.64\n",
       "11 2018 34922.32 42942.67 31168.49 33927.19\n",
       "12 2019 34522.08 41027.00 30599.00 33264.00\n",
       "13 2020 31984.61 38666.68 29154.43 30887.44"
      ]
     },
     "metadata": {},
     "output_type": "display_data"
    }
   ],
   "source": [
    "#generate the monthly energy consumption table\n",
    "mean_monthy=aggregate(sum_month$x,list(sum_month$Group.1),mean)\n",
    "max_monthy=aggregate(sum_month$x,list(sum_month$Group.1),max)\n",
    "min_monthy=aggregate(sum_month$x,list(sum_month$Group.1),min)\n",
    "median_monthy=aggregate(sum_month$x,list(sum_month$Group.1),median)\n",
    "monthy_table=data.frame(year=c(2008,2009,2010,2011,2012,2013,2014,2015,2016,2017,2018,2019,2020),mean=mean_monthy$x,max=max_monthy$x,min=min_monthy$x,median=median_monthy$x)\n",
    "monthy_table"
   ]
  },
  {
   "cell_type": "code",
   "execution_count": 38,
   "metadata": {
    "collapsed": true,
    "jupyter": {
     "outputs_hidden": true
    }
   },
   "outputs": [
    {
     "data": {
      "text/plain": [
       "\n",
       "Call:\n",
       "lm(formula = EN/1000 ~ poly(weather_month$x, 2), data = weather_month)\n",
       "\n",
       "Residuals:\n",
       "    Min      1Q  Median      3Q     Max \n",
       "-3.7379 -0.8902  0.1719  0.8349  2.6265 \n",
       "\n",
       "Coefficients:\n",
       "                          Estimate Std. Error t value Pr(>|t|)    \n",
       "(Intercept)                35.3497     0.1026  344.46   <2e-16 ***\n",
       "poly(weather_month$x, 2)1 -33.7220     1.2229  -27.58   <2e-16 ***\n",
       "poly(weather_month$x, 2)2  24.6476     1.2229   20.16   <2e-16 ***\n",
       "---\n",
       "Signif. codes:  0 '***' 0.001 '**' 0.01 '*' 0.05 '.' 0.1 ' ' 1\n",
       "\n",
       "Residual standard error: 1.223 on 139 degrees of freedom\n",
       "Multiple R-squared:  0.8935,\tAdjusted R-squared:  0.892 \n",
       "F-statistic: 583.3 on 2 and 139 DF,  p-value: < 2.2e-16\n"
      ]
     },
     "metadata": {},
     "output_type": "display_data"
    },
    {
     "name": "stderr",
     "output_type": "stream",
     "text": [
      "Warning message:\n",
      "\"'newdata' had 54 rows but variables found have 142 rows\"\n"
     ]
    },
    {
     "data": {
      "text/html": [
       "<strong>png:</strong> 2"
      ],
      "text/latex": [
       "\\textbf{png:} 2"
      ],
      "text/markdown": [
       "**png:** 2"
      ],
      "text/plain": [
       "png \n",
       "  2 "
      ]
     },
     "metadata": {},
     "output_type": "display_data"
    }
   ],
   "source": [
    "#Fit the month energy consumption versus weather curve \n",
    "weather_month=aggregate(wholedata_frame$TAVG ,list(wholedata_frame$Year,wholedata_frame$Month),mean)\n",
    "weather_month$EN=sum_month$x\n",
    "is.na(weather_month) <- !weather_month\n",
    "weather_month=na.omit(weather_month)\n",
    "weather_month = weather_month[order(weather_month$x),]\n",
    "weather_month=weather_month[-1,]\n",
    "quadratic.model <-lm(EN/1000 ~ poly(weather_month$x, 2),data=weather_month)\n",
    "summary(quadratic.model)\n",
    "xnew <- data.frame(ATV = seq(min(weather_month$x), max(weather_month$x)))\n",
    "fitted_values <- predict(quadratic.model, newdata = xnew)\n",
    "weather_month$fittedvalue=fitted_values\n",
    "# weather plot\n",
    "png(\"month energy consumption versus weather curve.png\",height= 1500,width=2000, res=120)\n",
    "ggplot(data=weather_month, mapping=aes(x=x, y=EN/1000, group=1))+\n",
    " geom_point(aes(color=factor(Group.1)),size=2.5)+geom_path(data=weather_month,mapping=aes(x=x, y=fittedvalue),col=\"darkorange2\",size= 2)+\n",
    " theme(axis.text=element_text(size=20),axis.title.x = element_text(size = 25),axis.title.y = element_text(size = 25),title= element_text(size = 25))+\n",
    " labs(title =\"Monthly energy consumption versus temperature\", y = \"Energy consumption (MWh)\", x = \"Temperature (F)\"，col=\"Year\")+\n",
    " theme(legend.text=element_text(size=25)) \n",
    "dev.off() "
   ]
  },
  {
   "cell_type": "code",
   "execution_count": 14,
   "metadata": {
    "collapsed": true,
    "jupyter": {
     "outputs_hidden": true
    }
   },
   "outputs": [
    {
     "data": {
      "text/html": [
       "<table class=\"dataframe\">\n",
       "<caption>A data.frame: 13 × 25</caption>\n",
       "<thead>\n",
       "\t<tr><th></th><th scope=col>year</th><th scope=col>Weekdaymean.Group.1</th><th scope=col>Weekdaymean.Group.2</th><th scope=col>Weekdaymean.x</th><th scope=col>Weekendmean.Group.1</th><th scope=col>Weekendmean.Group.2</th><th scope=col>Weekendmean.x</th><th scope=col>Weekdaymax.Group.1</th><th scope=col>Weekdaymax.Group.2</th><th scope=col>Weekdaymax.x</th><th scope=col>...</th><th scope=col>Weekdaymin.x</th><th scope=col>Weekendmin.Group.1</th><th scope=col>Weekendmin.Group.2</th><th scope=col>Weekendmin.x</th><th scope=col>Weekdaymedian.Group.1</th><th scope=col>Weekdaymedian.Group.2</th><th scope=col>Weekdaymedian.x</th><th scope=col>weekendmedian.Group.1</th><th scope=col>weekendmedian.Group.2</th><th scope=col>weekendmedian.x</th></tr>\n",
       "\t<tr><th></th><th scope=col>&lt;dbl&gt;</th><th scope=col>&lt;int&gt;</th><th scope=col>&lt;int&gt;</th><th scope=col>&lt;dbl&gt;</th><th scope=col>&lt;int&gt;</th><th scope=col>&lt;int&gt;</th><th scope=col>&lt;dbl&gt;</th><th scope=col>&lt;int&gt;</th><th scope=col>&lt;int&gt;</th><th scope=col>&lt;dbl&gt;</th><th scope=col>...</th><th scope=col>&lt;dbl&gt;</th><th scope=col>&lt;int&gt;</th><th scope=col>&lt;int&gt;</th><th scope=col>&lt;dbl&gt;</th><th scope=col>&lt;int&gt;</th><th scope=col>&lt;int&gt;</th><th scope=col>&lt;dbl&gt;</th><th scope=col>&lt;int&gt;</th><th scope=col>&lt;int&gt;</th><th scope=col>&lt;dbl&gt;</th></tr>\n",
       "</thead>\n",
       "<tbody>\n",
       "\t<tr><th scope=row>14</th><td>2008</td><td>2008</td><td>2</td><td>      NA</td><td>2008</td><td>1</td><td>      NA</td><td>2008</td><td>2</td><td>      NA</td><td>...</td><td>     NA</td><td>2008</td><td>1</td><td>     NA</td><td>2008</td><td>2</td><td>      NA</td><td>2008</td><td>1</td><td>       NA</td></tr>\n",
       "\t<tr><th scope=row>15</th><td>2009</td><td>2009</td><td>2</td><td>1225.466</td><td>2009</td><td>1</td><td>1059.714</td><td>2009</td><td>2</td><td>1655.613</td><td>...</td><td>892.309</td><td>2009</td><td>1</td><td>835.110</td><td>2009</td><td>2</td><td>1150.505</td><td>2009</td><td>1</td><td>1002.6140</td></tr>\n",
       "\t<tr><th scope=row>16</th><td>2010</td><td>2010</td><td>2</td><td>1219.607</td><td>2010</td><td>1</td><td>1072.044</td><td>2010</td><td>2</td><td>1599.186</td><td>...</td><td>927.119</td><td>2010</td><td>1</td><td>893.418</td><td>2010</td><td>2</td><td>1173.756</td><td>2010</td><td>1</td><td>1028.3220</td></tr>\n",
       "\t<tr><th scope=row>17</th><td>2011</td><td>2011</td><td>2</td><td>1219.254</td><td>2011</td><td>1</td><td>1080.575</td><td>2011</td><td>2</td><td>1657.292</td><td>...</td><td>977.000</td><td>2011</td><td>1</td><td>740.180</td><td>2011</td><td>2</td><td>1172.318</td><td>2011</td><td>1</td><td>1042.1620</td></tr>\n",
       "\t<tr><th scope=row>18</th><td>2012</td><td>2012</td><td>2</td><td>1197.476</td><td>2012</td><td>1</td><td>1043.111</td><td>2012</td><td>2</td><td>1486.984</td><td>...</td><td>895.395</td><td>2012</td><td>1</td><td>849.733</td><td>2012</td><td>2</td><td>1184.686</td><td>2012</td><td>1</td><td>1023.3990</td></tr>\n",
       "\t<tr><th scope=row>19</th><td>2013</td><td>2013</td><td>2</td><td>1244.650</td><td>2013</td><td>1</td><td>1075.282</td><td>2013</td><td>2</td><td>1587.326</td><td>...</td><td>885.181</td><td>2013</td><td>1</td><td>869.037</td><td>2013</td><td>2</td><td>1198.634</td><td>2013</td><td>1</td><td>1029.6665</td></tr>\n",
       "\t<tr><th scope=row>20</th><td>2014</td><td>2014</td><td>2</td><td>1242.678</td><td>2014</td><td>1</td><td>1079.233</td><td>2014</td><td>2</td><td>1669.817</td><td>...</td><td>965.858</td><td>2014</td><td>1</td><td>876.948</td><td>2014</td><td>2</td><td>1181.995</td><td>2014</td><td>1</td><td>1019.6090</td></tr>\n",
       "\t<tr><th scope=row>21</th><td>2015</td><td>2015</td><td>2</td><td>1191.135</td><td>2015</td><td>1</td><td>1045.560</td><td>2015</td><td>2</td><td>1597.792</td><td>...</td><td>889.826</td><td>2015</td><td>1</td><td>833.849</td><td>2015</td><td>2</td><td>1138.538</td><td>2015</td><td>1</td><td> 967.9965</td></tr>\n",
       "\t<tr><th scope=row>22</th><td>2016</td><td>2016</td><td>2</td><td>1185.079</td><td>2016</td><td>1</td><td>1035.519</td><td>2016</td><td>2</td><td>1542.008</td><td>...</td><td>901.137</td><td>2016</td><td>1</td><td>831.458</td><td>2016</td><td>2</td><td>1140.075</td><td>2016</td><td>1</td><td> 979.8790</td></tr>\n",
       "\t<tr><th scope=row>23</th><td>2017</td><td>2017</td><td>2</td><td>1179.448</td><td>2017</td><td>1</td><td>1057.197</td><td>2017</td><td>2</td><td>1588.161</td><td>...</td><td>854.976</td><td>2017</td><td>1</td><td>849.350</td><td>2017</td><td>2</td><td>1130.543</td><td>2017</td><td>1</td><td>1000.7490</td></tr>\n",
       "\t<tr><th scope=row>24</th><td>2018</td><td>2018</td><td>2</td><td>1189.757</td><td>2018</td><td>1</td><td>1043.665</td><td>2018</td><td>2</td><td>1590.719</td><td>...</td><td>888.592</td><td>2018</td><td>1</td><td>830.332</td><td>2018</td><td>2</td><td>1148.057</td><td>2018</td><td>1</td><td>1005.4625</td></tr>\n",
       "\t<tr><th scope=row>25</th><td>2019</td><td>2019</td><td>2</td><td>1176.011</td><td>2019</td><td>1</td><td>1031.981</td><td>2019</td><td>2</td><td>1617.000</td><td>...</td><td>967.000</td><td>2019</td><td>1</td><td>870.000</td><td>2019</td><td>2</td><td>1117.000</td><td>2019</td><td>1</td><td> 985.0000</td></tr>\n",
       "\t<tr><th scope=row>26</th><td>2020</td><td>2020</td><td>2</td><td>1077.263</td><td>2020</td><td>1</td><td> 976.658</td><td>2020</td><td>2</td><td>1432.855</td><td>...</td><td>848.526</td><td>2020</td><td>1</td><td>818.082</td><td>2020</td><td>2</td><td>1049.784</td><td>2020</td><td>1</td><td> 952.1290</td></tr>\n",
       "</tbody>\n",
       "</table>\n"
      ],
      "text/latex": [
       "A data.frame: 13 × 25\n",
       "\\begin{tabular}{r|lllllllllllllllllllll}\n",
       "  & year & Weekdaymean.Group.1 & Weekdaymean.Group.2 & Weekdaymean.x & Weekendmean.Group.1 & Weekendmean.Group.2 & Weekendmean.x & Weekdaymax.Group.1 & Weekdaymax.Group.2 & Weekdaymax.x & ... & Weekdaymin.x & Weekendmin.Group.1 & Weekendmin.Group.2 & Weekendmin.x & Weekdaymedian.Group.1 & Weekdaymedian.Group.2 & Weekdaymedian.x & weekendmedian.Group.1 & weekendmedian.Group.2 & weekendmedian.x\\\\\n",
       "  & <dbl> & <int> & <int> & <dbl> & <int> & <int> & <dbl> & <int> & <int> & <dbl> & ... & <dbl> & <int> & <int> & <dbl> & <int> & <int> & <dbl> & <int> & <int> & <dbl>\\\\\n",
       "\\hline\n",
       "\t14 & 2008 & 2008 & 2 &       NA & 2008 & 1 &       NA & 2008 & 2 &       NA & ... &      NA & 2008 & 1 &      NA & 2008 & 2 &       NA & 2008 & 1 &        NA\\\\\n",
       "\t15 & 2009 & 2009 & 2 & 1225.466 & 2009 & 1 & 1059.714 & 2009 & 2 & 1655.613 & ... & 892.309 & 2009 & 1 & 835.110 & 2009 & 2 & 1150.505 & 2009 & 1 & 1002.6140\\\\\n",
       "\t16 & 2010 & 2010 & 2 & 1219.607 & 2010 & 1 & 1072.044 & 2010 & 2 & 1599.186 & ... & 927.119 & 2010 & 1 & 893.418 & 2010 & 2 & 1173.756 & 2010 & 1 & 1028.3220\\\\\n",
       "\t17 & 2011 & 2011 & 2 & 1219.254 & 2011 & 1 & 1080.575 & 2011 & 2 & 1657.292 & ... & 977.000 & 2011 & 1 & 740.180 & 2011 & 2 & 1172.318 & 2011 & 1 & 1042.1620\\\\\n",
       "\t18 & 2012 & 2012 & 2 & 1197.476 & 2012 & 1 & 1043.111 & 2012 & 2 & 1486.984 & ... & 895.395 & 2012 & 1 & 849.733 & 2012 & 2 & 1184.686 & 2012 & 1 & 1023.3990\\\\\n",
       "\t19 & 2013 & 2013 & 2 & 1244.650 & 2013 & 1 & 1075.282 & 2013 & 2 & 1587.326 & ... & 885.181 & 2013 & 1 & 869.037 & 2013 & 2 & 1198.634 & 2013 & 1 & 1029.6665\\\\\n",
       "\t20 & 2014 & 2014 & 2 & 1242.678 & 2014 & 1 & 1079.233 & 2014 & 2 & 1669.817 & ... & 965.858 & 2014 & 1 & 876.948 & 2014 & 2 & 1181.995 & 2014 & 1 & 1019.6090\\\\\n",
       "\t21 & 2015 & 2015 & 2 & 1191.135 & 2015 & 1 & 1045.560 & 2015 & 2 & 1597.792 & ... & 889.826 & 2015 & 1 & 833.849 & 2015 & 2 & 1138.538 & 2015 & 1 &  967.9965\\\\\n",
       "\t22 & 2016 & 2016 & 2 & 1185.079 & 2016 & 1 & 1035.519 & 2016 & 2 & 1542.008 & ... & 901.137 & 2016 & 1 & 831.458 & 2016 & 2 & 1140.075 & 2016 & 1 &  979.8790\\\\\n",
       "\t23 & 2017 & 2017 & 2 & 1179.448 & 2017 & 1 & 1057.197 & 2017 & 2 & 1588.161 & ... & 854.976 & 2017 & 1 & 849.350 & 2017 & 2 & 1130.543 & 2017 & 1 & 1000.7490\\\\\n",
       "\t24 & 2018 & 2018 & 2 & 1189.757 & 2018 & 1 & 1043.665 & 2018 & 2 & 1590.719 & ... & 888.592 & 2018 & 1 & 830.332 & 2018 & 2 & 1148.057 & 2018 & 1 & 1005.4625\\\\\n",
       "\t25 & 2019 & 2019 & 2 & 1176.011 & 2019 & 1 & 1031.981 & 2019 & 2 & 1617.000 & ... & 967.000 & 2019 & 1 & 870.000 & 2019 & 2 & 1117.000 & 2019 & 1 &  985.0000\\\\\n",
       "\t26 & 2020 & 2020 & 2 & 1077.263 & 2020 & 1 &  976.658 & 2020 & 2 & 1432.855 & ... & 848.526 & 2020 & 1 & 818.082 & 2020 & 2 & 1049.784 & 2020 & 1 &  952.1290\\\\\n",
       "\\end{tabular}\n"
      ],
      "text/markdown": [
       "\n",
       "A data.frame: 13 × 25\n",
       "\n",
       "| <!--/--> | year &lt;dbl&gt; | Weekdaymean.Group.1 &lt;int&gt; | Weekdaymean.Group.2 &lt;int&gt; | Weekdaymean.x &lt;dbl&gt; | Weekendmean.Group.1 &lt;int&gt; | Weekendmean.Group.2 &lt;int&gt; | Weekendmean.x &lt;dbl&gt; | Weekdaymax.Group.1 &lt;int&gt; | Weekdaymax.Group.2 &lt;int&gt; | Weekdaymax.x &lt;dbl&gt; | ... ... | Weekdaymin.x &lt;dbl&gt; | Weekendmin.Group.1 &lt;int&gt; | Weekendmin.Group.2 &lt;int&gt; | Weekendmin.x &lt;dbl&gt; | Weekdaymedian.Group.1 &lt;int&gt; | Weekdaymedian.Group.2 &lt;int&gt; | Weekdaymedian.x &lt;dbl&gt; | weekendmedian.Group.1 &lt;int&gt; | weekendmedian.Group.2 &lt;int&gt; | weekendmedian.x &lt;dbl&gt; |\n",
       "|---|---|---|---|---|---|---|---|---|---|---|---|---|---|---|---|---|---|---|---|---|---|\n",
       "| 14 | 2008 | 2008 | 2 |       NA | 2008 | 1 |       NA | 2008 | 2 |       NA | ... |      NA | 2008 | 1 |      NA | 2008 | 2 |       NA | 2008 | 1 |        NA |\n",
       "| 15 | 2009 | 2009 | 2 | 1225.466 | 2009 | 1 | 1059.714 | 2009 | 2 | 1655.613 | ... | 892.309 | 2009 | 1 | 835.110 | 2009 | 2 | 1150.505 | 2009 | 1 | 1002.6140 |\n",
       "| 16 | 2010 | 2010 | 2 | 1219.607 | 2010 | 1 | 1072.044 | 2010 | 2 | 1599.186 | ... | 927.119 | 2010 | 1 | 893.418 | 2010 | 2 | 1173.756 | 2010 | 1 | 1028.3220 |\n",
       "| 17 | 2011 | 2011 | 2 | 1219.254 | 2011 | 1 | 1080.575 | 2011 | 2 | 1657.292 | ... | 977.000 | 2011 | 1 | 740.180 | 2011 | 2 | 1172.318 | 2011 | 1 | 1042.1620 |\n",
       "| 18 | 2012 | 2012 | 2 | 1197.476 | 2012 | 1 | 1043.111 | 2012 | 2 | 1486.984 | ... | 895.395 | 2012 | 1 | 849.733 | 2012 | 2 | 1184.686 | 2012 | 1 | 1023.3990 |\n",
       "| 19 | 2013 | 2013 | 2 | 1244.650 | 2013 | 1 | 1075.282 | 2013 | 2 | 1587.326 | ... | 885.181 | 2013 | 1 | 869.037 | 2013 | 2 | 1198.634 | 2013 | 1 | 1029.6665 |\n",
       "| 20 | 2014 | 2014 | 2 | 1242.678 | 2014 | 1 | 1079.233 | 2014 | 2 | 1669.817 | ... | 965.858 | 2014 | 1 | 876.948 | 2014 | 2 | 1181.995 | 2014 | 1 | 1019.6090 |\n",
       "| 21 | 2015 | 2015 | 2 | 1191.135 | 2015 | 1 | 1045.560 | 2015 | 2 | 1597.792 | ... | 889.826 | 2015 | 1 | 833.849 | 2015 | 2 | 1138.538 | 2015 | 1 |  967.9965 |\n",
       "| 22 | 2016 | 2016 | 2 | 1185.079 | 2016 | 1 | 1035.519 | 2016 | 2 | 1542.008 | ... | 901.137 | 2016 | 1 | 831.458 | 2016 | 2 | 1140.075 | 2016 | 1 |  979.8790 |\n",
       "| 23 | 2017 | 2017 | 2 | 1179.448 | 2017 | 1 | 1057.197 | 2017 | 2 | 1588.161 | ... | 854.976 | 2017 | 1 | 849.350 | 2017 | 2 | 1130.543 | 2017 | 1 | 1000.7490 |\n",
       "| 24 | 2018 | 2018 | 2 | 1189.757 | 2018 | 1 | 1043.665 | 2018 | 2 | 1590.719 | ... | 888.592 | 2018 | 1 | 830.332 | 2018 | 2 | 1148.057 | 2018 | 1 | 1005.4625 |\n",
       "| 25 | 2019 | 2019 | 2 | 1176.011 | 2019 | 1 | 1031.981 | 2019 | 2 | 1617.000 | ... | 967.000 | 2019 | 1 | 870.000 | 2019 | 2 | 1117.000 | 2019 | 1 |  985.0000 |\n",
       "| 26 | 2020 | 2020 | 2 | 1077.263 | 2020 | 1 |  976.658 | 2020 | 2 | 1432.855 | ... | 848.526 | 2020 | 1 | 818.082 | 2020 | 2 | 1049.784 | 2020 | 1 |  952.1290 |\n",
       "\n"
      ],
      "text/plain": [
       "   year Weekdaymean.Group.1 Weekdaymean.Group.2 Weekdaymean.x\n",
       "14 2008 2008                2                         NA     \n",
       "15 2009 2009                2                   1225.466     \n",
       "16 2010 2010                2                   1219.607     \n",
       "17 2011 2011                2                   1219.254     \n",
       "18 2012 2012                2                   1197.476     \n",
       "19 2013 2013                2                   1244.650     \n",
       "20 2014 2014                2                   1242.678     \n",
       "21 2015 2015                2                   1191.135     \n",
       "22 2016 2016                2                   1185.079     \n",
       "23 2017 2017                2                   1179.448     \n",
       "24 2018 2018                2                   1189.757     \n",
       "25 2019 2019                2                   1176.011     \n",
       "26 2020 2020                2                   1077.263     \n",
       "   Weekendmean.Group.1 Weekendmean.Group.2 Weekendmean.x Weekdaymax.Group.1\n",
       "14 2008                1                         NA      2008              \n",
       "15 2009                1                   1059.714      2009              \n",
       "16 2010                1                   1072.044      2010              \n",
       "17 2011                1                   1080.575      2011              \n",
       "18 2012                1                   1043.111      2012              \n",
       "19 2013                1                   1075.282      2013              \n",
       "20 2014                1                   1079.233      2014              \n",
       "21 2015                1                   1045.560      2015              \n",
       "22 2016                1                   1035.519      2016              \n",
       "23 2017                1                   1057.197      2017              \n",
       "24 2018                1                   1043.665      2018              \n",
       "25 2019                1                   1031.981      2019              \n",
       "26 2020                1                    976.658      2020              \n",
       "   Weekdaymax.Group.2 Weekdaymax.x ... Weekdaymin.x Weekendmin.Group.1\n",
       "14 2                        NA     ...      NA      2008              \n",
       "15 2                  1655.613     ... 892.309      2009              \n",
       "16 2                  1599.186     ... 927.119      2010              \n",
       "17 2                  1657.292     ... 977.000      2011              \n",
       "18 2                  1486.984     ... 895.395      2012              \n",
       "19 2                  1587.326     ... 885.181      2013              \n",
       "20 2                  1669.817     ... 965.858      2014              \n",
       "21 2                  1597.792     ... 889.826      2015              \n",
       "22 2                  1542.008     ... 901.137      2016              \n",
       "23 2                  1588.161     ... 854.976      2017              \n",
       "24 2                  1590.719     ... 888.592      2018              \n",
       "25 2                  1617.000     ... 967.000      2019              \n",
       "26 2                  1432.855     ... 848.526      2020              \n",
       "   Weekendmin.Group.2 Weekendmin.x Weekdaymedian.Group.1 Weekdaymedian.Group.2\n",
       "14 1                       NA      2008                  2                    \n",
       "15 1                  835.110      2009                  2                    \n",
       "16 1                  893.418      2010                  2                    \n",
       "17 1                  740.180      2011                  2                    \n",
       "18 1                  849.733      2012                  2                    \n",
       "19 1                  869.037      2013                  2                    \n",
       "20 1                  876.948      2014                  2                    \n",
       "21 1                  833.849      2015                  2                    \n",
       "22 1                  831.458      2016                  2                    \n",
       "23 1                  849.350      2017                  2                    \n",
       "24 1                  830.332      2018                  2                    \n",
       "25 1                  870.000      2019                  2                    \n",
       "26 1                  818.082      2020                  2                    \n",
       "   Weekdaymedian.x weekendmedian.Group.1 weekendmedian.Group.2 weekendmedian.x\n",
       "14       NA        2008                  1                            NA      \n",
       "15 1150.505        2009                  1                     1002.6140      \n",
       "16 1173.756        2010                  1                     1028.3220      \n",
       "17 1172.318        2011                  1                     1042.1620      \n",
       "18 1184.686        2012                  1                     1023.3990      \n",
       "19 1198.634        2013                  1                     1029.6665      \n",
       "20 1181.995        2014                  1                     1019.6090      \n",
       "21 1138.538        2015                  1                      967.9965      \n",
       "22 1140.075        2016                  1                      979.8790      \n",
       "23 1130.543        2017                  1                     1000.7490      \n",
       "24 1148.057        2018                  1                     1005.4625      \n",
       "25 1117.000        2019                  1                      985.0000      \n",
       "26 1049.784        2020                  1                      952.1290      "
      ]
     },
     "metadata": {},
     "output_type": "display_data"
    }
   ],
   "source": [
    "#generate the daily consumption table\n",
    "mean_day=aggregate(wholedata_frame$Total.Daily.Load,list(wholedata_frame$Year,wholedata_frame$WJ),mean)\n",
    "mean_weekend=mean_day[mean_day$Group.2==1,]\n",
    "mean_weekday=mean_day[mean_day$Group.2==2,]\n",
    "max_day=aggregate(wholedata_frame$Total.Daily.Load,list(wholedata_frame$Year,wholedata_frame$WJ),max)\n",
    "max_weekend=max_day[mean_day$Group.2==1,]\n",
    "max_weekday=max_day[mean_day$Group.2==2,]\n",
    "min_day=aggregate(wholedata_frame$Total.Daily.Load,list(wholedata_frame$Year,wholedata_frame$WJ),min)\n",
    "min_weekend=min_day[min_day$Group.2==1,]\n",
    "min_weekday=min_day[min_day$Group.2==2,]\n",
    "median_day=aggregate(wholedata_frame$Total.Daily.Load,list(wholedata_frame$Year,wholedata_frame$WJ),median)\n",
    "median_weekend=median_day[median_day$Group.2==1,]\n",
    "median_weekday=median_day[median_day$Group.2==2,]\n",
    "Dailydata=data.frame(year=c(2008,2009,2010,2011,2012,2013,2014,2015,2016,2017,2018,2019,2020),Weekdaymean=mean_weekday,Weekendmean=mean_weekend,Weekdaymax=max_weekday,Weekendmax=max_weekend,Weekdaymin=min_weekday,Weekendmin=min_weekend,Weekdaymedian=median_weekday,weekendmedian=median_weekend)\n",
    "Dailydata"
   ]
  },
  {
   "cell_type": "code",
   "execution_count": 42,
   "metadata": {
    "collapsed": true,
    "jupyter": {
     "outputs_hidden": true
    }
   },
   "outputs": [
    {
     "data": {
      "text/html": [
       "<table>\n",
       "<caption>A data.frame: 6 × 25</caption>\n",
       "<thead>\n",
       "\t<tr><th></th><th scope=col>year</th><th scope=col>1AM</th><th scope=col>2AM</th><th scope=col>3AM</th><th scope=col>4AM</th><th scope=col>5AM</th><th scope=col>6AM</th><th scope=col>7AM</th><th scope=col>8AM</th><th scope=col>9AM</th><th scope=col>...</th><th scope=col>3PM</th><th scope=col>4PM</th><th scope=col>5PM</th><th scope=col>6PM</th><th scope=col>7PM</th><th scope=col>8PM</th><th scope=col>9PM</th><th scope=col>10PM</th><th scope=col>11PM</th><th scope=col>12AM</th></tr>\n",
       "\t<tr><th></th><th scope=col>&lt;int&gt;</th><th scope=col>&lt;dbl&gt;</th><th scope=col>&lt;dbl&gt;</th><th scope=col>&lt;dbl&gt;</th><th scope=col>&lt;dbl&gt;</th><th scope=col>&lt;dbl&gt;</th><th scope=col>&lt;dbl&gt;</th><th scope=col>&lt;dbl&gt;</th><th scope=col>&lt;dbl&gt;</th><th scope=col>&lt;dbl&gt;</th><th scope=col>...</th><th scope=col>&lt;dbl&gt;</th><th scope=col>&lt;dbl&gt;</th><th scope=col>&lt;dbl&gt;</th><th scope=col>&lt;dbl&gt;</th><th scope=col>&lt;dbl&gt;</th><th scope=col>&lt;dbl&gt;</th><th scope=col>&lt;dbl&gt;</th><th scope=col>&lt;dbl&gt;</th><th scope=col>&lt;dbl&gt;</th><th scope=col>&lt;dbl&gt;</th></tr>\n",
       "</thead>\n",
       "<tbody>\n",
       "\t<tr><th scope=row>1</th><td>2008</td><td>53.906</td><td>45.148</td><td>43.549</td><td>42.726</td><td>42.885</td><td>51.740</td><td>64.278</td><td>70.981</td><td>71.347</td><td>...</td><td>60.094</td><td>63.465</td><td>68.033</td><td>70.979</td><td>68.543</td><td>62.353</td><td>58.906</td><td>56.426</td><td>54.681</td><td>52.731</td></tr>\n",
       "\t<tr><th scope=row>2</th><td>2008</td><td>48.805</td><td>41.102</td><td>39.118</td><td>39.661</td><td>40.067</td><td>47.141</td><td>52.858</td><td>53.201</td><td>53.416</td><td>...</td><td>54.697</td><td>57.129</td><td>56.649</td><td>57.899</td><td>56.662</td><td>53.848</td><td>54.176</td><td>53.518</td><td>53.352</td><td>51.483</td></tr>\n",
       "\t<tr><th scope=row>3</th><td>2008</td><td>47.228</td><td>40.103</td><td>38.633</td><td>38.442</td><td>38.634</td><td>38.982</td><td>46.727</td><td>48.464</td><td>48.173</td><td>...</td><td>50.275</td><td>50.305</td><td>51.265</td><td>51.863</td><td>52.366</td><td>50.949</td><td>50.587</td><td>50.727</td><td>49.897</td><td>49.570</td></tr>\n",
       "\t<tr><th scope=row>4</th><td>2008</td><td>47.830</td><td>42.279</td><td>41.053</td><td>40.453</td><td>39.826</td><td>48.614</td><td>60.713</td><td>68.435</td><td>70.473</td><td>...</td><td>58.242</td><td>61.221</td><td>67.455</td><td>69.955</td><td>68.421</td><td>60.822</td><td>56.185</td><td>55.445</td><td>54.760</td><td>53.603</td></tr>\n",
       "\t<tr><th scope=row>5</th><td>2008</td><td>51.319</td><td>40.463</td><td>37.155</td><td>38.080</td><td>38.072</td><td>47.251</td><td>58.642</td><td>65.608</td><td>69.489</td><td>...</td><td>57.458</td><td>60.544</td><td>66.726</td><td>68.233</td><td>68.313</td><td>60.242</td><td>53.929</td><td>53.892</td><td>51.948</td><td>50.489</td></tr>\n",
       "\t<tr><th scope=row>6</th><td>2008</td><td>48.019</td><td>39.842</td><td>37.431</td><td>36.756</td><td>37.163</td><td>45.971</td><td>58.177</td><td>66.269</td><td>69.031</td><td>...</td><td>58.336</td><td>60.924</td><td>67.692</td><td>70.062</td><td>68.827</td><td>61.885</td><td>56.443</td><td>55.992</td><td>55.565</td><td>54.400</td></tr>\n",
       "</tbody>\n",
       "</table>\n"
      ],
      "text/latex": [
       "A data.frame: 6 × 25\n",
       "\\begin{tabular}{r|lllllllllllllllllllll}\n",
       "  & year & 1AM & 2AM & 3AM & 4AM & 5AM & 6AM & 7AM & 8AM & 9AM & ... & 3PM & 4PM & 5PM & 6PM & 7PM & 8PM & 9PM & 10PM & 11PM & 12AM\\\\\n",
       "  & <int> & <dbl> & <dbl> & <dbl> & <dbl> & <dbl> & <dbl> & <dbl> & <dbl> & <dbl> & ... & <dbl> & <dbl> & <dbl> & <dbl> & <dbl> & <dbl> & <dbl> & <dbl> & <dbl> & <dbl>\\\\\n",
       "\\hline\n",
       "\t1 & 2008 & 53.906 & 45.148 & 43.549 & 42.726 & 42.885 & 51.740 & 64.278 & 70.981 & 71.347 & ... & 60.094 & 63.465 & 68.033 & 70.979 & 68.543 & 62.353 & 58.906 & 56.426 & 54.681 & 52.731\\\\\n",
       "\t2 & 2008 & 48.805 & 41.102 & 39.118 & 39.661 & 40.067 & 47.141 & 52.858 & 53.201 & 53.416 & ... & 54.697 & 57.129 & 56.649 & 57.899 & 56.662 & 53.848 & 54.176 & 53.518 & 53.352 & 51.483\\\\\n",
       "\t3 & 2008 & 47.228 & 40.103 & 38.633 & 38.442 & 38.634 & 38.982 & 46.727 & 48.464 & 48.173 & ... & 50.275 & 50.305 & 51.265 & 51.863 & 52.366 & 50.949 & 50.587 & 50.727 & 49.897 & 49.570\\\\\n",
       "\t4 & 2008 & 47.830 & 42.279 & 41.053 & 40.453 & 39.826 & 48.614 & 60.713 & 68.435 & 70.473 & ... & 58.242 & 61.221 & 67.455 & 69.955 & 68.421 & 60.822 & 56.185 & 55.445 & 54.760 & 53.603\\\\\n",
       "\t5 & 2008 & 51.319 & 40.463 & 37.155 & 38.080 & 38.072 & 47.251 & 58.642 & 65.608 & 69.489 & ... & 57.458 & 60.544 & 66.726 & 68.233 & 68.313 & 60.242 & 53.929 & 53.892 & 51.948 & 50.489\\\\\n",
       "\t6 & 2008 & 48.019 & 39.842 & 37.431 & 36.756 & 37.163 & 45.971 & 58.177 & 66.269 & 69.031 & ... & 58.336 & 60.924 & 67.692 & 70.062 & 68.827 & 61.885 & 56.443 & 55.992 & 55.565 & 54.400\\\\\n",
       "\\end{tabular}\n"
      ],
      "text/markdown": [
       "\n",
       "A data.frame: 6 × 25\n",
       "\n",
       "| <!--/--> | year &lt;int&gt; | 1AM &lt;dbl&gt; | 2AM &lt;dbl&gt; | 3AM &lt;dbl&gt; | 4AM &lt;dbl&gt; | 5AM &lt;dbl&gt; | 6AM &lt;dbl&gt; | 7AM &lt;dbl&gt; | 8AM &lt;dbl&gt; | 9AM &lt;dbl&gt; | ... ... | 3PM &lt;dbl&gt; | 4PM &lt;dbl&gt; | 5PM &lt;dbl&gt; | 6PM &lt;dbl&gt; | 7PM &lt;dbl&gt; | 8PM &lt;dbl&gt; | 9PM &lt;dbl&gt; | 10PM &lt;dbl&gt; | 11PM &lt;dbl&gt; | 12AM &lt;dbl&gt; |\n",
       "|---|---|---|---|---|---|---|---|---|---|---|---|---|---|---|---|---|---|---|---|---|---|\n",
       "| 1 | 2008 | 53.906 | 45.148 | 43.549 | 42.726 | 42.885 | 51.740 | 64.278 | 70.981 | 71.347 | ... | 60.094 | 63.465 | 68.033 | 70.979 | 68.543 | 62.353 | 58.906 | 56.426 | 54.681 | 52.731 |\n",
       "| 2 | 2008 | 48.805 | 41.102 | 39.118 | 39.661 | 40.067 | 47.141 | 52.858 | 53.201 | 53.416 | ... | 54.697 | 57.129 | 56.649 | 57.899 | 56.662 | 53.848 | 54.176 | 53.518 | 53.352 | 51.483 |\n",
       "| 3 | 2008 | 47.228 | 40.103 | 38.633 | 38.442 | 38.634 | 38.982 | 46.727 | 48.464 | 48.173 | ... | 50.275 | 50.305 | 51.265 | 51.863 | 52.366 | 50.949 | 50.587 | 50.727 | 49.897 | 49.570 |\n",
       "| 4 | 2008 | 47.830 | 42.279 | 41.053 | 40.453 | 39.826 | 48.614 | 60.713 | 68.435 | 70.473 | ... | 58.242 | 61.221 | 67.455 | 69.955 | 68.421 | 60.822 | 56.185 | 55.445 | 54.760 | 53.603 |\n",
       "| 5 | 2008 | 51.319 | 40.463 | 37.155 | 38.080 | 38.072 | 47.251 | 58.642 | 65.608 | 69.489 | ... | 57.458 | 60.544 | 66.726 | 68.233 | 68.313 | 60.242 | 53.929 | 53.892 | 51.948 | 50.489 |\n",
       "| 6 | 2008 | 48.019 | 39.842 | 37.431 | 36.756 | 37.163 | 45.971 | 58.177 | 66.269 | 69.031 | ... | 58.336 | 60.924 | 67.692 | 70.062 | 68.827 | 61.885 | 56.443 | 55.992 | 55.565 | 54.400 |\n",
       "\n"
      ],
      "text/plain": [
       "  year 1AM    2AM    3AM    4AM    5AM    6AM    7AM    8AM    9AM    ...\n",
       "1 2008 53.906 45.148 43.549 42.726 42.885 51.740 64.278 70.981 71.347 ...\n",
       "2 2008 48.805 41.102 39.118 39.661 40.067 47.141 52.858 53.201 53.416 ...\n",
       "3 2008 47.228 40.103 38.633 38.442 38.634 38.982 46.727 48.464 48.173 ...\n",
       "4 2008 47.830 42.279 41.053 40.453 39.826 48.614 60.713 68.435 70.473 ...\n",
       "5 2008 51.319 40.463 37.155 38.080 38.072 47.251 58.642 65.608 69.489 ...\n",
       "6 2008 48.019 39.842 37.431 36.756 37.163 45.971 58.177 66.269 69.031 ...\n",
       "  3PM    4PM    5PM    6PM    7PM    8PM    9PM    10PM   11PM   12AM  \n",
       "1 60.094 63.465 68.033 70.979 68.543 62.353 58.906 56.426 54.681 52.731\n",
       "2 54.697 57.129 56.649 57.899 56.662 53.848 54.176 53.518 53.352 51.483\n",
       "3 50.275 50.305 51.265 51.863 52.366 50.949 50.587 50.727 49.897 49.570\n",
       "4 58.242 61.221 67.455 69.955 68.421 60.822 56.185 55.445 54.760 53.603\n",
       "5 57.458 60.544 66.726 68.233 68.313 60.242 53.929 53.892 51.948 50.489\n",
       "6 58.336 60.924 67.692 70.062 68.827 61.885 56.443 55.992 55.565 54.400"
      ]
     },
     "metadata": {},
     "output_type": "display_data"
    },
    {
     "data": {
      "text/html": [
       "<strong>png:</strong> 2"
      ],
      "text/latex": [
       "\\textbf{png:} 2"
      ],
      "text/markdown": [
       "**png:** 2"
      ],
      "text/plain": [
       "png \n",
       "  2 "
      ]
     },
     "metadata": {},
     "output_type": "display_data"
    }
   ],
   "source": [
    "# generate hourly profiles\n",
    "HDdata=data.frame(year=wholedata_frame$Year,Hour1=wholedata_frame$Hour.1,Hour2=wholedata_frame$Hour.2,Hour3=wholedata_frame$Hour.3,Hour4=wholedata_frame$Hour.4,Hour5=wholedata_frame$Hour.5,Hour6=wholedata_frame$Hour.6,Hour7=wholedata_frame$Hour.7,Hour8=wholedata_frame$Hour.8,Hour9=wholedata_frame$Hour.9,Hour10=wholedata_frame$Hour.10,Hour11=wholedata_frame$Hour.11,Hour12=wholedata_frame$Hour.12,Hour13=wholedata_frame$Hour.13,Hour14=wholedata_frame$Hour.14,Hour15=wholedata_frame$Hour.15,Hour16=wholedata_frame$Hour.16,Hour17=wholedata_frame$Hour.17,\n",
    "                                Hour18=wholedata_frame$Hour.18,Hour19=wholedata_frame$Hour.19,Hour20=wholedata_frame$Hour.20,Hour21=wholedata_frame$Hour.21,Hour22=wholedata_frame$Hour.22,Hour23=wholedata_frame$Hour.23,Hour24=wholedata_frame$Hour.24)\n",
    "colnames(HDdata)=c(\"year\",\"1AM\",\"2AM\",\"3AM\",\"4AM\",\"5AM\",\"6AM\",\"7AM\",\"8AM\",\"9AM\",\"10AM\",\"11AM\",\"12PM\",\"1PM\",\"2PM\",\"3PM\",\"4PM\",\"5PM\",\"6PM\",\"7PM\",\"8PM\",\"9PM\",\"10PM\",\"11PM\",\"12AM\")\n",
    "HDdata[HDdata == 0] <- NA\n",
    "head(HDdata)\n",
    "HDdataprofile=aggregate(HDdata[,2:25], list(HDdata$year),mean,na.action=TRUE)\n",
    "names(HDdataprofile)[1]=\"Year\"\n",
    "HDdataprofile_melt=melt(HDdataprofile,id.vars=\"Year\")\n",
    "png(\"hourly profile.png\",height=900,width=1500,res=100)\n",
    "ggplot(data=HDdataprofile_melt, mapping=aes(x=variable, y=value, group=Year))+\n",
    "geom_line(aes(color=factor(Year)),size=2,alpha=0.5)+geom_point(aes(color=factor(Year)),alpha=0.6)+\n",
    " scale_color_manual(\"Year\",values= mycolors )+\n",
    " theme(axis.text=element_text(size=20),axis.title.x = element_text(size = 25),\n",
    "      axis.title.y = element_text(size = 25),title= element_text(size = 25),axis.text.x = element_text(angle = 90, hjust = 1, vjust = 0.5))+\n",
    "     geom_vline(xintercept = c(8,23),linetype=5,col=\"darkgrey\",size=2,alpha=0.8)+\n",
    "    labs(title = \"Average hourly energy consumption profile of MBTA Rapid Transit\", y = \"Energy consumption (kWh)\", x = \"Hour\")+\n",
    "    scale_y_continuous(limits=c(25,60))+\n",
    "    theme(legend.text=element_text(size=25))\n",
    "dev.off()"
   ]
  },
  {
   "cell_type": "code",
   "execution_count": 43,
   "metadata": {
    "collapsed": true,
    "jupyter": {
     "outputs_hidden": true
    }
   },
   "outputs": [
    {
     "data": {
      "image/png": "[encoded data removed]",
      "text/plain": [
       "plot without title"
      ]
     },
     "metadata": {
      "image/png": {
       "height": 420,
       "width": 420
      },
      "text/plain": {
       "height": 420,
       "width": 420
      }
     },
     "output_type": "display_data"
    },
    {
     "data": {
      "image/png": "[encoded data removed]",
      "text/plain": [
       "plot without title"
      ]
     },
     "metadata": {
      "image/png": {
       "height": 420,
       "width": 420
      },
      "text/plain": {
       "height": 420,
       "width": 420
      }
     },
     "output_type": "display_data"
    },
    {
     "data": {
      "image/png": "[encoded data removed]",
      "text/plain": [
       "plot without title"
      ]
     },
     "metadata": {
      "image/png": {
       "height": 420,
       "width": 420
      },
      "text/plain": {
       "height": 420,
       "width": 420
      }
     },
     "output_type": "display_data"
    },
    {
     "data": {
      "image/png": "[encoded data removed]",
      "text/plain": [
       "plot without title"
      ]
     },
     "metadata": {
      "image/png": {
       "height": 420,
       "width": 420
      },
      "text/plain": {
       "height": 420,
       "width": 420
      }
     },
     "output_type": "display_data"
    },
    {
     "data": {
      "image/png": "[encoded data removed]",
      "text/plain": [
       "plot without title"
      ]
     },
     "metadata": {
      "image/png": {
       "height": 420,
       "width": 420
      },
      "text/plain": {
       "height": 420,
       "width": 420
      }
     },
     "output_type": "display_data"
    },
    {
     "data": {
      "image/png": "[encoded data removed]",
      "text/plain": [
       "plot without title"
      ]
     },
     "metadata": {
      "image/png": {
       "height": 420,
       "width": 420
      },
      "text/plain": {
       "height": 420,
       "width": 420
      }
     },
     "output_type": "display_data"
    },
    {
     "data": {
      "image/png": "[encoded data removed]",
      "text/plain": [
       "plot without title"
      ]
     },
     "metadata": {
      "image/png": {
       "height": 420,
       "width": 420
      },
      "text/plain": {
       "height": 420,
       "width": 420
      }
     },
     "output_type": "display_data"
    },
    {
     "data": {
      "image/png": "[encoded data removed]",
      "text/plain": [
       "plot without title"
      ]
     },
     "metadata": {
      "image/png": {
       "height": 420,
       "width": 420
      },
      "text/plain": {
       "height": 420,
       "width": 420
      }
     },
     "output_type": "display_data"
    },
    {
     "data": {
      "image/png": "[encoded data removed]",
      "text/plain": [
       "plot without title"
      ]
     },
     "metadata": {
      "image/png": {
       "height": 420,
       "width": 420
      },
      "text/plain": {
       "height": 420,
       "width": 420
      }
     },
     "output_type": "display_data"
    },
    {
     "data": {
      "image/png": "[encoded data removed]",
      "text/plain": [
       "plot without title"
      ]
     },
     "metadata": {
      "image/png": {
       "height": 420,
       "width": 420
      },
      "text/plain": {
       "height": 420,
       "width": 420
      }
     },
     "output_type": "display_data"
    },
    {
     "data": {
      "image/png": "[encoded data removed]",
      "text/plain": [
       "plot without title"
      ]
     },
     "metadata": {
      "image/png": {
       "height": 420,
       "width": 420
      },
      "text/plain": {
       "height": 420,
       "width": 420
      }
     },
     "output_type": "display_data"
    },
    {
     "data": {
      "image/png": "[encoded data removed]",
      "text/plain": [
       "plot without title"
      ]
     },
     "metadata": {
      "image/png": {
       "height": 420,
       "width": 420
      },
      "text/plain": {
       "height": 420,
       "width": 420
      }
     },
     "output_type": "display_data"
    }
   ],
   "source": [
    "# generate hourly boxplots for each year\n",
    "HDdata08=HDdata[HDdata$year==2008,] \n",
    "hour08_melt=melt (HDdata08,id.vars=\"year\")\n",
    "ggplot()+geom_boxplot(data=hour08_melt,aes(x=variable,y=value,group=variable),size=1,colour=\"darkorchid4\") +\n",
    "labs(title = \"2008 Energy consumption of MBTA Rapid Transit by hour\",y = \"Energy consumption (MWh)\",x = \"hour\") \n",
    "\n",
    "HDdata09=HDdata[HDdata$year==2009,]\n",
    "hour09_melt=melt (HDdata09,id.vars=\"year\")\n",
    "ggplot()+geom_boxplot(data=hour09_melt,aes(x=variable,y=value,group=variable),size=1,colour=\"darkorchid4\") +\n",
    "labs(title = \"2009 Energy consumption of MBTA Rapid Transit by hour\",y = \"Energy consumption (MWh)\",x = \"hour\")\n",
    "\n",
    "HDdata10=HDdata[HDdata$year==2010,]\n",
    "hour10_melt=melt (HDdata10,id.vars=\"year\")\n",
    "ggplot()+geom_boxplot(data=hour10_melt,aes(x=variable,y=value,group=variable),size=1,colour=\"darkorchid4\") +\n",
    "labs(title = \"2010 Energy consumption of MBTA Rapid Transit by hour\",y = \"Energy consumption (MWh)\",x = \"hour\") \n",
    "\n",
    "HDdata11=HDdata[HDdata$year==2011,]\n",
    "hour11_melt=melt (HDdata11,id.vars=\"year\")\n",
    "ggplot()+geom_boxplot(data=hour11_melt,aes(x=variable,y=value,group=variable),size=1,colour=\"darkorchid4\") +\n",
    "labs(title = \"2011 Energy consumption of MBTA Rapid Transit by hour\",y = \"Energy consumption (MWh)\",x = \"hour\")\n",
    "\n",
    "HDdata12=HDdata[HDdata$year==2012,]\n",
    "hour12_melt=melt (HDdata12,id.vars=\"year\")\n",
    "ggplot()+geom_boxplot(data=hour12_melt,aes(x=variable,y=value,group=variable),size=1,colour=\"darkorchid4\") +\n",
    "labs(title = \"2012 Energy consumption of MBTA Rapid Transit by hour\",y = \"Energy consumption (MWh)\",x = \"hour\") \n",
    "\n",
    "HDdata13=HDdata[HDdata$year==2013,]\n",
    "hour13_melt=melt (HDdata13,id.vars=\"year\")\n",
    "ggplot()+geom_boxplot(data=hour13_melt,aes(x=variable,y=value,group=variable),size=1,colour=\"darkorchid4\") +\n",
    "labs(title = \"2013 Energy consumption of MBTA Rapid Transit by hour\",y = \"Energy consumption (MWh)\", x = \"hour\") \n",
    "HDdata14=HDdata[HDdata$year==2014,]\n",
    "hour14_melt=melt (HDdata14,id.vars=\"year\")\n",
    "ggplot()+geom_boxplot(data=hour14_melt,aes(x=variable,y=value,group=variable),size=1,colour=\"darkorchid4\") +\n",
    "labs(title = \"2014 Energy consumption of MBTA Rapid Transit by hour\",y = \"Energy consumption (MWh)\",x = \"hour\") \n",
    "\n",
    "HDdata15=HDdata[HDdata$year==2015,]\n",
    "hour15_melt=melt (HDdata15,id.vars=\"year\")\n",
    "ggplot()+geom_boxplot(data=hour15_melt,aes(x=variable,y=value,group=variable),size=1,colour=\"darkorchid4\") +\n",
    "labs(title = \"2015 Energy consumption of MBTA Rapid Transit by hour\",y = \"Energy consumption (MWh)\", x = \"hour\") \n",
    "\n",
    "HDdata16=HDdata[HDdata$year==2016,]\n",
    "hour16_melt=melt (HDdata16,id.vars=\"year\")\n",
    "ggplot()+geom_boxplot(data=hour16_melt,aes(x=variable,y=value,group=variable),size=1,colour=\"darkorchid4\") +\n",
    "labs(title = \"2016 Energy consumption of MBTA Rapid Transit by hour\",y = \"Energy consumption (MWh)\",x = \"hour\") \n",
    "\n",
    "HDdata17=HDdata[HDdata$year==2017,]\n",
    "hour17_melt=melt (HDdata17,id.vars=\"year\")\n",
    "ggplot()+geom_boxplot(data=hour17_melt,aes(x=variable,y=value,group=variable),size=1,colour=\"darkorchid4\") +\n",
    "labs(title = \"2017 Energy consumption of MBTA Rapid Transit by hour\", y = \"Energy consumption (MWh)\",x = \"hour\") \n",
    "\n",
    "HDdata18=HDdata[HDdata$year==2018,]\n",
    "hour18_melt=melt(HDdata18,id.vars=\"year\")\n",
    "ggplot()+geom_boxplot(data=hour18_melt,aes(x=variable,y=value,group=variable),size=1,colour=\"darkorchid4\") +\n",
    "labs(title = \"2018 Energy consumption of MBTA Rapid Transit by hour\",y = \"Energy consumption (MWh)\", x = \"hour\")\n",
    "\n",
    "HDdata19=HDdata[HDdata$year==2019,]\n",
    "hour19_melt=melt(HDdata19,id.vars=\"year\")\n",
    "ggplot()+geom_boxplot(data=hour19_melt,aes(x=variable,y=value,group=variable),size=1,colour=\"darkorchid4\") +\n",
    "labs(title = \"2019 Energy consumption of MBTA Rapid Transit by hour\",y = \"Energy consumption (MWh)\",x = \"hour\") "
   ]
  },
  {
   "cell_type": "code",
   "execution_count": 19,
   "metadata": {
    "collapsed": true,
    "jupyter": {
     "outputs_hidden": true
    }
   },
   "outputs": [
    {
     "data": {
      "text/html": [
       "<table class=\"dataframe\">\n",
       "<caption>A data.frame: 6 × 35</caption>\n",
       "<thead>\n",
       "\t<tr><th></th><th scope=col>X</th><th scope=col>WJ</th><th scope=col>Date</th><th scope=col>Year</th><th scope=col>Month</th><th scope=col>Day.of.Month</th><th scope=col>Day.of.Year</th><th scope=col>Hour.1</th><th scope=col>Hour.2</th><th scope=col>Hour.3</th><th scope=col>...</th><th scope=col>Hour.19</th><th scope=col>Hour.20</th><th scope=col>Hour.21</th><th scope=col>Hour.22</th><th scope=col>Hour.23</th><th scope=col>Hour.24</th><th scope=col>Total.Daily.Load</th><th scope=col>on.peak</th><th scope=col>off.peak</th><th scope=col>TAVG</th></tr>\n",
       "\t<tr><th></th><th scope=col>&lt;int&gt;</th><th scope=col>&lt;dbl&gt;</th><th scope=col>&lt;date&gt;</th><th scope=col>&lt;int&gt;</th><th scope=col>&lt;int&gt;</th><th scope=col>&lt;int&gt;</th><th scope=col>&lt;int&gt;</th><th scope=col>&lt;dbl&gt;</th><th scope=col>&lt;dbl&gt;</th><th scope=col>&lt;dbl&gt;</th><th scope=col>...</th><th scope=col>&lt;dbl&gt;</th><th scope=col>&lt;dbl&gt;</th><th scope=col>&lt;dbl&gt;</th><th scope=col>&lt;dbl&gt;</th><th scope=col>&lt;dbl&gt;</th><th scope=col>&lt;dbl&gt;</th><th scope=col>&lt;dbl&gt;</th><th scope=col>&lt;fct&gt;</th><th scope=col>&lt;fct&gt;</th><th scope=col>&lt;fct&gt;</th></tr>\n",
       "</thead>\n",
       "<tbody>\n",
       "\t<tr><th scope=row>1</th><td>1</td><td>0</td><td>2008-01-01</td><td>2008</td><td>1</td><td>1</td><td>1</td><td>0</td><td>0</td><td>0</td><td>...</td><td>0</td><td>0</td><td>0</td><td>0</td><td>0</td><td>0</td><td>0</td><td>NA</td><td>NA</td><td>34  </td></tr>\n",
       "\t<tr><th scope=row>2</th><td>2</td><td>0</td><td>2008-01-02</td><td>2008</td><td>1</td><td>2</td><td>2</td><td>0</td><td>0</td><td>0</td><td>...</td><td>0</td><td>0</td><td>0</td><td>0</td><td>0</td><td>0</td><td>0</td><td>NA</td><td>NA</td><td>21.5</td></tr>\n",
       "\t<tr><th scope=row>3</th><td>3</td><td>0</td><td>2008-01-03</td><td>2008</td><td>1</td><td>3</td><td>3</td><td>0</td><td>0</td><td>0</td><td>...</td><td>0</td><td>0</td><td>0</td><td>0</td><td>0</td><td>0</td><td>0</td><td>NA</td><td>NA</td><td>10.5</td></tr>\n",
       "\t<tr><th scope=row>4</th><td>4</td><td>0</td><td>2008-01-04</td><td>2008</td><td>1</td><td>4</td><td>4</td><td>0</td><td>0</td><td>0</td><td>...</td><td>0</td><td>0</td><td>0</td><td>0</td><td>0</td><td>0</td><td>0</td><td>NA</td><td>NA</td><td>20  </td></tr>\n",
       "\t<tr><th scope=row>5</th><td>5</td><td>1</td><td>2008-01-05</td><td>2008</td><td>1</td><td>5</td><td>5</td><td>0</td><td>0</td><td>0</td><td>...</td><td>0</td><td>0</td><td>0</td><td>0</td><td>0</td><td>0</td><td>0</td><td>NA</td><td>NA</td><td>34.5</td></tr>\n",
       "\t<tr><th scope=row>6</th><td>6</td><td>1</td><td>2008-01-06</td><td>2008</td><td>1</td><td>6</td><td>6</td><td>0</td><td>0</td><td>0</td><td>...</td><td>0</td><td>0</td><td>0</td><td>0</td><td>0</td><td>0</td><td>0</td><td>NA</td><td>NA</td><td>41.5</td></tr>\n",
       "</tbody>\n",
       "</table>\n"
      ],
      "text/latex": [
       "A data.frame: 6 × 35\n",
       "\\begin{tabular}{r|lllllllllllllllllllll}\n",
       "  & X & WJ & Date & Year & Month & Day.of.Month & Day.of.Year & Hour.1 & Hour.2 & Hour.3 & ... & Hour.19 & Hour.20 & Hour.21 & Hour.22 & Hour.23 & Hour.24 & Total.Daily.Load & on.peak & off.peak & TAVG\\\\\n",
       "  & <int> & <dbl> & <date> & <int> & <int> & <int> & <int> & <dbl> & <dbl> & <dbl> & ... & <dbl> & <dbl> & <dbl> & <dbl> & <dbl> & <dbl> & <dbl> & <fct> & <fct> & <fct>\\\\\n",
       "\\hline\n",
       "\t1 & 1 & 0 & 2008-01-01 & 2008 & 1 & 1 & 1 & 0 & 0 & 0 & ... & 0 & 0 & 0 & 0 & 0 & 0 & 0 & NA & NA & 34  \\\\\n",
       "\t2 & 2 & 0 & 2008-01-02 & 2008 & 1 & 2 & 2 & 0 & 0 & 0 & ... & 0 & 0 & 0 & 0 & 0 & 0 & 0 & NA & NA & 21.5\\\\\n",
       "\t3 & 3 & 0 & 2008-01-03 & 2008 & 1 & 3 & 3 & 0 & 0 & 0 & ... & 0 & 0 & 0 & 0 & 0 & 0 & 0 & NA & NA & 10.5\\\\\n",
       "\t4 & 4 & 0 & 2008-01-04 & 2008 & 1 & 4 & 4 & 0 & 0 & 0 & ... & 0 & 0 & 0 & 0 & 0 & 0 & 0 & NA & NA & 20  \\\\\n",
       "\t5 & 5 & 1 & 2008-01-05 & 2008 & 1 & 5 & 5 & 0 & 0 & 0 & ... & 0 & 0 & 0 & 0 & 0 & 0 & 0 & NA & NA & 34.5\\\\\n",
       "\t6 & 6 & 1 & 2008-01-06 & 2008 & 1 & 6 & 6 & 0 & 0 & 0 & ... & 0 & 0 & 0 & 0 & 0 & 0 & 0 & NA & NA & 41.5\\\\\n",
       "\\end{tabular}\n"
      ],
      "text/markdown": [
       "\n",
       "A data.frame: 6 × 35\n",
       "\n",
       "| <!--/--> | X &lt;int&gt; | WJ &lt;dbl&gt; | Date &lt;date&gt; | Year &lt;int&gt; | Month &lt;int&gt; | Day.of.Month &lt;int&gt; | Day.of.Year &lt;int&gt; | Hour.1 &lt;dbl&gt; | Hour.2 &lt;dbl&gt; | Hour.3 &lt;dbl&gt; | ... ... | Hour.19 &lt;dbl&gt; | Hour.20 &lt;dbl&gt; | Hour.21 &lt;dbl&gt; | Hour.22 &lt;dbl&gt; | Hour.23 &lt;dbl&gt; | Hour.24 &lt;dbl&gt; | Total.Daily.Load &lt;dbl&gt; | on.peak &lt;fct&gt; | off.peak &lt;fct&gt; | TAVG &lt;fct&gt; |\n",
       "|---|---|---|---|---|---|---|---|---|---|---|---|---|---|---|---|---|---|---|---|---|---|\n",
       "| 1 | 1 | 0 | 2008-01-01 | 2008 | 1 | 1 | 1 | 0 | 0 | 0 | ... | 0 | 0 | 0 | 0 | 0 | 0 | 0 | NA | NA | 34   |\n",
       "| 2 | 2 | 0 | 2008-01-02 | 2008 | 1 | 2 | 2 | 0 | 0 | 0 | ... | 0 | 0 | 0 | 0 | 0 | 0 | 0 | NA | NA | 21.5 |\n",
       "| 3 | 3 | 0 | 2008-01-03 | 2008 | 1 | 3 | 3 | 0 | 0 | 0 | ... | 0 | 0 | 0 | 0 | 0 | 0 | 0 | NA | NA | 10.5 |\n",
       "| 4 | 4 | 0 | 2008-01-04 | 2008 | 1 | 4 | 4 | 0 | 0 | 0 | ... | 0 | 0 | 0 | 0 | 0 | 0 | 0 | NA | NA | 20   |\n",
       "| 5 | 5 | 1 | 2008-01-05 | 2008 | 1 | 5 | 5 | 0 | 0 | 0 | ... | 0 | 0 | 0 | 0 | 0 | 0 | 0 | NA | NA | 34.5 |\n",
       "| 6 | 6 | 1 | 2008-01-06 | 2008 | 1 | 6 | 6 | 0 | 0 | 0 | ... | 0 | 0 | 0 | 0 | 0 | 0 | 0 | NA | NA | 41.5 |\n",
       "\n"
      ],
      "text/plain": [
       "  X WJ Date       Year Month Day.of.Month Day.of.Year Hour.1 Hour.2 Hour.3 ...\n",
       "1 1 0  2008-01-01 2008 1     1            1           0      0      0      ...\n",
       "2 2 0  2008-01-02 2008 1     2            2           0      0      0      ...\n",
       "3 3 0  2008-01-03 2008 1     3            3           0      0      0      ...\n",
       "4 4 0  2008-01-04 2008 1     4            4           0      0      0      ...\n",
       "5 5 1  2008-01-05 2008 1     5            5           0      0      0      ...\n",
       "6 6 1  2008-01-06 2008 1     6            6           0      0      0      ...\n",
       "  Hour.19 Hour.20 Hour.21 Hour.22 Hour.23 Hour.24 Total.Daily.Load on.peak\n",
       "1 0       0       0       0       0       0       0                NA     \n",
       "2 0       0       0       0       0       0       0                NA     \n",
       "3 0       0       0       0       0       0       0                NA     \n",
       "4 0       0       0       0       0       0       0                NA     \n",
       "5 0       0       0       0       0       0       0                NA     \n",
       "6 0       0       0       0       0       0       0                NA     \n",
       "  off.peak TAVG\n",
       "1 NA       34  \n",
       "2 NA       21.5\n",
       "3 NA       10.5\n",
       "4 NA       20  \n",
       "5 NA       34.5\n",
       "6 NA       41.5"
      ]
     },
     "metadata": {},
     "output_type": "display_data"
    }
   ],
   "source": [
    "head(wholedata_frame)"
   ]
  },
  {
   "cell_type": "markdown",
   "metadata": {},
   "source": [
    "# Hourly energy consumption box plot"
   ]
  },
  {
   "cell_type": "code",
   "execution_count": 7,
   "metadata": {},
   "outputs": [
    {
     "name": "stderr",
     "output_type": "stream",
     "text": [
      "Warning message:\n",
      "\"Removed 858 rows containing non-finite values (stat_boxplot).\"\n"
     ]
    },
    {
     "data": {
      "text/html": [
       "<strong>png:</strong> 2"
      ],
      "text/latex": [
       "\\textbf{png:} 2"
      ],
      "text/markdown": [
       "**png:** 2"
      ],
      "text/plain": [
       "png \n",
       "  2 "
      ]
     },
     "metadata": {},
     "output_type": "display_data"
    }
   ],
   "source": [
    "box_melt = melt(wholedata_frame,id.vars = \"Year\",measure.vars = c(paste0(\"Hour.\",1:24)))\n",
    "box_melt$variable = as.numeric(gsub(\"Hour.\", \"\",box_melt$variable))\n",
    "box_melt$variable = factor(box_melt$variable,levels = c( \"1\", \"2\", \"3\", \"4\", \"5\", \"6\", \"7\", \"8\",\"9\",\"10\",\"11\",\"12\",\"13\",\"14\",\"15\",\"16\",\"17\",\"18\",\"19\",\"20\",\"21\",\"22\",\"23\",\"24\"))\n",
    "box_melt$variable = as.numeric(box_melt$variable)\n",
    "options(repr.plot.width = 60, repr.plot.height = 80)\n",
    "png(\"../../figures/figures for report/Hourly box plot.png\",height= 4000,width=6000,res=360)\n",
    "ggplot(box_melt ,aes(x = as.factor(variable),y = value,color = \"red\")) + \n",
    "    geom_boxplot(size=1) + \n",
    "    ylim(24,90) +\n",
    "     theme_bw()+\n",
    "    labs(x = \"Hour\", y = \"Energy (MWh)\") +\n",
    "    theme(axis.title = element_text(size = 25),\n",
    "          axis.text = element_text(size = 20)) +\n",
    "     #scale_x_datetime(date_labels = (\"%I %p\"),\n",
    "                   # date_breaks = \"1 hours\") +\n",
    "      guides(color= FALSE)\n",
    "dev.off()"
   ]
  },
  {
   "cell_type": "code",
   "execution_count": 325,
   "metadata": {},
   "outputs": [
    {
     "name": "stderr",
     "output_type": "stream",
     "text": [
      "Warning message:\n",
      "\"Removed 114 rows containing non-finite values (stat_boxplot).\"\n"
     ]
    },
    {
     "data": {
      "text/html": [
       "<strong>png:</strong> 2"
      ],
      "text/latex": [
       "\\textbf{png:} 2"
      ],
      "text/markdown": [
       "**png:** 2"
      ],
      "text/plain": [
       "png \n",
       "  2 "
      ]
     },
     "metadata": {},
     "output_type": "display_data"
    }
   ],
   "source": [
    "png(\"../../figures/Hourly box plot.png\",height= 6500,width=8500,res=360)\n",
    "ggplot(box_melt ,aes(x = as.factor(variable),y = value,color = \"red\")) + \n",
    "    geom_boxplot(size=5) + \n",
    "    ylim(24,90) +\n",
    "  theme_bw()+\n",
    "    labs(x = \"Hour\", y = \"Energy (MWh)\") +\n",
    "    theme(axis.title = element_text(size = 60),\n",
    "          axis.text = element_text(size = 50)) +\n",
    "     #scale_x_datetime(date_labels = (\"%I %p\"),\n",
    "                   # date_breaks = \"1 hours\") +\n",
    "      guides(color= FALSE)\n",
    "dev.off()"
   ]
  },
  {
   "cell_type": "code",
   "execution_count": 309,
   "metadata": {
    "collapsed": true,
    "jupyter": {
     "outputs_hidden": true
    }
   },
   "outputs": [
    {
     "data": {
      "text/html": [
       "<table class=\"dataframe\">\n",
       "<caption>A data.frame: 113232 × 3</caption>\n",
       "<thead>\n",
       "\t<tr><th scope=col>Year</th><th scope=col>variable</th><th scope=col>value</th></tr>\n",
       "\t<tr><th scope=col>&lt;int&gt;</th><th scope=col>&lt;dbl&gt;</th><th scope=col>&lt;dbl&gt;</th></tr>\n",
       "</thead>\n",
       "<tbody>\n",
       "\t<tr><td>2008</td><td>1</td><td>53.906</td></tr>\n",
       "\t<tr><td>2008</td><td>1</td><td>48.805</td></tr>\n",
       "\t<tr><td>2008</td><td>1</td><td>47.228</td></tr>\n",
       "\t<tr><td>2008</td><td>1</td><td>47.830</td></tr>\n",
       "\t<tr><td>2008</td><td>1</td><td>51.319</td></tr>\n",
       "\t<tr><td>2008</td><td>1</td><td>48.019</td></tr>\n",
       "\t<tr><td>2008</td><td>1</td><td>51.805</td></tr>\n",
       "\t<tr><td>2008</td><td>1</td><td>55.433</td></tr>\n",
       "\t<tr><td>2008</td><td>1</td><td>56.009</td></tr>\n",
       "\t<tr><td>2008</td><td>1</td><td>51.256</td></tr>\n",
       "\t<tr><td>2008</td><td>1</td><td>59.168</td></tr>\n",
       "\t<tr><td>2008</td><td>1</td><td>60.436</td></tr>\n",
       "\t<tr><td>2008</td><td>1</td><td>60.737</td></tr>\n",
       "\t<tr><td>2008</td><td>1</td><td>53.776</td></tr>\n",
       "\t<tr><td>2008</td><td>1</td><td>54.580</td></tr>\n",
       "\t<tr><td>2008</td><td>1</td><td>55.753</td></tr>\n",
       "\t<tr><td>2008</td><td>1</td><td>54.692</td></tr>\n",
       "\t<tr><td>2008</td><td>1</td><td>48.142</td></tr>\n",
       "\t<tr><td>2008</td><td>1</td><td>48.236</td></tr>\n",
       "\t<tr><td>2008</td><td>1</td><td>54.140</td></tr>\n",
       "\t<tr><td>2008</td><td>1</td><td>55.552</td></tr>\n",
       "\t<tr><td>2008</td><td>1</td><td>56.196</td></tr>\n",
       "\t<tr><td>2008</td><td>1</td><td>60.353</td></tr>\n",
       "\t<tr><td>2008</td><td>1</td><td>56.281</td></tr>\n",
       "\t<tr><td>2008</td><td>1</td><td>53.366</td></tr>\n",
       "\t<tr><td>2008</td><td>1</td><td>52.769</td></tr>\n",
       "\t<tr><td>2008</td><td>1</td><td>51.756</td></tr>\n",
       "\t<tr><td>2008</td><td>1</td><td>66.846</td></tr>\n",
       "\t<tr><td>2008</td><td>1</td><td>60.944</td></tr>\n",
       "\t<tr><td>2008</td><td>1</td><td>60.481</td></tr>\n",
       "\t<tr><td>...</td><td>...</td><td>...</td></tr>\n",
       "\t<tr><td>2020</td><td>24</td><td>42.186</td></tr>\n",
       "\t<tr><td>2020</td><td>24</td><td>41.802</td></tr>\n",
       "\t<tr><td>2020</td><td>24</td><td>44.035</td></tr>\n",
       "\t<tr><td>2020</td><td>24</td><td>48.832</td></tr>\n",
       "\t<tr><td>2020</td><td>24</td><td>44.664</td></tr>\n",
       "\t<tr><td>2020</td><td>24</td><td>44.100</td></tr>\n",
       "\t<tr><td>2020</td><td>24</td><td>46.468</td></tr>\n",
       "\t<tr><td>2020</td><td>24</td><td>44.041</td></tr>\n",
       "\t<tr><td>2020</td><td>24</td><td>44.114</td></tr>\n",
       "\t<tr><td>2020</td><td>24</td><td>43.887</td></tr>\n",
       "\t<tr><td>2020</td><td>24</td><td>39.971</td></tr>\n",
       "\t<tr><td>2020</td><td>24</td><td>39.291</td></tr>\n",
       "\t<tr><td>2020</td><td>24</td><td>46.195</td></tr>\n",
       "\t<tr><td>2020</td><td>24</td><td>49.176</td></tr>\n",
       "\t<tr><td>2020</td><td>24</td><td>53.534</td></tr>\n",
       "\t<tr><td>2020</td><td>24</td><td>53.772</td></tr>\n",
       "\t<tr><td>2020</td><td>24</td><td>53.574</td></tr>\n",
       "\t<tr><td>2020</td><td>24</td><td>50.016</td></tr>\n",
       "\t<tr><td>2020</td><td>24</td><td>46.878</td></tr>\n",
       "\t<tr><td>2020</td><td>24</td><td>49.870</td></tr>\n",
       "\t<tr><td>2020</td><td>24</td><td>51.354</td></tr>\n",
       "\t<tr><td>2020</td><td>24</td><td>50.722</td></tr>\n",
       "\t<tr><td>2020</td><td>24</td><td>47.933</td></tr>\n",
       "\t<tr><td>2020</td><td>24</td><td>44.375</td></tr>\n",
       "\t<tr><td>2020</td><td>24</td><td>49.134</td></tr>\n",
       "\t<tr><td>2020</td><td>24</td><td>45.399</td></tr>\n",
       "\t<tr><td>2020</td><td>24</td><td>45.894</td></tr>\n",
       "\t<tr><td>2020</td><td>24</td><td>48.434</td></tr>\n",
       "\t<tr><td>2020</td><td>24</td><td>45.558</td></tr>\n",
       "\t<tr><td>2020</td><td>24</td><td>44.506</td></tr>\n",
       "</tbody>\n",
       "</table>\n"
      ],
      "text/latex": [
       "A data.frame: 113232 × 3\n",
       "\\begin{tabular}{lll}\n",
       " Year & variable & value\\\\\n",
       " <int> & <dbl> & <dbl>\\\\\n",
       "\\hline\n",
       "\t 2008 & 1 & 53.906\\\\\n",
       "\t 2008 & 1 & 48.805\\\\\n",
       "\t 2008 & 1 & 47.228\\\\\n",
       "\t 2008 & 1 & 47.830\\\\\n",
       "\t 2008 & 1 & 51.319\\\\\n",
       "\t 2008 & 1 & 48.019\\\\\n",
       "\t 2008 & 1 & 51.805\\\\\n",
       "\t 2008 & 1 & 55.433\\\\\n",
       "\t 2008 & 1 & 56.009\\\\\n",
       "\t 2008 & 1 & 51.256\\\\\n",
       "\t 2008 & 1 & 59.168\\\\\n",
       "\t 2008 & 1 & 60.436\\\\\n",
       "\t 2008 & 1 & 60.737\\\\\n",
       "\t 2008 & 1 & 53.776\\\\\n",
       "\t 2008 & 1 & 54.580\\\\\n",
       "\t 2008 & 1 & 55.753\\\\\n",
       "\t 2008 & 1 & 54.692\\\\\n",
       "\t 2008 & 1 & 48.142\\\\\n",
       "\t 2008 & 1 & 48.236\\\\\n",
       "\t 2008 & 1 & 54.140\\\\\n",
       "\t 2008 & 1 & 55.552\\\\\n",
       "\t 2008 & 1 & 56.196\\\\\n",
       "\t 2008 & 1 & 60.353\\\\\n",
       "\t 2008 & 1 & 56.281\\\\\n",
       "\t 2008 & 1 & 53.366\\\\\n",
       "\t 2008 & 1 & 52.769\\\\\n",
       "\t 2008 & 1 & 51.756\\\\\n",
       "\t 2008 & 1 & 66.846\\\\\n",
       "\t 2008 & 1 & 60.944\\\\\n",
       "\t 2008 & 1 & 60.481\\\\\n",
       "\t ... & ... & ...\\\\\n",
       "\t 2020 & 24 & 42.186\\\\\n",
       "\t 2020 & 24 & 41.802\\\\\n",
       "\t 2020 & 24 & 44.035\\\\\n",
       "\t 2020 & 24 & 48.832\\\\\n",
       "\t 2020 & 24 & 44.664\\\\\n",
       "\t 2020 & 24 & 44.100\\\\\n",
       "\t 2020 & 24 & 46.468\\\\\n",
       "\t 2020 & 24 & 44.041\\\\\n",
       "\t 2020 & 24 & 44.114\\\\\n",
       "\t 2020 & 24 & 43.887\\\\\n",
       "\t 2020 & 24 & 39.971\\\\\n",
       "\t 2020 & 24 & 39.291\\\\\n",
       "\t 2020 & 24 & 46.195\\\\\n",
       "\t 2020 & 24 & 49.176\\\\\n",
       "\t 2020 & 24 & 53.534\\\\\n",
       "\t 2020 & 24 & 53.772\\\\\n",
       "\t 2020 & 24 & 53.574\\\\\n",
       "\t 2020 & 24 & 50.016\\\\\n",
       "\t 2020 & 24 & 46.878\\\\\n",
       "\t 2020 & 24 & 49.870\\\\\n",
       "\t 2020 & 24 & 51.354\\\\\n",
       "\t 2020 & 24 & 50.722\\\\\n",
       "\t 2020 & 24 & 47.933\\\\\n",
       "\t 2020 & 24 & 44.375\\\\\n",
       "\t 2020 & 24 & 49.134\\\\\n",
       "\t 2020 & 24 & 45.399\\\\\n",
       "\t 2020 & 24 & 45.894\\\\\n",
       "\t 2020 & 24 & 48.434\\\\\n",
       "\t 2020 & 24 & 45.558\\\\\n",
       "\t 2020 & 24 & 44.506\\\\\n",
       "\\end{tabular}\n"
      ],
      "text/markdown": [
       "\n",
       "A data.frame: 113232 × 3\n",
       "\n",
       "| Year &lt;int&gt; | variable &lt;dbl&gt; | value &lt;dbl&gt; |\n",
       "|---|---|---|\n",
       "| 2008 | 1 | 53.906 |\n",
       "| 2008 | 1 | 48.805 |\n",
       "| 2008 | 1 | 47.228 |\n",
       "| 2008 | 1 | 47.830 |\n",
       "| 2008 | 1 | 51.319 |\n",
       "| 2008 | 1 | 48.019 |\n",
       "| 2008 | 1 | 51.805 |\n",
       "| 2008 | 1 | 55.433 |\n",
       "| 2008 | 1 | 56.009 |\n",
       "| 2008 | 1 | 51.256 |\n",
       "| 2008 | 1 | 59.168 |\n",
       "| 2008 | 1 | 60.436 |\n",
       "| 2008 | 1 | 60.737 |\n",
       "| 2008 | 1 | 53.776 |\n",
       "| 2008 | 1 | 54.580 |\n",
       "| 2008 | 1 | 55.753 |\n",
       "| 2008 | 1 | 54.692 |\n",
       "| 2008 | 1 | 48.142 |\n",
       "| 2008 | 1 | 48.236 |\n",
       "| 2008 | 1 | 54.140 |\n",
       "| 2008 | 1 | 55.552 |\n",
       "| 2008 | 1 | 56.196 |\n",
       "| 2008 | 1 | 60.353 |\n",
       "| 2008 | 1 | 56.281 |\n",
       "| 2008 | 1 | 53.366 |\n",
       "| 2008 | 1 | 52.769 |\n",
       "| 2008 | 1 | 51.756 |\n",
       "| 2008 | 1 | 66.846 |\n",
       "| 2008 | 1 | 60.944 |\n",
       "| 2008 | 1 | 60.481 |\n",
       "| ... | ... | ... |\n",
       "| 2020 | 24 | 42.186 |\n",
       "| 2020 | 24 | 41.802 |\n",
       "| 2020 | 24 | 44.035 |\n",
       "| 2020 | 24 | 48.832 |\n",
       "| 2020 | 24 | 44.664 |\n",
       "| 2020 | 24 | 44.100 |\n",
       "| 2020 | 24 | 46.468 |\n",
       "| 2020 | 24 | 44.041 |\n",
       "| 2020 | 24 | 44.114 |\n",
       "| 2020 | 24 | 43.887 |\n",
       "| 2020 | 24 | 39.971 |\n",
       "| 2020 | 24 | 39.291 |\n",
       "| 2020 | 24 | 46.195 |\n",
       "| 2020 | 24 | 49.176 |\n",
       "| 2020 | 24 | 53.534 |\n",
       "| 2020 | 24 | 53.772 |\n",
       "| 2020 | 24 | 53.574 |\n",
       "| 2020 | 24 | 50.016 |\n",
       "| 2020 | 24 | 46.878 |\n",
       "| 2020 | 24 | 49.870 |\n",
       "| 2020 | 24 | 51.354 |\n",
       "| 2020 | 24 | 50.722 |\n",
       "| 2020 | 24 | 47.933 |\n",
       "| 2020 | 24 | 44.375 |\n",
       "| 2020 | 24 | 49.134 |\n",
       "| 2020 | 24 | 45.399 |\n",
       "| 2020 | 24 | 45.894 |\n",
       "| 2020 | 24 | 48.434 |\n",
       "| 2020 | 24 | 45.558 |\n",
       "| 2020 | 24 | 44.506 |\n",
       "\n"
      ],
      "text/plain": [
       "       Year variable value \n",
       "1      2008 1        53.906\n",
       "2      2008 1        48.805\n",
       "3      2008 1        47.228\n",
       "4      2008 1        47.830\n",
       "5      2008 1        51.319\n",
       "6      2008 1        48.019\n",
       "7      2008 1        51.805\n",
       "8      2008 1        55.433\n",
       "9      2008 1        56.009\n",
       "10     2008 1        51.256\n",
       "11     2008 1        59.168\n",
       "12     2008 1        60.436\n",
       "13     2008 1        60.737\n",
       "14     2008 1        53.776\n",
       "15     2008 1        54.580\n",
       "16     2008 1        55.753\n",
       "17     2008 1        54.692\n",
       "18     2008 1        48.142\n",
       "19     2008 1        48.236\n",
       "20     2008 1        54.140\n",
       "21     2008 1        55.552\n",
       "22     2008 1        56.196\n",
       "23     2008 1        60.353\n",
       "24     2008 1        56.281\n",
       "25     2008 1        53.366\n",
       "26     2008 1        52.769\n",
       "27     2008 1        51.756\n",
       "28     2008 1        66.846\n",
       "29     2008 1        60.944\n",
       "30     2008 1        60.481\n",
       "...    ...  ...      ...   \n",
       "113203 2020 24       42.186\n",
       "113204 2020 24       41.802\n",
       "113205 2020 24       44.035\n",
       "113206 2020 24       48.832\n",
       "113207 2020 24       44.664\n",
       "113208 2020 24       44.100\n",
       "113209 2020 24       46.468\n",
       "113210 2020 24       44.041\n",
       "113211 2020 24       44.114\n",
       "113212 2020 24       43.887\n",
       "113213 2020 24       39.971\n",
       "113214 2020 24       39.291\n",
       "113215 2020 24       46.195\n",
       "113216 2020 24       49.176\n",
       "113217 2020 24       53.534\n",
       "113218 2020 24       53.772\n",
       "113219 2020 24       53.574\n",
       "113220 2020 24       50.016\n",
       "113221 2020 24       46.878\n",
       "113222 2020 24       49.870\n",
       "113223 2020 24       51.354\n",
       "113224 2020 24       50.722\n",
       "113225 2020 24       47.933\n",
       "113226 2020 24       44.375\n",
       "113227 2020 24       49.134\n",
       "113228 2020 24       45.399\n",
       "113229 2020 24       45.894\n",
       "113230 2020 24       48.434\n",
       "113231 2020 24       45.558\n",
       "113232 2020 24       44.506"
      ]
     },
     "metadata": {},
     "output_type": "display_data"
    }
   ],
   "source": [
    "box_melt"
   ]
  },
  {
   "cell_type": "code",
   "execution_count": 216,
   "metadata": {},
   "outputs": [],
   "source": [
    "box_melt = box_melt %>% \n",
    "  mutate(Time = str_c(variable,\"00\", sep = ':'))"
   ]
  },
  {
   "cell_type": "code",
   "execution_count": 183,
   "metadata": {},
   "outputs": [],
   "source": [
    "box_melt$variable = box_melt$variable -1"
   ]
  },
  {
   "cell_type": "code",
   "execution_count": 103,
   "metadata": {},
   "outputs": [],
   "source": [
    "box_melt_peak_1= box_melt[(box_melt$variable >=7 & box_melt$variable <= 10),\n",
    "#                           & box_melt$variable >=16 & box_melt$variable <= 18),\n",
    "#                          &\n",
    "#                          #(box_melt$variable >=16 & box_melt$variable <= 18),\n",
    "                        ]"
   ]
  },
  {
   "cell_type": "code",
   "execution_count": 104,
   "metadata": {},
   "outputs": [],
   "source": [
    "box_melt_peak_2 = box_melt[(box_melt$variable >=16 & box_melt$variable <= 18),]"
   ]
  },
  {
   "cell_type": "code",
   "execution_count": 106,
   "metadata": {},
   "outputs": [],
   "source": [
    "box_melt_peak_3 = box_melt[(box_melt$variable >=2 & box_melt$variable <= 4),]"
   ]
  },
  {
   "cell_type": "code",
   "execution_count": 107,
   "metadata": {},
   "outputs": [],
   "source": [
    "box_melt_peak = rbind(box_melt_peak_1,box_melt_peak_2)"
   ]
  },
  {
   "cell_type": "code",
   "execution_count": 111,
   "metadata": {
    "collapsed": true,
    "jupyter": {
     "outputs_hidden": true
    }
   },
   "outputs": [
    {
     "data": {
      "text/html": [
       "53.9619912568885"
      ],
      "text/latex": [
       "53.9619912568885"
      ],
      "text/markdown": [
       "53.9619912568885"
      ],
      "text/plain": [
       "[1] 53.96199"
      ]
     },
     "metadata": {},
     "output_type": "display_data"
    },
    {
     "data": {
      "text/html": [
       "55.0965144835382"
      ],
      "text/latex": [
       "55.0965144835382"
      ],
      "text/markdown": [
       "55.0965144835382"
      ],
      "text/plain": [
       "[1] 55.09651"
      ]
     },
     "metadata": {},
     "output_type": "display_data"
    },
    {
     "data": {
      "text/html": [
       "34.3784319626961"
      ],
      "text/latex": [
       "34.3784319626961"
      ],
      "text/markdown": [
       "34.3784319626961"
      ],
      "text/plain": [
       "[1] 34.37843"
      ]
     },
     "metadata": {},
     "output_type": "display_data"
    },
    {
     "data": {
      "text/html": [
       "48.1518245548961"
      ],
      "text/latex": [
       "48.1518245548961"
      ],
      "text/markdown": [
       "48.1518245548961"
      ],
      "text/plain": [
       "[1] 48.15182"
      ]
     },
     "metadata": {},
     "output_type": "display_data"
    }
   ],
   "source": [
    "mean(box_melt_peak_1$value)\n",
    "mean(box_melt_peak_2$value)\n",
    "mean(box_melt_peak_3$value)\n",
    "mean(box_melt$value)"
   ]
  },
  {
   "cell_type": "code",
   "execution_count": 110,
   "metadata": {},
   "outputs": [
    {
     "data": {
      "text/html": [
       "34.3784319626961"
      ],
      "text/latex": [
       "34.3784319626961"
      ],
      "text/markdown": [
       "34.3784319626961"
      ],
      "text/plain": [
       "[1] 34.37843"
      ]
     },
     "metadata": {},
     "output_type": "display_data"
    }
   ],
   "source": [
    "mean(box_melt_peak_3$value)"
   ]
  },
  {
   "cell_type": "code",
   "execution_count": 65,
   "metadata": {},
   "outputs": [],
   "source": [
    "box_melt_peak_agg = aggregate(box_melt_peak$value,list(box_melt_peak$variable),sum)"
   ]
  },
  {
   "cell_type": "code",
   "execution_count": 67,
   "metadata": {},
   "outputs": [
    {
     "data": {
      "text/html": [
       "8.93495735067032"
      ],
      "text/latex": [
       "8.93495735067032"
      ],
      "text/markdown": [
       "8.93495735067032"
      ],
      "text/plain": [
       "[1] 8.934957"
      ]
     },
     "metadata": {},
     "output_type": "display_data"
    }
   ],
   "source": [
    "sum(box_melt_peak_agg$x)/nrow(box_melt)"
   ]
  },
  {
   "cell_type": "code",
   "execution_count": 3,
   "metadata": {
    "collapsed": true,
    "jupyter": {
     "outputs_hidden": true
    }
   },
   "outputs": [
    {
     "name": "stderr",
     "output_type": "stream",
     "text": [
      "Warning message:\n",
      "\"Removed 2 rows containing missing values (position_stack).\"\n"
     ]
    },
    {
     "data": {
      "image/png": "[encoded data removed]",
      "text/plain": [
       "plot without title"
      ]
     },
     "metadata": {
      "image/png": {
       "height": 420,
       "width": 420
      },
      "text/plain": {
       "height": 420,
       "width": 420
      }
     },
     "output_type": "display_data"
    }
   ],
   "source": [
    "#generate stacked plot by month\n",
    "Hourstacked=aggregate(wholedata_frame$Total.Daily.Load,list(wholedata_frame$Year,wholedata_frame$Month),sum)\n",
    "ggplot(Hourstacked,aes(x=factor(Group.1),y=x,fill=factor(Group.2)))+geom_col(position = \"fill\", width = 0.6)+\n",
    "labs(title = \"Annual energy consumption stacked by month\", y = \"Energy consumption \",x = \"Year\", fill=\"Month\") "
   ]
  }
 ],
 "metadata": {
  "kernelspec": {
   "display_name": "R",
   "language": "R",
   "name": "ir"
  },
  "language_info": {
   "codemirror_mode": "r",
   "file_extension": ".r",
   "mimetype": "text/x-r-source",
   "name": "R",
   "pygments_lexer": "r",
   "version": "3.6.2"
  }
 },
 "nbformat": 4,
 "nbformat_minor": 4
}
