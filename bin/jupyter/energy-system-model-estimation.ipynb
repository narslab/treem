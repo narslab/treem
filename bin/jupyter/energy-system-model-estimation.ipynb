{
 "cells": [
  {
   "cell_type": "code",
   "execution_count": 1,
   "metadata": {
    "collapsed": true,
    "jupyter": {
     "outputs_hidden": true
    }
   },
   "outputs": [
    {
     "name": "stderr",
     "output_type": "stream",
     "text": [
      "Loading required package: nlme\n",
      "\n",
      "This is mgcv 1.8-31. For overview type 'help(\"mgcv-package\")'.\n",
      "\n",
      "Warning message:\n",
      "\"package 'psych' was built under R version 3.6.3\"\n",
      "Warning message:\n",
      "\"package 'ggplot2' was built under R version 3.6.3\"\n",
      "\n",
      "Attaching package: 'ggplot2'\n",
      "\n",
      "\n",
      "The following objects are masked from 'package:psych':\n",
      "\n",
      "    %+%, alpha\n",
      "\n",
      "\n"
     ]
    }
   ],
   "source": [
    "library(mgcv)\n",
    "library(psych)\n",
    "library(ggplot2)"
   ]
  },
  {
   "cell_type": "code",
   "execution_count": 2,
   "metadata": {},
   "outputs": [],
   "source": [
    "df = read.csv(\"../../data/tidy/system-model-19-04.csv\")"
   ]
  },
  {
   "cell_type": "code",
   "execution_count": 3,
   "metadata": {
    "collapsed": true,
    "jupyter": {
     "outputs_hidden": true
    }
   },
   "outputs": [
    {
     "data": {
      "text/html": [
       "<table>\n",
       "<caption>A data.frame: 6 × 23</caption>\n",
       "<thead>\n",
       "\t<tr><th></th><th scope=col>X</th><th scope=col>year</th><th scope=col>month</th><th scope=col>day</th><th scope=col>hour</th><th scope=col>distance_mile</th><th scope=col>time_hr</th><th scope=col>speed_bin_1_time_hr</th><th scope=col>speed_bin_2_time_hr</th><th scope=col>speed_bin_3_time_hr</th><th scope=col>...</th><th scope=col>accel_bin_2_time_hr</th><th scope=col>accel_bin_3_time_hr</th><th scope=col>accel_bin_4_time_hr</th><th scope=col>accel_bin_5_time_hr</th><th scope=col>avg_interval_speed_mph</th><th scope=col>avg_hour_speed_mph</th><th scope=col>ridership</th><th scope=col>weekends_weekday</th><th scope=col>TAVG</th><th scope=col>energy_kwh</th></tr>\n",
       "\t<tr><th></th><th scope=col>&lt;int&gt;</th><th scope=col>&lt;int&gt;</th><th scope=col>&lt;int&gt;</th><th scope=col>&lt;int&gt;</th><th scope=col>&lt;int&gt;</th><th scope=col>&lt;dbl&gt;</th><th scope=col>&lt;dbl&gt;</th><th scope=col>&lt;dbl&gt;</th><th scope=col>&lt;dbl&gt;</th><th scope=col>&lt;dbl&gt;</th><th scope=col>...</th><th scope=col>&lt;dbl&gt;</th><th scope=col>&lt;dbl&gt;</th><th scope=col>&lt;dbl&gt;</th><th scope=col>&lt;dbl&gt;</th><th scope=col>&lt;dbl&gt;</th><th scope=col>&lt;dbl&gt;</th><th scope=col>&lt;dbl&gt;</th><th scope=col>&lt;int&gt;</th><th scope=col>&lt;dbl&gt;</th><th scope=col>&lt;dbl&gt;</th></tr>\n",
       "</thead>\n",
       "<tbody>\n",
       "\t<tr><th scope=row>1</th><td>1</td><td>  NA</td><td>5</td><td>1</td><td> 0</td><td> 766.80982</td><td>20518.943889</td><td>20488.48333</td><td>10.211944</td><td> 8.805278</td><td>...</td><td>14.068333333</td><td>19059.505833</td><td> 8.20055556</td><td>3.3375000</td><td>21.70410</td><td> 0.03737082</td><td>     NA</td><td>NA</td><td>NA</td><td>    NA</td></tr>\n",
       "\t<tr><th scope=row>2</th><td>2</td><td>  NA</td><td>5</td><td>1</td><td> 1</td><td> 224.00092</td><td> 1433.453056</td><td> 1424.07694</td><td> 2.443333</td><td> 3.037500</td><td>...</td><td> 2.736944444</td><td> 1424.177222</td><td> 1.35333333</td><td>1.2955556</td><td>26.08955</td><td> 0.15626666</td><td>     NA</td><td>NA</td><td>NA</td><td>    NA</td></tr>\n",
       "\t<tr><th scope=row>3</th><td>3</td><td>  NA</td><td>5</td><td>1</td><td> 2</td><td>  83.01897</td><td>    5.771944</td><td>    1.76750</td><td> 1.313056</td><td> 1.537222</td><td>...</td><td> 0.001666667</td><td>    3.003056</td><td> 0.01305556</td><td>0.5802778</td><td>23.04987</td><td>14.38318945</td><td>     NA</td><td>NA</td><td>NA</td><td>    NA</td></tr>\n",
       "\t<tr><th scope=row>4</th><td>4</td><td>2019</td><td>4</td><td>1</td><td> 0</td><td>        NA</td><td>          NA</td><td>         NA</td><td>       NA</td><td>       NA</td><td>...</td><td>          NA</td><td>          NA</td><td>         NA</td><td>       NA</td><td>      NA</td><td>         NA</td><td> 1561.0</td><td> 2</td><td>42</td><td>40.567</td></tr>\n",
       "\t<tr><th scope=row>5</th><td>5</td><td>2019</td><td>4</td><td>1</td><td> 1</td><td>        NA</td><td>          NA</td><td>         NA</td><td>       NA</td><td>       NA</td><td>...</td><td>          NA</td><td>          NA</td><td>         NA</td><td>       NA</td><td>      NA</td><td>         NA</td><td>  171.7</td><td> 2</td><td>42</td><td>35.110</td></tr>\n",
       "\t<tr><th scope=row>6</th><td>6</td><td>2019</td><td>4</td><td>1</td><td>10</td><td>1157.92787</td><td>  117.502778</td><td>   63.17194</td><td>21.106944</td><td>15.074167</td><td>...</td><td>33.216944444</td><td>   52.217500</td><td>15.46083333</td><td>5.1025000</td><td>19.38688</td><td> 9.85447235</td><td>19134.9</td><td> 2</td><td>42</td><td>53.894</td></tr>\n",
       "</tbody>\n",
       "</table>\n"
      ],
      "text/latex": [
       "A data.frame: 6 × 23\n",
       "\\begin{tabular}{r|lllllllllllllllllllll}\n",
       "  & X & year & month & day & hour & distance\\_mile & time\\_hr & speed\\_bin\\_1\\_time\\_hr & speed\\_bin\\_2\\_time\\_hr & speed\\_bin\\_3\\_time\\_hr & ... & accel\\_bin\\_2\\_time\\_hr & accel\\_bin\\_3\\_time\\_hr & accel\\_bin\\_4\\_time\\_hr & accel\\_bin\\_5\\_time\\_hr & avg\\_interval\\_speed\\_mph & avg\\_hour\\_speed\\_mph & ridership & weekends\\_weekday & TAVG & energy\\_kwh\\\\\n",
       "  & <int> & <int> & <int> & <int> & <int> & <dbl> & <dbl> & <dbl> & <dbl> & <dbl> & ... & <dbl> & <dbl> & <dbl> & <dbl> & <dbl> & <dbl> & <dbl> & <int> & <dbl> & <dbl>\\\\\n",
       "\\hline\n",
       "\t1 & 1 &   NA & 5 & 1 &  0 &  766.80982 & 20518.943889 & 20488.48333 & 10.211944 &  8.805278 & ... & 14.068333333 & 19059.505833 &  8.20055556 & 3.3375000 & 21.70410 &  0.03737082 &      NA & NA & NA &     NA\\\\\n",
       "\t2 & 2 &   NA & 5 & 1 &  1 &  224.00092 &  1433.453056 &  1424.07694 &  2.443333 &  3.037500 & ... &  2.736944444 &  1424.177222 &  1.35333333 & 1.2955556 & 26.08955 &  0.15626666 &      NA & NA & NA &     NA\\\\\n",
       "\t3 & 3 &   NA & 5 & 1 &  2 &   83.01897 &     5.771944 &     1.76750 &  1.313056 &  1.537222 & ... &  0.001666667 &     3.003056 &  0.01305556 & 0.5802778 & 23.04987 & 14.38318945 &      NA & NA & NA &     NA\\\\\n",
       "\t4 & 4 & 2019 & 4 & 1 &  0 &         NA &           NA &          NA &        NA &        NA & ... &           NA &           NA &          NA &        NA &       NA &          NA &  1561.0 &  2 & 42 & 40.567\\\\\n",
       "\t5 & 5 & 2019 & 4 & 1 &  1 &         NA &           NA &          NA &        NA &        NA & ... &           NA &           NA &          NA &        NA &       NA &          NA &   171.7 &  2 & 42 & 35.110\\\\\n",
       "\t6 & 6 & 2019 & 4 & 1 & 10 & 1157.92787 &   117.502778 &    63.17194 & 21.106944 & 15.074167 & ... & 33.216944444 &    52.217500 & 15.46083333 & 5.1025000 & 19.38688 &  9.85447235 & 19134.9 &  2 & 42 & 53.894\\\\\n",
       "\\end{tabular}\n"
      ],
      "text/markdown": [
       "\n",
       "A data.frame: 6 × 23\n",
       "\n",
       "| <!--/--> | X &lt;int&gt; | year &lt;int&gt; | month &lt;int&gt; | day &lt;int&gt; | hour &lt;int&gt; | distance_mile &lt;dbl&gt; | time_hr &lt;dbl&gt; | speed_bin_1_time_hr &lt;dbl&gt; | speed_bin_2_time_hr &lt;dbl&gt; | speed_bin_3_time_hr &lt;dbl&gt; | ... ... | accel_bin_2_time_hr &lt;dbl&gt; | accel_bin_3_time_hr &lt;dbl&gt; | accel_bin_4_time_hr &lt;dbl&gt; | accel_bin_5_time_hr &lt;dbl&gt; | avg_interval_speed_mph &lt;dbl&gt; | avg_hour_speed_mph &lt;dbl&gt; | ridership &lt;dbl&gt; | weekends_weekday &lt;int&gt; | TAVG &lt;dbl&gt; | energy_kwh &lt;dbl&gt; |\n",
       "|---|---|---|---|---|---|---|---|---|---|---|---|---|---|---|---|---|---|---|---|---|---|\n",
       "| 1 | 1 |   NA | 5 | 1 |  0 |  766.80982 | 20518.943889 | 20488.48333 | 10.211944 |  8.805278 | ... | 14.068333333 | 19059.505833 |  8.20055556 | 3.3375000 | 21.70410 |  0.03737082 |      NA | NA | NA |     NA |\n",
       "| 2 | 2 |   NA | 5 | 1 |  1 |  224.00092 |  1433.453056 |  1424.07694 |  2.443333 |  3.037500 | ... |  2.736944444 |  1424.177222 |  1.35333333 | 1.2955556 | 26.08955 |  0.15626666 |      NA | NA | NA |     NA |\n",
       "| 3 | 3 |   NA | 5 | 1 |  2 |   83.01897 |     5.771944 |     1.76750 |  1.313056 |  1.537222 | ... |  0.001666667 |     3.003056 |  0.01305556 | 0.5802778 | 23.04987 | 14.38318945 |      NA | NA | NA |     NA |\n",
       "| 4 | 4 | 2019 | 4 | 1 |  0 |         NA |           NA |          NA |        NA |        NA | ... |           NA |           NA |          NA |        NA |       NA |          NA |  1561.0 |  2 | 42 | 40.567 |\n",
       "| 5 | 5 | 2019 | 4 | 1 |  1 |         NA |           NA |          NA |        NA |        NA | ... |           NA |           NA |          NA |        NA |       NA |          NA |   171.7 |  2 | 42 | 35.110 |\n",
       "| 6 | 6 | 2019 | 4 | 1 | 10 | 1157.92787 |   117.502778 |    63.17194 | 21.106944 | 15.074167 | ... | 33.216944444 |    52.217500 | 15.46083333 | 5.1025000 | 19.38688 |  9.85447235 | 19134.9 |  2 | 42 | 53.894 |\n",
       "\n"
      ],
      "text/plain": [
       "  X year month day hour distance_mile time_hr      speed_bin_1_time_hr\n",
       "1 1   NA 5     1    0    766.80982    20518.943889 20488.48333        \n",
       "2 2   NA 5     1    1    224.00092     1433.453056  1424.07694        \n",
       "3 3   NA 5     1    2     83.01897        5.771944     1.76750        \n",
       "4 4 2019 4     1    0           NA              NA          NA        \n",
       "5 5 2019 4     1    1           NA              NA          NA        \n",
       "6 6 2019 4     1   10   1157.92787      117.502778    63.17194        \n",
       "  speed_bin_2_time_hr speed_bin_3_time_hr ... accel_bin_2_time_hr\n",
       "1 10.211944            8.805278           ... 14.068333333       \n",
       "2  2.443333            3.037500           ...  2.736944444       \n",
       "3  1.313056            1.537222           ...  0.001666667       \n",
       "4        NA                  NA           ...           NA       \n",
       "5        NA                  NA           ...           NA       \n",
       "6 21.106944           15.074167           ... 33.216944444       \n",
       "  accel_bin_3_time_hr accel_bin_4_time_hr accel_bin_5_time_hr\n",
       "1 19059.505833         8.20055556         3.3375000          \n",
       "2  1424.177222         1.35333333         1.2955556          \n",
       "3     3.003056         0.01305556         0.5802778          \n",
       "4           NA                 NA                NA          \n",
       "5           NA                 NA                NA          \n",
       "6    52.217500        15.46083333         5.1025000          \n",
       "  avg_interval_speed_mph avg_hour_speed_mph ridership weekends_weekday TAVG\n",
       "1 21.70410                0.03737082             NA   NA               NA  \n",
       "2 26.08955                0.15626666             NA   NA               NA  \n",
       "3 23.04987               14.38318945             NA   NA               NA  \n",
       "4       NA                        NA         1561.0    2               42  \n",
       "5       NA                        NA          171.7    2               42  \n",
       "6 19.38688                9.85447235        19134.9    2               42  \n",
       "  energy_kwh\n",
       "1     NA    \n",
       "2     NA    \n",
       "3     NA    \n",
       "4 40.567    \n",
       "5 35.110    \n",
       "6 53.894    "
      ]
     },
     "metadata": {},
     "output_type": "display_data"
    }
   ],
   "source": [
    "head(df)"
   ]
  },
  {
   "cell_type": "code",
   "execution_count": 5,
   "metadata": {},
   "outputs": [],
   "source": [
    "df1 = df [-(1:5),]"
   ]
  },
  {
   "cell_type": "code",
   "execution_count": 7,
   "metadata": {},
   "outputs": [],
   "source": [
    "df = df1"
   ]
  },
  {
   "cell_type": "code",
   "execution_count": 11,
   "metadata": {},
   "outputs": [
    {
     "data": {
      "text/html": [
       "<table>\n",
       "<caption>A data.frame: 6 × 23</caption>\n",
       "<thead>\n",
       "\t<tr><th></th><th scope=col>X</th><th scope=col>year</th><th scope=col>month</th><th scope=col>day</th><th scope=col>hour</th><th scope=col>distance_mile</th><th scope=col>time_hr</th><th scope=col>speed_bin_1_time_hr</th><th scope=col>speed_bin_2_time_hr</th><th scope=col>speed_bin_3_time_hr</th><th scope=col>...</th><th scope=col>accel_bin_2_time_hr</th><th scope=col>accel_bin_3_time_hr</th><th scope=col>accel_bin_4_time_hr</th><th scope=col>accel_bin_5_time_hr</th><th scope=col>avg_interval_speed_mph</th><th scope=col>avg_hour_speed_mph</th><th scope=col>ridership</th><th scope=col>weekends_weekday</th><th scope=col>TAVG</th><th scope=col>energy_kwh</th></tr>\n",
       "\t<tr><th></th><th scope=col>&lt;int&gt;</th><th scope=col>&lt;int&gt;</th><th scope=col>&lt;int&gt;</th><th scope=col>&lt;int&gt;</th><th scope=col>&lt;int&gt;</th><th scope=col>&lt;dbl&gt;</th><th scope=col>&lt;dbl&gt;</th><th scope=col>&lt;dbl&gt;</th><th scope=col>&lt;dbl&gt;</th><th scope=col>&lt;dbl&gt;</th><th scope=col>...</th><th scope=col>&lt;dbl&gt;</th><th scope=col>&lt;dbl&gt;</th><th scope=col>&lt;dbl&gt;</th><th scope=col>&lt;dbl&gt;</th><th scope=col>&lt;dbl&gt;</th><th scope=col>&lt;dbl&gt;</th><th scope=col>&lt;dbl&gt;</th><th scope=col>&lt;int&gt;</th><th scope=col>&lt;dbl&gt;</th><th scope=col>&lt;dbl&gt;</th></tr>\n",
       "</thead>\n",
       "<tbody>\n",
       "\t<tr><th scope=row>6</th><td> 6</td><td>2019</td><td>4</td><td>1</td><td>10</td><td>1157.9279</td><td>117.5028</td><td>63.17194</td><td>21.10694</td><td>15.07417</td><td>...</td><td>33.21694</td><td>52.21750</td><td>15.46083</td><td>5.102500</td><td>19.38688</td><td>9.854472</td><td>19134.9</td><td>2</td><td>42</td><td>53.894</td></tr>\n",
       "\t<tr><th scope=row>7</th><td> 7</td><td>2019</td><td>4</td><td>1</td><td>11</td><td>1015.1473</td><td>104.4983</td><td>55.72083</td><td>19.12222</td><td>14.50750</td><td>...</td><td>28.31611</td><td>48.17361</td><td>13.63389</td><td>4.438056</td><td>18.03608</td><td>9.714483</td><td>17253.1</td><td>2</td><td>42</td><td>49.551</td></tr>\n",
       "\t<tr><th scope=row>8</th><td> 8</td><td>2019</td><td>4</td><td>1</td><td>12</td><td> 987.7224</td><td>106.6147</td><td>58.56194</td><td>19.76028</td><td>12.88806</td><td>...</td><td>28.26639</td><td>50.29861</td><td>13.49528</td><td>4.503333</td><td>18.57697</td><td>9.264409</td><td>17870.3</td><td>2</td><td>42</td><td>48.963</td></tr>\n",
       "\t<tr><th scope=row>9</th><td> 9</td><td>2019</td><td>4</td><td>1</td><td>13</td><td> 947.9956</td><td>106.5056</td><td>61.61694</td><td>16.85667</td><td>12.75944</td><td>...</td><td>27.08194</td><td>52.34806</td><td>13.50861</td><td>4.230000</td><td>18.60897</td><td>8.900903</td><td>18464.4</td><td>2</td><td>42</td><td>49.200</td></tr>\n",
       "\t<tr><th scope=row>10</th><td>10</td><td>2019</td><td>4</td><td>1</td><td>14</td><td>1069.2355</td><td>141.7883</td><td>91.71944</td><td>19.22333</td><td>13.67806</td><td>...</td><td>31.45056</td><td>77.62778</td><td>14.68083</td><td>4.839444</td><td>19.24698</td><td>7.541068</td><td>24528.1</td><td>2</td><td>42</td><td>50.928</td></tr>\n",
       "\t<tr><th scope=row>11</th><td>11</td><td>2019</td><td>4</td><td>1</td><td>15</td><td>1246.3414</td><td>141.4372</td><td>84.90639</td><td>20.30056</td><td>14.82972</td><td>...</td><td>37.28361</td><td>69.25000</td><td>17.03083</td><td>5.454167</td><td>19.30834</td><td>8.811976</td><td>31965.0</td><td>2</td><td>42</td><td>54.272</td></tr>\n",
       "</tbody>\n",
       "</table>\n"
      ],
      "text/latex": [
       "A data.frame: 6 × 23\n",
       "\\begin{tabular}{r|lllllllllllllllllllll}\n",
       "  & X & year & month & day & hour & distance\\_mile & time\\_hr & speed\\_bin\\_1\\_time\\_hr & speed\\_bin\\_2\\_time\\_hr & speed\\_bin\\_3\\_time\\_hr & ... & accel\\_bin\\_2\\_time\\_hr & accel\\_bin\\_3\\_time\\_hr & accel\\_bin\\_4\\_time\\_hr & accel\\_bin\\_5\\_time\\_hr & avg\\_interval\\_speed\\_mph & avg\\_hour\\_speed\\_mph & ridership & weekends\\_weekday & TAVG & energy\\_kwh\\\\\n",
       "  & <int> & <int> & <int> & <int> & <int> & <dbl> & <dbl> & <dbl> & <dbl> & <dbl> & ... & <dbl> & <dbl> & <dbl> & <dbl> & <dbl> & <dbl> & <dbl> & <int> & <dbl> & <dbl>\\\\\n",
       "\\hline\n",
       "\t6 &  6 & 2019 & 4 & 1 & 10 & 1157.9279 & 117.5028 & 63.17194 & 21.10694 & 15.07417 & ... & 33.21694 & 52.21750 & 15.46083 & 5.102500 & 19.38688 & 9.854472 & 19134.9 & 2 & 42 & 53.894\\\\\n",
       "\t7 &  7 & 2019 & 4 & 1 & 11 & 1015.1473 & 104.4983 & 55.72083 & 19.12222 & 14.50750 & ... & 28.31611 & 48.17361 & 13.63389 & 4.438056 & 18.03608 & 9.714483 & 17253.1 & 2 & 42 & 49.551\\\\\n",
       "\t8 &  8 & 2019 & 4 & 1 & 12 &  987.7224 & 106.6147 & 58.56194 & 19.76028 & 12.88806 & ... & 28.26639 & 50.29861 & 13.49528 & 4.503333 & 18.57697 & 9.264409 & 17870.3 & 2 & 42 & 48.963\\\\\n",
       "\t9 &  9 & 2019 & 4 & 1 & 13 &  947.9956 & 106.5056 & 61.61694 & 16.85667 & 12.75944 & ... & 27.08194 & 52.34806 & 13.50861 & 4.230000 & 18.60897 & 8.900903 & 18464.4 & 2 & 42 & 49.200\\\\\n",
       "\t10 & 10 & 2019 & 4 & 1 & 14 & 1069.2355 & 141.7883 & 91.71944 & 19.22333 & 13.67806 & ... & 31.45056 & 77.62778 & 14.68083 & 4.839444 & 19.24698 & 7.541068 & 24528.1 & 2 & 42 & 50.928\\\\\n",
       "\t11 & 11 & 2019 & 4 & 1 & 15 & 1246.3414 & 141.4372 & 84.90639 & 20.30056 & 14.82972 & ... & 37.28361 & 69.25000 & 17.03083 & 5.454167 & 19.30834 & 8.811976 & 31965.0 & 2 & 42 & 54.272\\\\\n",
       "\\end{tabular}\n"
      ],
      "text/markdown": [
       "\n",
       "A data.frame: 6 × 23\n",
       "\n",
       "| <!--/--> | X &lt;int&gt; | year &lt;int&gt; | month &lt;int&gt; | day &lt;int&gt; | hour &lt;int&gt; | distance_mile &lt;dbl&gt; | time_hr &lt;dbl&gt; | speed_bin_1_time_hr &lt;dbl&gt; | speed_bin_2_time_hr &lt;dbl&gt; | speed_bin_3_time_hr &lt;dbl&gt; | ... ... | accel_bin_2_time_hr &lt;dbl&gt; | accel_bin_3_time_hr &lt;dbl&gt; | accel_bin_4_time_hr &lt;dbl&gt; | accel_bin_5_time_hr &lt;dbl&gt; | avg_interval_speed_mph &lt;dbl&gt; | avg_hour_speed_mph &lt;dbl&gt; | ridership &lt;dbl&gt; | weekends_weekday &lt;int&gt; | TAVG &lt;dbl&gt; | energy_kwh &lt;dbl&gt; |\n",
       "|---|---|---|---|---|---|---|---|---|---|---|---|---|---|---|---|---|---|---|---|---|---|\n",
       "| 6 |  6 | 2019 | 4 | 1 | 10 | 1157.9279 | 117.5028 | 63.17194 | 21.10694 | 15.07417 | ... | 33.21694 | 52.21750 | 15.46083 | 5.102500 | 19.38688 | 9.854472 | 19134.9 | 2 | 42 | 53.894 |\n",
       "| 7 |  7 | 2019 | 4 | 1 | 11 | 1015.1473 | 104.4983 | 55.72083 | 19.12222 | 14.50750 | ... | 28.31611 | 48.17361 | 13.63389 | 4.438056 | 18.03608 | 9.714483 | 17253.1 | 2 | 42 | 49.551 |\n",
       "| 8 |  8 | 2019 | 4 | 1 | 12 |  987.7224 | 106.6147 | 58.56194 | 19.76028 | 12.88806 | ... | 28.26639 | 50.29861 | 13.49528 | 4.503333 | 18.57697 | 9.264409 | 17870.3 | 2 | 42 | 48.963 |\n",
       "| 9 |  9 | 2019 | 4 | 1 | 13 |  947.9956 | 106.5056 | 61.61694 | 16.85667 | 12.75944 | ... | 27.08194 | 52.34806 | 13.50861 | 4.230000 | 18.60897 | 8.900903 | 18464.4 | 2 | 42 | 49.200 |\n",
       "| 10 | 10 | 2019 | 4 | 1 | 14 | 1069.2355 | 141.7883 | 91.71944 | 19.22333 | 13.67806 | ... | 31.45056 | 77.62778 | 14.68083 | 4.839444 | 19.24698 | 7.541068 | 24528.1 | 2 | 42 | 50.928 |\n",
       "| 11 | 11 | 2019 | 4 | 1 | 15 | 1246.3414 | 141.4372 | 84.90639 | 20.30056 | 14.82972 | ... | 37.28361 | 69.25000 | 17.03083 | 5.454167 | 19.30834 | 8.811976 | 31965.0 | 2 | 42 | 54.272 |\n",
       "\n"
      ],
      "text/plain": [
       "   X  year month day hour distance_mile time_hr  speed_bin_1_time_hr\n",
       "6   6 2019 4     1   10   1157.9279     117.5028 63.17194           \n",
       "7   7 2019 4     1   11   1015.1473     104.4983 55.72083           \n",
       "8   8 2019 4     1   12    987.7224     106.6147 58.56194           \n",
       "9   9 2019 4     1   13    947.9956     106.5056 61.61694           \n",
       "10 10 2019 4     1   14   1069.2355     141.7883 91.71944           \n",
       "11 11 2019 4     1   15   1246.3414     141.4372 84.90639           \n",
       "   speed_bin_2_time_hr speed_bin_3_time_hr ... accel_bin_2_time_hr\n",
       "6  21.10694            15.07417            ... 33.21694           \n",
       "7  19.12222            14.50750            ... 28.31611           \n",
       "8  19.76028            12.88806            ... 28.26639           \n",
       "9  16.85667            12.75944            ... 27.08194           \n",
       "10 19.22333            13.67806            ... 31.45056           \n",
       "11 20.30056            14.82972            ... 37.28361           \n",
       "   accel_bin_3_time_hr accel_bin_4_time_hr accel_bin_5_time_hr\n",
       "6  52.21750            15.46083            5.102500           \n",
       "7  48.17361            13.63389            4.438056           \n",
       "8  50.29861            13.49528            4.503333           \n",
       "9  52.34806            13.50861            4.230000           \n",
       "10 77.62778            14.68083            4.839444           \n",
       "11 69.25000            17.03083            5.454167           \n",
       "   avg_interval_speed_mph avg_hour_speed_mph ridership weekends_weekday TAVG\n",
       "6  19.38688               9.854472           19134.9   2                42  \n",
       "7  18.03608               9.714483           17253.1   2                42  \n",
       "8  18.57697               9.264409           17870.3   2                42  \n",
       "9  18.60897               8.900903           18464.4   2                42  \n",
       "10 19.24698               7.541068           24528.1   2                42  \n",
       "11 19.30834               8.811976           31965.0   2                42  \n",
       "   energy_kwh\n",
       "6  53.894    \n",
       "7  49.551    \n",
       "8  48.963    \n",
       "9  49.200    \n",
       "10 50.928    \n",
       "11 54.272    "
      ]
     },
     "metadata": {},
     "output_type": "display_data"
    }
   ],
   "source": [
    "head(df)"
   ]
  },
  {
   "cell_type": "code",
   "execution_count": 9,
   "metadata": {},
   "outputs": [],
   "source": [
    "#Split the hour data\n",
    "set.seed(1234)\n",
    "rate = 0.8\n",
    "sub = sample(1:nrow(df),round(nrow(df)*rate))#the split ratio is 0.8\n",
    "dfh_train = df[sub,]\n",
    "dfh_test = df[-sub,]"
   ]
  },
  {
   "cell_type": "code",
   "execution_count": 13,
   "metadata": {},
   "outputs": [
    {
     "name": "stderr",
     "output_type": "stream",
     "text": [
      "Warning message:\n",
      "\"In lm.fit(x, y, offset = offset, singular.ok = singular.ok, ...) :\n",
      " extra argument 'select' will be disregarded\"\n"
     ]
    },
    {
     "data": {
      "text/plain": [
       "\n",
       "Call:\n",
       "lm(formula = energy_kwh ~ ridership + avg_interval_speed_mph + \n",
       "    avg_hour_speed_mph + speed_bin_1_time_hr + speed_bin_2_time_hr + \n",
       "    speed_bin_3_time_hr + speed_bin_4_time_hr + speed_bin_5_time_hr + \n",
       "    accel_bin_1_time_hr + accel_bin_2_time_hr + accel_bin_3_time_hr + \n",
       "    accel_bin_4_time_hr + accel_bin_5_time_hr + TAVG + time_hr, \n",
       "    data = dfh_train, select = TRUE)\n",
       "\n",
       "Residuals:\n",
       "   Min     1Q Median     3Q    Max \n",
       "-4.787 -1.339 -0.122  1.271 11.004 \n",
       "\n",
       "Coefficients:\n",
       "                         Estimate Std. Error t value Pr(>|t|)    \n",
       "(Intercept)             3.591e+01  1.021e+00  35.171  < 2e-16 ***\n",
       "ridership               2.107e-05  1.511e-05   1.395 0.163714    \n",
       "avg_interval_speed_mph -9.299e-02  3.748e-02  -2.481 0.013398 *  \n",
       "avg_hour_speed_mph      1.371e-01  6.471e-02   2.118 0.034633 *  \n",
       "speed_bin_1_time_hr    -6.648e+00  8.184e+00  -0.812 0.417002    \n",
       "speed_bin_2_time_hr    -6.249e+00  8.187e+00  -0.763 0.445627    \n",
       "speed_bin_3_time_hr    -6.227e+00  8.188e+00  -0.761 0.447266    \n",
       "speed_bin_4_time_hr    -7.374e+00  8.203e+00  -0.899 0.369104    \n",
       "speed_bin_5_time_hr    -5.232e+00  8.187e+00  -0.639 0.523013    \n",
       "accel_bin_1_time_hr    -4.732e-01  2.480e-01  -1.908 0.056970 .  \n",
       "accel_bin_2_time_hr     2.390e-01  8.895e-02   2.687 0.007445 ** \n",
       "accel_bin_3_time_hr     1.280e-03  1.177e-02   0.109 0.913405    \n",
       "accel_bin_4_time_hr     2.821e-01  2.050e-01   1.376 0.169474    \n",
       "accel_bin_5_time_hr    -2.104e+00  6.088e-01  -3.456 0.000592 ***\n",
       "TAVG                   -6.030e-02  1.310e-02  -4.602 5.24e-06 ***\n",
       "time_hr                 6.656e+00  8.184e+00   0.813 0.416399    \n",
       "---\n",
       "Signif. codes:  0 '***' 0.001 '**' 0.01 '*' 0.05 '.' 0.1 ' ' 1\n",
       "\n",
       "Residual standard error: 1.799 on 527 degrees of freedom\n",
       "  (31 observations deleted due to missingness)\n",
       "Multiple R-squared:  0.9513,\tAdjusted R-squared:  0.9499 \n",
       "F-statistic: 686.2 on 15 and 527 DF,  p-value: < 2.2e-16\n"
      ]
     },
     "metadata": {},
     "output_type": "display_data"
    }
   ],
   "source": [
    "modelFit_hour_linear= lm(energy_kwh~ridership+avg_interval_speed_mph+avg_hour_speed_mph+\n",
    "                         speed_bin_1_time_hr + speed_bin_2_time_hr + speed_bin_3_time_hr + speed_bin_4_time_hr + speed_bin_5_time_hr+\n",
    "                         accel_bin_1_time_hr + accel_bin_2_time_hr + accel_bin_3_time_hr + accel_bin_4_time_hr + accel_bin_5_time_hr+\n",
    "                         TAVG+time_hr,data=dfh_train,select=TRUE)\n",
    "summary(modelFit_hour_linear)"
   ]
  },
  {
   "cell_type": "code",
   "execution_count": null,
   "metadata": {},
   "outputs": [],
   "source": [
    "pred1 <- predict.lm(modelFit_hour_linear, dfh_test)"
   ]
  },
  {
   "cell_type": "code",
   "execution_count": null,
   "metadata": {},
   "outputs": [],
   "source": [
    "# Put prediction and obervation into one table\n",
    "test_compare = data.frame(\"Observed Response\" = dfh_test$energy_kwh, \" Model1\" = pred1,\"Hour\"=dfh_test$hour)"
   ]
  },
  {
   "cell_type": "markdown",
   "metadata": {},
   "source": [
    "# Statisitics analysis"
   ]
  },
  {
   "cell_type": "code",
   "execution_count": null,
   "metadata": {},
   "outputs": [],
   "source": [
    "# Calculate the MSE of LM\n",
    "mean((test_compare$Observed.Response - test_compare$X.Model1)^2,na.rm = TRUE)\n",
    "#Calculate MAPE of LM\n",
    "mean(abs((test_compare$Observed.Response - test_compare$X.Model1)/test_compare$Observed.Response),na.rm =TRUE) * 100"
   ]
  },
  {
   "cell_type": "code",
   "execution_count": null,
   "metadata": {},
   "outputs": [],
   "source": [
    "ggplot(test_compare) + \n",
    " geom_point(aes(x=Observed.Response, y=X.Model1,color=factor(Hour))) +\n",
    " labs(title =\" Linear Model performance \", y = \"Energy consumption (kWh)\", x = \"Observation\")"
   ]
  }
 ],
 "metadata": {
  "kernelspec": {
   "display_name": "R",
   "language": "R",
   "name": "ir"
  },
  "language_info": {
   "codemirror_mode": "r",
   "file_extension": ".r",
   "mimetype": "text/x-r-source",
   "name": "R",
   "pygments_lexer": "r",
   "version": "3.6.2"
  }
 },
 "nbformat": 4,
 "nbformat_minor": 4
}
