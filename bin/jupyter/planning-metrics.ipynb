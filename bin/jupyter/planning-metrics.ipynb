{
 "cells": [
  {
   "cell_type": "code",
   "execution_count": 4,
   "metadata": {
    "collapsed": true,
    "jupyter": {
     "outputs_hidden": true
    }
   },
   "outputs": [
    {
     "name": "stderr",
     "output_type": "stream",
     "text": [
      "\n",
      "Attaching package: 'lubridate'\n",
      "\n",
      "\n",
      "The following object is masked from 'package:base':\n",
      "\n",
      "    date\n",
      "\n",
      "\n",
      "Warning message:\n",
      "\"package 'reshape2' was built under R version 3.6.3\"\n",
      "Warning message:\n",
      "\"package 'dplyr' was built under R version 3.6.3\"\n",
      "\n",
      "Attaching package: 'dplyr'\n",
      "\n",
      "\n",
      "The following objects are masked from 'package:lubridate':\n",
      "\n",
      "    intersect, setdiff, union\n",
      "\n",
      "\n",
      "The following objects are masked from 'package:stats':\n",
      "\n",
      "    filter, lag\n",
      "\n",
      "\n",
      "The following objects are masked from 'package:base':\n",
      "\n",
      "    intersect, setdiff, setequal, union\n",
      "\n",
      "\n",
      "Warning message:\n",
      "\"package 'scales' was built under R version 3.6.3\"\n",
      "Warning message:\n",
      "\"package 'MASS' was built under R version 3.6.3\"\n",
      "\n",
      "Attaching package: 'MASS'\n",
      "\n",
      "\n",
      "The following object is masked from 'package:dplyr':\n",
      "\n",
      "    select\n",
      "\n",
      "\n",
      "Warning message:\n",
      "\"package 'ggplot2' was built under R version 3.6.3\"\n",
      "Warning message:\n",
      "\"package 'data.table' was built under R version 3.6.3\"\n",
      "\n",
      "Attaching package: 'data.table'\n",
      "\n",
      "\n",
      "The following objects are masked from 'package:dplyr':\n",
      "\n",
      "    between, first, last\n",
      "\n",
      "\n",
      "The following objects are masked from 'package:reshape2':\n",
      "\n",
      "    dcast, melt\n",
      "\n",
      "\n",
      "The following objects are masked from 'package:lubridate':\n",
      "\n",
      "    hour, isoweek, mday, minute, month, quarter, second, wday, week,\n",
      "    yday, year\n",
      "\n",
      "\n",
      "Warning message:\n",
      "\"package 'ggpubr' was built under R version 3.6.3\"\n"
     ]
    }
   ],
   "source": [
    "library(lubridate)\n",
    "library(reshape2)\n",
    "library(dplyr)\n",
    "library(scales)\n",
    "library(stringr)\n",
    "library(MASS)\n",
    "library(ggplot2)\n",
    "library(data.table)\n",
    "library(ggpubr)"
   ]
  },
  {
   "cell_type": "code",
   "execution_count": 58,
   "metadata": {},
   "outputs": [],
   "source": [
    "cost = fread(\"../../data/tidy/energy-cost.csv\")"
   ]
  },
  {
   "cell_type": "code",
   "execution_count": 22,
   "metadata": {
    "collapsed": true,
    "jupyter": {
     "outputs_hidden": true
    }
   },
   "outputs": [
    {
     "ename": "ERROR",
     "evalue": "Error in ggplot(cost, aes(x = factor(V1, levels = c(\"Jan\", \"Feb\", \"Mar\", : object 'cost' not found\n",
     "output_type": "error",
     "traceback": [
      "Error in ggplot(cost, aes(x = factor(V1, levels = c(\"Jan\", \"Feb\", \"Mar\", : object 'cost' not found\nTraceback:\n",
      "1. ggplot(cost, aes(x = factor(V1, levels = c(\"Jan\", \"Feb\", \"Mar\", \n .     \"Apr\", \"May\", \"Jun\", \"Jul\", \"Aug\", \"Sep\", \"Oct\", \"Nov\", \"Dec\")), \n .     y = cost/1e+06, group = 1))"
     ]
    }
   ],
   "source": [
    "png(\"../../figures/figures for report/energy cost-2019.png\",height= 4000,width=6000, res=360)\n",
    "ggplot(cost,aes(x = factor(V1,levels = c(\"Jan\", \"Feb\", \"Mar\", \"Apr\", \"May\", \"Jun\",\"Jul\",\"Aug\",\"Sep\",\"Oct\",\"Nov\",\"Dec\")),y = cost/1000000,group =1)) + \n",
    "    geom_line(color = \"blue\", size = 3) + \n",
    "    labs(x = \"Month\", y = \"Monthly energy cost (million dollars)\") +\n",
    "   theme_light() +\n",
    "    theme(\n",
    "          axis.title.x = element_text(size = 30),\n",
    "          axis.title.y = element_text(size = 30),\n",
    "          axis.text.x = element_text(size = 25),\n",
    "          axis.text.y = element_text(size = 25))\n",
    "dev.off()"
   ]
  },
  {
   "cell_type": "code",
   "execution_count": 5,
   "metadata": {},
   "outputs": [],
   "source": [
    "YEARLIST =c(\"19\",\"20\")\n",
    "MONTHLIST = c(\"01\", \"02\", \"03\", \"04\", \"05\", \"06\", \"07\", \"08\", \"09\", \"10\",\"11\",\"12\")\n",
    "COMPUTATION_FILEPATH = \"F:/data/tidy/trajectory-aggregation/\"\n",
    "# Data input\n",
    "aggregation_data_input = function(YEARLIST,MONTHLIST){\n",
    "    df = data.table()\n",
    "    for (y in YEARLIST) {\n",
    "         for (m in MONTHLIST) {\n",
    "             assign(\"d\",fread(paste0(COMPUTATION_FILEPATH, paste(paste(\"trajectory\", \"aggregation\" , y , m , sep = \"-\", collapse = \"\"), \".csv\", sep=\"\"))))\n",
    "             df = rbind(df,d)\n",
    "             }\n",
    "        }\n",
    "    return(df)\n",
    "}\n",
    "agg_data = aggregation_data_input(YEARLIST,MONTHLIST)"
   ]
  },
  {
   "cell_type": "code",
   "execution_count": 6,
   "metadata": {},
   "outputs": [],
   "source": [
    "time_series = agg_data"
   ]
  },
  {
   "cell_type": "code",
   "execution_count": 7,
   "metadata": {},
   "outputs": [
    {
     "name": "stderr",
     "output_type": "stream",
     "text": [
      "Warning message in melt.data.table(time_series, id.vars = c(\"Date\"), measure.vars = c(\"(a) Hourly energy consumption (MWh)\", :\n",
      "\"'measure.vars' [(a) Hourly energy consumption (MWh), (b) Hourly system ridership, (c) Hourly operating distance (vehicle-miles), (d) Hourly operating time (vehicle-hours), ...] are not all of the same type. By order of hierarchy, the molten data value column will be of type 'double'. All measure variables not of type 'double' will be coerced too. Check DETAILS in ?melt.data.table for more on coercion.\"\n"
     ]
    }
   ],
   "source": [
    "time_series[time_hr > 500,\"time_hr\"] = NA\n",
    "time_series$Energy_miles = time_series$energy_MWh/time_series$distance_mile\n",
    "time_series$Energy_hours = time_series$energy_MWh/time_series$time_hr\n",
    "colnames(time_series)[10] = \"(c) Hourly operating distance (vehicle-miles)\"\n",
    "colnames(time_series)[11] = \"(d) Hourly operating time (vehicle-hours)\"\n",
    "colnames(time_series)[65] = \"(a) Hourly energy consumption (MWh)\"\n",
    "colnames(time_series)[62] = \"(b) Hourly system ridership\"\n",
    "colnames(time_series)[64] = \"(f) Average daily temperature (F)\"\n",
    "colnames(time_series)[6] = \"red\"\n",
    "colnames(time_series)[7] = \"blue\"\n",
    "colnames(time_series)[8] = \"orange\"\n",
    "colnames(time_series)[9] = \"green\"\n",
    "time_series$num_trains = time_series$red + time_series$orange + time_series$blue + time_series$green\n",
    "# time_series[num_trains > 250,\"num_trains\"] = NA\n",
    "colnames(time_series)[68] = \"(e) Hourly operating trains\"\n",
    "time_series$Date = with(time_series, ISOdatetime(year,  month, day, hour, 0, 0))\n",
    "time_series_melt = melt(time_series,id.vars = c(\"Date\"), measure.vars = c(\"(a) Hourly energy consumption (MWh)\",\n",
    "                                                                         \"(b) Hourly system ridership\",\n",
    "                                                                         \"(c) Hourly operating distance (vehicle-miles)\",\n",
    "                                                                         \"(d) Hourly operating time (vehicle-hours)\",\n",
    "                                                                         \"(e) Hourly operating trains\",\n",
    "                                                                         \"(f) Average daily temperature (F)\"))"
   ]
  },
  {
   "cell_type": "code",
   "execution_count": 67,
   "metadata": {
    "jupyter": {
     "source_hidden": true
    }
   },
   "outputs": [
    {
     "data": {
      "text/html": [
       "<strong>png:</strong> 2"
      ],
      "text/latex": [
       "\\textbf{png:} 2"
      ],
      "text/markdown": [
       "**png:** 2"
      ],
      "text/plain": [
       "png \n",
       "  2 "
      ]
     },
     "metadata": {},
     "output_type": "display_data"
    }
   ],
   "source": [
    "png(\"../../figures/figures for report/ridership.png\",height= 3000,width=9000, res=360)\n",
    "ggplot(time_series,aes(x = Date,y = ridership)) + \n",
    "    geom_point(color = \"#619CFF\",size = 3) + \n",
    "    labs(x = \"Date\", y = \"Ridership\") +\n",
    "   theme_light() +\n",
    "    theme(\n",
    "          axis.title.x = element_text(size = 35),\n",
    "          axis.title.y = element_text(size = 35),\n",
    "          axis.text.x = element_text(size = 30),\n",
    "          axis.text.y = element_text(size = 30))\n",
    "dev.off()"
   ]
  },
  {
   "cell_type": "code",
   "execution_count": 29,
   "metadata": {
    "collapsed": true,
    "jupyter": {
     "outputs_hidden": true,
     "source_hidden": true
    }
   },
   "outputs": [
    {
     "name": "stderr",
     "output_type": "stream",
     "text": [
      "ERROR while rich displaying an object: Error in FUN(X[[i]], ...): object 'Energy_MWh' not found\n",
      "\n",
      "Traceback:\n",
      "1. FUN(X[[i]], ...)\n",
      "2. tryCatch(withCallingHandlers({\n",
      " .     if (!mime %in% names(repr::mime2repr)) \n",
      " .         stop(\"No repr_* for mimetype \", mime, \" in repr::mime2repr\")\n",
      " .     rpr <- repr::mime2repr[[mime]](obj)\n",
      " .     if (is.null(rpr)) \n",
      " .         return(NULL)\n",
      " .     prepare_content(is.raw(rpr), rpr)\n",
      " . }, error = error_handler), error = outer_handler)\n",
      "3. tryCatchList(expr, classes, parentenv, handlers)\n",
      "4. tryCatchOne(expr, names, parentenv, handlers[[1L]])\n",
      "5. doTryCatch(return(expr), name, parentenv, handler)\n",
      "6. withCallingHandlers({\n",
      " .     if (!mime %in% names(repr::mime2repr)) \n",
      " .         stop(\"No repr_* for mimetype \", mime, \" in repr::mime2repr\")\n",
      " .     rpr <- repr::mime2repr[[mime]](obj)\n",
      " .     if (is.null(rpr)) \n",
      " .         return(NULL)\n",
      " .     prepare_content(is.raw(rpr), rpr)\n",
      " . }, error = error_handler)\n",
      "7. repr::mime2repr[[mime]](obj)\n",
      "8. repr_text.default(obj)\n",
      "9. paste(capture.output(print(obj)), collapse = \"\\n\")\n",
      "10. capture.output(print(obj))\n",
      "11. evalVis(expr)\n",
      "12. withVisible(eval(expr, pf))\n",
      "13. eval(expr, pf)\n",
      "14. eval(expr, pf)\n",
      "15. print(obj)\n",
      "16. print.ggplot(obj)\n",
      "17. ggplot_build(x)\n",
      "18. ggplot_build.ggplot(x)\n",
      "19. by_layer(function(l, d) l$compute_aesthetics(d, plot))\n",
      "20. f(l = layers[[i]], d = data[[i]])\n",
      "21. l$compute_aesthetics(d, plot)\n",
      "22. f(..., self = self)\n",
      "23. lapply(aesthetics, eval_tidy, data = data, env = env)\n",
      "24. FUN(X[[i]], ...)\n"
     ]
    },
    {
     "data": {
      "text/html": [
       "<strong>png:</strong> 2"
      ],
      "text/latex": [
       "\\textbf{png:} 2"
      ],
      "text/markdown": [
       "**png:** 2"
      ],
      "text/plain": [
       "png \n",
       "  2 "
      ]
     },
     "metadata": {},
     "output_type": "display_data"
    }
   ],
   "source": [
    "png(\"../../figures/figures for report/energy_consumption.png\",height= 3000,width=8000, res=360)\n",
    "ggplot(time_series,aes(x = Date,y = Energy_MWh)) + \n",
    "   ylim(20,70)+\n",
    "    geom_point(color = \"navyblue\",size = 3) + \n",
    "    labs(x = \"Date\", y = \"Energy consumption (MWh)\") +\n",
    "   theme_light() +\n",
    "    theme(strip.text = element_text(size = rel(9)),\n",
    "          axis.title.x = element_text(size = 30),\n",
    "          axis.title.y = element_text(size = 30),\n",
    "          axis.text.x = element_text(size = 25),\n",
    "          axis.text.y = element_text(size = 25))\n",
    "dev.off()"
   ]
  },
  {
   "cell_type": "code",
   "execution_count": 15,
   "metadata": {},
   "outputs": [
    {
     "name": "stderr",
     "output_type": "stream",
     "text": [
      "Warning message:\n",
      "\"Removed 1676 rows containing missing values (geom_point).\"\n"
     ]
    },
    {
     "data": {
      "text/html": [
       "<strong>png:</strong> 2"
      ],
      "text/latex": [
       "\\textbf{png:} 2"
      ],
      "text/markdown": [
       "**png:** 2"
      ],
      "text/plain": [
       "png \n",
       "  2 "
      ]
     },
     "metadata": {},
     "output_type": "display_data"
    }
   ],
   "source": [
    "png(\"../../figures/Time_series_paper.png\",height= 8000,width=7000, res=360)\n",
    "ggplot(time_series_melt,aes(x = Date,y = value)) + \n",
    "    geom_point(colour=\"darkorange\",size = 0.5) + \n",
    "    facet_wrap(~variable,ncol = 1 , scales = \"free_y\") +\n",
    "    labs(x = \"Date\") +\n",
    "    theme_bw() +\n",
    "    theme(strip.text = element_text(size = rel(3)),\n",
    "          axis.title.x = element_text(size = 30),\n",
    "          axis.title.y = element_blank(),\n",
    "          axis.text.x = element_text(size = 25),\n",
    "          axis.text.y = element_text(size = 25),\n",
    "          panel.spacing = unit(2, \"lines\"),\n",
    "         panel.grid.major = element_line(colour = \"grey70\", size = 0.3)) +\n",
    "          #plot.background = element_rect(colour = \"grey50\", size = 2),) +\n",
    "       scale_x_datetime(date_breaks =\"2 month\",date_labels = (\"%m/%y\"))      \n",
    "dev.off()"
   ]
  },
  {
   "cell_type": "code",
   "execution_count": 134,
   "metadata": {
    "collapsed": true,
    "jupyter": {
     "outputs_hidden": true
    }
   },
   "outputs": [
    {
     "data": {
      "text/html": [
       "1044782"
      ],
      "text/latex": [
       "1044782"
      ],
      "text/markdown": [
       "1044782"
      ],
      "text/plain": [
       "[1] 1044782"
      ]
     },
     "metadata": {},
     "output_type": "display_data"
    }
   ],
   "source": [
    "sum(agg_data$green,na.rm =TRUE)"
   ]
  },
  {
   "cell_type": "code",
   "execution_count": 159,
   "metadata": {},
   "outputs": [],
   "source": [
    "d1 = df_melt_2[distance == \"distance_mile\" & line == \"red\",]"
   ]
  },
  {
   "cell_type": "code",
   "execution_count": 160,
   "metadata": {},
   "outputs": [
    {
     "data": {
      "text/html": [
       "20327505.3265284"
      ],
      "text/latex": [
       "20327505.3265284"
      ],
      "text/markdown": [
       "20327505.3265284"
      ],
      "text/plain": [
       "[1] 20327505"
      ]
     },
     "metadata": {},
     "output_type": "display_data"
    }
   ],
   "source": [
    "sum(d1$value,na.rm =TRUE)"
   ]
  },
  {
   "cell_type": "code",
   "execution_count": 150,
   "metadata": {
    "collapsed": true,
    "jupyter": {
     "outputs_hidden": true
    }
   },
   "outputs": [
    {
     "data": {
      "text/html": [
       "<table class=\"dataframe\">\n",
       "<caption>A data.frame: 8 × 3</caption>\n",
       "<thead>\n",
       "\t<tr><th scope=col>Group.1</th><th scope=col>Group.2</th><th scope=col>x</th></tr>\n",
       "\t<tr><th scope=col>&lt;fct&gt;</th><th scope=col>&lt;fct&gt;</th><th scope=col>&lt;dbl&gt;</th></tr>\n",
       "</thead>\n",
       "<tbody>\n",
       "\t<tr><td>red   </td><td>distance_mile</td><td>20327505</td></tr>\n",
       "\t<tr><td>blue  </td><td>distance_mile</td><td>20327505</td></tr>\n",
       "\t<tr><td>orange</td><td>distance_mile</td><td>20327505</td></tr>\n",
       "\t<tr><td>green </td><td>distance_mile</td><td>20327505</td></tr>\n",
       "\t<tr><td>red   </td><td>time_hr      </td><td> 2869494</td></tr>\n",
       "\t<tr><td>blue  </td><td>time_hr      </td><td> 2869494</td></tr>\n",
       "\t<tr><td>orange</td><td>time_hr      </td><td> 2869494</td></tr>\n",
       "\t<tr><td>green </td><td>time_hr      </td><td> 2869494</td></tr>\n",
       "</tbody>\n",
       "</table>\n"
      ],
      "text/latex": [
       "A data.frame: 8 × 3\n",
       "\\begin{tabular}{lll}\n",
       " Group.1 & Group.2 & x\\\\\n",
       " <fct> & <fct> & <dbl>\\\\\n",
       "\\hline\n",
       "\t red    & distance\\_mile & 20327505\\\\\n",
       "\t blue   & distance\\_mile & 20327505\\\\\n",
       "\t orange & distance\\_mile & 20327505\\\\\n",
       "\t green  & distance\\_mile & 20327505\\\\\n",
       "\t red    & time\\_hr       &  2869494\\\\\n",
       "\t blue   & time\\_hr       &  2869494\\\\\n",
       "\t orange & time\\_hr       &  2869494\\\\\n",
       "\t green  & time\\_hr       &  2869494\\\\\n",
       "\\end{tabular}\n"
      ],
      "text/markdown": [
       "\n",
       "A data.frame: 8 × 3\n",
       "\n",
       "| Group.1 &lt;fct&gt; | Group.2 &lt;fct&gt; | x &lt;dbl&gt; |\n",
       "|---|---|---|\n",
       "| red    | distance_mile | 20327505 |\n",
       "| blue   | distance_mile | 20327505 |\n",
       "| orange | distance_mile | 20327505 |\n",
       "| green  | distance_mile | 20327505 |\n",
       "| red    | time_hr       |  2869494 |\n",
       "| blue   | time_hr       |  2869494 |\n",
       "| orange | time_hr       |  2869494 |\n",
       "| green  | time_hr       |  2869494 |\n",
       "\n"
      ],
      "text/plain": [
       "  Group.1 Group.2       x       \n",
       "1 red     distance_mile 20327505\n",
       "2 blue    distance_mile 20327505\n",
       "3 orange  distance_mile 20327505\n",
       "4 green   distance_mile 20327505\n",
       "5 red     time_hr        2869494\n",
       "6 blue    time_hr        2869494\n",
       "7 orange  time_hr        2869494\n",
       "8 green   time_hr        2869494"
      ]
     },
     "metadata": {},
     "output_type": "display_data"
    }
   ],
   "source": [
    "aggregate(df_melt_2$value, by = list(df_melt_2$line,df_melt_2$distance),sum)"
   ]
  },
  {
   "cell_type": "code",
   "execution_count": 142,
   "metadata": {},
   "outputs": [
    {
     "name": "stdout",
     "output_type": "stream",
     "text": [
      "Duplicate column names found in molten data.table. Setting unique names using 'make.names'\n"
     ]
    }
   ],
   "source": [
    "df_melt_2 = melt(df_melt,id.vars = c(\"variable\",\"value\"),measure.vars = c(\"red\",\"blue\",\"orange\",\"green\"))"
   ]
  },
  {
   "cell_type": "code",
   "execution_count": 162,
   "metadata": {},
   "outputs": [],
   "source": [
    "df_melt = melt(agg_data,id.vars = c(\"red\",\"blue\",\"orange\",\"green\"),measure.vars = c(\"distance_mile\"))"
   ]
  },
  {
   "cell_type": "code",
   "execution_count": 161,
   "metadata": {
    "collapsed": true,
    "jupyter": {
     "outputs_hidden": true
    }
   },
   "outputs": [
    {
     "data": {
      "text/html": [
       "<table class=\"dataframe\">\n",
       "<caption>A data.table: 14387 × 5</caption>\n",
       "<thead>\n",
       "\t<tr><th scope=col>red</th><th scope=col>green</th><th scope=col>orange</th><th scope=col>blue</th><th scope=col>V1</th></tr>\n",
       "\t<tr><th scope=col>&lt;int&gt;</th><th scope=col>&lt;int&gt;</th><th scope=col>&lt;int&gt;</th><th scope=col>&lt;int&gt;</th><th scope=col>&lt;dbl&gt;</th></tr>\n",
       "</thead>\n",
       "<tbody>\n",
       "\t<tr><td>29</td><td>52</td><td>16</td><td>10</td><td> 909.99484</td></tr>\n",
       "\t<tr><td>29</td><td>60</td><td>17</td><td>11</td><td> 857.54509</td></tr>\n",
       "\t<tr><td>26</td><td>60</td><td>15</td><td>13</td><td> 838.85886</td></tr>\n",
       "\t<tr><td>28</td><td>63</td><td>16</td><td>12</td><td>3376.27022</td></tr>\n",
       "\t<tr><td>28</td><td>65</td><td>16</td><td>12</td><td>6782.92590</td></tr>\n",
       "\t<tr><td>27</td><td>65</td><td>17</td><td>12</td><td>2432.63552</td></tr>\n",
       "\t<tr><td>28</td><td>66</td><td>21</td><td>12</td><td> 980.38101</td></tr>\n",
       "\t<tr><td>26</td><td>64</td><td>17</td><td>12</td><td> 907.74143</td></tr>\n",
       "\t<tr><td>30</td><td>66</td><td>16</td><td>12</td><td>3566.35514</td></tr>\n",
       "\t<tr><td>30</td><td>57</td><td>16</td><td>12</td><td>3526.88767</td></tr>\n",
       "\t<tr><td>29</td><td>55</td><td>16</td><td>12</td><td>5431.43704</td></tr>\n",
       "\t<tr><td>28</td><td>50</td><td>16</td><td>13</td><td> 949.63013</td></tr>\n",
       "\t<tr><td>26</td><td>46</td><td>16</td><td>13</td><td> 984.97964</td></tr>\n",
       "\t<tr><td>25</td><td>43</td><td>16</td><td> 8</td><td>5122.43055</td></tr>\n",
       "\t<tr><td> 3</td><td>15</td><td> 3</td><td> 3</td><td>  87.57800</td></tr>\n",
       "\t<tr><td>NA</td><td> 3</td><td>NA</td><td>NA</td><td>  32.11128</td></tr>\n",
       "\t<tr><td>NA</td><td>15</td><td> 3</td><td> 6</td><td>  82.96307</td></tr>\n",
       "\t<tr><td>16</td><td>38</td><td>14</td><td> 9</td><td> 588.05860</td></tr>\n",
       "\t<tr><td>29</td><td>36</td><td>16</td><td> 8</td><td> 902.99040</td></tr>\n",
       "\t<tr><td>28</td><td>38</td><td>15</td><td> 9</td><td> 896.14773</td></tr>\n",
       "\t<tr><td>28</td><td>41</td><td>16</td><td>10</td><td> 934.59913</td></tr>\n",
       "\t<tr><td>24</td><td>57</td><td>14</td><td>15</td><td> 557.61108</td></tr>\n",
       "\t<tr><td>10</td><td>26</td><td> 4</td><td> 9</td><td> 162.66228</td></tr>\n",
       "\t<tr><td>47</td><td>92</td><td>32</td><td>15</td><td>1671.81248</td></tr>\n",
       "\t<tr><td>36</td><td>84</td><td>26</td><td>14</td><td>1504.97737</td></tr>\n",
       "\t<tr><td>29</td><td>82</td><td>23</td><td>15</td><td>1378.99990</td></tr>\n",
       "\t<tr><td>29</td><td>83</td><td>24</td><td>16</td><td>1477.51817</td></tr>\n",
       "\t<tr><td>36</td><td>83</td><td>26</td><td>27</td><td>1433.96631</td></tr>\n",
       "\t<tr><td>48</td><td>87</td><td>31</td><td>24</td><td>3674.72947</td></tr>\n",
       "\t<tr><td>53</td><td>91</td><td>32</td><td>23</td><td>1721.74537</td></tr>\n",
       "\t<tr><td>...</td><td>...</td><td>...</td><td>...</td><td>...</td></tr>\n",
       "\t<tr><td>35</td><td>56</td><td>16</td><td>14</td><td> 990.23616</td></tr>\n",
       "\t<tr><td>38</td><td>52</td><td>16</td><td>12</td><td>1024.72987</td></tr>\n",
       "\t<tr><td>32</td><td>52</td><td>16</td><td>12</td><td> 965.37783</td></tr>\n",
       "\t<tr><td> 1</td><td> 9</td><td> 4</td><td> 5</td><td>  21.94891</td></tr>\n",
       "\t<tr><td>19</td><td>45</td><td>19</td><td>32</td><td> 602.50411</td></tr>\n",
       "\t<tr><td>41</td><td>68</td><td>27</td><td>23</td><td>1314.40651</td></tr>\n",
       "\t<tr><td>48</td><td>82</td><td>32</td><td>25</td><td>1545.28635</td></tr>\n",
       "\t<tr><td>49</td><td>79</td><td>32</td><td>22</td><td>1631.05428</td></tr>\n",
       "\t<tr><td>48</td><td>81</td><td>33</td><td>26</td><td>1641.47042</td></tr>\n",
       "\t<tr><td>25</td><td>35</td><td>16</td><td>16</td><td> 543.81157</td></tr>\n",
       "\t<tr><td> 9</td><td>10</td><td> 7</td><td> 8</td><td> 116.02043</td></tr>\n",
       "\t<tr><td>52</td><td>79</td><td>29</td><td>20</td><td>1772.36846</td></tr>\n",
       "\t<tr><td>35</td><td>75</td><td>24</td><td>11</td><td>1652.59755</td></tr>\n",
       "\t<tr><td>29</td><td>77</td><td>23</td><td>12</td><td>1581.88615</td></tr>\n",
       "\t<tr><td>35</td><td>73</td><td>31</td><td>26</td><td>1559.01064</td></tr>\n",
       "\t<tr><td>44</td><td>75</td><td>31</td><td>23</td><td>1632.11175</td></tr>\n",
       "\t<tr><td>46</td><td>76</td><td>29</td><td>23</td><td>1752.72457</td></tr>\n",
       "\t<tr><td>51</td><td>79</td><td>31</td><td>23</td><td>1894.77500</td></tr>\n",
       "\t<tr><td>49</td><td>82</td><td>33</td><td>26</td><td>1849.87673</td></tr>\n",
       "\t<tr><td>47</td><td>81</td><td>29</td><td>24</td><td>1609.89028</td></tr>\n",
       "\t<tr><td> 4</td><td> 4</td><td> 2</td><td>NA</td><td>  11.37534</td></tr>\n",
       "\t<tr><td>42</td><td>72</td><td>23</td><td>15</td><td>1390.84190</td></tr>\n",
       "\t<tr><td>37</td><td>62</td><td>17</td><td>12</td><td>1285.72493</td></tr>\n",
       "\t<tr><td>33</td><td>54</td><td>16</td><td>12</td><td>1041.29100</td></tr>\n",
       "\t<tr><td> 3</td><td> 7</td><td> 6</td><td> 3</td><td>  47.84412</td></tr>\n",
       "\t<tr><td>22</td><td>52</td><td>17</td><td>30</td><td> 611.83502</td></tr>\n",
       "\t<tr><td>42</td><td>73</td><td>29</td><td>27</td><td>1329.87830</td></tr>\n",
       "\t<tr><td>46</td><td>90</td><td>34</td><td>23</td><td>1728.21491</td></tr>\n",
       "\t<tr><td>52</td><td>85</td><td>34</td><td>23</td><td>1954.16451</td></tr>\n",
       "\t<tr><td>54</td><td>81</td><td>31</td><td>33</td><td>1896.52602</td></tr>\n",
       "</tbody>\n",
       "</table>\n"
      ],
      "text/latex": [
       "A data.table: 14387 × 5\n",
       "\\begin{tabular}{lllll}\n",
       " red & green & orange & blue & V1\\\\\n",
       " <int> & <int> & <int> & <int> & <dbl>\\\\\n",
       "\\hline\n",
       "\t 29 & 52 & 16 & 10 &  909.99484\\\\\n",
       "\t 29 & 60 & 17 & 11 &  857.54509\\\\\n",
       "\t 26 & 60 & 15 & 13 &  838.85886\\\\\n",
       "\t 28 & 63 & 16 & 12 & 3376.27022\\\\\n",
       "\t 28 & 65 & 16 & 12 & 6782.92590\\\\\n",
       "\t 27 & 65 & 17 & 12 & 2432.63552\\\\\n",
       "\t 28 & 66 & 21 & 12 &  980.38101\\\\\n",
       "\t 26 & 64 & 17 & 12 &  907.74143\\\\\n",
       "\t 30 & 66 & 16 & 12 & 3566.35514\\\\\n",
       "\t 30 & 57 & 16 & 12 & 3526.88767\\\\\n",
       "\t 29 & 55 & 16 & 12 & 5431.43704\\\\\n",
       "\t 28 & 50 & 16 & 13 &  949.63013\\\\\n",
       "\t 26 & 46 & 16 & 13 &  984.97964\\\\\n",
       "\t 25 & 43 & 16 &  8 & 5122.43055\\\\\n",
       "\t  3 & 15 &  3 &  3 &   87.57800\\\\\n",
       "\t NA &  3 & NA & NA &   32.11128\\\\\n",
       "\t NA & 15 &  3 &  6 &   82.96307\\\\\n",
       "\t 16 & 38 & 14 &  9 &  588.05860\\\\\n",
       "\t 29 & 36 & 16 &  8 &  902.99040\\\\\n",
       "\t 28 & 38 & 15 &  9 &  896.14773\\\\\n",
       "\t 28 & 41 & 16 & 10 &  934.59913\\\\\n",
       "\t 24 & 57 & 14 & 15 &  557.61108\\\\\n",
       "\t 10 & 26 &  4 &  9 &  162.66228\\\\\n",
       "\t 47 & 92 & 32 & 15 & 1671.81248\\\\\n",
       "\t 36 & 84 & 26 & 14 & 1504.97737\\\\\n",
       "\t 29 & 82 & 23 & 15 & 1378.99990\\\\\n",
       "\t 29 & 83 & 24 & 16 & 1477.51817\\\\\n",
       "\t 36 & 83 & 26 & 27 & 1433.96631\\\\\n",
       "\t 48 & 87 & 31 & 24 & 3674.72947\\\\\n",
       "\t 53 & 91 & 32 & 23 & 1721.74537\\\\\n",
       "\t ... & ... & ... & ... & ...\\\\\n",
       "\t 35 & 56 & 16 & 14 &  990.23616\\\\\n",
       "\t 38 & 52 & 16 & 12 & 1024.72987\\\\\n",
       "\t 32 & 52 & 16 & 12 &  965.37783\\\\\n",
       "\t  1 &  9 &  4 &  5 &   21.94891\\\\\n",
       "\t 19 & 45 & 19 & 32 &  602.50411\\\\\n",
       "\t 41 & 68 & 27 & 23 & 1314.40651\\\\\n",
       "\t 48 & 82 & 32 & 25 & 1545.28635\\\\\n",
       "\t 49 & 79 & 32 & 22 & 1631.05428\\\\\n",
       "\t 48 & 81 & 33 & 26 & 1641.47042\\\\\n",
       "\t 25 & 35 & 16 & 16 &  543.81157\\\\\n",
       "\t  9 & 10 &  7 &  8 &  116.02043\\\\\n",
       "\t 52 & 79 & 29 & 20 & 1772.36846\\\\\n",
       "\t 35 & 75 & 24 & 11 & 1652.59755\\\\\n",
       "\t 29 & 77 & 23 & 12 & 1581.88615\\\\\n",
       "\t 35 & 73 & 31 & 26 & 1559.01064\\\\\n",
       "\t 44 & 75 & 31 & 23 & 1632.11175\\\\\n",
       "\t 46 & 76 & 29 & 23 & 1752.72457\\\\\n",
       "\t 51 & 79 & 31 & 23 & 1894.77500\\\\\n",
       "\t 49 & 82 & 33 & 26 & 1849.87673\\\\\n",
       "\t 47 & 81 & 29 & 24 & 1609.89028\\\\\n",
       "\t  4 &  4 &  2 & NA &   11.37534\\\\\n",
       "\t 42 & 72 & 23 & 15 & 1390.84190\\\\\n",
       "\t 37 & 62 & 17 & 12 & 1285.72493\\\\\n",
       "\t 33 & 54 & 16 & 12 & 1041.29100\\\\\n",
       "\t  3 &  7 &  6 &  3 &   47.84412\\\\\n",
       "\t 22 & 52 & 17 & 30 &  611.83502\\\\\n",
       "\t 42 & 73 & 29 & 27 & 1329.87830\\\\\n",
       "\t 46 & 90 & 34 & 23 & 1728.21491\\\\\n",
       "\t 52 & 85 & 34 & 23 & 1954.16451\\\\\n",
       "\t 54 & 81 & 31 & 33 & 1896.52602\\\\\n",
       "\\end{tabular}\n"
      ],
      "text/markdown": [
       "\n",
       "A data.table: 14387 × 5\n",
       "\n",
       "| red &lt;int&gt; | green &lt;int&gt; | orange &lt;int&gt; | blue &lt;int&gt; | V1 &lt;dbl&gt; |\n",
       "|---|---|---|---|---|\n",
       "| 29 | 52 | 16 | 10 |  909.99484 |\n",
       "| 29 | 60 | 17 | 11 |  857.54509 |\n",
       "| 26 | 60 | 15 | 13 |  838.85886 |\n",
       "| 28 | 63 | 16 | 12 | 3376.27022 |\n",
       "| 28 | 65 | 16 | 12 | 6782.92590 |\n",
       "| 27 | 65 | 17 | 12 | 2432.63552 |\n",
       "| 28 | 66 | 21 | 12 |  980.38101 |\n",
       "| 26 | 64 | 17 | 12 |  907.74143 |\n",
       "| 30 | 66 | 16 | 12 | 3566.35514 |\n",
       "| 30 | 57 | 16 | 12 | 3526.88767 |\n",
       "| 29 | 55 | 16 | 12 | 5431.43704 |\n",
       "| 28 | 50 | 16 | 13 |  949.63013 |\n",
       "| 26 | 46 | 16 | 13 |  984.97964 |\n",
       "| 25 | 43 | 16 |  8 | 5122.43055 |\n",
       "|  3 | 15 |  3 |  3 |   87.57800 |\n",
       "| NA |  3 | NA | NA |   32.11128 |\n",
       "| NA | 15 |  3 |  6 |   82.96307 |\n",
       "| 16 | 38 | 14 |  9 |  588.05860 |\n",
       "| 29 | 36 | 16 |  8 |  902.99040 |\n",
       "| 28 | 38 | 15 |  9 |  896.14773 |\n",
       "| 28 | 41 | 16 | 10 |  934.59913 |\n",
       "| 24 | 57 | 14 | 15 |  557.61108 |\n",
       "| 10 | 26 |  4 |  9 |  162.66228 |\n",
       "| 47 | 92 | 32 | 15 | 1671.81248 |\n",
       "| 36 | 84 | 26 | 14 | 1504.97737 |\n",
       "| 29 | 82 | 23 | 15 | 1378.99990 |\n",
       "| 29 | 83 | 24 | 16 | 1477.51817 |\n",
       "| 36 | 83 | 26 | 27 | 1433.96631 |\n",
       "| 48 | 87 | 31 | 24 | 3674.72947 |\n",
       "| 53 | 91 | 32 | 23 | 1721.74537 |\n",
       "| ... | ... | ... | ... | ... |\n",
       "| 35 | 56 | 16 | 14 |  990.23616 |\n",
       "| 38 | 52 | 16 | 12 | 1024.72987 |\n",
       "| 32 | 52 | 16 | 12 |  965.37783 |\n",
       "|  1 |  9 |  4 |  5 |   21.94891 |\n",
       "| 19 | 45 | 19 | 32 |  602.50411 |\n",
       "| 41 | 68 | 27 | 23 | 1314.40651 |\n",
       "| 48 | 82 | 32 | 25 | 1545.28635 |\n",
       "| 49 | 79 | 32 | 22 | 1631.05428 |\n",
       "| 48 | 81 | 33 | 26 | 1641.47042 |\n",
       "| 25 | 35 | 16 | 16 |  543.81157 |\n",
       "|  9 | 10 |  7 |  8 |  116.02043 |\n",
       "| 52 | 79 | 29 | 20 | 1772.36846 |\n",
       "| 35 | 75 | 24 | 11 | 1652.59755 |\n",
       "| 29 | 77 | 23 | 12 | 1581.88615 |\n",
       "| 35 | 73 | 31 | 26 | 1559.01064 |\n",
       "| 44 | 75 | 31 | 23 | 1632.11175 |\n",
       "| 46 | 76 | 29 | 23 | 1752.72457 |\n",
       "| 51 | 79 | 31 | 23 | 1894.77500 |\n",
       "| 49 | 82 | 33 | 26 | 1849.87673 |\n",
       "| 47 | 81 | 29 | 24 | 1609.89028 |\n",
       "|  4 |  4 |  2 | NA |   11.37534 |\n",
       "| 42 | 72 | 23 | 15 | 1390.84190 |\n",
       "| 37 | 62 | 17 | 12 | 1285.72493 |\n",
       "| 33 | 54 | 16 | 12 | 1041.29100 |\n",
       "|  3 |  7 |  6 |  3 |   47.84412 |\n",
       "| 22 | 52 | 17 | 30 |  611.83502 |\n",
       "| 42 | 73 | 29 | 27 | 1329.87830 |\n",
       "| 46 | 90 | 34 | 23 | 1728.21491 |\n",
       "| 52 | 85 | 34 | 23 | 1954.16451 |\n",
       "| 54 | 81 | 31 | 33 | 1896.52602 |\n",
       "\n"
      ],
      "text/plain": [
       "      red green orange blue V1        \n",
       "1     29  52    16     10    909.99484\n",
       "2     29  60    17     11    857.54509\n",
       "3     26  60    15     13    838.85886\n",
       "4     28  63    16     12   3376.27022\n",
       "5     28  65    16     12   6782.92590\n",
       "6     27  65    17     12   2432.63552\n",
       "7     28  66    21     12    980.38101\n",
       "8     26  64    17     12    907.74143\n",
       "9     30  66    16     12   3566.35514\n",
       "10    30  57    16     12   3526.88767\n",
       "11    29  55    16     12   5431.43704\n",
       "12    28  50    16     13    949.63013\n",
       "13    26  46    16     13    984.97964\n",
       "14    25  43    16      8   5122.43055\n",
       "15     3  15     3      3     87.57800\n",
       "16    NA   3    NA     NA     32.11128\n",
       "17    NA  15     3      6     82.96307\n",
       "18    16  38    14      9    588.05860\n",
       "19    29  36    16      8    902.99040\n",
       "20    28  38    15      9    896.14773\n",
       "21    28  41    16     10    934.59913\n",
       "22    24  57    14     15    557.61108\n",
       "23    10  26     4      9    162.66228\n",
       "24    47  92    32     15   1671.81248\n",
       "25    36  84    26     14   1504.97737\n",
       "26    29  82    23     15   1378.99990\n",
       "27    29  83    24     16   1477.51817\n",
       "28    36  83    26     27   1433.96631\n",
       "29    48  87    31     24   3674.72947\n",
       "30    53  91    32     23   1721.74537\n",
       "...   ... ...   ...    ...  ...       \n",
       "14358 35  56    16     14    990.23616\n",
       "14359 38  52    16     12   1024.72987\n",
       "14360 32  52    16     12    965.37783\n",
       "14361  1   9     4      5     21.94891\n",
       "14362 19  45    19     32    602.50411\n",
       "14363 41  68    27     23   1314.40651\n",
       "14364 48  82    32     25   1545.28635\n",
       "14365 49  79    32     22   1631.05428\n",
       "14366 48  81    33     26   1641.47042\n",
       "14367 25  35    16     16    543.81157\n",
       "14368  9  10     7      8    116.02043\n",
       "14369 52  79    29     20   1772.36846\n",
       "14370 35  75    24     11   1652.59755\n",
       "14371 29  77    23     12   1581.88615\n",
       "14372 35  73    31     26   1559.01064\n",
       "14373 44  75    31     23   1632.11175\n",
       "14374 46  76    29     23   1752.72457\n",
       "14375 51  79    31     23   1894.77500\n",
       "14376 49  82    33     26   1849.87673\n",
       "14377 47  81    29     24   1609.89028\n",
       "14378  4   4     2     NA     11.37534\n",
       "14379 42  72    23     15   1390.84190\n",
       "14380 37  62    17     12   1285.72493\n",
       "14381 33  54    16     12   1041.29100\n",
       "14382  3   7     6      3     47.84412\n",
       "14383 22  52    17     30    611.83502\n",
       "14384 42  73    29     27   1329.87830\n",
       "14385 46  90    34     23   1728.21491\n",
       "14386 52  85    34     23   1954.16451\n",
       "14387 54  81    31     33   1896.52602"
      ]
     },
     "metadata": {},
     "output_type": "display_data"
    }
   ],
   "source": [
    "agg_data[,sum(distance_mile,na.rm =TRUE), by =.(red,green,orange,blue)]"
   ]
  },
  {
   "cell_type": "code",
   "execution_count": 84,
   "metadata": {},
   "outputs": [],
   "source": [
    "write.csv(m,\"../../data/raw/monthly-distance-hour.csv\")"
   ]
  },
  {
   "cell_type": "code",
   "execution_count": 66,
   "metadata": {},
   "outputs": [],
   "source": [
    "fix(m)"
   ]
  },
  {
   "cell_type": "code",
   "execution_count": 9,
   "metadata": {},
   "outputs": [],
   "source": [
    "# change the type of speed and distance column\n",
    "# Metrics_df$dist = as.numeric(as.character(Metrics_df$dist))\n",
    "# Metrics_df$kph = as.numeric(as.character(Metrics_df$kph))\n",
    "# add the mph column\n",
    "interval_df$mph = 0.621371*interval_df$kph\n",
    "interval_df$mile = interval_df$dist*0.000621371\n",
    "interval_df$time_hr = interval_df$timeinterval/3600.0 "
   ]
  },
  {
   "cell_type": "code",
   "execution_count": 29,
   "metadata": {},
   "outputs": [],
   "source": [
    "# Combine two tables\n",
    "day_df = interval_df[, lapply( .SD, sum , na.rm=TRUE), by = c('Month','Day'), .SDcols = c('mile', 'mph', 'time_hr')]\n",
    "dc1 = subset(dc,dc$Year==2019)"
   ]
  },
  {
   "cell_type": "code",
   "execution_count": 31,
   "metadata": {},
   "outputs": [],
   "source": [
    "dc1$Day = dc1$`Day of Month`\n",
    "dc1$energy_kwh = dc1$`Total Daily Load`"
   ]
  },
  {
   "cell_type": "code",
   "execution_count": 60,
   "metadata": {},
   "outputs": [],
   "source": [
    "merged_df = cost\n",
    "merged_df$cost_per_mile = merged_df$cost/merged_df$mile\n",
    "merged_df$cost_per_hour = merged_df$cost/merged_df$hour\n",
    "merged_df$energy_per_mile = merged_df$energy/merged_df$mile\n",
    "merged_df$energy_per_hour = merged_df$energy/merged_df$hour\n",
    "merged_df$GHG_mile = merged_df$energy_per_mile*945940*0.0005\n",
    "merged_df$GHG_hour = merged_df$energy_per_hour*945940*0.0005"
   ]
  },
  {
   "cell_type": "code",
   "execution_count": 61,
   "metadata": {},
   "outputs": [
    {
     "data": {
      "text/html": [
       "0.273403283244765"
      ],
      "text/latex": [
       "0.273403283244765"
      ],
      "text/markdown": [
       "0.273403283244765"
      ],
      "text/plain": [
       "[1] 0.2734033"
      ]
     },
     "metadata": {},
     "output_type": "display_data"
    },
    {
     "data": {
      "text/html": [
       "0.0396171277581572"
      ],
      "text/latex": [
       "0.0396171277581572"
      ],
      "text/markdown": [
       "0.0396171277581572"
      ],
      "text/plain": [
       "[1] 0.03961713"
      ]
     },
     "metadata": {},
     "output_type": "display_data"
    },
    {
     "data": {
      "text/html": [
       "18.7377129157756"
      ],
      "text/latex": [
       "18.7377129157756"
      ],
      "text/markdown": [
       "18.7377129157756"
      ],
      "text/plain": [
       "[1] 18.73771"
      ]
     },
     "metadata": {},
     "output_type": "display_data"
    },
    {
     "data": {
      "text/html": [
       "129.311550876277"
      ],
      "text/latex": [
       "129.311550876277"
      ],
      "text/markdown": [
       "129.311550876277"
      ],
      "text/plain": [
       "[1] 129.3116"
      ]
     },
     "metadata": {},
     "output_type": "display_data"
    }
   ],
   "source": [
    "mean(merged_df$energy_per_hour,na.rm =TRUE)\n",
    "mean(merged_df$energy_per_mile,na.rm =TRUE)\n",
    "mean(merged_df$GHG_mile,na.rm =TRUE)\n",
    "mean(merged_df$GHG_hour,na.rm =TRUE)"
   ]
  },
  {
   "cell_type": "code",
   "execution_count": 65,
   "metadata": {},
   "outputs": [
    {
     "name": "stdout",
     "output_type": "stream",
     "text": [
      "[1] 0.975\n",
      "[1] 0.2734033\n"
     ]
    },
    {
     "data": {
      "text/html": [
       "<style>\n",
       ".list-inline {list-style: none; margin:0; padding: 0}\n",
       ".list-inline>li {display: inline-block}\n",
       ".list-inline>li:not(:last-child)::after {content: \"\\00b7\"; padding: 0 .5ex}\n",
       "</style>\n",
       "<ol class=list-inline><li>0.247611895864886</li><li>0.299194670624644</li></ol>\n"
      ],
      "text/latex": [
       "\\begin{enumerate*}\n",
       "\\item 0.247611895864886\n",
       "\\item 0.299194670624644\n",
       "\\end{enumerate*}\n"
      ],
      "text/markdown": [
       "1. 0.247611895864886\n",
       "2. 0.299194670624644\n",
       "\n",
       "\n"
      ],
      "text/plain": [
       "[1] 0.2476119 0.2991947"
      ]
     },
     "metadata": {},
     "output_type": "display_data"
    },
    {
     "name": "stdout",
     "output_type": "stream",
     "text": [
      "[1] 0.975\n",
      "[1] 0.03961713\n"
     ]
    },
    {
     "data": {
      "text/html": [
       "<style>\n",
       ".list-inline {list-style: none; margin:0; padding: 0}\n",
       ".list-inline>li {display: inline-block}\n",
       ".list-inline>li:not(:last-child)::after {content: \"\\00b7\"; padding: 0 .5ex}\n",
       "</style>\n",
       "<ol class=list-inline><li>0.036002525215029</li><li>0.0432317303012854</li></ol>\n"
      ],
      "text/latex": [
       "\\begin{enumerate*}\n",
       "\\item 0.036002525215029\n",
       "\\item 0.0432317303012854\n",
       "\\end{enumerate*}\n"
      ],
      "text/markdown": [
       "1. 0.036002525215029\n",
       "2. 0.0432317303012854\n",
       "\n",
       "\n"
      ],
      "text/plain": [
       "[1] 0.03600253 0.04323173"
      ]
     },
     "metadata": {},
     "output_type": "display_data"
    }
   ],
   "source": [
    "ci(merged_df$energy_per_hour,95)\n",
    "ci(merged_df$energy_per_mile,95)"
   ]
  },
  {
   "cell_type": "code",
   "execution_count": 94,
   "metadata": {
    "collapsed": true,
    "jupyter": {
     "outputs_hidden": true
    }
   },
   "outputs": [
    {
     "data": {
      "text/html": [
       "<table class=\"dataframe\">\n",
       "<caption>A data.frame: 24 × 7</caption>\n",
       "<thead>\n",
       "\t<tr><th></th><th scope=col>Month</th><th scope=col>cost</th><th scope=col>energy</th><th scope=col>hour</th><th scope=col>mile</th><th scope=col>cost_per_mile</th><th scope=col>cost_per_hour</th></tr>\n",
       "\t<tr><th></th><th scope=col>&lt;fct&gt;</th><th scope=col>&lt;dbl&gt;</th><th scope=col>&lt;dbl&gt;</th><th scope=col>&lt;dbl&gt;</th><th scope=col>&lt;dbl&gt;</th><th scope=col>&lt;dbl&gt;</th><th scope=col>&lt;dbl&gt;</th></tr>\n",
       "</thead>\n",
       "<tbody>\n",
       "\t<tr><th scope=row>1</th><td>Jan</td><td>1481553</td><td>40865.46</td><td>118065.22</td><td>806794.8</td><td>1.836344</td><td>12.548595</td></tr>\n",
       "\t<tr><th scope=row>2</th><td>Feb</td><td>1535736</td><td>35979.98</td><td>101571.67</td><td>701816.7</td><td>2.188229</td><td>15.119724</td></tr>\n",
       "\t<tr><th scope=row>3</th><td>Mar</td><td>1560537</td><td>37819.25</td><td>122494.99</td><td>854781.3</td><td>1.825657</td><td>12.739602</td></tr>\n",
       "\t<tr><th scope=row>4</th><td>Apr</td><td>1617236</td><td>31050.27</td><td>117625.81</td><td>845034.4</td><td>1.913811</td><td>13.748989</td></tr>\n",
       "\t<tr><th scope=row>5</th><td>May</td><td>1568248</td><td>32016.24</td><td>125719.51</td><td>925865.5</td><td>1.693819</td><td>12.474183</td></tr>\n",
       "\t<tr><th scope=row>6</th><td>Jun</td><td>1405221</td><td>30598.05</td><td>127849.54</td><td>872659.9</td><td>1.610274</td><td>10.991213</td></tr>\n",
       "\t<tr><th scope=row>7</th><td>Jul</td><td>1182068</td><td>33029.13</td><td>136814.15</td><td>885412.5</td><td>1.335048</td><td> 8.639955</td></tr>\n",
       "\t<tr><th scope=row>8</th><td>Aug</td><td>1166982</td><td>33463.24</td><td>135450.38</td><td>909227.7</td><td>1.283487</td><td> 8.615568</td></tr>\n",
       "\t<tr><th scope=row>9</th><td>Sep</td><td>1198188</td><td>31404.02</td><td>137820.34</td><td>914426.7</td><td>1.310316</td><td> 8.693837</td></tr>\n",
       "\t<tr><th scope=row>10</th><td>Oct</td><td>1180036</td><td>31872.98</td><td>142429.98</td><td>978972.2</td><td>1.205382</td><td> 8.285024</td></tr>\n",
       "\t<tr><th scope=row>11</th><td>Nov</td><td>1167879</td><td>33483.97</td><td>129378.91</td><td>889215.3</td><td>1.313382</td><td> 9.026811</td></tr>\n",
       "\t<tr><th scope=row>12</th><td>Dec</td><td>1124437</td><td>39346.12</td><td>124965.15</td><td>890351.0</td><td>1.262914</td><td> 8.998003</td></tr>\n",
       "\t<tr><th scope=row>13</th><td>Jan</td><td>1228250</td><td>37542.23</td><td>122927.54</td><td>917695.2</td><td>1.338407</td><td> 9.991658</td></tr>\n",
       "\t<tr><th scope=row>14</th><td>Feb</td><td>1311778</td><td>35766.88</td><td>118151.63</td><td>858220.8</td><td>1.528485</td><td>11.102493</td></tr>\n",
       "\t<tr><th scope=row>15</th><td>Mar</td><td>1287993</td><td>33488.22</td><td>112276.02</td><td>850425.3</td><td>1.514527</td><td>11.471661</td></tr>\n",
       "\t<tr><th scope=row>16</th><td>Apr</td><td>1315268</td><td>29913.54</td><td> 80640.78</td><td>673835.1</td><td>1.951914</td><td>16.310211</td></tr>\n",
       "\t<tr><th scope=row>17</th><td>May</td><td>1120903</td><td>29021.97</td><td> 88743.81</td><td>719021.6</td><td>1.558928</td><td>12.630770</td></tr>\n",
       "\t<tr><th scope=row>18</th><td>Jun</td><td>1101744</td><td>29040.05</td><td>111021.07</td><td>738052.4</td><td>1.492772</td><td> 9.923733</td></tr>\n",
       "\t<tr><th scope=row>19</th><td>Jul</td><td>1007547</td><td>32039.26</td><td>129682.14</td><td>952852.1</td><td>1.057401</td><td> 7.769357</td></tr>\n",
       "\t<tr><th scope=row>20</th><td>Aug</td><td>1086603</td><td>31570.34</td><td>124327.09</td><td>870782.0</td><td>1.247847</td><td> 8.739873</td></tr>\n",
       "\t<tr><th scope=row>21</th><td>Sep</td><td>1142452</td><td>29741.84</td><td>120152.21</td><td>838751.7</td><td>1.362085</td><td> 9.508368</td></tr>\n",
       "\t<tr><th scope=row>22</th><td>Oct</td><td>1150693</td><td>28543.70</td><td>117157.81</td><td>819428.2</td><td>1.404263</td><td> 9.821736</td></tr>\n",
       "\t<tr><th scope=row>23</th><td>Nov</td><td>1138474</td><td>29966.86</td><td>116168.61</td><td>819698.3</td><td>1.388894</td><td> 9.800184</td></tr>\n",
       "\t<tr><th scope=row>24</th><td>Dec</td><td>1085054</td><td>33132.27</td><td>108059.49</td><td>794184.5</td><td>1.366249</td><td>10.041264</td></tr>\n",
       "</tbody>\n",
       "</table>\n"
      ],
      "text/latex": [
       "A data.frame: 24 × 7\n",
       "\\begin{tabular}{r|lllllll}\n",
       "  & Month & cost & energy & hour & mile & cost\\_per\\_mile & cost\\_per\\_hour\\\\\n",
       "  & <fct> & <dbl> & <dbl> & <dbl> & <dbl> & <dbl> & <dbl>\\\\\n",
       "\\hline\n",
       "\t1 & Jan & 1481553 & 40865.46 & 118065.22 & 806794.8 & 1.836344 & 12.548595\\\\\n",
       "\t2 & Feb & 1535736 & 35979.98 & 101571.67 & 701816.7 & 2.188229 & 15.119724\\\\\n",
       "\t3 & Mar & 1560537 & 37819.25 & 122494.99 & 854781.3 & 1.825657 & 12.739602\\\\\n",
       "\t4 & Apr & 1617236 & 31050.27 & 117625.81 & 845034.4 & 1.913811 & 13.748989\\\\\n",
       "\t5 & May & 1568248 & 32016.24 & 125719.51 & 925865.5 & 1.693819 & 12.474183\\\\\n",
       "\t6 & Jun & 1405221 & 30598.05 & 127849.54 & 872659.9 & 1.610274 & 10.991213\\\\\n",
       "\t7 & Jul & 1182068 & 33029.13 & 136814.15 & 885412.5 & 1.335048 &  8.639955\\\\\n",
       "\t8 & Aug & 1166982 & 33463.24 & 135450.38 & 909227.7 & 1.283487 &  8.615568\\\\\n",
       "\t9 & Sep & 1198188 & 31404.02 & 137820.34 & 914426.7 & 1.310316 &  8.693837\\\\\n",
       "\t10 & Oct & 1180036 & 31872.98 & 142429.98 & 978972.2 & 1.205382 &  8.285024\\\\\n",
       "\t11 & Nov & 1167879 & 33483.97 & 129378.91 & 889215.3 & 1.313382 &  9.026811\\\\\n",
       "\t12 & Dec & 1124437 & 39346.12 & 124965.15 & 890351.0 & 1.262914 &  8.998003\\\\\n",
       "\t13 & Jan & 1228250 & 37542.23 & 122927.54 & 917695.2 & 1.338407 &  9.991658\\\\\n",
       "\t14 & Feb & 1311778 & 35766.88 & 118151.63 & 858220.8 & 1.528485 & 11.102493\\\\\n",
       "\t15 & Mar & 1287993 & 33488.22 & 112276.02 & 850425.3 & 1.514527 & 11.471661\\\\\n",
       "\t16 & Apr & 1315268 & 29913.54 &  80640.78 & 673835.1 & 1.951914 & 16.310211\\\\\n",
       "\t17 & May & 1120903 & 29021.97 &  88743.81 & 719021.6 & 1.558928 & 12.630770\\\\\n",
       "\t18 & Jun & 1101744 & 29040.05 & 111021.07 & 738052.4 & 1.492772 &  9.923733\\\\\n",
       "\t19 & Jul & 1007547 & 32039.26 & 129682.14 & 952852.1 & 1.057401 &  7.769357\\\\\n",
       "\t20 & Aug & 1086603 & 31570.34 & 124327.09 & 870782.0 & 1.247847 &  8.739873\\\\\n",
       "\t21 & Sep & 1142452 & 29741.84 & 120152.21 & 838751.7 & 1.362085 &  9.508368\\\\\n",
       "\t22 & Oct & 1150693 & 28543.70 & 117157.81 & 819428.2 & 1.404263 &  9.821736\\\\\n",
       "\t23 & Nov & 1138474 & 29966.86 & 116168.61 & 819698.3 & 1.388894 &  9.800184\\\\\n",
       "\t24 & Dec & 1085054 & 33132.27 & 108059.49 & 794184.5 & 1.366249 & 10.041264\\\\\n",
       "\\end{tabular}\n"
      ],
      "text/markdown": [
       "\n",
       "A data.frame: 24 × 7\n",
       "\n",
       "| <!--/--> | Month &lt;fct&gt; | cost &lt;dbl&gt; | energy &lt;dbl&gt; | hour &lt;dbl&gt; | mile &lt;dbl&gt; | cost_per_mile &lt;dbl&gt; | cost_per_hour &lt;dbl&gt; |\n",
       "|---|---|---|---|---|---|---|---|\n",
       "| 1 | Jan | 1481553 | 40865.46 | 118065.22 | 806794.8 | 1.836344 | 12.548595 |\n",
       "| 2 | Feb | 1535736 | 35979.98 | 101571.67 | 701816.7 | 2.188229 | 15.119724 |\n",
       "| 3 | Mar | 1560537 | 37819.25 | 122494.99 | 854781.3 | 1.825657 | 12.739602 |\n",
       "| 4 | Apr | 1617236 | 31050.27 | 117625.81 | 845034.4 | 1.913811 | 13.748989 |\n",
       "| 5 | May | 1568248 | 32016.24 | 125719.51 | 925865.5 | 1.693819 | 12.474183 |\n",
       "| 6 | Jun | 1405221 | 30598.05 | 127849.54 | 872659.9 | 1.610274 | 10.991213 |\n",
       "| 7 | Jul | 1182068 | 33029.13 | 136814.15 | 885412.5 | 1.335048 |  8.639955 |\n",
       "| 8 | Aug | 1166982 | 33463.24 | 135450.38 | 909227.7 | 1.283487 |  8.615568 |\n",
       "| 9 | Sep | 1198188 | 31404.02 | 137820.34 | 914426.7 | 1.310316 |  8.693837 |\n",
       "| 10 | Oct | 1180036 | 31872.98 | 142429.98 | 978972.2 | 1.205382 |  8.285024 |\n",
       "| 11 | Nov | 1167879 | 33483.97 | 129378.91 | 889215.3 | 1.313382 |  9.026811 |\n",
       "| 12 | Dec | 1124437 | 39346.12 | 124965.15 | 890351.0 | 1.262914 |  8.998003 |\n",
       "| 13 | Jan | 1228250 | 37542.23 | 122927.54 | 917695.2 | 1.338407 |  9.991658 |\n",
       "| 14 | Feb | 1311778 | 35766.88 | 118151.63 | 858220.8 | 1.528485 | 11.102493 |\n",
       "| 15 | Mar | 1287993 | 33488.22 | 112276.02 | 850425.3 | 1.514527 | 11.471661 |\n",
       "| 16 | Apr | 1315268 | 29913.54 |  80640.78 | 673835.1 | 1.951914 | 16.310211 |\n",
       "| 17 | May | 1120903 | 29021.97 |  88743.81 | 719021.6 | 1.558928 | 12.630770 |\n",
       "| 18 | Jun | 1101744 | 29040.05 | 111021.07 | 738052.4 | 1.492772 |  9.923733 |\n",
       "| 19 | Jul | 1007547 | 32039.26 | 129682.14 | 952852.1 | 1.057401 |  7.769357 |\n",
       "| 20 | Aug | 1086603 | 31570.34 | 124327.09 | 870782.0 | 1.247847 |  8.739873 |\n",
       "| 21 | Sep | 1142452 | 29741.84 | 120152.21 | 838751.7 | 1.362085 |  9.508368 |\n",
       "| 22 | Oct | 1150693 | 28543.70 | 117157.81 | 819428.2 | 1.404263 |  9.821736 |\n",
       "| 23 | Nov | 1138474 | 29966.86 | 116168.61 | 819698.3 | 1.388894 |  9.800184 |\n",
       "| 24 | Dec | 1085054 | 33132.27 | 108059.49 | 794184.5 | 1.366249 | 10.041264 |\n",
       "\n"
      ],
      "text/plain": [
       "   Month cost    energy   hour      mile     cost_per_mile cost_per_hour\n",
       "1  Jan   1481553 40865.46 118065.22 806794.8 1.836344      12.548595    \n",
       "2  Feb   1535736 35979.98 101571.67 701816.7 2.188229      15.119724    \n",
       "3  Mar   1560537 37819.25 122494.99 854781.3 1.825657      12.739602    \n",
       "4  Apr   1617236 31050.27 117625.81 845034.4 1.913811      13.748989    \n",
       "5  May   1568248 32016.24 125719.51 925865.5 1.693819      12.474183    \n",
       "6  Jun   1405221 30598.05 127849.54 872659.9 1.610274      10.991213    \n",
       "7  Jul   1182068 33029.13 136814.15 885412.5 1.335048       8.639955    \n",
       "8  Aug   1166982 33463.24 135450.38 909227.7 1.283487       8.615568    \n",
       "9  Sep   1198188 31404.02 137820.34 914426.7 1.310316       8.693837    \n",
       "10 Oct   1180036 31872.98 142429.98 978972.2 1.205382       8.285024    \n",
       "11 Nov   1167879 33483.97 129378.91 889215.3 1.313382       9.026811    \n",
       "12 Dec   1124437 39346.12 124965.15 890351.0 1.262914       8.998003    \n",
       "13 Jan   1228250 37542.23 122927.54 917695.2 1.338407       9.991658    \n",
       "14 Feb   1311778 35766.88 118151.63 858220.8 1.528485      11.102493    \n",
       "15 Mar   1287993 33488.22 112276.02 850425.3 1.514527      11.471661    \n",
       "16 Apr   1315268 29913.54  80640.78 673835.1 1.951914      16.310211    \n",
       "17 May   1120903 29021.97  88743.81 719021.6 1.558928      12.630770    \n",
       "18 Jun   1101744 29040.05 111021.07 738052.4 1.492772       9.923733    \n",
       "19 Jul   1007547 32039.26 129682.14 952852.1 1.057401       7.769357    \n",
       "20 Aug   1086603 31570.34 124327.09 870782.0 1.247847       8.739873    \n",
       "21 Sep   1142452 29741.84 120152.21 838751.7 1.362085       9.508368    \n",
       "22 Oct   1150693 28543.70 117157.81 819428.2 1.404263       9.821736    \n",
       "23 Nov   1138474 29966.86 116168.61 819698.3 1.388894       9.800184    \n",
       "24 Dec   1085054 33132.27 108059.49 794184.5 1.366249      10.041264    "
      ]
     },
     "metadata": {},
     "output_type": "display_data"
    }
   ],
   "source": [
    "cost_metrics"
   ]
  },
  {
   "cell_type": "code",
   "execution_count": 87,
   "metadata": {},
   "outputs": [],
   "source": [
    "cost_metrics = read.csv(file = \"D:/Github/treem/data/tidy/energy-cost-final.csv\")"
   ]
  },
  {
   "cell_type": "code",
   "execution_count": 93,
   "metadata": {},
   "outputs": [],
   "source": [
    "cost_metrics$cost_per_mile = cost_metrics$cost/cost_metrics$mile\n",
    "cost_metrics$cost_per_hour = cost_metrics$cost/cost_metrics$hour"
   ]
  },
  {
   "cell_type": "code",
   "execution_count": 95,
   "metadata": {
    "collapsed": true,
    "jupyter": {
     "outputs_hidden": true
    }
   },
   "outputs": [
    {
     "data": {
      "text/html": [
       "1.49960144885409"
      ],
      "text/latex": [
       "1.49960144885409"
      ],
      "text/markdown": [
       "1.49960144885409"
      ],
      "text/plain": [
       "[1] 1.499601"
      ]
     },
     "metadata": {},
     "output_type": "display_data"
    },
    {
     "data": {
      "text/html": [
       "10.7080339214678"
      ],
      "text/latex": [
       "10.7080339214678"
      ],
      "text/markdown": [
       "10.7080339214678"
      ],
      "text/plain": [
       "[1] 10.70803"
      ]
     },
     "metadata": {},
     "output_type": "display_data"
    }
   ],
   "source": [
    "mean(cost_metrics$cost_per_mile)\n",
    "mean(cost_metrics$cost_per_hour)"
   ]
  },
  {
   "cell_type": "code",
   "execution_count": 98,
   "metadata": {},
   "outputs": [
    {
     "name": "stdout",
     "output_type": "stream",
     "text": [
      "[1] 0.975\n",
      "[1] 10.70803\n"
     ]
    },
    {
     "data": {
      "text/html": [
       "<style>\n",
       ".list-inline {list-style: none; margin:0; padding: 0}\n",
       ".list-inline>li {display: inline-block}\n",
       ".list-inline>li:not(:last-child)::after {content: \"\\00b7\"; padding: 0 .5ex}\n",
       "</style>\n",
       "<ol class=list-inline><li>9.80680952043065</li><li>11.6092583225049</li></ol>\n"
      ],
      "text/latex": [
       "\\begin{enumerate*}\n",
       "\\item 9.80680952043065\n",
       "\\item 11.6092583225049\n",
       "\\end{enumerate*}\n"
      ],
      "text/markdown": [
       "1. 9.80680952043065\n",
       "2. 11.6092583225049\n",
       "\n",
       "\n"
      ],
      "text/plain": [
       "[1]  9.80681 11.60926"
      ]
     },
     "metadata": {},
     "output_type": "display_data"
    }
   ],
   "source": [
    " ci(cost_metrics$cost_per_hour, 95)"
   ]
  },
  {
   "cell_type": "code",
   "execution_count": 54,
   "metadata": {},
   "outputs": [],
   "source": [
    "merged_df = time_series[!(distance_mile == 0),]"
   ]
  },
  {
   "cell_type": "code",
   "execution_count": 22,
   "metadata": {},
   "outputs": [],
   "source": [
    "merged_df = merged_df[!(merged_df$energy_MWh == 0),]"
   ]
  },
  {
   "cell_type": "code",
   "execution_count": 23,
   "metadata": {},
   "outputs": [],
   "source": [
    "ci <- function (var, level) {\n",
    "    prob = .01*(level + (100 - level)/2)\n",
    "    print(prob)\n",
    "    z = qnorm(prob)\n",
    "    mu = mean(var,na.rm =TRUE)\n",
    "    print(mu)\n",
    "    sigma = sd(var,na.rm =TRUE)\n",
    "    n = length(var)\n",
    "    ci_upper = mu + z*sigma/sqrt(n)\n",
    "    ci_lower = mu - z*sigma/sqrt(n)\n",
    "    return(c(ci_lower, ci_upper))\n",
    "}"
   ]
  },
  {
   "cell_type": "code",
   "execution_count": 25,
   "metadata": {},
   "outputs": [
    {
     "name": "stdout",
     "output_type": "stream",
     "text": [
      "[1] 0.975\n",
      "[1] 0.8596939\n"
     ]
    }
   ],
   "source": [
    "cost_CI = ci(merged_df$Energy_hours, 95)"
   ]
  },
  {
   "cell_type": "code",
   "execution_count": 60,
   "metadata": {},
   "outputs": [
    {
     "data": {
      "text/html": [
       "1001.80127338182"
      ],
      "text/latex": [
       "1001.80127338182"
      ],
      "text/markdown": [
       "1001.80127338182"
      ],
      "text/plain": [
       "[1] 1001.801"
      ]
     },
     "metadata": {},
     "output_type": "display_data"
    }
   ],
   "source": [
    "mean(merged_df$GHG_mile)"
   ]
  },
  {
   "cell_type": "code",
   "execution_count": 59,
   "metadata": {},
   "outputs": [
    {
     "data": {
      "text/html": [
       "<style>\n",
       ".list-inline {list-style: none; margin:0; padding: 0}\n",
       ".list-inline>li {display: inline-block}\n",
       ".list-inline>li:not(:last-child)::after {content: \"\\00b7\"; padding: 0 .5ex}\n",
       "</style>\n",
       "<ol class=list-inline><li>793.846974106426</li><li>1209.75557265722</li></ol>\n"
      ],
      "text/latex": [
       "\\begin{enumerate*}\n",
       "\\item 793.846974106426\n",
       "\\item 1209.75557265722\n",
       "\\end{enumerate*}\n"
      ],
      "text/markdown": [
       "1. 793.846974106426\n",
       "2. 1209.75557265722\n",
       "\n",
       "\n"
      ],
      "text/plain": [
       "[1]  793.847 1209.756"
      ]
     },
     "metadata": {},
     "output_type": "display_data"
    }
   ],
   "source": [
    "cost_CI"
   ]
  },
  {
   "cell_type": "code",
   "execution_count": 37,
   "metadata": {
    "collapsed": true,
    "jupyter": {
     "outputs_hidden": true
    }
   },
   "outputs": [
    {
     "name": "stdout",
     "output_type": "stream",
     "text": [
      "[1] 0.975\n"
     ]
    }
   ],
   "source": [
    "day_df_mile_ci = ci(day_df_mile$Cost_per_mile, 95)"
   ]
  },
  {
   "cell_type": "code",
   "execution_count": 24,
   "metadata": {
    "collapsed": true,
    "jupyter": {
     "outputs_hidden": true
    }
   },
   "outputs": [
    {
     "name": "stdout",
     "output_type": "stream",
     "text": [
      "[1] 0.975\n",
      "[1] 0.975\n"
     ]
    }
   ],
   "source": [
    "# Add the confidence interval \n",
    "energy_per_mile_ci =  ci(merged_df$energy_per_mile, 95)\n",
    "energy_per_hour_ci =  ci(merged_df$energy_per_hour, 95)"
   ]
  },
  {
   "cell_type": "code",
   "execution_count": 68,
   "metadata": {},
   "outputs": [],
   "source": [
    "Planning_metrics_plot = read.csv(\"../../data/tidy/planning_metrics.csv\")"
   ]
  },
  {
   "cell_type": "code",
   "execution_count": 70,
   "metadata": {},
   "outputs": [],
   "source": [
    "fix(Planning_metrics_plot)"
   ]
  },
  {
   "cell_type": "code",
   "execution_count": 71,
   "metadata": {},
   "outputs": [
    {
     "data": {
      "text/html": [
       "<table class=\"dataframe\">\n",
       "<caption>A data.frame: 6 × 4</caption>\n",
       "<thead>\n",
       "\t<tr><th></th><th scope=col>Planning.metrics</th><th scope=col>Mean</th><th scope=col>Lower.Confidence.Bound</th><th scope=col>Upper.Confidence.Bound</th></tr>\n",
       "\t<tr><th></th><th scope=col>&lt;fct&gt;</th><th scope=col>&lt;dbl&gt;</th><th scope=col>&lt;dbl&gt;</th><th scope=col>&lt;dbl&gt;</th></tr>\n",
       "</thead>\n",
       "<tbody>\n",
       "\t<tr><th scope=row>1</th><td>Energy/veh-mile (MWh/mile)                       </td><td>  0.04</td><td>  0.036</td><td>  0.043</td></tr>\n",
       "\t<tr><th scope=row>2</th><td>Energy/veh-hour (MWh/hour)                       </td><td>  0.27</td><td>  0.250</td><td>  0.300</td></tr>\n",
       "\t<tr><th scope=row>3</th><td>Cost per mile ($/mile)                           </td><td>  1.56</td><td>  1.380</td><td>  1.750</td></tr>\n",
       "\t<tr><th scope=row>4</th><td>Cost per hour($/hour)                            </td><td> 10.82</td><td>  9.460</td><td> 12.180</td></tr>\n",
       "\t<tr><th scope=row>5</th><td>Average GHG emissions per vehicle-mile (tCO2e/mi)</td><td> 18.73</td><td> 17.030</td><td> 20.450</td></tr>\n",
       "\t<tr><th scope=row>6</th><td>Average GHG emissions per vehicle-hour (tCO2e/hr)</td><td>129.31</td><td>117.110</td><td>141.510</td></tr>\n",
       "</tbody>\n",
       "</table>\n"
      ],
      "text/latex": [
       "A data.frame: 6 × 4\n",
       "\\begin{tabular}{r|llll}\n",
       "  & Planning.metrics & Mean & Lower.Confidence.Bound & Upper.Confidence.Bound\\\\\n",
       "  & <fct> & <dbl> & <dbl> & <dbl>\\\\\n",
       "\\hline\n",
       "\t1 & Energy/veh-mile (MWh/mile)                        &   0.04 &   0.036 &   0.043\\\\\n",
       "\t2 & Energy/veh-hour (MWh/hour)                        &   0.27 &   0.250 &   0.300\\\\\n",
       "\t3 & Cost per mile (\\$/mile)                            &   1.56 &   1.380 &   1.750\\\\\n",
       "\t4 & Cost per hour(\\$/hour)                             &  10.82 &   9.460 &  12.180\\\\\n",
       "\t5 & Average GHG emissions per vehicle-mile (tCO2e/mi) &  18.73 &  17.030 &  20.450\\\\\n",
       "\t6 & Average GHG emissions per vehicle-hour (tCO2e/hr) & 129.31 & 117.110 & 141.510\\\\\n",
       "\\end{tabular}\n"
      ],
      "text/markdown": [
       "\n",
       "A data.frame: 6 × 4\n",
       "\n",
       "| <!--/--> | Planning.metrics &lt;fct&gt; | Mean &lt;dbl&gt; | Lower.Confidence.Bound &lt;dbl&gt; | Upper.Confidence.Bound &lt;dbl&gt; |\n",
       "|---|---|---|---|---|\n",
       "| 1 | Energy/veh-mile (MWh/mile)                        |   0.04 |   0.036 |   0.043 |\n",
       "| 2 | Energy/veh-hour (MWh/hour)                        |   0.27 |   0.250 |   0.300 |\n",
       "| 3 | Cost per mile ($/mile)                            |   1.56 |   1.380 |   1.750 |\n",
       "| 4 | Cost per hour($/hour)                             |  10.82 |   9.460 |  12.180 |\n",
       "| 5 | Average GHG emissions per vehicle-mile (tCO2e/mi) |  18.73 |  17.030 |  20.450 |\n",
       "| 6 | Average GHG emissions per vehicle-hour (tCO2e/hr) | 129.31 | 117.110 | 141.510 |\n",
       "\n"
      ],
      "text/plain": [
       "  Planning.metrics                                  Mean  \n",
       "1 Energy/veh-mile (MWh/mile)                          0.04\n",
       "2 Energy/veh-hour (MWh/hour)                          0.27\n",
       "3 Cost per mile ($/mile)                              1.56\n",
       "4 Cost per hour($/hour)                              10.82\n",
       "5 Average GHG emissions per vehicle-mile (tCO2e/mi)  18.73\n",
       "6 Average GHG emissions per vehicle-hour (tCO2e/hr) 129.31\n",
       "  Lower.Confidence.Bound Upper.Confidence.Bound\n",
       "1   0.036                  0.043               \n",
       "2   0.250                  0.300               \n",
       "3   1.380                  1.750               \n",
       "4   9.460                 12.180               \n",
       "5  17.030                 20.450               \n",
       "6 117.110                141.510               "
      ]
     },
     "metadata": {},
     "output_type": "display_data"
    }
   ],
   "source": [
    "Planning_metrics_plot"
   ]
  },
  {
   "cell_type": "code",
   "execution_count": 72,
   "metadata": {},
   "outputs": [],
   "source": [
    "Metrics_cost = Planning_metrics_plot[3:4,]\n",
    "Metrics_energy = Planning_metrics_plot[1:2,]\n",
    "Metrics_GHG = Planning_metrics_plot[5:6,]"
   ]
  },
  {
   "cell_type": "code",
   "execution_count": 98,
   "metadata": {},
   "outputs": [
    {
     "name": "stderr",
     "output_type": "stream",
     "text": [
      "Warning message in edit.data.frame(get(subx, envir = parent), title = subx, ...):\n",
      "\"added factor levels in 'Planning.metrics'\"\n"
     ]
    }
   ],
   "source": [
    "fix(Metrics_GHG)"
   ]
  },
  {
   "cell_type": "code",
   "execution_count": 197,
   "metadata": {
    "collapsed": true,
    "jupyter": {
     "outputs_hidden": true
    }
   },
   "outputs": [
    {
     "data": {
      "text/html": [
       "<table class=\"dataframe\">\n",
       "<caption>A data.frame: 2 × 4</caption>\n",
       "<thead>\n",
       "\t<tr><th></th><th scope=col>Planning.metrics</th><th scope=col>Mean</th><th scope=col>Lower.Confidence.Bound</th><th scope=col>Upper.Confidence.Bound</th></tr>\n",
       "\t<tr><th></th><th scope=col>&lt;fct&gt;</th><th scope=col>&lt;dbl&gt;</th><th scope=col>&lt;dbl&gt;</th><th scope=col>&lt;dbl&gt;</th></tr>\n",
       "</thead>\n",
       "<tbody>\n",
       "\t<tr><th scope=row>5</th><td>tCO2e/mile</td><td>1001.8</td><td>793.8</td><td>1029.8</td></tr>\n",
       "\t<tr><th scope=row>6</th><td>tCO2e/hour</td><td> 436.7</td><td>405.5</td><td> 465.8</td></tr>\n",
       "</tbody>\n",
       "</table>\n"
      ],
      "text/latex": [
       "A data.frame: 2 × 4\n",
       "\\begin{tabular}{r|llll}\n",
       "  & Planning.metrics & Mean & Lower.Confidence.Bound & Upper.Confidence.Bound\\\\\n",
       "  & <fct> & <dbl> & <dbl> & <dbl>\\\\\n",
       "\\hline\n",
       "\t5 & tCO2e/mile & 1001.8 & 793.8 & 1029.8\\\\\n",
       "\t6 & tCO2e/hour &  436.7 & 405.5 &  465.8\\\\\n",
       "\\end{tabular}\n"
      ],
      "text/markdown": [
       "\n",
       "A data.frame: 2 × 4\n",
       "\n",
       "| <!--/--> | Planning.metrics &lt;fct&gt; | Mean &lt;dbl&gt; | Lower.Confidence.Bound &lt;dbl&gt; | Upper.Confidence.Bound &lt;dbl&gt; |\n",
       "|---|---|---|---|---|\n",
       "| 5 | tCO2e/mile | 1001.8 | 793.8 | 1029.8 |\n",
       "| 6 | tCO2e/hour |  436.7 | 405.5 |  465.8 |\n",
       "\n"
      ],
      "text/plain": [
       "  Planning.metrics Mean   Lower.Confidence.Bound Upper.Confidence.Bound\n",
       "5 tCO2e/mile       1001.8 793.8                  1029.8                \n",
       "6 tCO2e/hour        436.7 405.5                   465.8                "
      ]
     },
     "metadata": {},
     "output_type": "display_data"
    }
   ],
   "source": [
    "Metrics_GHG"
   ]
  },
  {
   "cell_type": "code",
   "execution_count": 99,
   "metadata": {},
   "outputs": [],
   "source": [
    "# #Plot the metrics\n",
    "# png(\"../../figures/Planning metrics cost.png\",height= 1000,width=1000, res=120)\n",
    "p1 = ggplot(Metrics_cost) +\n",
    "    geom_bar(aes(x = Planning.metrics, y= Mean), stat=\"identity\", fill=\"skyblue\", alpha=0.5,width=0.4) +\n",
    "   geom_errorbar(aes(x=Planning.metrics, ymin= Lower.Confidence.Bound, ymax = Upper.Confidence.Bound), width=0.2, colour=\"orange\", alpha=0.9, size=1.5) +\n",
    "     theme_bw() + \n",
    "   theme(axis.text=element_text(size=75),axis.title.x = element_blank(), axis.title.y = element_blank())\n",
    "# dev.off()"
   ]
  },
  {
   "cell_type": "code",
   "execution_count": 100,
   "metadata": {},
   "outputs": [],
   "source": [
    "# png(\"../../figures/Planning metrics energy.png\",height= 1000,width=1000, res=120)\n",
    "p2 = ggplot(Metrics_energy) +\n",
    "    geom_bar(aes(x = Planning.metrics, y= Mean), stat=\"identity\", fill=\"skyblue\", alpha=0.5,width=0.4) +\n",
    "   geom_errorbar(aes(x=Planning.metrics, ymin= Lower.Confidence.Bound, ymax = Upper.Confidence.Bound), width=0.2, colour=\"orange\", alpha=0.9, size=1.5) +\n",
    "   theme_bw() + \n",
    "   theme(axis.text=element_text(size=75),axis.title.x = element_blank(), axis.title.y = element_blank())\n",
    "# dev.off()"
   ]
  },
  {
   "cell_type": "code",
   "execution_count": 81,
   "metadata": {
    "collapsed": true,
    "jupyter": {
     "outputs_hidden": true
    }
   },
   "outputs": [
    {
     "data": {
      "image/png": "[encoded data removed]",
      "text/plain": [
       "plot without title"
      ]
     },
     "metadata": {
      "image/png": {
       "height": 420,
       "width": 420
      }
     },
     "output_type": "display_data"
    }
   ],
   "source": [
    "p3"
   ]
  },
  {
   "cell_type": "code",
   "execution_count": 101,
   "metadata": {},
   "outputs": [],
   "source": [
    "# png(\"../../figures/Planning metrics GHG.png\",height= 1000,width=2000, res=120)\n",
    "p3 = ggplot(Metrics_GHG) +\n",
    "   geom_bar(aes(x = Planning.metrics, y= Mean), stat=\"identity\", fill=\"skyblue\", alpha=0.5,width=0.4) +\n",
    "   geom_errorbar(aes(x=Planning.metrics, ymin= Lower.Confidence.Bound, ymax = Upper.Confidence.Bound), width=0.2, colour=\"orange\", alpha=0.9, size=1.5) +\n",
    " theme_bw() + \n",
    "   theme(axis.text=element_text(size=75),axis.title.x = element_blank(), axis.title.y = element_blank())\n",
    "# dev.off()"
   ]
  },
  {
   "cell_type": "code",
   "execution_count": 77,
   "metadata": {},
   "outputs": [
    {
     "name": "stderr",
     "output_type": "stream",
     "text": [
      "file saved to ../../figures/PM.png\n",
      "\n"
     ]
    }
   ],
   "source": [
    "ggarrange(p1,p2,p3,nrow = 3, ncol = 1) %>% \n",
    "     ggexport(filename = \"../../figures/PM.png\",width = 1500, height = 2000)"
   ]
  },
  {
   "cell_type": "code",
   "execution_count": 102,
   "metadata": {},
   "outputs": [
    {
     "name": "stderr",
     "output_type": "stream",
     "text": [
      "file saved to ../../figures/PM.png\n",
      "\n"
     ]
    }
   ],
   "source": [
    "figure = ggarrange(p1,p2,p3,nrow = 1, ncol = 3)\n",
    "annotate_figure(figure,left = text_grob(\"Mean\", color = \"black\", rot = 90, size = 90)) %>% \n",
    "     ggexport(filename = \"../../figures/PM.png\",width = 5000, height = 2500)"
   ]
  }
 ],
 "metadata": {
  "kernelspec": {
   "display_name": "R",
   "language": "R",
   "name": "ir"
  },
  "language_info": {
   "codemirror_mode": "r",
   "file_extension": ".r",
   "mimetype": "text/x-r-source",
   "name": "R",
   "pygments_lexer": "r",
   "version": "3.6.2"
  }
 },
 "nbformat": 4,
 "nbformat_minor": 4
}
