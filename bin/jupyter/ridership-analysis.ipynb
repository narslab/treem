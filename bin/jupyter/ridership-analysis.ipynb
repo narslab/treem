{
 "cells": [
  {
   "cell_type": "code",
   "execution_count": 1,
   "metadata": {
    "collapsed": true,
    "jupyter": {
     "outputs_hidden": true
    }
   },
   "outputs": [
    {
     "name": "stderr",
     "output_type": "stream",
     "text": [
      "\n",
      "Attaching package: 'lubridate'\n",
      "\n",
      "\n",
      "The following object is masked from 'package:base':\n",
      "\n",
      "    date\n",
      "\n",
      "\n",
      "\n",
      "Attaching package: 'dplyr'\n",
      "\n",
      "\n",
      "The following objects are masked from 'package:lubridate':\n",
      "\n",
      "    intersect, setdiff, union\n",
      "\n",
      "\n",
      "The following objects are masked from 'package:stats':\n",
      "\n",
      "    filter, lag\n",
      "\n",
      "\n",
      "The following objects are masked from 'package:base':\n",
      "\n",
      "    intersect, setdiff, setequal, union\n",
      "\n",
      "\n",
      "Warning message:\n",
      "\"package 'ggplot2' was built under R version 3.6.3\"\n"
     ]
    }
   ],
   "source": [
    "library(lubridate) # Extract month,year,day from date column\n",
    "library(dplyr) # subset function\n",
    "library(ggplot2)"
   ]
  },
  {
   "cell_type": "code",
   "execution_count": 2,
   "metadata": {},
   "outputs": [],
   "source": [
    "ridership = read.csv(\"../../data/raw/ridership-19-20.csv\")"
   ]
  },
  {
   "cell_type": "code",
   "execution_count": 40,
   "metadata": {
    "collapsed": true,
    "jupyter": {
     "outputs_hidden": true
    }
   },
   "outputs": [
    {
     "data": {
      "text/html": [
       "<table>\n",
       "<caption>A data.frame: 6 × 11</caption>\n",
       "<thead>\n",
       "\t<tr><th></th><th scope=col>servicedate</th><th scope=col>halfhour</th><th scope=col>locationid</th><th scope=col>stationname</th><th scope=col>route_or_line</th><th scope=col>noninteraction_type</th><th scope=col>ungated_type</th><th scope=col>rawtaps_split</th><th scope=col>Year</th><th scope=col>Month</th><th scope=col>Day</th></tr>\n",
       "\t<tr><th></th><th scope=col>&lt;fct&gt;</th><th scope=col>&lt;fct&gt;</th><th scope=col>&lt;int&gt;</th><th scope=col>&lt;fct&gt;</th><th scope=col>&lt;fct&gt;</th><th scope=col>&lt;fct&gt;</th><th scope=col>&lt;fct&gt;</th><th scope=col>&lt;dbl&gt;</th><th scope=col>&lt;dbl&gt;</th><th scope=col>&lt;dbl&gt;</th><th scope=col>&lt;int&gt;</th></tr>\n",
       "</thead>\n",
       "<tbody>\n",
       "\t<tr><th scope=row>1</th><td>2020-02-13</td><td>2020-02-13 19:30:00</td><td>1006</td><td>Wollaston    </td><td>Red Line   </td><td>Faregate</td><td>Heavy Rail</td><td> 12.0</td><td>2020</td><td>2</td><td>13</td></tr>\n",
       "\t<tr><th scope=row>2</th><td>2020-02-13</td><td>2020-02-13 19:30:00</td><td>1007</td><td>Quincy Center</td><td>Red Line   </td><td>Faregate</td><td>Heavy Rail</td><td> 60.0</td><td>2020</td><td>2</td><td>13</td></tr>\n",
       "\t<tr><th scope=row>3</th><td>2020-02-13</td><td>2020-02-13 19:30:00</td><td>1009</td><td>South Station</td><td>Red Line   </td><td>Faregate</td><td>Heavy Rail</td><td>364.7</td><td>2020</td><td>2</td><td>13</td></tr>\n",
       "\t<tr><th scope=row>4</th><td>2020-02-13</td><td>2020-02-13 19:30:00</td><td>2106</td><td>Charles/MGH  </td><td>Red Line   </td><td>Faregate</td><td>Heavy Rail</td><td>292.0</td><td>2020</td><td>2</td><td>13</td></tr>\n",
       "\t<tr><th scope=row>5</th><td>2020-02-13</td><td>2020-02-13 19:30:00</td><td>3007</td><td>Assembly     </td><td>Orange Line</td><td>Faregate</td><td>Heavy Rail</td><td>120.0</td><td>2020</td><td>2</td><td>13</td></tr>\n",
       "\t<tr><th scope=row>6</th><td>2020-02-13</td><td>2020-02-13 19:30:00</td><td>1010</td><td>Maverick     </td><td>Blue Line  </td><td>Faregate</td><td>Heavy Rail</td><td>109.0</td><td>2020</td><td>2</td><td>13</td></tr>\n",
       "</tbody>\n",
       "</table>\n"
      ],
      "text/latex": [
       "A data.frame: 6 × 11\n",
       "\\begin{tabular}{r|lllllllllll}\n",
       "  & servicedate & halfhour & locationid & stationname & route\\_or\\_line & noninteraction\\_type & ungated\\_type & rawtaps\\_split & Year & Month & Day\\\\\n",
       "  & <fct> & <fct> & <int> & <fct> & <fct> & <fct> & <fct> & <dbl> & <dbl> & <dbl> & <int>\\\\\n",
       "\\hline\n",
       "\t1 & 2020-02-13 & 2020-02-13 19:30:00 & 1006 & Wollaston     & Red Line    & Faregate & Heavy Rail &  12.0 & 2020 & 2 & 13\\\\\n",
       "\t2 & 2020-02-13 & 2020-02-13 19:30:00 & 1007 & Quincy Center & Red Line    & Faregate & Heavy Rail &  60.0 & 2020 & 2 & 13\\\\\n",
       "\t3 & 2020-02-13 & 2020-02-13 19:30:00 & 1009 & South Station & Red Line    & Faregate & Heavy Rail & 364.7 & 2020 & 2 & 13\\\\\n",
       "\t4 & 2020-02-13 & 2020-02-13 19:30:00 & 2106 & Charles/MGH   & Red Line    & Faregate & Heavy Rail & 292.0 & 2020 & 2 & 13\\\\\n",
       "\t5 & 2020-02-13 & 2020-02-13 19:30:00 & 3007 & Assembly      & Orange Line & Faregate & Heavy Rail & 120.0 & 2020 & 2 & 13\\\\\n",
       "\t6 & 2020-02-13 & 2020-02-13 19:30:00 & 1010 & Maverick      & Blue Line   & Faregate & Heavy Rail & 109.0 & 2020 & 2 & 13\\\\\n",
       "\\end{tabular}\n"
      ],
      "text/markdown": [
       "\n",
       "A data.frame: 6 × 11\n",
       "\n",
       "| <!--/--> | servicedate &lt;fct&gt; | halfhour &lt;fct&gt; | locationid &lt;int&gt; | stationname &lt;fct&gt; | route_or_line &lt;fct&gt; | noninteraction_type &lt;fct&gt; | ungated_type &lt;fct&gt; | rawtaps_split &lt;dbl&gt; | Year &lt;dbl&gt; | Month &lt;dbl&gt; | Day &lt;int&gt; |\n",
       "|---|---|---|---|---|---|---|---|---|---|---|---|\n",
       "| 1 | 2020-02-13 | 2020-02-13 19:30:00 | 1006 | Wollaston     | Red Line    | Faregate | Heavy Rail |  12.0 | 2020 | 2 | 13 |\n",
       "| 2 | 2020-02-13 | 2020-02-13 19:30:00 | 1007 | Quincy Center | Red Line    | Faregate | Heavy Rail |  60.0 | 2020 | 2 | 13 |\n",
       "| 3 | 2020-02-13 | 2020-02-13 19:30:00 | 1009 | South Station | Red Line    | Faregate | Heavy Rail | 364.7 | 2020 | 2 | 13 |\n",
       "| 4 | 2020-02-13 | 2020-02-13 19:30:00 | 2106 | Charles/MGH   | Red Line    | Faregate | Heavy Rail | 292.0 | 2020 | 2 | 13 |\n",
       "| 5 | 2020-02-13 | 2020-02-13 19:30:00 | 3007 | Assembly      | Orange Line | Faregate | Heavy Rail | 120.0 | 2020 | 2 | 13 |\n",
       "| 6 | 2020-02-13 | 2020-02-13 19:30:00 | 1010 | Maverick      | Blue Line   | Faregate | Heavy Rail | 109.0 | 2020 | 2 | 13 |\n",
       "\n"
      ],
      "text/plain": [
       "  servicedate halfhour            locationid stationname   route_or_line\n",
       "1 2020-02-13  2020-02-13 19:30:00 1006       Wollaston     Red Line     \n",
       "2 2020-02-13  2020-02-13 19:30:00 1007       Quincy Center Red Line     \n",
       "3 2020-02-13  2020-02-13 19:30:00 1009       South Station Red Line     \n",
       "4 2020-02-13  2020-02-13 19:30:00 2106       Charles/MGH   Red Line     \n",
       "5 2020-02-13  2020-02-13 19:30:00 3007       Assembly      Orange Line  \n",
       "6 2020-02-13  2020-02-13 19:30:00 1010       Maverick      Blue Line    \n",
       "  noninteraction_type ungated_type rawtaps_split Year Month Day\n",
       "1 Faregate            Heavy Rail    12.0         2020 2     13 \n",
       "2 Faregate            Heavy Rail    60.0         2020 2     13 \n",
       "3 Faregate            Heavy Rail   364.7         2020 2     13 \n",
       "4 Faregate            Heavy Rail   292.0         2020 2     13 \n",
       "5 Faregate            Heavy Rail   120.0         2020 2     13 \n",
       "6 Faregate            Heavy Rail   109.0         2020 2     13 "
      ]
     },
     "metadata": {},
     "output_type": "display_data"
    }
   ],
   "source": [
    "head(ridership)"
   ]
  },
  {
   "cell_type": "code",
   "execution_count": 3,
   "metadata": {},
   "outputs": [],
   "source": [
    "# Add time scale columns\n",
    "ridership$Year = year(ridership$servicedate)\n",
    "ridership$Month = month(ridership$servicedate)\n",
    "ridership$Day = day(ridership$servicedate)"
   ]
  },
  {
   "cell_type": "markdown",
   "metadata": {},
   "source": [
    "## Ridership analysis for a given year"
   ]
  },
  {
   "cell_type": "code",
   "execution_count": 23,
   "metadata": {},
   "outputs": [
    {
     "data": {
      "text/html": [
       "<strong>png:</strong> 2"
      ],
      "text/latex": [
       "\\textbf{png:} 2"
      ],
      "text/markdown": [
       "**png:** 2"
      ],
      "text/plain": [
       "png \n",
       "  2 "
      ]
     },
     "metadata": {},
     "output_type": "display_data"
    }
   ],
   "source": [
    "png(\"../../figures/ridership-time-series.png\",height= 1500,width=7000,res=360)\n",
    "ggplot(data=ridership, aes(x=as.Date(servicedate), y=rawtaps_split))+scale_x_date(date_labels = \"%Y %b\")+\n",
    " labs(title = \"Daily ridership time series\", y = \"Ridership\",x = \"Month\")+geom_line(color=\"#69b3a2\")+\n",
    " theme(axis.text=element_text(size=15),axis.title.x = element_text(size = 20),axis.title.y = element_text(size = 20),title= element_text(size = 20))+\n",
    " guides(fill=FALSE)\n",
    "dev.off()"
   ]
  },
  {
   "cell_type": "code",
   "execution_count": 46,
   "metadata": {},
   "outputs": [],
   "source": [
    "aggdata <- aggregate(ridership_origin$rawtaps_split,by=list(ridership_origin$Month),FUN=sum,na.rm=TRUE)"
   ]
  },
  {
   "cell_type": "code",
   "execution_count": 47,
   "metadata": {
    "collapsed": true,
    "jupyter": {
     "outputs_hidden": true
    }
   },
   "outputs": [
    {
     "data": {
      "text/html": [
       "<table>\n",
       "<caption>A data.frame: 12 × 2</caption>\n",
       "<thead>\n",
       "\t<tr><th scope=col>Group.1</th><th scope=col>x</th></tr>\n",
       "\t<tr><th scope=col>&lt;dbl&gt;</th><th scope=col>&lt;dbl&gt;</th></tr>\n",
       "</thead>\n",
       "<tbody>\n",
       "\t<tr><td> 1</td><td>11835636</td></tr>\n",
       "\t<tr><td> 2</td><td>11203308</td></tr>\n",
       "\t<tr><td> 3</td><td> 6098960</td></tr>\n",
       "\t<tr><td> 4</td><td> 1003722</td></tr>\n",
       "\t<tr><td> 5</td><td> 1146758</td></tr>\n",
       "\t<tr><td> 6</td><td> 1896473</td></tr>\n",
       "\t<tr><td> 7</td><td> 2651954</td></tr>\n",
       "\t<tr><td> 8</td><td> 2946578</td></tr>\n",
       "\t<tr><td> 9</td><td> 3478013</td></tr>\n",
       "\t<tr><td>10</td><td> 3600516</td></tr>\n",
       "\t<tr><td>11</td><td> 3062970</td></tr>\n",
       "\t<tr><td>12</td><td> 2757826</td></tr>\n",
       "</tbody>\n",
       "</table>\n"
      ],
      "text/latex": [
       "A data.frame: 12 × 2\n",
       "\\begin{tabular}{ll}\n",
       " Group.1 & x\\\\\n",
       " <dbl> & <dbl>\\\\\n",
       "\\hline\n",
       "\t  1 & 11835636\\\\\n",
       "\t  2 & 11203308\\\\\n",
       "\t  3 &  6098960\\\\\n",
       "\t  4 &  1003722\\\\\n",
       "\t  5 &  1146758\\\\\n",
       "\t  6 &  1896473\\\\\n",
       "\t  7 &  2651954\\\\\n",
       "\t  8 &  2946578\\\\\n",
       "\t  9 &  3478013\\\\\n",
       "\t 10 &  3600516\\\\\n",
       "\t 11 &  3062970\\\\\n",
       "\t 12 &  2757826\\\\\n",
       "\\end{tabular}\n"
      ],
      "text/markdown": [
       "\n",
       "A data.frame: 12 × 2\n",
       "\n",
       "| Group.1 &lt;dbl&gt; | x &lt;dbl&gt; |\n",
       "|---|---|\n",
       "|  1 | 11835636 |\n",
       "|  2 | 11203308 |\n",
       "|  3 |  6098960 |\n",
       "|  4 |  1003722 |\n",
       "|  5 |  1146758 |\n",
       "|  6 |  1896473 |\n",
       "|  7 |  2651954 |\n",
       "|  8 |  2946578 |\n",
       "|  9 |  3478013 |\n",
       "| 10 |  3600516 |\n",
       "| 11 |  3062970 |\n",
       "| 12 |  2757826 |\n",
       "\n"
      ],
      "text/plain": [
       "   Group.1 x       \n",
       "1   1      11835636\n",
       "2   2      11203308\n",
       "3   3       6098960\n",
       "4   4       1003722\n",
       "5   5       1146758\n",
       "6   6       1896473\n",
       "7   7       2651954\n",
       "8   8       2946578\n",
       "9   9       3478013\n",
       "10 10       3600516\n",
       "11 11       3062970\n",
       "12 12       2757826"
      ]
     },
     "metadata": {},
     "output_type": "display_data"
    }
   ],
   "source": [
    "aggdata"
   ]
  },
  {
   "cell_type": "code",
   "execution_count": 43,
   "metadata": {},
   "outputs": [],
   "source": [
    "ridership_origin = subset(ridership,ridership$Year == 2020,select = c(Year,Month,Day,route_or_line,servicedate,rawtaps_split))"
   ]
  },
  {
   "cell_type": "code",
   "execution_count": 37,
   "metadata": {},
   "outputs": [],
   "source": [
    "ridership_analysis = function(year){\n",
    "    ridership_origin = subset(ridership,ridership$Year == year,select = c(Year,Month,Day,route_or_line,servicedate,rawtaps_split))\n",
    "    ridership_month_average = tapply(ridership_origin$rawtaps_split,ridership_origin$Month,mean)\n",
    "    ridership_month_sum = tapply(ridership_origin$rawtaps_split,ridership_origin$Month,sum)\n",
    "    ridership_table = data.frame(month = c(1,2,3,4,5,6,7,8,9,10,11,12),ridership_month_average,ridership_month_sum)\n",
    "    # pLot monthly riership\n",
    "    p = ggplot(data=ridership_table, aes(x=factor(month), y=ridership_month_sum/1000000，fill=factor(month)))+ geom_bar(stat = \"identity\")+\n",
    "    labs(title = \"2020 total Monthly ridership \", y = \"Ridership (million)\",x = \"Month\")+\n",
    "    theme(axis.text=element_text(size=15),axis.title.x = element_text(size = 20),axis.title.y = element_text(size = 20),title= element_text(size = 20))+\n",
    "    guides(fill=FALSE)\n",
    "    return(p)\n",
    "}"
   ]
  },
  {
   "cell_type": "code",
   "execution_count": 29,
   "metadata": {
    "collapsed": true,
    "jupyter": {
     "outputs_hidden": true
    }
   },
   "outputs": [
    {
     "data": {
      "image/png": "[encoded data removed]",
      "text/plain": [
       "plot without title"
      ]
     },
     "metadata": {
      "image/png": {
       "height": 420,
       "width": 420
      },
      "text/plain": {
       "height": 420,
       "width": 420
      }
     },
     "output_type": "display_data"
    }
   ],
   "source": [
    "ridership_analysis(2019)"
   ]
  },
  {
   "cell_type": "code",
   "execution_count": 15,
   "metadata": {},
   "outputs": [
    {
     "ename": "ERROR",
     "evalue": "Error in eval(expr, envir, enclos): object 'ridership_table' not found\n",
     "output_type": "error",
     "traceback": [
      "Error in eval(expr, envir, enclos): object 'ridership_table' not found\nTraceback:\n"
     ]
    }
   ],
   "source": [
    "ridership_table"
   ]
  },
  {
   "cell_type": "code",
   "execution_count": 38,
   "metadata": {},
   "outputs": [
    {
     "data": {
      "text/html": [
       "<strong>png:</strong> 2"
      ],
      "text/latex": [
       "\\textbf{png:} 2"
      ],
      "text/markdown": [
       "**png:** 2"
      ],
      "text/plain": [
       "png \n",
       "  2 "
      ]
     },
     "metadata": {},
     "output_type": "display_data"
    }
   ],
   "source": [
    "png(\"../../figures/2020-monthly-ridership.png\",height= 1500,width=2000,res=360)\n",
    "ridership_analysis(2020)\n",
    "dev.off()"
   ]
  },
  {
   "cell_type": "code",
   "execution_count": null,
   "metadata": {},
   "outputs": [],
   "source": [
    "ggplot(data=ridership_table, aes(x=factor（month）, y=ridership_month_average，fill=factor(month)))+ geom_bar(stat = \"identity\")+\n",
    "    labs(title = \"Monthly average ridership \", y = \"Ridership\",x = \"Month\")+\n",
    "    theme(axis.text=element_text(size=15),axis.title.x = element_text(size = 20),axis.title.y = element_text(size = 20),title= element_text(size = 20))+\n",
    "    guides(fill=FALSE)"
   ]
  },
  {
   "cell_type": "code",
   "execution_count": null,
   "metadata": {},
   "outputs": [],
   "source": [
    "# Yearly/daily/hourly (not sure necessary or not)\n",
    "# Point:Ridership data could be used to define peak hour and off peak\n",
    "# Some metrics regarding ridership.(ridership/mile and ridership/hour)\n"
   ]
  }
 ],
 "metadata": {
  "kernelspec": {
   "display_name": "R",
   "language": "R",
   "name": "ir"
  },
  "language_info": {
   "codemirror_mode": "r",
   "file_extension": ".r",
   "mimetype": "text/x-r-source",
   "name": "R",
   "pygments_lexer": "r",
   "version": "3.6.2"
  }
 },
 "nbformat": 4,
 "nbformat_minor": 4
}
