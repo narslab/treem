{
 "cells": [
  {
   "cell_type": "code",
   "execution_count": 1,
   "metadata": {
    "collapsed": true,
    "jupyter": {
     "outputs_hidden": true
    }
   },
   "outputs": [
    {
     "name": "stderr",
     "output_type": "stream",
     "text": [
      "\n",
      "Attaching package: 'lubridate'\n",
      "\n",
      "\n",
      "The following object is masked from 'package:base':\n",
      "\n",
      "    date\n",
      "\n",
      "\n",
      "\n",
      "Attaching package: 'dplyr'\n",
      "\n",
      "\n",
      "The following objects are masked from 'package:lubridate':\n",
      "\n",
      "    intersect, setdiff, union\n",
      "\n",
      "\n",
      "The following objects are masked from 'package:stats':\n",
      "\n",
      "    filter, lag\n",
      "\n",
      "\n",
      "The following objects are masked from 'package:base':\n",
      "\n",
      "    intersect, setdiff, setequal, union\n",
      "\n",
      "\n"
     ]
    }
   ],
   "source": [
    "library(lubridate) # Extract month,year,day from date column\n",
    "library(dplyr) # subset function\n",
    "library(ggplot2)"
   ]
  },
  {
   "cell_type": "code",
   "execution_count": 2,
   "metadata": {},
   "outputs": [],
   "source": [
    "ridership = read.csv(\"../../data/raw/ridership-19-20.csv\")"
   ]
  },
  {
   "cell_type": "code",
   "execution_count": 3,
   "metadata": {
    "collapsed": true,
    "jupyter": {
     "outputs_hidden": true
    }
   },
   "outputs": [
    {
     "data": {
      "text/html": [
       "<table>\n",
       "<caption>A data.frame: 6 × 8</caption>\n",
       "<thead>\n",
       "\t<tr><th></th><th scope=col>servicedate</th><th scope=col>halfhour</th><th scope=col>locationid</th><th scope=col>stationname</th><th scope=col>route_or_line</th><th scope=col>noninteraction_type</th><th scope=col>ungated_type</th><th scope=col>rawtaps_split</th></tr>\n",
       "\t<tr><th></th><th scope=col>&lt;fct&gt;</th><th scope=col>&lt;fct&gt;</th><th scope=col>&lt;int&gt;</th><th scope=col>&lt;fct&gt;</th><th scope=col>&lt;fct&gt;</th><th scope=col>&lt;fct&gt;</th><th scope=col>&lt;fct&gt;</th><th scope=col>&lt;dbl&gt;</th></tr>\n",
       "</thead>\n",
       "<tbody>\n",
       "\t<tr><th scope=row>1</th><td>2020-02-13</td><td>2020-02-13 19:30:00</td><td>1006</td><td>Wollaston    </td><td>Red Line   </td><td>Faregate</td><td>Heavy Rail</td><td> 12.0</td></tr>\n",
       "\t<tr><th scope=row>2</th><td>2020-02-13</td><td>2020-02-13 19:30:00</td><td>1007</td><td>Quincy Center</td><td>Red Line   </td><td>Faregate</td><td>Heavy Rail</td><td> 60.0</td></tr>\n",
       "\t<tr><th scope=row>3</th><td>2020-02-13</td><td>2020-02-13 19:30:00</td><td>1009</td><td>South Station</td><td>Red Line   </td><td>Faregate</td><td>Heavy Rail</td><td>364.7</td></tr>\n",
       "\t<tr><th scope=row>4</th><td>2020-02-13</td><td>2020-02-13 19:30:00</td><td>2106</td><td>Charles/MGH  </td><td>Red Line   </td><td>Faregate</td><td>Heavy Rail</td><td>292.0</td></tr>\n",
       "\t<tr><th scope=row>5</th><td>2020-02-13</td><td>2020-02-13 19:30:00</td><td>3007</td><td>Assembly     </td><td>Orange Line</td><td>Faregate</td><td>Heavy Rail</td><td>120.0</td></tr>\n",
       "\t<tr><th scope=row>6</th><td>2020-02-13</td><td>2020-02-13 19:30:00</td><td>1010</td><td>Maverick     </td><td>Blue Line  </td><td>Faregate</td><td>Heavy Rail</td><td>109.0</td></tr>\n",
       "</tbody>\n",
       "</table>\n"
      ],
      "text/latex": [
       "A data.frame: 6 × 8\n",
       "\\begin{tabular}{r|llllllll}\n",
       "  & servicedate & halfhour & locationid & stationname & route\\_or\\_line & noninteraction\\_type & ungated\\_type & rawtaps\\_split\\\\\n",
       "  & <fct> & <fct> & <int> & <fct> & <fct> & <fct> & <fct> & <dbl>\\\\\n",
       "\\hline\n",
       "\t1 & 2020-02-13 & 2020-02-13 19:30:00 & 1006 & Wollaston     & Red Line    & Faregate & Heavy Rail &  12.0\\\\\n",
       "\t2 & 2020-02-13 & 2020-02-13 19:30:00 & 1007 & Quincy Center & Red Line    & Faregate & Heavy Rail &  60.0\\\\\n",
       "\t3 & 2020-02-13 & 2020-02-13 19:30:00 & 1009 & South Station & Red Line    & Faregate & Heavy Rail & 364.7\\\\\n",
       "\t4 & 2020-02-13 & 2020-02-13 19:30:00 & 2106 & Charles/MGH   & Red Line    & Faregate & Heavy Rail & 292.0\\\\\n",
       "\t5 & 2020-02-13 & 2020-02-13 19:30:00 & 3007 & Assembly      & Orange Line & Faregate & Heavy Rail & 120.0\\\\\n",
       "\t6 & 2020-02-13 & 2020-02-13 19:30:00 & 1010 & Maverick      & Blue Line   & Faregate & Heavy Rail & 109.0\\\\\n",
       "\\end{tabular}\n"
      ],
      "text/markdown": [
       "\n",
       "A data.frame: 6 × 8\n",
       "\n",
       "| <!--/--> | servicedate &lt;fct&gt; | halfhour &lt;fct&gt; | locationid &lt;int&gt; | stationname &lt;fct&gt; | route_or_line &lt;fct&gt; | noninteraction_type &lt;fct&gt; | ungated_type &lt;fct&gt; | rawtaps_split &lt;dbl&gt; |\n",
       "|---|---|---|---|---|---|---|---|---|\n",
       "| 1 | 2020-02-13 | 2020-02-13 19:30:00 | 1006 | Wollaston     | Red Line    | Faregate | Heavy Rail |  12.0 |\n",
       "| 2 | 2020-02-13 | 2020-02-13 19:30:00 | 1007 | Quincy Center | Red Line    | Faregate | Heavy Rail |  60.0 |\n",
       "| 3 | 2020-02-13 | 2020-02-13 19:30:00 | 1009 | South Station | Red Line    | Faregate | Heavy Rail | 364.7 |\n",
       "| 4 | 2020-02-13 | 2020-02-13 19:30:00 | 2106 | Charles/MGH   | Red Line    | Faregate | Heavy Rail | 292.0 |\n",
       "| 5 | 2020-02-13 | 2020-02-13 19:30:00 | 3007 | Assembly      | Orange Line | Faregate | Heavy Rail | 120.0 |\n",
       "| 6 | 2020-02-13 | 2020-02-13 19:30:00 | 1010 | Maverick      | Blue Line   | Faregate | Heavy Rail | 109.0 |\n",
       "\n"
      ],
      "text/plain": [
       "  servicedate halfhour            locationid stationname   route_or_line\n",
       "1 2020-02-13  2020-02-13 19:30:00 1006       Wollaston     Red Line     \n",
       "2 2020-02-13  2020-02-13 19:30:00 1007       Quincy Center Red Line     \n",
       "3 2020-02-13  2020-02-13 19:30:00 1009       South Station Red Line     \n",
       "4 2020-02-13  2020-02-13 19:30:00 2106       Charles/MGH   Red Line     \n",
       "5 2020-02-13  2020-02-13 19:30:00 3007       Assembly      Orange Line  \n",
       "6 2020-02-13  2020-02-13 19:30:00 1010       Maverick      Blue Line    \n",
       "  noninteraction_type ungated_type rawtaps_split\n",
       "1 Faregate            Heavy Rail    12.0        \n",
       "2 Faregate            Heavy Rail    60.0        \n",
       "3 Faregate            Heavy Rail   364.7        \n",
       "4 Faregate            Heavy Rail   292.0        \n",
       "5 Faregate            Heavy Rail   120.0        \n",
       "6 Faregate            Heavy Rail   109.0        "
      ]
     },
     "metadata": {},
     "output_type": "display_data"
    }
   ],
   "source": [
    "head(ridership)"
   ]
  },
  {
   "cell_type": "code",
   "execution_count": 4,
   "metadata": {},
   "outputs": [],
   "source": [
    "# Add time scale columns\n",
    "ridership$Year = year(ridership$servicedate)\n",
    "ridership$Month = month(ridership$servicedate)\n",
    "ridership$Day = day(ridership$servicedate)"
   ]
  },
  {
   "cell_type": "markdown",
   "metadata": {},
   "source": [
    "## Ridership analysis for a given year"
   ]
  },
  {
   "cell_type": "code",
   "execution_count": 37,
   "metadata": {
    "collapsed": true,
    "jupyter": {
     "outputs_hidden": true
    }
   },
   "outputs": [
    {
     "data": {
      "image/png": "[encoded data removed]",
      "text/plain": [
       "plot without title"
      ]
     },
     "metadata": {
      "image/png": {
       "height": 420,
       "width": 420
      },
      "text/plain": {
       "height": 420,
       "width": 420
      }
     },
     "output_type": "display_data"
    }
   ],
   "source": [
    "ggplot(data=ridership_table, aes(x=factor（month）, y=ridership_month_sum/1000000，fill=factor(month)))+ geom_bar(stat = \"identity\")+\n",
    " labs(title = \"Average monthly ridership \", y = \"Ridership (million)\",x = \"Month\")+\n",
    " theme(axis.text=element_text(size=15),axis.title.x = element_text(size = 20),axis.title.y = element_text(size = 20),title= element_text(size = 20))+\n",
    " guides(fill=FALSE)"
   ]
  },
  {
   "cell_type": "code",
   "execution_count": 62,
   "metadata": {},
   "outputs": [],
   "source": [
    "ridership_analysis = function(year){\n",
    "    ridership_origin = subset(ridership,ridership$Year == year,select = c(Year,Month,Day,route_or_line,servicedate,rawtaps_split))\n",
    "    ridership_month_average = tapply(ridership_origin$rawtaps_split,ridership_origin$Month,mean)\n",
    "    ridership_month_sum = tapply(ridership_origin$rawtaps_split,ridership_origin$Month,sum)\n",
    "    ridership_table = data.frame(month =  c(1,2,3,4,5,6,7,8,9,10,11,12),ridership_month_average,ridership_month_sum)\n",
    "    # pLot monthly riership\n",
    "    ggplot(data=ridership_table, aes(x=factor（month）, y=ridership_month_sum/1000000，fill=factor(month)))+ geom_bar(stat = \"identity\")+\n",
    "    labs(title = \"Monthly ridership \", y = \"Ridership (million)\",x = \"Month\")+\n",
    "    theme(axis.text=element_text(size=15),axis.title.x = element_text(size = 20),axis.title.y = element_text(size = 20),title= element_text(size = 20))+\n",
    "    guides(fill=FALSE)\n",
    "}"
   ]
  },
  {
   "cell_type": "code",
   "execution_count": 63,
   "metadata": {},
   "outputs": [
    {
     "data": {
      "image/png": "[encoded data removed]",
      "text/plain": [
       "plot without title"
      ]
     },
     "metadata": {
      "image/png": {
       "height": 420,
       "width": 420
      },
      "text/plain": {
       "height": 420,
       "width": 420
      }
     },
     "output_type": "display_data"
    }
   ],
   "source": [
    "ridership_analysis(2019)"
   ]
  },
  {
   "cell_type": "code",
   "execution_count": 64,
   "metadata": {},
   "outputs": [
    {
     "data": {
      "image/png": "[encoded data removed]",
      "text/plain": [
       "plot without title"
      ]
     },
     "metadata": {
      "image/png": {
       "height": 420,
       "width": 420
      },
      "text/plain": {
       "height": 420,
       "width": 420
      }
     },
     "output_type": "display_data"
    }
   ],
   "source": [
    "ridership_analysis(2020)"
   ]
  },
  {
   "cell_type": "code",
   "execution_count": null,
   "metadata": {},
   "outputs": [],
   "source": [
    "ggplot(data=ridership_table, aes(x=factor（month）, y=ridership_month_average，fill=factor(month)))+ geom_bar(stat = \"identity\")+\n",
    "    labs(title = \"Monthly average ridership \", y = \"Ridership\",x = \"Month\")+\n",
    "    theme(axis.text=element_text(size=15),axis.title.x = element_text(size = 20),axis.title.y = element_text(size = 20),title= element_text(size = 20))+\n",
    "    guides(fill=FALSE)"
   ]
  },
  {
   "cell_type": "code",
   "execution_count": null,
   "metadata": {},
   "outputs": [],
   "source": [
    "# Yearly/daily/hourly (not sure necessary or not)\n",
    "# Point:Ridership data could be used to define peak hour and off peak\n",
    "# Some metrics regarding ridership.(ridership/mile and ridership/hour)\n"
   ]
  }
 ],
 "metadata": {
  "kernelspec": {
   "display_name": "R",
   "language": "R",
   "name": "ir"
  },
  "language_info": {
   "codemirror_mode": "r",
   "file_extension": ".r",
   "mimetype": "text/x-r-source",
   "name": "R",
   "pygments_lexer": "r",
   "version": "3.6.2"
  }
 },
 "nbformat": 4,
 "nbformat_minor": 4
}
