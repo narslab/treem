{
 "cells": [
  {
   "cell_type": "code",
   "execution_count": 1,
   "metadata": {
    "collapsed": true,
    "jupyter": {
     "outputs_hidden": true
    }
   },
   "outputs": [
    {
     "name": "stderr",
     "output_type": "stream",
     "text": [
      "\n",
      "Attaching package: 'lubridate'\n",
      "\n",
      "\n",
      "The following object is masked from 'package:base':\n",
      "\n",
      "    date\n",
      "\n",
      "\n",
      "Warning message:\n",
      "\"package 'dplyr' was built under R version 3.6.3\"\n",
      "\n",
      "Attaching package: 'dplyr'\n",
      "\n",
      "\n",
      "The following objects are masked from 'package:lubridate':\n",
      "\n",
      "    intersect, setdiff, union\n",
      "\n",
      "\n",
      "The following objects are masked from 'package:stats':\n",
      "\n",
      "    filter, lag\n",
      "\n",
      "\n",
      "The following objects are masked from 'package:base':\n",
      "\n",
      "    intersect, setdiff, setequal, union\n",
      "\n",
      "\n",
      "Warning message:\n",
      "\"package 'ggplot2' was built under R version 3.6.3\"\n"
     ]
    }
   ],
   "source": [
    "library(lubridate) # Extract month,year,day from date column\n",
    "library(dplyr) # subset function\n",
    "library(ggplot2)"
   ]
  },
  {
   "cell_type": "code",
   "execution_count": 3,
   "metadata": {},
   "outputs": [],
   "source": [
    "ridership = read.csv(\"../../data/raw/ridership-2019-2020-.csv\")"
   ]
  },
  {
   "cell_type": "code",
   "execution_count": 16,
   "metadata": {},
   "outputs": [],
   "source": [
    "df_2020 = read.csv(\"../../data/raw/MBTA-2020-energy-consumption.csv\")"
   ]
  },
  {
   "cell_type": "code",
   "execution_count": 18,
   "metadata": {},
   "outputs": [
    {
     "data": {
      "text/html": [
       "<table class=\"dataframe\">\n",
       "<caption>A data.frame: 6 × 5</caption>\n",
       "<thead>\n",
       "\t<tr><th></th><th scope=col>ObjectName</th><th scope=col>Property</th><th scope=col>Timestamp</th><th scope=col>Value</th><th scope=col>Unit</th></tr>\n",
       "\t<tr><th></th><th scope=col>&lt;fct&gt;</th><th scope=col>&lt;fct&gt;</th><th scope=col>&lt;fct&gt;</th><th scope=col>&lt;dbl&gt;</th><th scope=col>&lt;fct&gt;</th></tr>\n",
       "</thead>\n",
       "<tbody>\n",
       "\t<tr><th scope=row>1</th><td>Park St Station</td><td>Demand Power 15 min</td><td>1/1/2020 0:00</td><td>171.840</td><td>kW</td></tr>\n",
       "\t<tr><th scope=row>2</th><td>Park St Station</td><td>Demand Power 15 min</td><td>1/1/2020 0:15</td><td>171.960</td><td>kW</td></tr>\n",
       "\t<tr><th scope=row>3</th><td>Park St Station</td><td>Demand Power 15 min</td><td>1/1/2020 0:30</td><td>174.456</td><td>kW</td></tr>\n",
       "\t<tr><th scope=row>4</th><td>Park St Station</td><td>Demand Power 15 min</td><td>1/1/2020 0:45</td><td>171.648</td><td>kW</td></tr>\n",
       "\t<tr><th scope=row>5</th><td>Park St Station</td><td>Demand Power 15 min</td><td>1/1/2020 1:00</td><td>168.816</td><td>kW</td></tr>\n",
       "\t<tr><th scope=row>6</th><td>Park St Station</td><td>Demand Power 15 min</td><td>1/1/2020 1:15</td><td>174.096</td><td>kW</td></tr>\n",
       "</tbody>\n",
       "</table>\n"
      ],
      "text/latex": [
       "A data.frame: 6 × 5\n",
       "\\begin{tabular}{r|lllll}\n",
       "  & ObjectName & Property & Timestamp & Value & Unit\\\\\n",
       "  & <fct> & <fct> & <fct> & <dbl> & <fct>\\\\\n",
       "\\hline\n",
       "\t1 & Park St Station & Demand Power 15 min & 1/1/2020 0:00 & 171.840 & kW\\\\\n",
       "\t2 & Park St Station & Demand Power 15 min & 1/1/2020 0:15 & 171.960 & kW\\\\\n",
       "\t3 & Park St Station & Demand Power 15 min & 1/1/2020 0:30 & 174.456 & kW\\\\\n",
       "\t4 & Park St Station & Demand Power 15 min & 1/1/2020 0:45 & 171.648 & kW\\\\\n",
       "\t5 & Park St Station & Demand Power 15 min & 1/1/2020 1:00 & 168.816 & kW\\\\\n",
       "\t6 & Park St Station & Demand Power 15 min & 1/1/2020 1:15 & 174.096 & kW\\\\\n",
       "\\end{tabular}\n"
      ],
      "text/markdown": [
       "\n",
       "A data.frame: 6 × 5\n",
       "\n",
       "| <!--/--> | ObjectName &lt;fct&gt; | Property &lt;fct&gt; | Timestamp &lt;fct&gt; | Value &lt;dbl&gt; | Unit &lt;fct&gt; |\n",
       "|---|---|---|---|---|---|\n",
       "| 1 | Park St Station | Demand Power 15 min | 1/1/2020 0:00 | 171.840 | kW |\n",
       "| 2 | Park St Station | Demand Power 15 min | 1/1/2020 0:15 | 171.960 | kW |\n",
       "| 3 | Park St Station | Demand Power 15 min | 1/1/2020 0:30 | 174.456 | kW |\n",
       "| 4 | Park St Station | Demand Power 15 min | 1/1/2020 0:45 | 171.648 | kW |\n",
       "| 5 | Park St Station | Demand Power 15 min | 1/1/2020 1:00 | 168.816 | kW |\n",
       "| 6 | Park St Station | Demand Power 15 min | 1/1/2020 1:15 | 174.096 | kW |\n",
       "\n"
      ],
      "text/plain": [
       "  ObjectName      Property            Timestamp     Value   Unit\n",
       "1 Park St Station Demand Power 15 min 1/1/2020 0:00 171.840 kW  \n",
       "2 Park St Station Demand Power 15 min 1/1/2020 0:15 171.960 kW  \n",
       "3 Park St Station Demand Power 15 min 1/1/2020 0:30 174.456 kW  \n",
       "4 Park St Station Demand Power 15 min 1/1/2020 0:45 171.648 kW  \n",
       "5 Park St Station Demand Power 15 min 1/1/2020 1:00 168.816 kW  \n",
       "6 Park St Station Demand Power 15 min 1/1/2020 1:15 174.096 kW  "
      ]
     },
     "metadata": {},
     "output_type": "display_data"
    }
   ],
   "source": [
    "head(df_2020)"
   ]
  },
  {
   "cell_type": "code",
   "execution_count": 15,
   "metadata": {
    "collapsed": true,
    "jupyter": {
     "outputs_hidden": true
    }
   },
   "outputs": [
    {
     "ename": "ERROR",
     "evalue": "Error in as.POSIXlt.character(x, tz, ...): character string is not in a standard unambiguous format\n",
     "output_type": "error",
     "traceback": [
      "Error in as.POSIXlt.character(x, tz, ...): character string is not in a standard unambiguous format\nTraceback:\n",
      "1. as.POSIXct(as.character(df_2020$Timestamp), tz = getOption(\"tz\"))",
      "2. as.POSIXct.default(as.character(df_2020$Timestamp), tz = getOption(\"tz\"))",
      "3. as.POSIXct(as.POSIXlt(x, tz, ...), tz, ...)",
      "4. as.POSIXlt(x, tz, ...)",
      "5. as.POSIXlt.character(x, tz, ...)",
      "6. stop(\"character string is not in a standard unambiguous format\")"
     ]
    }
   ],
   "source": [
    " options(tz = \"America/New_York\")\n",
    "df_2020$time = as.POSIXct(as.character(df_2020$Timestamp),tz = getOption(\"tz\"))"
   ]
  },
  {
   "cell_type": "code",
   "execution_count": 20,
   "metadata": {},
   "outputs": [
    {
     "data": {
      "text/html": [
       "49812113.94"
      ],
      "text/latex": [
       "49812113.94"
      ],
      "text/markdown": [
       "49812113.94"
      ],
      "text/plain": [
       "[1] 49812114"
      ]
     },
     "metadata": {},
     "output_type": "display_data"
    }
   ],
   "source": [
    "sum(df_2020$Value,na.rm =TRUE)"
   ]
  },
  {
   "cell_type": "code",
   "execution_count": 11,
   "metadata": {
    "collapsed": true,
    "jupyter": {
     "outputs_hidden": true
    }
   },
   "outputs": [
    {
     "ename": "ERROR",
     "evalue": "Error in as.POSIXlt.character(as.character(x), ...): character string is not in a standard unambiguous format\n",
     "output_type": "error",
     "traceback": [
      "Error in as.POSIXlt.character(as.character(x), ...): character string is not in a standard unambiguous format\nTraceback:\n",
      "1. year(df_2020$Timestamp)",
      "2. year.default(df_2020$Timestamp)",
      "3. as.POSIXlt(x, tz = tz(x))",
      "4. as.POSIXlt.factor(x, tz = tz(x))",
      "5. as.POSIXlt(as.character(x), ...)",
      "6. as.POSIXlt.character(as.character(x), ...)",
      "7. stop(\"character string is not in a standard unambiguous format\")"
     ]
    }
   ],
   "source": [
    "df_2020$Year = year(df_2020$Timestamp)\n",
    "df_2020$Month = month(df_2020$Timestamp)\n",
    "df_2020$Day = day(df_2020$Timestamp)"
   ]
  },
  {
   "cell_type": "code",
   "execution_count": 5,
   "metadata": {},
   "outputs": [],
   "source": [
    "# Add time scale columns\n",
    "ridership$Year = year(ridership$servicedate)\n",
    "ridership$Month = month(ridership$servicedate)\n",
    "ridership$Day = day(ridership$servicedate)"
   ]
  },
  {
   "cell_type": "markdown",
   "metadata": {},
   "source": [
    "## Ridership analysis for a given year"
   ]
  },
  {
   "cell_type": "code",
   "execution_count": 23,
   "metadata": {},
   "outputs": [
    {
     "data": {
      "text/html": [
       "<strong>png:</strong> 2"
      ],
      "text/latex": [
       "\\textbf{png:} 2"
      ],
      "text/markdown": [
       "**png:** 2"
      ],
      "text/plain": [
       "png \n",
       "  2 "
      ]
     },
     "metadata": {},
     "output_type": "display_data"
    }
   ],
   "source": [
    "png(\"../../figures/ridership-time-series.png\",height= 1500,width=7000,res=360)\n",
    "ggplot(data=ridership, aes(x=as.Date(servicedate), y=rawtaps_split))+scale_x_date(date_labels = \"%Y %b\")+\n",
    " labs(title = \"Daily ridership time series\", y = \"Ridership\",x = \"Month\")+geom_line(color=\"#69b3a2\")+\n",
    " theme(axis.text=element_text(size=15),axis.title.x = element_text(size = 20),axis.title.y = element_text(size = 20),title= element_text(size = 20))+\n",
    " guides(fill=FALSE)\n",
    "dev.off()"
   ]
  },
  {
   "cell_type": "code",
   "execution_count": 7,
   "metadata": {},
   "outputs": [],
   "source": [
    "aggdata <- aggregate(ridership$rawtaps_split,by=list(ridership$Year),FUN=sum,na.rm=TRUE)"
   ]
  },
  {
   "cell_type": "code",
   "execution_count": 8,
   "metadata": {},
   "outputs": [
    {
     "data": {
      "text/html": [
       "<table class=\"dataframe\">\n",
       "<caption>A data.frame: 2 × 2</caption>\n",
       "<thead>\n",
       "\t<tr><th scope=col>Group.1</th><th scope=col>x</th></tr>\n",
       "\t<tr><th scope=col>&lt;dbl&gt;</th><th scope=col>&lt;dbl&gt;</th></tr>\n",
       "</thead>\n",
       "<tbody>\n",
       "\t<tr><td>2019</td><td>151291530</td></tr>\n",
       "\t<tr><td>2020</td><td> 51731720</td></tr>\n",
       "</tbody>\n",
       "</table>\n"
      ],
      "text/latex": [
       "A data.frame: 2 × 2\n",
       "\\begin{tabular}{ll}\n",
       " Group.1 & x\\\\\n",
       " <dbl> & <dbl>\\\\\n",
       "\\hline\n",
       "\t 2019 & 151291530\\\\\n",
       "\t 2020 &  51731720\\\\\n",
       "\\end{tabular}\n"
      ],
      "text/markdown": [
       "\n",
       "A data.frame: 2 × 2\n",
       "\n",
       "| Group.1 &lt;dbl&gt; | x &lt;dbl&gt; |\n",
       "|---|---|\n",
       "| 2019 | 151291530 |\n",
       "| 2020 |  51731720 |\n",
       "\n"
      ],
      "text/plain": [
       "  Group.1 x        \n",
       "1 2019    151291530\n",
       "2 2020     51731720"
      ]
     },
     "metadata": {},
     "output_type": "display_data"
    }
   ],
   "source": [
    "aggdata"
   ]
  },
  {
   "cell_type": "code",
   "execution_count": 43,
   "metadata": {},
   "outputs": [],
   "source": [
    "ridership_origin = subset(ridership,ridership$Year == 2020,select = c(Year,Month,Day,route_or_line,servicedate,rawtaps_split))"
   ]
  },
  {
   "cell_type": "code",
   "execution_count": 37,
   "metadata": {},
   "outputs": [],
   "source": [
    "ridership_analysis = function(year){\n",
    "    ridership_origin = subset(ridership,ridership$Year == year,select = c(Year,Month,Day,route_or_line,servicedate,rawtaps_split))\n",
    "    ridership_month_average = tapply(ridership_origin$rawtaps_split,ridership_origin$Month,mean)\n",
    "    ridership_month_sum = tapply(ridership_origin$rawtaps_split,ridership_origin$Month,sum)\n",
    "    ridership_table = data.frame(month = c(1,2,3,4,5,6,7,8,9,10,11,12),ridership_month_average,ridership_month_sum)\n",
    "    # pLot monthly riership\n",
    "    p = ggplot(data=ridership_table, aes(x=factor(month), y=ridership_month_sum/1000000，fill=factor(month)))+ geom_bar(stat = \"identity\")+\n",
    "    labs(title = \"2020 total Monthly ridership \", y = \"Ridership (million)\",x = \"Month\")+\n",
    "    theme(axis.text=element_text(size=15),axis.title.x = element_text(size = 20),axis.title.y = element_text(size = 20),title= element_text(size = 20))+\n",
    "    guides(fill=FALSE)\n",
    "    return(p)\n",
    "}"
   ]
  },
  {
   "cell_type": "code",
   "execution_count": 29,
   "metadata": {
    "collapsed": true,
    "jupyter": {
     "outputs_hidden": true
    }
   },
   "outputs": [
    {
     "data": {
      "image/png": "[encoded data removed]",
      "text/plain": [
       "plot without title"
      ]
     },
     "metadata": {
      "image/png": {
       "height": 420,
       "width": 420
      },
      "text/plain": {
       "height": 420,
       "width": 420
      }
     },
     "output_type": "display_data"
    }
   ],
   "source": [
    "ridership_analysis(2019)"
   ]
  },
  {
   "cell_type": "code",
   "execution_count": 15,
   "metadata": {},
   "outputs": [
    {
     "ename": "ERROR",
     "evalue": "Error in eval(expr, envir, enclos): object 'ridership_table' not found\n",
     "output_type": "error",
     "traceback": [
      "Error in eval(expr, envir, enclos): object 'ridership_table' not found\nTraceback:\n"
     ]
    }
   ],
   "source": [
    "ridership_table"
   ]
  },
  {
   "cell_type": "code",
   "execution_count": 38,
   "metadata": {},
   "outputs": [
    {
     "data": {
      "text/html": [
       "<strong>png:</strong> 2"
      ],
      "text/latex": [
       "\\textbf{png:} 2"
      ],
      "text/markdown": [
       "**png:** 2"
      ],
      "text/plain": [
       "png \n",
       "  2 "
      ]
     },
     "metadata": {},
     "output_type": "display_data"
    }
   ],
   "source": [
    "png(\"../../figures/2020-monthly-ridership.png\",height= 1500,width=2000,res=360)\n",
    "ridership_analysis(2020)\n",
    "dev.off()"
   ]
  },
  {
   "cell_type": "code",
   "execution_count": null,
   "metadata": {},
   "outputs": [],
   "source": [
    "ggplot(data=ridership_table, aes(x=factor（month）, y=ridership_month_average，fill=factor(month)))+ geom_bar(stat = \"identity\")+\n",
    "    labs(title = \"Monthly average ridership \", y = \"Ridership\",x = \"Month\")+\n",
    "    theme(axis.text=element_text(size=15),axis.title.x = element_text(size = 20),axis.title.y = element_text(size = 20),title= element_text(size = 20))+\n",
    "    guides(fill=FALSE)"
   ]
  },
  {
   "cell_type": "code",
   "execution_count": null,
   "metadata": {},
   "outputs": [],
   "source": [
    "# Yearly/daily/hourly (not sure necessary or not)\n",
    "# Point:Ridership data could be used to define peak hour and off peak\n",
    "# Some metrics regarding ridership.(ridership/mile and ridership/hour)\n"
   ]
  }
 ],
 "metadata": {
  "kernelspec": {
   "display_name": "R",
   "language": "R",
   "name": "ir"
  },
  "language_info": {
   "codemirror_mode": "r",
   "file_extension": ".r",
   "mimetype": "text/x-r-source",
   "name": "R",
   "pygments_lexer": "r",
   "version": "3.6.2"
  }
 },
 "nbformat": 4,
 "nbformat_minor": 4
}
