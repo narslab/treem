{
 "cells": [
  {
   "cell_type": "code",
   "execution_count": 5,
   "metadata": {
    "collapsed": true,
    "jupyter": {
     "outputs_hidden": true
    }
   },
   "outputs": [
    {
     "name": "stderr",
     "output_type": "stream",
     "text": [
      "\n",
      "Attaching package: 'lubridate'\n",
      "\n",
      "\n",
      "The following object is masked from 'package:base':\n",
      "\n",
      "    date\n",
      "\n",
      "\n"
     ]
    }
   ],
   "source": [
    "# input necessary library\n",
    "library(lubridate)\n",
    "library(DBI) # DB connection"
   ]
  },
  {
   "cell_type": "markdown",
   "metadata": {},
   "source": [
    "## Ridership extraction "
   ]
  },
  {
   "cell_type": "code",
   "execution_count": null,
   "metadata": {},
   "outputs": [],
   "source": [
    "# Input the credential files for accessing database\n",
    "CERT = \"D:/MBTA/movement/postgresql/zhuohan.crt\"\n",
    "KEY = \"D:/MBTA/movement/postgresql/zhuohan.key\"\n",
    "ROOTCERT = \"D:/MBTA/movement/postgresql/root-ca.crt\"\n",
    "USER = \"zhuohan\"\n",
    "PASSWORD = \"5irmwhg382aae\""
   ]
  },
  {
   "cell_type": "code",
   "execution_count": 2,
   "metadata": {},
   "outputs": [],
   "source": [
    "# Ridership extraction from MBTA database\n",
    "con <- dbConnect(RPostgres::Postgres(), host=\"mbta01.mghpcc.org\", port=\"5432\", dbname = \"mbta_dw\",\n",
    "                     sslcert = CERT, sslkey = KEY, sslrootcert = ROOTCERT,\n",
    "                     sslmode=\"verify-full\", user = USER, password = PASSWORD)\n",
    "rs = dbSendQuery(con,statement = (\"SELECT * FROM ridership.tableau_r\"))\n",
    "df = dbFetch(rs, n = -1)"
   ]
  },
  {
   "cell_type": "markdown",
   "metadata": {},
   "source": [
    "## Basic analysis and experiments"
   ]
  },
  {
   "cell_type": "code",
   "execution_count": 36,
   "metadata": {},
   "outputs": [],
   "source": [
    "# Add time scale columns to filter the ridership in 2019 and 2020\n",
    "df$Year = year(df$servicedate)\n",
    "df$Month = month(df$servicedate)\n",
    "df$Day = day(df$servicedate)"
   ]
  },
  {
   "cell_type": "code",
   "execution_count": 47,
   "metadata": {},
   "outputs": [],
   "source": [
    "# Filter 2019 dataset\n",
    "ridership_19 = subset(df,df$Year == \"2019\",select=c(halfhour,route_or_line,rawtaps_split,Year,Month,Day))\n",
    "ridership_19 = ridership_19[-which(ridership_19$route_or_line == \"Bus\" | ridership_19$route_or_line == \"Silver Line\"),]"
   ]
  },
  {
   "cell_type": "code",
   "execution_count": 52,
   "metadata": {},
   "outputs": [
    {
     "name": "stderr",
     "output_type": "stream",
     "text": [
      "Warning message in ridership_20$route_or_line == \"Bus\" | ridership_19$route_or_line == :\n",
      "\"longer object length is not a multiple of shorter object length\"\n"
     ]
    }
   ],
   "source": [
    "ridership_20 = subset(df,df$Year == \"2020\",select=c(halfhour,route_or_line,rawtaps_split,Year,Month,Day))\n",
    "ridership_20 = ridership_20[-which(ridership_20$route_or_line == \"Bus\" | ridership_19$route_or_line == \"Silver Line\"),]"
   ]
  },
  {
   "cell_type": "code",
   "execution_count": 53,
   "metadata": {},
   "outputs": [
    {
     "data": {
      "text/html": [
       "<table>\n",
       "<caption>A data.frame: 6 × 6</caption>\n",
       "<thead>\n",
       "\t<tr><th></th><th scope=col>halfhour</th><th scope=col>route_or_line</th><th scope=col>rawtaps_split</th><th scope=col>Year</th><th scope=col>Month</th><th scope=col>Day</th></tr>\n",
       "\t<tr><th></th><th scope=col>&lt;dttm&gt;</th><th scope=col>&lt;chr&gt;</th><th scope=col>&lt;dbl&gt;</th><th scope=col>&lt;dbl&gt;</th><th scope=col>&lt;dbl&gt;</th><th scope=col>&lt;int&gt;</th></tr>\n",
       "</thead>\n",
       "<tbody>\n",
       "\t<tr><th scope=row>4534651</th><td>2020-02-13 19:30:00</td><td>Red Line   </td><td> 12.0</td><td>2020</td><td>2</td><td>13</td></tr>\n",
       "\t<tr><th scope=row>4534652</th><td>2020-02-13 19:30:00</td><td>Red Line   </td><td> 60.0</td><td>2020</td><td>2</td><td>13</td></tr>\n",
       "\t<tr><th scope=row>4534653</th><td>2020-02-13 19:30:00</td><td>Red Line   </td><td>364.7</td><td>2020</td><td>2</td><td>13</td></tr>\n",
       "\t<tr><th scope=row>4534654</th><td>2020-02-13 19:30:00</td><td>Silver Line</td><td>105.0</td><td>2020</td><td>2</td><td>13</td></tr>\n",
       "\t<tr><th scope=row>4534655</th><td>2020-02-13 19:30:00</td><td>Silver Line</td><td> 13.0</td><td>2020</td><td>2</td><td>13</td></tr>\n",
       "\t<tr><th scope=row>4534656</th><td>2020-02-13 19:30:00</td><td>Red Line   </td><td>292.0</td><td>2020</td><td>2</td><td>13</td></tr>\n",
       "</tbody>\n",
       "</table>\n"
      ],
      "text/latex": [
       "A data.frame: 6 × 6\n",
       "\\begin{tabular}{r|llllll}\n",
       "  & halfhour & route\\_or\\_line & rawtaps\\_split & Year & Month & Day\\\\\n",
       "  & <dttm> & <chr> & <dbl> & <dbl> & <dbl> & <int>\\\\\n",
       "\\hline\n",
       "\t4534651 & 2020-02-13 19:30:00 & Red Line    &  12.0 & 2020 & 2 & 13\\\\\n",
       "\t4534652 & 2020-02-13 19:30:00 & Red Line    &  60.0 & 2020 & 2 & 13\\\\\n",
       "\t4534653 & 2020-02-13 19:30:00 & Red Line    & 364.7 & 2020 & 2 & 13\\\\\n",
       "\t4534654 & 2020-02-13 19:30:00 & Silver Line & 105.0 & 2020 & 2 & 13\\\\\n",
       "\t4534655 & 2020-02-13 19:30:00 & Silver Line &  13.0 & 2020 & 2 & 13\\\\\n",
       "\t4534656 & 2020-02-13 19:30:00 & Red Line    & 292.0 & 2020 & 2 & 13\\\\\n",
       "\\end{tabular}\n"
      ],
      "text/markdown": [
       "\n",
       "A data.frame: 6 × 6\n",
       "\n",
       "| <!--/--> | halfhour &lt;dttm&gt; | route_or_line &lt;chr&gt; | rawtaps_split &lt;dbl&gt; | Year &lt;dbl&gt; | Month &lt;dbl&gt; | Day &lt;int&gt; |\n",
       "|---|---|---|---|---|---|---|\n",
       "| 4534651 | 2020-02-13 19:30:00 | Red Line    |  12.0 | 2020 | 2 | 13 |\n",
       "| 4534652 | 2020-02-13 19:30:00 | Red Line    |  60.0 | 2020 | 2 | 13 |\n",
       "| 4534653 | 2020-02-13 19:30:00 | Red Line    | 364.7 | 2020 | 2 | 13 |\n",
       "| 4534654 | 2020-02-13 19:30:00 | Silver Line | 105.0 | 2020 | 2 | 13 |\n",
       "| 4534655 | 2020-02-13 19:30:00 | Silver Line |  13.0 | 2020 | 2 | 13 |\n",
       "| 4534656 | 2020-02-13 19:30:00 | Red Line    | 292.0 | 2020 | 2 | 13 |\n",
       "\n"
      ],
      "text/plain": [
       "        halfhour            route_or_line rawtaps_split Year Month Day\n",
       "4534651 2020-02-13 19:30:00 Red Line       12.0         2020 2     13 \n",
       "4534652 2020-02-13 19:30:00 Red Line       60.0         2020 2     13 \n",
       "4534653 2020-02-13 19:30:00 Red Line      364.7         2020 2     13 \n",
       "4534654 2020-02-13 19:30:00 Silver Line   105.0         2020 2     13 \n",
       "4534655 2020-02-13 19:30:00 Silver Line    13.0         2020 2     13 \n",
       "4534656 2020-02-13 19:30:00 Red Line      292.0         2020 2     13 "
      ]
     },
     "metadata": {},
     "output_type": "display_data"
    }
   ],
   "source": [
    "head(ridership_20)"
   ]
  },
  {
   "cell_type": "code",
   "execution_count": null,
   "metadata": {},
   "outputs": [],
   "source": []
  }
 ],
 "metadata": {
  "kernelspec": {
   "display_name": "R",
   "language": "R",
   "name": "ir"
  },
  "language_info": {
   "codemirror_mode": "r",
   "file_extension": ".r",
   "mimetype": "text/x-r-source",
   "name": "R",
   "pygments_lexer": "r",
   "version": "3.6.2"
  }
 },
 "nbformat": 4,
 "nbformat_minor": 4
}
