{
 "cells": [
  {
   "cell_type": "code",
   "execution_count": 5,
   "metadata": {},
   "outputs": [],
   "source": [
    "library(DBI) # DB connection"
   ]
  },
  {
   "cell_type": "markdown",
   "metadata": {},
   "source": [
    "## Ridership extraction "
   ]
  },
  {
   "cell_type": "code",
   "execution_count": 6,
   "metadata": {},
   "outputs": [],
   "source": [
    "# Input the credential files for accessing database\n",
    "CERT = \"D:/MBTA/movement/postgresql/zhuohan.crt\"\n",
    "KEY = \"D:/MBTA/movement/postgresql/zhuohan.key\"\n",
    "ROOTCERT = \"D:/MBTA/movement/postgresql/root-ca.crt\"\n",
    "USER = \"zhuohan\"\n",
    "PASSWORD = \"5irmwhg382aae\""
   ]
  },
  {
   "cell_type": "code",
   "execution_count": 10,
   "metadata": {},
   "outputs": [],
   "source": [
    "# Ridership extraction from MBTA database\n",
    "con <- dbConnect(RPostgres::Postgres(), host=\"mbta01.mghpcc.org\", port=\"5432\", dbname = \"mbta_dw\",\n",
    "                     sslcert = CERT, sslkey = KEY, sslrootcert = ROOTCERT,\n",
    "                     sslmode=\"verify-full\", user = USER, password = PASSWORD)\n",
    "rs = dbSendQuery(con,statement = (\"SELECT * FROM ridership.tableau_r WHERE route_or_line \n",
    "                     NOT IN ('Bus', 'Silver Line') AND (servicedate >= '2019-01-01' AND servicedate <= '2020-12-31')\"))\n",
    "df = dbFetch(rs, n = -1)\n",
    "write.csv(df, file.path(\"../../data/raw/\", \"ridership-19-20.csv\"), row.names = FALSE)"
   ]
  }
 ],
 "metadata": {
  "kernelspec": {
   "display_name": "R",
   "language": "R",
   "name": "ir"
  },
  "language_info": {
   "codemirror_mode": "r",
   "file_extension": ".r",
   "mimetype": "text/x-r-source",
   "name": "R",
   "pygments_lexer": "r",
   "version": "3.6.2"
  }
 },
 "nbformat": 4,
 "nbformat_minor": 4
}
