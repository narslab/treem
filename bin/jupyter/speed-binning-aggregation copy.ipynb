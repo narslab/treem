{
 "cells": [
  {
   "cell_type": "code",
   "execution_count": 1,
   "metadata": {},
   "outputs": [
    {
     "data": {
      "text/html": [
       "81011630"
      ],
      "text/latex": [
       "81011630"
      ],
      "text/markdown": [
       "81011630"
      ],
      "text/plain": [
       "[1] 81011630"
      ]
     },
     "metadata": {},
     "output_type": "display_data"
    }
   ],
   "source": [
    "# adjust the R limit\n",
    "memory.limit(size= 81011630)"
   ]
  },
  {
   "cell_type": "code",
   "execution_count": 2,
   "metadata": {
    "collapsed": true,
    "jupyter": {
     "outputs_hidden": true
    }
   },
   "outputs": [
    {
     "name": "stderr",
     "output_type": "stream",
     "text": [
      "Warning message:\n",
      "\"package 'data.table' was built under R version 3.6.3\"\n",
      "\n",
      "Attaching package: 'lubridate'\n",
      "\n",
      "\n",
      "The following objects are masked from 'package:data.table':\n",
      "\n",
      "    hour, isoweek, mday, minute, month, quarter, second, wday, week,\n",
      "    yday, year\n",
      "\n",
      "\n",
      "The following object is masked from 'package:base':\n",
      "\n",
      "    date\n",
      "\n",
      "\n",
      "Warning message:\n",
      "\"package 'reshape2' was built under R version 3.6.3\"\n",
      "\n",
      "Attaching package: 'reshape2'\n",
      "\n",
      "\n",
      "The following objects are masked from 'package:data.table':\n",
      "\n",
      "    dcast, melt\n",
      "\n",
      "\n",
      "\n",
      "Attaching package: 'dplyr'\n",
      "\n",
      "\n",
      "The following objects are masked from 'package:lubridate':\n",
      "\n",
      "    intersect, setdiff, union\n",
      "\n",
      "\n",
      "The following objects are masked from 'package:data.table':\n",
      "\n",
      "    between, first, last\n",
      "\n",
      "\n",
      "The following objects are masked from 'package:stats':\n",
      "\n",
      "    filter, lag\n",
      "\n",
      "\n",
      "The following objects are masked from 'package:base':\n",
      "\n",
      "    intersect, setdiff, setequal, union\n",
      "\n",
      "\n"
     ]
    }
   ],
   "source": [
    "#necessary library\n",
    "library(data.table) #fread\n",
    "library(lubridate)\n",
    "library(reshape2)\n",
    "library(dplyr)\n",
    "library(scales)\n",
    "library(stringr)\n",
    "#library(tidyverse)"
   ]
  },
  {
   "cell_type": "markdown",
   "metadata": {},
   "source": [
    "## Bin speeds and aggregate table"
   ]
  },
  {
   "cell_type": "code",
   "execution_count": 2,
   "metadata": {
    "collapsed": true,
    "jupyter": {
     "outputs_hidden": true
    }
   },
   "outputs": [
    {
     "ename": "ERROR",
     "evalue": "Error: cannot allocate vector of size 1000.0 Mb\n",
     "output_type": "error",
     "traceback": [
      "Error: cannot allocate vector of size 1000.0 Mb\nTraceback:\n",
      "1. read.csv(\"../../data/tidy/MBTA-Train-Trajectories.csv\")",
      "2. read.table(file = file, header = header, sep = sep, quote = quote, \n .     dec = dec, fill = fill, comment.char = comment.char, ...)",
      "3. scan(file = file, what = what, sep = sep, quote = quote, dec = dec, \n .     nmax = nrows, skip = 0, na.strings = na.strings, quiet = TRUE, \n .     fill = fill, strip.white = strip.white, blank.lines.skip = blank.lines.skip, \n .     multi.line = FALSE, comment.char = comment.char, allowEscapes = allowEscapes, \n .     flush = flush, encoding = encoding, skipNul = skipNul)"
     ]
    }
   ],
   "source": [
    "interval_df = read.csv(\"../../data/tidy/train-trajectory-19.csv\")\n",
    "dc = fread(\"../../data/raw/energy-consumption-08-19.csv\") # Read in energy data"
   ]
  },
  {
   "cell_type": "code",
   "execution_count": 22,
   "metadata": {},
   "outputs": [],
   "source": [
    "# select random days\n",
    "set.seed(1234)\n",
    "sub = sample(1:nrow(interval_df),720)\n",
    "interval_df_test = interval_df[sub,]"
   ]
  },
  {
   "cell_type": "code",
   "execution_count": 9,
   "metadata": {},
   "outputs": [],
   "source": [
    "interval_df$speed_mph = interval_df$kph*0.621371 #kph to mph\n",
    "interval_df$distance_mile = interval_df$dist*0.000621371 #convert from meters to mile\n",
    "interval_df$time_hr = interval_df$timeinterval/3600.0 #convert from seconds to hour"
   ]
  },
  {
   "cell_type": "code",
   "execution_count": 10,
   "metadata": {},
   "outputs": [],
   "source": [
    "# Calculate the speed bins \n",
    "bin_speeds <- function (dataframe) {\n",
    "    dummy_cols = c(paste0(\"speed_bin_\",1:5,\"_dummy\"))\n",
    "    bin_time_cols = c(paste0(\"speed_bin_\",1:5,\"_time_hr\"))\n",
    "    testcuts <- quantile(dataframe$speed_mph,seq(0,1,.2),na.rm=TRUE) \n",
    "    print(paste0(\"The speed bins are: \", testcuts))\n",
    "    dataframe[, 'speed_bin_1_dummy' := sapply(speed_mph,  function(x) ifelse (x < testcuts[2], 1, 0))]\n",
    "    dataframe[, 'speed_bin_2_dummy' := sapply(speed_mph,  function(x) ifelse (x >= testcuts[2] & x < testcuts[3], 1, 0))]\n",
    "    dataframe[, 'speed_bin_3_dummy' := sapply(speed_mph,  function(x) ifelse (x >= testcuts[3] & x < testcuts[4], 1, 0))]\n",
    "    dataframe[, 'speed_bin_4_dummy' := sapply(speed_mph,  function(x) ifelse (x >= testcuts[4] & x < testcuts[5], 1, 0))]\n",
    "    dataframe[, 'speed_bin_5_dummy' := sapply(speed_mph,  function(x) ifelse (x >= testcuts[5], 1, 0))]\n",
    "    dataframe[, (bin_time_cols) := lapply(.SD, function(x) x * dataframe$time_hr ), .SDcols = dummy_cols]\n",
    "    print(paste0(\"Percentage error of summed speed bin times = \", round(100*(sum(colSums(dataframe[, bin_time_cols],na.rm=TRUE)) \n",
    "               - sum(dataframe$time_hr, na.rm=TRUE))/sum(dataframe$time_hr, na.rm=TRUE),2), \"%\"))                                                  \n",
    "    return(dataframe)\n",
    "}"
   ]
  },
  {
   "cell_type": "code",
   "execution_count": 11,
   "metadata": {},
   "outputs": [],
   "source": [
    "# Calculate the acceleration bins\n",
    "bin_accelerations <- function (dataframe) {\n",
    "    dummy_cols = c(paste0(\"accel_bin_\",1:5,\"_dummy\"))\n",
    "    bin_time_cols = c(paste0(\"speed_bin_\",1:5,\"_time_hr\"))\n",
    "    testcuts <- quantile(dataframe$acc,seq(0,1,.2),na.rm=TRUE) \n",
    "    print(paste0(\"The acceleration bins are: \", testcuts))\n",
    "    dataframe[, 'accel_bin_1_dummy' := sapply(acc,  function(x) ifelse (x < testcuts[2], 1, 0))]\n",
    "    dataframe[, 'accel_bin_2_dummy' := sapply(acc,  function(x) ifelse (x >= testcuts[2] & x < testcuts[3], 1, 0))]\n",
    "    dataframe[, 'accel_bin_3_dummy' := sapply(acc,  function(x) ifelse (x >= testcuts[3] & x < testcuts[4], 1, 0))]\n",
    "    dataframe[, 'accel_bin_4_dummy' := sapply(acc,  function(x) ifelse (x >= testcuts[4] & x < testcuts[5], 1, 0))]\n",
    "    dataframe[, 'accel_bin_5_dummy' := sapply(acc,  function(x) ifelse (x >= testcuts[5], 1, 0))]\n",
    "    dataframe[, (bin_time_cols) := lapply(.SD, function(x) x * dataframe$time_hr ), .SDcols = dummy_cols]\n",
    "    print(paste0(\"Percentage error of summed acceleration bin times = \", round(100*(sum(colSums(dataframe[, bin_time_cols ],na.rm=TRUE)) \n",
    "               - sum(dataframe$time_hr, na.rm=TRUE))/sum(dataframe$time_hr, na.rm=TRUE),2), \"%\"))                                                  \n",
    "    return(dataframe)\n",
    "}"
   ]
  },
  {
   "cell_type": "code",
   "execution_count": 12,
   "metadata": {},
   "outputs": [],
   "source": [
    "# Aggregate dataframe at hour level\n",
    "hour_aggregate <- function (dataframe) {\n",
    "    sum_cols = c(\"distance_mile\",\"time_hr\",paste0(\"speed_bin_\",1:5,\"_time_hr\"),paste0(\"accel_bin_\",1:5,\"_time_hr\"))\n",
    "    agg_df = dataframe[, lapply( .SD, sum , na.rm=TRUE), by = c('Month','Hour','Day'), .SDcols = sum_cols]\n",
    "    avg_interval_speed_mph_df = dataframe[, lapply( .SD, mean , na.rm=TRUE), by = c('Month','Hour','Day'), .SDcols = 'speed_mph']\n",
    "    agg_df[, 'avg_interval_speed_mph'] = avg_interval_speed_mph_df$speed_mph\n",
    "    agg_df[, 'avg_hour_speed_mph'] = agg_df$distance_mile/agg_df$time_hr\n",
    "    return(agg_df)\n",
    "}"
   ]
  },
  {
   "cell_type": "code",
   "execution_count": 13,
   "metadata": {},
   "outputs": [],
   "source": [
    "# Combine energy consumption data (MAKE THIS A FUNCTION)\n",
    "merge_energy <- function (hour_dt, energy_df) {    \n",
    "    # Melt by hour \n",
    "    melted_energy_df = melt(energy_df, id.vars=c('Year','Month', 'Day of Month','WJ','TAVG'),measure.vars = paste0(\"Hour \", 1:24))\n",
    "    colnames(melted_energy_df) = c('Year', 'Month', 'Day', 'WJ', 'TAVG', 'Hour', 'energy_kwh')\n",
    "    hour_energy_dt <- setDT(melted_energy_df)\n",
    "    hour_energy_dt[, Hour := str_replace(Hour, \"Hour \", \"\")]\n",
    "    hour_energy_dt$Hour = as.numeric(hour_energy_dt$Hour)\n",
    "    hour_energy_dt$Hour = hour_energy_dt$Hour - 1\n",
    "    merged_dt = merge(hour_dt, hour_energy_dt, all=T)\n",
    "    return(merged_dt)\n",
    "}"
   ]
  },
  {
   "cell_type": "markdown",
   "metadata": {},
   "source": [
    "## Computing the final table"
   ]
  },
  {
   "cell_type": "code",
   "execution_count": 14,
   "metadata": {},
   "outputs": [],
   "source": [
    "#df_test = subset(interval_df,interval_df$Month==4)\n",
    "energy2019 = subset(dc,dc$Year==2019)\n",
    "## WRITE df_final as a CSV.\n",
    "#write.csv(df_test_final, 'df_test_final_hour_agg_April.csv')"
   ]
  },
  {
   "cell_type": "code",
   "execution_count": 15,
   "metadata": {},
   "outputs": [],
   "source": [
    "main <- function (movements_df, energy_df) {\n",
    "    final_df <- movements_df %>% bin_speeds() %>% bin_accelerations() %>% hour_aggregate() %>% merge_energy(energy_df)\n",
    "    return(final_df)\n",
    "}"
   ]
  },
  {
   "cell_type": "code",
   "execution_count": null,
   "metadata": {},
   "outputs": [],
   "source": [
    "df_final = main(interval_df,energy2019)\n",
    "write.csv(df_final,\"../Data/tidy/system-model.csv\")"
   ]
  }
 ],
 "metadata": {
  "kernelspec": {
   "display_name": "R",
   "language": "R",
   "name": "ir"
  },
  "language_info": {
   "codemirror_mode": "r",
   "file_extension": ".r",
   "mimetype": "text/x-r-source",
   "name": "R",
   "pygments_lexer": "r",
   "version": "3.6.2"
  }
 },
 "nbformat": 4,
 "nbformat_minor": 4
}
