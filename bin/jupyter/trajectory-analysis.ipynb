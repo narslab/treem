{
 "cells": [
  {
   "cell_type": "markdown",
   "metadata": {},
   "source": [
    "# Trajectories analysis for each line\n",
    "## Plot trajectory,speed"
   ]
  },
  {
   "cell_type": "code",
   "execution_count": null,
   "metadata": {},
   "outputs": [],
   "source": [
    "library(data.table) #fread\n",
    "library(lubridate)\n",
    "library(reshape2)\n",
    "library(dplyr)\n",
    "library(scales)\n",
    "library(stringr)\n",
    "library(ggplot2)\n",
    "library(tidyverse)"
   ]
  },
  {
   "cell_type": "code",
   "execution_count": 1,
   "metadata": {},
   "outputs": [],
   "source": [
    "db = read.csv(\"../../data/tidy/MBTA-Train-Blue-Trajectories(2019).csv\")"
   ]
  },
  {
   "cell_type": "code",
   "execution_count": null,
   "metadata": {},
   "outputs": [],
   "source": [
    "# Read data\n",
    "dg = read.csv(\"../../data/tidy/MBTA-Train-Green-Trajectories(2019).csv\")\n",
    "db = read.csv(\"../../data/tidy/MBTA-Train-Blue-Trajectories(2019).csv\")\n",
    "do = read.csv(\"../../data/tidy/MBTA-Train-Orange-Trajectories(2019).csv\")\n",
    "dr = read.csv(\"../../data/tidy/MBTA-Train-Red-Trajectories(2019).csv\")"
   ]
  },
  {
   "cell_type": "code",
   "execution_count": 6,
   "metadata": {
    "collapsed": true,
    "jupyter": {
     "outputs_hidden": true
    }
   },
   "outputs": [
    {
     "ename": "ERROR",
     "evalue": "Error in eval(expr, envir, enclos): object 'mycolors' not found\n",
     "output_type": "error",
     "traceback": [
      "Error in eval(expr, envir, enclos): object 'mycolors' not found\nTraceback:\n"
     ]
    }
   ],
   "source": [
    "# Create color panel for plotting\n",
    "mycolors < -c(brewer.pal(4,\"Set1\"),brewer.pal(4, \"Paired\"),brewer.pal(4,\"Set2\"))"
   ]
  },
  {
   "cell_type": "code",
   "execution_count": 7,
   "metadata": {},
   "outputs": [
    {
     "data": {
      "text/html": [
       "249200"
      ],
      "text/latex": [
       "249200"
      ],
      "text/markdown": [
       "249200"
      ],
      "text/plain": [
       "[1] 249200"
      ]
     },
     "metadata": {},
     "output_type": "display_data"
    }
   ],
   "source": [
    "# adjust the R limit\n",
    "memory.limit(size=249200)"
   ]
  },
  {
   "cell_type": "markdown",
   "metadata": {},
   "source": [
    "# Basic calculation"
   ]
  },
  {
   "cell_type": "code",
   "execution_count": 26,
   "metadata": {},
   "outputs": [],
   "source": [
    "BS_calculation = function(db){\n",
    "# Calculate monthly distance\n",
    "Calculation_table = aggregate(as.numeric(db$dist,db$timeinterval),by = list(Month=db$Month),FUN=sum,na.rm=TRUE)\n",
    "names(Calculation_table)[names(Calculation_table) == \"x\"] <- \"Monthly distance\"\n",
    "Calculation_table$\"Monthly distance\" = Calculation_table$\"Monthly distance\"*0.000621371\n",
    "# Calculate monthly operating time\n",
    "dbt = aggregate(as.numeric(db$timeinterval),by = list(Month = db$Month),FUN=sum,na.rm=TRUE)\n",
    "Calculation_table$\"operating time\" = dbt$x\n",
    "# Calculate monthly average speed\n",
    "dbv = aggregate(as.numeric(db$kph,db$kph),by = list(Month = db$Month),FUN=mean,na.rm=TRUE)\n",
    "Calculation_table$\"average speed\" = dbv$x\n",
    "Calculation_table\n",
    "}"
   ]
  },
  {
   "cell_type": "code",
   "execution_count": 27,
   "metadata": {},
   "outputs": [],
   "source": [
    "Blue_BS_calculation = BS_calculation(db)"
   ]
  },
  {
   "cell_type": "code",
   "execution_count": null,
   "metadata": {},
   "outputs": [],
   "source": [
    "Blue_BS_calculation = BS_calculation(db)\n",
    "Red_BS_calculation = BS_calculation(dr)\n",
    "Orange_BS_calculation = BS_calculation(do)\n",
    "Green_BS_calculation = BS_calculation(dg)"
   ]
  },
  {
   "cell_type": "markdown",
   "metadata": {},
   "source": [
    "# Trajectory analysis"
   ]
  },
  {
   "cell_type": "code",
   "execution_count": 27,
   "metadata": {},
   "outputs": [
    {
     "data": {
      "text/html": [
       "<strong>png:</strong> 2"
      ],
      "text/latex": [
       "\\textbf{png:} 2"
      ],
      "text/markdown": [
       "**png:** 2"
      ],
      "text/plain": [
       "png \n",
       "  2 "
      ]
     },
     "metadata": {},
     "output_type": "display_data"
    },
    {
     "data": {
      "text/html": [
       "<strong>png:</strong> 2"
      ],
      "text/latex": [
       "\\textbf{png:} 2"
      ],
      "text/markdown": [
       "**png:** 2"
      ],
      "text/plain": [
       "png \n",
       "  2 "
      ]
     },
     "metadata": {},
     "output_type": "display_data"
    },
    {
     "data": {
      "text/html": [
       "<strong>png:</strong> 2"
      ],
      "text/latex": [
       "\\textbf{png:} 2"
      ],
      "text/markdown": [
       "**png:** 2"
      ],
      "text/plain": [
       "png \n",
       "  2 "
      ]
     },
     "metadata": {},
     "output_type": "display_data"
    }
   ],
   "source": [
    "# generate orange line distance trajectory\n",
    "# When output file please correct the file name (add the year)\n",
    "Trajectory_analysis = function(db){\n",
    "# choose one day\n",
    "btrainset = subset(db,db$Month == 1 & db$Day ==10,select=c(time,dist,trainid,kph))\n",
    "# choose 30 trains, before do this please apply \"range\" fucntion to the \"trainid\" column to find out the threshold\n",
    "btrainset = subset(btrainset,btrainset$trainid >= 1415219066 & btrainset$trainid <= 1415222776,select=c(time,dist,trainid,kph))\n",
    "btrainset$kph = as.numeric(as.character(btrainset$kph))\n",
    "# change the time column to datatime type for plot\n",
    "btrainset$hms <- strftime(btrainset$time, format = \"%H:%M:%OS\")\n",
    "btrainset$hms <- as.POSIXct(btrainset$hms, format = \"%H:%M:%OS\")\n",
    "btrainset$dist = as.numeric(as.character(btrainset$dist))\n",
    "# For clumative distance calculation we set the NA as 0\n",
    "btrainset[is.na(btrainset)] <- 0\n",
    "btrainset=btrainset %>%\n",
    "  group_by(trainid) %>%\n",
    "  mutate(cumdist = cumsum(dist))\n",
    "# plot the trajectory\n",
    "png(\"../Results/Train movement analysis plots/Blue line trajectory.png\",height= 1500,width=7000,res=360)\n",
    "ggplot(btrainset, aes(x=hms,y=cumdist*0.000621371,color=factor(trainid)))+\n",
    "       geom_line(data=btrainset,mapping=aes(x=hms,y=cumdist*0.000621371),size= 1,alpha=0.7)+\n",
    "       theme(axis.text=element_text(size=12),axis.title.x = element_text(size = 20),axis.title.y = element_text(size = 20),title= element_text(size = 20),axis.text.x = element_text(angle = 90, hjust = 1))+\n",
    "        #ylim(0, 1000)+\n",
    "        scale_x_datetime(breaks = \"1 hour\",labels=date_format(\"%H:%M\"))+\n",
    "        labs(title =\"Blue line distance trajectory\", y = \"Distance (mile)\", x = \"Time\"，col=\"Trainid\")+\n",
    "     guides(color=FALSE)   \n",
    "dev.off()\n",
    "png(\"../Results/Train movement analysis plots/Blue line Speed(2019).png\",height= 1500,width = 7000,res = 360)\n",
    "ggplot(btrainset, aes(x=hms,y=kph,color=factor(trainid)))+\n",
    "       geom_line(data = btrainset,mapping = aes(x = hms,y = kph*0.621371),size = 0.6,alpha = 0.4)+\n",
    "       theme(axis.text=element_text(size = 12),axis.title.x = element_text(size = 20),axis.title.y = element_text(size = 20),title= element_text(size = 20),axis.text.x = element_text(angle = 90, hjust = 1))+\n",
    "        #ylim(0, 70)+\n",
    "        scale_x_datetime(breaks = \"1 hour\",labels = date_format(\"%H:%M\"))+\n",
    "        labs(title =\"Blue line speed plot\", y = \"Speed (mph)\", x = \"Time\"，col=\"Trainid\")+\n",
    "      guides(color=FALSE)\n",
    "dev.off()\n",
    "png(\"../results/Train movement analysis plots/Blue line dist(2019).png\",height= 1000,width=7000,res=360)\n",
    "ggplot(btrainset, aes(x = hms,y = dist*0.000621371,color=factor(trainid)))+\n",
    "       geom_line(data = btrainset,mapping = aes(x = hms,y = dist),size = 0.6,alpha = 0.4)+\n",
    "       theme(axis.text.x = element_text(angle = 90, hjust = 1))+\n",
    "        #ylim(0,2500)+\n",
    "        scale_x_datetime(breaks = \"1 hour\",labels = date_format(\"%H:%M\"))+\n",
    "        labs(title = \"Blue line vehicle distance\", y = \"Distance (mile)\", x = \"Time\"，col = \"Trainid\")+\n",
    "        guides(color = FALSE)\n",
    "dev.off()\n",
    "    return(db)\n",
    "}"
   ]
  },
  {
   "cell_type": "code",
   "execution_count": null,
   "metadata": {},
   "outputs": [],
   "source": [
    "Blue_trajectory = Trajectory_analysis(db)\n",
    "Red_trajectory = Trajectory_analysis(dr)\n",
    "Orange_trajectory = Trajectory_analysis(do)\n",
    "Green_trajectory = Trajectory_analysis(dg)"
   ]
  }
 ],
 "metadata": {
  "kernelspec": {
   "display_name": "R",
   "language": "R",
   "name": "ir"
  },
  "language_info": {
   "codemirror_mode": "r",
   "file_extension": ".r",
   "mimetype": "text/x-r-source",
   "name": "R",
   "pygments_lexer": "r",
   "version": "4.0.3"
  }
 },
 "nbformat": 4,
 "nbformat_minor": 4
}
