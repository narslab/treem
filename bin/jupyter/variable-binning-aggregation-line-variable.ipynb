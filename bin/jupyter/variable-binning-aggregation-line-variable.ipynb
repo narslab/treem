{
 "cells": [
  {
   "cell_type": "code",
   "execution_count": 1,
   "metadata": {
    "collapsed": true,
    "jupyter": {
     "outputs_hidden": true,
     "source_hidden": true
    }
   },
   "outputs": [
    {
     "name": "stderr",
     "output_type": "stream",
     "text": [
      "Warning message:\n",
      "\"package 'data.table' was built under R version 3.6.3\"\n",
      "\n",
      "Attaching package: 'lubridate'\n",
      "\n",
      "\n",
      "The following objects are masked from 'package:data.table':\n",
      "\n",
      "    hour, isoweek, mday, minute, month, quarter, second, wday, week,\n",
      "    yday, year\n",
      "\n",
      "\n",
      "The following object is masked from 'package:base':\n",
      "\n",
      "    date\n",
      "\n",
      "\n",
      "Warning message:\n",
      "\"package 'reshape2' was built under R version 3.6.3\"\n",
      "\n",
      "Attaching package: 'reshape2'\n",
      "\n",
      "\n",
      "The following objects are masked from 'package:data.table':\n",
      "\n",
      "    dcast, melt\n",
      "\n",
      "\n",
      "Warning message:\n",
      "\"package 'dplyr' was built under R version 3.6.3\"\n",
      "\n",
      "Attaching package: 'dplyr'\n",
      "\n",
      "\n",
      "The following objects are masked from 'package:lubridate':\n",
      "\n",
      "    intersect, setdiff, union\n",
      "\n",
      "\n",
      "The following objects are masked from 'package:data.table':\n",
      "\n",
      "    between, first, last\n",
      "\n",
      "\n",
      "The following objects are masked from 'package:stats':\n",
      "\n",
      "    filter, lag\n",
      "\n",
      "\n",
      "The following objects are masked from 'package:base':\n",
      "\n",
      "    intersect, setdiff, setequal, union\n",
      "\n",
      "\n",
      "Warning message:\n",
      "\"package 'scales' was built under R version 3.6.3\"\n",
      "Warning message:\n",
      "\"package 'tidyr' was built under R version 3.6.3\"\n",
      "\n",
      "Attaching package: 'tidyr'\n",
      "\n",
      "\n",
      "The following object is masked from 'package:reshape2':\n",
      "\n",
      "    smiths\n",
      "\n",
      "\n"
     ]
    }
   ],
   "source": [
    "#necessary library\n",
    "library(data.table) #fread\n",
    "library(lubridate)\n",
    "library(reshape2)\n",
    "library(dplyr)\n",
    "library(scales)\n",
    "library(stringr)\n",
    "library(tidyr) # spread function\n",
    "#library(tidyverse)"
   ]
  },
  {
   "cell_type": "code",
   "execution_count": 2,
   "metadata": {},
   "outputs": [],
   "source": [
    "# Select the month you want to investigate\n",
    "YEARLIST =(\"19\")\n",
    "MONTHLIST = c(\"04\")\n",
    "DISTANCE_FILEPATH = \"F:/data/tidy/vehicle-trajectory-computation/\"\n",
    "#COMPUTATION_FILEPATH = \"../../data/tidy/\"\n",
    "energy_df = fread(\"F:/data/raw/energy-consumption-08-20.csv\") # Read in energy data\n",
    "d_ridership = fread(\"F:/data/raw/ridership-2019-2020.csv\")# Read in ridership data"
   ]
  },
  {
   "cell_type": "markdown",
   "metadata": {},
   "source": [
    "# Bin variables creation and aggregate table"
   ]
  },
  {
   "cell_type": "code",
   "execution_count": 4,
   "metadata": {},
   "outputs": [],
   "source": [
    "# aggregrate_trajectory_table\n",
    "line_aggregation = function(year,month){\n",
    "    assign(\"dg\",fread(paste0(DISTANCE_FILEPATH, paste(paste(\"green\", \"trajectory\", year, month, sep = \"-\", collapse = \"\"), \".csv\", sep=\"\"))))\n",
    "    assign(\"dh\",fread(paste0(DISTANCE_FILEPATH, paste(paste(\"heavy\", \"trajectory\", year, month, sep = \"-\", collapse = \"\"), \".csv\", sep=\"\"))))\n",
    "    dg$lineid = 4\n",
    "    dg = subset(dg, select = c(trxtime, year, month, day, lineid, lat, lon , speed_kph , accel_mps2 , interval_seconds , dist_meters , vehicleid))\n",
    "    dh = subset(dh, select = c(trxtime, year, month, day, lineid, lat, lon , speed_kph , accel_mps2 , interval_seconds , dist_meters , vehicleid))\n",
    "    df = rbind(dg, dh) \n",
    "    return(df)\n",
    "}"
   ]
  },
  {
   "cell_type": "code",
   "execution_count": 5,
   "metadata": {},
   "outputs": [],
   "source": [
    "df = line_aggregation(YEARLIST, MONTHLIST)"
   ]
  },
  {
   "cell_type": "code",
   "execution_count": 5,
   "metadata": {},
   "outputs": [],
   "source": [
    "# Unit conversion\n",
    "unit_transfer = function(df){\n",
    "   df$hour = hour(df$trxtime)\n",
    "   df$speed_mph = df$speed_kph*0.621371 #kph to mph\n",
    "   df$distance_mile = df$dist_meters*0.000621371 #convert from meters to mile\n",
    "   df$time_hr = df$interval_seconds/3600.0 #convert from seconds to hour\n",
    "  return(df)\n",
    "} "
   ]
  },
  {
   "cell_type": "code",
   "execution_count": null,
   "metadata": {},
   "outputs": [],
   "source": [
    "# lineid == 1: red\n",
    "# lineid ==2 : blue\n",
    "# lineid == 3 : orange\n",
    "# lineid == 4 : green"
   ]
  },
  {
   "cell_type": "code",
   "execution_count": 6,
   "metadata": {},
   "outputs": [],
   "source": [
    "df = unit_transfer(df)"
   ]
  },
  {
   "cell_type": "code",
   "execution_count": 9,
   "metadata": {
    "collapsed": true,
    "jupyter": {
     "outputs_hidden": true
    }
   },
   "outputs": [
    {
     "data": {
      "text/html": [
       "<table class=\"dataframe\">\n",
       "<caption>A data.table: 6 × 16</caption>\n",
       "<thead>\n",
       "\t<tr><th scope=col>trxtime</th><th scope=col>year</th><th scope=col>month</th><th scope=col>day</th><th scope=col>lineid</th><th scope=col>lat</th><th scope=col>lon</th><th scope=col>speed_kph</th><th scope=col>accel_mps2</th><th scope=col>interval_seconds</th><th scope=col>dist_meters</th><th scope=col>vehicleid</th><th scope=col>hour</th><th scope=col>speed_mph</th><th scope=col>distance_mile</th><th scope=col>time_hr</th></tr>\n",
       "\t<tr><th scope=col>&lt;chr&gt;</th><th scope=col>&lt;int&gt;</th><th scope=col>&lt;int&gt;</th><th scope=col>&lt;int&gt;</th><th scope=col>&lt;int&gt;</th><th scope=col>&lt;dbl&gt;</th><th scope=col>&lt;dbl&gt;</th><th scope=col>&lt;dbl&gt;</th><th scope=col>&lt;dbl&gt;</th><th scope=col>&lt;int&gt;</th><th scope=col>&lt;dbl&gt;</th><th scope=col>&lt;chr&gt;</th><th scope=col>&lt;int&gt;</th><th scope=col>&lt;dbl&gt;</th><th scope=col>&lt;dbl&gt;</th><th scope=col>&lt;dbl&gt;</th></tr>\n",
       "</thead>\n",
       "<tbody>\n",
       "\t<tr><td>2019-04-18 05:33:20</td><td>2019</td><td>4</td><td>18</td><td>4</td><td>42.33696</td><td>-71.25329</td><td> 8.0063442</td><td> 0.060549294</td><td>  12</td><td> 26.68781</td><td>  3653</td><td>5</td><td> 4.9749101</td><td>0.01658303</td><td>0.003333333</td></tr>\n",
       "\t<tr><td>2019-04-18 05:50:21</td><td>2019</td><td>4</td><td>18</td><td>4</td><td>42.33689</td><td>-71.25384</td><td> 0.1637829</td><td>-0.002133682</td><td>1021</td><td> 46.45064</td><td>  3653</td><td>5</td><td> 0.1017699</td><td>0.02886308</td><td>0.283611111</td></tr>\n",
       "\t<tr><td>2019-04-18 05:51:52</td><td>2019</td><td>4</td><td>18</td><td>4</td><td>42.33692</td><td>-71.25150</td><td> 7.6248225</td><td> 0.022774846</td><td>  91</td><td>192.73857</td><td>  3653</td><td>5</td><td> 4.7378436</td><td>0.11976216</td><td>0.025277778</td></tr>\n",
       "\t<tr><td>2019-04-18 05:52:04</td><td>2019</td><td>4</td><td>18</td><td>4</td><td>42.33666</td><td>-71.25081</td><td>19.2882000</td><td> 0.269985590</td><td>  12</td><td> 64.29400</td><td>  3653</td><td>5</td><td>11.9851281</td><td>0.03995043</td><td>0.003333333</td></tr>\n",
       "\t<tr><td>2019-04-18 07:25:46</td><td>2019</td><td>4</td><td>18</td><td>4</td><td>42.33506</td><td>-71.24777</td><td>43.9152862</td><td>-0.653300294</td><td>   5</td><td> 60.99345</td><td>  3653</td><td>7</td><td>27.2876853</td><td>0.03789956</td><td>0.001388889</td></tr>\n",
       "\t<tr><td>2019-04-18 07:25:53</td><td>2019</td><td>4</td><td>18</td><td>4</td><td>42.33443</td><td>-71.24654</td><td>63.6469734</td><td> 0.783003461</td><td>   7</td><td>123.75800</td><td>  3653</td><td>7</td><td>39.5483835</td><td>0.07689963</td><td>0.001944444</td></tr>\n",
       "</tbody>\n",
       "</table>\n"
      ],
      "text/latex": [
       "A data.table: 6 × 16\n",
       "\\begin{tabular}{llllllllllllllll}\n",
       " trxtime & year & month & day & lineid & lat & lon & speed\\_kph & accel\\_mps2 & interval\\_seconds & dist\\_meters & vehicleid & hour & speed\\_mph & distance\\_mile & time\\_hr\\\\\n",
       " <chr> & <int> & <int> & <int> & <int> & <dbl> & <dbl> & <dbl> & <dbl> & <int> & <dbl> & <chr> & <int> & <dbl> & <dbl> & <dbl>\\\\\n",
       "\\hline\n",
       "\t 2019-04-18 05:33:20 & 2019 & 4 & 18 & 4 & 42.33696 & -71.25329 &  8.0063442 &  0.060549294 &   12 &  26.68781 &   3653 & 5 &  4.9749101 & 0.01658303 & 0.003333333\\\\\n",
       "\t 2019-04-18 05:50:21 & 2019 & 4 & 18 & 4 & 42.33689 & -71.25384 &  0.1637829 & -0.002133682 & 1021 &  46.45064 &   3653 & 5 &  0.1017699 & 0.02886308 & 0.283611111\\\\\n",
       "\t 2019-04-18 05:51:52 & 2019 & 4 & 18 & 4 & 42.33692 & -71.25150 &  7.6248225 &  0.022774846 &   91 & 192.73857 &   3653 & 5 &  4.7378436 & 0.11976216 & 0.025277778\\\\\n",
       "\t 2019-04-18 05:52:04 & 2019 & 4 & 18 & 4 & 42.33666 & -71.25081 & 19.2882000 &  0.269985590 &   12 &  64.29400 &   3653 & 5 & 11.9851281 & 0.03995043 & 0.003333333\\\\\n",
       "\t 2019-04-18 07:25:46 & 2019 & 4 & 18 & 4 & 42.33506 & -71.24777 & 43.9152862 & -0.653300294 &    5 &  60.99345 &   3653 & 7 & 27.2876853 & 0.03789956 & 0.001388889\\\\\n",
       "\t 2019-04-18 07:25:53 & 2019 & 4 & 18 & 4 & 42.33443 & -71.24654 & 63.6469734 &  0.783003461 &    7 & 123.75800 &   3653 & 7 & 39.5483835 & 0.07689963 & 0.001944444\\\\\n",
       "\\end{tabular}\n"
      ],
      "text/markdown": [
       "\n",
       "A data.table: 6 × 16\n",
       "\n",
       "| trxtime &lt;chr&gt; | year &lt;int&gt; | month &lt;int&gt; | day &lt;int&gt; | lineid &lt;int&gt; | lat &lt;dbl&gt; | lon &lt;dbl&gt; | speed_kph &lt;dbl&gt; | accel_mps2 &lt;dbl&gt; | interval_seconds &lt;int&gt; | dist_meters &lt;dbl&gt; | vehicleid &lt;chr&gt; | hour &lt;int&gt; | speed_mph &lt;dbl&gt; | distance_mile &lt;dbl&gt; | time_hr &lt;dbl&gt; |\n",
       "|---|---|---|---|---|---|---|---|---|---|---|---|---|---|---|---|\n",
       "| 2019-04-18 05:33:20 | 2019 | 4 | 18 | 4 | 42.33696 | -71.25329 |  8.0063442 |  0.060549294 |   12 |  26.68781 |   3653 | 5 |  4.9749101 | 0.01658303 | 0.003333333 |\n",
       "| 2019-04-18 05:50:21 | 2019 | 4 | 18 | 4 | 42.33689 | -71.25384 |  0.1637829 | -0.002133682 | 1021 |  46.45064 |   3653 | 5 |  0.1017699 | 0.02886308 | 0.283611111 |\n",
       "| 2019-04-18 05:51:52 | 2019 | 4 | 18 | 4 | 42.33692 | -71.25150 |  7.6248225 |  0.022774846 |   91 | 192.73857 |   3653 | 5 |  4.7378436 | 0.11976216 | 0.025277778 |\n",
       "| 2019-04-18 05:52:04 | 2019 | 4 | 18 | 4 | 42.33666 | -71.25081 | 19.2882000 |  0.269985590 |   12 |  64.29400 |   3653 | 5 | 11.9851281 | 0.03995043 | 0.003333333 |\n",
       "| 2019-04-18 07:25:46 | 2019 | 4 | 18 | 4 | 42.33506 | -71.24777 | 43.9152862 | -0.653300294 |    5 |  60.99345 |   3653 | 7 | 27.2876853 | 0.03789956 | 0.001388889 |\n",
       "| 2019-04-18 07:25:53 | 2019 | 4 | 18 | 4 | 42.33443 | -71.24654 | 63.6469734 |  0.783003461 |    7 | 123.75800 |   3653 | 7 | 39.5483835 | 0.07689963 | 0.001944444 |\n",
       "\n"
      ],
      "text/plain": [
       "  trxtime             year month day lineid lat      lon       speed_kph \n",
       "1 2019-04-18 05:33:20 2019 4     18  4      42.33696 -71.25329  8.0063442\n",
       "2 2019-04-18 05:50:21 2019 4     18  4      42.33689 -71.25384  0.1637829\n",
       "3 2019-04-18 05:51:52 2019 4     18  4      42.33692 -71.25150  7.6248225\n",
       "4 2019-04-18 05:52:04 2019 4     18  4      42.33666 -71.25081 19.2882000\n",
       "5 2019-04-18 07:25:46 2019 4     18  4      42.33506 -71.24777 43.9152862\n",
       "6 2019-04-18 07:25:53 2019 4     18  4      42.33443 -71.24654 63.6469734\n",
       "  accel_mps2   interval_seconds dist_meters vehicleid hour speed_mph \n",
       "1  0.060549294   12              26.68781     3653    5     4.9749101\n",
       "2 -0.002133682 1021              46.45064     3653    5     0.1017699\n",
       "3  0.022774846   91             192.73857     3653    5     4.7378436\n",
       "4  0.269985590   12              64.29400     3653    5    11.9851281\n",
       "5 -0.653300294    5              60.99345     3653    7    27.2876853\n",
       "6  0.783003461    7             123.75800     3653    7    39.5483835\n",
       "  distance_mile time_hr    \n",
       "1 0.01658303    0.003333333\n",
       "2 0.02886308    0.283611111\n",
       "3 0.11976216    0.025277778\n",
       "4 0.03995043    0.003333333\n",
       "5 0.03789956    0.001388889\n",
       "6 0.07689963    0.001944444"
      ]
     },
     "metadata": {},
     "output_type": "display_data"
    }
   ],
   "source": [
    "head(df)"
   ]
  },
  {
   "cell_type": "code",
   "execution_count": 10,
   "metadata": {},
   "outputs": [
    {
     "name": "stdout",
     "output_type": "stream",
     "text": [
      "[1] 1\n",
      "[1] 2\n",
      "[1] 3\n",
      "[1] 4\n"
     ]
    }
   ],
   "source": [
    "# process for each line\n",
    "for (line in 1:4){\n",
    "    df = df[]\n",
    "#     df = df[lineid = line]\n",
    "}"
   ]
  },
  {
   "cell_type": "code",
   "execution_count": null,
   "metadata": {},
   "outputs": [],
   "source": [
    "df_green = df[lineid == 4]\n",
    "df_red = df[lineid == 1]\n",
    "df_blue = df[lineid == 2]\n",
    "df_orange = df[lineid == 3]"
   ]
  },
  {
   "cell_type": "code",
   "execution_count": 9,
   "metadata": {},
   "outputs": [],
   "source": [
    "# Calculate the speed bins \n",
    "bin_speeds <- function (dataframe, num_bins,lineid) {\n",
    "  dummy_cols = c(paste0(\"speed_bin_\",1:num_bins,\"_dummy\",\"_\",lineid))\n",
    "  bin_time_cols = c(paste0(\"speed_bin_\",1:num_bins,\"_time_hr\",\"_\",lineid))\n",
    "  cutpoints <- quantile(dataframe$speed_mph,seq(0, 1, 1/num_bins),na.rm=TRUE) \n",
    "  print(paste0(\"The speed bins are: \", cutpoints))\n",
    "  for(n in seq(1, num_bins)) {\n",
    "    if(n == 1){\n",
    "     dataframe[, dummy_cols[n] := sapply(speed_mph,  function(x) ifelse (x < cutpoints[n+1], 1, 0))]\n",
    "    }\n",
    "    else if (n == num_bins){\n",
    "     dataframe[, dummy_cols[n] := sapply(speed_mph,  function(x) ifelse (x >= cutpoints[num_bins], 1, 0))]\n",
    "    }\n",
    "    else {\n",
    "    dataframe[, dummy_cols[n] := sapply(speed_mph,  function(x) ifelse (x >= cutpoints[n] & x < cutpoints[n + 1], 1, 0))]\n",
    "    }\n",
    "  }\n",
    " dataframe[, (bin_time_cols) := lapply(.SD, function(x) x * dataframe$time_hr ), .SDcols = dummy_cols]\n",
    " print(paste0(\"Percentage error of summed speed bin times = \", \n",
    "              round(100*(sum(colSums(dataframe %>% select(starts_with(\"speed_bin_\") & ends_with(\"_time_hr\")),na.rm=TRUE)) \n",
    "                         - sum(dataframe$time_hr, na.rm=TRUE))/sum(dataframe$time_hr, na.rm=TRUE),2), \"%\"))\n",
    " return(dataframe) \n",
    "}"
   ]
  },
  {
   "cell_type": "code",
   "execution_count": 10,
   "metadata": {},
   "outputs": [],
   "source": [
    "# Calculate the acceleration bins \n",
    "bin_accelerations <- function (dataframe, num_bins) {\n",
    "  dummy_cols = c(paste0(\"accel_bin_\",1:num_bins,\"_dummy\"))\n",
    "  bin_time_cols = c(paste0(\"accel_bin_\",1:num_bins,\"_time_hr\"))\n",
    "  cutpoints <- quantile(dataframe$accel_mps2,seq(0, 1, 1/num_bins),na.rm=TRUE) \n",
    "  print(paste0(\"The acceleration bins are: \", cutpoints))\n",
    "  for(n in seq(1, num_bins)) {\n",
    "    if(n == 1){\n",
    "      dataframe[, dummy_cols[n] := sapply(accel_mps2,  function(x) ifelse (x < cutpoints[n+1], 1, 0))]\n",
    "    }\n",
    "    else if (n == num_bins){\n",
    "      dataframe[, dummy_cols[n] := sapply(accel_mps2,  function(x) ifelse (x >= cutpoints[num_bins], 1, 0))]\n",
    "    }\n",
    "    else {\n",
    "      dataframe[, dummy_cols[n] := sapply(accel_mps2,  function(x) ifelse (x >= cutpoints[n] & x < cutpoints[n + 1], 1, 0))]\n",
    "    }\n",
    "  }\n",
    "  dataframe[, (bin_time_cols) := lapply(.SD, function(x) x * dataframe$time_hr ), .SDcols = dummy_cols]\n",
    "  print(paste0(\"Percentage error of summed acceleration bin times = \", \n",
    "               round(100*(sum(colSums(dataframe %>% select(starts_with(\"accel_bin_\") & ends_with(\"_time_hr\")),na.rm=TRUE)) \n",
    "                          - sum(dataframe$time_hr, na.rm=TRUE))/sum(dataframe$time_hr, na.rm=TRUE),2), \"%\"))                                                  \n",
    "  return(dataframe)\n",
    "}"
   ]
  },
  {
   "cell_type": "code",
   "execution_count": 37,
   "metadata": {},
   "outputs": [],
   "source": [
    "# add speed-acceleration bin interaction terms\n",
    "bin_interaction_terms = function(df, num_speed_bins, num_accel_bins){\n",
    "    print(\"Computing speed-acceleration interaction times\")\n",
    "    dummy_interaction_cols = c()\n",
    "    for (i in seq(1, num_speed_bins)){\n",
    "        speed_dummy = paste0(\"speed_bin_\", i, \"_dummy\")\n",
    "        for (j in seq(1, num_accel_bins)){\n",
    "            # add interaction dummy variables\n",
    "            accel_dummy = paste0(\"accel_bin_\", j, \"_dummy\") \n",
    "            dummy_interaction_col = paste0(\"speed_bin_\", i, \"_\", \"accel_bin_\", j)\n",
    "            dummy_interaction_cols = c(dummy_interaction_cols, dummy_interaction_col) \n",
    "            print(dummy_interaction_cols)\n",
    "            #update list of interaction columns\n",
    "            set(df, j = dummy_interaction_col, value = df[[speed_dummy]]*df[[accel_dummy]])\n",
    "        }\n",
    "    }\n",
    "    df[, paste0(dummy_interaction_cols, \"_time_hr\") := lapply(.SD, function(x) x * df$time_hr ), .SDcols = dummy_interaction_cols]\n",
    "    print(\"Done\")\n",
    "    return(df)\n",
    "}"
   ]
  },
  {
   "cell_type": "code",
   "execution_count": 39,
   "metadata": {},
   "outputs": [],
   "source": [
    "# Aggregate dataframe at hour level\n",
    "hour_aggregate <- function (dataframe,num_bins) {\n",
    "    dataframe$month = as.character(dataframe$month)\n",
    "    dataframe$hour = as.character(dataframe$hour)\n",
    "    dataframe$day = as.character(dataframe$day)\n",
    "    # create another data table to summary the number of trains running in each hour\n",
    "    d_num_trains <- dataframe[, c(\"month\",'hour',\"day\",\"lineid\",\"vehicleid\")]\n",
    "    agg_d_num_trains = d_num_trains[, .(count = length(unique(vehicleid))), by = .(month,day,hour,lineid)]\n",
    "    agg_d_num_trains_wide = spread(agg_d_num_trains, lineid,count)\n",
    "   # interaction term name preparation for aggregating by hour\n",
    "    speed_name = paste0(\"speed_bin_\",1:num_bins)\n",
    "    accel_name = paste0(\"_\",\"accel_bin_\",1:num_bins,\"_time_hr\")\n",
    "    interaction_name = outer(speed_name,accel_name, paste, sep=\"\")\n",
    "    # aggregate by hour\n",
    "    sum_cols = c(\"distance_mile\",\"time_hr\",paste0(\"speed_bin_\",1:num_bins,\"_time_hr\"),paste0(\"accel_bin_\",1:num_bins,\"_time_hr\"),interaction_name)\n",
    "    agg_df = dataframe[, lapply( .SD, sum , na.rm=TRUE), by = c(\"year\",\"month\",'hour',\"day\"), .SDcols = sum_cols]\n",
    "    avg_interval_speed_mph_df = dataframe[, lapply( .SD, mean , na.rm=TRUE), by = c(\"year\",\"month\",\"hour\",\"day\"), .SDcols = 'speed_mph']\n",
    "    agg_df[, 'avg_interval_speed_mph'] = avg_interval_speed_mph_df$speed_mph\n",
    "    agg_df[, 'avg_hour_speed_mph'] = agg_df$distance_mile/agg_df$time_hr\n",
    "    merged_agg_df = merge(agg_d_num_trains_wide,agg_df,all=T) \n",
    "    return( merged_agg_df)\n",
    "}"
   ]
  },
  {
   "cell_type": "code",
   "execution_count": 81,
   "metadata": {
    "jupyter": {
     "source_hidden": true
    }
   },
   "outputs": [],
   "source": [
    "# Combine ridership data\n",
    "merge_ridership = function(merged_dt,d_ridership){\n",
    "   merged_dt$year = as.character(merged_dt$year)\n",
    "   d_ridership$year = as.character(year(d_ridership$servicedate))\n",
    "   d_ridership$month = as.character(month(d_ridership$servicedate))\n",
    "   d_ridership$day = as.character(day(d_ridership$servicedate))\n",
    "   d_ridership$hour = as.character(hour(d_ridership$halfhour))\n",
    "   d_ridership = d_ridership[,sum(rawtaps_split),by = .(year, month, day,hour)] \n",
    "   names(d_ridership)[names(d_ridership) == 'V1'] <- 'ridership'\n",
    "   merged_db = merge(merged_dt,d_ridership,by = c(\"year\",\"month\",\"day\",\"hour\"),all=F) \n",
    "   return(merged_db)\n",
    "}"
   ]
  },
  {
   "cell_type": "code",
   "execution_count": 85,
   "metadata": {
    "jupyter": {
     "source_hidden": true
    }
   },
   "outputs": [],
   "source": [
    "# Combine energy consumption data\n",
    "merge_energy <- function (energy_df,hour_dt) {\n",
    "    # Melt by hour \n",
    "    melted_energy_df = melt(energy_df, id.vars=c('Year','Month','Day of Month','WJ','TAVG'), measure.vars = paste0(\"Hour \",1:24))\n",
    "        colnames(melted_energy_df) = c('year', 'month', 'day', 'weekends', 'TAVG', 'Hour', 'energy_MWh')\n",
    "    hour_energy_dt <- setDT(melted_energy_df)\n",
    "    hour_energy_dt[, Hour := str_replace(Hour, \"Hour \", \"\")]\n",
    "    hour_energy_dt$Hour = as.numeric(hour_energy_dt$Hour)\n",
    "    hour_energy_dt$Hour = hour_energy_dt$Hour - 1\n",
    "    colnames(hour_energy_dt)[6] <- 'hour'\n",
    "    hour_energy_dt$year = as.character(hour_energy_dt$year)\n",
    "    hour_energy_dt$month = as.character(hour_energy_dt$month)\n",
    "    hour_energy_dt$day = as.character(hour_energy_dt$day)\n",
    "    hour_energy_dt$hour = as.character(hour_energy_dt$hour)\n",
    "    merged_dt = merge(hour_dt,hour_energy_dt,by = c(\"year\",\"month\",\"day\",\"hour\") , all = F)\n",
    "    return(merged_dt)\n",
    "}"
   ]
  },
  {
   "cell_type": "markdown",
   "metadata": {},
   "source": [
    "## Computing the final table"
   ]
  },
  {
   "cell_type": "code",
   "execution_count": 8,
   "metadata": {},
   "outputs": [],
   "source": [
    "main <- function (num_bins,energy_df,d_ridership,YEARLIST,MONTHLIST) {\n",
    "    for (y in YEARLIST) {\n",
    "        for (m in MONTHLIST) {\n",
    "             # Read the raw aggregation data\n",
    "             interval_df = line_aggregation(y,m)\n",
    "            # process for each line\n",
    "             interval_agg <- interval_df %>% unit_transfer（) %>% bin_speeds(num_bins) %>% \n",
    "             bin_accelerations(num_bins) %>% bin_interaction_terms(num_bins) %>% hour_aggregate(num_bins)\n",
    "             # merge with ridership\n",
    "             merge_ridership = merge_ridership(interval_agg,d_ridership)\n",
    "             # merge with energy table\n",
    "             merge_energy = merge_energy(energy_df, merge_ridership)\n",
    "             write.csv(merge_energy,file.path(paste0(COMPUTATION_FILEPATH, paste(paste(\"green\", \"trajectory\", \"aggregation\" , y, m , sep = \"-\", collapse = \"\"), \".csv\", sep=\"\"))))\n",
    "            }\n",
    "      }\n",
    "   \n",
    "}"
   ]
  },
  {
   "cell_type": "code",
   "execution_count": 9,
   "metadata": {
    "collapsed": true,
    "jupyter": {
     "outputs_hidden": true
    }
   },
   "outputs": [
    {
     "name": "stdout",
     "output_type": "stream",
     "text": [
      "   V1             trxtime trainid vehicleid routeid counter lineid      lat\n",
      "1:  1 2019-04-18 05:33:20   10001      3653       0   25599      4 42.33696\n",
      "2:  2 2019-04-18 05:50:21   10001      3653       0   27350      4 42.33689\n",
      "3:  3 2019-04-18 05:51:52   10001      3653       0   27585      4 42.33692\n",
      "4:  4 2019-04-18 05:52:04   10001      3653       0   27624      4 42.33666\n",
      "5:  5 2019-04-18 07:25:46   10002      3653     852   48005      4 42.33506\n",
      "6:  6 2019-04-18 07:25:53   10002      3653     852   48030      4 42.33443\n",
      "         lon servicetypeid sourceid car1 car2 car3 speed heading\n",
      "1: -71.25329             1        1 3653   NA   NA  1.97   25.19\n",
      "2: -71.25384             1        1 3653   NA   NA  6.09   24.92\n",
      "3: -71.25150             1        1 3653   NA   NA 15.29  123.31\n",
      "4: -71.25081             1        1 3653   NA   NA 20.47  124.89\n",
      "5: -71.24777             1        1 3653 3842   NA 33.42  124.03\n",
      "6: -71.24654             1        1 3653 3842   NA 33.57  123.81\n",
      "               rcvtime lastavi            inserted day month year\n",
      "1: 2019-04-18 05:33:20       0 2019-04-19 11:42:03  18     4 2019\n",
      "2: 2019-04-18 05:50:22       0 2019-04-19 11:42:03  18     4 2019\n",
      "3: 2019-04-18 05:51:52       0 2019-04-19 11:42:03  18     4 2019\n",
      "4: 2019-04-18 05:52:04       0 2019-04-19 11:42:03  18     4 2019\n",
      "5: 2019-04-18 07:25:47      34 2019-04-19 11:42:03  18     4 2019\n",
      "6: 2019-04-18 07:25:53      34 2019-04-19 11:42:03  18     4 2019\n",
      "                  time trajid interval_seconds dist_meters   speed_mps\n",
      "1: 2019-04-18 05:33:20      1               12    26.68781  2.22398449\n",
      "2: 2019-04-18 05:50:21      1             1021    46.45064  0.04549524\n",
      "3: 2019-04-18 05:51:52      1               91   192.73857  2.11800624\n",
      "4: 2019-04-18 05:52:04      1               12    64.29400  5.35783333\n",
      "5: 2019-04-18 07:25:46      2                5    60.99345 12.19869060\n",
      "6: 2019-04-18 07:25:53      2                7   123.75800 17.67971483\n",
      "    speed_kph   accel_mps2 cumdist_km cumtime_hrs\n",
      "1:  8.0063442  0.060549294 0.05364089 0.008333333\n",
      "2:  0.1637829 -0.002133682 0.10009153 0.291944444\n",
      "3:  7.6248225  0.022774846 0.29283009 0.317222222\n",
      "4: 19.2882000  0.269985590 0.35712409 0.320555556\n",
      "5: 43.9152862 -0.653300294 0.12285422 0.002500000\n",
      "6: 63.6469734  0.783003461 0.24661223 0.004444444\n",
      "   V1             trxtime trainid vehicleid routeid counter lineid      lat\n",
      "1:  1 2019-07-01 00:34:29   10001      3699       0    3487      4 42.33689\n",
      "2:  2 2019-07-01 00:48:14   10001      3699       0    4567      4 42.33680\n",
      "3:  3 2019-07-01 00:52:09   10001      3699       0    4808      4 42.33689\n",
      "4:  4 2019-07-01 00:57:45   10001      3699       0    5086      4 42.33680\n",
      "5:  5 2019-07-01 01:00:04   10001      3699       0    5202      4 42.33689\n",
      "6:  6 2019-07-01 01:00:28   10001      3699       0    5222      4 42.33680\n",
      "         lon servicetypeid sourceid car1 car2 car3 speed heading\n",
      "1: -71.25384             1        1 3699   NA   NA     0   26.25\n",
      "2: -71.25352             1        1 3699   NA   NA     0   26.25\n",
      "3: -71.25384             1        1 3699   NA   NA     0   26.25\n",
      "4: -71.25352             1        1 3699   NA   NA     0   26.25\n",
      "5: -71.25384             1        1 3699   NA   NA     0   26.25\n",
      "6: -71.25352             1        1 3699   NA   NA     0   26.25\n",
      "               rcvtime lastavi            inserted day month year\n",
      "1: 2019-07-01 00:34:30       0 2019-07-01 11:07:00   1     7 2019\n",
      "2: 2019-07-01 00:48:15       0 2019-07-01 11:07:00   1     7 2019\n",
      "3: 2019-07-01 00:52:09       0 2019-07-01 11:07:00   1     7 2019\n",
      "4: 2019-07-01 00:57:46       0 2019-07-01 11:07:00   1     7 2019\n",
      "5: 2019-07-01 01:00:05       0 2019-07-01 11:07:00   1     7 2019\n",
      "6: 2019-07-01 01:00:29       0 2019-07-01 11:07:00   1     7 2019\n",
      "                  time trajid interval_seconds dist_meters  speed_mps speed_kph\n",
      "1: 2019-07-01 00:34:29      1              594       28.65 0.04823233 0.1736364\n",
      "2: 2019-07-01 00:48:14      1              825       28.65 0.03472728 0.1250182\n",
      "3: 2019-07-01 00:52:09      1              235       28.65 0.12191491 0.4388937\n",
      "4: 2019-07-01 00:57:45      1              336       28.65 0.08526787 0.3069643\n",
      "5: 2019-07-01 01:00:04      1              139       28.65 0.20611513 0.7420145\n",
      "6: 2019-07-01 01:00:28      1               24       28.65 1.19375013 4.2975005\n",
      "      accel_mps2 cumdist_km cumtime_hrs\n",
      "1:  1.855982e-05 0.05730001   0.3788889\n",
      "2: -1.636976e-05 0.08595001   0.6080556\n",
      "3:  3.710112e-04 0.11460001   0.6733333\n",
      "4: -1.090686e-04 0.14325002   0.7666667\n",
      "5:  8.694048e-04 0.17190002   0.8052778\n",
      "6:  4.115146e-02 0.20055002   0.8119444\n"
     ]
    }
   ],
   "source": [
    "main(8,energy_df,d_ridership,YEARLIST,MONTHLIST)"
   ]
  }
 ],
 "metadata": {
  "kernelspec": {
   "display_name": "R",
   "language": "R",
   "name": "ir"
  },
  "language_info": {
   "codemirror_mode": "r",
   "file_extension": ".r",
   "mimetype": "text/x-r-source",
   "name": "R",
   "pygments_lexer": "r",
   "version": "3.6.2"
  }
 },
 "nbformat": 4,
 "nbformat_minor": 4
}
