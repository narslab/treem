{
 "cells": [
  {
   "cell_type": "code",
   "execution_count": 1,
   "metadata": {},
   "outputs": [
    {
     "data": {
      "text/html": [
       "81011630"
      ],
      "text/latex": [
       "81011630"
      ],
      "text/markdown": [
       "81011630"
      ],
      "text/plain": [
       "[1] 81011630"
      ]
     },
     "metadata": {},
     "output_type": "display_data"
    }
   ],
   "source": [
    "# adjust the R limit\n",
    "memory.limit(size= 81011630)"
   ]
  },
  {
   "cell_type": "code",
   "execution_count": 13,
   "metadata": {
    "collapsed": true,
    "jupyter": {
     "outputs_hidden": true
    }
   },
   "outputs": [
    {
     "name": "stderr",
     "output_type": "stream",
     "text": [
      "Warning message:\n",
      "\"package 'data.table' was built under R version 3.6.3\"\n",
      "\n",
      "Attaching package: 'lubridate'\n",
      "\n",
      "\n",
      "The following objects are masked from 'package:data.table':\n",
      "\n",
      "    hour, isoweek, mday, minute, month, quarter, second, wday, week,\n",
      "    yday, year\n",
      "\n",
      "\n",
      "The following object is masked from 'package:base':\n",
      "\n",
      "    date\n",
      "\n",
      "\n",
      "Warning message:\n",
      "\"package 'reshape2' was built under R version 3.6.3\"\n",
      "\n",
      "Attaching package: 'reshape2'\n",
      "\n",
      "\n",
      "The following objects are masked from 'package:data.table':\n",
      "\n",
      "    dcast, melt\n",
      "\n",
      "\n",
      "\n",
      "Attaching package: 'dplyr'\n",
      "\n",
      "\n",
      "The following objects are masked from 'package:lubridate':\n",
      "\n",
      "    intersect, setdiff, union\n",
      "\n",
      "\n",
      "The following objects are masked from 'package:data.table':\n",
      "\n",
      "    between, first, last\n",
      "\n",
      "\n",
      "The following objects are masked from 'package:stats':\n",
      "\n",
      "    filter, lag\n",
      "\n",
      "\n",
      "The following objects are masked from 'package:base':\n",
      "\n",
      "    intersect, setdiff, setequal, union\n",
      "\n",
      "\n"
     ]
    }
   ],
   "source": [
    "#necessary library\n",
    "library(data.table) #fread\n",
    "library(lubridate)\n",
    "library(reshape2)\n",
    "library(dplyr)\n",
    "library(scales)\n",
    "library(stringr)\n",
    "#library(tidyverse)"
   ]
  },
  {
   "cell_type": "markdown",
   "metadata": {},
   "source": [
    "## Bin speeds and aggregate table"
   ]
  },
  {
   "cell_type": "code",
   "execution_count": 2,
   "metadata": {
    "collapsed": true,
    "jupyter": {
     "outputs_hidden": true
    }
   },
   "outputs": [
    {
     "ename": "ERROR",
     "evalue": "Error: cannot allocate vector of size 1000.0 Mb\n",
     "output_type": "error",
     "traceback": [
      "Error: cannot allocate vector of size 1000.0 Mb\nTraceback:\n",
      "1. read.csv(\"../../data/tidy/MBTA-Train-Trajectories.csv\")",
      "2. read.table(file = file, header = header, sep = sep, quote = quote, \n .     dec = dec, fill = fill, comment.char = comment.char, ...)",
      "3. scan(file = file, what = what, sep = sep, quote = quote, dec = dec, \n .     nmax = nrows, skip = 0, na.strings = na.strings, quiet = TRUE, \n .     fill = fill, strip.white = strip.white, blank.lines.skip = blank.lines.skip, \n .     multi.line = FALSE, comment.char = comment.char, allowEscapes = allowEscapes, \n .     flush = flush, encoding = encoding, skipNul = skipNul)"
     ]
    }
   ],
   "source": [
    "interval_df = read.csv(\"../../data/tidy/train-trajectory-19.csv\")\n",
    "dc = fread(\"../../data/raw/energy-consumption-08-19.csv\") # Read in energy data"
   ]
  },
  {
   "cell_type": "code",
   "execution_count": 3,
   "metadata": {},
   "outputs": [],
   "source": [
    "interval_df = read.csv(\"../../data/raw/test.csv\")"
   ]
  },
  {
   "cell_type": "code",
   "execution_count": 22,
   "metadata": {},
   "outputs": [],
   "source": [
    "# select random days\n",
    "set.seed(1234)\n",
    "sub = sample(1:nrow(interval_df),720)\n",
    "interval_df_test = interval_df[sub,]"
   ]
  },
  {
   "cell_type": "code",
   "execution_count": 10,
   "metadata": {},
   "outputs": [],
   "source": [
    "# Unit conversion\n",
    "unit_transfer = function(df){\n",
    "   df$speed_mph = df$speed_kph*0.621371 #kph to mph\n",
    "   df$distance_mile = df$dist_meters*0.000621371 #convert from meters to mile\n",
    "   df$time_hr = df$interval_seconds/3600.0 #convert from seconds to hour\n",
    "  return(df)\n",
    "}    "
   ]
  },
  {
   "cell_type": "code",
   "execution_count": 11,
   "metadata": {},
   "outputs": [],
   "source": [
    "interval_df = unit_transfer(interval_df)"
   ]
  },
  {
   "cell_type": "code",
   "execution_count": 35,
   "metadata": {},
   "outputs": [],
   "source": [
    "interval_df = data.table(interval_df )"
   ]
  },
  {
   "cell_type": "code",
   "execution_count": 59,
   "metadata": {},
   "outputs": [
    {
     "data": {
      "text/html": [
       "<table>\n",
       "<caption>A data.table: 6 × 36</caption>\n",
       "<thead>\n",
       "\t<tr><th scope=col>trxtime</th><th scope=col>trainid</th><th scope=col>lineid</th><th scope=col>lat</th><th scope=col>lon</th><th scope=col>day</th><th scope=col>month</th><th scope=col>year</th><th scope=col>dist_meters</th><th scope=col>interval_seconds</th><th scope=col>...</th><th scope=col>accel_bin_1_dummy</th><th scope=col>accel_bin_2_dummy</th><th scope=col>accel_bin_3_dummy</th><th scope=col>accel_bin_4_dummy</th><th scope=col>accel_bin_5_dummy</th><th scope=col>accel_bin_1_time_hr</th><th scope=col>accel_bin_2_time_hr</th><th scope=col>accel_bin_3_time_hr</th><th scope=col>accel_bin_4_time_hr</th><th scope=col>accel_bin_5_time_hr</th></tr>\n",
       "\t<tr><th scope=col>&lt;fct&gt;</th><th scope=col>&lt;int&gt;</th><th scope=col>&lt;int&gt;</th><th scope=col>&lt;dbl&gt;</th><th scope=col>&lt;dbl&gt;</th><th scope=col>&lt;int&gt;</th><th scope=col>&lt;int&gt;</th><th scope=col>&lt;int&gt;</th><th scope=col>&lt;dbl&gt;</th><th scope=col>&lt;int&gt;</th><th scope=col>...</th><th scope=col>&lt;dbl&gt;</th><th scope=col>&lt;dbl&gt;</th><th scope=col>&lt;dbl&gt;</th><th scope=col>&lt;dbl&gt;</th><th scope=col>&lt;dbl&gt;</th><th scope=col>&lt;dbl&gt;</th><th scope=col>&lt;dbl&gt;</th><th scope=col>&lt;dbl&gt;</th><th scope=col>&lt;dbl&gt;</th><th scope=col>&lt;dbl&gt;</th></tr>\n",
       "</thead>\n",
       "<tbody>\n",
       "\t<tr><td>2019-01-01 04:00:00</td><td>10001</td><td>4</td><td>42.33701</td><td>-71.25349</td><td>1</td><td>1</td><td>2019</td><td>       NA</td><td>  NA</td><td>...</td><td>NA</td><td>NA</td><td>NA</td><td>NA</td><td>NA</td><td>NA</td><td>NA</td><td>        NA</td><td>         NA</td><td>NA</td></tr>\n",
       "\t<tr><td>2019-01-01 04:42:35</td><td>10001</td><td>4</td><td>42.33613</td><td>-71.25391</td><td>1</td><td>1</td><td>2019</td><td>104.64023</td><td>2555</td><td>...</td><td>NA</td><td>NA</td><td>NA</td><td>NA</td><td>NA</td><td>NA</td><td>NA</td><td>        NA</td><td>         NA</td><td>NA</td></tr>\n",
       "\t<tr><td>2019-01-01 04:45:05</td><td>10001</td><td>4</td><td>42.33603</td><td>-71.25436</td><td>1</td><td>1</td><td>2019</td><td> 38.35157</td><td> 150</td><td>...</td><td> 0</td><td> 0</td><td> 1</td><td> 0</td><td> 0</td><td> 0</td><td> 0</td><td>0.04166667</td><td>0.000000000</td><td> 0</td></tr>\n",
       "\t<tr><td>2019-01-01 05:49:31</td><td>10001</td><td>4</td><td>42.33613</td><td>-71.25391</td><td>1</td><td>1</td><td>2019</td><td> 38.35157</td><td>3866</td><td>...</td><td> 0</td><td> 0</td><td> 1</td><td> 0</td><td> 0</td><td> 0</td><td> 0</td><td>1.07388889</td><td>0.000000000</td><td> 0</td></tr>\n",
       "\t<tr><td>2019-01-01 05:49:42</td><td>10001</td><td>4</td><td>42.33635</td><td>-71.25379</td><td>1</td><td>1</td><td>2019</td><td> 26.23150</td><td>  11</td><td>...</td><td> 0</td><td> 0</td><td> 0</td><td> 1</td><td> 0</td><td> 0</td><td> 0</td><td>0.00000000</td><td>0.003055556</td><td> 0</td></tr>\n",
       "\t<tr><td>2019-01-01 06:19:33</td><td>10001</td><td>4</td><td>42.33658</td><td>-71.25367</td><td>1</td><td>1</td><td>2019</td><td> 28.08000</td><td>1791</td><td>...</td><td> 0</td><td> 0</td><td> 1</td><td> 0</td><td> 0</td><td> 0</td><td> 0</td><td>0.49750000</td><td>0.000000000</td><td> 0</td></tr>\n",
       "</tbody>\n",
       "</table>\n"
      ],
      "text/latex": [
       "A data.table: 6 × 36\n",
       "\\begin{tabular}{lllllllllllllllllllll}\n",
       " trxtime & trainid & lineid & lat & lon & day & month & year & dist\\_meters & interval\\_seconds & ... & accel\\_bin\\_1\\_dummy & accel\\_bin\\_2\\_dummy & accel\\_bin\\_3\\_dummy & accel\\_bin\\_4\\_dummy & accel\\_bin\\_5\\_dummy & accel\\_bin\\_1\\_time\\_hr & accel\\_bin\\_2\\_time\\_hr & accel\\_bin\\_3\\_time\\_hr & accel\\_bin\\_4\\_time\\_hr & accel\\_bin\\_5\\_time\\_hr\\\\\n",
       " <fct> & <int> & <int> & <dbl> & <dbl> & <int> & <int> & <int> & <dbl> & <int> & ... & <dbl> & <dbl> & <dbl> & <dbl> & <dbl> & <dbl> & <dbl> & <dbl> & <dbl> & <dbl>\\\\\n",
       "\\hline\n",
       "\t 2019-01-01 04:00:00 & 10001 & 4 & 42.33701 & -71.25349 & 1 & 1 & 2019 &        NA &   NA & ... & NA & NA & NA & NA & NA & NA & NA &         NA &          NA & NA\\\\\n",
       "\t 2019-01-01 04:42:35 & 10001 & 4 & 42.33613 & -71.25391 & 1 & 1 & 2019 & 104.64023 & 2555 & ... & NA & NA & NA & NA & NA & NA & NA &         NA &          NA & NA\\\\\n",
       "\t 2019-01-01 04:45:05 & 10001 & 4 & 42.33603 & -71.25436 & 1 & 1 & 2019 &  38.35157 &  150 & ... &  0 &  0 &  1 &  0 &  0 &  0 &  0 & 0.04166667 & 0.000000000 &  0\\\\\n",
       "\t 2019-01-01 05:49:31 & 10001 & 4 & 42.33613 & -71.25391 & 1 & 1 & 2019 &  38.35157 & 3866 & ... &  0 &  0 &  1 &  0 &  0 &  0 &  0 & 1.07388889 & 0.000000000 &  0\\\\\n",
       "\t 2019-01-01 05:49:42 & 10001 & 4 & 42.33635 & -71.25379 & 1 & 1 & 2019 &  26.23150 &   11 & ... &  0 &  0 &  0 &  1 &  0 &  0 &  0 & 0.00000000 & 0.003055556 &  0\\\\\n",
       "\t 2019-01-01 06:19:33 & 10001 & 4 & 42.33658 & -71.25367 & 1 & 1 & 2019 &  28.08000 & 1791 & ... &  0 &  0 &  1 &  0 &  0 &  0 &  0 & 0.49750000 & 0.000000000 &  0\\\\\n",
       "\\end{tabular}\n"
      ],
      "text/markdown": [
       "\n",
       "A data.table: 6 × 36\n",
       "\n",
       "| trxtime &lt;fct&gt; | trainid &lt;int&gt; | lineid &lt;int&gt; | lat &lt;dbl&gt; | lon &lt;dbl&gt; | day &lt;int&gt; | month &lt;int&gt; | year &lt;int&gt; | dist_meters &lt;dbl&gt; | interval_seconds &lt;int&gt; | ... ... | accel_bin_1_dummy &lt;dbl&gt; | accel_bin_2_dummy &lt;dbl&gt; | accel_bin_3_dummy &lt;dbl&gt; | accel_bin_4_dummy &lt;dbl&gt; | accel_bin_5_dummy &lt;dbl&gt; | accel_bin_1_time_hr &lt;dbl&gt; | accel_bin_2_time_hr &lt;dbl&gt; | accel_bin_3_time_hr &lt;dbl&gt; | accel_bin_4_time_hr &lt;dbl&gt; | accel_bin_5_time_hr &lt;dbl&gt; |\n",
       "|---|---|---|---|---|---|---|---|---|---|---|---|---|---|---|---|---|---|---|---|---|\n",
       "| 2019-01-01 04:00:00 | 10001 | 4 | 42.33701 | -71.25349 | 1 | 1 | 2019 |        NA |   NA | ... | NA | NA | NA | NA | NA | NA | NA |         NA |          NA | NA |\n",
       "| 2019-01-01 04:42:35 | 10001 | 4 | 42.33613 | -71.25391 | 1 | 1 | 2019 | 104.64023 | 2555 | ... | NA | NA | NA | NA | NA | NA | NA |         NA |          NA | NA |\n",
       "| 2019-01-01 04:45:05 | 10001 | 4 | 42.33603 | -71.25436 | 1 | 1 | 2019 |  38.35157 |  150 | ... |  0 |  0 |  1 |  0 |  0 |  0 |  0 | 0.04166667 | 0.000000000 |  0 |\n",
       "| 2019-01-01 05:49:31 | 10001 | 4 | 42.33613 | -71.25391 | 1 | 1 | 2019 |  38.35157 | 3866 | ... |  0 |  0 |  1 |  0 |  0 |  0 |  0 | 1.07388889 | 0.000000000 |  0 |\n",
       "| 2019-01-01 05:49:42 | 10001 | 4 | 42.33635 | -71.25379 | 1 | 1 | 2019 |  26.23150 |   11 | ... |  0 |  0 |  0 |  1 |  0 |  0 |  0 | 0.00000000 | 0.003055556 |  0 |\n",
       "| 2019-01-01 06:19:33 | 10001 | 4 | 42.33658 | -71.25367 | 1 | 1 | 2019 |  28.08000 | 1791 | ... |  0 |  0 |  1 |  0 |  0 |  0 |  0 | 0.49750000 | 0.000000000 |  0 |\n",
       "\n"
      ],
      "text/plain": [
       "  trxtime             trainid lineid lat      lon       day month year\n",
       "1 2019-01-01 04:00:00 10001   4      42.33701 -71.25349 1   1     2019\n",
       "2 2019-01-01 04:42:35 10001   4      42.33613 -71.25391 1   1     2019\n",
       "3 2019-01-01 04:45:05 10001   4      42.33603 -71.25436 1   1     2019\n",
       "4 2019-01-01 05:49:31 10001   4      42.33613 -71.25391 1   1     2019\n",
       "5 2019-01-01 05:49:42 10001   4      42.33635 -71.25379 1   1     2019\n",
       "6 2019-01-01 06:19:33 10001   4      42.33658 -71.25367 1   1     2019\n",
       "  dist_meters interval_seconds ... accel_bin_1_dummy accel_bin_2_dummy\n",
       "1        NA     NA             ... NA                NA               \n",
       "2 104.64023   2555             ... NA                NA               \n",
       "3  38.35157    150             ...  0                 0               \n",
       "4  38.35157   3866             ...  0                 0               \n",
       "5  26.23150     11             ...  0                 0               \n",
       "6  28.08000   1791             ...  0                 0               \n",
       "  accel_bin_3_dummy accel_bin_4_dummy accel_bin_5_dummy accel_bin_1_time_hr\n",
       "1 NA                NA                NA                NA                 \n",
       "2 NA                NA                NA                NA                 \n",
       "3  1                 0                 0                 0                 \n",
       "4  1                 0                 0                 0                 \n",
       "5  0                 1                 0                 0                 \n",
       "6  1                 0                 0                 0                 \n",
       "  accel_bin_2_time_hr accel_bin_3_time_hr accel_bin_4_time_hr\n",
       "1 NA                          NA                   NA        \n",
       "2 NA                          NA                   NA        \n",
       "3  0                  0.04166667          0.000000000        \n",
       "4  0                  1.07388889          0.000000000        \n",
       "5  0                  0.00000000          0.003055556        \n",
       "6  0                  0.49750000          0.000000000        \n",
       "  accel_bin_5_time_hr\n",
       "1 NA                 \n",
       "2 NA                 \n",
       "3  0                 \n",
       "4  0                 \n",
       "5  0                 \n",
       "6  0                 "
      ]
     },
     "metadata": {},
     "output_type": "display_data"
    }
   ],
   "source": [
    "head(interval_df)"
   ]
  },
  {
   "cell_type": "code",
   "execution_count": 53,
   "metadata": {},
   "outputs": [],
   "source": [
    "# Calculate the speed bins \n",
    "bin_speeds <- function (dataframe, num_bins) {\n",
    "  dummy_cols = c(paste0(\"speed_bin_\",1:num_bins,\"_dummy\"))\n",
    "  bin_time_cols = c(paste0(\"speed_bin_\",1:num_bins,\"_time_hr\"))\n",
    "  cutpoints <- quantile(dataframe$speed_mph,seq(0, 1, 1/num_bins),na.rm=TRUE) \n",
    "  print(paste0(\"The speed bins are: \", cutpoints))\n",
    "  for(n in seq(1, num_bins)) {\n",
    "    if(n == 1){\n",
    "     dataframe[, dummy_cols[n] := sapply(speed_mph,  function(x) ifelse (x < cutpoints[n+1], 1, 0))]\n",
    "    }\n",
    "    else if (n == num_bins){\n",
    "     dataframe[, dummy_cols[n] := sapply(speed_mph,  function(x) ifelse (x >= cutpoints[num_bins], 1, 0))]\n",
    "    }\n",
    "    else {\n",
    "    dataframe[, dummy_cols[n] := sapply(speed_mph,  function(x) ifelse (x >= cutpoints[n] & x < cutpoints[n + 1], 1, 0))]\n",
    "    }\n",
    "  }\n",
    "  dataframe[, bin_time_cols := lapply(.SD, function(x) x * dataframe$time_hr ), .SDcols = dummy_cols]\n",
    "  print(paste0(\"Percentage error of summed speed bin times = \", \n",
    "               round(100*(sum(colSums(dataframe[, bin_time_cols],na.rm=TRUE)) \n",
    "                          - sum(dataframe$time_hr, na.rm=TRUE))/sum(dataframe$time_hr, na.rm=TRUE),2), \"%\"))                                                  \n",
    "  return(dataframe, cutpoints)\n",
    "}"
   ]
  },
  {
   "cell_type": "code",
   "execution_count": 54,
   "metadata": {},
   "outputs": [
    {
     "name": "stdout",
     "output_type": "stream",
     "text": [
      "[1] \"The speed bins are: 0\"               \n",
      "[2] \"The speed bins are: 9.23266801722276\"\n",
      "[3] \"The speed bins are: 21.7523583954108\"\n",
      "[4] \"The speed bins are: 23.7228098677007\"\n",
      "[5] \"The speed bins are: 45.2297682434496\"\n",
      "[6] \"The speed bins are: 6079.42977146183\"\n"
     ]
    },
    {
     "ename": "ERROR",
     "evalue": "Error in `[.data.table`(dataframe, , `:=`(bin_time_cols, lapply(.SD, function(x) x * : Supplied 5 items to be assigned to 2000 items of column 'bin_time_cols'. If you wish to 'recycle' the RHS please use rep() to make this intent clear to readers of your code.\n",
     "output_type": "error",
     "traceback": [
      "Error in `[.data.table`(dataframe, , `:=`(bin_time_cols, lapply(.SD, function(x) x * : Supplied 5 items to be assigned to 2000 items of column 'bin_time_cols'. If you wish to 'recycle' the RHS please use rep() to make this intent clear to readers of your code.\nTraceback:\n",
      "1. bin_speeds(interval_df, 5)",
      "2. dataframe[, `:=`(bin_time_cols, lapply(.SD, function(x) x * dataframe$time_hr)), \n .     .SDcols = dummy_cols]   # at line 18 of file <text>",
      "3. `[.data.table`(dataframe, , `:=`(bin_time_cols, lapply(.SD, function(x) x * \n .     dataframe$time_hr)), .SDcols = dummy_cols)   # at line 18 of file <text>"
     ]
    }
   ],
   "source": [
    "bin_speeds(interval_df,5)"
   ]
  },
  {
   "cell_type": "code",
   "execution_count": 57,
   "metadata": {},
   "outputs": [
    {
     "name": "stdout",
     "output_type": "stream",
     "text": [
      "[1] \"The acceleration bins are: -437.187112719642\"  \n",
      "[2] \"The acceleration bins are: -0.759663458424666\" \n",
      "[3] \"The acceleration bins are: -0.0821155100901342\"\n",
      "[4] \"The acceleration bins are: 0.0707228569514413\" \n",
      "[5] \"The acceleration bins are: 1.41554942883802\"   \n",
      "[6] \"The acceleration bins are: 2695.87057916446\"   \n"
     ]
    },
    {
     "ename": "ERROR",
     "evalue": "Error in `[.data.table`(dataframe, , bin_time_cols): j (the 2nd argument inside [...]) is a single symbol but column name 'bin_time_cols' is not found. Perhaps you intended DT[, ..bin_time_cols]. This difference to data.frame is deliberate and explained in FAQ 1.1.\n",
     "output_type": "error",
     "traceback": [
      "Error in `[.data.table`(dataframe, , bin_time_cols): j (the 2nd argument inside [...]) is a single symbol but column name 'bin_time_cols' is not found. Perhaps you intended DT[, ..bin_time_cols]. This difference to data.frame is deliberate and explained in FAQ 1.1.\nTraceback:\n",
      "1. bin_accelerations(interval_df, 5)",
      "2. print(paste0(\"Percentage error of summed acceleration bin times = \", \n .     round(100 * (sum(colSums(dataframe[, bin_time_cols], na.rm = TRUE)) - \n .         sum(dataframe$time_hr, na.rm = TRUE))/sum(dataframe$time_hr, \n .         na.rm = TRUE), 2), \"%\"))   # at line 19-21 of file <text>",
      "3. paste0(\"Percentage error of summed acceleration bin times = \", \n .     round(100 * (sum(colSums(dataframe[, bin_time_cols], na.rm = TRUE)) - \n .         sum(dataframe$time_hr, na.rm = TRUE))/sum(dataframe$time_hr, \n .         na.rm = TRUE), 2), \"%\")   # at line 19-21 of file <text>",
      "4. colSums(dataframe[, bin_time_cols], na.rm = TRUE)   # at line 19-21 of file <text>",
      "5. is.data.frame(x)",
      "6. dataframe[, bin_time_cols]",
      "7. `[.data.table`(dataframe, , bin_time_cols)",
      "8. stop(\"j (the 2nd argument inside [...]) is a single symbol but column name '\", \n .     jsubChar, \"' is not found. Perhaps you intended DT[, ..\", \n .     jsubChar, \"]. This difference to data.frame is deliberate and explained in FAQ 1.1.\")"
     ]
    }
   ],
   "source": [
    "bin_accelerations(interval_df,5)"
   ]
  },
  {
   "cell_type": "code",
   "execution_count": 56,
   "metadata": {},
   "outputs": [],
   "source": [
    "# Calculate the acceleration bins \n",
    "bin_accelerations <- function (dataframe, num_bins) {\n",
    "  dummy_cols = c(paste0(\"accel_bin_\",1:num_bins,\"_dummy\"))\n",
    "  bin_time_cols = c(paste0(\"accel_bin_\",1:num_bins,\"_time_hr\"))\n",
    "  cutpoints <- quantile(dataframe$accel_mps2,seq(0, 1, 1/num_bins),na.rm=TRUE) \n",
    "  print(paste0(\"The acceleration bins are: \", cutpoints))\n",
    "  for(n in seq(1, num_bins)) {\n",
    "    if(n == 1){\n",
    "      dataframe[, dummy_cols[n] := sapply(accel_mps2,  function(x) ifelse (x < cutpoints[n+1], 1, 0))]\n",
    "    }\n",
    "    else if (n == num_bins){\n",
    "      dataframe[, dummy_cols[n] := sapply(accel_mps2,  function(x) ifelse (x >= cutpoints[num_bins], 1, 0))]\n",
    "    }\n",
    "    else {\n",
    "      dataframe[, dummy_cols[n] := sapply(accel_mps2,  function(x) ifelse (x >= cutpoints[n] & x < cutpoints[n + 1], 1, 0))]\n",
    "    }\n",
    "  }\n",
    "  dataframe[, (bin_time_cols) := lapply(.SD, function(x) x * dataframe$time_hr ), .SDcols = dummy_cols]\n",
    "  print(paste0(\"Percentage error of summed acceleration bin times = \", \n",
    "               round(100*(sum(colSums(dataframe[, bin_time_cols],na.rm=TRUE)) \n",
    "                          - sum(dataframe$time_hr, na.rm=TRUE))/sum(dataframe$time_hr, na.rm=TRUE),2), \"%\"))                                                  \n",
    "  return(dataframe, cutpoints)\n",
    "}"
   ]
  },
  {
   "cell_type": "code",
   "execution_count": 12,
   "metadata": {},
   "outputs": [],
   "source": [
    "# Aggregate dataframe at hour level\n",
    "hour_aggregate <- function (dataframe) {\n",
    "    sum_cols = c(\"distance_mile\",\"time_hr\",paste0(\"speed_bin_\",1:5,\"_time_hr\"),paste0(\"accel_bin_\",1:5,\"_time_hr\"))\n",
    "    agg_df = dataframe[, lapply( .SD, sum , na.rm=TRUE), by = c('Month','Hour','Day'), .SDcols = sum_cols]\n",
    "    avg_interval_speed_mph_df = dataframe[, lapply( .SD, mean , na.rm=TRUE), by = c('Month','Hour','Day'), .SDcols = 'speed_mph']\n",
    "    agg_df[, 'avg_interval_speed_mph'] = avg_interval_speed_mph_df$speed_mph\n",
    "    agg_df[, 'avg_hour_speed_mph'] = agg_df$distance_mile/agg_df$time_hr\n",
    "    return(agg_df)\n",
    "}"
   ]
  },
  {
   "cell_type": "code",
   "execution_count": 13,
   "metadata": {},
   "outputs": [],
   "source": [
    "# Combine energy consumption data\n",
    "merge_energy <- function (hour_dt, energy_df) {    \n",
    "    # Melt by hour \n",
    "    melted_energy_df = melt(energy_df, id.vars=c('Year','Month', 'Day of Month','WJ','TAVG'),measure.vars = paste0(\"Hour \", 1:24))\n",
    "    colnames(melted_energy_df) = c('Year', 'Month', 'Day', 'WJ', 'TAVG', 'Hour', 'energy_kwh')\n",
    "    hour_energy_dt <- setDT(melted_energy_df)\n",
    "    hour_energy_dt[, Hour := str_replace(Hour, \"Hour \", \"\")]\n",
    "    hour_energy_dt$Hour = as.numeric(hour_energy_dt$Hour)\n",
    "    hour_energy_dt$Hour = hour_energy_dt$Hour - 1\n",
    "    merged_dt = merge(hour_dt, hour_energy_dt, all=T)\n",
    "    return(merged_dt)\n",
    "}"
   ]
  },
  {
   "cell_type": "markdown",
   "metadata": {},
   "source": [
    "## Computing the final table"
   ]
  },
  {
   "cell_type": "code",
   "execution_count": 14,
   "metadata": {},
   "outputs": [],
   "source": [
    "# Select one year for enenrgy data extraction\n",
    "energy2019 = subset(dc,dc$Year==2019)"
   ]
  },
  {
   "cell_type": "code",
   "execution_count": 15,
   "metadata": {},
   "outputs": [],
   "source": [
    "main <- function (movements_df, energy_df) {\n",
    "    final_df <- movements_df %>% bin_speeds() %>% bin_accelerations() %>% hour_aggregate() %>% merge_energy(energy_df)\n",
    "    return(final_df)\n",
    "}"
   ]
  },
  {
   "cell_type": "code",
   "execution_count": null,
   "metadata": {},
   "outputs": [],
   "source": [
    "df_final = main(interval_df,energy2019)\n",
    "write.csv(df_final,\"../Data/tidy/system-model.csv\")"
   ]
  },
  {
   "cell_type": "markdown",
   "metadata": {},
   "source": [
    "# Experimental section"
   ]
  },
  {
   "cell_type": "code",
   "execution_count": null,
   "metadata": {},
   "outputs": [],
   "source": [
    "# # Calculate the acceleration bins\n",
    "# bin_accelerations <- function (dataframe) {\n",
    "#     dummy_cols = c(paste0(\"accel_bin_\",1:5,\"_dummy\"))\n",
    "#     bin_time_cols = c(paste0(\"speed_bin_\",1:5,\"_time_hr\"))\n",
    "#     cutpoints  <- quantile(dataframe$accel_mps2,seq(0,1,.2),na.rm=TRUE) \n",
    "#     print(paste0(\"The acceleration bins are: \", testcuts))\n",
    "#     dataframe[, 'accel_bin_1_dummy' := sapply(accel_mps2,  function(x) ifelse (x < testcuts[2], 1, 0))]\n",
    "#     dataframe[, 'accel_bin_2_dummy' := sapply(accel_mps2,  function(x) ifelse (x >= testcuts[2] & x < testcuts[3], 1, 0))]\n",
    "#     dataframe[, 'accel_bin_3_dummy' := sapply(accel_mps2,  function(x) ifelse (x >= testcuts[3] & x < testcuts[4], 1, 0))]\n",
    "#     dataframe[, 'accel_bin_4_dummy' := sapply(accel_mps2,  function(x) ifelse (x >= testcuts[4] & x < testcuts[5], 1, 0))]\n",
    "#     dataframe[, 'accel_bin_5_dummy' := sapply(accel_mps2,  function(x) ifelse (x >= testcuts[5], 1, 0))]\n",
    "#     dataframe[, (bin_time_cols) := lapply(.SD, function(x) x * dataframe$time_hr ), .SDcols = dummy_cols]\n",
    "#     print(paste0(\"Percentage error of summed acceleration bin times = \", round(100*(sum(colSums(dataframe[, bin_time_cols ],na.rm=TRUE)) \n",
    "#                - sum(dataframe$time_hr, na.rm=TRUE))/sum(dataframe$time_hr, na.rm=TRUE),2), \"%\"))                                                  \n",
    "#     return(dataframe)\n",
    "# }"
   ]
  }
 ],
 "metadata": {
  "kernelspec": {
   "display_name": "R",
   "language": "R",
   "name": "ir"
  },
  "language_info": {
   "codemirror_mode": "r",
   "file_extension": ".r",
   "mimetype": "text/x-r-source",
   "name": "R",
   "pygments_lexer": "r",
   "version": "3.6.2"
  }
 },
 "nbformat": 4,
 "nbformat_minor": 4
}
