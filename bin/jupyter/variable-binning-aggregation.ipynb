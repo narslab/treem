{
 "cells": [
  {
   "cell_type": "code",
   "execution_count": 1,
   "metadata": {},
   "outputs": [
    {
     "data": {
      "text/html": [
       "81011630"
      ],
      "text/latex": [
       "81011630"
      ],
      "text/markdown": [
       "81011630"
      ],
      "text/plain": [
       "[1] 81011630"
      ]
     },
     "metadata": {},
     "output_type": "display_data"
    }
   ],
   "source": [
    "# adjust the R limit\n",
    "memory.limit(size= 81011630)"
   ]
  },
  {
   "cell_type": "code",
   "execution_count": 22,
   "metadata": {
    "collapsed": true,
    "jupyter": {
     "outputs_hidden": true
    }
   },
   "outputs": [
    {
     "name": "stderr",
     "output_type": "stream",
     "text": [
      "Warning message:\n",
      "\"package 'data.table' was built under R version 3.6.3\"\n",
      "\n",
      "Attaching package: 'lubridate'\n",
      "\n",
      "\n",
      "The following objects are masked from 'package:data.table':\n",
      "\n",
      "    hour, isoweek, mday, minute, month, quarter, second, wday, week,\n",
      "    yday, year\n",
      "\n",
      "\n",
      "The following object is masked from 'package:base':\n",
      "\n",
      "    date\n",
      "\n",
      "\n",
      "Warning message:\n",
      "\"package 'reshape2' was built under R version 3.6.3\"\n",
      "\n",
      "Attaching package: 'reshape2'\n",
      "\n",
      "\n",
      "The following objects are masked from 'package:data.table':\n",
      "\n",
      "    dcast, melt\n",
      "\n",
      "\n",
      "Warning message:\n",
      "\"package 'dplyr' was built under R version 3.6.3\"\n",
      "\n",
      "Attaching package: 'dplyr'\n",
      "\n",
      "\n",
      "The following objects are masked from 'package:lubridate':\n",
      "\n",
      "    intersect, setdiff, union\n",
      "\n",
      "\n",
      "The following objects are masked from 'package:data.table':\n",
      "\n",
      "    between, first, last\n",
      "\n",
      "\n",
      "The following objects are masked from 'package:stats':\n",
      "\n",
      "    filter, lag\n",
      "\n",
      "\n",
      "The following objects are masked from 'package:base':\n",
      "\n",
      "    intersect, setdiff, setequal, union\n",
      "\n",
      "\n",
      "Warning message:\n",
      "\"package 'scales' was built under R version 3.6.3\"\n"
     ]
    }
   ],
   "source": [
    "#necessary library\n",
    "library(data.table) #fread\n",
    "library(lubridate)\n",
    "library(reshape2)\n",
    "library(dplyr)\n",
    "library(scales)\n",
    "library(stringr)\n",
    "#library(tidyverse)"
   ]
  },
  {
   "cell_type": "code",
   "execution_count": 2,
   "metadata": {},
   "outputs": [],
   "source": [
    "# Select the month you want to investigate\n",
    "YEARLIST =(\"2019\")\n",
    "MONTHLIST = c(\"04\")\n",
    "COMPUTATION_FILEPATH = \"../../data/tidy/\""
   ]
  },
  {
   "cell_type": "code",
   "execution_count": 4,
   "metadata": {},
   "outputs": [],
   "source": [
    "interval_df = read.csv(\"../../data/tidy/trajectory-19-04-.csv\")"
   ]
  },
  {
   "cell_type": "code",
   "execution_count": 1,
   "metadata": {},
   "outputs": [],
   "source": [
    "dg_new = read.csv(\"../../data/raw/green-trajectory-19-04.csv\")"
   ]
  },
  {
   "cell_type": "code",
   "execution_count": 61,
   "metadata": {
    "collapsed": true,
    "jupyter": {
     "outputs_hidden": true
    }
   },
   "outputs": [
    {
     "data": {
      "text/html": [
       "<table class=\"dataframe\">\n",
       "<caption>A data.frame: 6 × 31</caption>\n",
       "<thead>\n",
       "\t<tr><th></th><th scope=col>X</th><th scope=col>trxtime</th><th scope=col>trainid</th><th scope=col>vehicleid</th><th scope=col>routeid</th><th scope=col>counter</th><th scope=col>lineid</th><th scope=col>lat</th><th scope=col>lon</th><th scope=col>servicetypeid</th><th scope=col>...</th><th scope=col>year</th><th scope=col>time</th><th scope=col>trajid</th><th scope=col>interval_seconds</th><th scope=col>dist_meters</th><th scope=col>speed_mps</th><th scope=col>speed_kph</th><th scope=col>accel_mps2</th><th scope=col>cumdist_km</th><th scope=col>cumtime_hrs</th></tr>\n",
       "\t<tr><th></th><th scope=col>&lt;int&gt;</th><th scope=col>&lt;fct&gt;</th><th scope=col>&lt;int&gt;</th><th scope=col>&lt;int&gt;</th><th scope=col>&lt;int&gt;</th><th scope=col>&lt;int&gt;</th><th scope=col>&lt;dbl&gt;</th><th scope=col>&lt;dbl&gt;</th><th scope=col>&lt;dbl&gt;</th><th scope=col>&lt;int&gt;</th><th scope=col>...</th><th scope=col>&lt;int&gt;</th><th scope=col>&lt;fct&gt;</th><th scope=col>&lt;int&gt;</th><th scope=col>&lt;int&gt;</th><th scope=col>&lt;dbl&gt;</th><th scope=col>&lt;dbl&gt;</th><th scope=col>&lt;dbl&gt;</th><th scope=col>&lt;dbl&gt;</th><th scope=col>&lt;dbl&gt;</th><th scope=col>&lt;dbl&gt;</th></tr>\n",
       "</thead>\n",
       "<tbody>\n",
       "\t<tr><th scope=row>1</th><td>1</td><td>2019-04-18 05:33:20</td><td>10001</td><td>3653</td><td>  0</td><td> 25599</td><td>4</td><td>42.33696</td><td>-71.25329</td><td>1</td><td>...</td><td>2019</td><td>2019-04-18 05:33:20</td><td>1</td><td>  12</td><td> 26.68781</td><td>2.22398449</td><td> 8.0063442</td><td> 0.060549294</td><td>0.05364089</td><td>0.008333333</td></tr>\n",
       "\t<tr><th scope=row>2</th><td>2</td><td>2019-04-18 05:50:21</td><td>10001</td><td>3653</td><td>  0</td><td> 27350</td><td>4</td><td>42.33689</td><td>-71.25384</td><td>1</td><td>...</td><td>2019</td><td>2019-04-18 05:50:21</td><td>1</td><td>1021</td><td> 46.45064</td><td>0.04549524</td><td> 0.1637829</td><td>-0.002133682</td><td>0.10009153</td><td>0.291944444</td></tr>\n",
       "\t<tr><th scope=row>3</th><td>3</td><td>2019-04-18 05:51:52</td><td>10001</td><td>3653</td><td>  0</td><td> 27585</td><td>4</td><td>42.33692</td><td>-71.25150</td><td>1</td><td>...</td><td>2019</td><td>2019-04-18 05:51:52</td><td>1</td><td>  91</td><td>192.73857</td><td>2.11800624</td><td> 7.6248225</td><td> 0.022774846</td><td>0.29283009</td><td>0.317222222</td></tr>\n",
       "\t<tr><th scope=row>4</th><td>4</td><td>2019-04-18 05:52:04</td><td>10001</td><td>3653</td><td>  0</td><td> 27624</td><td>4</td><td>42.33666</td><td>-71.25081</td><td>1</td><td>...</td><td>2019</td><td>2019-04-18 05:52:04</td><td>1</td><td>  12</td><td> 64.29400</td><td>5.35783333</td><td>19.2882000</td><td> 0.269985590</td><td>0.35712409</td><td>0.320555556</td></tr>\n",
       "\t<tr><th scope=row>5</th><td>5</td><td>2019-04-18 15:20:54</td><td>10002</td><td>3653</td><td>813</td><td>162729</td><td>4</td><td>42.34802</td><td>-71.08758</td><td>1</td><td>...</td><td>2019</td><td>2019-04-18 15:20:54</td><td>2</td><td>   4</td><td>  0.00000</td><td>0.00000000</td><td> 0.0000000</td><td>-2.486660835</td><td>0.16909294</td><td>0.005833333</td></tr>\n",
       "\t<tr><th scope=row>6</th><td>6</td><td>2019-04-18 15:21:42</td><td>10002</td><td>3653</td><td>813</td><td>162929</td><td>4</td><td>42.34788</td><td>-71.08627</td><td>1</td><td>...</td><td>2019</td><td>2019-04-18 15:21:42</td><td>2</td><td>  48</td><td>108.80452</td><td>2.26676081</td><td> 8.1603389</td><td> 0.047224184</td><td>0.27789746</td><td>0.019166667</td></tr>\n",
       "</tbody>\n",
       "</table>\n"
      ],
      "text/latex": [
       "A data.frame: 6 × 31\n",
       "\\begin{tabular}{r|lllllllllllllllllllll}\n",
       "  & X & trxtime & trainid & vehicleid & routeid & counter & lineid & lat & lon & servicetypeid & ... & year & time & trajid & interval\\_seconds & dist\\_meters & speed\\_mps & speed\\_kph & accel\\_mps2 & cumdist\\_km & cumtime\\_hrs\\\\\n",
       "  & <int> & <fct> & <int> & <int> & <int> & <int> & <dbl> & <dbl> & <dbl> & <int> & ... & <int> & <fct> & <int> & <int> & <dbl> & <dbl> & <dbl> & <dbl> & <dbl> & <dbl>\\\\\n",
       "\\hline\n",
       "\t1 & 1 & 2019-04-18 05:33:20 & 10001 & 3653 &   0 &  25599 & 4 & 42.33696 & -71.25329 & 1 & ... & 2019 & 2019-04-18 05:33:20 & 1 &   12 &  26.68781 & 2.22398449 &  8.0063442 &  0.060549294 & 0.05364089 & 0.008333333\\\\\n",
       "\t2 & 2 & 2019-04-18 05:50:21 & 10001 & 3653 &   0 &  27350 & 4 & 42.33689 & -71.25384 & 1 & ... & 2019 & 2019-04-18 05:50:21 & 1 & 1021 &  46.45064 & 0.04549524 &  0.1637829 & -0.002133682 & 0.10009153 & 0.291944444\\\\\n",
       "\t3 & 3 & 2019-04-18 05:51:52 & 10001 & 3653 &   0 &  27585 & 4 & 42.33692 & -71.25150 & 1 & ... & 2019 & 2019-04-18 05:51:52 & 1 &   91 & 192.73857 & 2.11800624 &  7.6248225 &  0.022774846 & 0.29283009 & 0.317222222\\\\\n",
       "\t4 & 4 & 2019-04-18 05:52:04 & 10001 & 3653 &   0 &  27624 & 4 & 42.33666 & -71.25081 & 1 & ... & 2019 & 2019-04-18 05:52:04 & 1 &   12 &  64.29400 & 5.35783333 & 19.2882000 &  0.269985590 & 0.35712409 & 0.320555556\\\\\n",
       "\t5 & 5 & 2019-04-18 15:20:54 & 10002 & 3653 & 813 & 162729 & 4 & 42.34802 & -71.08758 & 1 & ... & 2019 & 2019-04-18 15:20:54 & 2 &    4 &   0.00000 & 0.00000000 &  0.0000000 & -2.486660835 & 0.16909294 & 0.005833333\\\\\n",
       "\t6 & 6 & 2019-04-18 15:21:42 & 10002 & 3653 & 813 & 162929 & 4 & 42.34788 & -71.08627 & 1 & ... & 2019 & 2019-04-18 15:21:42 & 2 &   48 & 108.80452 & 2.26676081 &  8.1603389 &  0.047224184 & 0.27789746 & 0.019166667\\\\\n",
       "\\end{tabular}\n"
      ],
      "text/markdown": [
       "\n",
       "A data.frame: 6 × 31\n",
       "\n",
       "| <!--/--> | X &lt;int&gt; | trxtime &lt;fct&gt; | trainid &lt;int&gt; | vehicleid &lt;int&gt; | routeid &lt;int&gt; | counter &lt;int&gt; | lineid &lt;dbl&gt; | lat &lt;dbl&gt; | lon &lt;dbl&gt; | servicetypeid &lt;int&gt; | ... ... | year &lt;int&gt; | time &lt;fct&gt; | trajid &lt;int&gt; | interval_seconds &lt;int&gt; | dist_meters &lt;dbl&gt; | speed_mps &lt;dbl&gt; | speed_kph &lt;dbl&gt; | accel_mps2 &lt;dbl&gt; | cumdist_km &lt;dbl&gt; | cumtime_hrs &lt;dbl&gt; |\n",
       "|---|---|---|---|---|---|---|---|---|---|---|---|---|---|---|---|---|---|---|---|---|---|\n",
       "| 1 | 1 | 2019-04-18 05:33:20 | 10001 | 3653 |   0 |  25599 | 4 | 42.33696 | -71.25329 | 1 | ... | 2019 | 2019-04-18 05:33:20 | 1 |   12 |  26.68781 | 2.22398449 |  8.0063442 |  0.060549294 | 0.05364089 | 0.008333333 |\n",
       "| 2 | 2 | 2019-04-18 05:50:21 | 10001 | 3653 |   0 |  27350 | 4 | 42.33689 | -71.25384 | 1 | ... | 2019 | 2019-04-18 05:50:21 | 1 | 1021 |  46.45064 | 0.04549524 |  0.1637829 | -0.002133682 | 0.10009153 | 0.291944444 |\n",
       "| 3 | 3 | 2019-04-18 05:51:52 | 10001 | 3653 |   0 |  27585 | 4 | 42.33692 | -71.25150 | 1 | ... | 2019 | 2019-04-18 05:51:52 | 1 |   91 | 192.73857 | 2.11800624 |  7.6248225 |  0.022774846 | 0.29283009 | 0.317222222 |\n",
       "| 4 | 4 | 2019-04-18 05:52:04 | 10001 | 3653 |   0 |  27624 | 4 | 42.33666 | -71.25081 | 1 | ... | 2019 | 2019-04-18 05:52:04 | 1 |   12 |  64.29400 | 5.35783333 | 19.2882000 |  0.269985590 | 0.35712409 | 0.320555556 |\n",
       "| 5 | 5 | 2019-04-18 15:20:54 | 10002 | 3653 | 813 | 162729 | 4 | 42.34802 | -71.08758 | 1 | ... | 2019 | 2019-04-18 15:20:54 | 2 |    4 |   0.00000 | 0.00000000 |  0.0000000 | -2.486660835 | 0.16909294 | 0.005833333 |\n",
       "| 6 | 6 | 2019-04-18 15:21:42 | 10002 | 3653 | 813 | 162929 | 4 | 42.34788 | -71.08627 | 1 | ... | 2019 | 2019-04-18 15:21:42 | 2 |   48 | 108.80452 | 2.26676081 |  8.1603389 |  0.047224184 | 0.27789746 | 0.019166667 |\n",
       "\n"
      ],
      "text/plain": [
       "  X trxtime             trainid vehicleid routeid counter lineid lat     \n",
       "1 1 2019-04-18 05:33:20 10001   3653        0      25599  4      42.33696\n",
       "2 2 2019-04-18 05:50:21 10001   3653        0      27350  4      42.33689\n",
       "3 3 2019-04-18 05:51:52 10001   3653        0      27585  4      42.33692\n",
       "4 4 2019-04-18 05:52:04 10001   3653        0      27624  4      42.33666\n",
       "5 5 2019-04-18 15:20:54 10002   3653      813     162729  4      42.34802\n",
       "6 6 2019-04-18 15:21:42 10002   3653      813     162929  4      42.34788\n",
       "  lon       servicetypeid ... year time                trajid interval_seconds\n",
       "1 -71.25329 1             ... 2019 2019-04-18 05:33:20 1        12            \n",
       "2 -71.25384 1             ... 2019 2019-04-18 05:50:21 1      1021            \n",
       "3 -71.25150 1             ... 2019 2019-04-18 05:51:52 1        91            \n",
       "4 -71.25081 1             ... 2019 2019-04-18 05:52:04 1        12            \n",
       "5 -71.08758 1             ... 2019 2019-04-18 15:20:54 2         4            \n",
       "6 -71.08627 1             ... 2019 2019-04-18 15:21:42 2        48            \n",
       "  dist_meters speed_mps  speed_kph  accel_mps2   cumdist_km cumtime_hrs\n",
       "1  26.68781   2.22398449  8.0063442  0.060549294 0.05364089 0.008333333\n",
       "2  46.45064   0.04549524  0.1637829 -0.002133682 0.10009153 0.291944444\n",
       "3 192.73857   2.11800624  7.6248225  0.022774846 0.29283009 0.317222222\n",
       "4  64.29400   5.35783333 19.2882000  0.269985590 0.35712409 0.320555556\n",
       "5   0.00000   0.00000000  0.0000000 -2.486660835 0.16909294 0.005833333\n",
       "6 108.80452   2.26676081  8.1603389  0.047224184 0.27789746 0.019166667"
      ]
     },
     "metadata": {},
     "output_type": "display_data"
    }
   ],
   "source": [
    "head(dg_new)"
   ]
  },
  {
   "cell_type": "code",
   "execution_count": 63,
   "metadata": {
    "collapsed": true,
    "jupyter": {
     "outputs_hidden": true
    }
   },
   "outputs": [
    {
     "data": {
      "image/png": "[encoded data removed]",
      "text/plain": [
       "Plot with title \"Histogram of dh_new$accel_mps2\""
      ]
     },
     "metadata": {
      "image/png": {
       "height": 420,
       "width": 420
      }
     },
     "output_type": "display_data"
    }
   ],
   "source": [
    "hist(dh_new$accel_mps2)"
   ]
  },
  {
   "cell_type": "code",
   "execution_count": 65,
   "metadata": {},
   "outputs": [
    {
     "data": {
      "image/png": "[encoded data removed]",
      "text/plain": [
       "plot without title"
      ]
     },
     "metadata": {
      "image/png": {
       "height": 420,
       "width": 420
      }
     },
     "output_type": "display_data"
    }
   ],
   "source": [
    "plot(x = dh_new$accel_mps2, y = dh_new$speed_kph)"
   ]
  },
  {
   "cell_type": "code",
   "execution_count": 2,
   "metadata": {},
   "outputs": [],
   "source": [
    "dh_new = read.csv(\"../../data/raw/heavy-trajectory-19-04.csv\")"
   ]
  },
  {
   "cell_type": "code",
   "execution_count": 11,
   "metadata": {},
   "outputs": [
    {
     "data": {
      "text/html": [
       "5.99942097861047"
      ],
      "text/latex": [
       "5.99942097861047"
      ],
      "text/markdown": [
       "5.99942097861047"
      ],
      "text/plain": [
       "[1] 5.999421"
      ]
     },
     "metadata": {},
     "output_type": "display_data"
    }
   ],
   "source": [
    "max(dh_new$accel_mps2)"
   ]
  },
  {
   "cell_type": "code",
   "execution_count": 12,
   "metadata": {},
   "outputs": [
    {
     "data": {
      "text/html": [
       "5.99779419296859"
      ],
      "text/latex": [
       "5.99779419296859"
      ],
      "text/markdown": [
       "5.99779419296859"
      ],
      "text/plain": [
       "[1] 5.997794"
      ]
     },
     "metadata": {},
     "output_type": "display_data"
    }
   ],
   "source": [
    "max(dg_new$accel_mps2)"
   ]
  },
  {
   "cell_type": "code",
   "execution_count": 14,
   "metadata": {
    "collapsed": true,
    "jupyter": {
     "outputs_hidden": true
    }
   },
   "outputs": [
    {
     "data": {
      "text/html": [
       "<table class=\"dataframe\">\n",
       "<caption>A data.frame: 6 × 26</caption>\n",
       "<thead>\n",
       "\t<tr><th></th><th scope=col>X</th><th scope=col>trxtime</th><th scope=col>lineid</th><th scope=col>trainid</th><th scope=col>counter</th><th scope=col>lat</th><th scope=col>lon</th><th scope=col>servicetypeid</th><th scope=col>heavyrailbranchid</th><th scope=col>tripid</th><th scope=col>...</th><th scope=col>year</th><th scope=col>time</th><th scope=col>trajid</th><th scope=col>interval_seconds</th><th scope=col>dist_meters</th><th scope=col>speed_mps</th><th scope=col>speed_kph</th><th scope=col>accel_mps2</th><th scope=col>cumdist_km</th><th scope=col>cumtime_hrs</th></tr>\n",
       "\t<tr><th></th><th scope=col>&lt;int&gt;</th><th scope=col>&lt;fct&gt;</th><th scope=col>&lt;int&gt;</th><th scope=col>&lt;int&gt;</th><th scope=col>&lt;int&gt;</th><th scope=col>&lt;dbl&gt;</th><th scope=col>&lt;dbl&gt;</th><th scope=col>&lt;int&gt;</th><th scope=col>&lt;int&gt;</th><th scope=col>&lt;dbl&gt;</th><th scope=col>...</th><th scope=col>&lt;int&gt;</th><th scope=col>&lt;fct&gt;</th><th scope=col>&lt;int&gt;</th><th scope=col>&lt;int&gt;</th><th scope=col>&lt;dbl&gt;</th><th scope=col>&lt;dbl&gt;</th><th scope=col>&lt;dbl&gt;</th><th scope=col>&lt;dbl&gt;</th><th scope=col>&lt;dbl&gt;</th><th scope=col>&lt;dbl&gt;</th></tr>\n",
       "</thead>\n",
       "<tbody>\n",
       "\t<tr><th scope=row>1</th><td>1</td><td>2019-04-18 00:01:04</td><td>1</td><td>1415341881</td><td> 60</td><td>42.39232</td><td>-71.11897</td><td>1</td><td>0</td><td>2550365582</td><td>...</td><td>2019</td><td>2019-04-18 00:01:04</td><td>1</td><td> 8</td><td>168.2425</td><td>21.030312</td><td>75.709124</td><td> 1.43390828</td><td>0.4454548</td><td>0.01027778</td></tr>\n",
       "\t<tr><th scope=row>2</th><td>2</td><td>2019-04-18 00:01:31</td><td>1</td><td>1415341881</td><td> 81</td><td>42.39538</td><td>-71.11944</td><td>1</td><td>0</td><td>2550365582</td><td>...</td><td>2019</td><td>2019-04-18 00:01:31</td><td>1</td><td>27</td><td>342.6195</td><td>12.689613</td><td>45.682605</td><td>-0.30891480</td><td>0.7880744</td><td>0.01777778</td></tr>\n",
       "\t<tr><th scope=row>3</th><td>3</td><td>2019-04-18 00:01:57</td><td>1</td><td>1415341881</td><td>108</td><td>42.39676</td><td>-71.12241</td><td>1</td><td>0</td><td>2550365582</td><td>...</td><td>2019</td><td>2019-04-18 00:01:57</td><td>1</td><td>26</td><td>288.2815</td><td>11.087752</td><td>39.915906</td><td>-0.06161003</td><td>1.0763559</td><td>0.02500000</td></tr>\n",
       "\t<tr><th scope=row>4</th><td>4</td><td>2019-04-18 00:02:45</td><td>1</td><td>1415341881</td><td>153</td><td>42.39679</td><td>-71.12400</td><td>1</td><td>0</td><td>2550365582</td><td>...</td><td>2019</td><td>2019-04-18 00:02:45</td><td>1</td><td>48</td><td>130.7545</td><td> 2.724052</td><td> 9.806586</td><td>-0.17424375</td><td>1.2071104</td><td>0.03833333</td></tr>\n",
       "\t<tr><th scope=row>5</th><td>5</td><td>2019-04-18 00:03:01</td><td>1</td><td>1415341881</td><td>176</td><td>42.39751</td><td>-71.12573</td><td>1</td><td>0</td><td>2550365582</td><td>...</td><td>2019</td><td>2019-04-18 00:03:01</td><td>1</td><td>16</td><td>162.8886</td><td>10.180537</td><td>36.649934</td><td> 0.46603034</td><td>1.3699990</td><td>0.04277778</td></tr>\n",
       "\t<tr><th scope=row>6</th><td>6</td><td>2019-04-18 00:03:12</td><td>1</td><td>1415341881</td><td>184</td><td>42.39762</td><td>-71.12732</td><td>1</td><td>0</td><td>2550365582</td><td>...</td><td>2019</td><td>2019-04-18 00:03:12</td><td>1</td><td>11</td><td>131.1293</td><td>11.920841</td><td>42.915029</td><td> 0.15820948</td><td>1.5011282</td><td>0.04583333</td></tr>\n",
       "</tbody>\n",
       "</table>\n"
      ],
      "text/latex": [
       "A data.frame: 6 × 26\n",
       "\\begin{tabular}{r|lllllllllllllllllllll}\n",
       "  & X & trxtime & lineid & trainid & counter & lat & lon & servicetypeid & heavyrailbranchid & tripid & ... & year & time & trajid & interval\\_seconds & dist\\_meters & speed\\_mps & speed\\_kph & accel\\_mps2 & cumdist\\_km & cumtime\\_hrs\\\\\n",
       "  & <int> & <fct> & <int> & <int> & <int> & <dbl> & <dbl> & <int> & <int> & <dbl> & ... & <int> & <fct> & <int> & <int> & <dbl> & <dbl> & <dbl> & <dbl> & <dbl> & <dbl>\\\\\n",
       "\\hline\n",
       "\t1 & 1 & 2019-04-18 00:01:04 & 1 & 1415341881 &  60 & 42.39232 & -71.11897 & 1 & 0 & 2550365582 & ... & 2019 & 2019-04-18 00:01:04 & 1 &  8 & 168.2425 & 21.030312 & 75.709124 &  1.43390828 & 0.4454548 & 0.01027778\\\\\n",
       "\t2 & 2 & 2019-04-18 00:01:31 & 1 & 1415341881 &  81 & 42.39538 & -71.11944 & 1 & 0 & 2550365582 & ... & 2019 & 2019-04-18 00:01:31 & 1 & 27 & 342.6195 & 12.689613 & 45.682605 & -0.30891480 & 0.7880744 & 0.01777778\\\\\n",
       "\t3 & 3 & 2019-04-18 00:01:57 & 1 & 1415341881 & 108 & 42.39676 & -71.12241 & 1 & 0 & 2550365582 & ... & 2019 & 2019-04-18 00:01:57 & 1 & 26 & 288.2815 & 11.087752 & 39.915906 & -0.06161003 & 1.0763559 & 0.02500000\\\\\n",
       "\t4 & 4 & 2019-04-18 00:02:45 & 1 & 1415341881 & 153 & 42.39679 & -71.12400 & 1 & 0 & 2550365582 & ... & 2019 & 2019-04-18 00:02:45 & 1 & 48 & 130.7545 &  2.724052 &  9.806586 & -0.17424375 & 1.2071104 & 0.03833333\\\\\n",
       "\t5 & 5 & 2019-04-18 00:03:01 & 1 & 1415341881 & 176 & 42.39751 & -71.12573 & 1 & 0 & 2550365582 & ... & 2019 & 2019-04-18 00:03:01 & 1 & 16 & 162.8886 & 10.180537 & 36.649934 &  0.46603034 & 1.3699990 & 0.04277778\\\\\n",
       "\t6 & 6 & 2019-04-18 00:03:12 & 1 & 1415341881 & 184 & 42.39762 & -71.12732 & 1 & 0 & 2550365582 & ... & 2019 & 2019-04-18 00:03:12 & 1 & 11 & 131.1293 & 11.920841 & 42.915029 &  0.15820948 & 1.5011282 & 0.04583333\\\\\n",
       "\\end{tabular}\n"
      ],
      "text/markdown": [
       "\n",
       "A data.frame: 6 × 26\n",
       "\n",
       "| <!--/--> | X &lt;int&gt; | trxtime &lt;fct&gt; | lineid &lt;int&gt; | trainid &lt;int&gt; | counter &lt;int&gt; | lat &lt;dbl&gt; | lon &lt;dbl&gt; | servicetypeid &lt;int&gt; | heavyrailbranchid &lt;int&gt; | tripid &lt;dbl&gt; | ... ... | year &lt;int&gt; | time &lt;fct&gt; | trajid &lt;int&gt; | interval_seconds &lt;int&gt; | dist_meters &lt;dbl&gt; | speed_mps &lt;dbl&gt; | speed_kph &lt;dbl&gt; | accel_mps2 &lt;dbl&gt; | cumdist_km &lt;dbl&gt; | cumtime_hrs &lt;dbl&gt; |\n",
       "|---|---|---|---|---|---|---|---|---|---|---|---|---|---|---|---|---|---|---|---|---|---|\n",
       "| 1 | 1 | 2019-04-18 00:01:04 | 1 | 1415341881 |  60 | 42.39232 | -71.11897 | 1 | 0 | 2550365582 | ... | 2019 | 2019-04-18 00:01:04 | 1 |  8 | 168.2425 | 21.030312 | 75.709124 |  1.43390828 | 0.4454548 | 0.01027778 |\n",
       "| 2 | 2 | 2019-04-18 00:01:31 | 1 | 1415341881 |  81 | 42.39538 | -71.11944 | 1 | 0 | 2550365582 | ... | 2019 | 2019-04-18 00:01:31 | 1 | 27 | 342.6195 | 12.689613 | 45.682605 | -0.30891480 | 0.7880744 | 0.01777778 |\n",
       "| 3 | 3 | 2019-04-18 00:01:57 | 1 | 1415341881 | 108 | 42.39676 | -71.12241 | 1 | 0 | 2550365582 | ... | 2019 | 2019-04-18 00:01:57 | 1 | 26 | 288.2815 | 11.087752 | 39.915906 | -0.06161003 | 1.0763559 | 0.02500000 |\n",
       "| 4 | 4 | 2019-04-18 00:02:45 | 1 | 1415341881 | 153 | 42.39679 | -71.12400 | 1 | 0 | 2550365582 | ... | 2019 | 2019-04-18 00:02:45 | 1 | 48 | 130.7545 |  2.724052 |  9.806586 | -0.17424375 | 1.2071104 | 0.03833333 |\n",
       "| 5 | 5 | 2019-04-18 00:03:01 | 1 | 1415341881 | 176 | 42.39751 | -71.12573 | 1 | 0 | 2550365582 | ... | 2019 | 2019-04-18 00:03:01 | 1 | 16 | 162.8886 | 10.180537 | 36.649934 |  0.46603034 | 1.3699990 | 0.04277778 |\n",
       "| 6 | 6 | 2019-04-18 00:03:12 | 1 | 1415341881 | 184 | 42.39762 | -71.12732 | 1 | 0 | 2550365582 | ... | 2019 | 2019-04-18 00:03:12 | 1 | 11 | 131.1293 | 11.920841 | 42.915029 |  0.15820948 | 1.5011282 | 0.04583333 |\n",
       "\n"
      ],
      "text/plain": [
       "  X trxtime             lineid trainid    counter lat      lon      \n",
       "1 1 2019-04-18 00:01:04 1      1415341881  60     42.39232 -71.11897\n",
       "2 2 2019-04-18 00:01:31 1      1415341881  81     42.39538 -71.11944\n",
       "3 3 2019-04-18 00:01:57 1      1415341881 108     42.39676 -71.12241\n",
       "4 4 2019-04-18 00:02:45 1      1415341881 153     42.39679 -71.12400\n",
       "5 5 2019-04-18 00:03:01 1      1415341881 176     42.39751 -71.12573\n",
       "6 6 2019-04-18 00:03:12 1      1415341881 184     42.39762 -71.12732\n",
       "  servicetypeid heavyrailbranchid tripid     ... year time               \n",
       "1 1             0                 2550365582 ... 2019 2019-04-18 00:01:04\n",
       "2 1             0                 2550365582 ... 2019 2019-04-18 00:01:31\n",
       "3 1             0                 2550365582 ... 2019 2019-04-18 00:01:57\n",
       "4 1             0                 2550365582 ... 2019 2019-04-18 00:02:45\n",
       "5 1             0                 2550365582 ... 2019 2019-04-18 00:03:01\n",
       "6 1             0                 2550365582 ... 2019 2019-04-18 00:03:12\n",
       "  trajid interval_seconds dist_meters speed_mps speed_kph accel_mps2 \n",
       "1 1       8               168.2425    21.030312 75.709124  1.43390828\n",
       "2 1      27               342.6195    12.689613 45.682605 -0.30891480\n",
       "3 1      26               288.2815    11.087752 39.915906 -0.06161003\n",
       "4 1      48               130.7545     2.724052  9.806586 -0.17424375\n",
       "5 1      16               162.8886    10.180537 36.649934  0.46603034\n",
       "6 1      11               131.1293    11.920841 42.915029  0.15820948\n",
       "  cumdist_km cumtime_hrs\n",
       "1 0.4454548  0.01027778 \n",
       "2 0.7880744  0.01777778 \n",
       "3 1.0763559  0.02500000 \n",
       "4 1.2071104  0.03833333 \n",
       "5 1.3699990  0.04277778 \n",
       "6 1.5011282  0.04583333 "
      ]
     },
     "metadata": {},
     "output_type": "display_data"
    }
   ],
   "source": [
    "head(dh_new)"
   ]
  },
  {
   "cell_type": "code",
   "execution_count": 48,
   "metadata": {},
   "outputs": [],
   "source": [
    "dc = fread(\"../../data/raw/energy-consumption-08-19.csv\") # Read in energy data\n",
    "d_ridership = read.csv(\"../../data/raw/ridership-2019-2020-.csv\")# Read in ridership data"
   ]
  },
  {
   "cell_type": "code",
   "execution_count": 15,
   "metadata": {},
   "outputs": [],
   "source": [
    "dg_new$lineid = 4"
   ]
  },
  {
   "cell_type": "markdown",
   "metadata": {},
   "source": [
    "## Bin speeds and aggregate table"
   ]
  },
  {
   "cell_type": "code",
   "execution_count": 2,
   "metadata": {},
   "outputs": [],
   "source": [
    "interval_df = read.csv(\"../../data/tidy/trajectory-19-04-.csv\")\n",
    "dc = fread(\"../../data/raw/energy-consumption-08-19.csv\") # Read in energy data\n",
    "d_ridership = read.csv(\"../../data/raw/ridership-2019-2020-.csv\")# Read in ridership data"
   ]
  },
  {
   "cell_type": "code",
   "execution_count": 3,
   "metadata": {
    "jupyter": {
     "source_hidden": true
    }
   },
   "outputs": [],
   "source": [
    "# aggregrate_trajectory_table\n",
    "line_computation = function(year, month){\n",
    "    assign( fread(paste(DISTANCE_FILEPATH, paste( \"trajectories\", month, year, \".csv\", sep = \"-\", collapse = \"\"), sep=\"\")))\n",
    "    assign(\"dh\", fread(paste(DISTANCE_FILEPATH, paste(\"heavyrail\", \"trajectories\", month, year, \".csv\", sep = \"-\", collapse = \"\"), sep=\"\")))\n",
    "    # Combine the original tables to a single one for analysis\n",
    "    dg = subset(dg, select = c(trxtime, trainid, lineid, lat, lon))\n",
    "    dh = subset(dh, select = c(trxtime, trainid, lineid, lat, lon))\n",
    "    df = rbind(dg, dh)\n",
    "    return(df)\n",
    "}"
   ]
  },
  {
   "cell_type": "code",
   "execution_count": 26,
   "metadata": {},
   "outputs": [],
   "source": [
    "# aggregrate_trajectory_table\n",
    "line_aggregation = function(dg,dh){\n",
    "    dg = subset(dg, select = c(trxtime, trainid, lineid, lat, lon ,  speed_kph , accel_mps2 , interval_seconds , dist_meters))\n",
    "    dh = subset(dh, select = c(trxtime, trainid, lineid, lat, lon ,  speed_kph , accel_mps2 , interval_seconds , dist_meters))\n",
    "    df = rbind(dg, dh) \n",
    "    return(df)\n",
    "}"
   ]
  },
  {
   "cell_type": "code",
   "execution_count": 27,
   "metadata": {},
   "outputs": [],
   "source": [
    "d = line_aggregation(dg_new,dh_new)"
   ]
  },
  {
   "cell_type": "code",
   "execution_count": 44,
   "metadata": {
    "collapsed": true,
    "jupyter": {
     "outputs_hidden": true
    }
   },
   "outputs": [
    {
     "data": {
      "text/html": [
       "<table class=\"dataframe\">\n",
       "<caption>A data.frame: 6 × 9</caption>\n",
       "<thead>\n",
       "\t<tr><th></th><th scope=col>trxtime</th><th scope=col>trainid</th><th scope=col>lineid</th><th scope=col>lat</th><th scope=col>lon</th><th scope=col>speed_kph</th><th scope=col>accel_mps2</th><th scope=col>interval_seconds</th><th scope=col>dist_meters</th></tr>\n",
       "\t<tr><th></th><th scope=col>&lt;fct&gt;</th><th scope=col>&lt;int&gt;</th><th scope=col>&lt;dbl&gt;</th><th scope=col>&lt;dbl&gt;</th><th scope=col>&lt;dbl&gt;</th><th scope=col>&lt;dbl&gt;</th><th scope=col>&lt;dbl&gt;</th><th scope=col>&lt;int&gt;</th><th scope=col>&lt;dbl&gt;</th></tr>\n",
       "</thead>\n",
       "<tbody>\n",
       "\t<tr><th scope=row>1</th><td>2019-04-18 05:33:20</td><td>10001</td><td>4</td><td>42.33696</td><td>-71.25329</td><td> 8.0063442</td><td> 0.060549294</td><td>  12</td><td> 26.68781</td></tr>\n",
       "\t<tr><th scope=row>2</th><td>2019-04-18 05:50:21</td><td>10001</td><td>4</td><td>42.33689</td><td>-71.25384</td><td> 0.1637829</td><td>-0.002133682</td><td>1021</td><td> 46.45064</td></tr>\n",
       "\t<tr><th scope=row>3</th><td>2019-04-18 05:51:52</td><td>10001</td><td>4</td><td>42.33692</td><td>-71.25150</td><td> 7.6248225</td><td> 0.022774846</td><td>  91</td><td>192.73857</td></tr>\n",
       "\t<tr><th scope=row>4</th><td>2019-04-18 05:52:04</td><td>10001</td><td>4</td><td>42.33666</td><td>-71.25081</td><td>19.2882000</td><td> 0.269985590</td><td>  12</td><td> 64.29400</td></tr>\n",
       "\t<tr><th scope=row>5</th><td>2019-04-18 15:20:54</td><td>10002</td><td>4</td><td>42.34802</td><td>-71.08758</td><td> 0.0000000</td><td>-2.486660835</td><td>   4</td><td>  0.00000</td></tr>\n",
       "\t<tr><th scope=row>6</th><td>2019-04-18 15:21:42</td><td>10002</td><td>4</td><td>42.34788</td><td>-71.08627</td><td> 8.1603389</td><td> 0.047224184</td><td>  48</td><td>108.80452</td></tr>\n",
       "</tbody>\n",
       "</table>\n"
      ],
      "text/latex": [
       "A data.frame: 6 × 9\n",
       "\\begin{tabular}{r|lllllllll}\n",
       "  & trxtime & trainid & lineid & lat & lon & speed\\_kph & accel\\_mps2 & interval\\_seconds & dist\\_meters\\\\\n",
       "  & <fct> & <int> & <dbl> & <dbl> & <dbl> & <dbl> & <dbl> & <int> & <dbl>\\\\\n",
       "\\hline\n",
       "\t1 & 2019-04-18 05:33:20 & 10001 & 4 & 42.33696 & -71.25329 &  8.0063442 &  0.060549294 &   12 &  26.68781\\\\\n",
       "\t2 & 2019-04-18 05:50:21 & 10001 & 4 & 42.33689 & -71.25384 &  0.1637829 & -0.002133682 & 1021 &  46.45064\\\\\n",
       "\t3 & 2019-04-18 05:51:52 & 10001 & 4 & 42.33692 & -71.25150 &  7.6248225 &  0.022774846 &   91 & 192.73857\\\\\n",
       "\t4 & 2019-04-18 05:52:04 & 10001 & 4 & 42.33666 & -71.25081 & 19.2882000 &  0.269985590 &   12 &  64.29400\\\\\n",
       "\t5 & 2019-04-18 15:20:54 & 10002 & 4 & 42.34802 & -71.08758 &  0.0000000 & -2.486660835 &    4 &   0.00000\\\\\n",
       "\t6 & 2019-04-18 15:21:42 & 10002 & 4 & 42.34788 & -71.08627 &  8.1603389 &  0.047224184 &   48 & 108.80452\\\\\n",
       "\\end{tabular}\n"
      ],
      "text/markdown": [
       "\n",
       "A data.frame: 6 × 9\n",
       "\n",
       "| <!--/--> | trxtime &lt;fct&gt; | trainid &lt;int&gt; | lineid &lt;dbl&gt; | lat &lt;dbl&gt; | lon &lt;dbl&gt; | speed_kph &lt;dbl&gt; | accel_mps2 &lt;dbl&gt; | interval_seconds &lt;int&gt; | dist_meters &lt;dbl&gt; |\n",
       "|---|---|---|---|---|---|---|---|---|---|\n",
       "| 1 | 2019-04-18 05:33:20 | 10001 | 4 | 42.33696 | -71.25329 |  8.0063442 |  0.060549294 |   12 |  26.68781 |\n",
       "| 2 | 2019-04-18 05:50:21 | 10001 | 4 | 42.33689 | -71.25384 |  0.1637829 | -0.002133682 | 1021 |  46.45064 |\n",
       "| 3 | 2019-04-18 05:51:52 | 10001 | 4 | 42.33692 | -71.25150 |  7.6248225 |  0.022774846 |   91 | 192.73857 |\n",
       "| 4 | 2019-04-18 05:52:04 | 10001 | 4 | 42.33666 | -71.25081 | 19.2882000 |  0.269985590 |   12 |  64.29400 |\n",
       "| 5 | 2019-04-18 15:20:54 | 10002 | 4 | 42.34802 | -71.08758 |  0.0000000 | -2.486660835 |    4 |   0.00000 |\n",
       "| 6 | 2019-04-18 15:21:42 | 10002 | 4 | 42.34788 | -71.08627 |  8.1603389 |  0.047224184 |   48 | 108.80452 |\n",
       "\n"
      ],
      "text/plain": [
       "  trxtime             trainid lineid lat      lon       speed_kph  accel_mps2  \n",
       "1 2019-04-18 05:33:20 10001   4      42.33696 -71.25329  8.0063442  0.060549294\n",
       "2 2019-04-18 05:50:21 10001   4      42.33689 -71.25384  0.1637829 -0.002133682\n",
       "3 2019-04-18 05:51:52 10001   4      42.33692 -71.25150  7.6248225  0.022774846\n",
       "4 2019-04-18 05:52:04 10001   4      42.33666 -71.25081 19.2882000  0.269985590\n",
       "5 2019-04-18 15:20:54 10002   4      42.34802 -71.08758  0.0000000 -2.486660835\n",
       "6 2019-04-18 15:21:42 10002   4      42.34788 -71.08627  8.1603389  0.047224184\n",
       "  interval_seconds dist_meters\n",
       "1   12              26.68781  \n",
       "2 1021              46.45064  \n",
       "3   91             192.73857  \n",
       "4   12              64.29400  \n",
       "5    4               0.00000  \n",
       "6   48             108.80452  "
      ]
     },
     "metadata": {},
     "output_type": "display_data"
    }
   ],
   "source": [
    "head(d)"
   ]
  },
  {
   "cell_type": "code",
   "execution_count": 42,
   "metadata": {},
   "outputs": [],
   "source": [
    "# Unit conversion\n",
    "unit_transfer = function(df){\n",
    "   df$hour = hour(df$trxtime)\n",
    "   df$speed_mph = df$speed_kph*0.621371 #kph to mph\n",
    "   df$distance_mile = df$dist_meters*0.000621371 #convert from meters to mile\n",
    "   df$time_hr = df$interval_seconds/3600.0 #convert from seconds to hour\n",
    "   df$month = month(df$trxtime)\n",
    "   df$day = day(df$trxtime)\n",
    "   df$year = year(df$trxtime) \n",
    "  return(df)\n",
    "}    "
   ]
  },
  {
   "cell_type": "code",
   "execution_count": 43,
   "metadata": {},
   "outputs": [],
   "source": [
    "interval_df = unit_transfer(d)"
   ]
  },
  {
   "cell_type": "code",
   "execution_count": 45,
   "metadata": {
    "collapsed": true,
    "jupyter": {
     "outputs_hidden": true
    }
   },
   "outputs": [
    {
     "data": {
      "text/html": [
       "<table class=\"dataframe\">\n",
       "<caption>A data.frame: 6 × 16</caption>\n",
       "<thead>\n",
       "\t<tr><th></th><th scope=col>trxtime</th><th scope=col>trainid</th><th scope=col>lineid</th><th scope=col>lat</th><th scope=col>lon</th><th scope=col>speed_kph</th><th scope=col>accel_mps2</th><th scope=col>interval_seconds</th><th scope=col>dist_meters</th><th scope=col>hour</th><th scope=col>speed_mph</th><th scope=col>distance_mile</th><th scope=col>time_hr</th><th scope=col>month</th><th scope=col>day</th><th scope=col>year</th></tr>\n",
       "\t<tr><th></th><th scope=col>&lt;fct&gt;</th><th scope=col>&lt;int&gt;</th><th scope=col>&lt;dbl&gt;</th><th scope=col>&lt;dbl&gt;</th><th scope=col>&lt;dbl&gt;</th><th scope=col>&lt;dbl&gt;</th><th scope=col>&lt;dbl&gt;</th><th scope=col>&lt;int&gt;</th><th scope=col>&lt;dbl&gt;</th><th scope=col>&lt;int&gt;</th><th scope=col>&lt;dbl&gt;</th><th scope=col>&lt;dbl&gt;</th><th scope=col>&lt;dbl&gt;</th><th scope=col>&lt;dbl&gt;</th><th scope=col>&lt;int&gt;</th><th scope=col>&lt;dbl&gt;</th></tr>\n",
       "</thead>\n",
       "<tbody>\n",
       "\t<tr><th scope=row>1</th><td>2019-04-18 05:33:20</td><td>10001</td><td>4</td><td>42.33696</td><td>-71.25329</td><td> 8.0063442</td><td> 0.060549294</td><td>  12</td><td> 26.68781</td><td> 5</td><td> 4.9749101</td><td>0.01658303</td><td>0.003333333</td><td>4</td><td>18</td><td>2019</td></tr>\n",
       "\t<tr><th scope=row>2</th><td>2019-04-18 05:50:21</td><td>10001</td><td>4</td><td>42.33689</td><td>-71.25384</td><td> 0.1637829</td><td>-0.002133682</td><td>1021</td><td> 46.45064</td><td> 5</td><td> 0.1017699</td><td>0.02886308</td><td>0.283611111</td><td>4</td><td>18</td><td>2019</td></tr>\n",
       "\t<tr><th scope=row>3</th><td>2019-04-18 05:51:52</td><td>10001</td><td>4</td><td>42.33692</td><td>-71.25150</td><td> 7.6248225</td><td> 0.022774846</td><td>  91</td><td>192.73857</td><td> 5</td><td> 4.7378436</td><td>0.11976216</td><td>0.025277778</td><td>4</td><td>18</td><td>2019</td></tr>\n",
       "\t<tr><th scope=row>4</th><td>2019-04-18 05:52:04</td><td>10001</td><td>4</td><td>42.33666</td><td>-71.25081</td><td>19.2882000</td><td> 0.269985590</td><td>  12</td><td> 64.29400</td><td> 5</td><td>11.9851281</td><td>0.03995043</td><td>0.003333333</td><td>4</td><td>18</td><td>2019</td></tr>\n",
       "\t<tr><th scope=row>5</th><td>2019-04-18 15:20:54</td><td>10002</td><td>4</td><td>42.34802</td><td>-71.08758</td><td> 0.0000000</td><td>-2.486660835</td><td>   4</td><td>  0.00000</td><td>15</td><td> 0.0000000</td><td>0.00000000</td><td>0.001111111</td><td>4</td><td>18</td><td>2019</td></tr>\n",
       "\t<tr><th scope=row>6</th><td>2019-04-18 15:21:42</td><td>10002</td><td>4</td><td>42.34788</td><td>-71.08627</td><td> 8.1603389</td><td> 0.047224184</td><td>  48</td><td>108.80452</td><td>15</td><td> 5.0705980</td><td>0.06760797</td><td>0.013333333</td><td>4</td><td>18</td><td>2019</td></tr>\n",
       "</tbody>\n",
       "</table>\n"
      ],
      "text/latex": [
       "A data.frame: 6 × 16\n",
       "\\begin{tabular}{r|llllllllllllllll}\n",
       "  & trxtime & trainid & lineid & lat & lon & speed\\_kph & accel\\_mps2 & interval\\_seconds & dist\\_meters & hour & speed\\_mph & distance\\_mile & time\\_hr & month & day & year\\\\\n",
       "  & <fct> & <int> & <dbl> & <dbl> & <dbl> & <dbl> & <dbl> & <int> & <dbl> & <int> & <dbl> & <dbl> & <dbl> & <dbl> & <int> & <dbl>\\\\\n",
       "\\hline\n",
       "\t1 & 2019-04-18 05:33:20 & 10001 & 4 & 42.33696 & -71.25329 &  8.0063442 &  0.060549294 &   12 &  26.68781 &  5 &  4.9749101 & 0.01658303 & 0.003333333 & 4 & 18 & 2019\\\\\n",
       "\t2 & 2019-04-18 05:50:21 & 10001 & 4 & 42.33689 & -71.25384 &  0.1637829 & -0.002133682 & 1021 &  46.45064 &  5 &  0.1017699 & 0.02886308 & 0.283611111 & 4 & 18 & 2019\\\\\n",
       "\t3 & 2019-04-18 05:51:52 & 10001 & 4 & 42.33692 & -71.25150 &  7.6248225 &  0.022774846 &   91 & 192.73857 &  5 &  4.7378436 & 0.11976216 & 0.025277778 & 4 & 18 & 2019\\\\\n",
       "\t4 & 2019-04-18 05:52:04 & 10001 & 4 & 42.33666 & -71.25081 & 19.2882000 &  0.269985590 &   12 &  64.29400 &  5 & 11.9851281 & 0.03995043 & 0.003333333 & 4 & 18 & 2019\\\\\n",
       "\t5 & 2019-04-18 15:20:54 & 10002 & 4 & 42.34802 & -71.08758 &  0.0000000 & -2.486660835 &    4 &   0.00000 & 15 &  0.0000000 & 0.00000000 & 0.001111111 & 4 & 18 & 2019\\\\\n",
       "\t6 & 2019-04-18 15:21:42 & 10002 & 4 & 42.34788 & -71.08627 &  8.1603389 &  0.047224184 &   48 & 108.80452 & 15 &  5.0705980 & 0.06760797 & 0.013333333 & 4 & 18 & 2019\\\\\n",
       "\\end{tabular}\n"
      ],
      "text/markdown": [
       "\n",
       "A data.frame: 6 × 16\n",
       "\n",
       "| <!--/--> | trxtime &lt;fct&gt; | trainid &lt;int&gt; | lineid &lt;dbl&gt; | lat &lt;dbl&gt; | lon &lt;dbl&gt; | speed_kph &lt;dbl&gt; | accel_mps2 &lt;dbl&gt; | interval_seconds &lt;int&gt; | dist_meters &lt;dbl&gt; | hour &lt;int&gt; | speed_mph &lt;dbl&gt; | distance_mile &lt;dbl&gt; | time_hr &lt;dbl&gt; | month &lt;dbl&gt; | day &lt;int&gt; | year &lt;dbl&gt; |\n",
       "|---|---|---|---|---|---|---|---|---|---|---|---|---|---|---|---|---|\n",
       "| 1 | 2019-04-18 05:33:20 | 10001 | 4 | 42.33696 | -71.25329 |  8.0063442 |  0.060549294 |   12 |  26.68781 |  5 |  4.9749101 | 0.01658303 | 0.003333333 | 4 | 18 | 2019 |\n",
       "| 2 | 2019-04-18 05:50:21 | 10001 | 4 | 42.33689 | -71.25384 |  0.1637829 | -0.002133682 | 1021 |  46.45064 |  5 |  0.1017699 | 0.02886308 | 0.283611111 | 4 | 18 | 2019 |\n",
       "| 3 | 2019-04-18 05:51:52 | 10001 | 4 | 42.33692 | -71.25150 |  7.6248225 |  0.022774846 |   91 | 192.73857 |  5 |  4.7378436 | 0.11976216 | 0.025277778 | 4 | 18 | 2019 |\n",
       "| 4 | 2019-04-18 05:52:04 | 10001 | 4 | 42.33666 | -71.25081 | 19.2882000 |  0.269985590 |   12 |  64.29400 |  5 | 11.9851281 | 0.03995043 | 0.003333333 | 4 | 18 | 2019 |\n",
       "| 5 | 2019-04-18 15:20:54 | 10002 | 4 | 42.34802 | -71.08758 |  0.0000000 | -2.486660835 |    4 |   0.00000 | 15 |  0.0000000 | 0.00000000 | 0.001111111 | 4 | 18 | 2019 |\n",
       "| 6 | 2019-04-18 15:21:42 | 10002 | 4 | 42.34788 | -71.08627 |  8.1603389 |  0.047224184 |   48 | 108.80452 | 15 |  5.0705980 | 0.06760797 | 0.013333333 | 4 | 18 | 2019 |\n",
       "\n"
      ],
      "text/plain": [
       "  trxtime             trainid lineid lat      lon       speed_kph  accel_mps2  \n",
       "1 2019-04-18 05:33:20 10001   4      42.33696 -71.25329  8.0063442  0.060549294\n",
       "2 2019-04-18 05:50:21 10001   4      42.33689 -71.25384  0.1637829 -0.002133682\n",
       "3 2019-04-18 05:51:52 10001   4      42.33692 -71.25150  7.6248225  0.022774846\n",
       "4 2019-04-18 05:52:04 10001   4      42.33666 -71.25081 19.2882000  0.269985590\n",
       "5 2019-04-18 15:20:54 10002   4      42.34802 -71.08758  0.0000000 -2.486660835\n",
       "6 2019-04-18 15:21:42 10002   4      42.34788 -71.08627  8.1603389  0.047224184\n",
       "  interval_seconds dist_meters hour speed_mph  distance_mile time_hr     month\n",
       "1   12              26.68781    5    4.9749101 0.01658303    0.003333333 4    \n",
       "2 1021              46.45064    5    0.1017699 0.02886308    0.283611111 4    \n",
       "3   91             192.73857    5    4.7378436 0.11976216    0.025277778 4    \n",
       "4   12              64.29400    5   11.9851281 0.03995043    0.003333333 4    \n",
       "5    4               0.00000   15    0.0000000 0.00000000    0.001111111 4    \n",
       "6   48             108.80452   15    5.0705980 0.06760797    0.013333333 4    \n",
       "  day year\n",
       "1 18  2019\n",
       "2 18  2019\n",
       "3 18  2019\n",
       "4 18  2019\n",
       "5 18  2019\n",
       "6 18  2019"
      ]
     },
     "metadata": {},
     "output_type": "display_data"
    }
   ],
   "source": [
    "head(interval_df)"
   ]
  },
  {
   "cell_type": "code",
   "execution_count": 36,
   "metadata": {
    "collapsed": true,
    "jupyter": {
     "outputs_hidden": true
    }
   },
   "outputs": [
    {
     "name": "stdout",
     "output_type": "stream",
     "text": [
      "[1] \"The speed bins are: 0\"               \n",
      "[2] \"The speed bins are: 3.33272736335731\"\n",
      "[3] \"The speed bins are: 8.50050835028565\"\n",
      "[4] \"The speed bins are: 11.8052011776986\"\n",
      "[5] \"The speed bins are: 16.7923674403438\"\n",
      "[6] \"The speed bins are: 22.3705035018412\"\n",
      "[7] \"The speed bins are: 24.7505772322724\"\n",
      "[8] \"The speed bins are: 34.9638698112347\"\n",
      "[9] \"The speed bins are: 105.519692067959\"\n",
      "[1] \"Percentage error of summed speed bin times = 0%\"\n"
     ]
    }
   ],
   "source": [
    "interval_df = bin_speeds(interval_df,8)"
   ]
  },
  {
   "cell_type": "code",
   "execution_count": 35,
   "metadata": {
    "collapsed": true,
    "jupyter": {
     "outputs_hidden": true
    }
   },
   "outputs": [
    {
     "name": "stdout",
     "output_type": "stream",
     "text": [
      "[1] \"The acceleration bins are: -5.99748799725593\"  \n",
      "[2] \"The acceleration bins are: -0.570758748925381\" \n",
      "[3] \"The acceleration bins are: -0.18134232893492\"  \n",
      "[4] \"The acceleration bins are: -0.0696380201589522\"\n",
      "[5] \"The acceleration bins are: 0\"                  \n",
      "[6] \"The acceleration bins are: 0.0941672379743939\" \n",
      "[7] \"The acceleration bins are: 0.419860505282267\"  \n",
      "[8] \"The acceleration bins are: 0.999133538718633\"  \n",
      "[9] \"The acceleration bins are: 5.99942097861047\"   \n",
      "[1] \"Percentage error of summed acceleration bin times = 0%\"\n"
     ]
    }
   ],
   "source": [
    "interval_df = bin_accelerations(interval_df,8)"
   ]
  },
  {
   "cell_type": "code",
   "execution_count": 46,
   "metadata": {
    "collapsed": true,
    "jupyter": {
     "outputs_hidden": true
    }
   },
   "outputs": [
    {
     "name": "stdout",
     "output_type": "stream",
     "text": [
      "[1] \"The speed bins are: 0\"               \n",
      "[2] \"The speed bins are: 3.33272736335731\"\n",
      "[3] \"The speed bins are: 8.50050835028565\"\n",
      "[4] \"The speed bins are: 11.8052011776986\"\n",
      "[5] \"The speed bins are: 16.7923674403438\"\n",
      "[6] \"The speed bins are: 22.3705035018412\"\n",
      "[7] \"The speed bins are: 24.7505772322724\"\n",
      "[8] \"The speed bins are: 34.9638698112347\"\n",
      "[9] \"The speed bins are: 105.519692067959\"\n",
      "[1] \"Percentage error of summed speed bin times = 0%\"\n",
      "[1] \"The acceleration bins are: -5.99748799725593\"  \n",
      "[2] \"The acceleration bins are: -0.570758748925381\" \n",
      "[3] \"The acceleration bins are: -0.18134232893492\"  \n",
      "[4] \"The acceleration bins are: -0.0696380201589522\"\n",
      "[5] \"The acceleration bins are: 0\"                  \n",
      "[6] \"The acceleration bins are: 0.0941672379743939\" \n",
      "[7] \"The acceleration bins are: 0.419860505282267\"  \n",
      "[8] \"The acceleration bins are: 0.999133538718633\"  \n",
      "[9] \"The acceleration bins are: 5.99942097861047\"   \n",
      "[1] \"Percentage error of summed acceleration bin times = 0%\"\n"
     ]
    }
   ],
   "source": [
    "interval_df = bin_speeds(interval_df,8)\n",
    "interval_df = bin_accelerations(interval_df,8)\n",
    "interval_df = hour_aggregate(interval_df,8)"
   ]
  },
  {
   "cell_type": "code",
   "execution_count": 47,
   "metadata": {
    "collapsed": true,
    "jupyter": {
     "outputs_hidden": true
    }
   },
   "outputs": [
    {
     "data": {
      "text/html": [
       "<table class=\"dataframe\">\n",
       "<caption>A data.table: 6 × 23</caption>\n",
       "<thead>\n",
       "\t<tr><th scope=col>month</th><th scope=col>hour</th><th scope=col>day</th><th scope=col>distance_mile</th><th scope=col>time_hr</th><th scope=col>speed_bin_1_time_hr</th><th scope=col>speed_bin_2_time_hr</th><th scope=col>speed_bin_3_time_hr</th><th scope=col>speed_bin_4_time_hr</th><th scope=col>speed_bin_5_time_hr</th><th scope=col>...</th><th scope=col>accel_bin_1_time_hr</th><th scope=col>accel_bin_2_time_hr</th><th scope=col>accel_bin_3_time_hr</th><th scope=col>accel_bin_4_time_hr</th><th scope=col>accel_bin_5_time_hr</th><th scope=col>accel_bin_6_time_hr</th><th scope=col>accel_bin_7_time_hr</th><th scope=col>accel_bin_8_time_hr</th><th scope=col>avg_interval_speed_mph</th><th scope=col>avg_hour_speed_mph</th></tr>\n",
       "\t<tr><th scope=col>&lt;chr&gt;</th><th scope=col>&lt;chr&gt;</th><th scope=col>&lt;chr&gt;</th><th scope=col>&lt;dbl&gt;</th><th scope=col>&lt;dbl&gt;</th><th scope=col>&lt;dbl&gt;</th><th scope=col>&lt;dbl&gt;</th><th scope=col>&lt;dbl&gt;</th><th scope=col>&lt;dbl&gt;</th><th scope=col>&lt;dbl&gt;</th><th scope=col>...</th><th scope=col>&lt;dbl&gt;</th><th scope=col>&lt;dbl&gt;</th><th scope=col>&lt;dbl&gt;</th><th scope=col>&lt;dbl&gt;</th><th scope=col>&lt;dbl&gt;</th><th scope=col>&lt;dbl&gt;</th><th scope=col>&lt;dbl&gt;</th><th scope=col>&lt;dbl&gt;</th><th scope=col>&lt;dbl&gt;</th><th scope=col>&lt;dbl&gt;</th></tr>\n",
       "</thead>\n",
       "<tbody>\n",
       "\t<tr><td>4</td><td>5 </td><td>18</td><td> 464.394</td><td> 40.10694</td><td> 14.18222</td><td> 7.716111</td><td> 3.554167</td><td> 3.673889</td><td>3.040000</td><td>...</td><td>1.466111</td><td> 5.959444</td><td> 6.580833</td><td> 13.33333</td><td> 6.038889</td><td> 3.873611</td><td>1.718889</td><td>1.135833</td><td>20.20326</td><td>11.578892</td></tr>\n",
       "\t<tr><td>4</td><td>15</td><td>18</td><td>1324.980</td><td>208.83472</td><td>123.80944</td><td>35.813889</td><td>10.250556</td><td>11.181667</td><td>7.685556</td><td>...</td><td>3.900556</td><td>14.942778</td><td>23.580000</td><td>105.82639</td><td>42.088889</td><td>10.448611</td><td>5.031111</td><td>3.016389</td><td>19.42858</td><td> 6.344634</td></tr>\n",
       "\t<tr><td>4</td><td>16</td><td>18</td><td>1409.778</td><td>192.03167</td><td>103.41972</td><td>35.088611</td><td>12.527500</td><td>11.157778</td><td>8.751944</td><td>...</td><td>4.168611</td><td>15.835278</td><td>25.506389</td><td> 79.69250</td><td>47.324444</td><td>11.042222</td><td>5.416389</td><td>3.045833</td><td>19.24910</td><td> 7.341382</td></tr>\n",
       "\t<tr><td>4</td><td>17</td><td>18</td><td>1463.739</td><td>205.85472</td><td>109.37500</td><td>43.069167</td><td>11.019167</td><td>11.886111</td><td>8.746944</td><td>...</td><td>4.457222</td><td>15.849722</td><td>27.717222</td><td> 81.83583</td><td>56.040000</td><td>10.901389</td><td>5.480833</td><td>3.572500</td><td>19.37381</td><td> 7.110545</td></tr>\n",
       "\t<tr><td>4</td><td>18</td><td>18</td><td>1409.276</td><td>178.46694</td><td> 88.44000</td><td>35.390556</td><td>12.376111</td><td>12.353611</td><td>8.975556</td><td>...</td><td>4.400833</td><td>14.901667</td><td>27.059444</td><td> 80.63833</td><td>32.303056</td><td>10.845000</td><td>5.151111</td><td>3.167500</td><td>19.14736</td><td> 7.896565</td></tr>\n",
       "\t<tr><td>4</td><td>19</td><td>18</td><td>1272.166</td><td>155.38139</td><td> 72.36694</td><td>35.792222</td><td> 9.624444</td><td>10.995000</td><td>8.405833</td><td>...</td><td>4.304722</td><td>13.193333</td><td>23.107778</td><td> 48.52639</td><td>49.091389</td><td> 9.690278</td><td>4.417222</td><td>3.050278</td><td>19.13814</td><td> 8.187376</td></tr>\n",
       "</tbody>\n",
       "</table>\n"
      ],
      "text/latex": [
       "A data.table: 6 × 23\n",
       "\\begin{tabular}{lllllllllllllllllllll}\n",
       " month & hour & day & distance\\_mile & time\\_hr & speed\\_bin\\_1\\_time\\_hr & speed\\_bin\\_2\\_time\\_hr & speed\\_bin\\_3\\_time\\_hr & speed\\_bin\\_4\\_time\\_hr & speed\\_bin\\_5\\_time\\_hr & ... & accel\\_bin\\_1\\_time\\_hr & accel\\_bin\\_2\\_time\\_hr & accel\\_bin\\_3\\_time\\_hr & accel\\_bin\\_4\\_time\\_hr & accel\\_bin\\_5\\_time\\_hr & accel\\_bin\\_6\\_time\\_hr & accel\\_bin\\_7\\_time\\_hr & accel\\_bin\\_8\\_time\\_hr & avg\\_interval\\_speed\\_mph & avg\\_hour\\_speed\\_mph\\\\\n",
       " <chr> & <chr> & <chr> & <dbl> & <dbl> & <dbl> & <dbl> & <dbl> & <dbl> & <dbl> & ... & <dbl> & <dbl> & <dbl> & <dbl> & <dbl> & <dbl> & <dbl> & <dbl> & <dbl> & <dbl>\\\\\n",
       "\\hline\n",
       "\t 4 & 5  & 18 &  464.394 &  40.10694 &  14.18222 &  7.716111 &  3.554167 &  3.673889 & 3.040000 & ... & 1.466111 &  5.959444 &  6.580833 &  13.33333 &  6.038889 &  3.873611 & 1.718889 & 1.135833 & 20.20326 & 11.578892\\\\\n",
       "\t 4 & 15 & 18 & 1324.980 & 208.83472 & 123.80944 & 35.813889 & 10.250556 & 11.181667 & 7.685556 & ... & 3.900556 & 14.942778 & 23.580000 & 105.82639 & 42.088889 & 10.448611 & 5.031111 & 3.016389 & 19.42858 &  6.344634\\\\\n",
       "\t 4 & 16 & 18 & 1409.778 & 192.03167 & 103.41972 & 35.088611 & 12.527500 & 11.157778 & 8.751944 & ... & 4.168611 & 15.835278 & 25.506389 &  79.69250 & 47.324444 & 11.042222 & 5.416389 & 3.045833 & 19.24910 &  7.341382\\\\\n",
       "\t 4 & 17 & 18 & 1463.739 & 205.85472 & 109.37500 & 43.069167 & 11.019167 & 11.886111 & 8.746944 & ... & 4.457222 & 15.849722 & 27.717222 &  81.83583 & 56.040000 & 10.901389 & 5.480833 & 3.572500 & 19.37381 &  7.110545\\\\\n",
       "\t 4 & 18 & 18 & 1409.276 & 178.46694 &  88.44000 & 35.390556 & 12.376111 & 12.353611 & 8.975556 & ... & 4.400833 & 14.901667 & 27.059444 &  80.63833 & 32.303056 & 10.845000 & 5.151111 & 3.167500 & 19.14736 &  7.896565\\\\\n",
       "\t 4 & 19 & 18 & 1272.166 & 155.38139 &  72.36694 & 35.792222 &  9.624444 & 10.995000 & 8.405833 & ... & 4.304722 & 13.193333 & 23.107778 &  48.52639 & 49.091389 &  9.690278 & 4.417222 & 3.050278 & 19.13814 &  8.187376\\\\\n",
       "\\end{tabular}\n"
      ],
      "text/markdown": [
       "\n",
       "A data.table: 6 × 23\n",
       "\n",
       "| month &lt;chr&gt; | hour &lt;chr&gt; | day &lt;chr&gt; | distance_mile &lt;dbl&gt; | time_hr &lt;dbl&gt; | speed_bin_1_time_hr &lt;dbl&gt; | speed_bin_2_time_hr &lt;dbl&gt; | speed_bin_3_time_hr &lt;dbl&gt; | speed_bin_4_time_hr &lt;dbl&gt; | speed_bin_5_time_hr &lt;dbl&gt; | ... ... | accel_bin_1_time_hr &lt;dbl&gt; | accel_bin_2_time_hr &lt;dbl&gt; | accel_bin_3_time_hr &lt;dbl&gt; | accel_bin_4_time_hr &lt;dbl&gt; | accel_bin_5_time_hr &lt;dbl&gt; | accel_bin_6_time_hr &lt;dbl&gt; | accel_bin_7_time_hr &lt;dbl&gt; | accel_bin_8_time_hr &lt;dbl&gt; | avg_interval_speed_mph &lt;dbl&gt; | avg_hour_speed_mph &lt;dbl&gt; |\n",
       "|---|---|---|---|---|---|---|---|---|---|---|---|---|---|---|---|---|---|---|---|---|\n",
       "| 4 | 5  | 18 |  464.394 |  40.10694 |  14.18222 |  7.716111 |  3.554167 |  3.673889 | 3.040000 | ... | 1.466111 |  5.959444 |  6.580833 |  13.33333 |  6.038889 |  3.873611 | 1.718889 | 1.135833 | 20.20326 | 11.578892 |\n",
       "| 4 | 15 | 18 | 1324.980 | 208.83472 | 123.80944 | 35.813889 | 10.250556 | 11.181667 | 7.685556 | ... | 3.900556 | 14.942778 | 23.580000 | 105.82639 | 42.088889 | 10.448611 | 5.031111 | 3.016389 | 19.42858 |  6.344634 |\n",
       "| 4 | 16 | 18 | 1409.778 | 192.03167 | 103.41972 | 35.088611 | 12.527500 | 11.157778 | 8.751944 | ... | 4.168611 | 15.835278 | 25.506389 |  79.69250 | 47.324444 | 11.042222 | 5.416389 | 3.045833 | 19.24910 |  7.341382 |\n",
       "| 4 | 17 | 18 | 1463.739 | 205.85472 | 109.37500 | 43.069167 | 11.019167 | 11.886111 | 8.746944 | ... | 4.457222 | 15.849722 | 27.717222 |  81.83583 | 56.040000 | 10.901389 | 5.480833 | 3.572500 | 19.37381 |  7.110545 |\n",
       "| 4 | 18 | 18 | 1409.276 | 178.46694 |  88.44000 | 35.390556 | 12.376111 | 12.353611 | 8.975556 | ... | 4.400833 | 14.901667 | 27.059444 |  80.63833 | 32.303056 | 10.845000 | 5.151111 | 3.167500 | 19.14736 |  7.896565 |\n",
       "| 4 | 19 | 18 | 1272.166 | 155.38139 |  72.36694 | 35.792222 |  9.624444 | 10.995000 | 8.405833 | ... | 4.304722 | 13.193333 | 23.107778 |  48.52639 | 49.091389 |  9.690278 | 4.417222 | 3.050278 | 19.13814 |  8.187376 |\n",
       "\n"
      ],
      "text/plain": [
       "  month hour day distance_mile time_hr   speed_bin_1_time_hr\n",
       "1 4     5    18   464.394       40.10694  14.18222          \n",
       "2 4     15   18  1324.980      208.83472 123.80944          \n",
       "3 4     16   18  1409.778      192.03167 103.41972          \n",
       "4 4     17   18  1463.739      205.85472 109.37500          \n",
       "5 4     18   18  1409.276      178.46694  88.44000          \n",
       "6 4     19   18  1272.166      155.38139  72.36694          \n",
       "  speed_bin_2_time_hr speed_bin_3_time_hr speed_bin_4_time_hr\n",
       "1  7.716111            3.554167            3.673889          \n",
       "2 35.813889           10.250556           11.181667          \n",
       "3 35.088611           12.527500           11.157778          \n",
       "4 43.069167           11.019167           11.886111          \n",
       "5 35.390556           12.376111           12.353611          \n",
       "6 35.792222            9.624444           10.995000          \n",
       "  speed_bin_5_time_hr ... accel_bin_1_time_hr accel_bin_2_time_hr\n",
       "1 3.040000            ... 1.466111             5.959444          \n",
       "2 7.685556            ... 3.900556            14.942778          \n",
       "3 8.751944            ... 4.168611            15.835278          \n",
       "4 8.746944            ... 4.457222            15.849722          \n",
       "5 8.975556            ... 4.400833            14.901667          \n",
       "6 8.405833            ... 4.304722            13.193333          \n",
       "  accel_bin_3_time_hr accel_bin_4_time_hr accel_bin_5_time_hr\n",
       "1  6.580833            13.33333            6.038889          \n",
       "2 23.580000           105.82639           42.088889          \n",
       "3 25.506389            79.69250           47.324444          \n",
       "4 27.717222            81.83583           56.040000          \n",
       "5 27.059444            80.63833           32.303056          \n",
       "6 23.107778            48.52639           49.091389          \n",
       "  accel_bin_6_time_hr accel_bin_7_time_hr accel_bin_8_time_hr\n",
       "1  3.873611           1.718889            1.135833           \n",
       "2 10.448611           5.031111            3.016389           \n",
       "3 11.042222           5.416389            3.045833           \n",
       "4 10.901389           5.480833            3.572500           \n",
       "5 10.845000           5.151111            3.167500           \n",
       "6  9.690278           4.417222            3.050278           \n",
       "  avg_interval_speed_mph avg_hour_speed_mph\n",
       "1 20.20326               11.578892         \n",
       "2 19.42858                6.344634         \n",
       "3 19.24910                7.341382         \n",
       "4 19.37381                7.110545         \n",
       "5 19.14736                7.896565         \n",
       "6 19.13814                8.187376         "
      ]
     },
     "metadata": {},
     "output_type": "display_data"
    }
   ],
   "source": [
    "head(interval_df)"
   ]
  },
  {
   "cell_type": "code",
   "execution_count": 31,
   "metadata": {},
   "outputs": [],
   "source": [
    "# Calculate the speed bins \n",
    "bin_speeds <- function (dataframe, num_bins) {\n",
    "  dataframe = data.table(dataframe)\n",
    "  dummy_cols = c(paste0(\"speed_bin_\",1:num_bins,\"_dummy\"))\n",
    "  bin_time_cols = c(paste0(\"speed_bin_\",1:num_bins,\"_time_hr\"))\n",
    "  cutpoints <- quantile(dataframe$speed_mph,seq(0, 1, 1/num_bins),na.rm=TRUE) \n",
    "  print(paste0(\"The speed bins are: \", cutpoints))\n",
    "  for(n in seq(1, num_bins)) {\n",
    "    if(n == 1){\n",
    "     dataframe[, dummy_cols[n] := sapply(speed_mph,  function(x) ifelse (x < cutpoints[n+1], 1, 0))]\n",
    "    }\n",
    "    else if (n == num_bins){\n",
    "     dataframe[, dummy_cols[n] := sapply(speed_mph,  function(x) ifelse (x >= cutpoints[num_bins], 1, 0))]\n",
    "    }\n",
    "    else {\n",
    "    dataframe[, dummy_cols[n] := sapply(speed_mph,  function(x) ifelse (x >= cutpoints[n] & x < cutpoints[n + 1], 1, 0))]\n",
    "    }\n",
    "  }\n",
    " dataframe[, (bin_time_cols) := lapply(.SD, function(x) x * dataframe$time_hr ), .SDcols = dummy_cols]\n",
    " print(paste0(\"Percentage error of summed speed bin times = \", \n",
    "              round(100*(sum(colSums(dataframe %>% select(starts_with(\"speed_bin_\") & ends_with(\"_time_hr\")),na.rm=TRUE)) \n",
    "                         - sum(dataframe$time_hr, na.rm=TRUE))/sum(dataframe$time_hr, na.rm=TRUE),2), \"%\"))\n",
    " return(dataframe) \n",
    "}"
   ]
  },
  {
   "cell_type": "code",
   "execution_count": 32,
   "metadata": {},
   "outputs": [],
   "source": [
    "# Calculate the acceleration bins \n",
    "bin_accelerations <- function (dataframe, num_bins) {\n",
    "  dataframe = data.table(dataframe)\n",
    "  dummy_cols = c(paste0(\"accel_bin_\",1:num_bins,\"_dummy\"))\n",
    "  bin_time_cols = c(paste0(\"accel_bin_\",1:num_bins,\"_time_hr\"))\n",
    "  cutpoints <- quantile(dataframe$accel_mps2,seq(0, 1, 1/num_bins),na.rm=TRUE) \n",
    "  print(paste0(\"The acceleration bins are: \", cutpoints))\n",
    "  for(n in seq(1, num_bins)) {\n",
    "    if(n == 1){\n",
    "      dataframe[, dummy_cols[n] := sapply(accel_mps2,  function(x) ifelse (x < cutpoints[n+1], 1, 0))]\n",
    "    }\n",
    "    else if (n == num_bins){\n",
    "      dataframe[, dummy_cols[n] := sapply(accel_mps2,  function(x) ifelse (x >= cutpoints[num_bins], 1, 0))]\n",
    "    }\n",
    "    else {\n",
    "      dataframe[, dummy_cols[n] := sapply(accel_mps2,  function(x) ifelse (x >= cutpoints[n] & x < cutpoints[n + 1], 1, 0))]\n",
    "    }\n",
    "  }\n",
    "  dataframe[, (bin_time_cols) := lapply(.SD, function(x) x * dataframe$time_hr ), .SDcols = dummy_cols]\n",
    "  print(paste0(\"Percentage error of summed acceleration bin times = \", \n",
    "               round(100*(sum(colSums(dataframe %>% select(starts_with(\"accel_bin_\") & ends_with(\"_time_hr\")),na.rm=TRUE)) \n",
    "                          - sum(dataframe$time_hr, na.rm=TRUE))/sum(dataframe$time_hr, na.rm=TRUE),2), \"%\"))                                                  \n",
    "  return(dataframe)\n",
    "}"
   ]
  },
  {
   "cell_type": "code",
   "execution_count": 38,
   "metadata": {},
   "outputs": [],
   "source": [
    "# Aggregate dataframe at hour level\n",
    "hour_aggregate <- function (dataframe,num_bins) {\n",
    "    dataframe = data.table(dataframe)\n",
    "    dataframe$month = as.character(dataframe$month)\n",
    "    dataframe$hour = as.character(dataframe$hour)\n",
    "    dataframe$day = as.character(dataframe$day)\n",
    "    sum_cols = c(\"distance_mile\",\"time_hr\",paste0(\"speed_bin_\",1:num_bins,\"_time_hr\"),paste0(\"accel_bin_\",1:num_bins,\"_time_hr\"))\n",
    "    agg_df = dataframe[, lapply( .SD, sum , na.rm=TRUE), by = c(\"month\",'hour',\"day\"), .SDcols = sum_cols]\n",
    "    avg_interval_speed_mph_df = dataframe[, lapply( .SD, mean , na.rm=TRUE), by = c(\"month\",\"hour\",\"day\"), .SDcols = 'speed_mph']\n",
    "    agg_df[, 'avg_interval_speed_mph'] = avg_interval_speed_mph_df$speed_mph\n",
    "    agg_df[, 'avg_hour_speed_mph'] = agg_df$distance_mile/agg_df$time_hr\n",
    "    return(agg_df)\n",
    "}"
   ]
  },
  {
   "cell_type": "code",
   "execution_count": 39,
   "metadata": {},
   "outputs": [],
   "source": [
    "interval_df = hour_aggregate(interval_df,8)"
   ]
  },
  {
   "cell_type": "code",
   "execution_count": 53,
   "metadata": {
    "collapsed": true,
    "jupyter": {
     "outputs_hidden": true
    }
   },
   "outputs": [
    {
     "data": {
      "text/html": [
       "<table class=\"dataframe\">\n",
       "<caption>A data.table: 6 × 23</caption>\n",
       "<thead>\n",
       "\t<tr><th scope=col>month</th><th scope=col>hour</th><th scope=col>day</th><th scope=col>distance_mile</th><th scope=col>time_hr</th><th scope=col>speed_bin_1_time_hr</th><th scope=col>speed_bin_2_time_hr</th><th scope=col>speed_bin_3_time_hr</th><th scope=col>speed_bin_4_time_hr</th><th scope=col>speed_bin_5_time_hr</th><th scope=col>...</th><th scope=col>accel_bin_1_time_hr</th><th scope=col>accel_bin_2_time_hr</th><th scope=col>accel_bin_3_time_hr</th><th scope=col>accel_bin_4_time_hr</th><th scope=col>accel_bin_5_time_hr</th><th scope=col>accel_bin_6_time_hr</th><th scope=col>accel_bin_7_time_hr</th><th scope=col>accel_bin_8_time_hr</th><th scope=col>avg_interval_speed_mph</th><th scope=col>avg_hour_speed_mph</th></tr>\n",
       "\t<tr><th scope=col>&lt;chr&gt;</th><th scope=col>&lt;chr&gt;</th><th scope=col>&lt;chr&gt;</th><th scope=col>&lt;dbl&gt;</th><th scope=col>&lt;dbl&gt;</th><th scope=col>&lt;dbl&gt;</th><th scope=col>&lt;dbl&gt;</th><th scope=col>&lt;dbl&gt;</th><th scope=col>&lt;dbl&gt;</th><th scope=col>&lt;dbl&gt;</th><th scope=col>...</th><th scope=col>&lt;dbl&gt;</th><th scope=col>&lt;dbl&gt;</th><th scope=col>&lt;dbl&gt;</th><th scope=col>&lt;dbl&gt;</th><th scope=col>&lt;dbl&gt;</th><th scope=col>&lt;dbl&gt;</th><th scope=col>&lt;dbl&gt;</th><th scope=col>&lt;dbl&gt;</th><th scope=col>&lt;dbl&gt;</th><th scope=col>&lt;dbl&gt;</th></tr>\n",
       "</thead>\n",
       "<tbody>\n",
       "\t<tr><td>4</td><td>5 </td><td>18</td><td> 464.394</td><td> 40.10694</td><td> 14.18222</td><td> 7.716111</td><td> 3.554167</td><td> 3.673889</td><td>3.040000</td><td>...</td><td>1.466111</td><td> 5.959444</td><td> 6.580833</td><td> 13.33333</td><td> 6.038889</td><td> 3.873611</td><td>1.718889</td><td>1.135833</td><td>20.20326</td><td>11.578892</td></tr>\n",
       "\t<tr><td>4</td><td>15</td><td>18</td><td>1324.980</td><td>208.83472</td><td>123.80944</td><td>35.813889</td><td>10.250556</td><td>11.181667</td><td>7.685556</td><td>...</td><td>3.900556</td><td>14.942778</td><td>23.580000</td><td>105.82639</td><td>42.088889</td><td>10.448611</td><td>5.031111</td><td>3.016389</td><td>19.42858</td><td> 6.344634</td></tr>\n",
       "\t<tr><td>4</td><td>16</td><td>18</td><td>1409.778</td><td>192.03167</td><td>103.41972</td><td>35.088611</td><td>12.527500</td><td>11.157778</td><td>8.751944</td><td>...</td><td>4.168611</td><td>15.835278</td><td>25.506389</td><td> 79.69250</td><td>47.324444</td><td>11.042222</td><td>5.416389</td><td>3.045833</td><td>19.24910</td><td> 7.341382</td></tr>\n",
       "\t<tr><td>4</td><td>17</td><td>18</td><td>1463.739</td><td>205.85472</td><td>109.37500</td><td>43.069167</td><td>11.019167</td><td>11.886111</td><td>8.746944</td><td>...</td><td>4.457222</td><td>15.849722</td><td>27.717222</td><td> 81.83583</td><td>56.040000</td><td>10.901389</td><td>5.480833</td><td>3.572500</td><td>19.37381</td><td> 7.110545</td></tr>\n",
       "\t<tr><td>4</td><td>18</td><td>18</td><td>1409.276</td><td>178.46694</td><td> 88.44000</td><td>35.390556</td><td>12.376111</td><td>12.353611</td><td>8.975556</td><td>...</td><td>4.400833</td><td>14.901667</td><td>27.059444</td><td> 80.63833</td><td>32.303056</td><td>10.845000</td><td>5.151111</td><td>3.167500</td><td>19.14736</td><td> 7.896565</td></tr>\n",
       "\t<tr><td>4</td><td>19</td><td>18</td><td>1272.166</td><td>155.38139</td><td> 72.36694</td><td>35.792222</td><td> 9.624444</td><td>10.995000</td><td>8.405833</td><td>...</td><td>4.304722</td><td>13.193333</td><td>23.107778</td><td> 48.52639</td><td>49.091389</td><td> 9.690278</td><td>4.417222</td><td>3.050278</td><td>19.13814</td><td> 8.187376</td></tr>\n",
       "</tbody>\n",
       "</table>\n"
      ],
      "text/latex": [
       "A data.table: 6 × 23\n",
       "\\begin{tabular}{lllllllllllllllllllll}\n",
       " month & hour & day & distance\\_mile & time\\_hr & speed\\_bin\\_1\\_time\\_hr & speed\\_bin\\_2\\_time\\_hr & speed\\_bin\\_3\\_time\\_hr & speed\\_bin\\_4\\_time\\_hr & speed\\_bin\\_5\\_time\\_hr & ... & accel\\_bin\\_1\\_time\\_hr & accel\\_bin\\_2\\_time\\_hr & accel\\_bin\\_3\\_time\\_hr & accel\\_bin\\_4\\_time\\_hr & accel\\_bin\\_5\\_time\\_hr & accel\\_bin\\_6\\_time\\_hr & accel\\_bin\\_7\\_time\\_hr & accel\\_bin\\_8\\_time\\_hr & avg\\_interval\\_speed\\_mph & avg\\_hour\\_speed\\_mph\\\\\n",
       " <chr> & <chr> & <chr> & <dbl> & <dbl> & <dbl> & <dbl> & <dbl> & <dbl> & <dbl> & ... & <dbl> & <dbl> & <dbl> & <dbl> & <dbl> & <dbl> & <dbl> & <dbl> & <dbl> & <dbl>\\\\\n",
       "\\hline\n",
       "\t 4 & 5  & 18 &  464.394 &  40.10694 &  14.18222 &  7.716111 &  3.554167 &  3.673889 & 3.040000 & ... & 1.466111 &  5.959444 &  6.580833 &  13.33333 &  6.038889 &  3.873611 & 1.718889 & 1.135833 & 20.20326 & 11.578892\\\\\n",
       "\t 4 & 15 & 18 & 1324.980 & 208.83472 & 123.80944 & 35.813889 & 10.250556 & 11.181667 & 7.685556 & ... & 3.900556 & 14.942778 & 23.580000 & 105.82639 & 42.088889 & 10.448611 & 5.031111 & 3.016389 & 19.42858 &  6.344634\\\\\n",
       "\t 4 & 16 & 18 & 1409.778 & 192.03167 & 103.41972 & 35.088611 & 12.527500 & 11.157778 & 8.751944 & ... & 4.168611 & 15.835278 & 25.506389 &  79.69250 & 47.324444 & 11.042222 & 5.416389 & 3.045833 & 19.24910 &  7.341382\\\\\n",
       "\t 4 & 17 & 18 & 1463.739 & 205.85472 & 109.37500 & 43.069167 & 11.019167 & 11.886111 & 8.746944 & ... & 4.457222 & 15.849722 & 27.717222 &  81.83583 & 56.040000 & 10.901389 & 5.480833 & 3.572500 & 19.37381 &  7.110545\\\\\n",
       "\t 4 & 18 & 18 & 1409.276 & 178.46694 &  88.44000 & 35.390556 & 12.376111 & 12.353611 & 8.975556 & ... & 4.400833 & 14.901667 & 27.059444 &  80.63833 & 32.303056 & 10.845000 & 5.151111 & 3.167500 & 19.14736 &  7.896565\\\\\n",
       "\t 4 & 19 & 18 & 1272.166 & 155.38139 &  72.36694 & 35.792222 &  9.624444 & 10.995000 & 8.405833 & ... & 4.304722 & 13.193333 & 23.107778 &  48.52639 & 49.091389 &  9.690278 & 4.417222 & 3.050278 & 19.13814 &  8.187376\\\\\n",
       "\\end{tabular}\n"
      ],
      "text/markdown": [
       "\n",
       "A data.table: 6 × 23\n",
       "\n",
       "| month &lt;chr&gt; | hour &lt;chr&gt; | day &lt;chr&gt; | distance_mile &lt;dbl&gt; | time_hr &lt;dbl&gt; | speed_bin_1_time_hr &lt;dbl&gt; | speed_bin_2_time_hr &lt;dbl&gt; | speed_bin_3_time_hr &lt;dbl&gt; | speed_bin_4_time_hr &lt;dbl&gt; | speed_bin_5_time_hr &lt;dbl&gt; | ... ... | accel_bin_1_time_hr &lt;dbl&gt; | accel_bin_2_time_hr &lt;dbl&gt; | accel_bin_3_time_hr &lt;dbl&gt; | accel_bin_4_time_hr &lt;dbl&gt; | accel_bin_5_time_hr &lt;dbl&gt; | accel_bin_6_time_hr &lt;dbl&gt; | accel_bin_7_time_hr &lt;dbl&gt; | accel_bin_8_time_hr &lt;dbl&gt; | avg_interval_speed_mph &lt;dbl&gt; | avg_hour_speed_mph &lt;dbl&gt; |\n",
       "|---|---|---|---|---|---|---|---|---|---|---|---|---|---|---|---|---|---|---|---|---|\n",
       "| 4 | 5  | 18 |  464.394 |  40.10694 |  14.18222 |  7.716111 |  3.554167 |  3.673889 | 3.040000 | ... | 1.466111 |  5.959444 |  6.580833 |  13.33333 |  6.038889 |  3.873611 | 1.718889 | 1.135833 | 20.20326 | 11.578892 |\n",
       "| 4 | 15 | 18 | 1324.980 | 208.83472 | 123.80944 | 35.813889 | 10.250556 | 11.181667 | 7.685556 | ... | 3.900556 | 14.942778 | 23.580000 | 105.82639 | 42.088889 | 10.448611 | 5.031111 | 3.016389 | 19.42858 |  6.344634 |\n",
       "| 4 | 16 | 18 | 1409.778 | 192.03167 | 103.41972 | 35.088611 | 12.527500 | 11.157778 | 8.751944 | ... | 4.168611 | 15.835278 | 25.506389 |  79.69250 | 47.324444 | 11.042222 | 5.416389 | 3.045833 | 19.24910 |  7.341382 |\n",
       "| 4 | 17 | 18 | 1463.739 | 205.85472 | 109.37500 | 43.069167 | 11.019167 | 11.886111 | 8.746944 | ... | 4.457222 | 15.849722 | 27.717222 |  81.83583 | 56.040000 | 10.901389 | 5.480833 | 3.572500 | 19.37381 |  7.110545 |\n",
       "| 4 | 18 | 18 | 1409.276 | 178.46694 |  88.44000 | 35.390556 | 12.376111 | 12.353611 | 8.975556 | ... | 4.400833 | 14.901667 | 27.059444 |  80.63833 | 32.303056 | 10.845000 | 5.151111 | 3.167500 | 19.14736 |  7.896565 |\n",
       "| 4 | 19 | 18 | 1272.166 | 155.38139 |  72.36694 | 35.792222 |  9.624444 | 10.995000 | 8.405833 | ... | 4.304722 | 13.193333 | 23.107778 |  48.52639 | 49.091389 |  9.690278 | 4.417222 | 3.050278 | 19.13814 |  8.187376 |\n",
       "\n"
      ],
      "text/plain": [
       "  month hour day distance_mile time_hr   speed_bin_1_time_hr\n",
       "1 4     5    18   464.394       40.10694  14.18222          \n",
       "2 4     15   18  1324.980      208.83472 123.80944          \n",
       "3 4     16   18  1409.778      192.03167 103.41972          \n",
       "4 4     17   18  1463.739      205.85472 109.37500          \n",
       "5 4     18   18  1409.276      178.46694  88.44000          \n",
       "6 4     19   18  1272.166      155.38139  72.36694          \n",
       "  speed_bin_2_time_hr speed_bin_3_time_hr speed_bin_4_time_hr\n",
       "1  7.716111            3.554167            3.673889          \n",
       "2 35.813889           10.250556           11.181667          \n",
       "3 35.088611           12.527500           11.157778          \n",
       "4 43.069167           11.019167           11.886111          \n",
       "5 35.390556           12.376111           12.353611          \n",
       "6 35.792222            9.624444           10.995000          \n",
       "  speed_bin_5_time_hr ... accel_bin_1_time_hr accel_bin_2_time_hr\n",
       "1 3.040000            ... 1.466111             5.959444          \n",
       "2 7.685556            ... 3.900556            14.942778          \n",
       "3 8.751944            ... 4.168611            15.835278          \n",
       "4 8.746944            ... 4.457222            15.849722          \n",
       "5 8.975556            ... 4.400833            14.901667          \n",
       "6 8.405833            ... 4.304722            13.193333          \n",
       "  accel_bin_3_time_hr accel_bin_4_time_hr accel_bin_5_time_hr\n",
       "1  6.580833            13.33333            6.038889          \n",
       "2 23.580000           105.82639           42.088889          \n",
       "3 25.506389            79.69250           47.324444          \n",
       "4 27.717222            81.83583           56.040000          \n",
       "5 27.059444            80.63833           32.303056          \n",
       "6 23.107778            48.52639           49.091389          \n",
       "  accel_bin_6_time_hr accel_bin_7_time_hr accel_bin_8_time_hr\n",
       "1  3.873611           1.718889            1.135833           \n",
       "2 10.448611           5.031111            3.016389           \n",
       "3 11.042222           5.416389            3.045833           \n",
       "4 10.901389           5.480833            3.572500           \n",
       "5 10.845000           5.151111            3.167500           \n",
       "6  9.690278           4.417222            3.050278           \n",
       "  avg_interval_speed_mph avg_hour_speed_mph\n",
       "1 20.20326               11.578892         \n",
       "2 19.42858                6.344634         \n",
       "3 19.24910                7.341382         \n",
       "4 19.37381                7.110545         \n",
       "5 19.14736                7.896565         \n",
       "6 19.13814                8.187376         "
      ]
     },
     "metadata": {},
     "output_type": "display_data"
    }
   ],
   "source": [
    "head(interval_df)"
   ]
  },
  {
   "cell_type": "code",
   "execution_count": 56,
   "metadata": {},
   "outputs": [
    {
     "data": {
      "text/html": [
       "<table class=\"dataframe\">\n",
       "<caption>A data.table: 1 × 23</caption>\n",
       "<thead>\n",
       "\t<tr><th scope=col>month</th><th scope=col>hour</th><th scope=col>day</th><th scope=col>distance_mile</th><th scope=col>time_hr</th><th scope=col>speed_bin_1_time_hr</th><th scope=col>speed_bin_2_time_hr</th><th scope=col>speed_bin_3_time_hr</th><th scope=col>speed_bin_4_time_hr</th><th scope=col>speed_bin_5_time_hr</th><th scope=col>...</th><th scope=col>accel_bin_1_time_hr</th><th scope=col>accel_bin_2_time_hr</th><th scope=col>accel_bin_3_time_hr</th><th scope=col>accel_bin_4_time_hr</th><th scope=col>accel_bin_5_time_hr</th><th scope=col>accel_bin_6_time_hr</th><th scope=col>accel_bin_7_time_hr</th><th scope=col>accel_bin_8_time_hr</th><th scope=col>avg_interval_speed_mph</th><th scope=col>avg_hour_speed_mph</th></tr>\n",
       "\t<tr><th scope=col>&lt;chr&gt;</th><th scope=col>&lt;chr&gt;</th><th scope=col>&lt;chr&gt;</th><th scope=col>&lt;dbl&gt;</th><th scope=col>&lt;dbl&gt;</th><th scope=col>&lt;dbl&gt;</th><th scope=col>&lt;dbl&gt;</th><th scope=col>&lt;dbl&gt;</th><th scope=col>&lt;dbl&gt;</th><th scope=col>&lt;dbl&gt;</th><th scope=col>...</th><th scope=col>&lt;dbl&gt;</th><th scope=col>&lt;dbl&gt;</th><th scope=col>&lt;dbl&gt;</th><th scope=col>&lt;dbl&gt;</th><th scope=col>&lt;dbl&gt;</th><th scope=col>&lt;dbl&gt;</th><th scope=col>&lt;dbl&gt;</th><th scope=col>&lt;dbl&gt;</th><th scope=col>&lt;dbl&gt;</th><th scope=col>&lt;dbl&gt;</th></tr>\n",
       "</thead>\n",
       "<tbody>\n",
       "\t<tr><td>5</td><td>1</td><td>1</td><td>194.7358</td><td>20.60556</td><td>11.32861</td><td>1.33</td><td>0.995</td><td>2.345833</td><td>1.237778</td><td>...</td><td>2.313611</td><td>1.130833</td><td>1.351944</td><td>8.838611</td><td>4.796667</td><td>0.7630556</td><td>0.3669444</td><td>1.043889</td><td>21.21943</td><td>9.450645</td></tr>\n",
       "</tbody>\n",
       "</table>\n"
      ],
      "text/latex": [
       "A data.table: 1 × 23\n",
       "\\begin{tabular}{lllllllllllllllllllll}\n",
       " month & hour & day & distance\\_mile & time\\_hr & speed\\_bin\\_1\\_time\\_hr & speed\\_bin\\_2\\_time\\_hr & speed\\_bin\\_3\\_time\\_hr & speed\\_bin\\_4\\_time\\_hr & speed\\_bin\\_5\\_time\\_hr & ... & accel\\_bin\\_1\\_time\\_hr & accel\\_bin\\_2\\_time\\_hr & accel\\_bin\\_3\\_time\\_hr & accel\\_bin\\_4\\_time\\_hr & accel\\_bin\\_5\\_time\\_hr & accel\\_bin\\_6\\_time\\_hr & accel\\_bin\\_7\\_time\\_hr & accel\\_bin\\_8\\_time\\_hr & avg\\_interval\\_speed\\_mph & avg\\_hour\\_speed\\_mph\\\\\n",
       " <chr> & <chr> & <chr> & <dbl> & <dbl> & <dbl> & <dbl> & <dbl> & <dbl> & <dbl> & ... & <dbl> & <dbl> & <dbl> & <dbl> & <dbl> & <dbl> & <dbl> & <dbl> & <dbl> & <dbl>\\\\\n",
       "\\hline\n",
       "\t 5 & 1 & 1 & 194.7358 & 20.60556 & 11.32861 & 1.33 & 0.995 & 2.345833 & 1.237778 & ... & 2.313611 & 1.130833 & 1.351944 & 8.838611 & 4.796667 & 0.7630556 & 0.3669444 & 1.043889 & 21.21943 & 9.450645\\\\\n",
       "\\end{tabular}\n"
      ],
      "text/markdown": [
       "\n",
       "A data.table: 1 × 23\n",
       "\n",
       "| month &lt;chr&gt; | hour &lt;chr&gt; | day &lt;chr&gt; | distance_mile &lt;dbl&gt; | time_hr &lt;dbl&gt; | speed_bin_1_time_hr &lt;dbl&gt; | speed_bin_2_time_hr &lt;dbl&gt; | speed_bin_3_time_hr &lt;dbl&gt; | speed_bin_4_time_hr &lt;dbl&gt; | speed_bin_5_time_hr &lt;dbl&gt; | ... ... | accel_bin_1_time_hr &lt;dbl&gt; | accel_bin_2_time_hr &lt;dbl&gt; | accel_bin_3_time_hr &lt;dbl&gt; | accel_bin_4_time_hr &lt;dbl&gt; | accel_bin_5_time_hr &lt;dbl&gt; | accel_bin_6_time_hr &lt;dbl&gt; | accel_bin_7_time_hr &lt;dbl&gt; | accel_bin_8_time_hr &lt;dbl&gt; | avg_interval_speed_mph &lt;dbl&gt; | avg_hour_speed_mph &lt;dbl&gt; |\n",
       "|---|---|---|---|---|---|---|---|---|---|---|---|---|---|---|---|---|---|---|---|---|\n",
       "| 5 | 1 | 1 | 194.7358 | 20.60556 | 11.32861 | 1.33 | 0.995 | 2.345833 | 1.237778 | ... | 2.313611 | 1.130833 | 1.351944 | 8.838611 | 4.796667 | 0.7630556 | 0.3669444 | 1.043889 | 21.21943 | 9.450645 |\n",
       "\n"
      ],
      "text/plain": [
       "  month hour day distance_mile time_hr  speed_bin_1_time_hr speed_bin_2_time_hr\n",
       "1 5     1    1   194.7358      20.60556 11.32861            1.33               \n",
       "  speed_bin_3_time_hr speed_bin_4_time_hr speed_bin_5_time_hr ...\n",
       "1 0.995               2.345833            1.237778            ...\n",
       "  accel_bin_1_time_hr accel_bin_2_time_hr accel_bin_3_time_hr\n",
       "1 2.313611            1.130833            1.351944           \n",
       "  accel_bin_4_time_hr accel_bin_5_time_hr accel_bin_6_time_hr\n",
       "1 8.838611            4.796667            0.7630556          \n",
       "  accel_bin_7_time_hr accel_bin_8_time_hr avg_interval_speed_mph\n",
       "1 0.3669444           1.043889            21.21943              \n",
       "  avg_hour_speed_mph\n",
       "1 9.450645          "
      ]
     },
     "metadata": {},
     "output_type": "display_data"
    }
   ],
   "source": [
    "interval_df[day == \"1\" & hour == \"1\",]"
   ]
  },
  {
   "cell_type": "code",
   "execution_count": 40,
   "metadata": {
    "collapsed": true,
    "jupyter": {
     "outputs_hidden": true
    }
   },
   "outputs": [
    {
     "data": {
      "text/html": [
       "<table class=\"dataframe\">\n",
       "<caption>A data.table: 6 × 23</caption>\n",
       "<thead>\n",
       "\t<tr><th scope=col>month</th><th scope=col>hour</th><th scope=col>day</th><th scope=col>distance_mile</th><th scope=col>time_hr</th><th scope=col>speed_bin_1_time_hr</th><th scope=col>speed_bin_2_time_hr</th><th scope=col>speed_bin_3_time_hr</th><th scope=col>speed_bin_4_time_hr</th><th scope=col>speed_bin_5_time_hr</th><th scope=col>...</th><th scope=col>accel_bin_1_time_hr</th><th scope=col>accel_bin_2_time_hr</th><th scope=col>accel_bin_3_time_hr</th><th scope=col>accel_bin_4_time_hr</th><th scope=col>accel_bin_5_time_hr</th><th scope=col>accel_bin_6_time_hr</th><th scope=col>accel_bin_7_time_hr</th><th scope=col>accel_bin_8_time_hr</th><th scope=col>avg_interval_speed_mph</th><th scope=col>avg_hour_speed_mph</th></tr>\n",
       "\t<tr><th scope=col>&lt;chr&gt;</th><th scope=col>&lt;chr&gt;</th><th scope=col>&lt;chr&gt;</th><th scope=col>&lt;dbl&gt;</th><th scope=col>&lt;dbl&gt;</th><th scope=col>&lt;dbl&gt;</th><th scope=col>&lt;dbl&gt;</th><th scope=col>&lt;dbl&gt;</th><th scope=col>&lt;dbl&gt;</th><th scope=col>&lt;dbl&gt;</th><th scope=col>...</th><th scope=col>&lt;dbl&gt;</th><th scope=col>&lt;dbl&gt;</th><th scope=col>&lt;dbl&gt;</th><th scope=col>&lt;dbl&gt;</th><th scope=col>&lt;dbl&gt;</th><th scope=col>&lt;dbl&gt;</th><th scope=col>&lt;dbl&gt;</th><th scope=col>&lt;dbl&gt;</th><th scope=col>&lt;dbl&gt;</th><th scope=col>&lt;dbl&gt;</th></tr>\n",
       "</thead>\n",
       "<tbody>\n",
       "\t<tr><td>NA</td><td>5 </td><td>NA</td><td>10397.09</td><td> 896.8792</td><td> 305.3022</td><td> 176.4561</td><td> 82.24417</td><td> 90.75889</td><td> 66.25583</td><td>...</td><td> 32.94972</td><td>133.3333</td><td>150.8153</td><td> 292.4792</td><td> 134.1947</td><td> 88.87833</td><td> 39.24056</td><td>24.98806</td><td>19.63698</td><td>11.592522</td></tr>\n",
       "\t<tr><td>NA</td><td>15</td><td>NA</td><td>33624.06</td><td>4514.4181</td><td>2418.0486</td><td> 844.6758</td><td>270.14194</td><td>264.22917</td><td>206.74889</td><td>...</td><td>101.88139</td><td>379.7886</td><td>607.6347</td><td>2046.9892</td><td> 910.7672</td><td>266.02306</td><td>124.81361</td><td>76.52028</td><td>19.24704</td><td> 7.448149</td></tr>\n",
       "\t<tr><td>NA</td><td>16</td><td>NA</td><td>35599.57</td><td>5006.9969</td><td>2805.2831</td><td> 875.0969</td><td>291.32278</td><td>276.74417</td><td>219.84750</td><td>...</td><td>108.95667</td><td>403.7014</td><td>649.6892</td><td>2321.1414</td><td>1026.7822</td><td>280.25361</td><td>134.02750</td><td>82.44500</td><td>19.16755</td><td> 7.109965</td></tr>\n",
       "\t<tr><td>NA</td><td>17</td><td>NA</td><td>36376.52</td><td>5069.9019</td><td>2722.6761</td><td>1002.1669</td><td>305.20778</td><td>281.92194</td><td>221.45556</td><td>...</td><td>111.03500</td><td>395.6247</td><td>679.6061</td><td>2242.4611</td><td>1142.2908</td><td>279.44500</td><td>135.19944</td><td>84.23972</td><td>19.01370</td><td> 7.174994</td></tr>\n",
       "\t<tr><td>NA</td><td>18</td><td>NA</td><td>36652.30</td><td>5092.8758</td><td>2723.0844</td><td> 999.9642</td><td>309.17972</td><td>299.67722</td><td>229.61056</td><td>...</td><td>115.39611</td><td>407.0586</td><td>665.3325</td><td>2278.4803</td><td>1125.8108</td><td>280.43389</td><td>134.77750</td><td>85.58611</td><td>18.85407</td><td> 7.196779</td></tr>\n",
       "\t<tr><td>NA</td><td>19</td><td>NA</td><td>33445.33</td><td>4366.5275</td><td>2212.6256</td><td> 896.3050</td><td>273.00194</td><td>283.31000</td><td>219.19000</td><td>...</td><td>111.24667</td><td>377.7564</td><td>589.6261</td><td>1815.9147</td><td>1009.0711</td><td>258.82028</td><td>122.82500</td><td>81.26722</td><td>18.59615</td><td> 7.659480</td></tr>\n",
       "</tbody>\n",
       "</table>\n"
      ],
      "text/latex": [
       "A data.table: 6 × 23\n",
       "\\begin{tabular}{lllllllllllllllllllll}\n",
       " month & hour & day & distance\\_mile & time\\_hr & speed\\_bin\\_1\\_time\\_hr & speed\\_bin\\_2\\_time\\_hr & speed\\_bin\\_3\\_time\\_hr & speed\\_bin\\_4\\_time\\_hr & speed\\_bin\\_5\\_time\\_hr & ... & accel\\_bin\\_1\\_time\\_hr & accel\\_bin\\_2\\_time\\_hr & accel\\_bin\\_3\\_time\\_hr & accel\\_bin\\_4\\_time\\_hr & accel\\_bin\\_5\\_time\\_hr & accel\\_bin\\_6\\_time\\_hr & accel\\_bin\\_7\\_time\\_hr & accel\\_bin\\_8\\_time\\_hr & avg\\_interval\\_speed\\_mph & avg\\_hour\\_speed\\_mph\\\\\n",
       " <chr> & <chr> & <chr> & <dbl> & <dbl> & <dbl> & <dbl> & <dbl> & <dbl> & <dbl> & ... & <dbl> & <dbl> & <dbl> & <dbl> & <dbl> & <dbl> & <dbl> & <dbl> & <dbl> & <dbl>\\\\\n",
       "\\hline\n",
       "\t NA & 5  & NA & 10397.09 &  896.8792 &  305.3022 &  176.4561 &  82.24417 &  90.75889 &  66.25583 & ... &  32.94972 & 133.3333 & 150.8153 &  292.4792 &  134.1947 &  88.87833 &  39.24056 & 24.98806 & 19.63698 & 11.592522\\\\\n",
       "\t NA & 15 & NA & 33624.06 & 4514.4181 & 2418.0486 &  844.6758 & 270.14194 & 264.22917 & 206.74889 & ... & 101.88139 & 379.7886 & 607.6347 & 2046.9892 &  910.7672 & 266.02306 & 124.81361 & 76.52028 & 19.24704 &  7.448149\\\\\n",
       "\t NA & 16 & NA & 35599.57 & 5006.9969 & 2805.2831 &  875.0969 & 291.32278 & 276.74417 & 219.84750 & ... & 108.95667 & 403.7014 & 649.6892 & 2321.1414 & 1026.7822 & 280.25361 & 134.02750 & 82.44500 & 19.16755 &  7.109965\\\\\n",
       "\t NA & 17 & NA & 36376.52 & 5069.9019 & 2722.6761 & 1002.1669 & 305.20778 & 281.92194 & 221.45556 & ... & 111.03500 & 395.6247 & 679.6061 & 2242.4611 & 1142.2908 & 279.44500 & 135.19944 & 84.23972 & 19.01370 &  7.174994\\\\\n",
       "\t NA & 18 & NA & 36652.30 & 5092.8758 & 2723.0844 &  999.9642 & 309.17972 & 299.67722 & 229.61056 & ... & 115.39611 & 407.0586 & 665.3325 & 2278.4803 & 1125.8108 & 280.43389 & 134.77750 & 85.58611 & 18.85407 &  7.196779\\\\\n",
       "\t NA & 19 & NA & 33445.33 & 4366.5275 & 2212.6256 &  896.3050 & 273.00194 & 283.31000 & 219.19000 & ... & 111.24667 & 377.7564 & 589.6261 & 1815.9147 & 1009.0711 & 258.82028 & 122.82500 & 81.26722 & 18.59615 &  7.659480\\\\\n",
       "\\end{tabular}\n"
      ],
      "text/markdown": [
       "\n",
       "A data.table: 6 × 23\n",
       "\n",
       "| month &lt;chr&gt; | hour &lt;chr&gt; | day &lt;chr&gt; | distance_mile &lt;dbl&gt; | time_hr &lt;dbl&gt; | speed_bin_1_time_hr &lt;dbl&gt; | speed_bin_2_time_hr &lt;dbl&gt; | speed_bin_3_time_hr &lt;dbl&gt; | speed_bin_4_time_hr &lt;dbl&gt; | speed_bin_5_time_hr &lt;dbl&gt; | ... ... | accel_bin_1_time_hr &lt;dbl&gt; | accel_bin_2_time_hr &lt;dbl&gt; | accel_bin_3_time_hr &lt;dbl&gt; | accel_bin_4_time_hr &lt;dbl&gt; | accel_bin_5_time_hr &lt;dbl&gt; | accel_bin_6_time_hr &lt;dbl&gt; | accel_bin_7_time_hr &lt;dbl&gt; | accel_bin_8_time_hr &lt;dbl&gt; | avg_interval_speed_mph &lt;dbl&gt; | avg_hour_speed_mph &lt;dbl&gt; |\n",
       "|---|---|---|---|---|---|---|---|---|---|---|---|---|---|---|---|---|---|---|---|---|\n",
       "| NA | 5  | NA | 10397.09 |  896.8792 |  305.3022 |  176.4561 |  82.24417 |  90.75889 |  66.25583 | ... |  32.94972 | 133.3333 | 150.8153 |  292.4792 |  134.1947 |  88.87833 |  39.24056 | 24.98806 | 19.63698 | 11.592522 |\n",
       "| NA | 15 | NA | 33624.06 | 4514.4181 | 2418.0486 |  844.6758 | 270.14194 | 264.22917 | 206.74889 | ... | 101.88139 | 379.7886 | 607.6347 | 2046.9892 |  910.7672 | 266.02306 | 124.81361 | 76.52028 | 19.24704 |  7.448149 |\n",
       "| NA | 16 | NA | 35599.57 | 5006.9969 | 2805.2831 |  875.0969 | 291.32278 | 276.74417 | 219.84750 | ... | 108.95667 | 403.7014 | 649.6892 | 2321.1414 | 1026.7822 | 280.25361 | 134.02750 | 82.44500 | 19.16755 |  7.109965 |\n",
       "| NA | 17 | NA | 36376.52 | 5069.9019 | 2722.6761 | 1002.1669 | 305.20778 | 281.92194 | 221.45556 | ... | 111.03500 | 395.6247 | 679.6061 | 2242.4611 | 1142.2908 | 279.44500 | 135.19944 | 84.23972 | 19.01370 |  7.174994 |\n",
       "| NA | 18 | NA | 36652.30 | 5092.8758 | 2723.0844 |  999.9642 | 309.17972 | 299.67722 | 229.61056 | ... | 115.39611 | 407.0586 | 665.3325 | 2278.4803 | 1125.8108 | 280.43389 | 134.77750 | 85.58611 | 18.85407 |  7.196779 |\n",
       "| NA | 19 | NA | 33445.33 | 4366.5275 | 2212.6256 |  896.3050 | 273.00194 | 283.31000 | 219.19000 | ... | 111.24667 | 377.7564 | 589.6261 | 1815.9147 | 1009.0711 | 258.82028 | 122.82500 | 81.26722 | 18.59615 |  7.659480 |\n",
       "\n"
      ],
      "text/plain": [
       "  month hour day distance_mile time_hr   speed_bin_1_time_hr\n",
       "1 NA    5    NA  10397.09       896.8792  305.3022          \n",
       "2 NA    15   NA  33624.06      4514.4181 2418.0486          \n",
       "3 NA    16   NA  35599.57      5006.9969 2805.2831          \n",
       "4 NA    17   NA  36376.52      5069.9019 2722.6761          \n",
       "5 NA    18   NA  36652.30      5092.8758 2723.0844          \n",
       "6 NA    19   NA  33445.33      4366.5275 2212.6256          \n",
       "  speed_bin_2_time_hr speed_bin_3_time_hr speed_bin_4_time_hr\n",
       "1  176.4561            82.24417            90.75889          \n",
       "2  844.6758           270.14194           264.22917          \n",
       "3  875.0969           291.32278           276.74417          \n",
       "4 1002.1669           305.20778           281.92194          \n",
       "5  999.9642           309.17972           299.67722          \n",
       "6  896.3050           273.00194           283.31000          \n",
       "  speed_bin_5_time_hr ... accel_bin_1_time_hr accel_bin_2_time_hr\n",
       "1  66.25583           ...  32.94972           133.3333           \n",
       "2 206.74889           ... 101.88139           379.7886           \n",
       "3 219.84750           ... 108.95667           403.7014           \n",
       "4 221.45556           ... 111.03500           395.6247           \n",
       "5 229.61056           ... 115.39611           407.0586           \n",
       "6 219.19000           ... 111.24667           377.7564           \n",
       "  accel_bin_3_time_hr accel_bin_4_time_hr accel_bin_5_time_hr\n",
       "1 150.8153             292.4792            134.1947          \n",
       "2 607.6347            2046.9892            910.7672          \n",
       "3 649.6892            2321.1414           1026.7822          \n",
       "4 679.6061            2242.4611           1142.2908          \n",
       "5 665.3325            2278.4803           1125.8108          \n",
       "6 589.6261            1815.9147           1009.0711          \n",
       "  accel_bin_6_time_hr accel_bin_7_time_hr accel_bin_8_time_hr\n",
       "1  88.87833            39.24056           24.98806           \n",
       "2 266.02306           124.81361           76.52028           \n",
       "3 280.25361           134.02750           82.44500           \n",
       "4 279.44500           135.19944           84.23972           \n",
       "5 280.43389           134.77750           85.58611           \n",
       "6 258.82028           122.82500           81.26722           \n",
       "  avg_interval_speed_mph avg_hour_speed_mph\n",
       "1 19.63698               11.592522         \n",
       "2 19.24704                7.448149         \n",
       "3 19.16755                7.109965         \n",
       "4 19.01370                7.174994         \n",
       "5 18.85407                7.196779         \n",
       "6 18.59615                7.659480         "
      ]
     },
     "metadata": {},
     "output_type": "display_data"
    }
   ],
   "source": [
    "head(interval_df)"
   ]
  },
  {
   "cell_type": "code",
   "execution_count": 50,
   "metadata": {},
   "outputs": [],
   "source": [
    "# Combine ridership data\n",
    "merge_ridership = function(merged_dt,d_ridership){\n",
    "   d_ridership$route_or_line = as.character(d_ridership$route_or_line)\n",
    "   d_ridership$route_or_line[which(d_ridership$route_or_line == \"Green Line\")] = \"4\"\n",
    "   d_ridership$route_or_line[which(d_ridership$route_or_line == \"Red Line\")] = \"1\"\n",
    "   d_ridership$route_or_line[which(d_ridership$route_or_line == \"Blue Line\")] = \"2\"\n",
    "   d_ridership$route_or_line[which(d_ridership$route_or_line == \"Orange Line\")] = \"3\"\n",
    "   d_ridership$year = as.character(year(d_ridership$servicedate)）\n",
    "   d_ridership$month = as.character(month(d_ridership$servicedate)）\n",
    "   d_ridership$day = as.character(day(d_ridership$servicedate)）\n",
    "   d_ridership$hour = as.character(hour(d_ridership$halfhour)）\n",
    "   d_ridership = aggregate(d_ridership$rawtaps_split, list(year = d_ridership$year, month = d_ridership$month, day = d_ridership$day, hour = d_ridership$hour), FUN = sum)\n",
    "   names(d_ridership)[names(d_ridership) == 'x'] <- 'ridership'\n",
    "   #d_ridership$lineid = as.integer(d_ridership$lineid) \n",
    "   d_ridership = subset(d_ridership,year == \"2019\" & month == \"4\")\n",
    "   merged_db = merge(merged_dt,d_ridership,by = c(\"month\",\"day\",\"hour\"),all=T) \n",
    "   return(merged_db)\n",
    "}"
   ]
  },
  {
   "cell_type": "code",
   "execution_count": 51,
   "metadata": {},
   "outputs": [],
   "source": [
    "df_combin = merge_ridership(interval_df,d_ridership)"
   ]
  },
  {
   "cell_type": "code",
   "execution_count": 52,
   "metadata": {
    "collapsed": true,
    "jupyter": {
     "outputs_hidden": true
    }
   },
   "outputs": [
    {
     "data": {
      "text/html": [
       "<table class=\"dataframe\">\n",
       "<caption>A data.table: 6 × 25</caption>\n",
       "<thead>\n",
       "\t<tr><th scope=col>month</th><th scope=col>day</th><th scope=col>hour</th><th scope=col>distance_mile</th><th scope=col>time_hr</th><th scope=col>speed_bin_1_time_hr</th><th scope=col>speed_bin_2_time_hr</th><th scope=col>speed_bin_3_time_hr</th><th scope=col>speed_bin_4_time_hr</th><th scope=col>speed_bin_5_time_hr</th><th scope=col>...</th><th scope=col>accel_bin_3_time_hr</th><th scope=col>accel_bin_4_time_hr</th><th scope=col>accel_bin_5_time_hr</th><th scope=col>accel_bin_6_time_hr</th><th scope=col>accel_bin_7_time_hr</th><th scope=col>accel_bin_8_time_hr</th><th scope=col>avg_interval_speed_mph</th><th scope=col>avg_hour_speed_mph</th><th scope=col>year</th><th scope=col>ridership</th></tr>\n",
       "\t<tr><th scope=col>&lt;chr&gt;</th><th scope=col>&lt;chr&gt;</th><th scope=col>&lt;chr&gt;</th><th scope=col>&lt;dbl&gt;</th><th scope=col>&lt;dbl&gt;</th><th scope=col>&lt;dbl&gt;</th><th scope=col>&lt;dbl&gt;</th><th scope=col>&lt;dbl&gt;</th><th scope=col>&lt;dbl&gt;</th><th scope=col>&lt;dbl&gt;</th><th scope=col>...</th><th scope=col>&lt;dbl&gt;</th><th scope=col>&lt;dbl&gt;</th><th scope=col>&lt;dbl&gt;</th><th scope=col>&lt;dbl&gt;</th><th scope=col>&lt;dbl&gt;</th><th scope=col>&lt;dbl&gt;</th><th scope=col>&lt;dbl&gt;</th><th scope=col>&lt;dbl&gt;</th><th scope=col>&lt;chr&gt;</th><th scope=col>&lt;dbl&gt;</th></tr>\n",
       "</thead>\n",
       "<tbody>\n",
       "\t<tr><td>4</td><td>1</td><td>0 </td><td>      NA</td><td>      NA</td><td>      NA</td><td>      NA</td><td>       NA</td><td>       NA</td><td>      NA</td><td>...</td><td>      NA</td><td>      NA</td><td>      NA</td><td>      NA</td><td>      NA</td><td>      NA</td><td>      NA</td><td>      NA</td><td>2019</td><td> 1561.0</td></tr>\n",
       "\t<tr><td>4</td><td>1</td><td>1 </td><td>      NA</td><td>      NA</td><td>      NA</td><td>      NA</td><td>       NA</td><td>       NA</td><td>      NA</td><td>...</td><td>      NA</td><td>      NA</td><td>      NA</td><td>      NA</td><td>      NA</td><td>      NA</td><td>      NA</td><td>      NA</td><td>2019</td><td>  171.7</td></tr>\n",
       "\t<tr><td>4</td><td>1</td><td>10</td><td>1205.696</td><td>136.5372</td><td>56.91806</td><td>32.69000</td><td>11.180833</td><td>11.652222</td><td>7.215278</td><td>...</td><td>19.47833</td><td>50.94083</td><td>34.16528</td><td>8.908333</td><td>4.239444</td><td>2.603611</td><td>18.13921</td><td>8.830532</td><td>2019</td><td>19134.9</td></tr>\n",
       "\t<tr><td>4</td><td>1</td><td>11</td><td>1056.887</td><td>130.5997</td><td>58.60944</td><td>31.41056</td><td> 9.850833</td><td>10.297778</td><td>6.296944</td><td>...</td><td>17.31139</td><td>52.40889</td><td>31.95000</td><td>8.171111</td><td>3.671944</td><td>2.242222</td><td>17.19956</td><td>8.092567</td><td>2019</td><td>17253.1</td></tr>\n",
       "\t<tr><td>4</td><td>1</td><td>12</td><td>1039.803</td><td>135.3053</td><td>64.39000</td><td>32.45500</td><td> 9.398611</td><td> 8.571944</td><td>6.236944</td><td>...</td><td>16.61778</td><td>54.30944</td><td>35.87639</td><td>7.689167</td><td>3.790000</td><td>2.301944</td><td>17.92389</td><td>7.684868</td><td>2019</td><td>17870.3</td></tr>\n",
       "\t<tr><td>4</td><td>1</td><td>13</td><td> 964.337</td><td>124.2056</td><td>62.16806</td><td>25.62361</td><td> 8.023056</td><td> 8.515278</td><td>5.906111</td><td>...</td><td>16.15472</td><td>45.98694</td><td>33.95056</td><td>7.851111</td><td>3.487500</td><td>2.195278</td><td>17.93028</td><td>7.764041</td><td>2019</td><td>18464.4</td></tr>\n",
       "</tbody>\n",
       "</table>\n"
      ],
      "text/latex": [
       "A data.table: 6 × 25\n",
       "\\begin{tabular}{lllllllllllllllllllll}\n",
       " month & day & hour & distance\\_mile & time\\_hr & speed\\_bin\\_1\\_time\\_hr & speed\\_bin\\_2\\_time\\_hr & speed\\_bin\\_3\\_time\\_hr & speed\\_bin\\_4\\_time\\_hr & speed\\_bin\\_5\\_time\\_hr & ... & accel\\_bin\\_3\\_time\\_hr & accel\\_bin\\_4\\_time\\_hr & accel\\_bin\\_5\\_time\\_hr & accel\\_bin\\_6\\_time\\_hr & accel\\_bin\\_7\\_time\\_hr & accel\\_bin\\_8\\_time\\_hr & avg\\_interval\\_speed\\_mph & avg\\_hour\\_speed\\_mph & year & ridership\\\\\n",
       " <chr> & <chr> & <chr> & <dbl> & <dbl> & <dbl> & <dbl> & <dbl> & <dbl> & <dbl> & ... & <dbl> & <dbl> & <dbl> & <dbl> & <dbl> & <dbl> & <dbl> & <dbl> & <chr> & <dbl>\\\\\n",
       "\\hline\n",
       "\t 4 & 1 & 0  &       NA &       NA &       NA &       NA &        NA &        NA &       NA & ... &       NA &       NA &       NA &       NA &       NA &       NA &       NA &       NA & 2019 &  1561.0\\\\\n",
       "\t 4 & 1 & 1  &       NA &       NA &       NA &       NA &        NA &        NA &       NA & ... &       NA &       NA &       NA &       NA &       NA &       NA &       NA &       NA & 2019 &   171.7\\\\\n",
       "\t 4 & 1 & 10 & 1205.696 & 136.5372 & 56.91806 & 32.69000 & 11.180833 & 11.652222 & 7.215278 & ... & 19.47833 & 50.94083 & 34.16528 & 8.908333 & 4.239444 & 2.603611 & 18.13921 & 8.830532 & 2019 & 19134.9\\\\\n",
       "\t 4 & 1 & 11 & 1056.887 & 130.5997 & 58.60944 & 31.41056 &  9.850833 & 10.297778 & 6.296944 & ... & 17.31139 & 52.40889 & 31.95000 & 8.171111 & 3.671944 & 2.242222 & 17.19956 & 8.092567 & 2019 & 17253.1\\\\\n",
       "\t 4 & 1 & 12 & 1039.803 & 135.3053 & 64.39000 & 32.45500 &  9.398611 &  8.571944 & 6.236944 & ... & 16.61778 & 54.30944 & 35.87639 & 7.689167 & 3.790000 & 2.301944 & 17.92389 & 7.684868 & 2019 & 17870.3\\\\\n",
       "\t 4 & 1 & 13 &  964.337 & 124.2056 & 62.16806 & 25.62361 &  8.023056 &  8.515278 & 5.906111 & ... & 16.15472 & 45.98694 & 33.95056 & 7.851111 & 3.487500 & 2.195278 & 17.93028 & 7.764041 & 2019 & 18464.4\\\\\n",
       "\\end{tabular}\n"
      ],
      "text/markdown": [
       "\n",
       "A data.table: 6 × 25\n",
       "\n",
       "| month &lt;chr&gt; | day &lt;chr&gt; | hour &lt;chr&gt; | distance_mile &lt;dbl&gt; | time_hr &lt;dbl&gt; | speed_bin_1_time_hr &lt;dbl&gt; | speed_bin_2_time_hr &lt;dbl&gt; | speed_bin_3_time_hr &lt;dbl&gt; | speed_bin_4_time_hr &lt;dbl&gt; | speed_bin_5_time_hr &lt;dbl&gt; | ... ... | accel_bin_3_time_hr &lt;dbl&gt; | accel_bin_4_time_hr &lt;dbl&gt; | accel_bin_5_time_hr &lt;dbl&gt; | accel_bin_6_time_hr &lt;dbl&gt; | accel_bin_7_time_hr &lt;dbl&gt; | accel_bin_8_time_hr &lt;dbl&gt; | avg_interval_speed_mph &lt;dbl&gt; | avg_hour_speed_mph &lt;dbl&gt; | year &lt;chr&gt; | ridership &lt;dbl&gt; |\n",
       "|---|---|---|---|---|---|---|---|---|---|---|---|---|---|---|---|---|---|---|---|---|\n",
       "| 4 | 1 | 0  |       NA |       NA |       NA |       NA |        NA |        NA |       NA | ... |       NA |       NA |       NA |       NA |       NA |       NA |       NA |       NA | 2019 |  1561.0 |\n",
       "| 4 | 1 | 1  |       NA |       NA |       NA |       NA |        NA |        NA |       NA | ... |       NA |       NA |       NA |       NA |       NA |       NA |       NA |       NA | 2019 |   171.7 |\n",
       "| 4 | 1 | 10 | 1205.696 | 136.5372 | 56.91806 | 32.69000 | 11.180833 | 11.652222 | 7.215278 | ... | 19.47833 | 50.94083 | 34.16528 | 8.908333 | 4.239444 | 2.603611 | 18.13921 | 8.830532 | 2019 | 19134.9 |\n",
       "| 4 | 1 | 11 | 1056.887 | 130.5997 | 58.60944 | 31.41056 |  9.850833 | 10.297778 | 6.296944 | ... | 17.31139 | 52.40889 | 31.95000 | 8.171111 | 3.671944 | 2.242222 | 17.19956 | 8.092567 | 2019 | 17253.1 |\n",
       "| 4 | 1 | 12 | 1039.803 | 135.3053 | 64.39000 | 32.45500 |  9.398611 |  8.571944 | 6.236944 | ... | 16.61778 | 54.30944 | 35.87639 | 7.689167 | 3.790000 | 2.301944 | 17.92389 | 7.684868 | 2019 | 17870.3 |\n",
       "| 4 | 1 | 13 |  964.337 | 124.2056 | 62.16806 | 25.62361 |  8.023056 |  8.515278 | 5.906111 | ... | 16.15472 | 45.98694 | 33.95056 | 7.851111 | 3.487500 | 2.195278 | 17.93028 | 7.764041 | 2019 | 18464.4 |\n",
       "\n"
      ],
      "text/plain": [
       "  month day hour distance_mile time_hr  speed_bin_1_time_hr speed_bin_2_time_hr\n",
       "1 4     1   0          NA            NA       NA                  NA           \n",
       "2 4     1   1          NA            NA       NA                  NA           \n",
       "3 4     1   10   1205.696      136.5372 56.91806            32.69000           \n",
       "4 4     1   11   1056.887      130.5997 58.60944            31.41056           \n",
       "5 4     1   12   1039.803      135.3053 64.39000            32.45500           \n",
       "6 4     1   13    964.337      124.2056 62.16806            25.62361           \n",
       "  speed_bin_3_time_hr speed_bin_4_time_hr speed_bin_5_time_hr ...\n",
       "1        NA                  NA                 NA            ...\n",
       "2        NA                  NA                 NA            ...\n",
       "3 11.180833           11.652222           7.215278            ...\n",
       "4  9.850833           10.297778           6.296944            ...\n",
       "5  9.398611            8.571944           6.236944            ...\n",
       "6  8.023056            8.515278           5.906111            ...\n",
       "  accel_bin_3_time_hr accel_bin_4_time_hr accel_bin_5_time_hr\n",
       "1       NA                  NA                  NA           \n",
       "2       NA                  NA                  NA           \n",
       "3 19.47833            50.94083            34.16528           \n",
       "4 17.31139            52.40889            31.95000           \n",
       "5 16.61778            54.30944            35.87639           \n",
       "6 16.15472            45.98694            33.95056           \n",
       "  accel_bin_6_time_hr accel_bin_7_time_hr accel_bin_8_time_hr\n",
       "1       NA                  NA                  NA           \n",
       "2       NA                  NA                  NA           \n",
       "3 8.908333            4.239444            2.603611           \n",
       "4 8.171111            3.671944            2.242222           \n",
       "5 7.689167            3.790000            2.301944           \n",
       "6 7.851111            3.487500            2.195278           \n",
       "  avg_interval_speed_mph avg_hour_speed_mph year ridership\n",
       "1       NA                     NA           2019  1561.0  \n",
       "2       NA                     NA           2019   171.7  \n",
       "3 18.13921               8.830532           2019 19134.9  \n",
       "4 17.19956               8.092567           2019 17253.1  \n",
       "5 17.92389               7.684868           2019 17870.3  \n",
       "6 17.93028               7.764041           2019 18464.4  "
      ]
     },
     "metadata": {},
     "output_type": "display_data"
    }
   ],
   "source": [
    "head(df_combin)"
   ]
  },
  {
   "cell_type": "code",
   "execution_count": 57,
   "metadata": {},
   "outputs": [],
   "source": [
    "# Combine energy consumption data\n",
    "merge_energy <- function (energy_df,hour_dt) {\n",
    "    energy_df = subset(energy_df,energy_df$Year == 2019 & energy_df$Month == 4)\n",
    "    # Melt by hour \n",
    "    melted_energy_df = melt(energy_df, id.vars=c('Year','Month','Day of Month','WJ','TAVG'), measure.vars = paste0(\"Hour \",1:24))\n",
    "        colnames(melted_energy_df) = c('year', 'month', 'day', 'weekends_weekday', 'TAVG', 'Hour', 'energy_kwh')\n",
    "    hour_energy_dt <- setDT(melted_energy_df)\n",
    "    hour_energy_dt[, Hour := str_replace(Hour, \"Hour \", \"\")]\n",
    "    hour_energy_dt$Hour = as.numeric(hour_energy_dt$Hour)\n",
    "    hour_energy_dt$Hour = hour_energy_dt$Hour - 1\n",
    "    colnames(hour_energy_dt)[6] <- 'hour'\n",
    "    hour_energy_dt$year = as.character(hour_energy_dt$year)\n",
    "    hour_energy_dt$month = as.character(hour_energy_dt$month)\n",
    "    hour_energy_dt$day = as.character(hour_energy_dt$day)\n",
    "    hour_energy_dt$hour = as.character(hour_energy_dt$hour)\n",
    "    merged_dt = merge(hour_dt,hour_energy_dt,by = c(\"year\",\"month\",\"day\",\"hour\") , all = T)\n",
    "    return(merged_dt)\n",
    "}"
   ]
  },
  {
   "cell_type": "code",
   "execution_count": 58,
   "metadata": {},
   "outputs": [],
   "source": [
    "df_main = merge_energy(dc,df_combin)"
   ]
  },
  {
   "cell_type": "code",
   "execution_count": 59,
   "metadata": {
    "collapsed": true,
    "jupyter": {
     "outputs_hidden": true
    }
   },
   "outputs": [
    {
     "data": {
      "text/html": [
       "<table class=\"dataframe\">\n",
       "<caption>A data.table: 6 × 28</caption>\n",
       "<thead>\n",
       "\t<tr><th scope=col>year</th><th scope=col>month</th><th scope=col>day</th><th scope=col>hour</th><th scope=col>distance_mile</th><th scope=col>time_hr</th><th scope=col>speed_bin_1_time_hr</th><th scope=col>speed_bin_2_time_hr</th><th scope=col>speed_bin_3_time_hr</th><th scope=col>speed_bin_4_time_hr</th><th scope=col>...</th><th scope=col>accel_bin_5_time_hr</th><th scope=col>accel_bin_6_time_hr</th><th scope=col>accel_bin_7_time_hr</th><th scope=col>accel_bin_8_time_hr</th><th scope=col>avg_interval_speed_mph</th><th scope=col>avg_hour_speed_mph</th><th scope=col>ridership</th><th scope=col>weekends_weekday</th><th scope=col>TAVG</th><th scope=col>energy_kwh</th></tr>\n",
       "\t<tr><th scope=col>&lt;chr&gt;</th><th scope=col>&lt;chr&gt;</th><th scope=col>&lt;chr&gt;</th><th scope=col>&lt;chr&gt;</th><th scope=col>&lt;dbl&gt;</th><th scope=col>&lt;dbl&gt;</th><th scope=col>&lt;dbl&gt;</th><th scope=col>&lt;dbl&gt;</th><th scope=col>&lt;dbl&gt;</th><th scope=col>&lt;dbl&gt;</th><th scope=col>...</th><th scope=col>&lt;dbl&gt;</th><th scope=col>&lt;dbl&gt;</th><th scope=col>&lt;dbl&gt;</th><th scope=col>&lt;dbl&gt;</th><th scope=col>&lt;dbl&gt;</th><th scope=col>&lt;dbl&gt;</th><th scope=col>&lt;dbl&gt;</th><th scope=col>&lt;int&gt;</th><th scope=col>&lt;dbl&gt;</th><th scope=col>&lt;dbl&gt;</th></tr>\n",
       "</thead>\n",
       "<tbody>\n",
       "\t<tr><td>NA  </td><td>5</td><td>1</td><td>0 </td><td> 620.5840</td><td> 47.139722</td><td>10.987500</td><td>10.591111111</td><td> 5.5061111</td><td> 5.5463889</td><td>...</td><td> 8.772222</td><td>4.739722222</td><td>2.33777778</td><td>1.9297222</td><td>19.01108</td><td>13.164778</td><td>     NA</td><td>NA</td><td>NA</td><td>    NA</td></tr>\n",
       "\t<tr><td>NA  </td><td>5</td><td>1</td><td>1 </td><td> 194.7358</td><td> 20.605556</td><td>11.328611</td><td> 1.330000000</td><td> 0.9950000</td><td> 2.3458333</td><td>...</td><td> 4.796667</td><td>0.763055556</td><td>0.36694444</td><td>1.0438889</td><td>21.21943</td><td> 9.450645</td><td>     NA</td><td>NA</td><td>NA</td><td>    NA</td></tr>\n",
       "\t<tr><td>NA  </td><td>5</td><td>1</td><td>2 </td><td>  56.1403</td><td>  5.409444</td><td> 2.803333</td><td> 0.004444444</td><td> 0.5230556</td><td> 0.6455556</td><td>...</td><td> 2.927500</td><td>0.001666667</td><td>0.03416667</td><td>0.5561111</td><td>16.42396</td><td>10.378200</td><td>     NA</td><td>NA</td><td>NA</td><td>    NA</td></tr>\n",
       "\t<tr><td>2019</td><td>4</td><td>1</td><td>0 </td><td>       NA</td><td>        NA</td><td>       NA</td><td>          NA</td><td>        NA</td><td>        NA</td><td>...</td><td>       NA</td><td>         NA</td><td>        NA</td><td>       NA</td><td>      NA</td><td>       NA</td><td> 1561.0</td><td> 2</td><td>42</td><td>40.567</td></tr>\n",
       "\t<tr><td>2019</td><td>4</td><td>1</td><td>1 </td><td>       NA</td><td>        NA</td><td>       NA</td><td>          NA</td><td>        NA</td><td>        NA</td><td>...</td><td>       NA</td><td>         NA</td><td>        NA</td><td>       NA</td><td>      NA</td><td>       NA</td><td>  171.7</td><td> 2</td><td>42</td><td>35.110</td></tr>\n",
       "\t<tr><td>2019</td><td>4</td><td>1</td><td>10</td><td>1205.6963</td><td>136.537222</td><td>56.918056</td><td>32.690000000</td><td>11.1808333</td><td>11.6522222</td><td>...</td><td>34.165278</td><td>8.908333333</td><td>4.23944444</td><td>2.6036111</td><td>18.13921</td><td> 8.830532</td><td>19134.9</td><td> 2</td><td>42</td><td>53.894</td></tr>\n",
       "</tbody>\n",
       "</table>\n"
      ],
      "text/latex": [
       "A data.table: 6 × 28\n",
       "\\begin{tabular}{lllllllllllllllllllll}\n",
       " year & month & day & hour & distance\\_mile & time\\_hr & speed\\_bin\\_1\\_time\\_hr & speed\\_bin\\_2\\_time\\_hr & speed\\_bin\\_3\\_time\\_hr & speed\\_bin\\_4\\_time\\_hr & ... & accel\\_bin\\_5\\_time\\_hr & accel\\_bin\\_6\\_time\\_hr & accel\\_bin\\_7\\_time\\_hr & accel\\_bin\\_8\\_time\\_hr & avg\\_interval\\_speed\\_mph & avg\\_hour\\_speed\\_mph & ridership & weekends\\_weekday & TAVG & energy\\_kwh\\\\\n",
       " <chr> & <chr> & <chr> & <chr> & <dbl> & <dbl> & <dbl> & <dbl> & <dbl> & <dbl> & ... & <dbl> & <dbl> & <dbl> & <dbl> & <dbl> & <dbl> & <dbl> & <int> & <dbl> & <dbl>\\\\\n",
       "\\hline\n",
       "\t NA   & 5 & 1 & 0  &  620.5840 &  47.139722 & 10.987500 & 10.591111111 &  5.5061111 &  5.5463889 & ... &  8.772222 & 4.739722222 & 2.33777778 & 1.9297222 & 19.01108 & 13.164778 &      NA & NA & NA &     NA\\\\\n",
       "\t NA   & 5 & 1 & 1  &  194.7358 &  20.605556 & 11.328611 &  1.330000000 &  0.9950000 &  2.3458333 & ... &  4.796667 & 0.763055556 & 0.36694444 & 1.0438889 & 21.21943 &  9.450645 &      NA & NA & NA &     NA\\\\\n",
       "\t NA   & 5 & 1 & 2  &   56.1403 &   5.409444 &  2.803333 &  0.004444444 &  0.5230556 &  0.6455556 & ... &  2.927500 & 0.001666667 & 0.03416667 & 0.5561111 & 16.42396 & 10.378200 &      NA & NA & NA &     NA\\\\\n",
       "\t 2019 & 4 & 1 & 0  &        NA &         NA &        NA &           NA &         NA &         NA & ... &        NA &          NA &         NA &        NA &       NA &        NA &  1561.0 &  2 & 42 & 40.567\\\\\n",
       "\t 2019 & 4 & 1 & 1  &        NA &         NA &        NA &           NA &         NA &         NA & ... &        NA &          NA &         NA &        NA &       NA &        NA &   171.7 &  2 & 42 & 35.110\\\\\n",
       "\t 2019 & 4 & 1 & 10 & 1205.6963 & 136.537222 & 56.918056 & 32.690000000 & 11.1808333 & 11.6522222 & ... & 34.165278 & 8.908333333 & 4.23944444 & 2.6036111 & 18.13921 &  8.830532 & 19134.9 &  2 & 42 & 53.894\\\\\n",
       "\\end{tabular}\n"
      ],
      "text/markdown": [
       "\n",
       "A data.table: 6 × 28\n",
       "\n",
       "| year &lt;chr&gt; | month &lt;chr&gt; | day &lt;chr&gt; | hour &lt;chr&gt; | distance_mile &lt;dbl&gt; | time_hr &lt;dbl&gt; | speed_bin_1_time_hr &lt;dbl&gt; | speed_bin_2_time_hr &lt;dbl&gt; | speed_bin_3_time_hr &lt;dbl&gt; | speed_bin_4_time_hr &lt;dbl&gt; | ... ... | accel_bin_5_time_hr &lt;dbl&gt; | accel_bin_6_time_hr &lt;dbl&gt; | accel_bin_7_time_hr &lt;dbl&gt; | accel_bin_8_time_hr &lt;dbl&gt; | avg_interval_speed_mph &lt;dbl&gt; | avg_hour_speed_mph &lt;dbl&gt; | ridership &lt;dbl&gt; | weekends_weekday &lt;int&gt; | TAVG &lt;dbl&gt; | energy_kwh &lt;dbl&gt; |\n",
       "|---|---|---|---|---|---|---|---|---|---|---|---|---|---|---|---|---|---|---|---|---|\n",
       "| NA   | 5 | 1 | 0  |  620.5840 |  47.139722 | 10.987500 | 10.591111111 |  5.5061111 |  5.5463889 | ... |  8.772222 | 4.739722222 | 2.33777778 | 1.9297222 | 19.01108 | 13.164778 |      NA | NA | NA |     NA |\n",
       "| NA   | 5 | 1 | 1  |  194.7358 |  20.605556 | 11.328611 |  1.330000000 |  0.9950000 |  2.3458333 | ... |  4.796667 | 0.763055556 | 0.36694444 | 1.0438889 | 21.21943 |  9.450645 |      NA | NA | NA |     NA |\n",
       "| NA   | 5 | 1 | 2  |   56.1403 |   5.409444 |  2.803333 |  0.004444444 |  0.5230556 |  0.6455556 | ... |  2.927500 | 0.001666667 | 0.03416667 | 0.5561111 | 16.42396 | 10.378200 |      NA | NA | NA |     NA |\n",
       "| 2019 | 4 | 1 | 0  |        NA |         NA |        NA |           NA |         NA |         NA | ... |        NA |          NA |         NA |        NA |       NA |        NA |  1561.0 |  2 | 42 | 40.567 |\n",
       "| 2019 | 4 | 1 | 1  |        NA |         NA |        NA |           NA |         NA |         NA | ... |        NA |          NA |         NA |        NA |       NA |        NA |   171.7 |  2 | 42 | 35.110 |\n",
       "| 2019 | 4 | 1 | 10 | 1205.6963 | 136.537222 | 56.918056 | 32.690000000 | 11.1808333 | 11.6522222 | ... | 34.165278 | 8.908333333 | 4.23944444 | 2.6036111 | 18.13921 |  8.830532 | 19134.9 |  2 | 42 | 53.894 |\n",
       "\n"
      ],
      "text/plain": [
       "  year month day hour distance_mile time_hr    speed_bin_1_time_hr\n",
       "1 NA   5     1   0     620.5840      47.139722 10.987500          \n",
       "2 NA   5     1   1     194.7358      20.605556 11.328611          \n",
       "3 NA   5     1   2      56.1403       5.409444  2.803333          \n",
       "4 2019 4     1   0           NA             NA        NA          \n",
       "5 2019 4     1   1           NA             NA        NA          \n",
       "6 2019 4     1   10   1205.6963     136.537222 56.918056          \n",
       "  speed_bin_2_time_hr speed_bin_3_time_hr speed_bin_4_time_hr ...\n",
       "1 10.591111111         5.5061111           5.5463889          ...\n",
       "2  1.330000000         0.9950000           2.3458333          ...\n",
       "3  0.004444444         0.5230556           0.6455556          ...\n",
       "4           NA                NA                  NA          ...\n",
       "5           NA                NA                  NA          ...\n",
       "6 32.690000000        11.1808333          11.6522222          ...\n",
       "  accel_bin_5_time_hr accel_bin_6_time_hr accel_bin_7_time_hr\n",
       "1  8.772222           4.739722222         2.33777778         \n",
       "2  4.796667           0.763055556         0.36694444         \n",
       "3  2.927500           0.001666667         0.03416667         \n",
       "4        NA                    NA                 NA         \n",
       "5        NA                    NA                 NA         \n",
       "6 34.165278           8.908333333         4.23944444         \n",
       "  accel_bin_8_time_hr avg_interval_speed_mph avg_hour_speed_mph ridership\n",
       "1 1.9297222           19.01108               13.164778               NA  \n",
       "2 1.0438889           21.21943                9.450645               NA  \n",
       "3 0.5561111           16.42396               10.378200               NA  \n",
       "4        NA                 NA                      NA           1561.0  \n",
       "5        NA                 NA                      NA            171.7  \n",
       "6 2.6036111           18.13921                8.830532          19134.9  \n",
       "  weekends_weekday TAVG energy_kwh\n",
       "1 NA               NA       NA    \n",
       "2 NA               NA       NA    \n",
       "3 NA               NA       NA    \n",
       "4  2               42   40.567    \n",
       "5  2               42   35.110    \n",
       "6  2               42   53.894    "
      ]
     },
     "metadata": {},
     "output_type": "display_data"
    }
   ],
   "source": [
    "head(df_main)"
   ]
  },
  {
   "cell_type": "code",
   "execution_count": 60,
   "metadata": {},
   "outputs": [],
   "source": [
    "write.csv(df_main,\"../../data/tidy/system-model-19-04.csv\")"
   ]
  },
  {
   "cell_type": "markdown",
   "metadata": {},
   "source": [
    "## Computing the final table"
   ]
  },
  {
   "cell_type": "code",
   "execution_count": 59,
   "metadata": {},
   "outputs": [],
   "source": [
    "main <- function (interval_df,num_bins,energy_df,d_ridership,yy,mm) {\n",
    "    final_df <- interval_df %>% unit_transfer（) %>% bin_speeds(num_bins) %>% \n",
    "    bin_accelerations(num_bins) %>% merge_ridership(d_ridership,yy,mm) %>% merge_energy(energy_df,yy,mm)\n",
    "    return(final_df)\n",
    "}"
   ]
  },
  {
   "cell_type": "code",
   "execution_count": null,
   "metadata": {},
   "outputs": [],
   "source": [
    "df_final = main(interval_df,5,energy_df,d_ridership)\n",
    "#write.csv(df_final,\"../Data/tidy/system-model.csv\")"
   ]
  },
  {
   "cell_type": "code",
   "execution_count": 106,
   "metadata": {
    "collapsed": true,
    "jupyter": {
     "outputs_hidden": true
    }
   },
   "outputs": [
    {
     "data": {
      "text/html": [
       "<table>\n",
       "<caption>A data.frame: 6 × 23</caption>\n",
       "<thead>\n",
       "\t<tr><th></th><th scope=col>year</th><th scope=col>month</th><th scope=col>day</th><th scope=col>hour</th><th scope=col>lineid</th><th scope=col>ridership</th><th scope=col>distance_mile</th><th scope=col>time_hr</th><th scope=col>speed_bin_1_time_hr</th><th scope=col>speed_bin_2_time_hr</th><th scope=col>...</th><th scope=col>accel_bin_1_time_hr</th><th scope=col>accel_bin_2_time_hr</th><th scope=col>accel_bin_3_time_hr</th><th scope=col>accel_bin_4_time_hr</th><th scope=col>accel_bin_5_time_hr</th><th scope=col>avg_interval_speed_mph</th><th scope=col>avg_hour_speed_mph</th><th scope=col>weekends_weekday</th><th scope=col>TAVG</th><th scope=col>energy_kwh</th></tr>\n",
       "\t<tr><th></th><th scope=col>&lt;chr&gt;</th><th scope=col>&lt;chr&gt;</th><th scope=col>&lt;chr&gt;</th><th scope=col>&lt;chr&gt;</th><th scope=col>&lt;int&gt;</th><th scope=col>&lt;dbl&gt;</th><th scope=col>&lt;dbl&gt;</th><th scope=col>&lt;dbl&gt;</th><th scope=col>&lt;dbl&gt;</th><th scope=col>&lt;dbl&gt;</th><th scope=col>...</th><th scope=col>&lt;dbl&gt;</th><th scope=col>&lt;dbl&gt;</th><th scope=col>&lt;dbl&gt;</th><th scope=col>&lt;dbl&gt;</th><th scope=col>&lt;dbl&gt;</th><th scope=col>&lt;dbl&gt;</th><th scope=col>&lt;dbl&gt;</th><th scope=col>&lt;dbl&gt;</th><th scope=col>&lt;dbl&gt;</th><th scope=col>&lt;dbl&gt;</th></tr>\n",
       "</thead>\n",
       "<tbody>\n",
       "\t<tr><th scope=row>1</th><td>2019</td><td>4</td><td>1</td><td>0</td><td>4</td><td>448.77</td><td>NA</td><td>NA</td><td>NA</td><td>NA</td><td>...</td><td>NA</td><td>NA</td><td>NA</td><td>NA</td><td>NA</td><td>NA</td><td>NA</td><td>2</td><td>42</td><td>40.567</td></tr>\n",
       "\t<tr><th scope=row>2</th><td>2019</td><td>4</td><td>1</td><td>0</td><td>1</td><td>477.41</td><td>NA</td><td>NA</td><td>NA</td><td>NA</td><td>...</td><td>NA</td><td>NA</td><td>NA</td><td>NA</td><td>NA</td><td>NA</td><td>NA</td><td>2</td><td>42</td><td>40.567</td></tr>\n",
       "\t<tr><th scope=row>3</th><td>2019</td><td>4</td><td>1</td><td>0</td><td>2</td><td>184.70</td><td>NA</td><td>NA</td><td>NA</td><td>NA</td><td>...</td><td>NA</td><td>NA</td><td>NA</td><td>NA</td><td>NA</td><td>NA</td><td>NA</td><td>2</td><td>42</td><td>40.567</td></tr>\n",
       "\t<tr><th scope=row>4</th><td>2019</td><td>4</td><td>1</td><td>0</td><td>3</td><td>450.12</td><td>NA</td><td>NA</td><td>NA</td><td>NA</td><td>...</td><td>NA</td><td>NA</td><td>NA</td><td>NA</td><td>NA</td><td>NA</td><td>NA</td><td>2</td><td>42</td><td>40.567</td></tr>\n",
       "\t<tr><th scope=row>5</th><td>2019</td><td>4</td><td>1</td><td>1</td><td>2</td><td> 21.40</td><td>NA</td><td>NA</td><td>NA</td><td>NA</td><td>...</td><td>NA</td><td>NA</td><td>NA</td><td>NA</td><td>NA</td><td>NA</td><td>NA</td><td>2</td><td>42</td><td>35.110</td></tr>\n",
       "\t<tr><th scope=row>6</th><td>2019</td><td>4</td><td>1</td><td>1</td><td>3</td><td> 61.35</td><td>NA</td><td>NA</td><td>NA</td><td>NA</td><td>...</td><td>NA</td><td>NA</td><td>NA</td><td>NA</td><td>NA</td><td>NA</td><td>NA</td><td>2</td><td>42</td><td>35.110</td></tr>\n",
       "</tbody>\n",
       "</table>\n"
      ],
      "text/latex": [
       "A data.frame: 6 × 23\n",
       "\\begin{tabular}{r|lllllllllllllllllllll}\n",
       "  & year & month & day & hour & lineid & ridership & distance\\_mile & time\\_hr & speed\\_bin\\_1\\_time\\_hr & speed\\_bin\\_2\\_time\\_hr & ... & accel\\_bin\\_1\\_time\\_hr & accel\\_bin\\_2\\_time\\_hr & accel\\_bin\\_3\\_time\\_hr & accel\\_bin\\_4\\_time\\_hr & accel\\_bin\\_5\\_time\\_hr & avg\\_interval\\_speed\\_mph & avg\\_hour\\_speed\\_mph & weekends\\_weekday & TAVG & energy\\_kwh\\\\\n",
       "  & <chr> & <chr> & <chr> & <chr> & <int> & <dbl> & <dbl> & <dbl> & <dbl> & <dbl> & ... & <dbl> & <dbl> & <dbl> & <dbl> & <dbl> & <dbl> & <dbl> & <dbl> & <dbl> & <dbl>\\\\\n",
       "\\hline\n",
       "\t1 & 2019 & 4 & 1 & 0 & 4 & 448.77 & NA & NA & NA & NA & ... & NA & NA & NA & NA & NA & NA & NA & 2 & 42 & 40.567\\\\\n",
       "\t2 & 2019 & 4 & 1 & 0 & 1 & 477.41 & NA & NA & NA & NA & ... & NA & NA & NA & NA & NA & NA & NA & 2 & 42 & 40.567\\\\\n",
       "\t3 & 2019 & 4 & 1 & 0 & 2 & 184.70 & NA & NA & NA & NA & ... & NA & NA & NA & NA & NA & NA & NA & 2 & 42 & 40.567\\\\\n",
       "\t4 & 2019 & 4 & 1 & 0 & 3 & 450.12 & NA & NA & NA & NA & ... & NA & NA & NA & NA & NA & NA & NA & 2 & 42 & 40.567\\\\\n",
       "\t5 & 2019 & 4 & 1 & 1 & 2 &  21.40 & NA & NA & NA & NA & ... & NA & NA & NA & NA & NA & NA & NA & 2 & 42 & 35.110\\\\\n",
       "\t6 & 2019 & 4 & 1 & 1 & 3 &  61.35 & NA & NA & NA & NA & ... & NA & NA & NA & NA & NA & NA & NA & 2 & 42 & 35.110\\\\\n",
       "\\end{tabular}\n"
      ],
      "text/markdown": [
       "\n",
       "A data.frame: 6 × 23\n",
       "\n",
       "| <!--/--> | year &lt;chr&gt; | month &lt;chr&gt; | day &lt;chr&gt; | hour &lt;chr&gt; | lineid &lt;int&gt; | ridership &lt;dbl&gt; | distance_mile &lt;dbl&gt; | time_hr &lt;dbl&gt; | speed_bin_1_time_hr &lt;dbl&gt; | speed_bin_2_time_hr &lt;dbl&gt; | ... ... | accel_bin_1_time_hr &lt;dbl&gt; | accel_bin_2_time_hr &lt;dbl&gt; | accel_bin_3_time_hr &lt;dbl&gt; | accel_bin_4_time_hr &lt;dbl&gt; | accel_bin_5_time_hr &lt;dbl&gt; | avg_interval_speed_mph &lt;dbl&gt; | avg_hour_speed_mph &lt;dbl&gt; | weekends_weekday &lt;dbl&gt; | TAVG &lt;dbl&gt; | energy_kwh &lt;dbl&gt; |\n",
       "|---|---|---|---|---|---|---|---|---|---|---|---|---|---|---|---|---|---|---|---|---|---|\n",
       "| 1 | 2019 | 4 | 1 | 0 | 4 | 448.77 | NA | NA | NA | NA | ... | NA | NA | NA | NA | NA | NA | NA | 2 | 42 | 40.567 |\n",
       "| 2 | 2019 | 4 | 1 | 0 | 1 | 477.41 | NA | NA | NA | NA | ... | NA | NA | NA | NA | NA | NA | NA | 2 | 42 | 40.567 |\n",
       "| 3 | 2019 | 4 | 1 | 0 | 2 | 184.70 | NA | NA | NA | NA | ... | NA | NA | NA | NA | NA | NA | NA | 2 | 42 | 40.567 |\n",
       "| 4 | 2019 | 4 | 1 | 0 | 3 | 450.12 | NA | NA | NA | NA | ... | NA | NA | NA | NA | NA | NA | NA | 2 | 42 | 40.567 |\n",
       "| 5 | 2019 | 4 | 1 | 1 | 2 |  21.40 | NA | NA | NA | NA | ... | NA | NA | NA | NA | NA | NA | NA | 2 | 42 | 35.110 |\n",
       "| 6 | 2019 | 4 | 1 | 1 | 3 |  61.35 | NA | NA | NA | NA | ... | NA | NA | NA | NA | NA | NA | NA | 2 | 42 | 35.110 |\n",
       "\n"
      ],
      "text/plain": [
       "  year month day hour lineid ridership distance_mile time_hr\n",
       "1 2019 4     1   0    4      448.77    NA            NA     \n",
       "2 2019 4     1   0    1      477.41    NA            NA     \n",
       "3 2019 4     1   0    2      184.70    NA            NA     \n",
       "4 2019 4     1   0    3      450.12    NA            NA     \n",
       "5 2019 4     1   1    2       21.40    NA            NA     \n",
       "6 2019 4     1   1    3       61.35    NA            NA     \n",
       "  speed_bin_1_time_hr speed_bin_2_time_hr ... accel_bin_1_time_hr\n",
       "1 NA                  NA                  ... NA                 \n",
       "2 NA                  NA                  ... NA                 \n",
       "3 NA                  NA                  ... NA                 \n",
       "4 NA                  NA                  ... NA                 \n",
       "5 NA                  NA                  ... NA                 \n",
       "6 NA                  NA                  ... NA                 \n",
       "  accel_bin_2_time_hr accel_bin_3_time_hr accel_bin_4_time_hr\n",
       "1 NA                  NA                  NA                 \n",
       "2 NA                  NA                  NA                 \n",
       "3 NA                  NA                  NA                 \n",
       "4 NA                  NA                  NA                 \n",
       "5 NA                  NA                  NA                 \n",
       "6 NA                  NA                  NA                 \n",
       "  accel_bin_5_time_hr avg_interval_speed_mph avg_hour_speed_mph\n",
       "1 NA                  NA                     NA                \n",
       "2 NA                  NA                     NA                \n",
       "3 NA                  NA                     NA                \n",
       "4 NA                  NA                     NA                \n",
       "5 NA                  NA                     NA                \n",
       "6 NA                  NA                     NA                \n",
       "  weekends_weekday TAVG energy_kwh\n",
       "1 2                42   40.567    \n",
       "2 2                42   40.567    \n",
       "3 2                42   40.567    \n",
       "4 2                42   40.567    \n",
       "5 2                42   35.110    \n",
       "6 2                42   35.110    "
      ]
     },
     "metadata": {},
     "output_type": "display_data"
    }
   ],
   "source": [
    "head(dm)"
   ]
  }
 ],
 "metadata": {
  "kernelspec": {
   "display_name": "R",
   "language": "R",
   "name": "ir"
  },
  "language_info": {
   "codemirror_mode": "r",
   "file_extension": ".r",
   "mimetype": "text/x-r-source",
   "name": "R",
   "pygments_lexer": "r",
   "version": "3.6.2"
  }
 },
 "nbformat": 4,
 "nbformat_minor": 4
}
