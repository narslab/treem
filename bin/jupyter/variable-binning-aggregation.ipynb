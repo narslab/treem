{
 "cells": [
  {
   "cell_type": "code",
   "execution_count": 1,
   "metadata": {},
   "outputs": [
    {
     "data": {
      "text/html": [
       "81011630"
      ],
      "text/latex": [
       "81011630"
      ],
      "text/markdown": [
       "81011630"
      ],
      "text/plain": [
       "[1] 81011630"
      ]
     },
     "metadata": {},
     "output_type": "display_data"
    }
   ],
   "source": [
    "# adjust the R limit\n",
    "memory.limit(size= 81011630)"
   ]
  },
  {
   "cell_type": "code",
   "execution_count": 1,
   "metadata": {
    "collapsed": true,
    "jupyter": {
     "outputs_hidden": true
    }
   },
   "outputs": [
    {
     "name": "stderr",
     "output_type": "stream",
     "text": [
      "Warning message:\n",
      "\"package 'data.table' was built under R version 3.6.3\"\n",
      "\n",
      "Attaching package: 'lubridate'\n",
      "\n",
      "\n",
      "The following objects are masked from 'package:data.table':\n",
      "\n",
      "    hour, isoweek, mday, minute, month, quarter, second, wday, week,\n",
      "    yday, year\n",
      "\n",
      "\n",
      "The following object is masked from 'package:base':\n",
      "\n",
      "    date\n",
      "\n",
      "\n",
      "Warning message:\n",
      "\"package 'reshape2' was built under R version 3.6.3\"\n",
      "\n",
      "Attaching package: 'reshape2'\n",
      "\n",
      "\n",
      "The following objects are masked from 'package:data.table':\n",
      "\n",
      "    dcast, melt\n",
      "\n",
      "\n",
      "\n",
      "Attaching package: 'dplyr'\n",
      "\n",
      "\n",
      "The following objects are masked from 'package:lubridate':\n",
      "\n",
      "    intersect, setdiff, union\n",
      "\n",
      "\n",
      "The following objects are masked from 'package:data.table':\n",
      "\n",
      "    between, first, last\n",
      "\n",
      "\n",
      "The following objects are masked from 'package:stats':\n",
      "\n",
      "    filter, lag\n",
      "\n",
      "\n",
      "The following objects are masked from 'package:base':\n",
      "\n",
      "    intersect, setdiff, setequal, union\n",
      "\n",
      "\n"
     ]
    }
   ],
   "source": [
    "#necessary library\n",
    "library(data.table) #fread\n",
    "library(lubridate)\n",
    "library(reshape2)\n",
    "library(dplyr)\n",
    "library(scales)\n",
    "library(stringr)\n",
    "#library(tidyverse)"
   ]
  },
  {
   "cell_type": "code",
   "execution_count": 9,
   "metadata": {},
   "outputs": [],
   "source": [
    "# Select the month you want to investigate\n",
    "YEARLIST =(\"2019\")\n",
    "MONTHLIST = c(\"04\")\n",
    "COMPUTATION_FILEPATH = \"../../data/tidy/\""
   ]
  },
  {
   "cell_type": "markdown",
   "metadata": {},
   "source": [
    "## Bin speeds and aggregate table"
   ]
  },
  {
   "cell_type": "code",
   "execution_count": 2,
   "metadata": {},
   "outputs": [],
   "source": [
    "interval_df = read.csv(\"../../data/tidy/trajectory-19-04-.csv\")\n",
    "dc = fread(\"../../data/raw/energy-consumption-08-19.csv\") # Read in energy data\n",
    "d_ridership = read.csv(\"../../data/raw/ridership-2019-2020-.csv\")# Read in ridership data"
   ]
  },
  {
   "cell_type": "code",
   "execution_count": null,
   "metadata": {},
   "outputs": [],
   "source": [
    "# aggregrate_trajectory_table\n",
    "line_computation = function(year, month){\n",
    "    assign( fread(paste(DISTANCE_FILEPATH, paste( \"trajectories\", month, year, \".csv\", sep = \"-\", collapse = \"\"), sep=\"\")))\n",
    "    assign(\"dh\", fread(paste(DISTANCE_FILEPATH, paste(\"heavyrail\", \"trajectories\", month, year, \".csv\", sep = \"-\", collapse = \"\"), sep=\"\")))\n",
    "    # Combine the original tables to a single one for analysis\n",
    "    dg = subset(dg, select = c(trxtime, trainid, lineid, lat, lon))\n",
    "    dh = subset(dh, select = c(trxtime, trainid, lineid, lat, lon))\n",
    "    df = rbind(dg, dh)\n",
    "    return(df)\n",
    "}"
   ]
  },
  {
   "cell_type": "code",
   "execution_count": 22,
   "metadata": {},
   "outputs": [],
   "source": [
    "# select random days\n",
    "set.seed(1234)\n",
    "sub = sample(1:nrow(interval_df),720)\n",
    "interval_df_test = interval_df[sub,]"
   ]
  },
  {
   "cell_type": "code",
   "execution_count": 3,
   "metadata": {},
   "outputs": [],
   "source": [
    "# Unit conversion\n",
    "unit_transfer = function(df){\n",
    "   df$hour = hour(df$trxtime)\n",
    "   df$speed_mph = df$speed_kph*0.621371 #kph to mph\n",
    "   df$distance_mile = df$dist_meters*0.000621371 #convert from meters to mile\n",
    "   df$time_hr = df$interval_seconds/3600.0 #convert from seconds to hour\n",
    "  return(df)\n",
    "}    "
   ]
  },
  {
   "cell_type": "code",
   "execution_count": 4,
   "metadata": {},
   "outputs": [],
   "source": [
    "interval_df = unit_transfer(interval_df)"
   ]
  },
  {
   "cell_type": "code",
   "execution_count": 5,
   "metadata": {
    "collapsed": true,
    "jupyter": {
     "outputs_hidden": true
    }
   },
   "outputs": [
    {
     "data": {
      "text/html": [
       "<table>\n",
       "<caption>A data.frame: 6 × 18</caption>\n",
       "<thead>\n",
       "\t<tr><th></th><th scope=col>X</th><th scope=col>trxtime</th><th scope=col>trainid</th><th scope=col>lineid</th><th scope=col>lat</th><th scope=col>lon</th><th scope=col>day</th><th scope=col>month</th><th scope=col>year</th><th scope=col>dist_meters</th><th scope=col>interval_seconds</th><th scope=col>speed_mps</th><th scope=col>speed_kph</th><th scope=col>accel_mps2</th><th scope=col>hour</th><th scope=col>speed_mph</th><th scope=col>distance_mile</th><th scope=col>time_hr</th></tr>\n",
       "\t<tr><th></th><th scope=col>&lt;int&gt;</th><th scope=col>&lt;fct&gt;</th><th scope=col>&lt;int&gt;</th><th scope=col>&lt;int&gt;</th><th scope=col>&lt;dbl&gt;</th><th scope=col>&lt;dbl&gt;</th><th scope=col>&lt;int&gt;</th><th scope=col>&lt;int&gt;</th><th scope=col>&lt;int&gt;</th><th scope=col>&lt;dbl&gt;</th><th scope=col>&lt;int&gt;</th><th scope=col>&lt;dbl&gt;</th><th scope=col>&lt;dbl&gt;</th><th scope=col>&lt;dbl&gt;</th><th scope=col>&lt;int&gt;</th><th scope=col>&lt;dbl&gt;</th><th scope=col>&lt;dbl&gt;</th><th scope=col>&lt;dbl&gt;</th></tr>\n",
       "</thead>\n",
       "<tbody>\n",
       "\t<tr><th scope=row>1</th><td>1</td><td>2019-04-01 04:02:25</td><td>10001</td><td>4</td><td>42.33701</td><td>-71.25349</td><td>1</td><td>4</td><td>2019</td><td>      NA</td><td> NA</td><td>        NA</td><td>        NA</td><td>           NA</td><td>4</td><td>        NA</td><td>        NA</td><td>         NA</td></tr>\n",
       "\t<tr><th scope=row>2</th><td>2</td><td>2019-04-01 04:02:37</td><td>10001</td><td>4</td><td>42.33710</td><td>-71.25371</td><td>1</td><td>4</td><td>2019</td><td>20.55303</td><td> 12</td><td>1.71275229</td><td>6.16590825</td><td>           NA</td><td>4</td><td>3.83131658</td><td>0.01277106</td><td>0.003333333</td></tr>\n",
       "\t<tr><th scope=row>3</th><td>3</td><td>2019-04-01 04:11:44</td><td>10001</td><td>4</td><td>42.33701</td><td>-71.25349</td><td>1</td><td>4</td><td>2019</td><td>20.55303</td><td>547</td><td>0.03757409</td><td>0.13526673</td><td>-3.062483e-03</td><td>4</td><td>0.08405082</td><td>0.01277106</td><td>0.151944444</td></tr>\n",
       "\t<tr><th scope=row>4</th><td>4</td><td>2019-04-01 04:27:21</td><td>10001</td><td>4</td><td>42.33710</td><td>-71.25371</td><td>1</td><td>4</td><td>2019</td><td>20.55303</td><td>937</td><td>0.02193493</td><td>0.07896574</td><td>-1.669068e-05</td><td>4</td><td>0.04906702</td><td>0.01277106</td><td>0.260277778</td></tr>\n",
       "\t<tr><th scope=row>5</th><td>5</td><td>2019-04-01 04:28:46</td><td>10001</td><td>4</td><td>42.33701</td><td>-71.25349</td><td>1</td><td>4</td><td>2019</td><td>20.55303</td><td> 85</td><td>0.24180032</td><td>0.87048117</td><td> 2.586652e-03</td><td>4</td><td>0.54089175</td><td>0.01277106</td><td>0.023611111</td></tr>\n",
       "\t<tr><th scope=row>6</th><td>6</td><td>2019-04-01 04:44:12</td><td>10001</td><td>4</td><td>42.33710</td><td>-71.25371</td><td>1</td><td>4</td><td>2019</td><td>20.55303</td><td>926</td><td>0.02219549</td><td>0.07990378</td><td>-2.371542e-04</td><td>4</td><td>0.04964989</td><td>0.01277106</td><td>0.257222222</td></tr>\n",
       "</tbody>\n",
       "</table>\n"
      ],
      "text/latex": [
       "A data.frame: 6 × 18\n",
       "\\begin{tabular}{r|llllllllllllllllll}\n",
       "  & X & trxtime & trainid & lineid & lat & lon & day & month & year & dist\\_meters & interval\\_seconds & speed\\_mps & speed\\_kph & accel\\_mps2 & hour & speed\\_mph & distance\\_mile & time\\_hr\\\\\n",
       "  & <int> & <fct> & <int> & <int> & <dbl> & <dbl> & <int> & <int> & <int> & <dbl> & <int> & <dbl> & <dbl> & <dbl> & <int> & <dbl> & <dbl> & <dbl>\\\\\n",
       "\\hline\n",
       "\t1 & 1 & 2019-04-01 04:02:25 & 10001 & 4 & 42.33701 & -71.25349 & 1 & 4 & 2019 &       NA &  NA &         NA &         NA &            NA & 4 &         NA &         NA &          NA\\\\\n",
       "\t2 & 2 & 2019-04-01 04:02:37 & 10001 & 4 & 42.33710 & -71.25371 & 1 & 4 & 2019 & 20.55303 &  12 & 1.71275229 & 6.16590825 &            NA & 4 & 3.83131658 & 0.01277106 & 0.003333333\\\\\n",
       "\t3 & 3 & 2019-04-01 04:11:44 & 10001 & 4 & 42.33701 & -71.25349 & 1 & 4 & 2019 & 20.55303 & 547 & 0.03757409 & 0.13526673 & -3.062483e-03 & 4 & 0.08405082 & 0.01277106 & 0.151944444\\\\\n",
       "\t4 & 4 & 2019-04-01 04:27:21 & 10001 & 4 & 42.33710 & -71.25371 & 1 & 4 & 2019 & 20.55303 & 937 & 0.02193493 & 0.07896574 & -1.669068e-05 & 4 & 0.04906702 & 0.01277106 & 0.260277778\\\\\n",
       "\t5 & 5 & 2019-04-01 04:28:46 & 10001 & 4 & 42.33701 & -71.25349 & 1 & 4 & 2019 & 20.55303 &  85 & 0.24180032 & 0.87048117 &  2.586652e-03 & 4 & 0.54089175 & 0.01277106 & 0.023611111\\\\\n",
       "\t6 & 6 & 2019-04-01 04:44:12 & 10001 & 4 & 42.33710 & -71.25371 & 1 & 4 & 2019 & 20.55303 & 926 & 0.02219549 & 0.07990378 & -2.371542e-04 & 4 & 0.04964989 & 0.01277106 & 0.257222222\\\\\n",
       "\\end{tabular}\n"
      ],
      "text/markdown": [
       "\n",
       "A data.frame: 6 × 18\n",
       "\n",
       "| <!--/--> | X &lt;int&gt; | trxtime &lt;fct&gt; | trainid &lt;int&gt; | lineid &lt;int&gt; | lat &lt;dbl&gt; | lon &lt;dbl&gt; | day &lt;int&gt; | month &lt;int&gt; | year &lt;int&gt; | dist_meters &lt;dbl&gt; | interval_seconds &lt;int&gt; | speed_mps &lt;dbl&gt; | speed_kph &lt;dbl&gt; | accel_mps2 &lt;dbl&gt; | hour &lt;int&gt; | speed_mph &lt;dbl&gt; | distance_mile &lt;dbl&gt; | time_hr &lt;dbl&gt; |\n",
       "|---|---|---|---|---|---|---|---|---|---|---|---|---|---|---|---|---|---|---|\n",
       "| 1 | 1 | 2019-04-01 04:02:25 | 10001 | 4 | 42.33701 | -71.25349 | 1 | 4 | 2019 |       NA |  NA |         NA |         NA |            NA | 4 |         NA |         NA |          NA |\n",
       "| 2 | 2 | 2019-04-01 04:02:37 | 10001 | 4 | 42.33710 | -71.25371 | 1 | 4 | 2019 | 20.55303 |  12 | 1.71275229 | 6.16590825 |            NA | 4 | 3.83131658 | 0.01277106 | 0.003333333 |\n",
       "| 3 | 3 | 2019-04-01 04:11:44 | 10001 | 4 | 42.33701 | -71.25349 | 1 | 4 | 2019 | 20.55303 | 547 | 0.03757409 | 0.13526673 | -3.062483e-03 | 4 | 0.08405082 | 0.01277106 | 0.151944444 |\n",
       "| 4 | 4 | 2019-04-01 04:27:21 | 10001 | 4 | 42.33710 | -71.25371 | 1 | 4 | 2019 | 20.55303 | 937 | 0.02193493 | 0.07896574 | -1.669068e-05 | 4 | 0.04906702 | 0.01277106 | 0.260277778 |\n",
       "| 5 | 5 | 2019-04-01 04:28:46 | 10001 | 4 | 42.33701 | -71.25349 | 1 | 4 | 2019 | 20.55303 |  85 | 0.24180032 | 0.87048117 |  2.586652e-03 | 4 | 0.54089175 | 0.01277106 | 0.023611111 |\n",
       "| 6 | 6 | 2019-04-01 04:44:12 | 10001 | 4 | 42.33710 | -71.25371 | 1 | 4 | 2019 | 20.55303 | 926 | 0.02219549 | 0.07990378 | -2.371542e-04 | 4 | 0.04964989 | 0.01277106 | 0.257222222 |\n",
       "\n"
      ],
      "text/plain": [
       "  X trxtime             trainid lineid lat      lon       day month year\n",
       "1 1 2019-04-01 04:02:25 10001   4      42.33701 -71.25349 1   4     2019\n",
       "2 2 2019-04-01 04:02:37 10001   4      42.33710 -71.25371 1   4     2019\n",
       "3 3 2019-04-01 04:11:44 10001   4      42.33701 -71.25349 1   4     2019\n",
       "4 4 2019-04-01 04:27:21 10001   4      42.33710 -71.25371 1   4     2019\n",
       "5 5 2019-04-01 04:28:46 10001   4      42.33701 -71.25349 1   4     2019\n",
       "6 6 2019-04-01 04:44:12 10001   4      42.33710 -71.25371 1   4     2019\n",
       "  dist_meters interval_seconds speed_mps  speed_kph  accel_mps2    hour\n",
       "1       NA     NA                      NA         NA            NA 4   \n",
       "2 20.55303     12              1.71275229 6.16590825            NA 4   \n",
       "3 20.55303    547              0.03757409 0.13526673 -3.062483e-03 4   \n",
       "4 20.55303    937              0.02193493 0.07896574 -1.669068e-05 4   \n",
       "5 20.55303     85              0.24180032 0.87048117  2.586652e-03 4   \n",
       "6 20.55303    926              0.02219549 0.07990378 -2.371542e-04 4   \n",
       "  speed_mph  distance_mile time_hr    \n",
       "1         NA         NA             NA\n",
       "2 3.83131658 0.01277106    0.003333333\n",
       "3 0.08405082 0.01277106    0.151944444\n",
       "4 0.04906702 0.01277106    0.260277778\n",
       "5 0.54089175 0.01277106    0.023611111\n",
       "6 0.04964989 0.01277106    0.257222222"
      ]
     },
     "metadata": {},
     "output_type": "display_data"
    }
   ],
   "source": [
    "head(interval_df)"
   ]
  },
  {
   "cell_type": "code",
   "execution_count": 10,
   "metadata": {},
   "outputs": [
    {
     "name": "stdout",
     "output_type": "stream",
     "text": [
      "[1] \"The speed bins are: 0\"               \n",
      "[2] \"The speed bins are: 6.56858695628579\"\n",
      "[3] \"The speed bins are: 12.7370220967312\"\n",
      "[4] \"The speed bins are: 21.8533150410368\"\n",
      "[5] \"The speed bins are: 29.0026902865978\"\n",
      "[6] \"The speed bins are: 79.5312028066899\"\n",
      "[1] \"Percentage error of summed speed bin times = 0%\"\n"
     ]
    }
   ],
   "source": [
    "interval_df = bin_speeds(interval_df,5)"
   ]
  },
  {
   "cell_type": "code",
   "execution_count": 11,
   "metadata": {},
   "outputs": [
    {
     "name": "stdout",
     "output_type": "stream",
     "text": [
      "[1] \"The acceleration bins are: -5.99773290866069\"  \n",
      "[2] \"The acceleration bins are: -0.247784796968302\" \n",
      "[3] \"The acceleration bins are: -0.0443615261657048\"\n",
      "[4] \"The acceleration bins are: 0.0598579974871787\" \n",
      "[5] \"The acceleration bins are: 0.610563396512518\"  \n",
      "[6] \"The acceleration bins are: 5.99942097861047\"   \n",
      "[1] \"Percentage error of summed acceleration bin times = -4.31%\"\n"
     ]
    }
   ],
   "source": [
    "interval_df = bin_accelerations(interval_df,5)"
   ]
  },
  {
   "cell_type": "code",
   "execution_count": 7,
   "metadata": {},
   "outputs": [],
   "source": [
    "# Calculate the speed bins \n",
    "bin_speeds <- function (dataframe, num_bins) {\n",
    "  dataframe = data.table(dataframe)\n",
    "  dummy_cols = c(paste0(\"speed_bin_\",1:num_bins,\"_dummy\"))\n",
    "  bin_time_cols = c(paste0(\"speed_bin_\",1:num_bins,\"_time_hr\"))\n",
    "  cutpoints <- quantile(dataframe$speed_mph,seq(0, 1, 1/num_bins),na.rm=TRUE) \n",
    "  print(paste0(\"The speed bins are: \", cutpoints))\n",
    "  for(n in seq(1, num_bins)) {\n",
    "    if(n == 1){\n",
    "     dataframe[, dummy_cols[n] := sapply(speed_mph,  function(x) ifelse (x < cutpoints[n+1], 1, 0))]\n",
    "    }\n",
    "    else if (n == num_bins){\n",
    "     dataframe[, dummy_cols[n] := sapply(speed_mph,  function(x) ifelse (x >= cutpoints[num_bins], 1, 0))]\n",
    "    }\n",
    "    else {\n",
    "    dataframe[, dummy_cols[n] := sapply(speed_mph,  function(x) ifelse (x >= cutpoints[n] & x < cutpoints[n + 1], 1, 0))]\n",
    "    }\n",
    "  }\n",
    " dataframe[, (bin_time_cols) := lapply(.SD, function(x) x * dataframe$time_hr ), .SDcols = dummy_cols]\n",
    " print(paste0(\"Percentage error of summed speed bin times = \", \n",
    "              round(100*(sum(colSums(dataframe %>% select(starts_with(\"speed_bin_\") & ends_with(\"_time_hr\")),na.rm=TRUE)) \n",
    "                         - sum(dataframe$time_hr, na.rm=TRUE))/sum(dataframe$time_hr, na.rm=TRUE),2), \"%\"))\n",
    " return(dataframe) \n",
    "}"
   ]
  },
  {
   "cell_type": "code",
   "execution_count": 8,
   "metadata": {},
   "outputs": [],
   "source": [
    "# Calculate the acceleration bins \n",
    "bin_accelerations <- function (dataframe, num_bins) {\n",
    "  dataframe = data.table(dataframe)\n",
    "  dummy_cols = c(paste0(\"accel_bin_\",1:num_bins,\"_dummy\"))\n",
    "  bin_time_cols = c(paste0(\"accel_bin_\",1:num_bins,\"_time_hr\"))\n",
    "  cutpoints <- quantile(dataframe$accel_mps2,seq(0, 1, 1/num_bins),na.rm=TRUE) \n",
    "  print(paste0(\"The acceleration bins are: \", cutpoints))\n",
    "  for(n in seq(1, num_bins)) {\n",
    "    if(n == 1){\n",
    "      dataframe[, dummy_cols[n] := sapply(accel_mps2,  function(x) ifelse (x < cutpoints[n+1], 1, 0))]\n",
    "    }\n",
    "    else if (n == num_bins){\n",
    "      dataframe[, dummy_cols[n] := sapply(accel_mps2,  function(x) ifelse (x >= cutpoints[num_bins], 1, 0))]\n",
    "    }\n",
    "    else {\n",
    "      dataframe[, dummy_cols[n] := sapply(accel_mps2,  function(x) ifelse (x >= cutpoints[n] & x < cutpoints[n + 1], 1, 0))]\n",
    "    }\n",
    "  }\n",
    "  dataframe[, (bin_time_cols) := lapply(.SD, function(x) x * dataframe$time_hr ), .SDcols = dummy_cols]\n",
    "  print(paste0(\"Percentage error of summed acceleration bin times = \", \n",
    "               round(100*(sum(colSums(dataframe %>% select(starts_with(\"accel_bin_\") & ends_with(\"_time_hr\")),na.rm=TRUE)) \n",
    "                          - sum(dataframe$time_hr, na.rm=TRUE))/sum(dataframe$time_hr, na.rm=TRUE),2), \"%\"))                                                  \n",
    "  return(dataframe)\n",
    "}"
   ]
  },
  {
   "cell_type": "code",
   "execution_count": 13,
   "metadata": {},
   "outputs": [],
   "source": [
    "# Aggregate dataframe at hour level\n",
    "hour_aggregate <- function (dataframe,num_bins) {\n",
    "    dataframe = data.table(dataframe)\n",
    "    dataframe$month = as.character(dataframe$month)\n",
    "    dataframe$hour = as.character(dataframe$hour)\n",
    "    dataframe$day = as.character(dataframe$day)\n",
    "    sum_cols = c(\"distance_mile\",\"time_hr\",paste0(\"speed_bin_\",1:num_bins,\"_time_hr\"),paste0(\"accel_bin_\",1:num_bins,\"_time_hr\"))\n",
    "    agg_df = dataframe[, lapply( .SD, sum , na.rm=TRUE), by = c(\"month\",'hour',\"day\"), .SDcols = sum_cols]\n",
    "    avg_interval_speed_mph_df = dataframe[, lapply( .SD, mean , na.rm=TRUE), by = c(\"month\",\"hour\",\"day\"), .SDcols = 'speed_mph']\n",
    "    agg_df[, 'avg_interval_speed_mph'] = avg_interval_speed_mph_df$speed_mph\n",
    "    agg_df[, 'avg_hour_speed_mph'] = agg_df$distance_mile/agg_df$time_hr\n",
    "    return(agg_df)\n",
    "}"
   ]
  },
  {
   "cell_type": "code",
   "execution_count": 14,
   "metadata": {},
   "outputs": [],
   "source": [
    "interval_df = hour_aggregate(interval_df,5)"
   ]
  },
  {
   "cell_type": "code",
   "execution_count": 45,
   "metadata": {
    "collapsed": true,
    "jupyter": {
     "outputs_hidden": true
    }
   },
   "outputs": [
    {
     "data": {
      "text/html": [
       "<table>\n",
       "<caption>A data.table: 6 × 17</caption>\n",
       "<thead>\n",
       "\t<tr><th scope=col>month</th><th scope=col>hour</th><th scope=col>day</th><th scope=col>distance_mile</th><th scope=col>time_hr</th><th scope=col>speed_bin_1_time_hr</th><th scope=col>speed_bin_2_time_hr</th><th scope=col>speed_bin_3_time_hr</th><th scope=col>speed_bin_4_time_hr</th><th scope=col>speed_bin_5_time_hr</th><th scope=col>accel_bin_1_time_hr</th><th scope=col>accel_bin_2_time_hr</th><th scope=col>accel_bin_3_time_hr</th><th scope=col>accel_bin_4_time_hr</th><th scope=col>accel_bin_5_time_hr</th><th scope=col>avg_interval_speed_mph</th><th scope=col>avg_hour_speed_mph</th></tr>\n",
       "\t<tr><th scope=col>&lt;chr&gt;</th><th scope=col>&lt;chr&gt;</th><th scope=col>&lt;chr&gt;</th><th scope=col>&lt;dbl&gt;</th><th scope=col>&lt;dbl&gt;</th><th scope=col>&lt;dbl&gt;</th><th scope=col>&lt;dbl&gt;</th><th scope=col>&lt;dbl&gt;</th><th scope=col>&lt;dbl&gt;</th><th scope=col>&lt;dbl&gt;</th><th scope=col>&lt;dbl&gt;</th><th scope=col>&lt;dbl&gt;</th><th scope=col>&lt;dbl&gt;</th><th scope=col>&lt;dbl&gt;</th><th scope=col>&lt;dbl&gt;</th><th scope=col>&lt;dbl&gt;</th><th scope=col>&lt;dbl&gt;</th></tr>\n",
       "</thead>\n",
       "<tbody>\n",
       "\t<tr><td>4</td><td>4</td><td>1</td><td>  50.87189</td><td>  7.628333</td><td>  5.708889</td><td> 0.5730556</td><td> 0.4316667</td><td> 0.4094444</td><td> 0.5052778</td><td> 0.2994444</td><td> 1.061111</td><td> 4.610833</td><td> 0.5627778</td><td>0.142500</td><td>19.98537</td><td> 6.668808</td></tr>\n",
       "\t<tr><td>4</td><td>6</td><td>1</td><td>1105.22442</td><td>106.597778</td><td> 56.297500</td><td>17.1316667</td><td>14.3844444</td><td> 9.2702778</td><td> 9.5113889</td><td> 9.6311111</td><td>28.485278</td><td>41.570833</td><td>14.8036111</td><td>4.720556</td><td>19.69621</td><td>10.368175</td></tr>\n",
       "\t<tr><td>4</td><td>7</td><td>1</td><td>1347.50198</td><td>134.801667</td><td> 72.450278</td><td>23.2561111</td><td>16.9636111</td><td>10.9122222</td><td>11.2194444</td><td>12.2600000</td><td>40.182778</td><td>53.694167</td><td>18.5361111</td><td>6.105556</td><td>19.37512</td><td> 9.996182</td></tr>\n",
       "\t<tr><td>4</td><td>5</td><td>1</td><td> 484.39167</td><td> 63.953611</td><td> 41.391944</td><td> 8.7316667</td><td> 6.0686111</td><td> 3.6436111</td><td> 4.1083333</td><td> 4.2600000</td><td>11.321389</td><td>25.282222</td><td> 6.6133333</td><td>1.966389</td><td>18.83070</td><td> 7.574110</td></tr>\n",
       "\t<tr><td>4</td><td>8</td><td>1</td><td>1159.65304</td><td>133.512222</td><td> 78.943889</td><td>21.0233333</td><td>15.5844444</td><td> 9.3744444</td><td> 8.5861111</td><td> 9.7563889</td><td>37.225833</td><td>64.064722</td><td>15.7836111</td><td>5.729722</td><td>18.37129</td><td> 8.685744</td></tr>\n",
       "\t<tr><td>4</td><td>9</td><td>1</td><td>1287.95919</td><td>169.110833</td><td>107.528056</td><td>25.1430556</td><td>17.6358333</td><td> 9.5366667</td><td> 9.2672222</td><td>11.1069444</td><td>39.970000</td><td>87.192778</td><td>17.9300000</td><td>5.674722</td><td>17.97371</td><td> 7.616066</td></tr>\n",
       "</tbody>\n",
       "</table>\n"
      ],
      "text/latex": [
       "A data.table: 6 × 17\n",
       "\\begin{tabular}{lllllllllllllllll}\n",
       " month & hour & day & distance\\_mile & time\\_hr & speed\\_bin\\_1\\_time\\_hr & speed\\_bin\\_2\\_time\\_hr & speed\\_bin\\_3\\_time\\_hr & speed\\_bin\\_4\\_time\\_hr & speed\\_bin\\_5\\_time\\_hr & accel\\_bin\\_1\\_time\\_hr & accel\\_bin\\_2\\_time\\_hr & accel\\_bin\\_3\\_time\\_hr & accel\\_bin\\_4\\_time\\_hr & accel\\_bin\\_5\\_time\\_hr & avg\\_interval\\_speed\\_mph & avg\\_hour\\_speed\\_mph\\\\\n",
       " <chr> & <chr> & <chr> & <dbl> & <dbl> & <dbl> & <dbl> & <dbl> & <dbl> & <dbl> & <dbl> & <dbl> & <dbl> & <dbl> & <dbl> & <dbl> & <dbl>\\\\\n",
       "\\hline\n",
       "\t 4 & 4 & 1 &   50.87189 &   7.628333 &   5.708889 &  0.5730556 &  0.4316667 &  0.4094444 &  0.5052778 &  0.2994444 &  1.061111 &  4.610833 &  0.5627778 & 0.142500 & 19.98537 &  6.668808\\\\\n",
       "\t 4 & 6 & 1 & 1105.22442 & 106.597778 &  56.297500 & 17.1316667 & 14.3844444 &  9.2702778 &  9.5113889 &  9.6311111 & 28.485278 & 41.570833 & 14.8036111 & 4.720556 & 19.69621 & 10.368175\\\\\n",
       "\t 4 & 7 & 1 & 1347.50198 & 134.801667 &  72.450278 & 23.2561111 & 16.9636111 & 10.9122222 & 11.2194444 & 12.2600000 & 40.182778 & 53.694167 & 18.5361111 & 6.105556 & 19.37512 &  9.996182\\\\\n",
       "\t 4 & 5 & 1 &  484.39167 &  63.953611 &  41.391944 &  8.7316667 &  6.0686111 &  3.6436111 &  4.1083333 &  4.2600000 & 11.321389 & 25.282222 &  6.6133333 & 1.966389 & 18.83070 &  7.574110\\\\\n",
       "\t 4 & 8 & 1 & 1159.65304 & 133.512222 &  78.943889 & 21.0233333 & 15.5844444 &  9.3744444 &  8.5861111 &  9.7563889 & 37.225833 & 64.064722 & 15.7836111 & 5.729722 & 18.37129 &  8.685744\\\\\n",
       "\t 4 & 9 & 1 & 1287.95919 & 169.110833 & 107.528056 & 25.1430556 & 17.6358333 &  9.5366667 &  9.2672222 & 11.1069444 & 39.970000 & 87.192778 & 17.9300000 & 5.674722 & 17.97371 &  7.616066\\\\\n",
       "\\end{tabular}\n"
      ],
      "text/markdown": [
       "\n",
       "A data.table: 6 × 17\n",
       "\n",
       "| month &lt;chr&gt; | hour &lt;chr&gt; | day &lt;chr&gt; | distance_mile &lt;dbl&gt; | time_hr &lt;dbl&gt; | speed_bin_1_time_hr &lt;dbl&gt; | speed_bin_2_time_hr &lt;dbl&gt; | speed_bin_3_time_hr &lt;dbl&gt; | speed_bin_4_time_hr &lt;dbl&gt; | speed_bin_5_time_hr &lt;dbl&gt; | accel_bin_1_time_hr &lt;dbl&gt; | accel_bin_2_time_hr &lt;dbl&gt; | accel_bin_3_time_hr &lt;dbl&gt; | accel_bin_4_time_hr &lt;dbl&gt; | accel_bin_5_time_hr &lt;dbl&gt; | avg_interval_speed_mph &lt;dbl&gt; | avg_hour_speed_mph &lt;dbl&gt; |\n",
       "|---|---|---|---|---|---|---|---|---|---|---|---|---|---|---|---|---|\n",
       "| 4 | 4 | 1 |   50.87189 |   7.628333 |   5.708889 |  0.5730556 |  0.4316667 |  0.4094444 |  0.5052778 |  0.2994444 |  1.061111 |  4.610833 |  0.5627778 | 0.142500 | 19.98537 |  6.668808 |\n",
       "| 4 | 6 | 1 | 1105.22442 | 106.597778 |  56.297500 | 17.1316667 | 14.3844444 |  9.2702778 |  9.5113889 |  9.6311111 | 28.485278 | 41.570833 | 14.8036111 | 4.720556 | 19.69621 | 10.368175 |\n",
       "| 4 | 7 | 1 | 1347.50198 | 134.801667 |  72.450278 | 23.2561111 | 16.9636111 | 10.9122222 | 11.2194444 | 12.2600000 | 40.182778 | 53.694167 | 18.5361111 | 6.105556 | 19.37512 |  9.996182 |\n",
       "| 4 | 5 | 1 |  484.39167 |  63.953611 |  41.391944 |  8.7316667 |  6.0686111 |  3.6436111 |  4.1083333 |  4.2600000 | 11.321389 | 25.282222 |  6.6133333 | 1.966389 | 18.83070 |  7.574110 |\n",
       "| 4 | 8 | 1 | 1159.65304 | 133.512222 |  78.943889 | 21.0233333 | 15.5844444 |  9.3744444 |  8.5861111 |  9.7563889 | 37.225833 | 64.064722 | 15.7836111 | 5.729722 | 18.37129 |  8.685744 |\n",
       "| 4 | 9 | 1 | 1287.95919 | 169.110833 | 107.528056 | 25.1430556 | 17.6358333 |  9.5366667 |  9.2672222 | 11.1069444 | 39.970000 | 87.192778 | 17.9300000 | 5.674722 | 17.97371 |  7.616066 |\n",
       "\n"
      ],
      "text/plain": [
       "  month hour day distance_mile time_hr    speed_bin_1_time_hr\n",
       "1 4     4    1     50.87189      7.628333   5.708889         \n",
       "2 4     6    1   1105.22442    106.597778  56.297500         \n",
       "3 4     7    1   1347.50198    134.801667  72.450278         \n",
       "4 4     5    1    484.39167     63.953611  41.391944         \n",
       "5 4     8    1   1159.65304    133.512222  78.943889         \n",
       "6 4     9    1   1287.95919    169.110833 107.528056         \n",
       "  speed_bin_2_time_hr speed_bin_3_time_hr speed_bin_4_time_hr\n",
       "1  0.5730556           0.4316667           0.4094444         \n",
       "2 17.1316667          14.3844444           9.2702778         \n",
       "3 23.2561111          16.9636111          10.9122222         \n",
       "4  8.7316667           6.0686111           3.6436111         \n",
       "5 21.0233333          15.5844444           9.3744444         \n",
       "6 25.1430556          17.6358333           9.5366667         \n",
       "  speed_bin_5_time_hr accel_bin_1_time_hr accel_bin_2_time_hr\n",
       "1  0.5052778           0.2994444           1.061111          \n",
       "2  9.5113889           9.6311111          28.485278          \n",
       "3 11.2194444          12.2600000          40.182778          \n",
       "4  4.1083333           4.2600000          11.321389          \n",
       "5  8.5861111           9.7563889          37.225833          \n",
       "6  9.2672222          11.1069444          39.970000          \n",
       "  accel_bin_3_time_hr accel_bin_4_time_hr accel_bin_5_time_hr\n",
       "1  4.610833            0.5627778          0.142500           \n",
       "2 41.570833           14.8036111          4.720556           \n",
       "3 53.694167           18.5361111          6.105556           \n",
       "4 25.282222            6.6133333          1.966389           \n",
       "5 64.064722           15.7836111          5.729722           \n",
       "6 87.192778           17.9300000          5.674722           \n",
       "  avg_interval_speed_mph avg_hour_speed_mph\n",
       "1 19.98537                6.668808         \n",
       "2 19.69621               10.368175         \n",
       "3 19.37512                9.996182         \n",
       "4 18.83070                7.574110         \n",
       "5 18.37129                8.685744         \n",
       "6 17.97371                7.616066         "
      ]
     },
     "metadata": {},
     "output_type": "display_data"
    }
   ],
   "source": [
    "head(interval_df)"
   ]
  },
  {
   "cell_type": "code",
   "execution_count": 46,
   "metadata": {},
   "outputs": [],
   "source": [
    "# Combine ridership data\n",
    "merge_ridership = function(merged_dt,d_ridership){\n",
    "   d_ridership$route_or_line = as.character(d_ridership$route_or_line)\n",
    "   d_ridership$route_or_line[which(d_ridership$route_or_line == \"Green Line\")] = \"4\"\n",
    "   d_ridership$route_or_line[which(d_ridership$route_or_line == \"Red Line\")] = \"1\"\n",
    "   d_ridership$route_or_line[which(d_ridership$route_or_line == \"Blue Line\")] = \"2\"\n",
    "   d_ridership$route_or_line[which(d_ridership$route_or_line == \"Orange Line\")] = \"3\"\n",
    "   d_ridership$year = as.character(year(d_ridership$servicedate)）\n",
    "   d_ridership$month = as.character(month(d_ridership$servicedate)）\n",
    "   d_ridership$day = as.character(day(d_ridership$servicedate)）\n",
    "   d_ridership$hour = as.character(hour(d_ridership$halfhour)）\n",
    "   d_ridership = aggregate(d_ridership$rawtaps_split, list(year = d_ridership$year, month = d_ridership$month, day = d_ridership$day, hour = d_ridership$hour), FUN = sum)\n",
    "   names(d_ridership)[names(d_ridership) == 'x'] <- 'ridership'\n",
    "   #d_ridership$lineid = as.integer(d_ridership$lineid) \n",
    "   d_ridership = subset(d_ridership,year == \"2019\" & month == \"4\")\n",
    "   merged_db = merge(merged_dt,d_ridership,by = c(\"month\",\"day\",\"hour\"),all=T) \n",
    "   return(merged_db)\n",
    "}"
   ]
  },
  {
   "cell_type": "code",
   "execution_count": 47,
   "metadata": {},
   "outputs": [],
   "source": [
    "df_combin = merge_ridership(interval_df,d_ridership)"
   ]
  },
  {
   "cell_type": "code",
   "execution_count": 74,
   "metadata": {},
   "outputs": [],
   "source": [
    "# Combine energy consumption data\n",
    "merge_energy <- function (energy_df,hour_dt) {\n",
    "    energy_df = subset(energy_df,energy_df$Year == 2019 & energy_df$Month == 4)\n",
    "    # Melt by hour \n",
    "    melted_energy_df = melt(energy_df, id.vars=c('Year','Month','Day of Month','WJ','TAVG'), measure.vars = paste0(\"Hour \",1:24))\n",
    "        colnames(melted_energy_df) = c('year', 'month', 'day', 'weekends_weekday', 'TAVG', 'Hour', 'energy_kwh')\n",
    "    hour_energy_dt <- setDT(melted_energy_df)\n",
    "    hour_energy_dt[, Hour := str_replace(Hour, \"Hour \", \"\")]\n",
    "    hour_energy_dt$Hour = as.numeric(hour_energy_dt$Hour)\n",
    "    hour_energy_dt$Hour = hour_energy_dt$Hour - 1\n",
    "    colnames(hour_energy_dt)[6] <- 'hour'\n",
    "    hour_energy_dt$year = as.character(hour_energy_dt$year)\n",
    "    hour_energy_dt$month = as.character(hour_energy_dt$month)\n",
    "    hour_energy_dt$day = as.character(hour_energy_dt$day)\n",
    "    hour_energy_dt$hour = as.character(hour_energy_dt$hour)\n",
    "    merged_dt = merge(hour_dt,hour_energy_dt,by = c(\"year\",\"month\",\"day\",\"hour\") , all = T)\n",
    "    return(merged_dt)\n",
    "}"
   ]
  },
  {
   "cell_type": "code",
   "execution_count": 75,
   "metadata": {},
   "outputs": [],
   "source": [
    "df_main = merge_energy(dc,df_combin)"
   ]
  },
  {
   "cell_type": "code",
   "execution_count": 76,
   "metadata": {
    "collapsed": true,
    "jupyter": {
     "outputs_hidden": true
    }
   },
   "outputs": [
    {
     "data": {
      "text/html": [
       "<table>\n",
       "<caption>A data.table: 6 × 22</caption>\n",
       "<thead>\n",
       "\t<tr><th scope=col>year</th><th scope=col>month</th><th scope=col>day</th><th scope=col>hour</th><th scope=col>distance_mile</th><th scope=col>time_hr</th><th scope=col>speed_bin_1_time_hr</th><th scope=col>speed_bin_2_time_hr</th><th scope=col>speed_bin_3_time_hr</th><th scope=col>speed_bin_4_time_hr</th><th scope=col>...</th><th scope=col>accel_bin_2_time_hr</th><th scope=col>accel_bin_3_time_hr</th><th scope=col>accel_bin_4_time_hr</th><th scope=col>accel_bin_5_time_hr</th><th scope=col>avg_interval_speed_mph</th><th scope=col>avg_hour_speed_mph</th><th scope=col>ridership</th><th scope=col>weekends_weekday</th><th scope=col>TAVG</th><th scope=col>energy_kwh</th></tr>\n",
       "\t<tr><th scope=col>&lt;chr&gt;</th><th scope=col>&lt;chr&gt;</th><th scope=col>&lt;chr&gt;</th><th scope=col>&lt;chr&gt;</th><th scope=col>&lt;dbl&gt;</th><th scope=col>&lt;dbl&gt;</th><th scope=col>&lt;dbl&gt;</th><th scope=col>&lt;dbl&gt;</th><th scope=col>&lt;dbl&gt;</th><th scope=col>&lt;dbl&gt;</th><th scope=col>...</th><th scope=col>&lt;dbl&gt;</th><th scope=col>&lt;dbl&gt;</th><th scope=col>&lt;dbl&gt;</th><th scope=col>&lt;dbl&gt;</th><th scope=col>&lt;dbl&gt;</th><th scope=col>&lt;dbl&gt;</th><th scope=col>&lt;dbl&gt;</th><th scope=col>&lt;int&gt;</th><th scope=col>&lt;dbl&gt;</th><th scope=col>&lt;dbl&gt;</th></tr>\n",
       "</thead>\n",
       "<tbody>\n",
       "\t<tr><td>NA  </td><td>5</td><td>1</td><td>0 </td><td> 766.80982</td><td>20518.943889</td><td>20488.48333</td><td>10.211944</td><td> 8.805278</td><td>5.849722</td><td>...</td><td>14.068333333</td><td>19059.505833</td><td> 8.20055556</td><td>3.3375000</td><td>21.70410</td><td> 0.03737082</td><td>     NA</td><td>NA</td><td>NA</td><td>    NA</td></tr>\n",
       "\t<tr><td>NA  </td><td>5</td><td>1</td><td>1 </td><td> 224.00092</td><td> 1433.453056</td><td> 1424.07694</td><td> 2.443333</td><td> 3.037500</td><td>1.813333</td><td>...</td><td> 2.736944444</td><td> 1424.177222</td><td> 1.35333333</td><td>1.2955556</td><td>26.08955</td><td> 0.15626666</td><td>     NA</td><td>NA</td><td>NA</td><td>    NA</td></tr>\n",
       "\t<tr><td>NA  </td><td>5</td><td>1</td><td>2 </td><td>  83.01897</td><td>    5.771944</td><td>    1.76750</td><td> 1.313056</td><td> 1.537222</td><td>0.550000</td><td>...</td><td> 0.001666667</td><td>    3.003056</td><td> 0.01305556</td><td>0.5802778</td><td>23.04987</td><td>14.38318945</td><td>     NA</td><td>NA</td><td>NA</td><td>    NA</td></tr>\n",
       "\t<tr><td>2019</td><td>4</td><td>1</td><td>0 </td><td>        NA</td><td>          NA</td><td>         NA</td><td>       NA</td><td>       NA</td><td>      NA</td><td>...</td><td>          NA</td><td>          NA</td><td>         NA</td><td>       NA</td><td>      NA</td><td>         NA</td><td> 1561.0</td><td> 2</td><td>42</td><td>40.567</td></tr>\n",
       "\t<tr><td>2019</td><td>4</td><td>1</td><td>1 </td><td>        NA</td><td>          NA</td><td>         NA</td><td>       NA</td><td>       NA</td><td>      NA</td><td>...</td><td>          NA</td><td>          NA</td><td>         NA</td><td>       NA</td><td>      NA</td><td>         NA</td><td>  171.7</td><td> 2</td><td>42</td><td>35.110</td></tr>\n",
       "\t<tr><td>2019</td><td>4</td><td>1</td><td>10</td><td>1157.92787</td><td>  117.502778</td><td>   63.17194</td><td>21.106944</td><td>15.074167</td><td>8.828889</td><td>...</td><td>33.216944444</td><td>   52.217500</td><td>15.46083333</td><td>5.1025000</td><td>19.38688</td><td> 9.85447235</td><td>19134.9</td><td> 2</td><td>42</td><td>53.894</td></tr>\n",
       "</tbody>\n",
       "</table>\n"
      ],
      "text/latex": [
       "A data.table: 6 × 22\n",
       "\\begin{tabular}{lllllllllllllllllllll}\n",
       " year & month & day & hour & distance\\_mile & time\\_hr & speed\\_bin\\_1\\_time\\_hr & speed\\_bin\\_2\\_time\\_hr & speed\\_bin\\_3\\_time\\_hr & speed\\_bin\\_4\\_time\\_hr & ... & accel\\_bin\\_2\\_time\\_hr & accel\\_bin\\_3\\_time\\_hr & accel\\_bin\\_4\\_time\\_hr & accel\\_bin\\_5\\_time\\_hr & avg\\_interval\\_speed\\_mph & avg\\_hour\\_speed\\_mph & ridership & weekends\\_weekday & TAVG & energy\\_kwh\\\\\n",
       " <chr> & <chr> & <chr> & <chr> & <dbl> & <dbl> & <dbl> & <dbl> & <dbl> & <dbl> & ... & <dbl> & <dbl> & <dbl> & <dbl> & <dbl> & <dbl> & <dbl> & <int> & <dbl> & <dbl>\\\\\n",
       "\\hline\n",
       "\t NA   & 5 & 1 & 0  &  766.80982 & 20518.943889 & 20488.48333 & 10.211944 &  8.805278 & 5.849722 & ... & 14.068333333 & 19059.505833 &  8.20055556 & 3.3375000 & 21.70410 &  0.03737082 &      NA & NA & NA &     NA\\\\\n",
       "\t NA   & 5 & 1 & 1  &  224.00092 &  1433.453056 &  1424.07694 &  2.443333 &  3.037500 & 1.813333 & ... &  2.736944444 &  1424.177222 &  1.35333333 & 1.2955556 & 26.08955 &  0.15626666 &      NA & NA & NA &     NA\\\\\n",
       "\t NA   & 5 & 1 & 2  &   83.01897 &     5.771944 &     1.76750 &  1.313056 &  1.537222 & 0.550000 & ... &  0.001666667 &     3.003056 &  0.01305556 & 0.5802778 & 23.04987 & 14.38318945 &      NA & NA & NA &     NA\\\\\n",
       "\t 2019 & 4 & 1 & 0  &         NA &           NA &          NA &        NA &        NA &       NA & ... &           NA &           NA &          NA &        NA &       NA &          NA &  1561.0 &  2 & 42 & 40.567\\\\\n",
       "\t 2019 & 4 & 1 & 1  &         NA &           NA &          NA &        NA &        NA &       NA & ... &           NA &           NA &          NA &        NA &       NA &          NA &   171.7 &  2 & 42 & 35.110\\\\\n",
       "\t 2019 & 4 & 1 & 10 & 1157.92787 &   117.502778 &    63.17194 & 21.106944 & 15.074167 & 8.828889 & ... & 33.216944444 &    52.217500 & 15.46083333 & 5.1025000 & 19.38688 &  9.85447235 & 19134.9 &  2 & 42 & 53.894\\\\\n",
       "\\end{tabular}\n"
      ],
      "text/markdown": [
       "\n",
       "A data.table: 6 × 22\n",
       "\n",
       "| year &lt;chr&gt; | month &lt;chr&gt; | day &lt;chr&gt; | hour &lt;chr&gt; | distance_mile &lt;dbl&gt; | time_hr &lt;dbl&gt; | speed_bin_1_time_hr &lt;dbl&gt; | speed_bin_2_time_hr &lt;dbl&gt; | speed_bin_3_time_hr &lt;dbl&gt; | speed_bin_4_time_hr &lt;dbl&gt; | ... ... | accel_bin_2_time_hr &lt;dbl&gt; | accel_bin_3_time_hr &lt;dbl&gt; | accel_bin_4_time_hr &lt;dbl&gt; | accel_bin_5_time_hr &lt;dbl&gt; | avg_interval_speed_mph &lt;dbl&gt; | avg_hour_speed_mph &lt;dbl&gt; | ridership &lt;dbl&gt; | weekends_weekday &lt;int&gt; | TAVG &lt;dbl&gt; | energy_kwh &lt;dbl&gt; |\n",
       "|---|---|---|---|---|---|---|---|---|---|---|---|---|---|---|---|---|---|---|---|---|\n",
       "| NA   | 5 | 1 | 0  |  766.80982 | 20518.943889 | 20488.48333 | 10.211944 |  8.805278 | 5.849722 | ... | 14.068333333 | 19059.505833 |  8.20055556 | 3.3375000 | 21.70410 |  0.03737082 |      NA | NA | NA |     NA |\n",
       "| NA   | 5 | 1 | 1  |  224.00092 |  1433.453056 |  1424.07694 |  2.443333 |  3.037500 | 1.813333 | ... |  2.736944444 |  1424.177222 |  1.35333333 | 1.2955556 | 26.08955 |  0.15626666 |      NA | NA | NA |     NA |\n",
       "| NA   | 5 | 1 | 2  |   83.01897 |     5.771944 |     1.76750 |  1.313056 |  1.537222 | 0.550000 | ... |  0.001666667 |     3.003056 |  0.01305556 | 0.5802778 | 23.04987 | 14.38318945 |      NA | NA | NA |     NA |\n",
       "| 2019 | 4 | 1 | 0  |         NA |           NA |          NA |        NA |        NA |       NA | ... |           NA |           NA |          NA |        NA |       NA |          NA |  1561.0 |  2 | 42 | 40.567 |\n",
       "| 2019 | 4 | 1 | 1  |         NA |           NA |          NA |        NA |        NA |       NA | ... |           NA |           NA |          NA |        NA |       NA |          NA |   171.7 |  2 | 42 | 35.110 |\n",
       "| 2019 | 4 | 1 | 10 | 1157.92787 |   117.502778 |    63.17194 | 21.106944 | 15.074167 | 8.828889 | ... | 33.216944444 |    52.217500 | 15.46083333 | 5.1025000 | 19.38688 |  9.85447235 | 19134.9 |  2 | 42 | 53.894 |\n",
       "\n"
      ],
      "text/plain": [
       "  year month day hour distance_mile time_hr      speed_bin_1_time_hr\n",
       "1 NA   5     1   0     766.80982    20518.943889 20488.48333        \n",
       "2 NA   5     1   1     224.00092     1433.453056  1424.07694        \n",
       "3 NA   5     1   2      83.01897        5.771944     1.76750        \n",
       "4 2019 4     1   0            NA              NA          NA        \n",
       "5 2019 4     1   1            NA              NA          NA        \n",
       "6 2019 4     1   10   1157.92787      117.502778    63.17194        \n",
       "  speed_bin_2_time_hr speed_bin_3_time_hr speed_bin_4_time_hr ...\n",
       "1 10.211944            8.805278           5.849722            ...\n",
       "2  2.443333            3.037500           1.813333            ...\n",
       "3  1.313056            1.537222           0.550000            ...\n",
       "4        NA                  NA                 NA            ...\n",
       "5        NA                  NA                 NA            ...\n",
       "6 21.106944           15.074167           8.828889            ...\n",
       "  accel_bin_2_time_hr accel_bin_3_time_hr accel_bin_4_time_hr\n",
       "1 14.068333333        19059.505833         8.20055556        \n",
       "2  2.736944444         1424.177222         1.35333333        \n",
       "3  0.001666667            3.003056         0.01305556        \n",
       "4           NA                  NA                 NA        \n",
       "5           NA                  NA                 NA        \n",
       "6 33.216944444           52.217500        15.46083333        \n",
       "  accel_bin_5_time_hr avg_interval_speed_mph avg_hour_speed_mph ridership\n",
       "1 3.3375000           21.70410                0.03737082             NA  \n",
       "2 1.2955556           26.08955                0.15626666             NA  \n",
       "3 0.5802778           23.04987               14.38318945             NA  \n",
       "4        NA                 NA                        NA         1561.0  \n",
       "5        NA                 NA                        NA          171.7  \n",
       "6 5.1025000           19.38688                9.85447235        19134.9  \n",
       "  weekends_weekday TAVG energy_kwh\n",
       "1 NA               NA       NA    \n",
       "2 NA               NA       NA    \n",
       "3 NA               NA       NA    \n",
       "4  2               42   40.567    \n",
       "5  2               42   35.110    \n",
       "6  2               42   53.894    "
      ]
     },
     "metadata": {},
     "output_type": "display_data"
    }
   ],
   "source": [
    "head(df_main)"
   ]
  },
  {
   "cell_type": "code",
   "execution_count": 77,
   "metadata": {},
   "outputs": [],
   "source": [
    "write.csv(df_main,\"../../data/tidy/system-model-19-04.csv\")"
   ]
  },
  {
   "cell_type": "markdown",
   "metadata": {},
   "source": [
    "## Computing the final table"
   ]
  },
  {
   "cell_type": "code",
   "execution_count": 59,
   "metadata": {},
   "outputs": [],
   "source": [
    "main <- function (interval_df,num_bins,energy_df,d_ridership,yy,mm) {\n",
    "    final_df <- interval_df %>% unit_transfer（) %>% bin_speeds(num_bins) %>% \n",
    "    bin_accelerations(num_bins) %>% merge_ridership(d_ridership,yy,mm) %>% merge_energy(energy_df,yy,mm)\n",
    "    return(final_df)\n",
    "}"
   ]
  },
  {
   "cell_type": "code",
   "execution_count": null,
   "metadata": {},
   "outputs": [],
   "source": [
    "df_final = main(interval_df,5,energy_df,d_ridership)\n",
    "#write.csv(df_final,\"../Data/tidy/system-model.csv\")"
   ]
  },
  {
   "cell_type": "code",
   "execution_count": 106,
   "metadata": {
    "collapsed": true,
    "jupyter": {
     "outputs_hidden": true
    }
   },
   "outputs": [
    {
     "data": {
      "text/html": [
       "<table>\n",
       "<caption>A data.frame: 6 × 23</caption>\n",
       "<thead>\n",
       "\t<tr><th></th><th scope=col>year</th><th scope=col>month</th><th scope=col>day</th><th scope=col>hour</th><th scope=col>lineid</th><th scope=col>ridership</th><th scope=col>distance_mile</th><th scope=col>time_hr</th><th scope=col>speed_bin_1_time_hr</th><th scope=col>speed_bin_2_time_hr</th><th scope=col>...</th><th scope=col>accel_bin_1_time_hr</th><th scope=col>accel_bin_2_time_hr</th><th scope=col>accel_bin_3_time_hr</th><th scope=col>accel_bin_4_time_hr</th><th scope=col>accel_bin_5_time_hr</th><th scope=col>avg_interval_speed_mph</th><th scope=col>avg_hour_speed_mph</th><th scope=col>weekends_weekday</th><th scope=col>TAVG</th><th scope=col>energy_kwh</th></tr>\n",
       "\t<tr><th></th><th scope=col>&lt;chr&gt;</th><th scope=col>&lt;chr&gt;</th><th scope=col>&lt;chr&gt;</th><th scope=col>&lt;chr&gt;</th><th scope=col>&lt;int&gt;</th><th scope=col>&lt;dbl&gt;</th><th scope=col>&lt;dbl&gt;</th><th scope=col>&lt;dbl&gt;</th><th scope=col>&lt;dbl&gt;</th><th scope=col>&lt;dbl&gt;</th><th scope=col>...</th><th scope=col>&lt;dbl&gt;</th><th scope=col>&lt;dbl&gt;</th><th scope=col>&lt;dbl&gt;</th><th scope=col>&lt;dbl&gt;</th><th scope=col>&lt;dbl&gt;</th><th scope=col>&lt;dbl&gt;</th><th scope=col>&lt;dbl&gt;</th><th scope=col>&lt;dbl&gt;</th><th scope=col>&lt;dbl&gt;</th><th scope=col>&lt;dbl&gt;</th></tr>\n",
       "</thead>\n",
       "<tbody>\n",
       "\t<tr><th scope=row>1</th><td>2019</td><td>4</td><td>1</td><td>0</td><td>4</td><td>448.77</td><td>NA</td><td>NA</td><td>NA</td><td>NA</td><td>...</td><td>NA</td><td>NA</td><td>NA</td><td>NA</td><td>NA</td><td>NA</td><td>NA</td><td>2</td><td>42</td><td>40.567</td></tr>\n",
       "\t<tr><th scope=row>2</th><td>2019</td><td>4</td><td>1</td><td>0</td><td>1</td><td>477.41</td><td>NA</td><td>NA</td><td>NA</td><td>NA</td><td>...</td><td>NA</td><td>NA</td><td>NA</td><td>NA</td><td>NA</td><td>NA</td><td>NA</td><td>2</td><td>42</td><td>40.567</td></tr>\n",
       "\t<tr><th scope=row>3</th><td>2019</td><td>4</td><td>1</td><td>0</td><td>2</td><td>184.70</td><td>NA</td><td>NA</td><td>NA</td><td>NA</td><td>...</td><td>NA</td><td>NA</td><td>NA</td><td>NA</td><td>NA</td><td>NA</td><td>NA</td><td>2</td><td>42</td><td>40.567</td></tr>\n",
       "\t<tr><th scope=row>4</th><td>2019</td><td>4</td><td>1</td><td>0</td><td>3</td><td>450.12</td><td>NA</td><td>NA</td><td>NA</td><td>NA</td><td>...</td><td>NA</td><td>NA</td><td>NA</td><td>NA</td><td>NA</td><td>NA</td><td>NA</td><td>2</td><td>42</td><td>40.567</td></tr>\n",
       "\t<tr><th scope=row>5</th><td>2019</td><td>4</td><td>1</td><td>1</td><td>2</td><td> 21.40</td><td>NA</td><td>NA</td><td>NA</td><td>NA</td><td>...</td><td>NA</td><td>NA</td><td>NA</td><td>NA</td><td>NA</td><td>NA</td><td>NA</td><td>2</td><td>42</td><td>35.110</td></tr>\n",
       "\t<tr><th scope=row>6</th><td>2019</td><td>4</td><td>1</td><td>1</td><td>3</td><td> 61.35</td><td>NA</td><td>NA</td><td>NA</td><td>NA</td><td>...</td><td>NA</td><td>NA</td><td>NA</td><td>NA</td><td>NA</td><td>NA</td><td>NA</td><td>2</td><td>42</td><td>35.110</td></tr>\n",
       "</tbody>\n",
       "</table>\n"
      ],
      "text/latex": [
       "A data.frame: 6 × 23\n",
       "\\begin{tabular}{r|lllllllllllllllllllll}\n",
       "  & year & month & day & hour & lineid & ridership & distance\\_mile & time\\_hr & speed\\_bin\\_1\\_time\\_hr & speed\\_bin\\_2\\_time\\_hr & ... & accel\\_bin\\_1\\_time\\_hr & accel\\_bin\\_2\\_time\\_hr & accel\\_bin\\_3\\_time\\_hr & accel\\_bin\\_4\\_time\\_hr & accel\\_bin\\_5\\_time\\_hr & avg\\_interval\\_speed\\_mph & avg\\_hour\\_speed\\_mph & weekends\\_weekday & TAVG & energy\\_kwh\\\\\n",
       "  & <chr> & <chr> & <chr> & <chr> & <int> & <dbl> & <dbl> & <dbl> & <dbl> & <dbl> & ... & <dbl> & <dbl> & <dbl> & <dbl> & <dbl> & <dbl> & <dbl> & <dbl> & <dbl> & <dbl>\\\\\n",
       "\\hline\n",
       "\t1 & 2019 & 4 & 1 & 0 & 4 & 448.77 & NA & NA & NA & NA & ... & NA & NA & NA & NA & NA & NA & NA & 2 & 42 & 40.567\\\\\n",
       "\t2 & 2019 & 4 & 1 & 0 & 1 & 477.41 & NA & NA & NA & NA & ... & NA & NA & NA & NA & NA & NA & NA & 2 & 42 & 40.567\\\\\n",
       "\t3 & 2019 & 4 & 1 & 0 & 2 & 184.70 & NA & NA & NA & NA & ... & NA & NA & NA & NA & NA & NA & NA & 2 & 42 & 40.567\\\\\n",
       "\t4 & 2019 & 4 & 1 & 0 & 3 & 450.12 & NA & NA & NA & NA & ... & NA & NA & NA & NA & NA & NA & NA & 2 & 42 & 40.567\\\\\n",
       "\t5 & 2019 & 4 & 1 & 1 & 2 &  21.40 & NA & NA & NA & NA & ... & NA & NA & NA & NA & NA & NA & NA & 2 & 42 & 35.110\\\\\n",
       "\t6 & 2019 & 4 & 1 & 1 & 3 &  61.35 & NA & NA & NA & NA & ... & NA & NA & NA & NA & NA & NA & NA & 2 & 42 & 35.110\\\\\n",
       "\\end{tabular}\n"
      ],
      "text/markdown": [
       "\n",
       "A data.frame: 6 × 23\n",
       "\n",
       "| <!--/--> | year &lt;chr&gt; | month &lt;chr&gt; | day &lt;chr&gt; | hour &lt;chr&gt; | lineid &lt;int&gt; | ridership &lt;dbl&gt; | distance_mile &lt;dbl&gt; | time_hr &lt;dbl&gt; | speed_bin_1_time_hr &lt;dbl&gt; | speed_bin_2_time_hr &lt;dbl&gt; | ... ... | accel_bin_1_time_hr &lt;dbl&gt; | accel_bin_2_time_hr &lt;dbl&gt; | accel_bin_3_time_hr &lt;dbl&gt; | accel_bin_4_time_hr &lt;dbl&gt; | accel_bin_5_time_hr &lt;dbl&gt; | avg_interval_speed_mph &lt;dbl&gt; | avg_hour_speed_mph &lt;dbl&gt; | weekends_weekday &lt;dbl&gt; | TAVG &lt;dbl&gt; | energy_kwh &lt;dbl&gt; |\n",
       "|---|---|---|---|---|---|---|---|---|---|---|---|---|---|---|---|---|---|---|---|---|---|\n",
       "| 1 | 2019 | 4 | 1 | 0 | 4 | 448.77 | NA | NA | NA | NA | ... | NA | NA | NA | NA | NA | NA | NA | 2 | 42 | 40.567 |\n",
       "| 2 | 2019 | 4 | 1 | 0 | 1 | 477.41 | NA | NA | NA | NA | ... | NA | NA | NA | NA | NA | NA | NA | 2 | 42 | 40.567 |\n",
       "| 3 | 2019 | 4 | 1 | 0 | 2 | 184.70 | NA | NA | NA | NA | ... | NA | NA | NA | NA | NA | NA | NA | 2 | 42 | 40.567 |\n",
       "| 4 | 2019 | 4 | 1 | 0 | 3 | 450.12 | NA | NA | NA | NA | ... | NA | NA | NA | NA | NA | NA | NA | 2 | 42 | 40.567 |\n",
       "| 5 | 2019 | 4 | 1 | 1 | 2 |  21.40 | NA | NA | NA | NA | ... | NA | NA | NA | NA | NA | NA | NA | 2 | 42 | 35.110 |\n",
       "| 6 | 2019 | 4 | 1 | 1 | 3 |  61.35 | NA | NA | NA | NA | ... | NA | NA | NA | NA | NA | NA | NA | 2 | 42 | 35.110 |\n",
       "\n"
      ],
      "text/plain": [
       "  year month day hour lineid ridership distance_mile time_hr\n",
       "1 2019 4     1   0    4      448.77    NA            NA     \n",
       "2 2019 4     1   0    1      477.41    NA            NA     \n",
       "3 2019 4     1   0    2      184.70    NA            NA     \n",
       "4 2019 4     1   0    3      450.12    NA            NA     \n",
       "5 2019 4     1   1    2       21.40    NA            NA     \n",
       "6 2019 4     1   1    3       61.35    NA            NA     \n",
       "  speed_bin_1_time_hr speed_bin_2_time_hr ... accel_bin_1_time_hr\n",
       "1 NA                  NA                  ... NA                 \n",
       "2 NA                  NA                  ... NA                 \n",
       "3 NA                  NA                  ... NA                 \n",
       "4 NA                  NA                  ... NA                 \n",
       "5 NA                  NA                  ... NA                 \n",
       "6 NA                  NA                  ... NA                 \n",
       "  accel_bin_2_time_hr accel_bin_3_time_hr accel_bin_4_time_hr\n",
       "1 NA                  NA                  NA                 \n",
       "2 NA                  NA                  NA                 \n",
       "3 NA                  NA                  NA                 \n",
       "4 NA                  NA                  NA                 \n",
       "5 NA                  NA                  NA                 \n",
       "6 NA                  NA                  NA                 \n",
       "  accel_bin_5_time_hr avg_interval_speed_mph avg_hour_speed_mph\n",
       "1 NA                  NA                     NA                \n",
       "2 NA                  NA                     NA                \n",
       "3 NA                  NA                     NA                \n",
       "4 NA                  NA                     NA                \n",
       "5 NA                  NA                     NA                \n",
       "6 NA                  NA                     NA                \n",
       "  weekends_weekday TAVG energy_kwh\n",
       "1 2                42   40.567    \n",
       "2 2                42   40.567    \n",
       "3 2                42   40.567    \n",
       "4 2                42   40.567    \n",
       "5 2                42   35.110    \n",
       "6 2                42   35.110    "
      ]
     },
     "metadata": {},
     "output_type": "display_data"
    }
   ],
   "source": [
    "head(dm)"
   ]
  },
  {
   "cell_type": "markdown",
   "metadata": {},
   "source": [
    "# Experimental section"
   ]
  },
  {
   "cell_type": "code",
   "execution_count": null,
   "metadata": {},
   "outputs": [],
   "source": [
    "# # Calculate the acceleration bins\n",
    "# bin_accelerations <- function (dataframe) {\n",
    "#     dummy_cols = c(paste0(\"accel_bin_\",1:5,\"_dummy\"))\n",
    "#     bin_time_cols = c(paste0(\"speed_bin_\",1:5,\"_time_hr\"))\n",
    "#     cutpoints  <- quantile(dataframe$accel_mps2,seq(0,1,.2),na.rm=TRUE) \n",
    "#     print(paste0(\"The acceleration bins are: \", testcuts))\n",
    "#     dataframe[, 'accel_bin_1_dummy' := sapply(accel_mps2,  function(x) ifelse (x < testcuts[2], 1, 0))]\n",
    "#     dataframe[, 'accel_bin_2_dummy' := sapply(accel_mps2,  function(x) ifelse (x >= testcuts[2] & x < testcuts[3], 1, 0))]\n",
    "#     dataframe[, 'accel_bin_3_dummy' := sapply(accel_mps2,  function(x) ifelse (x >= testcuts[3] & x < testcuts[4], 1, 0))]\n",
    "#     dataframe[, 'accel_bin_4_dummy' := sapply(accel_mps2,  function(x) ifelse (x >= testcuts[4] & x < testcuts[5], 1, 0))]\n",
    "#     dataframe[, 'accel_bin_5_dummy' := sapply(accel_mps2,  function(x) ifelse (x >= testcuts[5], 1, 0))]\n",
    "#     dataframe[, (bin_time_cols) := lapply(.SD, function(x) x * dataframe$time_hr ), .SDcols = dummy_cols]\n",
    "#     print(paste0(\"Percentage error of summed acceleration bin times = \", round(100*(sum(colSums(dataframe[, bin_time_cols ],na.rm=TRUE)) \n",
    "#                - sum(dataframe$time_hr, na.rm=TRUE))/sum(dataframe$time_hr, na.rm=TRUE),2), \"%\"))                                                  \n",
    "#     return(dataframe)\n",
    "# }"
   ]
  }
 ],
 "metadata": {
  "kernelspec": {
   "display_name": "R",
   "language": "R",
   "name": "ir"
  },
  "language_info": {
   "codemirror_mode": "r",
   "file_extension": ".r",
   "mimetype": "text/x-r-source",
   "name": "R",
   "pygments_lexer": "r",
   "version": "3.6.2"
  }
 },
 "nbformat": 4,
 "nbformat_minor": 4
}
