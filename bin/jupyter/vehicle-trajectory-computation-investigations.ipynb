{
 "cells": [
  {
   "cell_type": "markdown",
   "metadata": {},
   "source": [
    "# Data preprocessing and trajectory analysis"
   ]
  },
  {
   "cell_type": "code",
   "execution_count": 1,
   "metadata": {
    "collapsed": true,
    "jupyter": {
     "outputs_hidden": true
    }
   },
   "outputs": [
    {
     "name": "stderr",
     "output_type": "stream",
     "text": [
      "Warning message:\n",
      "\"package 'data.table' was built under R version 3.6.3\"\n",
      "Warning message:\n",
      "\"package 'dplyr' was built under R version 3.6.3\"\n",
      "\n",
      "Attaching package: 'dplyr'\n",
      "\n",
      "\n",
      "The following objects are masked from 'package:data.table':\n",
      "\n",
      "    between, first, last\n",
      "\n",
      "\n",
      "The following objects are masked from 'package:stats':\n",
      "\n",
      "    filter, lag\n",
      "\n",
      "\n",
      "The following objects are masked from 'package:base':\n",
      "\n",
      "    intersect, setdiff, setequal, union\n",
      "\n",
      "\n",
      "Warning message:\n",
      "\"package 'geosphere' was built under R version 3.6.3\"\n",
      "\n",
      "Attaching package: 'lubridate'\n",
      "\n",
      "\n",
      "The following objects are masked from 'package:data.table':\n",
      "\n",
      "    hour, isoweek, mday, minute, month, quarter, second, wday, week,\n",
      "    yday, year\n",
      "\n",
      "\n",
      "The following object is masked from 'package:base':\n",
      "\n",
      "    date\n",
      "\n",
      "\n",
      "Warning message:\n",
      "\"package 'robfilter' was built under R version 3.6.3\"\n",
      "Loading required package: robustbase\n",
      "\n",
      "Warning message:\n",
      "\"package 'robustbase' was built under R version 3.6.3\"\n",
      "Loading required package: MASS\n",
      "\n",
      "Warning message:\n",
      "\"package 'MASS' was built under R version 3.6.3\"\n",
      "\n",
      "Attaching package: 'MASS'\n",
      "\n",
      "\n",
      "The following object is masked from 'package:dplyr':\n",
      "\n",
      "    select\n",
      "\n",
      "\n",
      "Loading required package: lattice\n",
      "\n",
      "Warning message:\n",
      "\"package 'ggplot2' was built under R version 3.6.3\"\n",
      "Warning message:\n",
      "\"package 'ggpubr' was built under R version 3.6.3\"\n",
      "Warning message:\n",
      "\"package 'ggmap' was built under R version 3.6.3\"\n",
      "Google's Terms of Service: https://cloud.google.com/maps-platform/terms/.\n",
      "\n",
      "Please cite ggmap if you use it! See citation(\"ggmap\") for details.\n",
      "\n"
     ]
    }
   ],
   "source": [
    "library(data.table) # Fread\n",
    "library(dplyr)\n",
    "library(geosphere) # Calculate vehicle distance\n",
    "library(lubridate)# Date column extraction\n",
    "library(robfilter)# Smooth the data\n",
    "library(ggplot2) # Plot\n",
    "library(ggpubr) # Combine different plots\n",
    "library(ggmap) # plot points on the map\n",
    "library(RColorBrewer) # color panel"
   ]
  },
  {
   "cell_type": "code",
   "execution_count": 2,
   "metadata": {},
   "outputs": [],
   "source": [
    "library(base)"
   ]
  },
  {
   "cell_type": "code",
   "execution_count": null,
   "metadata": {},
   "outputs": [],
   "source": [
    "# Input location data"
   ]
  },
  {
   "cell_type": "code",
   "execution_count": 2,
   "metadata": {},
   "outputs": [],
   "source": [
    "# Read data from folder\n",
    "# Suggestion: Just do one year at one time. One year's table has 94363502 rows(green)\n",
    "YEARLIST = c('19')\n",
    "MONTHlIST = c(\"04\") # FOR FULL TABLE\n",
    "DISTANCE_FILEPATH = \"F:/data/raw/vehicle-location/\""
   ]
  },
  {
   "cell_type": "code",
   "execution_count": 3,
   "metadata": {},
   "outputs": [],
   "source": [
    "# Add different time scale columns\n",
    "add_dd_mm_yy_cols = function(df) {\n",
    "    df$day = day(df$trxtime)\n",
    "    df$month = month(df$trxtime)\n",
    "    df$year = year(df$trxtime)\n",
    "    return(df)\n",
    "}\n",
    "# Read heavy rail location raw data\n",
    "get_heavy_rail_trajectories = function(year, month){\n",
    "    assign(\"dh\", fread(paste(DISTANCE_FILEPATH, paste(\"heavyrail\", \"trajectories\", month, year, \".csv\", sep = \"-\", collapse = \"\"), sep=\"\")))\n",
    "    dh = add_dd_mm_yy_cols(dh)\n",
    "    return(dh)\n",
    "}\n",
    "# Read light rail location raw data\n",
    "get_light_rail_trajectories = function(year, month){\n",
    "    assign(\"dg\", fread(paste(DISTANCE_FILEPATH, paste(\"lightrail\", \"trajectories\", month, year, \".csv\", sep = \"-\", collapse = \"\"), sep=\"\")))\n",
    "    dg = add_dd_mm_yy_cols(dg)\n",
    "    return(dg)\n",
    "}"
   ]
  },
  {
   "cell_type": "code",
   "execution_count": 4,
   "metadata": {},
   "outputs": [],
   "source": [
    "# Get the raw table\n",
    "df_heavyrail = get_heavy_rail_trajectories(YEARLIST,MONTHlIST)\n",
    "df_lightrail = get_light_rail_trajectories(YEARLIST,MONTHlIST)"
   ]
  },
  {
   "cell_type": "markdown",
   "metadata": {},
   "source": [
    "# Table subset by trajectory index"
   ]
  },
  {
   "cell_type": "code",
   "execution_count": 5,
   "metadata": {},
   "outputs": [],
   "source": [
    "# Subset table by a given day\n",
    "get_day_trajectories = function(df, dayid){\n",
    "    day_df = df[day == dayid, .SD, keyby = .(trainid, vehicleid, routeid) ]\n",
    "    # print(paste(\"Number of observations\", nrow(day_df), \"on day\", dayid ))\n",
    "    return(day_df)\n",
    "}\n",
    "# Create trajectory index table \n",
    "get_unique_trajectory_indices = function(day_df) {\n",
    "    trajectory_index_df = unique(day_df[, .(trainid, vehicleid, routeid, car1, car2, car3)])\n",
    "    # print(paste(\"Number of unique trajectories extracted: \", dim(trajectory_index_df)[1]))\n",
    "    return(trajectory_index_df)\n",
    "}\n",
    "# Subset the raw table by unique index\n",
    "extract_unique_trajectory_light = function(day_df, traj_index_df, index){\n",
    "    day_df[[\"car2\"]][is.na(day_df[[\"car2\"]])] <- 9999999\n",
    "    day_df[[\"car3\"]][is.na(day_df[[\"car3\"]])] <- 9999999\n",
    "    traj_index_df[[\"car2\"]][is.na(traj_index_df[[\"car2\"]])] <- 9999999\n",
    "    traj_index_df[[\"car3\"]][is.na(traj_index_df[[\"car3\"]])] <- 9999999\n",
    "    trajectory = day_df[trainid == traj_index_df[index, 1][[1]] & \n",
    "                        vehicleid == traj_index_df[index, 2][[1]] &\n",
    "                        # routeid == traj_index_df[index, 3][[1]] &\n",
    "                        car1 == traj_index_df[index, 4][[1]] &\n",
    "                        car2 == traj_index_df[index, 5][[1]] &\n",
    "                        car3 == traj_index_df[index, 6][[1]],][order(trxtime)]\n",
    "    clean_trajectory = trajectory[, .SD[1], by = trxtime] # takes first observation of multiple with same time\n",
    "    clean_trajectory[[\"car2\"]][clean_trajectory[[\"car2\"]] == 9999999] = NA\n",
    "    clean_trajectory[[\"car3\"]][clean_trajectory[[\"car3\"]] == 9999999] = NA\n",
    "    # transfer trxtime to timestamp\n",
    "    options(tz = \"America/New_York\")\n",
    "    clean_trajectory$time = as.POSIXct(clean_trajectory$trxtime,tz = getOption(\"tz\"))\n",
    "    return (clean_trajectory)\n",
    "}\n",
    "extract_unique_trajectory_heavy = function(day_df, traj_index_df, index){\n",
    "    day_df[[\"heavyrailbranchid\"]][is.na(day_df[[\"heavyrailbranchid\"]])] <- 9999999\n",
    "    day_df[[\"tripid\"]][is.na(day_df[[\"tripid\"]])] <- 9999999\n",
    "    day_df[[\"vehicleid\"]][is.na(day_df[[\"vehicleid\"]])] <- 9999999\n",
    "    traj_index_df[[\"heavyrailbranchid\"]][is.na(traj_index_df[[\"heavyrailbranchid\"]])] <- 9999999\n",
    "    traj_index_df[[\"tripid\"]][is.na(traj_index_df[[\"tripid\"]])] <- 9999999\n",
    "    traj_index_df[[\"vehicleid\"]][is.na(traj_index_df[[\"vehicleid\"]])] <- 9999999\n",
    "    trajectory = day_df[trainid == traj_index_df[index, 1][[1]] & \n",
    "                        vehicleid == traj_index_df[index, 2][[1]] &\n",
    "                        lineid == traj_index_df[index, 3][[1]] &\n",
    "                        heavyrailbranchid == traj_index_df[index, 4][[1]] &\n",
    "                        tripid == traj_index_df[index, 5][[1]],][order(trxtime)]\n",
    "    clean_trajectory = trajectory[, .SD[1], by = trxtime] # takes first observation of multiple with same time\n",
    "    clean_trajectory[[\"heavyrailbranchid\"]][clean_trajectory[[\"heavyrailbranchid\"]] == 9999999] = NA\n",
    "    clean_trajectory[[\"tripid\"]][clean_trajectory[[\"tripid\"]] == 9999999] = NA\n",
    "    clean_trajectory[[\"vehicleid\"]][clean_trajectory[[\"vehicleid\"]] == 9999999] = NA\n",
    "    # transfer trxtime to timestamp\n",
    "    options(tz = \"America/New_York\")\n",
    "    clean_trajectory$time = as.POSIXct(clean_trajectory$trxtime,tz = getOption(\"tz\"))\n",
    "    return (clean_trajectory)\n",
    "}"
   ]
  },
  {
   "cell_type": "code",
   "execution_count": 6,
   "metadata": {},
   "outputs": [],
   "source": [
    "# generate the selected trajectory table\n",
    "light_subset = function(df,day,index){\n",
    "    day_df = get_day_trajectories(df, day)\n",
    "    trajectory_index_df = get_unique_trajectory_indices(day_df)\n",
    "    clean_trajectory_df = extract_unique_trajectory_light(day_df, trajectory_index_df, index)\n",
    "    return(clean_trajectory_df)\n",
    "}"
   ]
  },
  {
   "cell_type": "code",
   "execution_count": 7,
   "metadata": {},
   "outputs": [],
   "source": [
    "df = light_subset(df_lightrail,1,3)"
   ]
  },
  {
   "cell_type": "code",
   "execution_count": 36,
   "metadata": {},
   "outputs": [],
   "source": [
    "# generate the selected trajectory table\n",
    "heavy_subset = function(df,day,index){\n",
    "    day_df = get_day_trajectories(df, day)\n",
    "    trajectory_index_df = get_unique_trajectory_indices(day_df)\n",
    "    clean_trajectory_df = extract_unique_trajectory_heavy(day_df, trajectory_index_df, index)\n",
    "    return(list(clean_trajectory = clean_trajectory_df , index = trajectory_index_df))\n",
    "}\n"
   ]
  },
  {
   "cell_type": "code",
   "execution_count": 7,
   "metadata": {},
   "outputs": [],
   "source": [
    "df_test = light_subset(df_lightrail,2,7)$clean_trajectory"
   ]
  },
  {
   "cell_type": "code",
   "execution_count": null,
   "metadata": {},
   "outputs": [],
   "source": [
    "compute_day_trajectories = function(month_df, dd) {\n",
    "    df_dd = get_day_trajectories(month_df, dd)\n",
    "    traj_indices_dd = get_unique_trajectory_indices(df_dd)\n",
    "    print(head(traj_indices_dd))\n",
    "    num_traj = nrow(traj_indices_dd)\n",
    "    for (tt in seq(num_traj)[1:5] ) { # ideally this should be for the whole sequence\n",
    "        traj = extract_unique_trajectory(df_dd, traj_indices_dd, tt)\n",
    "        traj$trajid = tt # add a new column\n",
    "        traj %<>% preprocess_data() %>% compute_distance() %>% compute_speed_acceleration() \n",
    "        if (tt==1) {\n",
    "            processed_traj_df = traj\n",
    "        } else {\n",
    "            processed_traj_df = rbind(processed_traj_df, traj)\n",
    "        }\n",
    "    }\n",
    "    return (processed_traj_df)\n",
    "}\n"
   ]
  },
  {
   "cell_type": "code",
   "execution_count": 26,
   "metadata": {},
   "outputs": [],
   "source": [
    "case_1 = function(clean_trajectory){\n",
    "    clean_trajectory = compute_time_interval(clean_trajectory)\n",
    "    clean_trajectory = compute_distance(clean_trajectory)\n",
    "    clean_trajectory = compute_speed_acceleration(clean_trajectory)\n",
    "    clean_trajectory = compute_cumulative_time_distance(clean_trajectory)\n",
    "    trajectory_plot(clean_trajectory)\n",
    "    return(clean_trajectory)\n",
    "    }"
   ]
  },
  {
   "cell_type": "code",
   "execution_count": 22,
   "metadata": {},
   "outputs": [],
   "source": [
    "case_3 = function(clean_trajectory){\n",
    "    clean_trajectory = data.table(clean_trajectory)\n",
    "    clean_trajectory = compute_time_interval(clean_trajectory)\n",
    "    clean_trajectory = clean_trajectory[interval_seconds < 2500]\n",
    "    clean_trajectory = compute_time_interval(clean_trajectory)\n",
    "    clean_trajectory = compute_distance(clean_trajectory)\n",
    "    clean_trajectory = compute_speed_acceleration(clean_trajectory)\n",
    "    clean_trajectory = compute_cumulative_time_distance(clean_trajectory)\n",
    "    trajectory_plot(clean_trajectory)\n",
    "    return(clean_trajectory)\n",
    "    \n",
    "}"
   ]
  },
  {
   "cell_type": "code",
   "execution_count": 8,
   "metadata": {},
   "outputs": [],
   "source": [
    "# Remove the outlier speed\n",
    "case_5 = function(clean_trajectory){\n",
    "    clean_trajectory = data.table(clean_trajectory)\n",
    "    clean_trajectory = compute_time_interval(clean_trajectory)\n",
    "    # Remove short time interval observations\n",
    "    clean_trajectory = clean_trajectory[interval_seconds > 1]\n",
    "    clean_trajectory = compute_time_interval(clean_trajectory)\n",
    "    clean_trajectory = compute_distance(clean_trajectory)\n",
    "    clean_trajectory = compute_speed_acceleration(clean_trajectory)\n",
    "    clean_trajectory = compute_cumulative_time_distance(clean_trajectory)\n",
    "    # Remove outlier speed observations\n",
    "    clean_trajectory = clean_trajectory[speed_kph < 120]\n",
    "    clean_trajectory = clean_trajectory[accel_mps2 > -6 & accel_mps2 < 6 ]\n",
    "#     # redo the calculation\n",
    "#     clean_trajectory = compute_time_interval(clean_trajectory)\n",
    "#     clean_trajectory = compute_distance(clean_trajectory)\n",
    "#     clean_trajectory = compute_speed_acceleration(clean_trajectory)\n",
    "#     clean_trajectory = compute_cumulative_time_distance(clean_trajectory)\n",
    "    trajectory_plot(clean_trajectory) \n",
    "}"
   ]
  },
  {
   "cell_type": "code",
   "execution_count": 80,
   "metadata": {},
   "outputs": [
    {
     "name": "stdout",
     "output_type": "stream",
     "text": [
      "[1] \"Line: Green|Trainid: 10001|Vehicleid:   3699|Car1id: 3699|Car2id: 3856|Car3id: NA|Date: 4-1\"\n"
     ]
    },
    {
     "name": "stderr",
     "output_type": "stream",
     "text": [
      "`stat_bin()` using `bins = 30`. Pick better value with `binwidth`.\n",
      "\n",
      "file saved to ../../figures/case_green_example.png\n",
      "\n"
     ]
    },
    {
     "data": {
      "text/plain": [
       "NULL"
      ]
     },
     "metadata": {},
     "output_type": "display_data"
    }
   ],
   "source": [
    "case_5(df)"
   ]
  },
  {
   "cell_type": "code",
   "execution_count": 51,
   "metadata": {},
   "outputs": [],
   "source": [
    "d_compare_table = compare_table(df_test_2_case1,df_test_2_case2_5,df_test_2_case2_7,df_test_2_case2_9,df_test_2_case3,df_test_2_case4_5,df_test_2_case4_7,df_test_2_case4_9)"
   ]
  },
  {
   "cell_type": "code",
   "execution_count": 89,
   "metadata": {},
   "outputs": [],
   "source": [
    "m = expression(R^2)"
   ]
  },
  {
   "cell_type": "code",
   "execution_count": 91,
   "metadata": {},
   "outputs": [],
   "source": [
    "R2.exp <- expression(paste(\" \",R^2 ,\"= 0.647\"))"
   ]
  },
  {
   "cell_type": "code",
   "execution_count": 92,
   "metadata": {},
   "outputs": [
    {
     "name": "stdout",
     "output_type": "stream",
     "text": [
      "expression(paste(\" \", R^2, \"= 0.647\"))\n"
     ]
    }
   ],
   "source": [
    "print(R2.exp)"
   ]
  },
  {
   "cell_type": "markdown",
   "metadata": {},
   "source": [
    "# Function used for trajectory investigation"
   ]
  },
  {
   "cell_type": "code",
   "execution_count": 79,
   "metadata": {},
   "outputs": [],
   "source": [
    "# plot each trajectory\n",
    "trajectory_plot = function(df){\n",
    "    p_title = title(df)\n",
    "    # plot histogram for speed and acceleration\n",
    "    clean_hist = melt(df, id.vars = c(\"time\",\"month\",\"day\") ,\n",
    "                                 measure.vars = c(\"dist_meters\",\"interval_seconds\",\n",
    "                                                  \"speed_kph\",\"accel_mps2\"))\n",
    "    # Name new labels for hist plot\n",
    "    levels(clean_hist$variable) = c(\"Distance (meters)\", \"Time interval (s)\",\n",
    "                                     \"Speed (km/h)\",\"Acceleration (meters/s^2)\")\n",
    "    # geom_jitter()\n",
    "    p_hist = ggplot(clean_hist,aes(x = value)) + \n",
    "    geom_histogram(color=\"black\", fill=\"lightblue\") +  \n",
    "    facet_wrap(~variable,ncol = 2 , scales = \"free\") +\n",
    "    labs(title = \"(b) Histograms\") +\n",
    "    theme(strip.text = element_text(size = rel(2)),\n",
    "          # title\n",
    "          axis.title.x = element_blank(),\n",
    "          axis.title.y = element_blank(),\n",
    "          title= element_text(size = 25),\n",
    "          # axis label\n",
    "          axis.text.x = element_text(size = 20),\n",
    "          axis.text.y = element_text(size = 20)，\n",
    "          # space between facet plot\n",
    "           panel.spacing = unit(2, \"lines\"))\n",
    "    # plot time series\n",
    "    clean_trajectory_melt = melt(df, id.vars = c(\"time\",\"month\",\"day\") ,\n",
    "                                 measure.vars = c(\"dist_meters\",\"cumdist_km\",\"interval_seconds\",\n",
    "                                                  \"cumtime_hrs\",\"speed_kph\",\"accel_mps2\"))\n",
    "    # Name new labels for facet plot\n",
    "    levels(clean_trajectory_melt$variable) = c(\"Distance (meters)\",\"Cumulative distance (km)\",\n",
    "                                               \"Time interval (s)\",\"Cumulative time (hrs)\",\"Speed (km/h)\",\n",
    "                                               bquote('x axis'~(ring(A)^2)(paste0(\" Acceleration (m/\",s^2 ,\")\")))\n",
    "#                                                \"Acceleration (m/s^2)\")\n",
    "    # generate the facet plot\n",
    "    p_main = ggplot(clean_trajectory_melt,aes(x = time,y = value)) + \n",
    "    geom_point(colour=\"darkorange\") + \n",
    "    facet_wrap(~variable,ncol = 2 , scales = \"free_y\") +\n",
    "    labs(title = \"(a) Time series \", x = \"Time\") +\n",
    "    theme(strip.text = element_text(size = rel(2)),\n",
    "          axis.title.x = element_blank(),\n",
    "          axis.title.y = element_blank(),\n",
    "          title= element_text(size = 25),\n",
    "          axis.text.x = element_text(size = 20),\n",
    "          axis.text.y = element_text(size = 20)，\n",
    "          panel.spacing = unit(2, \"lines\"))\n",
    "    # trajectory map\n",
    "    # get map\n",
    "    ma <- get_stamenmap(bbox = c(left = min(df$lon), bottom = min(df$lat), \n",
    "                                  right = max(df$lon), top = max(df$lat)), \n",
    "                         zoom = 14)\n",
    "    map_label = pretty(df$time, 5)\n",
    "   # plot trajectory map\n",
    "    p_map = ggmap(ma, darken = c(0.6, \"white\")) +\n",
    "    geom_point(data = df, aes(x = lon, y = lat, color = as.numeric(time), alpha = 0.7), size = 4, shape = 16) +\n",
    "    geom_text(data = df, aes(label = ifelse(speed_kph > 160,round(speed_kph,0),'')),hjust=0,vjust=0,size = 4) +\n",
    "    scale_color_gradient(low=\"red\", breaks = as.integer(map_label), labels = format(map_label, \"%H:%M\") ) + \n",
    "    labs(title = \"(c) Map\", x = \"Lon\", y = \"Lat\" ，color = \"Time\") +\n",
    "    theme(axis.title.x = element_text(size = 25),\n",
    "          axis.title.y = element_text(size = 25),\n",
    "          title= element_text(size = 25),\n",
    "          axis.text.x = element_text(size = 20,angle = 90),\n",
    "          axis.text.y = element_text(size = 20),\n",
    "          legend.text = element_text(size = 20),\n",
    "         plot.caption = element_text(hjust = 0,margin = unit(c(-15,0,0,0), \"mm\"))) +\n",
    "    guides(alpha=FALSE, size=FALSE)\n",
    "   p1 = ggarrange(p_hist, p_map, nrow = 2, ncol = 1,heights = c(15,10),widths = c(20,50)) \n",
    "    # plot for ggarrange\n",
    "    tgrob <- text_grob(p_title,size = 30)\n",
    "    plot_0 <- as_ggplot(tgrob) + theme(plot.margin = margin(0,3,0,0, \"cm\"))\n",
    "    options(repr.plot.width = 20, repr.plot.height = 10)\n",
    "    p_plot = ggarrange(p_main, p1, nrow = 1, ncol = 2, widths = c(20,20)) \n",
    "    p = ggarrange(plot_0,p_plot,nrow = 2, ncol = 1,heights = c(15,220)) %>% \n",
    "     ggexport(filename = \"../../figures/case_green_example.png\",width = 1500, height = 900)\n",
    "    # 1500 700\n",
    "    return(p)\n",
    "}"
   ]
  },
  {
   "cell_type": "code",
   "execution_count": 10,
   "metadata": {},
   "outputs": [],
   "source": [
    "# compute time interval\n",
    "compute_time_interval <- function(d) {\n",
    "    d$interval_seconds = NA\n",
    "    n <- nrow(d)\n",
    "    if (n >= 2) {\n",
    "        # Compute time interval\n",
    "        d$interval_seconds[2:n] = as.numeric(difftime(d$trxtime[2:n], d$trxtime[1:n-1], units = \"secs\"))\n",
    "        }\n",
    "    return(d)\n",
    "}\n",
    "# compute vehicle distance\n",
    "compute_distance <- function(d) {\n",
    "    d$dist_meters = NA\n",
    "     n <- nrow(d)\n",
    "    if (n >= 2) {\n",
    "        # Compute interval distance using Haversine function\n",
    "        d$dist_meters[2:n] = distHaversine(cbind(d$lon[1:n-1],d$lat[1:n-1]),cbind(d$lon[2:n],d$lat[2:n]))\n",
    "        }\n",
    "    return(d)\n",
    "}\n",
    "# compute speed and acceleration\n",
    "compute_speed_acceleration <- function(d) {\n",
    "    d$speed_mps = NA\n",
    "    d$speed_kph = NA\n",
    "    d$accel_mps2 = NA\n",
    "    n <- nrow(d)\n",
    "    if (n >= 2) {\n",
    "        d$speed_mps[2:n] = d$dist_meters[2:n] / d$interval_seconds[2:n]\n",
    "        # Convert speed to kph\n",
    "        d$speed_kph[2:n] = d$speed_mps[2:n] * 3.6\n",
    "        d$accel_mps2[2:n] = (d$speed_mps[2:n] - d$speed_mps[1:n-1])/d$interval_seconds[2:n]\n",
    "        }\n",
    "    return(d)\n",
    "}  \n",
    "# Calculate the cumulative dist and time\n",
    "compute_cumulative_time_distance = function(d){\n",
    "    df = d\n",
    "    # no rm.na argument in cumsum function,so we make distance and time with NA as 0\n",
    "    df[is.na(df)] <- 0\n",
    "    # Calculate the cumulative dist and time\n",
    "    df = df %>%\n",
    "    mutate(cumdist = cumsum(dist_meters)) %>%\n",
    "    mutate(cumtime = cumsum(interval_seconds))\n",
    "    d$cumdist_km = df$cumdist/1000\n",
    "    d$cumtime_hrs = df$cumtime/3600\n",
    "    return(d)\n",
    "}"
   ]
  },
  {
   "cell_type": "code",
   "execution_count": 12,
   "metadata": {},
   "outputs": [],
   "source": [
    "# Green line: Add title for each trajectory plot\n",
    "title = function (clean_trajectory){\n",
    "    linetype = paste(\"Line:\",\"Green\")      \n",
    "    trainid = paste(\"Trainid:\",unique(clean_trajectory$trainid))\n",
    "    vehicleid = paste(\"Vehicleid:\",unique(clean_trajectory$vehicleid))\n",
    "    # routeid = paste(\"Routeid:\",unique(clean_trajectory$routeid))\n",
    "    car1id = paste(\"Car1id:\",unique(clean_trajectory$car1))\n",
    "    car2id = paste(\"Car2id:\",unique(clean_trajectory$car2))\n",
    "    car3id = paste(\"Car3id:\",unique(clean_trajectory$car3))\n",
    "    month = unique(clean_trajectory$month)\n",
    "    day = unique(clean_trajectory$day)\n",
    "    date = paste(\"Date:\",paste(month , day , sep = \"-\" ))\n",
    "    df_title = paste(linetype,trainid,vehicleid,\n",
    "                     # routeid,\n",
    "                     car1id,car2id,car3id,date,sep = \"|\")\n",
    "    print(df_title)\n",
    "    return(df_title)\n",
    "}"
   ]
  },
  {
   "cell_type": "code",
   "execution_count": 19,
   "metadata": {},
   "outputs": [],
   "source": [
    "# Heavy rail: Add title for each trajectory plot\n",
    "title = function (clean_trajectory){\n",
    "    if (unique(clean_trajectory$lineid) == 1){\n",
    "    linetype = paste(\"Line:\",\"Red\")\n",
    "    }\n",
    "    else if(unique(clean_trajectory$lineid) == 2){\n",
    "     linetype = paste(\"Line:\",\"Blue\")   \n",
    "    }\n",
    "     else if(unique(clean_trajectory$lineid) == 3){\n",
    "     linetype = paste(\"Line:\",\"Orange\")   \n",
    "    }   \n",
    "    trainid = paste(\"Trainid:\",unique(clean_trajectory$trainid))\n",
    "    vehicleid = paste(\"Vehicleid:\",unique(clean_trajectory$vehicleid))\n",
    "    branchid = paste(\"Branchid:\",unique(clean_trajectory$heavyrailbranchid))\n",
    "    tripid = paste(\"Tripid:\",unique(clean_trajectory$tripid))\n",
    "    month = unique(clean_trajectory$month)\n",
    "    day = unique(clean_trajectory$day)\n",
    "    date = paste(\"Date:\",paste(month , day , sep = \"-\" ))\n",
    "    df_title = paste(linetype,trainid,vehicleid,branchid,tripid,date,sep = \"|\")\n",
    "    print(df_title)\n",
    "    return(df_title)\n",
    "}"
   ]
  },
  {
   "cell_type": "code",
   "execution_count": 235,
   "metadata": {},
   "outputs": [],
   "source": [
    "comparison_table[,2:11] = round(comparison_table[,2:11],2)"
   ]
  },
  {
   "cell_type": "code",
   "execution_count": 48,
   "metadata": {},
   "outputs": [],
   "source": [
    "compare_table = function(case_1_test,case_2_test_5,case_2_test_7,case_2_test_9,case_3_test,case_4_test_5,case_4_test_7,case_4_test_9){\n",
    "comparison_table = data.frame(case = c(\"case 1\",\"case 2_5\",\"case 2_7\",\"case 2_9\",\"case 3\",\"case 4_5\",\"case 4_7\",\"case 4_9\"),\n",
    "                              speed_median = c(median(case_1_test$speed_kph,na.rm = TRUE),\n",
    "                                               median(case_2_test_5$speed_kph,na.rm = TRUE),\n",
    "                                               median(case_2_test_7$speed_kph,na.rm = TRUE),\n",
    "                                               median(case_2_test_9$speed_kph,na.rm = TRUE),\n",
    "                                               median(case_3_test$speed_kph,na.rm = TRUE),\n",
    "                                               median(case_4_test_5$speed_kph,na.rm = TRUE),\n",
    "                                               median(case_4_test_7$speed_kph,na.rm = TRUE),\n",
    "                                               median(case_4_test_9$speed_kph,na.rm = TRUE)) ,\n",
    "                              speed_max = c(max(case_1_test$speed_kph,na.rm = TRUE),\n",
    "                                               max(case_2_test_5$speed_kph,na.rm = TRUE),\n",
    "                                               max(case_2_test_7$speed_kph,na.rm = TRUE),\n",
    "                                               max(case_2_test_9$speed_kph,na.rm = TRUE),\n",
    "                                               max(case_3_test$speed_kph,na.rm = TRUE),\n",
    "                                               max(case_4_test_5$speed_kph,na.rm = TRUE),\n",
    "                                               max(case_4_test_7$speed_kph,na.rm = TRUE),\n",
    "                                               max(case_4_test_9$speed_kph,na.rm = TRUE)) ,\n",
    "                              speed_min = c(min(case_1_test$speed_kph,na.rm = TRUE),\n",
    "                                               min(case_2_test_5$speed_kph,na.rm = TRUE),\n",
    "                                               min(case_2_test_7$speed_kph,na.rm = TRUE),\n",
    "                                               min(case_2_test_9$speed_kph,na.rm = TRUE),\n",
    "                                               min(case_3_test$speed_kph,na.rm = TRUE),\n",
    "                                               min(case_4_test_5$speed_kph,na.rm = TRUE),\n",
    "                                               min(case_4_test_7$speed_kph,na.rm = TRUE),\n",
    "                                               min(case_4_test_9$speed_kph,na.rm = TRUE)) ,\n",
    "                              speed_mean = c(mean(case_1_test$speed_kph,na.rm = TRUE),\n",
    "                                               mean(case_2_test_5$speed_kph,na.rm = TRUE),\n",
    "                                               mean(case_2_test_7$speed_kph,na.rm = TRUE),\n",
    "                                               mean(case_2_test_9$speed_kph,na.rm = TRUE),\n",
    "                                               mean(case_3_test$speed_kph,na.rm = TRUE),\n",
    "                                               mean(case_4_test_5$speed_kph,na.rm = TRUE),\n",
    "                                               mean(case_4_test_7$speed_kph,na.rm = TRUE),\n",
    "                                               mean(case_4_test_9$speed_kph,na.rm = TRUE)) ,\n",
    "                              acceleration_median = c(median(case_1_test$accel_mps2,na.rm = TRUE),\n",
    "                                               median(case_2_test_5$accel_mps2,na.rm = TRUE),\n",
    "                                               median(case_2_test_7$accel_mps2,na.rm = TRUE),\n",
    "                                               median(case_2_test_9$accel_mps2,na.rm = TRUE),\n",
    "                                               median(case_3_test$accel_mps2,na.rm = TRUE),\n",
    "                                               median(case_4_test_5$accel_mps2,na.rm = TRUE),\n",
    "                                               median(case_4_test_7$accel_mps2,na.rm = TRUE),\n",
    "                                               median(case_4_test_9$accel_mps2,na.rm = TRUE)) ,\n",
    "                              acceleration_max = c(max(case_1_test$accel_mps2,na.rm = TRUE),\n",
    "                                               max(case_2_test_5$accel_mps2,na.rm = TRUE),\n",
    "                                               max(case_2_test_7$accel_mps2,na.rm = TRUE),\n",
    "                                               max(case_2_test_9$accel_mps2,na.rm = TRUE),\n",
    "                                               max(case_3_test$accel_mps2,na.rm = TRUE),\n",
    "                                               max(case_4_test_5$accel_mps2,na.rm = TRUE),\n",
    "                                               max(case_4_test_7$accel_mps2,na.rm = TRUE),\n",
    "                                               max(case_4_test_9$accel_mps2,na.rm = TRUE)) ,\n",
    "                              acceleration_min = c(min(case_1_test$accel_mps2,na.rm = TRUE),\n",
    "                                               min(case_2_test_5$accel_mps2,na.rm = TRUE),\n",
    "                                               min(case_2_test_7$accel_mps2,na.rm = TRUE),\n",
    "                                               min(case_2_test_9$accel_mps2,na.rm = TRUE),\n",
    "                                               min(case_3_test$accel_mps2,na.rm = TRUE),\n",
    "                                               min(case_4_test_5$accel_mps2,na.rm = TRUE),\n",
    "                                               min(case_4_test_7$accel_mps2,na.rm = TRUE),\n",
    "                                               min(case_4_test_9$accel_mps2,na.rm = TRUE)) ,\n",
    "                              acceleration_mean = c(mean(case_1_test$accel_mps2,na.rm = TRUE),\n",
    "                                               mean(case_2_test_5$accel_mps2,na.rm = TRUE),\n",
    "                                               mean(case_2_test_7$accel_mps2,na.rm = TRUE),\n",
    "                                               mean(case_2_test_9$accel_mps2,na.rm = TRUE),\n",
    "                                               mean(case_3_test$accel_mps2,na.rm = TRUE),\n",
    "                                               mean(case_4_test_5$accel_mps2,na.rm = TRUE),\n",
    "                                               mean(case_4_test_7$accel_mps2,na.rm = TRUE),\n",
    "                                               mean(case_4_test_9$accel_mps2,na.rm = TRUE)) ,\n",
    "                               total_distance_km = c(sum(case_1_test$dist_meters,na.rm = TRUE)/1000,\n",
    "                                               sum(case_2_test_5$dist_meters,na.rm = TRUE)/1000,\n",
    "                                               sum(case_2_test_7$dist_meters,na.rm = TRUE)/1000, \n",
    "                                               sum(case_2_test_9$dist_meters,na.rm = TRUE)/1000,\n",
    "                                               sum(case_3_test$dist_meters,na.rm = TRUE)/1000,\n",
    "                                               sum(case_4_test_5$dist_meters,na.rm = TRUE)/1000,\n",
    "                                               sum(case_4_test_7$dist_meters,na.rm = TRUE)/1000,\n",
    "                                               sum(case_4_test_9$dist_meters,na.rm = TRUE)/1000) ,\n",
    "                              total_time_hrs = c(sum(case_1_test$interval_seconds,na.rm = TRUE)/3600,\n",
    "                                               sum(case_2_test_5$interval_seconds,na.rm = TRUE)/3600,\n",
    "                                               sum(case_2_test_7$interval_seconds,na.rm = TRUE)/3600,\n",
    "                                            sum(case_2_test_9$interval_seconds,na.rm = TRUE)/3600, \n",
    "                                               sum(case_3_test$interval_seconds,na.rm = TRUE)/3600,\n",
    "                                               sum(case_4_test_5$interval_seconds,na.rm = TRUE)/3600,\n",
    "                                               sum(case_4_test_7$interval_seconds,na.rm = TRUE)/3600,\n",
    "                                               sum(case_4_test_9$interval_seconds,na.rm = TRUE)/3600)\n",
    "                       )\n",
    "    return(comparison_table)\n",
    "}"
   ]
  }
 ],
 "metadata": {
  "kernelspec": {
   "display_name": "R",
   "language": "R",
   "name": "ir"
  },
  "language_info": {
   "codemirror_mode": "r",
   "file_extension": ".r",
   "mimetype": "text/x-r-source",
   "name": "R",
   "pygments_lexer": "r",
   "version": "3.6.2"
  }
 },
 "nbformat": 4,
 "nbformat_minor": 4
}
