{
 "cells": [
  {
   "cell_type": "markdown",
   "metadata": {},
   "source": [
    "# Data preprocessing and model preparation"
   ]
  },
  {
   "cell_type": "code",
   "execution_count": 1,
   "metadata": {
    "collapsed": true,
    "jupyter": {
     "outputs_hidden": true
    }
   },
   "outputs": [
    {
     "name": "stderr",
     "output_type": "stream",
     "text": [
      "Warning message:\n",
      "\"package 'data.table' was built under R version 3.6.3\"\n",
      "\n",
      "Attaching package: 'dplyr'\n",
      "\n",
      "\n",
      "The following objects are masked from 'package:data.table':\n",
      "\n",
      "    between, first, last\n",
      "\n",
      "\n",
      "The following objects are masked from 'package:stats':\n",
      "\n",
      "    filter, lag\n",
      "\n",
      "\n",
      "The following objects are masked from 'package:base':\n",
      "\n",
      "    intersect, setdiff, setequal, union\n",
      "\n",
      "\n",
      "Warning message:\n",
      "\"package 'geosphere' was built under R version 3.6.3\"\n",
      "\n",
      "Attaching package: 'lubridate'\n",
      "\n",
      "\n",
      "The following objects are masked from 'package:data.table':\n",
      "\n",
      "    hour, isoweek, mday, minute, month, quarter, second, wday, week,\n",
      "    yday, year\n",
      "\n",
      "\n",
      "The following object is masked from 'package:base':\n",
      "\n",
      "    date\n",
      "\n",
      "\n"
     ]
    }
   ],
   "source": [
    "library(data.table) #fread\n",
    "library(dplyr)\n",
    "library(geosphere) # Calculate vehicle distance\n",
    "library(lubridate)# Date column extraction"
   ]
  },
  {
   "cell_type": "code",
   "execution_count": 2,
   "metadata": {},
   "outputs": [
    {
     "data": {
      "text/html": [
       "249200"
      ],
      "text/latex": [
       "249200"
      ],
      "text/markdown": [
       "249200"
      ],
      "text/plain": [
       "[1] 249200"
      ]
     },
     "metadata": {},
     "output_type": "display_data"
    }
   ],
   "source": [
    "# adjust the R limit\n",
    "memory.limit(size=249200)"
   ]
  },
  {
   "cell_type": "markdown",
   "metadata": {},
   "source": [
    "### Input location data and data preprocessing"
   ]
  },
  {
   "cell_type": "code",
   "execution_count": null,
   "metadata": {},
   "outputs": [],
   "source": [
    "# Read data from folder\n",
    "# Suggestion: Just do one year at one time. One year's table has 94363502 rows(green)\n",
    "YEARLIST = c('19')\n",
    "MONTHLIST = c(\"01\", \"02\", \"03\", \"04\", \"05\", \"06\", \"07\", \"08\", \"09\", \"10\", \"11\", \"12\") #FOR FULL TABLE\n",
    "DISTANCE_FILEPATH = \"../../data/raw/vehicle-location/\""
   ]
  },
  {
   "cell_type": "code",
   "execution_count": 3,
   "metadata": {},
   "outputs": [],
   "source": [
    "\n",
    "# aggregrate_trajectory_table\n",
    "aggregate_line_trajectories = function(year, month){\n",
    "    assign(\"dg\", fread(paste(DISTANCE_FILEPATH, paste(\"lightrail\", \"trajectories\", month, year, \".csv\", sep = \"-\", collapse = \"\"), sep=\"\")))\n",
    "    assign(\"dh\", fread(paste(DISTANCE_FILEPATH, paste(\"heavyrail\", \"trajectories\", month, year, \".csv\", sep = \"-\", collapse = \"\"), sep=\"\")))\n",
    "\n",
    "    # Combine the original tables to a single one for analysis\n",
    "    dg = subset(dg, select = c(trxtime, trainid, lineid, lat, lon))\n",
    "    dh = subset(dh, select = c(trxtime, trainid, lineid, lat, lon))\n",
    "    df = rbind(dg, dh)\n",
    "    return(df)\n",
    "}"
   ]
  },
  {
   "cell_type": "markdown",
   "metadata": {},
   "source": [
    "### Experimental section"
   ]
  },
  {
   "cell_type": "code",
   "execution_count": 96,
   "metadata": {},
   "outputs": [],
   "source": [
    "# Data preprocessing\n",
    "preprocess_data = function(df){\n",
    "    # Add time column to do analysis by random time scale\n",
    "    df$day = day(df$trxtime)\n",
    "    df$month = month(df$trxtime)\n",
    "    df$year = year(df$trxtime)\n",
    "    # check the na values ratio\n",
    "    df_na = df[(is.na(df$lon)) | (is.na(df$lat)),]\n",
    "    df_na_rate = nrow(df_na)/nrow(df)\n",
    "    print(df_na_rate)\n",
    "    # remove the rows with values of lat and lon are 0\n",
    "    df = df[!(is.na(df$lon)) | !(is.na(df$lat)),] \n",
    "    df = df[order(df$trainid, df$trxtime),]\n",
    "    df = distinct(df, trxtime, trainid, .keep_all = TRUE) # Remove the duplicated time record\n",
    "    return(df)\n",
    "}"
   ]
  },
  {
   "cell_type": "code",
   "execution_count": null,
   "metadata": {},
   "outputs": [],
   "source": [
    "# All speed are mph\n",
    "# Green line\n",
    "## Branch main 8.6\n",
    "## Branch B 7.1\n",
    "## Branch C 7.9\n",
    "## Branch D 18.7\n",
    "## Branch E 7.1\n",
    "# Red line \n",
    "## A 16.7\n",
    "## B 20.1\n",
    "# Orange line 18.3\n",
    "# Blue line 18.6\n",
    "# Ref: https://www.fixmbta.com/green-line-upgrades"
   ]
  },
  {
   "cell_type": "markdown",
   "metadata": {},
   "source": [
    "### Vehicle distance,speed, acceleration calculation"
   ]
  },
  {
   "cell_type": "code",
   "execution_count": 104,
   "metadata": {},
   "outputs": [],
   "source": [
    "# Function to compute distances (D), speeds (S) and acceleration (A) in meters, meters per second, km per hour and m s^-2\n",
    "compute_trajectories <- function(d) {\n",
    "    d$dist_meters = NA\n",
    "    d$interval_seconds = NA\n",
    "    d$speed_mps = NA\n",
    "    d$speed_kph = NA\n",
    "    d$accel_mps2 = NA\n",
    "    n <- nrow(d)\n",
    "    if (n >= 2) {\n",
    "        # Compute interval distance using Haversine function\n",
    "        d$dist_meters[2:n] = distHaversine(cbind(d$lon[1:n-1],d$lat[1:n-1]),cbind(d$lon[2:n],d$lat[2:n]))\n",
    "        # Compute time interval\n",
    "        d$interval_seconds[2:n] = as.numeric(difftime(d$trxtime[2:n], d$trxtime[1:n-1], units = \"secs\"))\n",
    "        # Compute speed in meters per second\n",
    "        d$speed_mps[2:n] = d$dist_meters[2:n] / d$interval_seconds[2:n]\n",
    "        # Convert speed to kph\n",
    "        d$speed_kph[2:n] = d$speed_mps[2:n]*3.6\n",
    "        # Compute accelerations\n",
    "        d$accel_mps2[2:n] = (d$speed_mps[2:n] - d$speed_mps[1:n-1])/d$interval_seconds[2:n]\n",
    "        # Correct spurious values \n",
    "        \n",
    "        diagnostics = {}\n",
    "        index_excessive_speeds = as.numeric(row.names(d[d$speed_kph > 128 & !is.na(d$speed_kph), ]))\n",
    "        diagnostics$mean_excess_speed = mean(d[index_excessive_speeds, \"speed_kph\"]) \n",
    "        diagnostics$min_excess_speed = min(d[index_excessive_speeds, \"speed_kph\"]) \n",
    "        diagnostics$max_excess_speed = max(d[index_excessive_speeds, \"speed_kph\"]) \n",
    "        diagnostics$num_excess_speed = length(d[index_excessive_speeds, \"speed_kph\"]) \n",
    "        diagnostics$prop_excess_speed = round(100*num_excess_speed/n, 2)\n",
    "        \n",
    "        # you should add other metrics for original and corrected \n",
    "        print(diagnostics)\n",
    "        d[index_excessive_speeds, c(\"speed_mps\", \"speed_kph\")] = d[index_excessive_speeds - 1, c(\"speed_mps\", \"speed_kph\")]\n",
    "        d[index_excessive_speeds, \"dist_meters\"] = d[index_excessive_speeds, \"speed_mps\"] * d[index_excessive_speeds,\"interval_seconds\"]\n",
    "        d[index_excessive_speeds, \"accel_mps2\"] = (d[index_excessive_speeds, \"speed_mps\"] \n",
    "                                                   - d[index_excessive_speeds - 1, \"speed_mps\"]) / d[index_excessive_speeds,\"interval_seconds\"]\n",
    "     }\n",
    "    return(list(d, diagnostics))\n",
    "}\n",
    "\n",
    "# summary_computation = data.frame(outlier_rate = nrow(d_outlier)/nrow(d),outlier_mean = mean(d_outlier$speed_kph),outlier_max = max(d_outlier$speed_kph),outlier_min = min(d_outlier$speed_kph),max_correct = max(d$speed_kph),\n",
    "#                          min_correct = min(d$speed_kph),mean_correct = (d$speed_kph))"
   ]
  },
  {
   "cell_type": "code",
   "execution_count": 105,
   "metadata": {},
   "outputs": [],
   "source": [
    "# Process calculation for four lines\n",
    "process_month_trajectory = function(data, yy, mm){\n",
    "    results_df = data.frame() # empty dataframe\n",
    "    diagnostics_df = data.frame()\n",
    "    for(i in unique(data$day)) { \n",
    "        #if (i <= 31) { # define when the loop will end\n",
    "        data_day <- data[data$day == i, ]\n",
    "        for (j in unique(data_day$trainid)) {# Put each train in one loop in a subset\n",
    "            data_day_train = data_day[data_day$trainid == j, ]        \n",
    "            trajectory_and_diagnostics <- compute_trajectories(data_day_train) # Process data with only one row separately   \n",
    "            trajectories = trajectory_and_diagnostics[1]\n",
    "            diagnostics = trajectory_and_diagnostics[2]            \n",
    "            results_df <- rbind(results_df, trajectories) \n",
    "            diagnostics_df <- rbind(diagnostics_df, diagnostics) \n",
    "            #}\n",
    "        }\n",
    "    }\n",
    "    write.csv(x=results_df, file.path(\"../../data/tidy/\", paste(\"trajectories\", yy, mm,\".csv\",sep = \"-\",collapse = \"\")))\n",
    "    write.csv(x=diagnostics_df, file.path(\"../../data/tidy/\", paste(\"trajectory-diagnostics\",yy,mm,\".csv\",sep = \"-\",collapse = \"\")))\n",
    "    return\n",
    "}"
   ]
  },
  {
   "cell_type": "code",
   "execution_count": null,
   "metadata": {},
   "outputs": [],
   "source": [
    "main = function() {\n",
    "    for (y in YEARLIST) {\n",
    "        for (m in MONTHLIST) {\n",
    "            df_agg = aggregate_line_trajectories(y, m)\n",
    "            df_agg = preprocess(df_agg)\n",
    "            process_month_trajectory(df_agg, y, m)            \n",
    "        }\n",
    "    }\n",
    "}\n"
   ]
  },
  {
   "cell_type": "markdown",
   "metadata": {},
   "source": [
    "### Experimental section"
   ]
  },
  {
   "cell_type": "code",
   "execution_count": null,
   "metadata": {},
   "outputs": [],
   "source": [
    "#  # Count the row numbers which lat and lon are NA\n",
    "#      df_na = df[(is.na(data$lon)) | (is.na(data$lat)),]\n",
    "#      number_na = nrow(df_na)"
   ]
  },
  {
   "cell_type": "code",
   "execution_count": null,
   "metadata": {},
   "outputs": [],
   "source": [
    "# # Process value correction\n",
    "#         for(k in 2:n) { \n",
    "#                 # revise the incorrect values \n",
    "#                 if (!(is.na(d$speed_kph[k]))) {\n",
    "#                     if (d$speed_kph[k] > 128 ){\n",
    "#                        # the reference link is here:\n",
    "#                        # https://www.masslive.com/worcester/2019/09/electrified-faster-and-more-trains-7-ways-the-mbtas-commuter-rail-service-could-be-a-lot-better.html\n",
    "#                          if(k==3){d$speed_kph[k] = d$speed_kph[k+1]}\n",
    "#                          else{\n",
    "#                         d$speed_kph[k] = (d$speed_kph[k-1] + d$speed_kph[k+1] )/2\n",
    "#                         d$speed_mps[k] = d$speed_kph[k] / 3.6\n",
    "#                         d$accel_mps2[k] = (d$speed_mps[k]-d$speed_mps[k-1]) / d$interval_seconds[k]\n",
    "#                         d$dist_meters[k] = d$speed_mps[k] * d$interval_seconds[k]}\n",
    "#                         else if (k == nrows(d)){d$speed_kph[k] = d$speed_kph[k-1]}\n",
    "#                     }\n",
    "#                 }\n",
    "#     }        "
   ]
  }
 ],
 "metadata": {
  "kernelspec": {
   "display_name": "R",
   "language": "R",
   "name": "ir"
  },
  "language_info": {
   "codemirror_mode": "r",
   "file_extension": ".r",
   "mimetype": "text/x-r-source",
   "name": "R",
   "pygments_lexer": "r",
   "version": "4.0.3"
  }
 },
 "nbformat": 4,
 "nbformat_minor": 4
}
