{
 "cells": [
  {
   "cell_type": "markdown",
   "metadata": {},
   "source": [
    "# Data preprocessing and model preparation"
   ]
  },
  {
   "cell_type": "code",
   "execution_count": 1,
   "metadata": {
    "collapsed": true,
    "jupyter": {
     "outputs_hidden": true
    }
   },
   "outputs": [
    {
     "name": "stderr",
     "output_type": "stream",
     "text": [
      "Warning message:\n",
      "\"package 'data.table' was built under R version 3.6.3\"\n",
      "\n",
      "Attaching package: 'dplyr'\n",
      "\n",
      "\n",
      "The following objects are masked from 'package:data.table':\n",
      "\n",
      "    between, first, last\n",
      "\n",
      "\n",
      "The following objects are masked from 'package:stats':\n",
      "\n",
      "    filter, lag\n",
      "\n",
      "\n",
      "The following objects are masked from 'package:base':\n",
      "\n",
      "    intersect, setdiff, setequal, union\n",
      "\n",
      "\n",
      "Warning message:\n",
      "\"package 'geosphere' was built under R version 3.6.3\"\n",
      "\n",
      "Attaching package: 'lubridate'\n",
      "\n",
      "\n",
      "The following objects are masked from 'package:data.table':\n",
      "\n",
      "    hour, isoweek, mday, minute, month, quarter, second, wday, week,\n",
      "    yday, year\n",
      "\n",
      "\n",
      "The following object is masked from 'package:base':\n",
      "\n",
      "    date\n",
      "\n",
      "\n"
     ]
    }
   ],
   "source": [
    "library(data.table) #fread\n",
    "library(dplyr)\n",
    "library(geosphere) # Calculate vehicle distance\n",
    "library(lubridate)# Date column extraction"
   ]
  },
  {
   "cell_type": "code",
   "execution_count": 2,
   "metadata": {},
   "outputs": [
    {
     "data": {
      "text/html": [
       "249200"
      ],
      "text/latex": [
       "249200"
      ],
      "text/markdown": [
       "249200"
      ],
      "text/plain": [
       "[1] 249200"
      ]
     },
     "metadata": {},
     "output_type": "display_data"
    }
   ],
   "source": [
    "# adjust the R limit\n",
    "memory.limit(size=249200)"
   ]
  },
  {
   "cell_type": "markdown",
   "metadata": {},
   "source": [
    "### Input location data and data preprocessing"
   ]
  },
  {
   "cell_type": "code",
   "execution_count": 4,
   "metadata": {},
   "outputs": [],
   "source": [
    "# Read data from folder\n",
    "# Suggestion: Just do one year at one time. One year's table has 94363502 rows(green)\n",
    "YEAR = c('19')\n",
    "MONTH= c(\"01\") #FOR FULL TABLE\n",
    "DISTANCE_FILEPATH = \"../../data/raw/vehicle-location/\""
   ]
  },
  {
   "cell_type": "code",
   "execution_count": 3,
   "metadata": {},
   "outputs": [],
   "source": [
    "# aggregrate_trajectory_table\n",
    "aggregate_line_trajectories = function(year, month){\n",
    "    assign(\"dg\", fread(paste(DISTANCE_FILEPATH, paste(\"lightrail\", \"trajectories\", month, year, \".csv\", sep = \"-\", collapse = \"\"), sep=\"\")))\n",
    "    assign(\"dh\", fread(paste(DISTANCE_FILEPATH, paste(\"heavyrail\", \"trajectories\", month, year, \".csv\", sep = \"-\", collapse = \"\"), sep=\"\")))\n",
    "    # Combine the original tables to a single one for analysis\n",
    "    dg = subset(dg, select = c(trxtime, trainid, lineid, lat, lon))\n",
    "    dh = subset(dh, select = c(trxtime, trainid, lineid, lat, lon))\n",
    "    df = rbind(dg, dh)\n",
    "    return(df)\n",
    "}"
   ]
  },
  {
   "cell_type": "code",
   "execution_count": 5,
   "metadata": {},
   "outputs": [],
   "source": [
    "trajectroy_table = aggregate_line_trajectories(YEAR,MONTH)"
   ]
  },
  {
   "cell_type": "code",
   "execution_count": 6,
   "metadata": {
    "collapsed": true,
    "jupyter": {
     "outputs_hidden": true
    }
   },
   "outputs": [
    {
     "data": {
      "text/html": [
       "<style>\n",
       ".list-inline {list-style: none; margin:0; padding: 0}\n",
       ".list-inline>li {display: inline-block}\n",
       ".list-inline>li:not(:last-child)::after {content: \"\\00b7\"; padding: 0 .5ex}\n",
       "</style>\n",
       "<ol class=list-inline><li>9116148</li><li>5</li></ol>\n"
      ],
      "text/latex": [
       "\\begin{enumerate*}\n",
       "\\item 9116148\n",
       "\\item 5\n",
       "\\end{enumerate*}\n"
      ],
      "text/markdown": [
       "1. 9116148\n",
       "2. 5\n",
       "\n",
       "\n"
      ],
      "text/plain": [
       "[1] 9116148       5"
      ]
     },
     "metadata": {},
     "output_type": "display_data"
    }
   ],
   "source": [
    "dim(trajectroy_table)"
   ]
  },
  {
   "cell_type": "markdown",
   "metadata": {},
   "source": [
    "### Experimental section"
   ]
  },
  {
   "cell_type": "code",
   "execution_count": 7,
   "metadata": {},
   "outputs": [],
   "source": [
    "# Data preprocessing\n",
    "preprocess_data = function(df){\n",
    "    # Add time column to do analysis by random time scale\n",
    "    df$day = day(df$trxtime)\n",
    "    df$month = month(df$trxtime)\n",
    "    df$year = year(df$trxtime)\n",
    "    # check the na values ratio\n",
    "    df_na = df[(is.na(df$lon)) | (is.na(df$lat)),]\n",
    "    df_na_rate = nrow(df_na)/nrow(df)\n",
    "    print(df_na_rate)\n",
    "    # remove the rows with values of lat and lon are 0\n",
    "    df = df[!(is.na(df$lon)) | !(is.na(df$lat)),] \n",
    "    df = df[order(df$trainid, df$trxtime),]\n",
    "    df = distinct(df, trxtime, trainid, .keep_all = TRUE) # Remove the duplicated time record\n",
    "    return(df)\n",
    "}"
   ]
  },
  {
   "cell_type": "code",
   "execution_count": 9,
   "metadata": {},
   "outputs": [
    {
     "name": "stdout",
     "output_type": "stream",
     "text": [
      "[1] 0\n"
     ]
    }
   ],
   "source": [
    "trajectroy_table = preprocess_data(trajectroy_table)"
   ]
  },
  {
   "cell_type": "code",
   "execution_count": 10,
   "metadata": {},
   "outputs": [
    {
     "data": {
      "text/html": [
       "<style>\n",
       ".list-inline {list-style: none; margin:0; padding: 0}\n",
       ".list-inline>li {display: inline-block}\n",
       ".list-inline>li:not(:last-child)::after {content: \"\\00b7\"; padding: 0 .5ex}\n",
       "</style>\n",
       "<ol class=list-inline><li>6617969</li><li>8</li></ol>\n"
      ],
      "text/latex": [
       "\\begin{enumerate*}\n",
       "\\item 6617969\n",
       "\\item 8\n",
       "\\end{enumerate*}\n"
      ],
      "text/markdown": [
       "1. 6617969\n",
       "2. 8\n",
       "\n",
       "\n"
      ],
      "text/plain": [
       "[1] 6617969       8"
      ]
     },
     "metadata": {},
     "output_type": "display_data"
    }
   ],
   "source": [
    "dim(trajectroy_table)"
   ]
  },
  {
   "cell_type": "code",
   "execution_count": 13,
   "metadata": {},
   "outputs": [],
   "source": [
    "d_test = trajectroy_table[1:2000,]"
   ]
  },
  {
   "cell_type": "code",
   "execution_count": 14,
   "metadata": {},
   "outputs": [
    {
     "data": {
      "text/html": [
       "<style>\n",
       ".list-inline {list-style: none; margin:0; padding: 0}\n",
       ".list-inline>li {display: inline-block}\n",
       ".list-inline>li:not(:last-child)::after {content: \"\\00b7\"; padding: 0 .5ex}\n",
       "</style>\n",
       "<ol class=list-inline><li>2000</li><li>8</li></ol>\n"
      ],
      "text/latex": [
       "\\begin{enumerate*}\n",
       "\\item 2000\n",
       "\\item 8\n",
       "\\end{enumerate*}\n"
      ],
      "text/markdown": [
       "1. 2000\n",
       "2. 8\n",
       "\n",
       "\n"
      ],
      "text/plain": [
       "[1] 2000    8"
      ]
     },
     "metadata": {},
     "output_type": "display_data"
    }
   ],
   "source": [
    "dim(d_test)"
   ]
  },
  {
   "cell_type": "code",
   "execution_count": null,
   "metadata": {
    "jupyter": {
     "source_hidden": true
    }
   },
   "outputs": [],
   "source": [
    "# All speed are mph\n",
    "# Green line\n",
    "## Branch main 8.6\n",
    "## Branch B 7.1\n",
    "## Branch C 7.9\n",
    "## Branch D 18.7\n",
    "## Branch E 7.1\n",
    "# Red line \n",
    "## A 16.7\n",
    "## B 20.1\n",
    "# Orange line 18.3\n",
    "# Blue line 18.6\n",
    "# Ref: https://www.fixmbta.com/green-line-upgrades"
   ]
  },
  {
   "cell_type": "markdown",
   "metadata": {},
   "source": [
    "### Vehicle distance,speed, acceleration calculation"
   ]
  },
  {
   "cell_type": "code",
   "execution_count": 20,
   "metadata": {},
   "outputs": [],
   "source": [
    "# Function to compute distances (D), speeds (S) and acceleration (A) in meters, meters per second, km per hour and m s^-2\n",
    "compute_trajectories <- function(d) {\n",
    "    d$dist_meters = NA\n",
    "    d$interval_seconds = NA\n",
    "    d$speed_mps = NA\n",
    "    d$speed_kph = NA\n",
    "    d$accel_mps2 = NA\n",
    "    n <- nrow(d)\n",
    "    if (n >= 2) {\n",
    "        # Compute interval distance using Haversine function\n",
    "        d$dist_meters[2:n] = distHaversine(cbind(d$lon[1:n-1],d$lat[1:n-1]),cbind(d$lon[2:n],d$lat[2:n]))\n",
    "        # Compute time interval\n",
    "        d$interval_seconds[2:n] = as.numeric(difftime(d$trxtime[2:n], d$trxtime[1:n-1], units = \"secs\"))\n",
    "        # Compute speed in meters per second\n",
    "        d$speed_mps[2:n] = d$dist_meters[2:n] / d$interval_seconds[2:n]\n",
    "        # Convert speed to kph\n",
    "        d$speed_kph[2:n] = d$speed_mps[2:n]*3.6\n",
    "        # Compute accelerations\n",
    "        d$accel_mps2[2:n] = (d$speed_mps[2:n] - d$speed_mps[1:n-1])/d$interval_seconds[2:n]\n",
    "        # Spurious values statistics\n",
    "        diagnostics = {}\n",
    "        index_excessive_speeds = as.numeric(row.names(d[d$speed_kph > 128 & !is.na(d$speed_kph), ]))\n",
    "        diagnostics$mean_excess_speed = mean(d[index_excessive_speeds, \"speed_kph\"]) \n",
    "        diagnostics$min_excess_speed = min(d[index_excessive_speeds, \"speed_kph\"]) \n",
    "        diagnostics$max_excess_speed = max(d[index_excessive_speeds, \"speed_kph\"]) \n",
    "        diagnostics$num_excess_speed = length(d[index_excessive_speeds, \"speed_kph\"]) \n",
    "        diagnostics$prop_excess_speed = round(100*diagnostics$num_excess_speed/n, 2)\n",
    "        # you should add other metrics for original and corrected \n",
    "        print(diagnostics)\n",
    "        # correct the wrong values\n",
    "        d[index_excessive_speeds, c(\"speed_mps\", \"speed_kph\")] = d[index_excessive_speeds - 1, c(\"speed_mps\", \"speed_kph\")]\n",
    "        d[index_excessive_speeds, \"dist_meters\"] = d[index_excessive_speeds, \"speed_mps\"] * d[index_excessive_speeds,\"interval_seconds\"]\n",
    "        d[index_excessive_speeds, \"accel_mps2\"] = (d[index_excessive_speeds, \"speed_mps\"] \n",
    "                                                   - d[index_excessive_speeds - 1, \"speed_mps\"]) / d[index_excessive_speeds,\"interval_seconds\"]\n",
    "     }\n",
    "    return(list(d, diagnostics))\n",
    "}\n",
    "# summary_computation = data.frame(outlier_rate = nrow(d_outlier)/nrow(d),outlier_mean = mean(d_outlier$speed_kph),outlier_max = max(d_outlier$speed_kph),outlier_min = min(d_outlier$speed_kph),max_correct = max(d$speed_kph),\n",
    "#                          min_correct = min(d$speed_kph),mean_correct = (d$speed_kph))"
   ]
  },
  {
   "cell_type": "code",
   "execution_count": 21,
   "metadata": {},
   "outputs": [],
   "source": [
    "# Process calculation for four lines\n",
    "process_month_trajectory = function(data){\n",
    "    results_df = data.frame() # empty dataframe\n",
    "    diagnostics_df = data.frame()\n",
    "    for(i in unique(data$day)) { \n",
    "        #if (i <= 31) { # define when the loop will end\n",
    "        data_day <- data[data$day == i, ]\n",
    "        for (j in unique(data_day$trainid)) {# Put each train in one loop in a subset\n",
    "            data_day_train = data_day[data_day$trainid == j, ]        \n",
    "            trajectory_and_diagnostics <- compute_trajectories(data_day_train) # Process data with only one row separately   \n",
    "            trajectories = trajectory_and_diagnostics[1]\n",
    "            diagnostics = trajectory_and_diagnostics[2]            \n",
    "            results_df <- rbind(results_df, trajectories) \n",
    "            diagnostics_df <- rbind(diagnostics_df, diagnostics) \n",
    "            #}\n",
    "        }\n",
    "    }\n",
    "   # write.csv(x=results_df, file.path(\"../../data/tidy/\", paste(\"trajectories\", yy, mm,\".csv\",sep = \"-\",collapse = \"\")))\n",
    "   # write.csv(x=diagnostics_df, file.path(\"../../data/tidy/\", paste(\"trajectory-diagnostics\",yy,mm,\".csv\",sep = \"-\",collapse = \"\")))\n",
    "    return(list(results_df,diagnostics_df))\n",
    " }"
   ]
  },
  {
   "cell_type": "code",
   "execution_count": 22,
   "metadata": {},
   "outputs": [
    {
     "name": "stderr",
     "output_type": "stream",
     "text": [
      "Warning message in mean.default(d[index_excessive_speeds, \"speed_kph\"]):\n",
      "\"argument is not numeric or logical: returning NA\"\n"
     ]
    },
    {
     "name": "stdout",
     "output_type": "stream",
     "text": [
      "$mean_excess_speed\n",
      "[1] NA\n",
      "\n",
      "$min_excess_speed\n",
      "[1] NA\n",
      "\n",
      "$max_excess_speed\n",
      "[1] NA\n",
      "\n",
      "$num_excess_speed\n",
      "[1] 1\n",
      "\n",
      "$prop_excess_speed\n",
      "[1] 0.07\n",
      "\n"
     ]
    },
    {
     "ename": "ERROR",
     "evalue": "Error in `[<-.data.table`(`*tmp*`, index_excessive_speeds, c(\"speed_mps\", : Supplied 29 items to be assigned to 30 items of column 'speed_mps'. If you wish to 'recycle' the RHS please use rep() to make this intent clear to readers of your code.\n",
     "output_type": "error",
     "traceback": [
      "Error in `[<-.data.table`(`*tmp*`, index_excessive_speeds, c(\"speed_mps\", : Supplied 29 items to be assigned to 30 items of column 'speed_mps'. If you wish to 'recycle' the RHS please use rep() to make this intent clear to readers of your code.\nTraceback:\n",
      "1. process_month_trajectory(d_test)",
      "2. compute_trajectories(data_day_train)   # at line 10 of file <text>",
      "3. `[<-`(`*tmp*`, index_excessive_speeds, c(\"speed_mps\", \"speed_kph\"), \n .     value = structure(list(speed_mps = c(NA, 0.0409550786827452, \n .     0.255677117535455, 0.00992021925253962, 2.38468186202662, \n .     0.0156783920410878, 0.0283418225638684, 2.22398448926887, \n .     1.26718125577088, 0.481703215575811, 2.67692455778828, 5.35783332853636, \n .     10.4512069247237, 10.3280721249905, 9.93762195064083, 20.466560905419, \n .     10.1967721217567, 20.7043430625762, 20.3907577083368, 9.71490440637379, \n .     12.0008324186299, 2.45505576345992, 10.9199437000681, 19.7585126955979, \n .     10.7172578989319, 19.9800773631844, 21.0905479987082, 8.83507772154594, \n .     24.0584727899522), speed_kph = c(NA, 0.147438283257883, 0.920437623127636, \n .     0.0357127893091426, 8.58485470329582, 0.0564422113479162, \n .     0.102030561229926, 8.00634416136792, 4.56185252077517, 1.73413157607292, \n .     9.6369284080378, 19.2881999827309, 37.6243449290053, 37.1810596499657, \n .     35.775439022307, 73.6796192595084, 36.7083796383242, 74.5356350252745, \n .     73.4067277500127, 34.9736558629456, 43.2029967070677, 8.83820074845573, \n .     39.311797320245, 71.1306457041523, 38.5821284361549, 71.9282785074637, \n .     75.9259727953494, 31.8062797975654, 86.6105020438279)), class = c(\"data.table\", \n .     \"data.frame\"), row.names = c(NA, -29L), .internal.selfref = <pointer: 0x0000000004551ef0>))   # at line 31 of file <text>",
      "4. `[<-.data.table`(`*tmp*`, index_excessive_speeds, c(\"speed_mps\", \n .     \"speed_kph\"), value = structure(list(speed_mps = c(NA, 0.0409550786827452, \n . 0.255677117535455, 0.00992021925253962, 2.38468186202662, 0.0156783920410878, \n . 0.0283418225638684, 2.22398448926887, 1.26718125577088, 0.481703215575811, \n . 2.67692455778828, 5.35783332853636, 10.4512069247237, 10.3280721249905, \n . 9.93762195064083, 20.466560905419, 10.1967721217567, 20.7043430625762, \n . 20.3907577083368, 9.71490440637379, 12.0008324186299, 2.45505576345992, \n . 10.9199437000681, 19.7585126955979, 10.7172578989319, 19.9800773631844, \n . 21.0905479987082, 8.83507772154594, 24.0584727899522), speed_kph = c(NA, \n . 0.147438283257883, 0.920437623127636, 0.0357127893091426, 8.58485470329582, \n . 0.0564422113479162, 0.102030561229926, 8.00634416136792, 4.56185252077517, \n . 1.73413157607292, 9.6369284080378, 19.2881999827309, 37.6243449290053, \n . 37.1810596499657, 35.775439022307, 73.6796192595084, 36.7083796383242, \n . 74.5356350252745, 73.4067277500127, 34.9736558629456, 43.2029967070677, \n . 8.83820074845573, 39.311797320245, 71.1306457041523, 38.5821284361549, \n . 71.9282785074637, 75.9259727953494, 31.8062797975654, 86.6105020438279\n . )), class = c(\"data.table\", \"data.frame\"), row.names = c(NA, \n . -29L), .internal.selfref = <pointer: 0x0000000004551ef0>))   # at line 31 of file <text>"
     ]
    }
   ],
   "source": [
    "process_month_trajectory(d_test)"
   ]
  },
  {
   "cell_type": "code",
   "execution_count": null,
   "metadata": {},
   "outputs": [],
   "source": [
    "main = function() {\n",
    "    for (y in YEARLIST) {\n",
    "        for (m in MONTHLIST) {\n",
    "            df_agg = aggregate_line_trajectories(y, m)\n",
    "            df_agg = preprocess(df_agg)\n",
    "            process_month_trajectory(df_agg, y, m)            \n",
    "        }\n",
    "    }\n",
    "}\n"
   ]
  },
  {
   "cell_type": "markdown",
   "metadata": {},
   "source": [
    "### Experimental section"
   ]
  },
  {
   "cell_type": "code",
   "execution_count": null,
   "metadata": {},
   "outputs": [],
   "source": [
    "#  # Count the row numbers which lat and lon are NA\n",
    "#      df_na = df[(is.na(data$lon)) | (is.na(data$lat)),]\n",
    "#      number_na = nrow(df_na)"
   ]
  },
  {
   "cell_type": "code",
   "execution_count": null,
   "metadata": {},
   "outputs": [],
   "source": [
    "# # Process value correction\n",
    "#         for(k in 2:n) { \n",
    "#                 # revise the incorrect values \n",
    "#                 if (!(is.na(d$speed_kph[k]))) {\n",
    "#                     if (d$speed_kph[k] > 128 ){\n",
    "#                        # the reference link is here:\n",
    "#                        # https://www.masslive.com/worcester/2019/09/electrified-faster-and-more-trains-7-ways-the-mbtas-commuter-rail-service-could-be-a-lot-better.html\n",
    "#                          if(k==3){d$speed_kph[k] = d$speed_kph[k+1]}\n",
    "#                          else{\n",
    "#                         d$speed_kph[k] = (d$speed_kph[k-1] + d$speed_kph[k+1] )/2\n",
    "#                         d$speed_mps[k] = d$speed_kph[k] / 3.6\n",
    "#                         d$accel_mps2[k] = (d$speed_mps[k]-d$speed_mps[k-1]) / d$interval_seconds[k]\n",
    "#                         d$dist_meters[k] = d$speed_mps[k] * d$interval_seconds[k]}\n",
    "#                         else if (k == nrows(d)){d$speed_kph[k] = d$speed_kph[k-1]}\n",
    "#                     }\n",
    "#                 }\n",
    "#     }        "
   ]
  }
 ],
 "metadata": {
  "kernelspec": {
   "display_name": "R",
   "language": "R",
   "name": "ir"
  },
  "language_info": {
   "codemirror_mode": "r",
   "file_extension": ".r",
   "mimetype": "text/x-r-source",
   "name": "R",
   "pygments_lexer": "r",
   "version": "3.6.2"
  }
 },
 "nbformat": 4,
 "nbformat_minor": 4
}
