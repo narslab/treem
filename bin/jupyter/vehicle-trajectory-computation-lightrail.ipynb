{
 "cells": [
  {
   "cell_type": "markdown",
   "metadata": {},
   "source": [
    "# Green line trajectory investigation"
   ]
  },
  {
   "cell_type": "code",
   "execution_count": 6,
   "metadata": {
    "collapsed": true,
    "jupyter": {
     "outputs_hidden": true
    }
   },
   "outputs": [
    {
     "name": "stderr",
     "output_type": "stream",
     "text": [
      "Warning message:\n",
      "\"package 'data.table' was built under R version 3.6.3\"\n",
      "Warning message:\n",
      "\"package 'dplyr' was built under R version 3.6.3\"\n",
      "\n",
      "Attaching package: 'dplyr'\n",
      "\n",
      "\n",
      "The following objects are masked from 'package:data.table':\n",
      "\n",
      "    between, first, last\n",
      "\n",
      "\n",
      "The following objects are masked from 'package:stats':\n",
      "\n",
      "    filter, lag\n",
      "\n",
      "\n",
      "The following objects are masked from 'package:base':\n",
      "\n",
      "    intersect, setdiff, setequal, union\n",
      "\n",
      "\n",
      "Warning message:\n",
      "\"package 'geosphere' was built under R version 3.6.3\"\n",
      "\n",
      "Attaching package: 'lubridate'\n",
      "\n",
      "\n",
      "The following objects are masked from 'package:data.table':\n",
      "\n",
      "    hour, isoweek, mday, minute, month, quarter, second, wday, week,\n",
      "    yday, year\n",
      "\n",
      "\n",
      "The following object is masked from 'package:base':\n",
      "\n",
      "    date\n",
      "\n",
      "\n",
      "Warning message:\n",
      "\"package 'robfilter' was built under R version 3.6.3\"\n",
      "Loading required package: robustbase\n",
      "\n",
      "Warning message:\n",
      "\"package 'robustbase' was built under R version 3.6.3\"\n",
      "Loading required package: MASS\n",
      "\n",
      "Warning message:\n",
      "\"package 'MASS' was built under R version 3.6.3\"\n",
      "\n",
      "Attaching package: 'MASS'\n",
      "\n",
      "\n",
      "The following object is masked from 'package:dplyr':\n",
      "\n",
      "    select\n",
      "\n",
      "\n",
      "Loading required package: lattice\n",
      "\n",
      "Warning message:\n",
      "\"package 'ggplot2' was built under R version 3.6.3\"\n",
      "Warning message:\n",
      "\"package 'ggpubr' was built under R version 3.6.3\"\n",
      "Warning message:\n",
      "\"package 'ggmap' was built under R version 3.6.3\"\n",
      "Google's Terms of Service: https://cloud.google.com/maps-platform/terms/.\n",
      "\n",
      "Please cite ggmap if you use it! See citation(\"ggmap\") for details.\n",
      "\n"
     ]
    }
   ],
   "source": [
    "library(data.table) # Fread\n",
    "library(dplyr)\n",
    "library(geosphere) # Calculate vehicle distance\n",
    "library(lubridate)# Date column extraction\n",
    "library(robfilter)# Smooth the data\n",
    "library(ggplot2) # Plot\n",
    "library(ggpubr) # Combine different plots\n",
    "library(ggmap) # plot points on the map\n",
    "library(RColorBrewer) # color panel"
   ]
  },
  {
   "cell_type": "markdown",
   "metadata": {},
   "source": [
    "# Data input"
   ]
  },
  {
   "cell_type": "code",
   "execution_count": 3,
   "metadata": {},
   "outputs": [],
   "source": [
    "# Read data from folder\n",
    "# Suggestion: Just do one year at one time. One year's table has 94363502 rows(green)\n",
    "YEARLIST = c('19')\n",
    "MONTHlIST = c(\"04\") # FOR FULL TABLE\n",
    "DISTANCE_FILEPATH = \"../../data/raw/vehicle-location/\""
   ]
  },
  {
   "cell_type": "code",
   "execution_count": 4,
   "metadata": {},
   "outputs": [],
   "source": [
    "# Add different time scale columns\n",
    "add_dd_mm_yy_cols = function(df) {\n",
    "    df$day = day(df$trxtime)\n",
    "    df$month = month(df$trxtime)\n",
    "    df$year = year(df$trxtime)\n",
    "    return(df)\n",
    "}\n",
    "# Read light rail location raw data\n",
    "get_light_rail_trajectories = function(year, month){\n",
    "    assign(\"dg\", fread(paste(DISTANCE_FILEPATH, paste(\"lightrail\", \"trajectories\", month, year, \".csv\", sep = \"-\", collapse = \"\"), sep=\"\")))\n",
    "    dg = add_dd_mm_yy_cols(dg)\n",
    "    return(dg)\n",
    "}"
   ]
  },
  {
   "cell_type": "code",
   "execution_count": null,
   "metadata": {},
   "outputs": [],
   "source": [
    "# Data preprocessing\n",
    "preprocess_data = function(df){\n",
    "    # check the na values ratio\n",
    "    df_zero = df[df$lon == 0 | df$lat == 0,]\n",
    "    df_zero_rate = nrow(df_zero)/nrow(df)\n",
    "    # print(df_zero_rate)\n",
    "    # remove the rows with values of lat and lon are 0/NA\n",
    "    df = df[!(is.na(df$lon)) | !(is.na(df$lat)),]\n",
    "    df = df[df$lon != 0 | df$lat != 0,]\n",
    "    return(df)\n",
    "}"
   ]
  },
  {
   "cell_type": "markdown",
   "metadata": {},
   "source": [
    "# Subset table by trajectory index "
   ]
  },
  {
   "cell_type": "code",
   "execution_count": 5,
   "metadata": {},
   "outputs": [],
   "source": [
    "# Subset table by a given day\n",
    "get_day_trajectories = function(df, dayid){\n",
    "    day_df = df[day == dayid, .SD, keyby = .(trainid, vehicleid, routeid) ]\n",
    "    # print(paste(\"Number of observations\", nrow(day_df), \"on day\", dayid ))\n",
    "    return(day_df)\n",
    "}\n",
    "# Create trajectory index table \n",
    "get_unique_trajectory_indices = function(day_df) {\n",
    "    trajectory_index_df = unique(day_df[, .(trainid, vehicleid, routeid, car1, car2, car3)])\n",
    "    # print(paste(\"Number of unique trajectories extracted: \", dim(trajectory_index_df)[1]))\n",
    "    return(trajectory_index_df)\n",
    "}\n",
    "# Subset the raw table by unique index\n",
    "extract_unique_trajectory = function(day_df, traj_index_df, index){\n",
    "    day_df[[\"car2\"]][is.na(day_df[[\"car2\"]])] <- 9999999\n",
    "    day_df[[\"car3\"]][is.na(day_df[[\"car3\"]])] <- 9999999\n",
    "    traj_index_df[[\"car2\"]][is.na(traj_index_df[[\"car2\"]])] <- 9999999\n",
    "    traj_index_df[[\"car3\"]][is.na(traj_index_df[[\"car3\"]])] <- 9999999\n",
    "    trajectory = day_df[trainid == traj_index_df[index, 1][[1]] & \n",
    "                        vehicleid == traj_index_df[index, 2][[1]] &\n",
    "                        routeid == traj_index_df[index, 3][[1]] &\n",
    "                        car1 == traj_index_df[index, 4][[1]] &\n",
    "                        car2 == traj_index_df[index, 5][[1]] &\n",
    "                        car3 == traj_index_df[index, 6][[1]],][order(trxtime)]\n",
    "    clean_trajectory = trajectory[, .SD[1], by = trxtime] # takes first observation of multiple with same time\n",
    "    clean_trajectory[[\"car2\"]][clean_trajectory[[\"car2\"]] == 9999999] = NA\n",
    "    clean_trajectory[[\"car3\"]][clean_trajectory[[\"car3\"]] == 9999999] = NA\n",
    "    # transfer trxtime to timestamp\n",
    "    options(tz = \"America/New_York\")\n",
    "    clean_trajectory$time = as.POSIXct(clean_trajectory$trxtime,tz = getOption(\"tz\"))\n",
    "    return (clean_trajectory)\n",
    "}"
   ]
  },
  {
   "cell_type": "markdown",
   "metadata": {},
   "source": [
    "# Calculate speed, acceleration"
   ]
  },
  {
   "cell_type": "code",
   "execution_count": null,
   "metadata": {},
   "outputs": [],
   "source": [
    "# compute time interval\n",
    "compute_time_interval <- function(d) {\n",
    "    d$interval_seconds = NA\n",
    "    n <- nrow(d)\n",
    "    if (n >= 2) {\n",
    "        # Compute time interval\n",
    "        d$interval_seconds[2:n] = as.numeric(difftime(d$trxtime[2:n], d$trxtime[1:n-1], units = \"secs\"))\n",
    "        }\n",
    "    return(d)\n",
    "}\n",
    "# compute vehicle distance\n",
    "compute_distance <- function(d) {\n",
    "    d$dist_meters = NA\n",
    "     n <- nrow(d)\n",
    "    if (n >= 2) {\n",
    "        # Compute interval distance using Haversine function\n",
    "        d$dist_meters[2:n] = distHaversine(cbind(d$lon[1:n-1],d$lat[1:n-1]),cbind(d$lon[2:n],d$lat[2:n]))\n",
    "        }\n",
    "    return(d)\n",
    "}\n",
    "# compute speed and acceleration\n",
    "compute_speed_acceleration <- function(d) {\n",
    "    d$speed_mps = NA\n",
    "    d$speed_kph = NA\n",
    "    d$accel_mps2 = NA\n",
    "    n <- nrow(d)\n",
    "    if (n >= 2) {\n",
    "        d$speed_mps[2:n] = d$dist_meters[2:n] / d$interval_seconds[2:n]\n",
    "        # Convert speed to kph\n",
    "        d$speed_kph[2:n] = d$speed_mps[2:n] * 3.6\n",
    "        d$accel_mps2[2:n] = (d$speed_mps[2:n] - d$speed_mps[1:n-1])/d$interval_seconds[2:n]\n",
    "        }\n",
    "    return(d)\n",
    "} \n",
    "# Calculate the cumulative dist and time\n",
    "compute_cumulative_time_distance = function(d){\n",
    "    df = d\n",
    "    # no rm.na argument in cumsum function,so we make distance and time with NA as 0\n",
    "    df[is.na(df)] <- 0\n",
    "    # Calculate the cumulative dist and time\n",
    "    df = df %>%\n",
    "    mutate(cumdist = cumsum(dist_meters)) %>%\n",
    "    mutate(cumtime = cumsum(interval_seconds))\n",
    "    d$cumdist_km = df$cumdist/1000\n",
    "    d$cumtime_hrs = df$cumtime/3600\n",
    "    return(d)\n",
    "}"
   ]
  },
  {
   "cell_type": "markdown",
   "metadata": {},
   "source": [
    "# Remove outlier observations"
   ]
  },
  {
   "cell_type": "code",
   "execution_count": null,
   "metadata": {},
   "outputs": [],
   "source": [
    "# Remove the outlier speed\n",
    "case_5 = function(clean_trajectory){\n",
    "    clean_trajectory = data.table(clean_trajectory)\n",
    "    clean_trajectory = compute_time_interval(clean_trajectory)\n",
    "    # Remove short time interval observations\n",
    "    clean_trajectory = clean_trajectory[interval_seconds > 1]\n",
    "    clean_trajectory = compute_time_interval(clean_trajectory)\n",
    "    clean_trajectory = compute_distance(clean_trajectory)\n",
    "    clean_trajectory = compute_speed_acceleration(clean_trajectory)\n",
    "    clean_trajectory = compute_cumulative_time_distance(clean_trajectory)\n",
    "    # Remove outlier speed observations\n",
    "    clean_trajectory = clean_trajectory[speed_kph < 120]\n",
    "    clean_trajectory = clean_trajectory[accel_mps2 > -6]\n",
    "    return(clean_trajectory)   \n",
    "}"
   ]
  },
  {
   "cell_type": "markdown",
   "metadata": {},
   "source": [
    "# Main processing script"
   ]
  },
  {
   "cell_type": "code",
   "execution_count": 8,
   "metadata": {},
   "outputs": [],
   "source": [
    "compute_day_trajectories = function(month_df, dd) {\n",
    "    df_dd = get_day_trajectories(month_df, dd)\n",
    "    traj_indices_dd = get_unique_trajectory_indices(df_dd)\n",
    "    # print(head(traj_indices_dd))\n",
    "    num_traj = nrow(traj_indices_dd)\n",
    "    for (tt in seq(num_traj)) { # ideally this should be for the whole sequence\n",
    "        traj = extract_unique_trajectory(df_dd, traj_indices_dd, tt)\n",
    "        traj$trajid = tt # add a new column\n",
    "        traj = case_5(traj) \n",
    "        if (tt==1) {\n",
    "            processed_traj_df = traj\n",
    "        } else {\n",
    "            processed_traj_df = rbind(processed_traj_df, traj)\n",
    "        }\n",
    "    }\n",
    "    return (processed_traj_df)\n",
    "}"
   ]
  },
  {
   "cell_type": "code",
   "execution_count": 9,
   "metadata": {},
   "outputs": [],
   "source": [
    "process_month_trajectory = function(data){\n",
    "    results_df = data.frame() # empty dataframe\n",
    "    for(i in unique(data$day)) { \n",
    "        day_df = compute_day_trajectories(data, i)       \n",
    "        results_df <- rbind(results_df, day_df)\n",
    "        }\n",
    "     write.csv(x = results_df, file.path(\"../../data/tidy/\", paste(\"green\", \"trajectory\", yy, mm, \".csv\", sep = \"-\", collapse = \"\")))\n",
    " }"
   ]
  },
  {
   "cell_type": "code",
   "execution_count": 10,
   "metadata": {},
   "outputs": [],
   "source": [
    "# Generate the final table\n",
    "main = function(YEARLIST, MONTHLIST) {\n",
    "    for (y in YEARLIST) {\n",
    "        for (m in MONTHLIST) {\n",
    "            df_light = get_light_rail_trajectories(y, m)\n",
    "            df_light = preprocess_data( df_light)\n",
    "            df_light = process_month_trajectory( df_light)           \n",
    "        }\n",
    "    }\n",
    "}"
   ]
  },
  {
   "cell_type": "code",
   "execution_count": null,
   "metadata": {},
   "outputs": [],
   "source": [
    "main(YEARLIST, MONTHLIST)"
   ]
  }
 ],
 "metadata": {
  "kernelspec": {
   "display_name": "R",
   "language": "R",
   "name": "ir"
  },
  "language_info": {
   "codemirror_mode": "r",
   "file_extension": ".r",
   "mimetype": "text/x-r-source",
   "name": "R",
   "pygments_lexer": "r",
   "version": "3.6.2"
  }
 },
 "nbformat": 4,
 "nbformat_minor": 4
}
