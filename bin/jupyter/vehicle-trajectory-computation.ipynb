{
 "cells": [
  {
   "cell_type": "markdown",
   "metadata": {},
   "source": [
    "# Data preprocessing and model preparation"
   ]
  },
  {
   "cell_type": "code",
   "execution_count": 1,
   "metadata": {
    "collapsed": true,
    "jupyter": {
     "outputs_hidden": true
    }
   },
   "outputs": [
    {
     "name": "stderr",
     "output_type": "stream",
     "text": [
      "Warning message:\n",
      "\"package 'data.table' was built under R version 3.6.3\"\n",
      "\n",
      "Attaching package: 'lubridate'\n",
      "\n",
      "\n",
      "The following objects are masked from 'package:data.table':\n",
      "\n",
      "    hour, isoweek, mday, minute, month, quarter, second, wday, week,\n",
      "    yday, year\n",
      "\n",
      "\n",
      "The following object is masked from 'package:base':\n",
      "\n",
      "    date\n",
      "\n",
      "\n",
      "\n",
      "Attaching package: 'dplyr'\n",
      "\n",
      "\n",
      "The following objects are masked from 'package:lubridate':\n",
      "\n",
      "    intersect, setdiff, union\n",
      "\n",
      "\n",
      "The following objects are masked from 'package:data.table':\n",
      "\n",
      "    between, first, last\n",
      "\n",
      "\n",
      "The following objects are masked from 'package:stats':\n",
      "\n",
      "    filter, lag\n",
      "\n",
      "\n",
      "The following objects are masked from 'package:base':\n",
      "\n",
      "    intersect, setdiff, setequal, union\n",
      "\n",
      "\n",
      "Warning message:\n",
      "\"package 'geosphere' was built under R version 3.6.3\"\n"
     ]
    }
   ],
   "source": [
    "library(data.table) #fread\n",
    "library(lubridate)\n",
    "library(dplyr)\n",
    "library(geosphere) # Calculate vehicle distance\n",
    "library(reshape2)\n",
    "library(scales)\n",
    "library(stringr)\n",
    "library(ggplot2)\n",
    "library(tidyverse)"
   ]
  },
  {
   "cell_type": "code",
   "execution_count": null,
   "metadata": {},
   "outputs": [],
   "source": [
    "# adjust the R limit\n",
    "memory.limit(size=249200)"
   ]
  },
  {
   "cell_type": "markdown",
   "metadata": {},
   "source": [
    "### Input location data and process calculation"
   ]
  },
  {
   "cell_type": "code",
   "execution_count": null,
   "metadata": {},
   "outputs": [],
   "source": [
    "# Choose the time nad line which will be investigated\n",
    "month = 03\n",
    "year = 20\n",
    "rail = \"heavy\""
   ]
  },
  {
   "cell_type": "code",
   "execution_count": 2,
   "metadata": {},
   "outputs": [],
   "source": [
    "df = read.csv(\"../../data/raw/vehicle-location/lightrail-trajectories-09-20-.csv\")"
   ]
  },
  {
   "cell_type": "code",
   "execution_count": 3,
   "metadata": {
    "collapsed": true,
    "jupyter": {
     "outputs_hidden": true
    }
   },
   "outputs": [
    {
     "data": {
      "text/html": [
       "<table>\n",
       "<caption>A data.frame: 6 × 18</caption>\n",
       "<thead>\n",
       "\t<tr><th></th><th scope=col>counter</th><th scope=col>trxtime</th><th scope=col>lineid</th><th scope=col>trainid</th><th scope=col>lat</th><th scope=col>lon</th><th scope=col>servicetypeid</th><th scope=col>routeid</th><th scope=col>vehicleid</th><th scope=col>sourceid</th><th scope=col>car1</th><th scope=col>car2</th><th scope=col>car3</th><th scope=col>speed</th><th scope=col>heading</th><th scope=col>rcvtime</th><th scope=col>lastavi</th><th scope=col>inserted</th></tr>\n",
       "\t<tr><th></th><th scope=col>&lt;int&gt;</th><th scope=col>&lt;fct&gt;</th><th scope=col>&lt;int&gt;</th><th scope=col>&lt;int&gt;</th><th scope=col>&lt;dbl&gt;</th><th scope=col>&lt;dbl&gt;</th><th scope=col>&lt;int&gt;</th><th scope=col>&lt;int&gt;</th><th scope=col>&lt;int&gt;</th><th scope=col>&lt;int&gt;</th><th scope=col>&lt;int&gt;</th><th scope=col>&lt;int&gt;</th><th scope=col>&lt;int&gt;</th><th scope=col>&lt;dbl&gt;</th><th scope=col>&lt;dbl&gt;</th><th scope=col>&lt;fct&gt;</th><th scope=col>&lt;int&gt;</th><th scope=col>&lt;fct&gt;</th></tr>\n",
       "</thead>\n",
       "<tbody>\n",
       "\t<tr><th scope=row>1</th><td>  28</td><td>2020-09-01 23:59:52</td><td>4</td><td>10042</td><td>42.35986</td><td>-71.05891</td><td>1</td><td>881</td><td>3845</td><td>0</td><td>3845</td><td>3607</td><td>NA</td><td>   NA</td><td>    NA</td><td>2020-09-01 00:00:26</td><td>76</td><td>2020-09-01 11:00:20</td></tr>\n",
       "\t<tr><th scope=row>2</th><td> 344</td><td>2020-09-01 23:57:50</td><td>4</td><td>10156</td><td>42.34885</td><td>-71.09469</td><td>1</td><td>831</td><td>3817</td><td>0</td><td>3817</td><td>  NA</td><td>NA</td><td>   NA</td><td>    NA</td><td>2020-09-01 00:03:30</td><td>16</td><td>2020-09-01 11:00:20</td></tr>\n",
       "\t<tr><th scope=row>3</th><td>5853</td><td>2020-09-01 03:02:56</td><td>4</td><td>10196</td><td>42.34027</td><td>-71.16688</td><td>1</td><td>813</td><td>3622</td><td>1</td><td>3622</td><td>3816</td><td>NA</td><td> 0.00</td><td>338.29</td><td>2020-09-01 03:02:56</td><td>13</td><td>2020-09-02 11:00:19</td></tr>\n",
       "\t<tr><th scope=row>4</th><td>5854</td><td>2020-09-01 03:03:49</td><td>4</td><td>10196</td><td>42.34100</td><td>-71.16742</td><td>1</td><td>813</td><td>3622</td><td>1</td><td>3622</td><td>3816</td><td>NA</td><td> 0.00</td><td>350.83</td><td>2020-09-01 03:03:49</td><td>13</td><td>2020-09-02 11:00:19</td></tr>\n",
       "\t<tr><th scope=row>5</th><td>5855</td><td>2020-09-01 03:25:23</td><td>4</td><td>10217</td><td>42.33689</td><td>-71.25384</td><td>1</td><td>852</td><td>3914</td><td>1</td><td>3914</td><td>3915</td><td>NA</td><td> 0.28</td><td>329.94</td><td>2020-09-01 03:25:23</td><td>35</td><td>2020-09-02 11:00:19</td></tr>\n",
       "\t<tr><th scope=row>6</th><td>5856</td><td>2020-09-01 03:58:20</td><td>4</td><td>10099</td><td>42.33692</td><td>-71.25150</td><td>1</td><td>  0</td><td>3834</td><td>1</td><td>3834</td><td>  NA</td><td>NA</td><td>13.89</td><td>124.10</td><td>2020-09-01 03:58:20</td><td> 0</td><td>2020-09-02 11:00:19</td></tr>\n",
       "</tbody>\n",
       "</table>\n"
      ],
      "text/latex": [
       "A data.frame: 6 × 18\n",
       "\\begin{tabular}{r|llllllllllllllllll}\n",
       "  & counter & trxtime & lineid & trainid & lat & lon & servicetypeid & routeid & vehicleid & sourceid & car1 & car2 & car3 & speed & heading & rcvtime & lastavi & inserted\\\\\n",
       "  & <int> & <fct> & <int> & <int> & <dbl> & <dbl> & <int> & <int> & <int> & <int> & <int> & <int> & <int> & <dbl> & <dbl> & <fct> & <int> & <fct>\\\\\n",
       "\\hline\n",
       "\t1 &   28 & 2020-09-01 23:59:52 & 4 & 10042 & 42.35986 & -71.05891 & 1 & 881 & 3845 & 0 & 3845 & 3607 & NA &    NA &     NA & 2020-09-01 00:00:26 & 76 & 2020-09-01 11:00:20\\\\\n",
       "\t2 &  344 & 2020-09-01 23:57:50 & 4 & 10156 & 42.34885 & -71.09469 & 1 & 831 & 3817 & 0 & 3817 &   NA & NA &    NA &     NA & 2020-09-01 00:03:30 & 16 & 2020-09-01 11:00:20\\\\\n",
       "\t3 & 5853 & 2020-09-01 03:02:56 & 4 & 10196 & 42.34027 & -71.16688 & 1 & 813 & 3622 & 1 & 3622 & 3816 & NA &  0.00 & 338.29 & 2020-09-01 03:02:56 & 13 & 2020-09-02 11:00:19\\\\\n",
       "\t4 & 5854 & 2020-09-01 03:03:49 & 4 & 10196 & 42.34100 & -71.16742 & 1 & 813 & 3622 & 1 & 3622 & 3816 & NA &  0.00 & 350.83 & 2020-09-01 03:03:49 & 13 & 2020-09-02 11:00:19\\\\\n",
       "\t5 & 5855 & 2020-09-01 03:25:23 & 4 & 10217 & 42.33689 & -71.25384 & 1 & 852 & 3914 & 1 & 3914 & 3915 & NA &  0.28 & 329.94 & 2020-09-01 03:25:23 & 35 & 2020-09-02 11:00:19\\\\\n",
       "\t6 & 5856 & 2020-09-01 03:58:20 & 4 & 10099 & 42.33692 & -71.25150 & 1 &   0 & 3834 & 1 & 3834 &   NA & NA & 13.89 & 124.10 & 2020-09-01 03:58:20 &  0 & 2020-09-02 11:00:19\\\\\n",
       "\\end{tabular}\n"
      ],
      "text/markdown": [
       "\n",
       "A data.frame: 6 × 18\n",
       "\n",
       "| <!--/--> | counter &lt;int&gt; | trxtime &lt;fct&gt; | lineid &lt;int&gt; | trainid &lt;int&gt; | lat &lt;dbl&gt; | lon &lt;dbl&gt; | servicetypeid &lt;int&gt; | routeid &lt;int&gt; | vehicleid &lt;int&gt; | sourceid &lt;int&gt; | car1 &lt;int&gt; | car2 &lt;int&gt; | car3 &lt;int&gt; | speed &lt;dbl&gt; | heading &lt;dbl&gt; | rcvtime &lt;fct&gt; | lastavi &lt;int&gt; | inserted &lt;fct&gt; |\n",
       "|---|---|---|---|---|---|---|---|---|---|---|---|---|---|---|---|---|---|---|\n",
       "| 1 |   28 | 2020-09-01 23:59:52 | 4 | 10042 | 42.35986 | -71.05891 | 1 | 881 | 3845 | 0 | 3845 | 3607 | NA |    NA |     NA | 2020-09-01 00:00:26 | 76 | 2020-09-01 11:00:20 |\n",
       "| 2 |  344 | 2020-09-01 23:57:50 | 4 | 10156 | 42.34885 | -71.09469 | 1 | 831 | 3817 | 0 | 3817 |   NA | NA |    NA |     NA | 2020-09-01 00:03:30 | 16 | 2020-09-01 11:00:20 |\n",
       "| 3 | 5853 | 2020-09-01 03:02:56 | 4 | 10196 | 42.34027 | -71.16688 | 1 | 813 | 3622 | 1 | 3622 | 3816 | NA |  0.00 | 338.29 | 2020-09-01 03:02:56 | 13 | 2020-09-02 11:00:19 |\n",
       "| 4 | 5854 | 2020-09-01 03:03:49 | 4 | 10196 | 42.34100 | -71.16742 | 1 | 813 | 3622 | 1 | 3622 | 3816 | NA |  0.00 | 350.83 | 2020-09-01 03:03:49 | 13 | 2020-09-02 11:00:19 |\n",
       "| 5 | 5855 | 2020-09-01 03:25:23 | 4 | 10217 | 42.33689 | -71.25384 | 1 | 852 | 3914 | 1 | 3914 | 3915 | NA |  0.28 | 329.94 | 2020-09-01 03:25:23 | 35 | 2020-09-02 11:00:19 |\n",
       "| 6 | 5856 | 2020-09-01 03:58:20 | 4 | 10099 | 42.33692 | -71.25150 | 1 |   0 | 3834 | 1 | 3834 |   NA | NA | 13.89 | 124.10 | 2020-09-01 03:58:20 |  0 | 2020-09-02 11:00:19 |\n",
       "\n"
      ],
      "text/plain": [
       "  counter trxtime             lineid trainid lat      lon       servicetypeid\n",
       "1   28    2020-09-01 23:59:52 4      10042   42.35986 -71.05891 1            \n",
       "2  344    2020-09-01 23:57:50 4      10156   42.34885 -71.09469 1            \n",
       "3 5853    2020-09-01 03:02:56 4      10196   42.34027 -71.16688 1            \n",
       "4 5854    2020-09-01 03:03:49 4      10196   42.34100 -71.16742 1            \n",
       "5 5855    2020-09-01 03:25:23 4      10217   42.33689 -71.25384 1            \n",
       "6 5856    2020-09-01 03:58:20 4      10099   42.33692 -71.25150 1            \n",
       "  routeid vehicleid sourceid car1 car2 car3 speed heading rcvtime            \n",
       "1 881     3845      0        3845 3607 NA      NA     NA  2020-09-01 00:00:26\n",
       "2 831     3817      0        3817   NA NA      NA     NA  2020-09-01 00:03:30\n",
       "3 813     3622      1        3622 3816 NA    0.00 338.29  2020-09-01 03:02:56\n",
       "4 813     3622      1        3622 3816 NA    0.00 350.83  2020-09-01 03:03:49\n",
       "5 852     3914      1        3914 3915 NA    0.28 329.94  2020-09-01 03:25:23\n",
       "6   0     3834      1        3834   NA NA   13.89 124.10  2020-09-01 03:58:20\n",
       "  lastavi inserted           \n",
       "1 76      2020-09-01 11:00:20\n",
       "2 16      2020-09-01 11:00:20\n",
       "3 13      2020-09-02 11:00:19\n",
       "4 13      2020-09-02 11:00:19\n",
       "5 35      2020-09-02 11:00:19\n",
       "6  0      2020-09-02 11:00:19"
      ]
     },
     "metadata": {},
     "output_type": "display_data"
    }
   ],
   "source": [
    "head(df)"
   ]
  },
  {
   "cell_type": "code",
   "execution_count": 9,
   "metadata": {},
   "outputs": [],
   "source": [
    "df_speed = df$speed"
   ]
  },
  {
   "cell_type": "code",
   "execution_count": 12,
   "metadata": {},
   "outputs": [],
   "source": [
    "df_speed = na.omit(df_speed)"
   ]
  },
  {
   "cell_type": "code",
   "execution_count": 15,
   "metadata": {},
   "outputs": [
    {
     "data": {
      "text/html": [
       "122.48"
      ],
      "text/latex": [
       "122.48"
      ],
      "text/markdown": [
       "122.48"
      ],
      "text/plain": [
       "[1] 122.48"
      ]
     },
     "metadata": {},
     "output_type": "display_data"
    }
   ],
   "source": [
    "max(df_speed)"
   ]
  },
  {
   "cell_type": "code",
   "execution_count": null,
   "metadata": {
    "scrolled": true
   },
   "outputs": [],
   "source": [
    "df = read.csv(paste(\"../../data/raw/vehicle-location/\",\n",
    "            paste(\"ttr.\",paste(rail,\"location\",year,month,sep = \"\",collapse = \"\"),sep = \"\",collapse = \"\")sep = \"\",collapse = \"\"),header = TRUE, na.strings =0)\n",
    "df$Day = day(df$trxtime)\n",
    "# Duplicate the heavy rail table\n",
    "if(rail = \"heavy\"){ dr = subset(df,df$lineid==1)\n",
    "                    db = subset(df,df$lineid==2)\n",
    "                    do = subset(df,df$lineid==3)}\n",
    "else{\n",
    "    dg = df\n",
    "}\n",
    "# Data preprocessing\n",
    "data_pre = function(df){\n",
    "     data = data.frame(time=df$trxtime, Day=df$Day, trainid=df$trainid, route=df$routeid, lat=df$lat, lon=df$lon)\n",
    "     data = data[!(is.na(data$lon)) | !(is.na(data$lat)),] #remove the rows with values of lat and lon are 0\n",
    "     data = data[order(data$trainid, data$time),]\n",
    "     data = distinct(data, time, trainid, route, .keep_all = TRUE) # Remove the duplicated time record\n",
    "    return(data)\n",
    "}"
   ]
  },
  {
   "cell_type": "code",
   "execution_count": null,
   "metadata": {},
   "outputs": [],
   "source": [
    "# All speed are mph\n",
    "# Green line\n",
    "## Branch main 8.6\n",
    "## Branch B 7.1\n",
    "## Branch C 7.9\n",
    "## Branch D 18.7\n",
    "## Branch E 7.1\n",
    "# Red line \n",
    "## A 16.7\n",
    "## B 20.1\n",
    "# Orange line 18.3\n",
    "# Blue line 18.6\n",
    "# Ref: https://www.fixmbta.com/green-line-upgrades"
   ]
  },
  {
   "cell_type": "code",
   "execution_count": null,
   "metadata": {},
   "outputs": [],
   "source": [
    "# Get ready for calculation\n",
    "dr = data_pre(dr)\n",
    "db = data_pre(db)\n",
    "do = data_pre(do)\n",
    "dg = data_pre(dg)\n",
    "dg$line = 4"
   ]
  },
  {
   "cell_type": "code",
   "execution_count": null,
   "metadata": {},
   "outputs": [],
   "source": [
    "# Function to compute distances (D), speeds (S) and acceleration (A) in meters, meters per second, km per hour and m s^-2\n",
    "computeDSA <- function(d) {\n",
    "    d$dist_meters=NA\n",
    "    d$interval_seconds=NA\n",
    "    d$speed_mps=NA\n",
    "    d$speed_kph=NA\n",
    "    d$accel_mps2=NA\n",
    "    n <- nrow(d)\n",
    "    # dist_miles\n",
    "    # speed_kph\n",
    "    # Name variable \n",
    "    # time_sec\n",
    "    # acc_mps2\n",
    "    if (n >= 2) {\n",
    "        # Compute interval distance using Haversine function\n",
    "        d$dist_meters[2:n] = distHaversine(cbind(d$lon[1:n-1],d$lat[1:n-1]),cbind(d$lon[2:n],d$lat[2:n]))\n",
    "        # Compute time interval\n",
    "        d$interval_seconds[2:n] = as.numeric(difftime(d$time[2:n], d$time[1:n-1], units = \"secs\"))\n",
    "        # Compute speed in meters per second\n",
    "        d$speed_mps[2:n] = d$dist_meters[2:n] / d$interval_seconds[2:n]\n",
    "        d$speed_kph[2:n] = d$speed_mps[2:n]*3.6\n",
    "        d$accel_mps2[2:n] = (d$speed_mps[2:n] - d$speed_mps[1:n-1])/d$interval_seconds[2:n]\n",
    "        for(k in 2:n) { \n",
    "                # revise the incorrect values \n",
    "                if (!(is.na(d$speed_kph[k]))) {\n",
    "                    if (d$speed_kph[k] > 70 ) {\n",
    "                        d$speed_kph[k] = d$speed_kph[k-1]\n",
    "                        d$speed_mps[k] = d$speed_kph[k] / 3.6\n",
    "                        d$accel_mps2[k] = (d$speed_mps[k]-d$speed_mps[k-1]) / d$interval_seconds[k]\n",
    "                        d$dist_meters[k] = d$speed_mps[k] * d$interval_seconds[k] \n",
    "                    }\n",
    "                }\n",
    "            }\n",
    "        }    \n",
    "    return(d)\n",
    "}"
   ]
  },
  {
   "cell_type": "code",
   "execution_count": null,
   "metadata": {},
   "outputs": [],
   "source": [
    "# Process calculation for four lines\n",
    "results.df = data.frame() # empty dataframe\n",
    "Month_calculation = function(data){\n",
    "for(i in unique(data$Day)) { \n",
    "    if (i <= 31) { # define when the loop will end\n",
    "        data.day <- data[data$Day == i, ]\n",
    "        for (j in unique(data.day$trainid)) {# Put each train in one loop in a subset\n",
    "            data.day.train = data.day[data.day$trainid == j, ]        \n",
    "            results <- computeDSA(data.day.train) # Process data with only one row separately        \n",
    "            results.df <- rbind(results.df, results) # put all the results in one table\n",
    "        }\n",
    "     }\n",
    "  }\n",
    "}\n",
    "write.csv(x=results.df,file.path(\"../../data/tidy/Calculated Table\", paste(rail,\"rail_distances_\",paste(year,month,sep = \"\",collapse = \"\"),\".csv\",sep = \"\",collapse = \"\")))"
   ]
  },
  {
   "cell_type": "markdown",
   "metadata": {},
   "source": [
    "### Combine four lines as one table and ready for model"
   ]
  },
  {
   "cell_type": "code",
   "execution_count": 4,
   "metadata": {},
   "outputs": [],
   "source": [
    "# Read distance calculation data\n",
    "yearlist = c('19')\n",
    "monthlist = c(\"01\", \"02\", \"03\", \"04\", \"05\", \"06\", \"07\", \"08\", \"09\", \"10\", \"11\", \"12\") #FOR FULL TABLE\n",
    "heavyrail_distance_filepath = \"../../data/tidy/Calculated table/\"\n",
    "lightrail_distance_filepath = \"../../data/tidy/Calculated Table/\"\n",
    "for (year in yearlist) {\n",
    "    for (month in monthlist) {\n",
    "        assign(paste(\"dr\", year, month, sep=\"\"), fread(paste(heavyrail_distance_filepath, \"heavyrailred_distances_\", year, month, \".csv\", sep=\"\")))\n",
    "        assign(paste(\"db\", year, month, sep=\"\"), fread(paste(heavyrail_distance_filepath, \"heavyrailblue_distances_\", year, month, \".csv\", sep=\"\")))\n",
    "        assign(paste(\"do\", year, month, sep=\"\"), fread(paste(heavyrail_distance_filepath, \"heavyrailorange_distances_\", year, month, \".csv\", sep=\"\")))\n",
    "        assign(paste(\"dg\", year, month, sep=\"\"), fread(paste(lightrail_distance_filepath, \"lightrail_distances_\", year, month, \".csv\", sep=\"\")))\n",
    "    }\n",
    "}"
   ]
  },
  {
   "cell_type": "code",
   "execution_count": 8,
   "metadata": {},
   "outputs": [],
   "source": [
    "# Combine the 4 line table\n",
    "dg = rbind(dg1901,dg1902,dg1903,dg1904,dg1905,dg1906,dg1907,dg1908,dg1909,dg1910,dg1911,dg1912)\n",
    "dr = rbind(dr1901,dr1902,dr1903,dr1904,dr1905,dr1906,dr1907,dr1908,dr1909,dr1910,dr1911,dr1912)\n",
    "do = rbind(do1901,do1902,do1903,do1904,do1905,do1906,do1907,do1908,do1909,do1910,do1911,do1912)\n",
    "db = rbind(db1901,db1902,db1903,db1904,db1905,db1906,db1907,db1908,db1909,db1910,db1911,db1912)"
   ]
  },
  {
   "cell_type": "code",
   "execution_count": null,
   "metadata": {},
   "outputs": [],
   "source": [
    "# Add columns for further analysis\n",
    "df_adddate = function(df){\n",
    "    df$Month = month(df$time)\n",
    "    df$Day = day(df$time)\n",
    "    df$Hour = hour(df$time)\n",
    "}"
   ]
  },
  {
   "cell_type": "code",
   "execution_count": null,
   "metadata": {},
   "outputs": [],
   "source": [
    "# Combine four lines as one single table\n",
    "df_combine = function(dg,dr,do,db){\n",
    "  dg = subset(dg,select= -route)  # Remove the route column of Green line for the combination of tables of 4 lines\n",
    "  interval_df = rbind(dg,dr,do,db) #combine interval data for all lines\n",
    "   return(interval_df)\n",
    "}\n",
    "write.csv(interval_df,paste(\"../../data/tidy/\",\"train-trajectories-\",year,\".csv\",sep = \"\",collapse = \"\"))"
   ]
  },
  {
   "cell_type": "markdown",
   "metadata": {},
   "source": [
    "### Trajectory table calculation"
   ]
  },
  {
   "cell_type": "code",
   "execution_count": null,
   "metadata": {},
   "outputs": [],
   "source": [
    "table_calculation = function(db){\n",
    "# Calculate monthly distance\n",
    "Calculation_table = aggregate(as.numeric(db$dist,db$timeinterval),by = list(Month=db$Month),FUN=sum,na.rm=TRUE)\n",
    "names(Calculation_table)[names(Calculation_table) == \"x\"] <- \"Monthly distance\"\n",
    "Calculation_table$\"Monthly distance\" = Calculation_table$\"Monthly distance\"*0.000621371\n",
    "# Calculate monthly operating time\n",
    "dbt = aggregate(as.numeric(db$timeinterval),by = list(Month = db$Month),FUN=sum,na.rm=TRUE)\n",
    "Calculation_table$\"operating time\" = dbt$x\n",
    "# Calculate monthly average speed\n",
    "dbv = aggregate(as.numeric(db$kph,db$kph),by = list(Month = db$Month),FUN=mean,na.rm=TRUE)\n",
    "Calculation_table$\"average speed\" = dbv$x\n",
    "Calculation_table\n",
    "}"
   ]
  },
  {
   "cell_type": "markdown",
   "metadata": {},
   "source": [
    "### Plot the trajectory"
   ]
  },
  {
   "cell_type": "code",
   "execution_count": null,
   "metadata": {},
   "outputs": [],
   "source": [
    "# name the output file as the line you want to investigate\n",
    "Trajectory_analysis = function(db){\n",
    "# choose one day\n",
    "btrainset = subset(db,db$Month == 1 & db$Day ==10,select=c(time,dist,trainid,kph))\n",
    "# choose 30 trains, before do this please apply \"range\" fucntion to the \"trainid\" column to find out the threshold\n",
    "btrainset = subset(btrainset,btrainset$trainid >= 1415219066 & btrainset$trainid <= 1415222776,select=c(time,dist,trainid,kph))\n",
    "btrainset$kph = as.numeric(as.character(btrainset$kph))\n",
    "# change the time column to datatime type for plot\n",
    "btrainset$hms <- strftime(btrainset$time, format = \"%H:%M:%OS\")\n",
    "btrainset$hms <- as.POSIXct(btrainset$hms, format = \"%H:%M:%OS\")\n",
    "btrainset$dist = as.numeric(as.character(btrainset$dist))\n",
    "# for clumative distance calculation we set the NA as 0\n",
    "btrainset[is.na(btrainset)] <- 0\n",
    "btrainset=btrainset %>%\n",
    "  group_by(trainid) %>%\n",
    "  mutate(cumdist = cumsum(dist))\n",
    "# plot the trajectory\n",
    "# cumulative distance plot\n",
    "png(\"../Results/Train movement analysis plots/Blue line trajectory.png\",height= 1500,width=7000,res=360)\n",
    "ggplot(btrainset, aes(x=hms,y=cumdist*0.000621371,color=factor(trainid)))+\n",
    "       geom_line(data=btrainset,mapping=aes(x=hms,y=cumdist*0.000621371),size= 1,alpha=0.7)+\n",
    "       theme(axis.text=element_text(size=12),axis.title.x = element_text(size = 20),axis.title.y = element_text(size = 20),title= element_text(size = 20),axis.text.x = element_text(angle = 90, hjust = 1))+\n",
    "        #ylim(0, 1000)+\n",
    "        scale_x_datetime(breaks = \"1 hour\",labels=date_format(\"%H:%M\"))+\n",
    "        labs(title =\"Blue line distance trajectory\", y = \"Distance (mile)\", x = \"Time\"，col=\"Trainid\")+\n",
    "     guides(color=FALSE)   \n",
    "dev.off()\n",
    "# speed plot\n",
    "png(\"../Results/Train movement analysis plots/Blue line Speed(2019).png\",height= 1500,width = 7000,res = 360)\n",
    "ggplot(btrainset, aes(x=hms,y=kph,color=factor(trainid)))+\n",
    "       geom_line(data = btrainset,mapping = aes(x = hms,y = kph*0.621371),size = 0.6,alpha = 0.4)+\n",
    "       theme(axis.text=element_text(size = 12),axis.title.x = element_text(size = 20),axis.title.y = element_text(size = 20),title= element_text(size = 20),axis.text.x = element_text(angle = 90, hjust = 1))+\n",
    "        #ylim(0, 70)+\n",
    "        scale_x_datetime(breaks = \"1 hour\",labels = date_format(\"%H:%M\"))+\n",
    "        labs(title =\"Blue line speed plot\", y = \"Speed (mph)\", x = \"Time\"，col=\"Trainid\")+\n",
    "      guides(color=FALSE)\n",
    "dev.off()\n",
    "# distance plot\n",
    "png(\"../results/Train movement analysis plots/Blue line dist(2019).png\",height= 1000,width=7000,res=360)\n",
    "ggplot(btrainset, aes(x = hms,y = dist*0.000621371,color=factor(trainid)))+\n",
    "       geom_line(data = btrainset,mapping = aes(x = hms,y = dist),size = 0.6,alpha = 0.4)+\n",
    "       theme(axis.text.x = element_text(angle = 90, hjust = 1))+\n",
    "        #ylim(0,2500)+\n",
    "        scale_x_datetime(breaks = \"1 hour\",labels = date_format(\"%H:%M\"))+\n",
    "        labs(title = \"Blue line vehicle distance\", y = \"Distance (mile)\", x = \"Time\"，col = \"Trainid\")+\n",
    "        guides(color = FALSE)\n",
    "dev.off()\n",
    "}"
   ]
  }
 ],
 "metadata": {
  "kernelspec": {
   "display_name": "R",
   "language": "R",
   "name": "ir"
  },
  "language_info": {
   "codemirror_mode": "r",
   "file_extension": ".r",
   "mimetype": "text/x-r-source",
   "name": "R",
   "pygments_lexer": "r",
   "version": "3.6.2"
  }
 },
 "nbformat": 4,
 "nbformat_minor": 4
}
