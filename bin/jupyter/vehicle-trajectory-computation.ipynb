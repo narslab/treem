{
 "cells": [
  {
   "cell_type": "markdown",
   "metadata": {},
   "source": [
    "# Data preprocessing and model preparation"
   ]
  },
  {
   "cell_type": "code",
   "execution_count": 1,
   "metadata": {
    "collapsed": true,
    "jupyter": {
     "outputs_hidden": true
    }
   },
   "outputs": [
    {
     "name": "stderr",
     "output_type": "stream",
     "text": [
      "Warning message:\n",
      "\"package 'data.table' was built under R version 3.6.3\"\n",
      "\n",
      "Attaching package: 'dplyr'\n",
      "\n",
      "\n",
      "The following objects are masked from 'package:data.table':\n",
      "\n",
      "    between, first, last\n",
      "\n",
      "\n",
      "The following objects are masked from 'package:stats':\n",
      "\n",
      "    filter, lag\n",
      "\n",
      "\n",
      "The following objects are masked from 'package:base':\n",
      "\n",
      "    intersect, setdiff, setequal, union\n",
      "\n",
      "\n",
      "Warning message:\n",
      "\"package 'geosphere' was built under R version 3.6.3\"\n",
      "\n",
      "Attaching package: 'lubridate'\n",
      "\n",
      "\n",
      "The following objects are masked from 'package:data.table':\n",
      "\n",
      "    hour, isoweek, mday, minute, month, quarter, second, wday, week,\n",
      "    yday, year\n",
      "\n",
      "\n",
      "The following object is masked from 'package:base':\n",
      "\n",
      "    date\n",
      "\n",
      "\n"
     ]
    }
   ],
   "source": [
    "library(data.table) #fread\n",
    "library(dplyr)\n",
    "library(geosphere) # Calculate vehicle distance\n",
    "library(lubridate)# Date column extraction"
   ]
  },
  {
   "cell_type": "code",
   "execution_count": 2,
   "metadata": {},
   "outputs": [
    {
     "data": {
      "text/html": [
       "249200"
      ],
      "text/latex": [
       "249200"
      ],
      "text/markdown": [
       "249200"
      ],
      "text/plain": [
       "[1] 249200"
      ]
     },
     "metadata": {},
     "output_type": "display_data"
    }
   ],
   "source": [
    "# adjust the R limit\n",
    "memory.limit(size=249200)"
   ]
  },
  {
   "cell_type": "markdown",
   "metadata": {},
   "source": [
    "## Input location data and data preprocessing"
   ]
  },
  {
   "cell_type": "code",
   "execution_count": 2,
   "metadata": {},
   "outputs": [],
   "source": [
    "# Read data from folder\n",
    "# Suggestion: Just do one year at one time. One year's table has 94363502 rows(green)\n",
    "YEARLIST = c('19')\n",
    "MONTHlIST = c(\"04\") #FOR FULL TABLE\n",
    "DISTANCE_FILEPATH = \"../../data/raw/vehicle-location/\""
   ]
  },
  {
   "cell_type": "code",
   "execution_count": 4,
   "metadata": {},
   "outputs": [],
   "source": [
    "# aggregrate_trajectory_table\n",
    "aggregate_line_trajectories = function(year, month){\n",
    "    assign(\"dg\", fread(paste(DISTANCE_FILEPATH, paste(\"lightrail\", \"trajectories\", month, year, \".csv\", sep = \"-\", collapse = \"\"), sep=\"\")))\n",
    "    assign(\"dh\", fread(paste(DISTANCE_FILEPATH, paste(\"heavyrail\", \"trajectories\", month, year, \".csv\", sep = \"-\", collapse = \"\"), sep=\"\")))\n",
    "    # Combine the original tables to a single one for analysis\n",
    "    dg = subset(dg, select = c(trxtime, trainid, lineid, lat, lon))\n",
    "    dh = subset(dh, select = c(trxtime, trainid, lineid, lat, lon))\n",
    "    df = rbind(dg, dh)\n",
    "    return(df)\n",
    "}"
   ]
  },
  {
   "cell_type": "code",
   "execution_count": 5,
   "metadata": {},
   "outputs": [],
   "source": [
    "df = aggregate_line_trajectories(YEARLIST,MONTHlIST)"
   ]
  },
  {
   "cell_type": "markdown",
   "metadata": {},
   "source": [
    "## Data preprocessing"
   ]
  },
  {
   "cell_type": "code",
   "execution_count": 7,
   "metadata": {},
   "outputs": [],
   "source": [
    "# Data preprocessing\n",
    "preprocess_data = function(df){\n",
    "    # Add time column to do analysis by random time scale\n",
    "    df$day = day(df$trxtime)\n",
    "    df$month = month(df$trxtime)\n",
    "    df$year = year(df$trxtime)\n",
    "    # check the na values ratio\n",
    "    df_na = df[(is.na(df$lon)) | (is.na(df$lat)),]\n",
    "    df_na_rate = nrow(df_na)/nrow(df)\n",
    "    print(df_na_rate)\n",
    "    # remove the rows with values of lat and lon are 0/NA\n",
    "    df = df[!(is.na(df$lon)) | !(is.na(df$lat)),]\n",
    "    df = df[df$lon != 0 | df$lat != 0,]\n",
    "    df = df[order(df$trainid, df$trxtime),]\n",
    "    df = distinct(df, trxtime, trainid, .keep_all = TRUE) # Remove the duplicated time record\n",
    "    return(df)\n",
    "}"
   ]
  },
  {
   "cell_type": "markdown",
   "metadata": {},
   "source": [
    "## Vehicle distance,speed, acceleration calculation \n",
    "### Spurious values statistics\n",
    "### Value correction"
   ]
  },
  {
   "cell_type": "code",
   "execution_count": 18,
   "metadata": {},
   "outputs": [],
   "source": [
    "# Function to compute distances (D), speeds (S) and acceleration (A) in meters, meters per second, km per hour and m s^-2\n",
    "compute_trajectories <- function(d) {\n",
    "    d = data.frame(d)\n",
    "    d$dist_meters = NA\n",
    "    d$dist_meters = as.numeric(d$dist_meters)\n",
    "    d$interval_seconds = NA\n",
    "    d$interval_seconds = as.numeric(d$interval_seconds)\n",
    "    d$speed_mps = NA\n",
    "    d$speed_mps = as.numeric(d$speed_mps)\n",
    "    d$speed_kph = NA\n",
    "    d$speed_kph = as.numeric(d$speed_kph)\n",
    "    d$accel_mps2 = NA\n",
    "    d$accel_mps2 = as.numeric(d$accel_mps2)\n",
    "    n <- nrow(d)\n",
    "    diagnostics = {}\n",
    "    if (n >= 2) {\n",
    "        # Compute interval distance using Haversine function\n",
    "        d$dist_meters[2:n] = distHaversine(cbind(d$lon[1:n-1],d$lat[1:n-1]),cbind(d$lon[2:n],d$lat[2:n]))\n",
    "        # Compute time interval\n",
    "        d$interval_seconds[2:n] = as.numeric(difftime(d$trxtime[2:n], d$trxtime[1:n-1], units = \"secs\"))\n",
    "        # Compute speed in meters per second\n",
    "        d$speed_mps[2:n] = d$dist_meters[2:n] / d$interval_seconds[2:n]\n",
    "        # Convert speed to kph\n",
    "        d$speed_kph[2:n] = d$speed_mps[2:n] * 3.6\n",
    "        # # Compute accelerations\n",
    "        # d$accel_mps2[2:n] = (d$speed_mps[2:n] - d$speed_mps[1:n-1])/d$interval_seconds[2:n]\n",
    "        # Spurious values statistics\n",
    "        index_excessive_speeds = as.numeric(row.names(d[(d$speed_kph > 128) & (!is.na(d$speed_kph)),]))\n",
    "        # Original data metrics calculation\n",
    "         diagnostics$mean_original_speed_kph = mean(as.numeric(d[, \"speed_kph\"]),na.rm=TRUE)\n",
    "         diagnostics$min_original_speed_kph = min(as.numeric(d[, \"speed_kph\"]),na.rm=TRUE)\n",
    "         diagnostics$max_original_speed_kph = max(as.numeric(d[, \"speed_kph\"]),na.rm=TRUE)\n",
    "         diagnostics$num_original_speed_kph = length(as.numeric(d[, \"speed_kph\"]))\n",
    "        # Excessive data metrics calculation\n",
    "         diagnostics$mean_excess_speed_kph = mean(as.numeric(d[index_excessive_speeds, \"speed_kph\"]))\n",
    "         diagnostics$min_excess_speed_kph = min(d[index_excessive_speeds, \"speed_kph\"]) \n",
    "         diagnostics$max_excess_speed_kph = max(as.numeric(d[index_excessive_speeds, \"speed_kph\"])) \n",
    "         diagnostics$num_excess_speed_kph = length(d[index_excessive_speeds, \"speed_kph\"]) \n",
    "         diagnostics$prop_excess_speed_kph = round(100*diagnostics$num_excess_speed/n, 2)\n",
    "        # Correct the excessive speed values and recalculate acceleration and distance\n",
    "        repeat{\n",
    "        d[index_excessive_speeds, c('speed_kph',\"speed_mps\")] = d[index_excessive_speeds - 1 , c('speed_kph',\"speed_mps\")]\n",
    "        d[index_excessive_speeds, \"dist_meters\"] = d[index_excessive_speeds, \"speed_mps\"] * d[index_excessive_speeds,\"interval_seconds\"]\n",
    "        # d[index_excessive_speeds, \"accel_mps2\"] = (d[index_excessive_speeds, \"speed_mps\"] \n",
    "        #                                           - d[index_excessive_speeds - 1, \"speed_mps\"]) / d[index_excessive_speeds,\"interval_seconds\"]\n",
    "        if(max(d$speed_kph,na.rm = TRUE) <= 128){break}\n",
    "        }\n",
    "         # Compute accelerations\n",
    "         d$accel_mps2[2:n] = (d$speed_mps[2:n] - d$speed_mps[1:n-1])/d$interval_seconds[2:n]\n",
    "        # Correct accelerations\n",
    "         index_excessive_accelerations = as.numeric(row.names(d[(d$dist_meters == 0) & (d$accel_mps2 > 6),]))\n",
    "         d[index_excessive_accelerations, \"accel_mps2\"] = d[index_excessive_accelerations - 1 , \"accel_mps2\"]\n",
    "        # Corrected data metrics calculation\n",
    "         diagnostics$mean_corrected_speed_kph = mean(as.numeric(d[, \"speed_kph\"]),na.rm=TRUE)\n",
    "         diagnostics$min_corrected_speed_kph = min(as.numeric(d[, \"speed_kph\"]),na.rm=TRUE)\n",
    "         diagnostics$max_corrected_speed_kph = max(as.numeric(d[, \"speed_kph\"]),na.rm=TRUE)\n",
    "         diagnostics$num_corrected_speed_kph = length(as.numeric(d[, \"speed_kph\"]))\n",
    "    }\n",
    "    return(list(data = d ,diag_metrics = diagnostics))   \n",
    "}"
   ]
  },
  {
   "cell_type": "code",
   "execution_count": 21,
   "metadata": {},
   "outputs": [],
   "source": [
    "# Process calculation \n",
    "process_month_trajectory = function(data){\n",
    "    results_df = data.frame() # empty dataframe\n",
    "    diagnostics_df = data.frame()\n",
    "    for(i in unique(data$day)) { \n",
    "        data_day <- data[data$day == i, ]\n",
    "        # Put each train in one loop in a subset\n",
    "        for (j in unique(data_day$trainid)) {\n",
    "            data_day_train = data_day[data_day$trainid == j, ]        \n",
    "            trajectory_and_diagnostics <- compute_trajectories(data_day_train)  \n",
    "            trajectories = trajectory_and_diagnostics$data\n",
    "            diagnostics = trajectory_and_diagnostics$diag_metrics          \n",
    "            results_df <- rbind(results_df, trajectories)\n",
    "            diagnostics_df <- rbind(diagnostics_df, diagnostics) \n",
    "        }\n",
    "    }\n",
    "     write.csv(x = results_df, file.path(\"../../data/tidy/\", paste(\"trajectory\", yy, mm, \".csv\", sep = \"-\", collapse = \"\")))\n",
    "    write.csv(x = diagnostics_df, file.path(\"../../data/tidy/\", paste(\"trajectory-diagnostics\" , yy, mm, \".csv\", sep = \"-\",collapse = \"\")))\n",
    "    # Uncomment the beneath line and check the computation result\n",
    "    # return(list(result = results_df, result_diag = diagnostics_df ))\n",
    " }"
   ]
  },
  {
   "cell_type": "code",
   "execution_count": null,
   "metadata": {},
   "outputs": [],
   "source": [
    "# Generate the final table\n",
    "main = function(YEARLIST, MONTHLIST) {\n",
    "    for (y in YEARLIST) {\n",
    "        for (m in MONTHLIST) {\n",
    "            df_agg = aggregate_line_trajectories(y, m)\n",
    "            df_agg = preprocess_data(df_agg)\n",
    "            process_month_trajectory(df_agg, y, m)            \n",
    "        }\n",
    "    }\n",
    "}"
   ]
  },
  {
   "cell_type": "code",
   "execution_count": null,
   "metadata": {},
   "outputs": [],
   "source": [
    "main(YEARLIST, MONTHLIST)"
   ]
  }
 ],
 "metadata": {
  "kernelspec": {
   "display_name": "R",
   "language": "R",
   "name": "ir"
  },
  "language_info": {
   "codemirror_mode": "r",
   "file_extension": ".r",
   "mimetype": "text/x-r-source",
   "name": "R",
   "pygments_lexer": "r",
   "version": "3.6.2"
  }
 },
 "nbformat": 4,
 "nbformat_minor": 4
}
