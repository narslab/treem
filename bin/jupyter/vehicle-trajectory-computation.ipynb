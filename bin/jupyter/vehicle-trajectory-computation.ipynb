{
 "cells": [
  {
   "cell_type": "markdown",
   "metadata": {},
   "source": [
    "# Data preprocessing and model preparation"
   ]
  },
  {
   "cell_type": "code",
   "execution_count": 1,
   "metadata": {
    "collapsed": true,
    "jupyter": {
     "outputs_hidden": true
    }
   },
   "outputs": [
    {
     "name": "stderr",
     "output_type": "stream",
     "text": [
      "Warning message:\n",
      "\"package 'data.table' was built under R version 3.6.3\"\n",
      "Registered S3 methods overwritten by 'tibble':\n",
      "  method     from  \n",
      "  format.tbl pillar\n",
      "  print.tbl  pillar\n",
      "\n",
      "\n",
      "Attaching package: 'dplyr'\n",
      "\n",
      "\n",
      "The following objects are masked from 'package:data.table':\n",
      "\n",
      "    between, first, last\n",
      "\n",
      "\n",
      "The following objects are masked from 'package:stats':\n",
      "\n",
      "    filter, lag\n",
      "\n",
      "\n",
      "The following objects are masked from 'package:base':\n",
      "\n",
      "    intersect, setdiff, setequal, union\n",
      "\n",
      "\n",
      "Warning message:\n",
      "\"package 'geosphere' was built under R version 3.6.3\"\n",
      "\n",
      "Attaching package: 'lubridate'\n",
      "\n",
      "\n",
      "The following objects are masked from 'package:data.table':\n",
      "\n",
      "    hour, isoweek, mday, minute, month, quarter, second, wday, week,\n",
      "    yday, year\n",
      "\n",
      "\n",
      "The following object is masked from 'package:base':\n",
      "\n",
      "    date\n",
      "\n",
      "\n",
      "Warning message:\n",
      "\"package 'robfilter' was built under R version 3.6.3\"\n",
      "Loading required package: robustbase\n",
      "\n",
      "Warning message:\n",
      "\"package 'robustbase' was built under R version 3.6.3\"\n",
      "Loading required package: MASS\n",
      "\n",
      "Warning message:\n",
      "\"package 'MASS' was built under R version 3.6.3\"\n",
      "\n",
      "Attaching package: 'MASS'\n",
      "\n",
      "\n",
      "The following object is masked from 'package:dplyr':\n",
      "\n",
      "    select\n",
      "\n",
      "\n",
      "Loading required package: lattice\n",
      "\n",
      "Warning message:\n",
      "\"package 'ggplot2' was built under R version 3.6.3\"\n",
      "Warning message:\n",
      "\"package 'gridExtra' was built under R version 3.6.3\"\n",
      "\n",
      "Attaching package: 'gridExtra'\n",
      "\n",
      "\n",
      "The following object is masked from 'package:dplyr':\n",
      "\n",
      "    combine\n",
      "\n",
      "\n"
     ]
    }
   ],
   "source": [
    "library(data.table) #fread\n",
    "library(dplyr)\n",
    "library(geosphere) # Calculate vehicle distance\n",
    "library(lubridate)# Date column extraction\n",
    "library(robfilter)# Smooth the data\n",
    "library(ggplot2) # Plot\n",
    "library(gridExtra) # Combine different plots"
   ]
  },
  {
   "cell_type": "code",
   "execution_count": 44,
   "metadata": {
    "collapsed": true,
    "jupyter": {
     "outputs_hidden": true
    }
   },
   "outputs": [
    {
     "name": "stderr",
     "output_type": "stream",
     "text": [
      "Warning message:\n",
      "\"package 'gridExtra' was built under R version 3.6.3\"\n",
      "\n",
      "Attaching package: 'gridExtra'\n",
      "\n",
      "\n",
      "The following object is masked from 'package:dplyr':\n",
      "\n",
      "    combine\n",
      "\n",
      "\n"
     ]
    }
   ],
   "source": [
    "library(gridExtra)"
   ]
  },
  {
   "cell_type": "code",
   "execution_count": 2,
   "metadata": {},
   "outputs": [
    {
     "data": {
      "text/html": [
       "249200"
      ],
      "text/latex": [
       "249200"
      ],
      "text/markdown": [
       "249200"
      ],
      "text/plain": [
       "[1] 249200"
      ]
     },
     "metadata": {},
     "output_type": "display_data"
    }
   ],
   "source": [
    "# adjust the R limit\n",
    "memory.limit(size=249200)"
   ]
  },
  {
   "cell_type": "markdown",
   "metadata": {},
   "source": [
    "## Input location data and data preprocessing"
   ]
  },
  {
   "cell_type": "code",
   "execution_count": 2,
   "metadata": {},
   "outputs": [],
   "source": [
    "# Read data from folder\n",
    "# Suggestion: Just do one year at one time. One year's table has 94363502 rows(green)\n",
    "YEARLIST = c('19')\n",
    "MONTHlIST = c(\"04\") #FOR FULL TABLE\n",
    "DISTANCE_FILEPATH = \"../../data/raw/vehicle-location/\""
   ]
  },
  {
   "cell_type": "code",
   "execution_count": 3,
   "metadata": {},
   "outputs": [],
   "source": [
    "# aggregrate_trajectory_table\n",
    "aggregate_line_trajectories = function(year, month){\n",
    "    assign(\"dg\", fread(paste(DISTANCE_FILEPATH, paste(\"lightrail\", \"trajectories\", month, year, \".csv\", sep = \"-\", collapse = \"\"), sep=\"\")))\n",
    "    assign(\"dh\", fread(paste(DISTANCE_FILEPATH, paste(\"heavyrail\", \"trajectories\", month, year, \".csv\", sep = \"-\", collapse = \"\"), sep=\"\")))\n",
    "    # Combine the original tables to a single one for analysis\n",
    "    dg = subset(dg, select = c(trxtime, trainid, lineid, lat, lon))\n",
    "    dh = subset(dh, select = c(trxtime, trainid, lineid, lat, lon))\n",
    "    df = rbind(dg, dh)\n",
    "    return(df)\n",
    "}"
   ]
  },
  {
   "cell_type": "code",
   "execution_count": 4,
   "metadata": {},
   "outputs": [],
   "source": [
    "df = aggregate_line_trajectories(YEARLIST,MONTHlIST)"
   ]
  },
  {
   "cell_type": "code",
   "execution_count": 5,
   "metadata": {
    "collapsed": true,
    "jupyter": {
     "outputs_hidden": true
    }
   },
   "outputs": [
    {
     "data": {
      "text/html": [
       "<table class=\"dataframe\">\n",
       "<caption>A data.table: 6 × 5</caption>\n",
       "<thead>\n",
       "\t<tr><th scope=col>trxtime</th><th scope=col>trainid</th><th scope=col>lineid</th><th scope=col>lat</th><th scope=col>lon</th></tr>\n",
       "\t<tr><th scope=col>&lt;chr&gt;</th><th scope=col>&lt;int&gt;</th><th scope=col>&lt;int&gt;</th><th scope=col>&lt;dbl&gt;</th><th scope=col>&lt;dbl&gt;</th></tr>\n",
       "</thead>\n",
       "<tbody>\n",
       "\t<tr><td>2019-04-18 02:00:03</td><td>10404</td><td>4</td><td>42.33680</td><td>-71.25352</td></tr>\n",
       "\t<tr><td>2019-04-18 02:00:03</td><td>10404</td><td>4</td><td>42.33668</td><td>-71.25398</td></tr>\n",
       "\t<tr><td>2019-04-18 02:00:03</td><td>10404</td><td>4</td><td>42.33658</td><td>-71.25367</td></tr>\n",
       "\t<tr><td>2019-04-18 02:00:04</td><td>10358</td><td>4</td><td>42.33658</td><td>-71.25367</td></tr>\n",
       "\t<tr><td>2019-04-18 02:00:04</td><td>10358</td><td>4</td><td>42.33645</td><td>-71.25413</td></tr>\n",
       "\t<tr><td>2019-04-18 02:00:04</td><td>10358</td><td>4</td><td>42.33635</td><td>-71.25379</td></tr>\n",
       "</tbody>\n",
       "</table>\n"
      ],
      "text/latex": [
       "A data.table: 6 × 5\n",
       "\\begin{tabular}{lllll}\n",
       " trxtime & trainid & lineid & lat & lon\\\\\n",
       " <chr> & <int> & <int> & <dbl> & <dbl>\\\\\n",
       "\\hline\n",
       "\t 2019-04-18 02:00:03 & 10404 & 4 & 42.33680 & -71.25352\\\\\n",
       "\t 2019-04-18 02:00:03 & 10404 & 4 & 42.33668 & -71.25398\\\\\n",
       "\t 2019-04-18 02:00:03 & 10404 & 4 & 42.33658 & -71.25367\\\\\n",
       "\t 2019-04-18 02:00:04 & 10358 & 4 & 42.33658 & -71.25367\\\\\n",
       "\t 2019-04-18 02:00:04 & 10358 & 4 & 42.33645 & -71.25413\\\\\n",
       "\t 2019-04-18 02:00:04 & 10358 & 4 & 42.33635 & -71.25379\\\\\n",
       "\\end{tabular}\n"
      ],
      "text/markdown": [
       "\n",
       "A data.table: 6 × 5\n",
       "\n",
       "| trxtime &lt;chr&gt; | trainid &lt;int&gt; | lineid &lt;int&gt; | lat &lt;dbl&gt; | lon &lt;dbl&gt; |\n",
       "|---|---|---|---|---|\n",
       "| 2019-04-18 02:00:03 | 10404 | 4 | 42.33680 | -71.25352 |\n",
       "| 2019-04-18 02:00:03 | 10404 | 4 | 42.33668 | -71.25398 |\n",
       "| 2019-04-18 02:00:03 | 10404 | 4 | 42.33658 | -71.25367 |\n",
       "| 2019-04-18 02:00:04 | 10358 | 4 | 42.33658 | -71.25367 |\n",
       "| 2019-04-18 02:00:04 | 10358 | 4 | 42.33645 | -71.25413 |\n",
       "| 2019-04-18 02:00:04 | 10358 | 4 | 42.33635 | -71.25379 |\n",
       "\n"
      ],
      "text/plain": [
       "  trxtime             trainid lineid lat      lon      \n",
       "1 2019-04-18 02:00:03 10404   4      42.33680 -71.25352\n",
       "2 2019-04-18 02:00:03 10404   4      42.33668 -71.25398\n",
       "3 2019-04-18 02:00:03 10404   4      42.33658 -71.25367\n",
       "4 2019-04-18 02:00:04 10358   4      42.33658 -71.25367\n",
       "5 2019-04-18 02:00:04 10358   4      42.33645 -71.25413\n",
       "6 2019-04-18 02:00:04 10358   4      42.33635 -71.25379"
      ]
     },
     "metadata": {},
     "output_type": "display_data"
    }
   ],
   "source": [
    "head(df)"
   ]
  },
  {
   "cell_type": "markdown",
   "metadata": {},
   "source": [
    "## Data preprocessing"
   ]
  },
  {
   "cell_type": "code",
   "execution_count": 6,
   "metadata": {},
   "outputs": [],
   "source": [
    "# Data preprocessing\n",
    "preprocess_data = function(df){\n",
    "    # Add time column to do analysis by random time scale\n",
    "    df$day = day(df$trxtime)\n",
    "    df$month = month(df$trxtime)\n",
    "    df$year = year(df$trxtime)\n",
    "    # check the na values ratio\n",
    "    df_zero = df[df$lon == 0 | df$lat == 0,]\n",
    "    df_zero_rate = nrow(df_zero)/nrow(df)\n",
    "    print(df_zero_rate)\n",
    "    # remove the rows with values of lat and lon are 0/NA\n",
    "    df = df[!(is.na(df$lon)) | !(is.na(df$lat)),]\n",
    "    df = df[df$lon != 0 | df$lat != 0,]\n",
    "    df = df[order(df$trainid, df$trxtime),]\n",
    "    df = distinct(df, trxtime, trainid, .keep_all = TRUE) # Remove the duplicated time record\n",
    "    return(df)\n",
    "}"
   ]
  },
  {
   "cell_type": "code",
   "execution_count": 7,
   "metadata": {},
   "outputs": [
    {
     "name": "stdout",
     "output_type": "stream",
     "text": [
      "[1] 0.0008356593\n"
     ]
    }
   ],
   "source": [
    "df = preprocess_data(df)"
   ]
  },
  {
   "cell_type": "code",
   "execution_count": 8,
   "metadata": {},
   "outputs": [],
   "source": [
    "df_test = subset(df,day ==1 & trainid == 10001)"
   ]
  },
  {
   "cell_type": "markdown",
   "metadata": {},
   "source": [
    "### Smoothing methods"
   ]
  },
  {
   "cell_type": "code",
   "execution_count": null,
   "metadata": {},
   "outputs": [],
   "source": [
    "#df_test$dist_meters\n",
    "filter = robreg.filter(df_test_computed$dist_meters, width=10,online=TRUE,method= \"MED\")"
   ]
  },
  {
   "cell_type": "code",
   "execution_count": 63,
   "metadata": {},
   "outputs": [],
   "source": [
    "width = 10\n",
    "right.width = 10"
   ]
  },
  {
   "cell_type": "code",
   "execution_count": 51,
   "metadata": {},
   "outputs": [],
   "source": [
    "filter_wrm = wrm.filter(df_test_computed$dist_meters, width,weight.type = 1, del = floor(width/2), extrapolate = TRUE)"
   ]
  },
  {
   "cell_type": "code",
   "execution_count": 64,
   "metadata": {},
   "outputs": [
    {
     "name": "stderr",
     "output_type": "stream",
     "text": [
      "Warning message in scarm.filter(df_test_computed$dist_meters, right.width, min.left.width = right.width, :\n",
      "\"'min.width' must be an integer >=5; 'min.width' is set to 5.\n",
      "\"\n"
     ]
    }
   ],
   "source": [
    "filter_scarm = scarm.filter(df_test_computed$dist_meters,right.width, min.left.width=right.width,\n",
    "min.width=floor(right.width/3), max.width=200,sign.level=0.001, bound.noise.sd=0.01, rtr=TRUE,autocorrelations=\"automatic\")"
   ]
  },
  {
   "cell_type": "code",
   "execution_count": 70,
   "metadata": {},
   "outputs": [
    {
     "name": "stdout",
     "output_type": "stream",
     "text": [
      "1 out of 255 time series values in y are missing. \n"
     ]
    }
   ],
   "source": [
    "filter_rmfilter = rm.filter(df_test_computed$dist_meters, width, minNonNAs = 5, online = FALSE, extrapolate = TRUE)"
   ]
  },
  {
   "cell_type": "code",
   "execution_count": 71,
   "metadata": {
    "collapsed": true,
    "jupyter": {
     "outputs_hidden": true
    }
   },
   "outputs": [
    {
     "data": {
      "text/html": [
       "<table class=\"dataframe\">\n",
       "<caption>A data.frame: 255 × 1</caption>\n",
       "<thead>\n",
       "\t<tr><th></th><th scope=col>RM</th></tr>\n",
       "\t<tr><th></th><th scope=col>&lt;dbl&gt;</th></tr>\n",
       "</thead>\n",
       "<tbody>\n",
       "\t<tr><th scope=row>1</th><td>20.55303</td></tr>\n",
       "\t<tr><th scope=row>2</th><td>20.55303</td></tr>\n",
       "\t<tr><th scope=row>3</th><td>20.55303</td></tr>\n",
       "\t<tr><th scope=row>4</th><td>20.55303</td></tr>\n",
       "\t<tr><th scope=row>5</th><td>20.55303</td></tr>\n",
       "\t<tr><th scope=row>6</th><td>20.55303</td></tr>\n",
       "\t<tr><th scope=row>7</th><td>20.55303</td></tr>\n",
       "\t<tr><th scope=row>8</th><td>20.55303</td></tr>\n",
       "\t<tr><th scope=row>9</th><td>20.55303</td></tr>\n",
       "\t<tr><th scope=row>10</th><td>20.55303</td></tr>\n",
       "\t<tr><th scope=row>11</th><td>20.55303</td></tr>\n",
       "\t<tr><th scope=row>12</th><td>20.55303</td></tr>\n",
       "\t<tr><th scope=row>13</th><td>20.55303</td></tr>\n",
       "\t<tr><th scope=row>14</th><td>20.55303</td></tr>\n",
       "\t<tr><th scope=row>15</th><td>24.92979</td></tr>\n",
       "\t<tr><th scope=row>16</th><td>24.97481</td></tr>\n",
       "\t<tr><th scope=row>17</th><td>32.21275</td></tr>\n",
       "\t<tr><th scope=row>18</th><td>51.69176</td></tr>\n",
       "\t<tr><th scope=row>19</th><td>51.09205</td></tr>\n",
       "\t<tr><th scope=row>20</th><td>55.32952</td></tr>\n",
       "\t<tr><th scope=row>21</th><td>62.60328</td></tr>\n",
       "\t<tr><th scope=row>22</th><td>62.34638</td></tr>\n",
       "\t<tr><th scope=row>23</th><td>62.33487</td></tr>\n",
       "\t<tr><th scope=row>24</th><td>61.54149</td></tr>\n",
       "\t<tr><th scope=row>25</th><td>61.75429</td></tr>\n",
       "\t<tr><th scope=row>26</th><td>60.73660</td></tr>\n",
       "\t<tr><th scope=row>27</th><td>61.88823</td></tr>\n",
       "\t<tr><th scope=row>28</th><td>62.44344</td></tr>\n",
       "\t<tr><th scope=row>29</th><td>63.55543</td></tr>\n",
       "\t<tr><th scope=row>30</th><td>63.83117</td></tr>\n",
       "\t<tr><th scope=row>...</th><td>...</td></tr>\n",
       "\t<tr><th scope=row>226</th><td>121.02627</td></tr>\n",
       "\t<tr><th scope=row>227</th><td>134.21688</td></tr>\n",
       "\t<tr><th scope=row>228</th><td> 69.40328</td></tr>\n",
       "\t<tr><th scope=row>229</th><td>113.01963</td></tr>\n",
       "\t<tr><th scope=row>230</th><td> 77.39693</td></tr>\n",
       "\t<tr><th scope=row>231</th><td>186.23601</td></tr>\n",
       "\t<tr><th scope=row>232</th><td>258.85468</td></tr>\n",
       "\t<tr><th scope=row>233</th><td>183.31696</td></tr>\n",
       "\t<tr><th scope=row>234</th><td>204.03775</td></tr>\n",
       "\t<tr><th scope=row>235</th><td>142.60099</td></tr>\n",
       "\t<tr><th scope=row>236</th><td>232.83749</td></tr>\n",
       "\t<tr><th scope=row>237</th><td>183.34249</td></tr>\n",
       "\t<tr><th scope=row>238</th><td>183.16225</td></tr>\n",
       "\t<tr><th scope=row>239</th><td>162.40978</td></tr>\n",
       "\t<tr><th scope=row>240</th><td>142.27455</td></tr>\n",
       "\t<tr><th scope=row>241</th><td>102.25928</td></tr>\n",
       "\t<tr><th scope=row>242</th><td> 95.86295</td></tr>\n",
       "\t<tr><th scope=row>243</th><td> 54.59981</td></tr>\n",
       "\t<tr><th scope=row>244</th><td> 80.58013</td></tr>\n",
       "\t<tr><th scope=row>245</th><td> 53.52643</td></tr>\n",
       "\t<tr><th scope=row>246</th><td> 52.40236</td></tr>\n",
       "\t<tr><th scope=row>247</th><td> 99.67762</td></tr>\n",
       "\t<tr><th scope=row>248</th><td>138.05704</td></tr>\n",
       "\t<tr><th scope=row>249</th><td>147.66232</td></tr>\n",
       "\t<tr><th scope=row>250</th><td>148.62568</td></tr>\n",
       "\t<tr><th scope=row>251</th><td>118.89917</td></tr>\n",
       "\t<tr><th scope=row>252</th><td>136.54103</td></tr>\n",
       "\t<tr><th scope=row>253</th><td>154.18289</td></tr>\n",
       "\t<tr><th scope=row>254</th><td>171.82475</td></tr>\n",
       "\t<tr><th scope=row>255</th><td>189.46660</td></tr>\n",
       "</tbody>\n",
       "</table>\n"
      ],
      "text/latex": [
       "A data.frame: 255 × 1\n",
       "\\begin{tabular}{r|l}\n",
       "  & RM\\\\\n",
       "  & <dbl>\\\\\n",
       "\\hline\n",
       "\t1 & 20.55303\\\\\n",
       "\t2 & 20.55303\\\\\n",
       "\t3 & 20.55303\\\\\n",
       "\t4 & 20.55303\\\\\n",
       "\t5 & 20.55303\\\\\n",
       "\t6 & 20.55303\\\\\n",
       "\t7 & 20.55303\\\\\n",
       "\t8 & 20.55303\\\\\n",
       "\t9 & 20.55303\\\\\n",
       "\t10 & 20.55303\\\\\n",
       "\t11 & 20.55303\\\\\n",
       "\t12 & 20.55303\\\\\n",
       "\t13 & 20.55303\\\\\n",
       "\t14 & 20.55303\\\\\n",
       "\t15 & 24.92979\\\\\n",
       "\t16 & 24.97481\\\\\n",
       "\t17 & 32.21275\\\\\n",
       "\t18 & 51.69176\\\\\n",
       "\t19 & 51.09205\\\\\n",
       "\t20 & 55.32952\\\\\n",
       "\t21 & 62.60328\\\\\n",
       "\t22 & 62.34638\\\\\n",
       "\t23 & 62.33487\\\\\n",
       "\t24 & 61.54149\\\\\n",
       "\t25 & 61.75429\\\\\n",
       "\t26 & 60.73660\\\\\n",
       "\t27 & 61.88823\\\\\n",
       "\t28 & 62.44344\\\\\n",
       "\t29 & 63.55543\\\\\n",
       "\t30 & 63.83117\\\\\n",
       "\t... & ...\\\\\n",
       "\t226 & 121.02627\\\\\n",
       "\t227 & 134.21688\\\\\n",
       "\t228 &  69.40328\\\\\n",
       "\t229 & 113.01963\\\\\n",
       "\t230 &  77.39693\\\\\n",
       "\t231 & 186.23601\\\\\n",
       "\t232 & 258.85468\\\\\n",
       "\t233 & 183.31696\\\\\n",
       "\t234 & 204.03775\\\\\n",
       "\t235 & 142.60099\\\\\n",
       "\t236 & 232.83749\\\\\n",
       "\t237 & 183.34249\\\\\n",
       "\t238 & 183.16225\\\\\n",
       "\t239 & 162.40978\\\\\n",
       "\t240 & 142.27455\\\\\n",
       "\t241 & 102.25928\\\\\n",
       "\t242 &  95.86295\\\\\n",
       "\t243 &  54.59981\\\\\n",
       "\t244 &  80.58013\\\\\n",
       "\t245 &  53.52643\\\\\n",
       "\t246 &  52.40236\\\\\n",
       "\t247 &  99.67762\\\\\n",
       "\t248 & 138.05704\\\\\n",
       "\t249 & 147.66232\\\\\n",
       "\t250 & 148.62568\\\\\n",
       "\t251 & 118.89917\\\\\n",
       "\t252 & 136.54103\\\\\n",
       "\t253 & 154.18289\\\\\n",
       "\t254 & 171.82475\\\\\n",
       "\t255 & 189.46660\\\\\n",
       "\\end{tabular}\n"
      ],
      "text/markdown": [
       "\n",
       "A data.frame: 255 × 1\n",
       "\n",
       "| <!--/--> | RM &lt;dbl&gt; |\n",
       "|---|---|\n",
       "| 1 | 20.55303 |\n",
       "| 2 | 20.55303 |\n",
       "| 3 | 20.55303 |\n",
       "| 4 | 20.55303 |\n",
       "| 5 | 20.55303 |\n",
       "| 6 | 20.55303 |\n",
       "| 7 | 20.55303 |\n",
       "| 8 | 20.55303 |\n",
       "| 9 | 20.55303 |\n",
       "| 10 | 20.55303 |\n",
       "| 11 | 20.55303 |\n",
       "| 12 | 20.55303 |\n",
       "| 13 | 20.55303 |\n",
       "| 14 | 20.55303 |\n",
       "| 15 | 24.92979 |\n",
       "| 16 | 24.97481 |\n",
       "| 17 | 32.21275 |\n",
       "| 18 | 51.69176 |\n",
       "| 19 | 51.09205 |\n",
       "| 20 | 55.32952 |\n",
       "| 21 | 62.60328 |\n",
       "| 22 | 62.34638 |\n",
       "| 23 | 62.33487 |\n",
       "| 24 | 61.54149 |\n",
       "| 25 | 61.75429 |\n",
       "| 26 | 60.73660 |\n",
       "| 27 | 61.88823 |\n",
       "| 28 | 62.44344 |\n",
       "| 29 | 63.55543 |\n",
       "| 30 | 63.83117 |\n",
       "| ... | ... |\n",
       "| 226 | 121.02627 |\n",
       "| 227 | 134.21688 |\n",
       "| 228 |  69.40328 |\n",
       "| 229 | 113.01963 |\n",
       "| 230 |  77.39693 |\n",
       "| 231 | 186.23601 |\n",
       "| 232 | 258.85468 |\n",
       "| 233 | 183.31696 |\n",
       "| 234 | 204.03775 |\n",
       "| 235 | 142.60099 |\n",
       "| 236 | 232.83749 |\n",
       "| 237 | 183.34249 |\n",
       "| 238 | 183.16225 |\n",
       "| 239 | 162.40978 |\n",
       "| 240 | 142.27455 |\n",
       "| 241 | 102.25928 |\n",
       "| 242 |  95.86295 |\n",
       "| 243 |  54.59981 |\n",
       "| 244 |  80.58013 |\n",
       "| 245 |  53.52643 |\n",
       "| 246 |  52.40236 |\n",
       "| 247 |  99.67762 |\n",
       "| 248 | 138.05704 |\n",
       "| 249 | 147.66232 |\n",
       "| 250 | 148.62568 |\n",
       "| 251 | 118.89917 |\n",
       "| 252 | 136.54103 |\n",
       "| 253 | 154.18289 |\n",
       "| 254 | 171.82475 |\n",
       "| 255 | 189.46660 |\n",
       "\n"
      ],
      "text/plain": [
       "    RM       \n",
       "1   20.55303 \n",
       "2   20.55303 \n",
       "3   20.55303 \n",
       "4   20.55303 \n",
       "5   20.55303 \n",
       "6   20.55303 \n",
       "7   20.55303 \n",
       "8   20.55303 \n",
       "9   20.55303 \n",
       "10  20.55303 \n",
       "11  20.55303 \n",
       "12  20.55303 \n",
       "13  20.55303 \n",
       "14  20.55303 \n",
       "15  24.92979 \n",
       "16  24.97481 \n",
       "17  32.21275 \n",
       "18  51.69176 \n",
       "19  51.09205 \n",
       "20  55.32952 \n",
       "21  62.60328 \n",
       "22  62.34638 \n",
       "23  62.33487 \n",
       "24  61.54149 \n",
       "25  61.75429 \n",
       "26  60.73660 \n",
       "27  61.88823 \n",
       "28  62.44344 \n",
       "29  63.55543 \n",
       "30  63.83117 \n",
       "... ...      \n",
       "226 121.02627\n",
       "227 134.21688\n",
       "228  69.40328\n",
       "229 113.01963\n",
       "230  77.39693\n",
       "231 186.23601\n",
       "232 258.85468\n",
       "233 183.31696\n",
       "234 204.03775\n",
       "235 142.60099\n",
       "236 232.83749\n",
       "237 183.34249\n",
       "238 183.16225\n",
       "239 162.40978\n",
       "240 142.27455\n",
       "241 102.25928\n",
       "242  95.86295\n",
       "243  54.59981\n",
       "244  80.58013\n",
       "245  53.52643\n",
       "246  52.40236\n",
       "247  99.67762\n",
       "248 138.05704\n",
       "249 147.66232\n",
       "250 148.62568\n",
       "251 118.89917\n",
       "252 136.54103\n",
       "253 154.18289\n",
       "254 171.82475\n",
       "255 189.46660"
      ]
     },
     "metadata": {},
     "output_type": "display_data"
    }
   ],
   "source": [
    "filter_rmfilter$level"
   ]
  },
  {
   "cell_type": "markdown",
   "metadata": {},
   "source": [
    "### test esult"
   ]
  },
  {
   "cell_type": "code",
   "execution_count": 72,
   "metadata": {},
   "outputs": [],
   "source": [
    "d1 = df_test_computed\n",
    "d1$dist_meters = filter_rmfilter$level$RM\n",
    "d1_speed_accel = compute_speed_acceleration(d1)"
   ]
  },
  {
   "cell_type": "code",
   "execution_count": 75,
   "metadata": {},
   "outputs": [
    {
     "name": "stderr",
     "output_type": "stream",
     "text": [
      "Warning message in as.POSIXlt.POSIXct(x):\n",
      "\"unknown timezone '%Y:%M:%D:%H:%M:%S'\"\n",
      "Warning message in as.POSIXct.POSIXlt(from):\n",
      "\"unknown timezone '%Y:%M:%D:%H:%M:%S'\"\n",
      "Warning message in as.POSIXct.POSIXlt(from):\n",
      "\"unknown timezone '%Y:%M:%D:%H:%M:%S'\"\n",
      "Warning message in as.POSIXlt.POSIXct(x, tz):\n",
      "\"unknown timezone '%Y:%M:%D:%H:%M:%S'\"\n",
      "Warning message in as.POSIXlt.POSIXct(x):\n",
      "\"unknown timezone '%Y:%M:%D:%H:%M:%S'\"\n",
      "Warning message in as.POSIXct.POSIXlt(from):\n",
      "\"unknown timezone '%Y:%M:%D:%H:%M:%S'\"\n",
      "Warning message in as.POSIXct.POSIXlt(from):\n",
      "\"unknown timezone '%Y:%M:%D:%H:%M:%S'\"\n",
      "Warning message in as.POSIXlt.POSIXct(x, tz):\n",
      "\"unknown timezone '%Y:%M:%D:%H:%M:%S'\"\n",
      "Warning message in as.POSIXlt.POSIXct(x):\n",
      "\"unknown timezone '%Y:%M:%D:%H:%M:%S'\"\n",
      "Warning message in as.POSIXct.POSIXlt(from):\n",
      "\"unknown timezone '%Y:%M:%D:%H:%M:%S'\"\n",
      "Warning message in as.POSIXct.POSIXlt(from):\n",
      "\"unknown timezone '%Y:%M:%D:%H:%M:%S'\"\n",
      "Warning message in as.POSIXlt.POSIXct(x, tz):\n",
      "\"unknown timezone '%Y:%M:%D:%H:%M:%S'\"\n",
      "Warning message in as.POSIXlt.POSIXct(x):\n",
      "\"unknown timezone '%Y:%M:%D:%H:%M:%S'\"\n",
      "Warning message in as.POSIXct.POSIXlt(from):\n",
      "\"unknown timezone '%Y:%M:%D:%H:%M:%S'\"\n",
      "Warning message in as.POSIXct.POSIXlt(from):\n",
      "\"unknown timezone '%Y:%M:%D:%H:%M:%S'\"\n",
      "Warning message in as.POSIXlt.POSIXct(x, tz):\n",
      "\"unknown timezone '%Y:%M:%D:%H:%M:%S'\"\n",
      "Warning message:\n",
      "\"Removed 1 row(s) containing missing values (geom_path).\"\n",
      "Warning message in as.POSIXlt.POSIXct(x):\n",
      "\"unknown timezone '%Y:%M:%D:%H:%M:%S'\"\n",
      "Warning message in as.POSIXct.POSIXlt(from):\n",
      "\"unknown timezone '%Y:%M:%D:%H:%M:%S'\"\n",
      "Warning message in as.POSIXct.POSIXlt(from):\n",
      "\"unknown timezone '%Y:%M:%D:%H:%M:%S'\"\n",
      "Warning message in as.POSIXlt.POSIXct(x, tz):\n",
      "\"unknown timezone '%Y:%M:%D:%H:%M:%S'\"\n",
      "Warning message in as.POSIXlt.POSIXct(x):\n",
      "\"unknown timezone '%Y:%M:%D:%H:%M:%S'\"\n",
      "Warning message in as.POSIXct.POSIXlt(from):\n",
      "\"unknown timezone '%Y:%M:%D:%H:%M:%S'\"\n",
      "Warning message in as.POSIXct.POSIXlt(from):\n",
      "\"unknown timezone '%Y:%M:%D:%H:%M:%S'\"\n",
      "Warning message in as.POSIXlt.POSIXct(x, tz):\n",
      "\"unknown timezone '%Y:%M:%D:%H:%M:%S'\"\n",
      "Warning message:\n",
      "\"Removed 2 row(s) containing missing values (geom_path).\"\n",
      "Warning message in as.POSIXlt.POSIXct(x):\n",
      "\"unknown timezone '%Y:%M:%D:%H:%M:%S'\"\n",
      "Warning message in as.POSIXct.POSIXlt(from):\n",
      "\"unknown timezone '%Y:%M:%D:%H:%M:%S'\"\n",
      "Warning message in as.POSIXct.POSIXlt(from):\n",
      "\"unknown timezone '%Y:%M:%D:%H:%M:%S'\"\n",
      "Warning message in as.POSIXlt.POSIXct(x, tz):\n",
      "\"unknown timezone '%Y:%M:%D:%H:%M:%S'\"\n",
      "Warning message in as.POSIXlt.POSIXct(x):\n",
      "\"unknown timezone '%Y:%M:%D:%H:%M:%S'\"\n",
      "Warning message in as.POSIXct.POSIXlt(from):\n",
      "\"unknown timezone '%Y:%M:%D:%H:%M:%S'\"\n",
      "Warning message in as.POSIXct.POSIXlt(from):\n",
      "\"unknown timezone '%Y:%M:%D:%H:%M:%S'\"\n",
      "Warning message in as.POSIXlt.POSIXct(x, tz):\n",
      "\"unknown timezone '%Y:%M:%D:%H:%M:%S'\"\n",
      "Warning message:\n",
      "\"Removed 1 row(s) containing missing values (geom_path).\"\n"
     ]
    },
    {
     "data": {
      "image/png": "[encoded data removed]",
      "text/plain": [
       "plot without title"
      ]
     },
     "metadata": {
      "image/png": {
       "height": 600,
       "width": 300
      }
     },
     "output_type": "display_data"
    }
   ],
   "source": [
    "p6 = ggplot(d1_speed_accel) + \n",
    " geom_line(aes(x = time, y=dist_meters),size = 1,alpha = 0.4) +\n",
    "theme(axis.text=element_text(size = 12),axis.title.x = element_text(size = 20),axis.title.y = element_text(size = 20),title= element_text(size = 20))+\n",
    " labs(y = \"distance (meters)\", x = \"time\")\n",
    "p7 =  ggplot(d1_speed_accel) + \n",
    " geom_line(aes(x = time, y=speed_kph),size = 1,alpha = 0.4) +\n",
    "theme(axis.text=element_text(size = 12),axis.title.x = element_text(size = 20),axis.title.y = element_text(size = 20),title= element_text(size = 20))+\n",
    " labs( y = \"speed(kph)\", x = \"time\")\n",
    "p8 = ggplot(d1_speed_accel) + \n",
    " geom_line(aes(x = time, y=accel_mps2),size = 1,alpha = 0.4) +\n",
    "theme(axis.text=element_text(size = 12),axis.title.x = element_text(size = 20),axis.title.y = element_text(size = 20),title= element_text(size = 20))+\n",
    " labs(y = \"acceleration(mps2)\", x = \"time\")\n",
    "p9 = ggplot(d1_speed_accel) + \n",
    " geom_line(aes(x = time, y=interval_seconds),size = 1,alpha = 0.4) +\n",
    "theme(axis.text=element_text(size = 12),axis.title.x = element_text(size = 20),axis.title.y = element_text(size = 20),title= element_text(size = 20))+\n",
    " labs(y = \"interval_seconds\", x = \"time\")\n",
    "options(repr.plot.width = 5, repr.plot.height = 10)\n",
    "grid.arrange(p6, p7, p8, p9, ncol=1, nrow=4,top =\"Repeated Median filter\")"
   ]
  },
  {
   "cell_type": "markdown",
   "metadata": {},
   "source": [
    "### Day 1 10001 test"
   ]
  },
  {
   "cell_type": "code",
   "execution_count": 9,
   "metadata": {},
   "outputs": [],
   "source": [
    "compute_distance <- function(d) {\n",
    "    d = data.frame(d)\n",
    "    d$dist_meters = NA\n",
    "    d$dist_meters = as.numeric(d$dist_meters)\n",
    "    d$interval_seconds = NA\n",
    "    d$interval_seconds = as.numeric(d$interval_seconds)\n",
    "    n <- nrow(d)\n",
    "    if (n >= 2) {\n",
    "        # Compute interval distance using Haversine function\n",
    "        d$dist_meters[2:n] = distHaversine(cbind(d$lon[1:n-1],d$lat[1:n-1]),cbind(d$lon[2:n],d$lat[2:n]))\n",
    "        # Compute time interval\n",
    "        d$interval_seconds[2:n] = as.numeric(difftime(d$trxtime[2:n], d$trxtime[1:n-1], units = \"secs\"))\n",
    "        }\n",
    "    return(d)\n",
    "}"
   ]
  },
  {
   "cell_type": "code",
   "execution_count": 10,
   "metadata": {},
   "outputs": [],
   "source": [
    "compute_speed_acceleration <- function(d) {\n",
    "    d = data.frame(d)\n",
    "    d$speed_mps = NA\n",
    "    d$speed_mps = as.numeric(d$speed_mps)\n",
    "    d$speed_kph = NA\n",
    "    d$speed_kph = as.numeric(d$speed_kph)\n",
    "    d$accel_mps2 = NA\n",
    "    d$accel_mps2 = as.numeric(d$accel_mps2)\n",
    "    n <- nrow(d)\n",
    "    if (n >= 2) {\n",
    "        d$speed_mps[2:n] = d$dist_meters[2:n] / d$interval_seconds[2:n]\n",
    "        # Convert speed to kph\n",
    "        d$speed_kph[2:n] = d$speed_mps[2:n] * 3.6\n",
    "        d$accel_mps2[2:n] = (d$speed_mps[2:n] - d$speed_mps[1:n-1])/d$interval_seconds[2:n]\n",
    "        }\n",
    "    return(d)\n",
    "}       "
   ]
  },
  {
   "cell_type": "code",
   "execution_count": 42,
   "metadata": {},
   "outputs": [],
   "source": [
    "d1_speed_accel = compute_speed_acceleration(d1)"
   ]
  },
  {
   "cell_type": "code",
   "execution_count": 11,
   "metadata": {},
   "outputs": [],
   "source": [
    "df_test_computed  = compute_distance(df_test)\n",
    "df_test_computed = compute_speed_acceleration(df_test_computed)"
   ]
  },
  {
   "cell_type": "code",
   "execution_count": 12,
   "metadata": {
    "collapsed": true,
    "jupyter": {
     "outputs_hidden": true
    }
   },
   "outputs": [
    {
     "name": "stderr",
     "output_type": "stream",
     "text": [
      "Warning message in strptime(xx, f, tz = tz):\n",
      "\"unknown timezone '%Y:%M:%D:%H:%M:%S'\"\n",
      "Warning message in as.POSIXct.POSIXlt(x):\n",
      "\"unknown timezone '%Y:%M:%D:%H:%M:%S'\"\n",
      "Warning message in strptime(x, f, tz = tz):\n",
      "\"unknown timezone '%Y:%M:%D:%H:%M:%S'\"\n",
      "Warning message in as.POSIXct.POSIXlt(as.POSIXlt(x, tz, ...), tz, ...):\n",
      "\"unknown timezone '%Y:%M:%D:%H:%M:%S'\"\n"
     ]
    }
   ],
   "source": [
    "df_test_computed$time = as.POSIXct(df_test_computed$trxtime,\"%Y:%M:%D:%H:%M:%S\")"
   ]
  },
  {
   "cell_type": "code",
   "execution_count": 14,
   "metadata": {},
   "outputs": [
    {
     "name": "stdout",
     "output_type": "stream",
     "text": [
      "1 out of 255 time series values in df_test_computed$dist_meters are missing. \n"
     ]
    }
   ],
   "source": [
    "#df_test$dist_meters\n",
    "filter = robreg.filter(df_test_computed$dist_meters, width=10,online=TRUE,method= \"MED\")"
   ]
  },
  {
   "cell_type": "code",
   "execution_count": 23,
   "metadata": {},
   "outputs": [],
   "source": [
    "d1 = df_test_computed"
   ]
  },
  {
   "cell_type": "code",
   "execution_count": 25,
   "metadata": {
    "collapsed": true,
    "jupyter": {
     "outputs_hidden": true
    }
   },
   "outputs": [
    {
     "name": "stderr",
     "output_type": "stream",
     "text": [
      "Warning message in as.POSIXlt.POSIXct(x, tz):\n",
      "\"unknown timezone '%Y:%M:%D:%H:%M:%S'\"\n",
      "Warning message in as.POSIXlt.POSIXct(x, tz):\n",
      "\"unknown timezone '%Y:%M:%D:%H:%M:%S'\"\n",
      "Warning message in as.POSIXlt.POSIXct(x, tz):\n",
      "\"unknown timezone '%Y:%M:%D:%H:%M:%S'\"\n",
      "Warning message in as.POSIXlt.POSIXct(x, tz):\n",
      "\"unknown timezone '%Y:%M:%D:%H:%M:%S'\"\n"
     ]
    },
    {
     "data": {
      "text/html": [
       "<table class=\"dataframe\">\n",
       "<caption>A data.frame: 6 × 14</caption>\n",
       "<thead>\n",
       "\t<tr><th></th><th scope=col>trxtime</th><th scope=col>trainid</th><th scope=col>lineid</th><th scope=col>lat</th><th scope=col>lon</th><th scope=col>day</th><th scope=col>month</th><th scope=col>year</th><th scope=col>dist_meters</th><th scope=col>interval_seconds</th><th scope=col>speed_mps</th><th scope=col>speed_kph</th><th scope=col>accel_mps2</th><th scope=col>time</th></tr>\n",
       "\t<tr><th></th><th scope=col>&lt;chr&gt;</th><th scope=col>&lt;int&gt;</th><th scope=col>&lt;int&gt;</th><th scope=col>&lt;dbl&gt;</th><th scope=col>&lt;dbl&gt;</th><th scope=col>&lt;int&gt;</th><th scope=col>&lt;dbl&gt;</th><th scope=col>&lt;dbl&gt;</th><th scope=col>&lt;dbl&gt;</th><th scope=col>&lt;dbl&gt;</th><th scope=col>&lt;dbl&gt;</th><th scope=col>&lt;dbl&gt;</th><th scope=col>&lt;dbl&gt;</th><th scope=col>&lt;dttm&gt;</th></tr>\n",
       "</thead>\n",
       "<tbody>\n",
       "\t<tr><th scope=row>1</th><td>2019-04-01 04:02:25</td><td>10001</td><td>4</td><td>42.33701</td><td>-71.25349</td><td>1</td><td>4</td><td>2019</td><td>20.55303</td><td> NA</td><td>        NA</td><td>        NA</td><td>           NA</td><td>2019-04-01 04:02:25</td></tr>\n",
       "\t<tr><th scope=row>2</th><td>2019-04-01 04:02:37</td><td>10001</td><td>4</td><td>42.33710</td><td>-71.25371</td><td>1</td><td>4</td><td>2019</td><td>20.55303</td><td> 12</td><td>1.71275229</td><td>6.16590825</td><td>           NA</td><td>2019-04-01 04:02:37</td></tr>\n",
       "\t<tr><th scope=row>3</th><td>2019-04-01 04:11:44</td><td>10001</td><td>4</td><td>42.33701</td><td>-71.25349</td><td>1</td><td>4</td><td>2019</td><td>20.55303</td><td>547</td><td>0.03757409</td><td>0.13526673</td><td>-3.062483e-03</td><td>2019-04-01 04:11:44</td></tr>\n",
       "\t<tr><th scope=row>4</th><td>2019-04-01 04:27:21</td><td>10001</td><td>4</td><td>42.33710</td><td>-71.25371</td><td>1</td><td>4</td><td>2019</td><td>20.55303</td><td>937</td><td>0.02193493</td><td>0.07896574</td><td>-1.669068e-05</td><td>2019-04-01 04:27:21</td></tr>\n",
       "\t<tr><th scope=row>5</th><td>2019-04-01 04:28:46</td><td>10001</td><td>4</td><td>42.33701</td><td>-71.25349</td><td>1</td><td>4</td><td>2019</td><td>20.55303</td><td> 85</td><td>0.24180032</td><td>0.87048117</td><td> 2.586652e-03</td><td>2019-04-01 04:28:46</td></tr>\n",
       "\t<tr><th scope=row>6</th><td>2019-04-01 04:44:12</td><td>10001</td><td>4</td><td>42.33710</td><td>-71.25371</td><td>1</td><td>4</td><td>2019</td><td>20.55303</td><td>926</td><td>0.02219549</td><td>0.07990378</td><td>-2.371542e-04</td><td>2019-04-01 04:44:12</td></tr>\n",
       "</tbody>\n",
       "</table>\n"
      ],
      "text/latex": [
       "A data.frame: 6 × 14\n",
       "\\begin{tabular}{r|llllllllllllll}\n",
       "  & trxtime & trainid & lineid & lat & lon & day & month & year & dist\\_meters & interval\\_seconds & speed\\_mps & speed\\_kph & accel\\_mps2 & time\\\\\n",
       "  & <chr> & <int> & <int> & <dbl> & <dbl> & <int> & <dbl> & <dbl> & <dbl> & <dbl> & <dbl> & <dbl> & <dbl> & <dttm>\\\\\n",
       "\\hline\n",
       "\t1 & 2019-04-01 04:02:25 & 10001 & 4 & 42.33701 & -71.25349 & 1 & 4 & 2019 & 20.55303 &  NA &         NA &         NA &            NA & 2019-04-01 04:02:25\\\\\n",
       "\t2 & 2019-04-01 04:02:37 & 10001 & 4 & 42.33710 & -71.25371 & 1 & 4 & 2019 & 20.55303 &  12 & 1.71275229 & 6.16590825 &            NA & 2019-04-01 04:02:37\\\\\n",
       "\t3 & 2019-04-01 04:11:44 & 10001 & 4 & 42.33701 & -71.25349 & 1 & 4 & 2019 & 20.55303 & 547 & 0.03757409 & 0.13526673 & -3.062483e-03 & 2019-04-01 04:11:44\\\\\n",
       "\t4 & 2019-04-01 04:27:21 & 10001 & 4 & 42.33710 & -71.25371 & 1 & 4 & 2019 & 20.55303 & 937 & 0.02193493 & 0.07896574 & -1.669068e-05 & 2019-04-01 04:27:21\\\\\n",
       "\t5 & 2019-04-01 04:28:46 & 10001 & 4 & 42.33701 & -71.25349 & 1 & 4 & 2019 & 20.55303 &  85 & 0.24180032 & 0.87048117 &  2.586652e-03 & 2019-04-01 04:28:46\\\\\n",
       "\t6 & 2019-04-01 04:44:12 & 10001 & 4 & 42.33710 & -71.25371 & 1 & 4 & 2019 & 20.55303 & 926 & 0.02219549 & 0.07990378 & -2.371542e-04 & 2019-04-01 04:44:12\\\\\n",
       "\\end{tabular}\n"
      ],
      "text/markdown": [
       "\n",
       "A data.frame: 6 × 14\n",
       "\n",
       "| <!--/--> | trxtime &lt;chr&gt; | trainid &lt;int&gt; | lineid &lt;int&gt; | lat &lt;dbl&gt; | lon &lt;dbl&gt; | day &lt;int&gt; | month &lt;dbl&gt; | year &lt;dbl&gt; | dist_meters &lt;dbl&gt; | interval_seconds &lt;dbl&gt; | speed_mps &lt;dbl&gt; | speed_kph &lt;dbl&gt; | accel_mps2 &lt;dbl&gt; | time &lt;dttm&gt; |\n",
       "|---|---|---|---|---|---|---|---|---|---|---|---|---|---|---|\n",
       "| 1 | 2019-04-01 04:02:25 | 10001 | 4 | 42.33701 | -71.25349 | 1 | 4 | 2019 | 20.55303 |  NA |         NA |         NA |            NA | 2019-04-01 04:02:25 |\n",
       "| 2 | 2019-04-01 04:02:37 | 10001 | 4 | 42.33710 | -71.25371 | 1 | 4 | 2019 | 20.55303 |  12 | 1.71275229 | 6.16590825 |            NA | 2019-04-01 04:02:37 |\n",
       "| 3 | 2019-04-01 04:11:44 | 10001 | 4 | 42.33701 | -71.25349 | 1 | 4 | 2019 | 20.55303 | 547 | 0.03757409 | 0.13526673 | -3.062483e-03 | 2019-04-01 04:11:44 |\n",
       "| 4 | 2019-04-01 04:27:21 | 10001 | 4 | 42.33710 | -71.25371 | 1 | 4 | 2019 | 20.55303 | 937 | 0.02193493 | 0.07896574 | -1.669068e-05 | 2019-04-01 04:27:21 |\n",
       "| 5 | 2019-04-01 04:28:46 | 10001 | 4 | 42.33701 | -71.25349 | 1 | 4 | 2019 | 20.55303 |  85 | 0.24180032 | 0.87048117 |  2.586652e-03 | 2019-04-01 04:28:46 |\n",
       "| 6 | 2019-04-01 04:44:12 | 10001 | 4 | 42.33710 | -71.25371 | 1 | 4 | 2019 | 20.55303 | 926 | 0.02219549 | 0.07990378 | -2.371542e-04 | 2019-04-01 04:44:12 |\n",
       "\n"
      ],
      "text/plain": [
       "  trxtime             trainid lineid lat      lon       day month year\n",
       "1 2019-04-01 04:02:25 10001   4      42.33701 -71.25349 1   4     2019\n",
       "2 2019-04-01 04:02:37 10001   4      42.33710 -71.25371 1   4     2019\n",
       "3 2019-04-01 04:11:44 10001   4      42.33701 -71.25349 1   4     2019\n",
       "4 2019-04-01 04:27:21 10001   4      42.33710 -71.25371 1   4     2019\n",
       "5 2019-04-01 04:28:46 10001   4      42.33701 -71.25349 1   4     2019\n",
       "6 2019-04-01 04:44:12 10001   4      42.33710 -71.25371 1   4     2019\n",
       "  dist_meters interval_seconds speed_mps  speed_kph  accel_mps2   \n",
       "1 20.55303     NA                      NA         NA            NA\n",
       "2 20.55303     12              1.71275229 6.16590825            NA\n",
       "3 20.55303    547              0.03757409 0.13526673 -3.062483e-03\n",
       "4 20.55303    937              0.02193493 0.07896574 -1.669068e-05\n",
       "5 20.55303     85              0.24180032 0.87048117  2.586652e-03\n",
       "6 20.55303    926              0.02219549 0.07990378 -2.371542e-04\n",
       "  time               \n",
       "1 2019-04-01 04:02:25\n",
       "2 2019-04-01 04:02:37\n",
       "3 2019-04-01 04:11:44\n",
       "4 2019-04-01 04:27:21\n",
       "5 2019-04-01 04:28:46\n",
       "6 2019-04-01 04:44:12"
      ]
     },
     "metadata": {},
     "output_type": "display_data"
    }
   ],
   "source": [
    "head(d1)"
   ]
  },
  {
   "cell_type": "code",
   "execution_count": 28,
   "metadata": {
    "collapsed": true,
    "jupyter": {
     "outputs_hidden": true
    }
   },
   "outputs": [
    {
     "name": "stderr",
     "output_type": "stream",
     "text": [
      "Warning message in as.POSIXlt.POSIXct(x, tz):\n",
      "\"unknown timezone '%Y:%M:%D:%H:%M:%S'\"\n",
      "Warning message in as.POSIXlt.POSIXct(x, tz):\n",
      "\"unknown timezone '%Y:%M:%D:%H:%M:%S'\"\n",
      "Warning message in as.POSIXlt.POSIXct(x, tz):\n",
      "\"unknown timezone '%Y:%M:%D:%H:%M:%S'\"\n",
      "Warning message in as.POSIXlt.POSIXct(x, tz):\n",
      "\"unknown timezone '%Y:%M:%D:%H:%M:%S'\"\n"
     ]
    },
    {
     "data": {
      "text/html": [
       "<table class=\"dataframe\">\n",
       "<caption>A data.frame: 6 × 14</caption>\n",
       "<thead>\n",
       "\t<tr><th></th><th scope=col>trxtime</th><th scope=col>trainid</th><th scope=col>lineid</th><th scope=col>lat</th><th scope=col>lon</th><th scope=col>day</th><th scope=col>month</th><th scope=col>year</th><th scope=col>dist_meters</th><th scope=col>interval_seconds</th><th scope=col>speed_mps</th><th scope=col>speed_kph</th><th scope=col>accel_mps2</th><th scope=col>time</th></tr>\n",
       "\t<tr><th></th><th scope=col>&lt;chr&gt;</th><th scope=col>&lt;int&gt;</th><th scope=col>&lt;int&gt;</th><th scope=col>&lt;dbl&gt;</th><th scope=col>&lt;dbl&gt;</th><th scope=col>&lt;int&gt;</th><th scope=col>&lt;dbl&gt;</th><th scope=col>&lt;dbl&gt;</th><th scope=col>&lt;dbl&gt;</th><th scope=col>&lt;dbl&gt;</th><th scope=col>&lt;dbl&gt;</th><th scope=col>&lt;dbl&gt;</th><th scope=col>&lt;dbl&gt;</th><th scope=col>&lt;dttm&gt;</th></tr>\n",
       "</thead>\n",
       "<tbody>\n",
       "\t<tr><th scope=row>1</th><td>2019-04-01 04:02:25</td><td>10001</td><td>4</td><td>42.33701</td><td>-71.25349</td><td>1</td><td>4</td><td>2019</td><td>20.55303</td><td> NA</td><td>        NA</td><td>        NA</td><td>           NA</td><td>2019-04-01 04:02:25</td></tr>\n",
       "\t<tr><th scope=row>2</th><td>2019-04-01 04:02:37</td><td>10001</td><td>4</td><td>42.33710</td><td>-71.25371</td><td>1</td><td>4</td><td>2019</td><td>20.55303</td><td> 12</td><td>1.71275229</td><td>6.16590825</td><td>           NA</td><td>2019-04-01 04:02:37</td></tr>\n",
       "\t<tr><th scope=row>3</th><td>2019-04-01 04:11:44</td><td>10001</td><td>4</td><td>42.33701</td><td>-71.25349</td><td>1</td><td>4</td><td>2019</td><td>20.55303</td><td>547</td><td>0.03757409</td><td>0.13526673</td><td>-3.062483e-03</td><td>2019-04-01 04:11:44</td></tr>\n",
       "\t<tr><th scope=row>4</th><td>2019-04-01 04:27:21</td><td>10001</td><td>4</td><td>42.33710</td><td>-71.25371</td><td>1</td><td>4</td><td>2019</td><td>20.55303</td><td>937</td><td>0.02193493</td><td>0.07896574</td><td>-1.669068e-05</td><td>2019-04-01 04:27:21</td></tr>\n",
       "\t<tr><th scope=row>5</th><td>2019-04-01 04:28:46</td><td>10001</td><td>4</td><td>42.33701</td><td>-71.25349</td><td>1</td><td>4</td><td>2019</td><td>20.55303</td><td> 85</td><td>0.24180032</td><td>0.87048117</td><td> 2.586652e-03</td><td>2019-04-01 04:28:46</td></tr>\n",
       "\t<tr><th scope=row>6</th><td>2019-04-01 04:44:12</td><td>10001</td><td>4</td><td>42.33710</td><td>-71.25371</td><td>1</td><td>4</td><td>2019</td><td>20.55303</td><td>926</td><td>0.02219549</td><td>0.07990378</td><td>-2.371542e-04</td><td>2019-04-01 04:44:12</td></tr>\n",
       "</tbody>\n",
       "</table>\n"
      ],
      "text/latex": [
       "A data.frame: 6 × 14\n",
       "\\begin{tabular}{r|llllllllllllll}\n",
       "  & trxtime & trainid & lineid & lat & lon & day & month & year & dist\\_meters & interval\\_seconds & speed\\_mps & speed\\_kph & accel\\_mps2 & time\\\\\n",
       "  & <chr> & <int> & <int> & <dbl> & <dbl> & <int> & <dbl> & <dbl> & <dbl> & <dbl> & <dbl> & <dbl> & <dbl> & <dttm>\\\\\n",
       "\\hline\n",
       "\t1 & 2019-04-01 04:02:25 & 10001 & 4 & 42.33701 & -71.25349 & 1 & 4 & 2019 & 20.55303 &  NA &         NA &         NA &            NA & 2019-04-01 04:02:25\\\\\n",
       "\t2 & 2019-04-01 04:02:37 & 10001 & 4 & 42.33710 & -71.25371 & 1 & 4 & 2019 & 20.55303 &  12 & 1.71275229 & 6.16590825 &            NA & 2019-04-01 04:02:37\\\\\n",
       "\t3 & 2019-04-01 04:11:44 & 10001 & 4 & 42.33701 & -71.25349 & 1 & 4 & 2019 & 20.55303 & 547 & 0.03757409 & 0.13526673 & -3.062483e-03 & 2019-04-01 04:11:44\\\\\n",
       "\t4 & 2019-04-01 04:27:21 & 10001 & 4 & 42.33710 & -71.25371 & 1 & 4 & 2019 & 20.55303 & 937 & 0.02193493 & 0.07896574 & -1.669068e-05 & 2019-04-01 04:27:21\\\\\n",
       "\t5 & 2019-04-01 04:28:46 & 10001 & 4 & 42.33701 & -71.25349 & 1 & 4 & 2019 & 20.55303 &  85 & 0.24180032 & 0.87048117 &  2.586652e-03 & 2019-04-01 04:28:46\\\\\n",
       "\t6 & 2019-04-01 04:44:12 & 10001 & 4 & 42.33710 & -71.25371 & 1 & 4 & 2019 & 20.55303 & 926 & 0.02219549 & 0.07990378 & -2.371542e-04 & 2019-04-01 04:44:12\\\\\n",
       "\\end{tabular}\n"
      ],
      "text/markdown": [
       "\n",
       "A data.frame: 6 × 14\n",
       "\n",
       "| <!--/--> | trxtime &lt;chr&gt; | trainid &lt;int&gt; | lineid &lt;int&gt; | lat &lt;dbl&gt; | lon &lt;dbl&gt; | day &lt;int&gt; | month &lt;dbl&gt; | year &lt;dbl&gt; | dist_meters &lt;dbl&gt; | interval_seconds &lt;dbl&gt; | speed_mps &lt;dbl&gt; | speed_kph &lt;dbl&gt; | accel_mps2 &lt;dbl&gt; | time &lt;dttm&gt; |\n",
       "|---|---|---|---|---|---|---|---|---|---|---|---|---|---|---|\n",
       "| 1 | 2019-04-01 04:02:25 | 10001 | 4 | 42.33701 | -71.25349 | 1 | 4 | 2019 | 20.55303 |  NA |         NA |         NA |            NA | 2019-04-01 04:02:25 |\n",
       "| 2 | 2019-04-01 04:02:37 | 10001 | 4 | 42.33710 | -71.25371 | 1 | 4 | 2019 | 20.55303 |  12 | 1.71275229 | 6.16590825 |            NA | 2019-04-01 04:02:37 |\n",
       "| 3 | 2019-04-01 04:11:44 | 10001 | 4 | 42.33701 | -71.25349 | 1 | 4 | 2019 | 20.55303 | 547 | 0.03757409 | 0.13526673 | -3.062483e-03 | 2019-04-01 04:11:44 |\n",
       "| 4 | 2019-04-01 04:27:21 | 10001 | 4 | 42.33710 | -71.25371 | 1 | 4 | 2019 | 20.55303 | 937 | 0.02193493 | 0.07896574 | -1.669068e-05 | 2019-04-01 04:27:21 |\n",
       "| 5 | 2019-04-01 04:28:46 | 10001 | 4 | 42.33701 | -71.25349 | 1 | 4 | 2019 | 20.55303 |  85 | 0.24180032 | 0.87048117 |  2.586652e-03 | 2019-04-01 04:28:46 |\n",
       "| 6 | 2019-04-01 04:44:12 | 10001 | 4 | 42.33710 | -71.25371 | 1 | 4 | 2019 | 20.55303 | 926 | 0.02219549 | 0.07990378 | -2.371542e-04 | 2019-04-01 04:44:12 |\n",
       "\n"
      ],
      "text/plain": [
       "  trxtime             trainid lineid lat      lon       day month year\n",
       "1 2019-04-01 04:02:25 10001   4      42.33701 -71.25349 1   4     2019\n",
       "2 2019-04-01 04:02:37 10001   4      42.33710 -71.25371 1   4     2019\n",
       "3 2019-04-01 04:11:44 10001   4      42.33701 -71.25349 1   4     2019\n",
       "4 2019-04-01 04:27:21 10001   4      42.33710 -71.25371 1   4     2019\n",
       "5 2019-04-01 04:28:46 10001   4      42.33701 -71.25349 1   4     2019\n",
       "6 2019-04-01 04:44:12 10001   4      42.33710 -71.25371 1   4     2019\n",
       "  dist_meters interval_seconds speed_mps  speed_kph  accel_mps2   \n",
       "1 20.55303     NA                      NA         NA            NA\n",
       "2 20.55303     12              1.71275229 6.16590825            NA\n",
       "3 20.55303    547              0.03757409 0.13526673 -3.062483e-03\n",
       "4 20.55303    937              0.02193493 0.07896574 -1.669068e-05\n",
       "5 20.55303     85              0.24180032 0.87048117  2.586652e-03\n",
       "6 20.55303    926              0.02219549 0.07990378 -2.371542e-04\n",
       "  time               \n",
       "1 2019-04-01 04:02:25\n",
       "2 2019-04-01 04:02:37\n",
       "3 2019-04-01 04:11:44\n",
       "4 2019-04-01 04:27:21\n",
       "5 2019-04-01 04:28:46\n",
       "6 2019-04-01 04:44:12"
      ]
     },
     "metadata": {},
     "output_type": "display_data"
    }
   ],
   "source": [
    "head(d1_speed_accel)"
   ]
  },
  {
   "cell_type": "code",
   "execution_count": 47,
   "metadata": {
    "collapsed": true,
    "jupyter": {
     "outputs_hidden": true
    }
   },
   "outputs": [
    {
     "name": "stderr",
     "output_type": "stream",
     "text": [
      "Warning message in as.POSIXlt.POSIXct(x):\n",
      "\"unknown timezone '%Y:%M:%D:%H:%M:%S'\"\n",
      "Warning message in as.POSIXct.POSIXlt(from):\n",
      "\"unknown timezone '%Y:%M:%D:%H:%M:%S'\"\n",
      "Warning message in as.POSIXct.POSIXlt(from):\n",
      "\"unknown timezone '%Y:%M:%D:%H:%M:%S'\"\n",
      "Warning message in as.POSIXlt.POSIXct(x, tz):\n",
      "\"unknown timezone '%Y:%M:%D:%H:%M:%S'\"\n",
      "Warning message in as.POSIXlt.POSIXct(x):\n",
      "\"unknown timezone '%Y:%M:%D:%H:%M:%S'\"\n",
      "Warning message in as.POSIXct.POSIXlt(from):\n",
      "\"unknown timezone '%Y:%M:%D:%H:%M:%S'\"\n",
      "Warning message in as.POSIXct.POSIXlt(from):\n",
      "\"unknown timezone '%Y:%M:%D:%H:%M:%S'\"\n",
      "Warning message in as.POSIXlt.POSIXct(x, tz):\n",
      "\"unknown timezone '%Y:%M:%D:%H:%M:%S'\"\n",
      "Warning message in as.POSIXlt.POSIXct(x):\n",
      "\"unknown timezone '%Y:%M:%D:%H:%M:%S'\"\n",
      "Warning message in as.POSIXct.POSIXlt(from):\n",
      "\"unknown timezone '%Y:%M:%D:%H:%M:%S'\"\n",
      "Warning message in as.POSIXct.POSIXlt(from):\n",
      "\"unknown timezone '%Y:%M:%D:%H:%M:%S'\"\n",
      "Warning message in as.POSIXlt.POSIXct(x, tz):\n",
      "\"unknown timezone '%Y:%M:%D:%H:%M:%S'\"\n",
      "Warning message in as.POSIXlt.POSIXct(x):\n",
      "\"unknown timezone '%Y:%M:%D:%H:%M:%S'\"\n",
      "Warning message in as.POSIXct.POSIXlt(from):\n",
      "\"unknown timezone '%Y:%M:%D:%H:%M:%S'\"\n",
      "Warning message in as.POSIXct.POSIXlt(from):\n",
      "\"unknown timezone '%Y:%M:%D:%H:%M:%S'\"\n",
      "Warning message in as.POSIXlt.POSIXct(x, tz):\n",
      "\"unknown timezone '%Y:%M:%D:%H:%M:%S'\"\n",
      "Warning message:\n",
      "\"Removed 1 row(s) containing missing values (geom_path).\"\n",
      "Warning message in as.POSIXlt.POSIXct(x):\n",
      "\"unknown timezone '%Y:%M:%D:%H:%M:%S'\"\n",
      "Warning message in as.POSIXct.POSIXlt(from):\n",
      "\"unknown timezone '%Y:%M:%D:%H:%M:%S'\"\n",
      "Warning message in as.POSIXct.POSIXlt(from):\n",
      "\"unknown timezone '%Y:%M:%D:%H:%M:%S'\"\n",
      "Warning message in as.POSIXlt.POSIXct(x, tz):\n",
      "\"unknown timezone '%Y:%M:%D:%H:%M:%S'\"\n",
      "Warning message in as.POSIXlt.POSIXct(x):\n",
      "\"unknown timezone '%Y:%M:%D:%H:%M:%S'\"\n",
      "Warning message in as.POSIXct.POSIXlt(from):\n",
      "\"unknown timezone '%Y:%M:%D:%H:%M:%S'\"\n",
      "Warning message in as.POSIXct.POSIXlt(from):\n",
      "\"unknown timezone '%Y:%M:%D:%H:%M:%S'\"\n",
      "Warning message in as.POSIXlt.POSIXct(x, tz):\n",
      "\"unknown timezone '%Y:%M:%D:%H:%M:%S'\"\n",
      "Warning message:\n",
      "\"Removed 2 row(s) containing missing values (geom_path).\"\n",
      "Warning message in as.POSIXlt.POSIXct(x):\n",
      "\"unknown timezone '%Y:%M:%D:%H:%M:%S'\"\n",
      "Warning message in as.POSIXct.POSIXlt(from):\n",
      "\"unknown timezone '%Y:%M:%D:%H:%M:%S'\"\n",
      "Warning message in as.POSIXct.POSIXlt(from):\n",
      "\"unknown timezone '%Y:%M:%D:%H:%M:%S'\"\n",
      "Warning message in as.POSIXlt.POSIXct(x, tz):\n",
      "\"unknown timezone '%Y:%M:%D:%H:%M:%S'\"\n",
      "Warning message in as.POSIXlt.POSIXct(x):\n",
      "\"unknown timezone '%Y:%M:%D:%H:%M:%S'\"\n",
      "Warning message in as.POSIXct.POSIXlt(from):\n",
      "\"unknown timezone '%Y:%M:%D:%H:%M:%S'\"\n",
      "Warning message in as.POSIXct.POSIXlt(from):\n",
      "\"unknown timezone '%Y:%M:%D:%H:%M:%S'\"\n",
      "Warning message in as.POSIXlt.POSIXct(x, tz):\n",
      "\"unknown timezone '%Y:%M:%D:%H:%M:%S'\"\n",
      "Warning message:\n",
      "\"Removed 1 row(s) containing missing values (geom_path).\"\n"
     ]
    },
    {
     "data": {
      "image/png": "[encoded data removed]",
      "text/plain": [
       "plot without title"
      ]
     },
     "metadata": {
      "image/png": {
       "height": 600,
       "width": 300
      }
     },
     "output_type": "display_data"
    }
   ],
   "source": [
    "p6 = ggplot(d1_speed_accel) + \n",
    " geom_line(aes(x = time, y=dist_meters),size = 1,alpha = 0.4) +\n",
    "theme(axis.text=element_text(size = 12),axis.title.x = element_text(size = 20),axis.title.y = element_text(size = 20),title= element_text(size = 20))+\n",
    " labs(y = \"distance (meters)\", x = \"time\")\n",
    "p7 =  ggplot(d1_speed_accel) + \n",
    " geom_line(aes(x = time, y=speed_kph),size = 1,alpha = 0.4) +\n",
    "theme(axis.text=element_text(size = 12),axis.title.x = element_text(size = 20),axis.title.y = element_text(size = 20),title= element_text(size = 20))+\n",
    " labs( y = \"speed(kph)\", x = \"time\")\n",
    "p8 = ggplot(d1_speed_accel) + \n",
    " geom_line(aes(x = time, y=accel_mps2),size = 1,alpha = 0.4) +\n",
    "theme(axis.text=element_text(size = 12),axis.title.x = element_text(size = 20),axis.title.y = element_text(size = 20),title= element_text(size = 20))+\n",
    " labs(y = \"acceleration(mps2)\", x = \"time\")\n",
    "p9 = ggplot(d1_speed_accel) + \n",
    " geom_line(aes(x = time, y=interval_seconds),size = 1,alpha = 0.4) +\n",
    "theme(axis.text=element_text(size = 12),axis.title.x = element_text(size = 20),axis.title.y = element_text(size = 20),title= element_text(size = 20))+\n",
    " labs(y = \"interval_seconds\", x = \"time\")\n",
    "options(repr.plot.width = 5, repr.plot.height = 10)\n",
    "grid.arrange(p6, p7, p8, p9, ncol=1, nrow=4)"
   ]
  },
  {
   "cell_type": "code",
   "execution_count": 30,
   "metadata": {
    "collapsed": true,
    "jupyter": {
     "outputs_hidden": true
    }
   },
   "outputs": [
    {
     "name": "stderr",
     "output_type": "stream",
     "text": [
      "Warning message in as.POSIXlt.POSIXct(x):\n",
      "\"unknown timezone '%Y:%M:%D:%H:%M:%S'\"\n",
      "Warning message in as.POSIXct.POSIXlt(from):\n",
      "\"unknown timezone '%Y:%M:%D:%H:%M:%S'\"\n",
      "Warning message in as.POSIXct.POSIXlt(from):\n",
      "\"unknown timezone '%Y:%M:%D:%H:%M:%S'\"\n",
      "Warning message in as.POSIXlt.POSIXct(x, tz):\n",
      "\"unknown timezone '%Y:%M:%D:%H:%M:%S'\"\n",
      "Warning message in as.POSIXlt.POSIXct(x):\n",
      "\"unknown timezone '%Y:%M:%D:%H:%M:%S'\"\n",
      "Warning message in as.POSIXct.POSIXlt(from):\n",
      "\"unknown timezone '%Y:%M:%D:%H:%M:%S'\"\n",
      "Warning message in as.POSIXct.POSIXlt(from):\n",
      "\"unknown timezone '%Y:%M:%D:%H:%M:%S'\"\n",
      "Warning message in as.POSIXlt.POSIXct(x, tz):\n",
      "\"unknown timezone '%Y:%M:%D:%H:%M:%S'\"\n",
      "Warning message:\n",
      "\"Removed 2 row(s) containing missing values (geom_path).\"\n"
     ]
    },
    {
     "data": {
      "image/png": "[encoded data removed]",
      "text/plain": [
       "plot without title"
      ]
     },
     "metadata": {
      "image/png": {
       "height": 420,
       "width": 420
      }
     },
     "output_type": "display_data"
    }
   ],
   "source": [
    " ggplot(d1_speed_accel) + \n",
    " geom_line(aes(x = time, y = accel_mps2),size = 1,alpha = 0.4) +\n",
    "theme(axis.text=element_text(size = 12),axis.title.x = element_text(size = 20),axis.title.y = element_text(size = 20),title= element_text(size = 20))+\n",
    " labs( y = \"acceleration(mps^2)\", x = \"time\")"
   ]
  },
  {
   "cell_type": "code",
   "execution_count": 40,
   "metadata": {},
   "outputs": [],
   "source": [
    "d1$dist_meters = filter$level$MED"
   ]
  },
  {
   "cell_type": "code",
   "execution_count": 97,
   "metadata": {
    "collapsed": true,
    "jupyter": {
     "outputs_hidden": true
    }
   },
   "outputs": [
    {
     "name": "stderr",
     "output_type": "stream",
     "text": [
      "ERROR while rich displaying an object: Error: Discrete value supplied to continuous scale\n",
      "\n",
      "Traceback:\n",
      "1. FUN(X[[i]], ...)\n",
      "2. tryCatch(withCallingHandlers({\n",
      " .     if (!mime %in% names(repr::mime2repr)) \n",
      " .         stop(\"No repr_* for mimetype \", mime, \" in repr::mime2repr\")\n",
      " .     rpr <- repr::mime2repr[[mime]](obj)\n",
      " .     if (is.null(rpr)) \n",
      " .         return(NULL)\n",
      " .     prepare_content(is.raw(rpr), rpr)\n",
      " . }, error = error_handler), error = outer_handler)\n",
      "3. tryCatchList(expr, classes, parentenv, handlers)\n",
      "4. tryCatchOne(expr, names, parentenv, handlers[[1L]])\n",
      "5. doTryCatch(return(expr), name, parentenv, handler)\n",
      "6. withCallingHandlers({\n",
      " .     if (!mime %in% names(repr::mime2repr)) \n",
      " .         stop(\"No repr_* for mimetype \", mime, \" in repr::mime2repr\")\n",
      " .     rpr <- repr::mime2repr[[mime]](obj)\n",
      " .     if (is.null(rpr)) \n",
      " .         return(NULL)\n",
      " .     prepare_content(is.raw(rpr), rpr)\n",
      " . }, error = error_handler)\n",
      "7. repr::mime2repr[[mime]](obj)\n",
      "8. repr_text.default(obj)\n",
      "9. paste(capture.output(print(obj)), collapse = \"\\n\")\n",
      "10. capture.output(print(obj))\n",
      "11. evalVis(expr)\n",
      "12. withVisible(eval(expr, pf))\n",
      "13. eval(expr, pf)\n",
      "14. eval(expr, pf)\n",
      "15. print(obj)\n",
      "16. print.ggplot(obj)\n",
      "17. ggplot_build(x)\n",
      "18. ggplot_build.ggplot(x)\n",
      "19. layout$train_position(data, scale_x(), scale_y())\n",
      "20. f(..., self = self)\n",
      "21. self$facet$train_scales(self$panel_scales_x, self$panel_scales_y, \n",
      "  .     layout, data, self$facet_params)\n",
      "22. f(...)\n",
      "23. scale_apply(layer_data, y_vars, \"train\", SCALE_Y, y_scales)\n",
      "24. lapply(vars, function(var) {\n",
      "  .     pieces <- lapply(seq_along(scales), function(i) {\n",
      "  .         scales[[i]][[method]](data[[var]][scale_index[[i]]])\n",
      "  .     })\n",
      "  .     if (!is.null(pieces)) {\n",
      "  .         unlist(pieces)[order(unlist(scale_index))]\n",
      "  .     }\n",
      "  . })\n",
      "25. FUN(X[[i]], ...)\n",
      "26. lapply(seq_along(scales), function(i) {\n",
      "  .     scales[[i]][[method]](data[[var]][scale_index[[i]]])\n",
      "  . })\n",
      "27. FUN(X[[i]], ...)\n",
      "28. scales[[i]][[method]](data[[var]][scale_index[[i]]])\n",
      "29. f(..., self = self)\n",
      "30. self$range$train(x)\n",
      "31. f(..., self = self)\n",
      "32. scales::train_continuous(x, self$range)\n",
      "33. stop(\"Discrete value supplied to continuous scale\", call. = FALSE)\n"
     ]
    },
    {
     "data": {
      "image/png": "[encoded data removed]",
      "text/plain": [
       "plot without title"
      ]
     },
     "metadata": {
      "image/png": {
       "height": 420,
       "width": 420
      },
      "text/plain": {
       "height": 420,
       "width": 420
      }
     },
     "output_type": "display_data"
    }
   ],
   "source": [
    "ggplot(df_test_computed) + \n",
    " geom_line(aes(x = time, y=list(filter$level),size = 1,alpha = 0.4)) +\n",
    "theme(axis.text=element_text(size = 12),axis.title.x = element_text(size = 20),axis.title.y = element_text(size = 20),title= element_text(size = 20))+\n",
    " labs(y = \"distance (meters)\", x = \"hour\")"
   ]
  },
  {
   "cell_type": "code",
   "execution_count": 35,
   "metadata": {},
   "outputs": [],
   "source": [
    "p1 = ggplot(df_test_computed) + \n",
    " geom_line(aes(x = time, y=dist_meters),size = 1,alpha = 0.4) +\n",
    "theme(axis.text=element_text(size = 12),axis.title.x = element_text(size = 20),axis.title.y = element_text(size = 20),title= element_text(size = 20))+\n",
    " labs(y = \"distance (meters)\", x = \"hour\")\n",
    "p2 =  ggplot(df_test_computed) + \n",
    " geom_line(aes(x = time, y=speed_kph),size = 1,alpha = 0.4) +\n",
    "theme(axis.text=element_text(size = 12),axis.title.x = element_text(size = 20),axis.title.y = element_text(size = 20),title= element_text(size = 20))+\n",
    " labs( y = \"speed(kph)\", x = \"hour\")\n",
    "p3 = ggplot(df_test_computed) + \n",
    " geom_line(aes(x = time, y=accel_mps2),size = 1,alpha = 0.4) +\n",
    "theme(axis.text=element_text(size = 12),axis.title.x = element_text(size = 20),axis.title.y = element_text(size = 20),title= element_text(size = 20))+\n",
    " labs(y = \"acceleration(mps2)\", x = \"hour\")\n",
    "p4 = ggplot(df_test_computed) + \n",
    " geom_line(aes(x = time, y=interval_seconds),size = 1,alpha = 0.4) +\n",
    "theme(axis.text=element_text(size = 12),axis.title.x = element_text(size = 20),axis.title.y = element_text(size = 20),title= element_text(size = 20))+\n",
    " labs(y = \"interval_seconds\", x = \"hour\")"
   ]
  },
  {
   "cell_type": "code",
   "execution_count": 36,
   "metadata": {
    "collapsed": true,
    "jupyter": {
     "outputs_hidden": true
    }
   },
   "outputs": [
    {
     "name": "stderr",
     "output_type": "stream",
     "text": [
      "Warning message in as.POSIXlt.POSIXct(x):\n",
      "\"unknown timezone '%Y:%M:%D:%H:%M:%S'\"\n",
      "Warning message in as.POSIXct.POSIXlt(from):\n",
      "\"unknown timezone '%Y:%M:%D:%H:%M:%S'\"\n",
      "Warning message in as.POSIXct.POSIXlt(from):\n",
      "\"unknown timezone '%Y:%M:%D:%H:%M:%S'\"\n",
      "Warning message in as.POSIXlt.POSIXct(x, tz):\n",
      "\"unknown timezone '%Y:%M:%D:%H:%M:%S'\"\n",
      "Warning message in as.POSIXlt.POSIXct(x):\n",
      "\"unknown timezone '%Y:%M:%D:%H:%M:%S'\"\n",
      "Warning message in as.POSIXct.POSIXlt(from):\n",
      "\"unknown timezone '%Y:%M:%D:%H:%M:%S'\"\n",
      "Warning message in as.POSIXct.POSIXlt(from):\n",
      "\"unknown timezone '%Y:%M:%D:%H:%M:%S'\"\n",
      "Warning message in as.POSIXlt.POSIXct(x, tz):\n",
      "\"unknown timezone '%Y:%M:%D:%H:%M:%S'\"\n",
      "Warning message:\n",
      "\"Removed 1 row(s) containing missing values (geom_path).\"\n",
      "Warning message in as.POSIXlt.POSIXct(x):\n",
      "\"unknown timezone '%Y:%M:%D:%H:%M:%S'\"\n",
      "Warning message in as.POSIXct.POSIXlt(from):\n",
      "\"unknown timezone '%Y:%M:%D:%H:%M:%S'\"\n",
      "Warning message in as.POSIXct.POSIXlt(from):\n",
      "\"unknown timezone '%Y:%M:%D:%H:%M:%S'\"\n",
      "Warning message in as.POSIXlt.POSIXct(x, tz):\n",
      "\"unknown timezone '%Y:%M:%D:%H:%M:%S'\"\n",
      "Warning message in as.POSIXlt.POSIXct(x):\n",
      "\"unknown timezone '%Y:%M:%D:%H:%M:%S'\"\n",
      "Warning message in as.POSIXct.POSIXlt(from):\n",
      "\"unknown timezone '%Y:%M:%D:%H:%M:%S'\"\n",
      "Warning message in as.POSIXct.POSIXlt(from):\n",
      "\"unknown timezone '%Y:%M:%D:%H:%M:%S'\"\n",
      "Warning message in as.POSIXlt.POSIXct(x, tz):\n",
      "\"unknown timezone '%Y:%M:%D:%H:%M:%S'\"\n",
      "Warning message:\n",
      "\"Removed 1 row(s) containing missing values (geom_path).\"\n",
      "Warning message in as.POSIXlt.POSIXct(x):\n",
      "\"unknown timezone '%Y:%M:%D:%H:%M:%S'\"\n",
      "Warning message in as.POSIXct.POSIXlt(from):\n",
      "\"unknown timezone '%Y:%M:%D:%H:%M:%S'\"\n",
      "Warning message in as.POSIXct.POSIXlt(from):\n",
      "\"unknown timezone '%Y:%M:%D:%H:%M:%S'\"\n",
      "Warning message in as.POSIXlt.POSIXct(x, tz):\n",
      "\"unknown timezone '%Y:%M:%D:%H:%M:%S'\"\n",
      "Warning message in as.POSIXlt.POSIXct(x):\n",
      "\"unknown timezone '%Y:%M:%D:%H:%M:%S'\"\n",
      "Warning message in as.POSIXct.POSIXlt(from):\n",
      "\"unknown timezone '%Y:%M:%D:%H:%M:%S'\"\n",
      "Warning message in as.POSIXct.POSIXlt(from):\n",
      "\"unknown timezone '%Y:%M:%D:%H:%M:%S'\"\n",
      "Warning message in as.POSIXlt.POSIXct(x, tz):\n",
      "\"unknown timezone '%Y:%M:%D:%H:%M:%S'\"\n",
      "Warning message:\n",
      "\"Removed 2 row(s) containing missing values (geom_path).\"\n",
      "Warning message in as.POSIXlt.POSIXct(x):\n",
      "\"unknown timezone '%Y:%M:%D:%H:%M:%S'\"\n",
      "Warning message in as.POSIXct.POSIXlt(from):\n",
      "\"unknown timezone '%Y:%M:%D:%H:%M:%S'\"\n",
      "Warning message in as.POSIXct.POSIXlt(from):\n",
      "\"unknown timezone '%Y:%M:%D:%H:%M:%S'\"\n",
      "Warning message in as.POSIXlt.POSIXct(x, tz):\n",
      "\"unknown timezone '%Y:%M:%D:%H:%M:%S'\"\n",
      "Warning message in as.POSIXlt.POSIXct(x):\n",
      "\"unknown timezone '%Y:%M:%D:%H:%M:%S'\"\n",
      "Warning message in as.POSIXct.POSIXlt(from):\n",
      "\"unknown timezone '%Y:%M:%D:%H:%M:%S'\"\n",
      "Warning message in as.POSIXct.POSIXlt(from):\n",
      "\"unknown timezone '%Y:%M:%D:%H:%M:%S'\"\n",
      "Warning message in as.POSIXlt.POSIXct(x, tz):\n",
      "\"unknown timezone '%Y:%M:%D:%H:%M:%S'\"\n",
      "Warning message:\n",
      "\"Removed 1 row(s) containing missing values (geom_path).\"\n"
     ]
    },
    {
     "data": {
      "image/png": "[encoded data removed]",
      "text/plain": [
       "plot without title"
      ]
     },
     "metadata": {
      "image/png": {
       "height": 420,
       "width": 420
      }
     },
     "output_type": "display_data"
    }
   ],
   "source": [
    "grid.arrange(p1, p2, p3, p4, ncol=2, nrow=2)"
   ]
  },
  {
   "cell_type": "code",
   "execution_count": 38,
   "metadata": {},
   "outputs": [
    {
     "name": "stdout",
     "output_type": "stream",
     "text": [
      "1 out of 255 time series values in df_test_computed$dist_meters are missing. \n"
     ]
    }
   ],
   "source": [
    "#df_test$dist_meters\n",
    "filter = robreg.filter(df_test_computed$dist_meters, width=20,online=TRUE,method= \"MED\")"
   ]
  },
  {
   "cell_type": "code",
   "execution_count": 39,
   "metadata": {
    "collapsed": true,
    "jupyter": {
     "outputs_hidden": true
    }
   },
   "outputs": [
    {
     "data": {
      "text/html": [
       "<table class=\"dataframe\">\n",
       "<caption>A data.frame: 255 × 1</caption>\n",
       "<thead>\n",
       "\t<tr><th></th><th scope=col>MED</th></tr>\n",
       "\t<tr><th></th><th scope=col>&lt;dbl&gt;</th></tr>\n",
       "</thead>\n",
       "<tbody>\n",
       "\t<tr><th scope=row>1</th><td>20.55303</td></tr>\n",
       "\t<tr><th scope=row>2</th><td>20.55303</td></tr>\n",
       "\t<tr><th scope=row>3</th><td>20.55303</td></tr>\n",
       "\t<tr><th scope=row>4</th><td>20.55303</td></tr>\n",
       "\t<tr><th scope=row>5</th><td>20.55303</td></tr>\n",
       "\t<tr><th scope=row>6</th><td>20.55303</td></tr>\n",
       "\t<tr><th scope=row>7</th><td>20.55303</td></tr>\n",
       "\t<tr><th scope=row>8</th><td>20.55303</td></tr>\n",
       "\t<tr><th scope=row>9</th><td>20.55303</td></tr>\n",
       "\t<tr><th scope=row>10</th><td>20.55303</td></tr>\n",
       "\t<tr><th scope=row>11</th><td>20.55303</td></tr>\n",
       "\t<tr><th scope=row>12</th><td>20.55303</td></tr>\n",
       "\t<tr><th scope=row>13</th><td>20.55303</td></tr>\n",
       "\t<tr><th scope=row>14</th><td>20.55303</td></tr>\n",
       "\t<tr><th scope=row>15</th><td>20.55303</td></tr>\n",
       "\t<tr><th scope=row>16</th><td>20.55303</td></tr>\n",
       "\t<tr><th scope=row>17</th><td>20.55303</td></tr>\n",
       "\t<tr><th scope=row>18</th><td>20.55303</td></tr>\n",
       "\t<tr><th scope=row>19</th><td>20.55303</td></tr>\n",
       "\t<tr><th scope=row>20</th><td>20.55303</td></tr>\n",
       "\t<tr><th scope=row>21</th><td>20.55303</td></tr>\n",
       "\t<tr><th scope=row>22</th><td>20.55303</td></tr>\n",
       "\t<tr><th scope=row>23</th><td>20.55303</td></tr>\n",
       "\t<tr><th scope=row>24</th><td>20.55303</td></tr>\n",
       "\t<tr><th scope=row>25</th><td>21.84855</td></tr>\n",
       "\t<tr><th scope=row>26</th><td>23.65677</td></tr>\n",
       "\t<tr><th scope=row>27</th><td>35.62321</td></tr>\n",
       "\t<tr><th scope=row>28</th><td>52.12851</td></tr>\n",
       "\t<tr><th scope=row>29</th><td>59.08676</td></tr>\n",
       "\t<tr><th scope=row>30</th><td>59.64144</td></tr>\n",
       "\t<tr><th scope=row>...</th><td>...</td></tr>\n",
       "\t<tr><th scope=row>226</th><td> 69.56546</td></tr>\n",
       "\t<tr><th scope=row>227</th><td> 73.62978</td></tr>\n",
       "\t<tr><th scope=row>228</th><td> 69.56546</td></tr>\n",
       "\t<tr><th scope=row>229</th><td> 69.56546</td></tr>\n",
       "\t<tr><th scope=row>230</th><td> 69.56546</td></tr>\n",
       "\t<tr><th scope=row>231</th><td> 72.85370</td></tr>\n",
       "\t<tr><th scope=row>232</th><td> 68.67203</td></tr>\n",
       "\t<tr><th scope=row>233</th><td> 68.67203</td></tr>\n",
       "\t<tr><th scope=row>234</th><td> 68.67203</td></tr>\n",
       "\t<tr><th scope=row>235</th><td> 71.17293</td></tr>\n",
       "\t<tr><th scope=row>236</th><td> 77.59877</td></tr>\n",
       "\t<tr><th scope=row>237</th><td> 85.65619</td></tr>\n",
       "\t<tr><th scope=row>238</th><td> 85.65619</td></tr>\n",
       "\t<tr><th scope=row>239</th><td>130.28118</td></tr>\n",
       "\t<tr><th scope=row>240</th><td>155.37512</td></tr>\n",
       "\t<tr><th scope=row>241</th><td>116.56337</td></tr>\n",
       "\t<tr><th scope=row>242</th><td> 85.65619</td></tr>\n",
       "\t<tr><th scope=row>243</th><td> 77.59877</td></tr>\n",
       "\t<tr><th scope=row>244</th><td> 85.65619</td></tr>\n",
       "\t<tr><th scope=row>245</th><td>116.56337</td></tr>\n",
       "\t<tr><th scope=row>246</th><td>116.56337</td></tr>\n",
       "\t<tr><th scope=row>247</th><td> 85.65619</td></tr>\n",
       "\t<tr><th scope=row>248</th><td>116.56337</td></tr>\n",
       "\t<tr><th scope=row>249</th><td> 85.65619</td></tr>\n",
       "\t<tr><th scope=row>250</th><td>111.70831</td></tr>\n",
       "\t<tr><th scope=row>251</th><td>111.70831</td></tr>\n",
       "\t<tr><th scope=row>252</th><td>136.80224</td></tr>\n",
       "\t<tr><th scope=row>253</th><td>136.80224</td></tr>\n",
       "\t<tr><th scope=row>254</th><td>140.87487</td></tr>\n",
       "\t<tr><th scope=row>255</th><td>136.01981</td></tr>\n",
       "</tbody>\n",
       "</table>\n"
      ],
      "text/latex": [
       "A data.frame: 255 × 1\n",
       "\\begin{tabular}{r|l}\n",
       "  & MED\\\\\n",
       "  & <dbl>\\\\\n",
       "\\hline\n",
       "\t1 & 20.55303\\\\\n",
       "\t2 & 20.55303\\\\\n",
       "\t3 & 20.55303\\\\\n",
       "\t4 & 20.55303\\\\\n",
       "\t5 & 20.55303\\\\\n",
       "\t6 & 20.55303\\\\\n",
       "\t7 & 20.55303\\\\\n",
       "\t8 & 20.55303\\\\\n",
       "\t9 & 20.55303\\\\\n",
       "\t10 & 20.55303\\\\\n",
       "\t11 & 20.55303\\\\\n",
       "\t12 & 20.55303\\\\\n",
       "\t13 & 20.55303\\\\\n",
       "\t14 & 20.55303\\\\\n",
       "\t15 & 20.55303\\\\\n",
       "\t16 & 20.55303\\\\\n",
       "\t17 & 20.55303\\\\\n",
       "\t18 & 20.55303\\\\\n",
       "\t19 & 20.55303\\\\\n",
       "\t20 & 20.55303\\\\\n",
       "\t21 & 20.55303\\\\\n",
       "\t22 & 20.55303\\\\\n",
       "\t23 & 20.55303\\\\\n",
       "\t24 & 20.55303\\\\\n",
       "\t25 & 21.84855\\\\\n",
       "\t26 & 23.65677\\\\\n",
       "\t27 & 35.62321\\\\\n",
       "\t28 & 52.12851\\\\\n",
       "\t29 & 59.08676\\\\\n",
       "\t30 & 59.64144\\\\\n",
       "\t... & ...\\\\\n",
       "\t226 &  69.56546\\\\\n",
       "\t227 &  73.62978\\\\\n",
       "\t228 &  69.56546\\\\\n",
       "\t229 &  69.56546\\\\\n",
       "\t230 &  69.56546\\\\\n",
       "\t231 &  72.85370\\\\\n",
       "\t232 &  68.67203\\\\\n",
       "\t233 &  68.67203\\\\\n",
       "\t234 &  68.67203\\\\\n",
       "\t235 &  71.17293\\\\\n",
       "\t236 &  77.59877\\\\\n",
       "\t237 &  85.65619\\\\\n",
       "\t238 &  85.65619\\\\\n",
       "\t239 & 130.28118\\\\\n",
       "\t240 & 155.37512\\\\\n",
       "\t241 & 116.56337\\\\\n",
       "\t242 &  85.65619\\\\\n",
       "\t243 &  77.59877\\\\\n",
       "\t244 &  85.65619\\\\\n",
       "\t245 & 116.56337\\\\\n",
       "\t246 & 116.56337\\\\\n",
       "\t247 &  85.65619\\\\\n",
       "\t248 & 116.56337\\\\\n",
       "\t249 &  85.65619\\\\\n",
       "\t250 & 111.70831\\\\\n",
       "\t251 & 111.70831\\\\\n",
       "\t252 & 136.80224\\\\\n",
       "\t253 & 136.80224\\\\\n",
       "\t254 & 140.87487\\\\\n",
       "\t255 & 136.01981\\\\\n",
       "\\end{tabular}\n"
      ],
      "text/markdown": [
       "\n",
       "A data.frame: 255 × 1\n",
       "\n",
       "| <!--/--> | MED &lt;dbl&gt; |\n",
       "|---|---|\n",
       "| 1 | 20.55303 |\n",
       "| 2 | 20.55303 |\n",
       "| 3 | 20.55303 |\n",
       "| 4 | 20.55303 |\n",
       "| 5 | 20.55303 |\n",
       "| 6 | 20.55303 |\n",
       "| 7 | 20.55303 |\n",
       "| 8 | 20.55303 |\n",
       "| 9 | 20.55303 |\n",
       "| 10 | 20.55303 |\n",
       "| 11 | 20.55303 |\n",
       "| 12 | 20.55303 |\n",
       "| 13 | 20.55303 |\n",
       "| 14 | 20.55303 |\n",
       "| 15 | 20.55303 |\n",
       "| 16 | 20.55303 |\n",
       "| 17 | 20.55303 |\n",
       "| 18 | 20.55303 |\n",
       "| 19 | 20.55303 |\n",
       "| 20 | 20.55303 |\n",
       "| 21 | 20.55303 |\n",
       "| 22 | 20.55303 |\n",
       "| 23 | 20.55303 |\n",
       "| 24 | 20.55303 |\n",
       "| 25 | 21.84855 |\n",
       "| 26 | 23.65677 |\n",
       "| 27 | 35.62321 |\n",
       "| 28 | 52.12851 |\n",
       "| 29 | 59.08676 |\n",
       "| 30 | 59.64144 |\n",
       "| ... | ... |\n",
       "| 226 |  69.56546 |\n",
       "| 227 |  73.62978 |\n",
       "| 228 |  69.56546 |\n",
       "| 229 |  69.56546 |\n",
       "| 230 |  69.56546 |\n",
       "| 231 |  72.85370 |\n",
       "| 232 |  68.67203 |\n",
       "| 233 |  68.67203 |\n",
       "| 234 |  68.67203 |\n",
       "| 235 |  71.17293 |\n",
       "| 236 |  77.59877 |\n",
       "| 237 |  85.65619 |\n",
       "| 238 |  85.65619 |\n",
       "| 239 | 130.28118 |\n",
       "| 240 | 155.37512 |\n",
       "| 241 | 116.56337 |\n",
       "| 242 |  85.65619 |\n",
       "| 243 |  77.59877 |\n",
       "| 244 |  85.65619 |\n",
       "| 245 | 116.56337 |\n",
       "| 246 | 116.56337 |\n",
       "| 247 |  85.65619 |\n",
       "| 248 | 116.56337 |\n",
       "| 249 |  85.65619 |\n",
       "| 250 | 111.70831 |\n",
       "| 251 | 111.70831 |\n",
       "| 252 | 136.80224 |\n",
       "| 253 | 136.80224 |\n",
       "| 254 | 140.87487 |\n",
       "| 255 | 136.01981 |\n",
       "\n"
      ],
      "text/plain": [
       "    MED      \n",
       "1   20.55303 \n",
       "2   20.55303 \n",
       "3   20.55303 \n",
       "4   20.55303 \n",
       "5   20.55303 \n",
       "6   20.55303 \n",
       "7   20.55303 \n",
       "8   20.55303 \n",
       "9   20.55303 \n",
       "10  20.55303 \n",
       "11  20.55303 \n",
       "12  20.55303 \n",
       "13  20.55303 \n",
       "14  20.55303 \n",
       "15  20.55303 \n",
       "16  20.55303 \n",
       "17  20.55303 \n",
       "18  20.55303 \n",
       "19  20.55303 \n",
       "20  20.55303 \n",
       "21  20.55303 \n",
       "22  20.55303 \n",
       "23  20.55303 \n",
       "24  20.55303 \n",
       "25  21.84855 \n",
       "26  23.65677 \n",
       "27  35.62321 \n",
       "28  52.12851 \n",
       "29  59.08676 \n",
       "30  59.64144 \n",
       "... ...      \n",
       "226  69.56546\n",
       "227  73.62978\n",
       "228  69.56546\n",
       "229  69.56546\n",
       "230  69.56546\n",
       "231  72.85370\n",
       "232  68.67203\n",
       "233  68.67203\n",
       "234  68.67203\n",
       "235  71.17293\n",
       "236  77.59877\n",
       "237  85.65619\n",
       "238  85.65619\n",
       "239 130.28118\n",
       "240 155.37512\n",
       "241 116.56337\n",
       "242  85.65619\n",
       "243  77.59877\n",
       "244  85.65619\n",
       "245 116.56337\n",
       "246 116.56337\n",
       "247  85.65619\n",
       "248 116.56337\n",
       "249  85.65619\n",
       "250 111.70831\n",
       "251 111.70831\n",
       "252 136.80224\n",
       "253 136.80224\n",
       "254 140.87487\n",
       "255 136.01981"
      ]
     },
     "metadata": {},
     "output_type": "display_data"
    }
   ],
   "source": [
    "filter$level"
   ]
  },
  {
   "cell_type": "code",
   "execution_count": 92,
   "metadata": {},
   "outputs": [],
   "source": [
    "s = data.frame(filter$level)"
   ]
  },
  {
   "cell_type": "code",
   "execution_count": 76,
   "metadata": {
    "collapsed": true,
    "jupyter": {
     "outputs_hidden": true
    }
   },
   "outputs": [
    {
     "data": {
      "text/html": [
       "<table>\n",
       "<caption>A data.frame: 255 × 1</caption>\n",
       "<thead>\n",
       "\t<tr><th></th><th scope=col>MED</th></tr>\n",
       "\t<tr><th></th><th scope=col>&lt;dbl&gt;</th></tr>\n",
       "</thead>\n",
       "<tbody>\n",
       "\t<tr><th scope=row>1</th><td>20.55303</td></tr>\n",
       "\t<tr><th scope=row>2</th><td>20.55303</td></tr>\n",
       "\t<tr><th scope=row>3</th><td>20.55303</td></tr>\n",
       "\t<tr><th scope=row>4</th><td>20.55303</td></tr>\n",
       "\t<tr><th scope=row>5</th><td>20.55303</td></tr>\n",
       "\t<tr><th scope=row>6</th><td>20.55303</td></tr>\n",
       "\t<tr><th scope=row>7</th><td>20.55303</td></tr>\n",
       "\t<tr><th scope=row>8</th><td>20.55303</td></tr>\n",
       "\t<tr><th scope=row>9</th><td>20.55303</td></tr>\n",
       "\t<tr><th scope=row>10</th><td>20.55303</td></tr>\n",
       "\t<tr><th scope=row>11</th><td>20.55303</td></tr>\n",
       "\t<tr><th scope=row>12</th><td>20.55303</td></tr>\n",
       "\t<tr><th scope=row>13</th><td>20.55303</td></tr>\n",
       "\t<tr><th scope=row>14</th><td>20.55303</td></tr>\n",
       "\t<tr><th scope=row>15</th><td>20.55303</td></tr>\n",
       "\t<tr><th scope=row>16</th><td>20.55303</td></tr>\n",
       "\t<tr><th scope=row>17</th><td>20.55303</td></tr>\n",
       "\t<tr><th scope=row>18</th><td>20.55303</td></tr>\n",
       "\t<tr><th scope=row>19</th><td>21.84855</td></tr>\n",
       "\t<tr><th scope=row>20</th><td>21.84855</td></tr>\n",
       "\t<tr><th scope=row>21</th><td>23.65677</td></tr>\n",
       "\t<tr><th scope=row>22</th><td>35.62321</td></tr>\n",
       "\t<tr><th scope=row>23</th><td>54.46886</td></tr>\n",
       "\t<tr><th scope=row>24</th><td>61.42711</td></tr>\n",
       "\t<tr><th scope=row>25</th><td>61.52070</td></tr>\n",
       "\t<tr><th scope=row>26</th><td>62.22138</td></tr>\n",
       "\t<tr><th scope=row>27</th><td>62.22138</td></tr>\n",
       "\t<tr><th scope=row>28</th><td>61.75429</td></tr>\n",
       "\t<tr><th scope=row>29</th><td>61.75429</td></tr>\n",
       "\t<tr><th scope=row>30</th><td>61.75429</td></tr>\n",
       "\t<tr><th scope=row>...</th><td>...</td></tr>\n",
       "\t<tr><th scope=row>226</th><td> 41.08834</td></tr>\n",
       "\t<tr><th scope=row>227</th><td> 54.40227</td></tr>\n",
       "\t<tr><th scope=row>228</th><td> 63.39878</td></tr>\n",
       "\t<tr><th scope=row>229</th><td>118.04210</td></tr>\n",
       "\t<tr><th scope=row>230</th><td>122.22377</td></tr>\n",
       "\t<tr><th scope=row>231</th><td>122.22377</td></tr>\n",
       "\t<tr><th scope=row>232</th><td> 71.17293</td></tr>\n",
       "\t<tr><th scope=row>233</th><td> 71.17293</td></tr>\n",
       "\t<tr><th scope=row>234</th><td> 83.41201</td></tr>\n",
       "\t<tr><th scope=row>235</th><td>196.34603</td></tr>\n",
       "\t<tr><th scope=row>236</th><td>196.34603</td></tr>\n",
       "\t<tr><th scope=row>237</th><td>192.49592</td></tr>\n",
       "\t<tr><th scope=row>238</th><td>192.49592</td></tr>\n",
       "\t<tr><th scope=row>239</th><td>136.79726</td></tr>\n",
       "\t<tr><th scope=row>240</th><td>161.89120</td></tr>\n",
       "\t<tr><th scope=row>241</th><td>116.56337</td></tr>\n",
       "\t<tr><th scope=row>242</th><td>116.56337</td></tr>\n",
       "\t<tr><th scope=row>243</th><td> 85.65619</td></tr>\n",
       "\t<tr><th scope=row>244</th><td>110.75012</td></tr>\n",
       "\t<tr><th scope=row>245</th><td>110.75012</td></tr>\n",
       "\t<tr><th scope=row>246</th><td>103.55984</td></tr>\n",
       "\t<tr><th scope=row>247</th><td> 62.67792</td></tr>\n",
       "\t<tr><th scope=row>248</th><td>103.55984</td></tr>\n",
       "\t<tr><th scope=row>249</th><td> 62.67792</td></tr>\n",
       "\t<tr><th scope=row>250</th><td> 62.67792</td></tr>\n",
       "\t<tr><th scope=row>251</th><td> 95.92032</td></tr>\n",
       "\t<tr><th scope=row>252</th><td>137.83050</td></tr>\n",
       "\t<tr><th scope=row>253</th><td>153.53692</td></tr>\n",
       "\t<tr><th scope=row>254</th><td>141.90313</td></tr>\n",
       "\t<tr><th scope=row>255</th><td>136.01981</td></tr>\n",
       "</tbody>\n",
       "</table>\n"
      ],
      "text/latex": [
       "A data.frame: 255 × 1\n",
       "\\begin{tabular}{r|l}\n",
       "  & MED\\\\\n",
       "  & <dbl>\\\\\n",
       "\\hline\n",
       "\t1 & 20.55303\\\\\n",
       "\t2 & 20.55303\\\\\n",
       "\t3 & 20.55303\\\\\n",
       "\t4 & 20.55303\\\\\n",
       "\t5 & 20.55303\\\\\n",
       "\t6 & 20.55303\\\\\n",
       "\t7 & 20.55303\\\\\n",
       "\t8 & 20.55303\\\\\n",
       "\t9 & 20.55303\\\\\n",
       "\t10 & 20.55303\\\\\n",
       "\t11 & 20.55303\\\\\n",
       "\t12 & 20.55303\\\\\n",
       "\t13 & 20.55303\\\\\n",
       "\t14 & 20.55303\\\\\n",
       "\t15 & 20.55303\\\\\n",
       "\t16 & 20.55303\\\\\n",
       "\t17 & 20.55303\\\\\n",
       "\t18 & 20.55303\\\\\n",
       "\t19 & 21.84855\\\\\n",
       "\t20 & 21.84855\\\\\n",
       "\t21 & 23.65677\\\\\n",
       "\t22 & 35.62321\\\\\n",
       "\t23 & 54.46886\\\\\n",
       "\t24 & 61.42711\\\\\n",
       "\t25 & 61.52070\\\\\n",
       "\t26 & 62.22138\\\\\n",
       "\t27 & 62.22138\\\\\n",
       "\t28 & 61.75429\\\\\n",
       "\t29 & 61.75429\\\\\n",
       "\t30 & 61.75429\\\\\n",
       "\t... & ...\\\\\n",
       "\t226 &  41.08834\\\\\n",
       "\t227 &  54.40227\\\\\n",
       "\t228 &  63.39878\\\\\n",
       "\t229 & 118.04210\\\\\n",
       "\t230 & 122.22377\\\\\n",
       "\t231 & 122.22377\\\\\n",
       "\t232 &  71.17293\\\\\n",
       "\t233 &  71.17293\\\\\n",
       "\t234 &  83.41201\\\\\n",
       "\t235 & 196.34603\\\\\n",
       "\t236 & 196.34603\\\\\n",
       "\t237 & 192.49592\\\\\n",
       "\t238 & 192.49592\\\\\n",
       "\t239 & 136.79726\\\\\n",
       "\t240 & 161.89120\\\\\n",
       "\t241 & 116.56337\\\\\n",
       "\t242 & 116.56337\\\\\n",
       "\t243 &  85.65619\\\\\n",
       "\t244 & 110.75012\\\\\n",
       "\t245 & 110.75012\\\\\n",
       "\t246 & 103.55984\\\\\n",
       "\t247 &  62.67792\\\\\n",
       "\t248 & 103.55984\\\\\n",
       "\t249 &  62.67792\\\\\n",
       "\t250 &  62.67792\\\\\n",
       "\t251 &  95.92032\\\\\n",
       "\t252 & 137.83050\\\\\n",
       "\t253 & 153.53692\\\\\n",
       "\t254 & 141.90313\\\\\n",
       "\t255 & 136.01981\\\\\n",
       "\\end{tabular}\n"
      ],
      "text/markdown": [
       "\n",
       "A data.frame: 255 × 1\n",
       "\n",
       "| <!--/--> | MED &lt;dbl&gt; |\n",
       "|---|---|\n",
       "| 1 | 20.55303 |\n",
       "| 2 | 20.55303 |\n",
       "| 3 | 20.55303 |\n",
       "| 4 | 20.55303 |\n",
       "| 5 | 20.55303 |\n",
       "| 6 | 20.55303 |\n",
       "| 7 | 20.55303 |\n",
       "| 8 | 20.55303 |\n",
       "| 9 | 20.55303 |\n",
       "| 10 | 20.55303 |\n",
       "| 11 | 20.55303 |\n",
       "| 12 | 20.55303 |\n",
       "| 13 | 20.55303 |\n",
       "| 14 | 20.55303 |\n",
       "| 15 | 20.55303 |\n",
       "| 16 | 20.55303 |\n",
       "| 17 | 20.55303 |\n",
       "| 18 | 20.55303 |\n",
       "| 19 | 21.84855 |\n",
       "| 20 | 21.84855 |\n",
       "| 21 | 23.65677 |\n",
       "| 22 | 35.62321 |\n",
       "| 23 | 54.46886 |\n",
       "| 24 | 61.42711 |\n",
       "| 25 | 61.52070 |\n",
       "| 26 | 62.22138 |\n",
       "| 27 | 62.22138 |\n",
       "| 28 | 61.75429 |\n",
       "| 29 | 61.75429 |\n",
       "| 30 | 61.75429 |\n",
       "| ... | ... |\n",
       "| 226 |  41.08834 |\n",
       "| 227 |  54.40227 |\n",
       "| 228 |  63.39878 |\n",
       "| 229 | 118.04210 |\n",
       "| 230 | 122.22377 |\n",
       "| 231 | 122.22377 |\n",
       "| 232 |  71.17293 |\n",
       "| 233 |  71.17293 |\n",
       "| 234 |  83.41201 |\n",
       "| 235 | 196.34603 |\n",
       "| 236 | 196.34603 |\n",
       "| 237 | 192.49592 |\n",
       "| 238 | 192.49592 |\n",
       "| 239 | 136.79726 |\n",
       "| 240 | 161.89120 |\n",
       "| 241 | 116.56337 |\n",
       "| 242 | 116.56337 |\n",
       "| 243 |  85.65619 |\n",
       "| 244 | 110.75012 |\n",
       "| 245 | 110.75012 |\n",
       "| 246 | 103.55984 |\n",
       "| 247 |  62.67792 |\n",
       "| 248 | 103.55984 |\n",
       "| 249 |  62.67792 |\n",
       "| 250 |  62.67792 |\n",
       "| 251 |  95.92032 |\n",
       "| 252 | 137.83050 |\n",
       "| 253 | 153.53692 |\n",
       "| 254 | 141.90313 |\n",
       "| 255 | 136.01981 |\n",
       "\n"
      ],
      "text/plain": [
       "    MED      \n",
       "1   20.55303 \n",
       "2   20.55303 \n",
       "3   20.55303 \n",
       "4   20.55303 \n",
       "5   20.55303 \n",
       "6   20.55303 \n",
       "7   20.55303 \n",
       "8   20.55303 \n",
       "9   20.55303 \n",
       "10  20.55303 \n",
       "11  20.55303 \n",
       "12  20.55303 \n",
       "13  20.55303 \n",
       "14  20.55303 \n",
       "15  20.55303 \n",
       "16  20.55303 \n",
       "17  20.55303 \n",
       "18  20.55303 \n",
       "19  21.84855 \n",
       "20  21.84855 \n",
       "21  23.65677 \n",
       "22  35.62321 \n",
       "23  54.46886 \n",
       "24  61.42711 \n",
       "25  61.52070 \n",
       "26  62.22138 \n",
       "27  62.22138 \n",
       "28  61.75429 \n",
       "29  61.75429 \n",
       "30  61.75429 \n",
       "... ...      \n",
       "226  41.08834\n",
       "227  54.40227\n",
       "228  63.39878\n",
       "229 118.04210\n",
       "230 122.22377\n",
       "231 122.22377\n",
       "232  71.17293\n",
       "233  71.17293\n",
       "234  83.41201\n",
       "235 196.34603\n",
       "236 196.34603\n",
       "237 192.49592\n",
       "238 192.49592\n",
       "239 136.79726\n",
       "240 161.89120\n",
       "241 116.56337\n",
       "242 116.56337\n",
       "243  85.65619\n",
       "244 110.75012\n",
       "245 110.75012\n",
       "246 103.55984\n",
       "247  62.67792\n",
       "248 103.55984\n",
       "249  62.67792\n",
       "250  62.67792\n",
       "251  95.92032\n",
       "252 137.83050\n",
       "253 153.53692\n",
       "254 141.90313\n",
       "255 136.01981"
      ]
     },
     "metadata": {},
     "output_type": "display_data"
    }
   ],
   "source": [
    "s"
   ]
  },
  {
   "cell_type": "code",
   "execution_count": 87,
   "metadata": {},
   "outputs": [],
   "source": [
    "d1$dist_meters = s"
   ]
  },
  {
   "cell_type": "code",
   "execution_count": 60,
   "metadata": {
    "collapsed": true,
    "jupyter": {
     "outputs_hidden": true
    }
   },
   "outputs": [
    {
     "data": {
      "text/html": [
       "<table>\n",
       "<caption>A data.frame: 255 × 1</caption>\n",
       "<thead>\n",
       "\t<tr><th></th><th scope=col>MED</th></tr>\n",
       "\t<tr><th></th><th scope=col>&lt;dbl&gt;</th></tr>\n",
       "</thead>\n",
       "<tbody>\n",
       "\t<tr><th scope=row>1</th><td>20.55303</td></tr>\n",
       "\t<tr><th scope=row>2</th><td>20.55303</td></tr>\n",
       "\t<tr><th scope=row>3</th><td>20.55303</td></tr>\n",
       "\t<tr><th scope=row>4</th><td>20.55303</td></tr>\n",
       "\t<tr><th scope=row>5</th><td>20.55303</td></tr>\n",
       "\t<tr><th scope=row>6</th><td>20.55303</td></tr>\n",
       "\t<tr><th scope=row>7</th><td>20.55303</td></tr>\n",
       "\t<tr><th scope=row>8</th><td>20.55303</td></tr>\n",
       "\t<tr><th scope=row>9</th><td>20.55303</td></tr>\n",
       "\t<tr><th scope=row>10</th><td>20.55303</td></tr>\n",
       "\t<tr><th scope=row>11</th><td>20.55303</td></tr>\n",
       "\t<tr><th scope=row>12</th><td>20.55303</td></tr>\n",
       "\t<tr><th scope=row>13</th><td>20.55303</td></tr>\n",
       "\t<tr><th scope=row>14</th><td>20.55303</td></tr>\n",
       "\t<tr><th scope=row>15</th><td>20.55303</td></tr>\n",
       "\t<tr><th scope=row>16</th><td>20.55303</td></tr>\n",
       "\t<tr><th scope=row>17</th><td>20.55303</td></tr>\n",
       "\t<tr><th scope=row>18</th><td>20.55303</td></tr>\n",
       "\t<tr><th scope=row>19</th><td>21.84855</td></tr>\n",
       "\t<tr><th scope=row>20</th><td>21.84855</td></tr>\n",
       "\t<tr><th scope=row>21</th><td>23.65677</td></tr>\n",
       "\t<tr><th scope=row>22</th><td>35.62321</td></tr>\n",
       "\t<tr><th scope=row>23</th><td>54.46886</td></tr>\n",
       "\t<tr><th scope=row>24</th><td>61.42711</td></tr>\n",
       "\t<tr><th scope=row>25</th><td>61.52070</td></tr>\n",
       "\t<tr><th scope=row>26</th><td>62.22138</td></tr>\n",
       "\t<tr><th scope=row>27</th><td>62.22138</td></tr>\n",
       "\t<tr><th scope=row>28</th><td>61.75429</td></tr>\n",
       "\t<tr><th scope=row>29</th><td>61.75429</td></tr>\n",
       "\t<tr><th scope=row>30</th><td>61.75429</td></tr>\n",
       "\t<tr><th scope=row>...</th><td>...</td></tr>\n",
       "\t<tr><th scope=row>226</th><td> 41.08834</td></tr>\n",
       "\t<tr><th scope=row>227</th><td> 54.40227</td></tr>\n",
       "\t<tr><th scope=row>228</th><td> 63.39878</td></tr>\n",
       "\t<tr><th scope=row>229</th><td>118.04210</td></tr>\n",
       "\t<tr><th scope=row>230</th><td>122.22377</td></tr>\n",
       "\t<tr><th scope=row>231</th><td>122.22377</td></tr>\n",
       "\t<tr><th scope=row>232</th><td> 71.17293</td></tr>\n",
       "\t<tr><th scope=row>233</th><td> 71.17293</td></tr>\n",
       "\t<tr><th scope=row>234</th><td> 83.41201</td></tr>\n",
       "\t<tr><th scope=row>235</th><td>196.34603</td></tr>\n",
       "\t<tr><th scope=row>236</th><td>196.34603</td></tr>\n",
       "\t<tr><th scope=row>237</th><td>192.49592</td></tr>\n",
       "\t<tr><th scope=row>238</th><td>192.49592</td></tr>\n",
       "\t<tr><th scope=row>239</th><td>136.79726</td></tr>\n",
       "\t<tr><th scope=row>240</th><td>161.89120</td></tr>\n",
       "\t<tr><th scope=row>241</th><td>116.56337</td></tr>\n",
       "\t<tr><th scope=row>242</th><td>116.56337</td></tr>\n",
       "\t<tr><th scope=row>243</th><td> 85.65619</td></tr>\n",
       "\t<tr><th scope=row>244</th><td>110.75012</td></tr>\n",
       "\t<tr><th scope=row>245</th><td>110.75012</td></tr>\n",
       "\t<tr><th scope=row>246</th><td>103.55984</td></tr>\n",
       "\t<tr><th scope=row>247</th><td> 62.67792</td></tr>\n",
       "\t<tr><th scope=row>248</th><td>103.55984</td></tr>\n",
       "\t<tr><th scope=row>249</th><td> 62.67792</td></tr>\n",
       "\t<tr><th scope=row>250</th><td> 62.67792</td></tr>\n",
       "\t<tr><th scope=row>251</th><td> 95.92032</td></tr>\n",
       "\t<tr><th scope=row>252</th><td>137.83050</td></tr>\n",
       "\t<tr><th scope=row>253</th><td>153.53692</td></tr>\n",
       "\t<tr><th scope=row>254</th><td>141.90313</td></tr>\n",
       "\t<tr><th scope=row>255</th><td>136.01981</td></tr>\n",
       "</tbody>\n",
       "</table>\n"
      ],
      "text/latex": [
       "A data.frame: 255 × 1\n",
       "\\begin{tabular}{r|l}\n",
       "  & MED\\\\\n",
       "  & <dbl>\\\\\n",
       "\\hline\n",
       "\t1 & 20.55303\\\\\n",
       "\t2 & 20.55303\\\\\n",
       "\t3 & 20.55303\\\\\n",
       "\t4 & 20.55303\\\\\n",
       "\t5 & 20.55303\\\\\n",
       "\t6 & 20.55303\\\\\n",
       "\t7 & 20.55303\\\\\n",
       "\t8 & 20.55303\\\\\n",
       "\t9 & 20.55303\\\\\n",
       "\t10 & 20.55303\\\\\n",
       "\t11 & 20.55303\\\\\n",
       "\t12 & 20.55303\\\\\n",
       "\t13 & 20.55303\\\\\n",
       "\t14 & 20.55303\\\\\n",
       "\t15 & 20.55303\\\\\n",
       "\t16 & 20.55303\\\\\n",
       "\t17 & 20.55303\\\\\n",
       "\t18 & 20.55303\\\\\n",
       "\t19 & 21.84855\\\\\n",
       "\t20 & 21.84855\\\\\n",
       "\t21 & 23.65677\\\\\n",
       "\t22 & 35.62321\\\\\n",
       "\t23 & 54.46886\\\\\n",
       "\t24 & 61.42711\\\\\n",
       "\t25 & 61.52070\\\\\n",
       "\t26 & 62.22138\\\\\n",
       "\t27 & 62.22138\\\\\n",
       "\t28 & 61.75429\\\\\n",
       "\t29 & 61.75429\\\\\n",
       "\t30 & 61.75429\\\\\n",
       "\t... & ...\\\\\n",
       "\t226 &  41.08834\\\\\n",
       "\t227 &  54.40227\\\\\n",
       "\t228 &  63.39878\\\\\n",
       "\t229 & 118.04210\\\\\n",
       "\t230 & 122.22377\\\\\n",
       "\t231 & 122.22377\\\\\n",
       "\t232 &  71.17293\\\\\n",
       "\t233 &  71.17293\\\\\n",
       "\t234 &  83.41201\\\\\n",
       "\t235 & 196.34603\\\\\n",
       "\t236 & 196.34603\\\\\n",
       "\t237 & 192.49592\\\\\n",
       "\t238 & 192.49592\\\\\n",
       "\t239 & 136.79726\\\\\n",
       "\t240 & 161.89120\\\\\n",
       "\t241 & 116.56337\\\\\n",
       "\t242 & 116.56337\\\\\n",
       "\t243 &  85.65619\\\\\n",
       "\t244 & 110.75012\\\\\n",
       "\t245 & 110.75012\\\\\n",
       "\t246 & 103.55984\\\\\n",
       "\t247 &  62.67792\\\\\n",
       "\t248 & 103.55984\\\\\n",
       "\t249 &  62.67792\\\\\n",
       "\t250 &  62.67792\\\\\n",
       "\t251 &  95.92032\\\\\n",
       "\t252 & 137.83050\\\\\n",
       "\t253 & 153.53692\\\\\n",
       "\t254 & 141.90313\\\\\n",
       "\t255 & 136.01981\\\\\n",
       "\\end{tabular}\n"
      ],
      "text/markdown": [
       "\n",
       "A data.frame: 255 × 1\n",
       "\n",
       "| <!--/--> | MED &lt;dbl&gt; |\n",
       "|---|---|\n",
       "| 1 | 20.55303 |\n",
       "| 2 | 20.55303 |\n",
       "| 3 | 20.55303 |\n",
       "| 4 | 20.55303 |\n",
       "| 5 | 20.55303 |\n",
       "| 6 | 20.55303 |\n",
       "| 7 | 20.55303 |\n",
       "| 8 | 20.55303 |\n",
       "| 9 | 20.55303 |\n",
       "| 10 | 20.55303 |\n",
       "| 11 | 20.55303 |\n",
       "| 12 | 20.55303 |\n",
       "| 13 | 20.55303 |\n",
       "| 14 | 20.55303 |\n",
       "| 15 | 20.55303 |\n",
       "| 16 | 20.55303 |\n",
       "| 17 | 20.55303 |\n",
       "| 18 | 20.55303 |\n",
       "| 19 | 21.84855 |\n",
       "| 20 | 21.84855 |\n",
       "| 21 | 23.65677 |\n",
       "| 22 | 35.62321 |\n",
       "| 23 | 54.46886 |\n",
       "| 24 | 61.42711 |\n",
       "| 25 | 61.52070 |\n",
       "| 26 | 62.22138 |\n",
       "| 27 | 62.22138 |\n",
       "| 28 | 61.75429 |\n",
       "| 29 | 61.75429 |\n",
       "| 30 | 61.75429 |\n",
       "| ... | ... |\n",
       "| 226 |  41.08834 |\n",
       "| 227 |  54.40227 |\n",
       "| 228 |  63.39878 |\n",
       "| 229 | 118.04210 |\n",
       "| 230 | 122.22377 |\n",
       "| 231 | 122.22377 |\n",
       "| 232 |  71.17293 |\n",
       "| 233 |  71.17293 |\n",
       "| 234 |  83.41201 |\n",
       "| 235 | 196.34603 |\n",
       "| 236 | 196.34603 |\n",
       "| 237 | 192.49592 |\n",
       "| 238 | 192.49592 |\n",
       "| 239 | 136.79726 |\n",
       "| 240 | 161.89120 |\n",
       "| 241 | 116.56337 |\n",
       "| 242 | 116.56337 |\n",
       "| 243 |  85.65619 |\n",
       "| 244 | 110.75012 |\n",
       "| 245 | 110.75012 |\n",
       "| 246 | 103.55984 |\n",
       "| 247 |  62.67792 |\n",
       "| 248 | 103.55984 |\n",
       "| 249 |  62.67792 |\n",
       "| 250 |  62.67792 |\n",
       "| 251 |  95.92032 |\n",
       "| 252 | 137.83050 |\n",
       "| 253 | 153.53692 |\n",
       "| 254 | 141.90313 |\n",
       "| 255 | 136.01981 |\n",
       "\n"
      ],
      "text/plain": [
       "    MED      \n",
       "1   20.55303 \n",
       "2   20.55303 \n",
       "3   20.55303 \n",
       "4   20.55303 \n",
       "5   20.55303 \n",
       "6   20.55303 \n",
       "7   20.55303 \n",
       "8   20.55303 \n",
       "9   20.55303 \n",
       "10  20.55303 \n",
       "11  20.55303 \n",
       "12  20.55303 \n",
       "13  20.55303 \n",
       "14  20.55303 \n",
       "15  20.55303 \n",
       "16  20.55303 \n",
       "17  20.55303 \n",
       "18  20.55303 \n",
       "19  21.84855 \n",
       "20  21.84855 \n",
       "21  23.65677 \n",
       "22  35.62321 \n",
       "23  54.46886 \n",
       "24  61.42711 \n",
       "25  61.52070 \n",
       "26  62.22138 \n",
       "27  62.22138 \n",
       "28  61.75429 \n",
       "29  61.75429 \n",
       "30  61.75429 \n",
       "... ...      \n",
       "226  41.08834\n",
       "227  54.40227\n",
       "228  63.39878\n",
       "229 118.04210\n",
       "230 122.22377\n",
       "231 122.22377\n",
       "232  71.17293\n",
       "233  71.17293\n",
       "234  83.41201\n",
       "235 196.34603\n",
       "236 196.34603\n",
       "237 192.49592\n",
       "238 192.49592\n",
       "239 136.79726\n",
       "240 161.89120\n",
       "241 116.56337\n",
       "242 116.56337\n",
       "243  85.65619\n",
       "244 110.75012\n",
       "245 110.75012\n",
       "246 103.55984\n",
       "247  62.67792\n",
       "248 103.55984\n",
       "249  62.67792\n",
       "250  62.67792\n",
       "251  95.92032\n",
       "252 137.83050\n",
       "253 153.53692\n",
       "254 141.90313\n",
       "255 136.01981"
      ]
     },
     "metadata": {},
     "output_type": "display_data"
    }
   ],
   "source": [
    "filter$level"
   ]
  },
  {
   "cell_type": "code",
   "execution_count": 61,
   "metadata": {},
   "outputs": [
    {
     "data": {
      "image/png": "[encoded data removed]",
      "text/plain": [
       "Plot with title \"Robust Online Regression Filter\""
      ]
     },
     "metadata": {
      "image/png": {
       "height": 420,
       "width": 420
      },
      "text/plain": {
       "height": 420,
       "width": 420
      }
     },
     "output_type": "display_data"
    }
   ],
   "source": [
    "plot(filter)"
   ]
  },
  {
   "cell_type": "code",
   "execution_count": 63,
   "metadata": {
    "collapsed": true,
    "jupyter": {
     "outputs_hidden": true
    }
   },
   "outputs": [
    {
     "data": {
      "image/png": "[encoded data removed]",
      "text/plain": [
       "plot without title"
      ]
     },
     "metadata": {
      "image/png": {
       "height": 420,
       "width": 420
      },
      "text/plain": {
       "height": 420,
       "width": 420
      }
     },
     "output_type": "display_data"
    }
   ],
   "source": [
    "ggplot(df_1_10001_calculate) + \n",
    " geom_line(aes(x=lat, y=lon),size = 1,alpha = 0.4) +\n",
    "theme(axis.text=element_text(size = 12),axis.title.x = element_text(size = 20),axis.title.y = element_text(size = 20),title= element_text(size = 20))+\n",
    " labs(title =\" lon vs lat \", y = \"lon\", x = \"lat\")"
   ]
  },
  {
   "cell_type": "markdown",
   "metadata": {},
   "source": [
    "## Vehicle distance,speed, acceleration calculation \n",
    "### Spurious values statistics\n",
    "### Value correction"
   ]
  },
  {
   "cell_type": "code",
   "execution_count": 18,
   "metadata": {},
   "outputs": [],
   "source": [
    "# Function to compute distances (D), speeds (S) and acceleration (A) in meters, meters per second, km per hour and m s^-2\n",
    "compute_speed_acceleration <- function(d) {\n",
    "    d = data.frame(d)\n",
    "#     d$dist_meters = NA\n",
    "#     d$dist_meters = as.numeric(d$dist_meters)\n",
    "#     d$interval_seconds = NA\n",
    "#     d$interval_seconds = as.numeric(d$interval_seconds)\n",
    "    d$speed_mps = NA\n",
    "    d$speed_mps = as.numeric(d$speed_mps)\n",
    "    d$speed_kph = NA\n",
    "    d$speed_kph = as.numeric(d$speed_kph)\n",
    "    d$accel_mps2 = NA\n",
    "    d$accel_mps2 = as.numeric(d$accel_mps2)\n",
    "    n <- nrow(d)\n",
    "    diagnostics = {}\n",
    "    if (n >= 2) {\n",
    "#         # Compute interval distance using Haversine function\n",
    "#         d$dist_meters[2:n] = distHaversine(cbind(d$lon[1:n-1],d$lat[1:n-1]),cbind(d$lon[2:n],d$lat[2:n]))\n",
    "#         # Compute time interval\n",
    "#         d$interval_seconds[2:n] = as.numeric(difftime(d$trxtime[2:n], d$trxtime[1:n-1], units = \"secs\"))\n",
    "        # Compute speed in meters per second\n",
    "        d$speed_mps[2:n] = d$dist_meters[2:n] / d$interval_seconds[2:n]\n",
    "        # Convert speed to kph\n",
    "        d$speed_kph[2:n] = d$speed_mps[2:n] * 3.6\n",
    "        # # Compute accelerations\n",
    "        # d$accel_mps2[2:n] = (d$speed_mps[2:n] - d$speed_mps[1:n-1])/d$interval_seconds[2:n]\n",
    "        # Spurious values statistics\n",
    "        index_excessive_speeds = as.numeric(row.names(d[(d$speed_kph > 128) & (!is.na(d$speed_kph)),]))\n",
    "        # Original data metrics calculation\n",
    "         diagnostics$mean_original_speed_kph = mean(as.numeric(d[, \"speed_kph\"]),na.rm=TRUE)\n",
    "         diagnostics$min_original_speed_kph = min(as.numeric(d[, \"speed_kph\"]),na.rm=TRUE)\n",
    "         diagnostics$max_original_speed_kph = max(as.numeric(d[, \"speed_kph\"]),na.rm=TRUE)\n",
    "         diagnostics$num_original_speed_kph = length(as.numeric(d[, \"speed_kph\"]))\n",
    "        # Excessive data metrics calculation\n",
    "         diagnostics$mean_excess_speed_kph = mean(as.numeric(d[index_excessive_speeds, \"speed_kph\"]))\n",
    "         diagnostics$min_excess_speed_kph = min(d[index_excessive_speeds, \"speed_kph\"]) \n",
    "         diagnostics$max_excess_speed_kph = max(as.numeric(d[index_excessive_speeds, \"speed_kph\"])) \n",
    "         diagnostics$num_excess_speed_kph = length(d[index_excessive_speeds, \"speed_kph\"]) \n",
    "         diagnostics$prop_excess_speed_kph = round(100*diagnostics$num_excess_speed/n, 2)\n",
    "        # Correct the excessive speed values and recalculate acceleration and distance\n",
    "        repeat{\n",
    "        d[index_excessive_speeds, c('speed_kph',\"speed_mps\")] = d[index_excessive_speeds - 1 , c('speed_kph',\"speed_mps\")]\n",
    "        d[index_excessive_speeds, \"dist_meters\"] = d[index_excessive_speeds, \"speed_mps\"] * d[index_excessive_speeds,\"interval_seconds\"]\n",
    "        # d[index_excessive_speeds, \"accel_mps2\"] = (d[index_excessive_speeds, \"speed_mps\"] \n",
    "        #                                           - d[index_excessive_speeds - 1, \"speed_mps\"]) / d[index_excessive_speeds,\"interval_seconds\"]\n",
    "        if(max(d$speed_kph,na.rm = TRUE) <= 128){break}\n",
    "        }\n",
    "         # Compute accelerations\n",
    "         d$accel_mps2[2:n] = (d$speed_mps[2:n] - d$speed_mps[1:n-1])/d$interval_seconds[2:n]\n",
    "        # Correct accelerations\n",
    "         index_excessive_accelerations = as.numeric(row.names(d[(d$dist_meters == 0) & (d$accel_mps2 > 6),]))\n",
    "         d[index_excessive_accelerations, \"accel_mps2\"] = d[index_excessive_accelerations - 1 , \"accel_mps2\"]\n",
    "        # Corrected data metrics calculation\n",
    "         diagnostics$mean_corrected_speed_kph = mean(as.numeric(d[, \"speed_kph\"]),na.rm=TRUE)\n",
    "         diagnostics$min_corrected_speed_kph = min(as.numeric(d[, \"speed_kph\"]),na.rm=TRUE)\n",
    "         diagnostics$max_corrected_speed_kph = max(as.numeric(d[, \"speed_kph\"]),na.rm=TRUE)\n",
    "         diagnostics$num_corrected_speed_kph = length(as.numeric(d[, \"speed_kph\"]))\n",
    "    }\n",
    "    return(list(data = d ,diag_metrics = diagnostics))   \n",
    "}"
   ]
  },
  {
   "cell_type": "code",
   "execution_count": 21,
   "metadata": {},
   "outputs": [],
   "source": [
    "# Process calculation \n",
    "process_month_trajectory = function(data){\n",
    "    results_df = data.frame() # empty dataframe\n",
    "    diagnostics_df = data.frame()\n",
    "    for(i in unique(data$day)) { \n",
    "        data_day <- data[data$day == i, ]\n",
    "        # Put each train in one loop in a subset\n",
    "        for (j in unique(data_day$trainid)) {\n",
    "            data_day_train = data_day[data_day$trainid == j, ]        \n",
    "            trajectory_and_diagnostics <- compute_trajectories(data_day_train)  \n",
    "            trajectories = trajectory_and_diagnostics$data\n",
    "            diagnostics = trajectory_and_diagnostics$diag_metrics          \n",
    "            results_df <- rbind(results_df, trajectories)\n",
    "            diagnostics_df <- rbind(diagnostics_df, diagnostics) \n",
    "        }\n",
    "    }\n",
    "     write.csv(x = results_df, file.path(\"../../data/tidy/\", paste(\"trajectory\", yy, mm, \".csv\", sep = \"-\", collapse = \"\")))\n",
    "    write.csv(x = diagnostics_df, file.path(\"../../data/tidy/\", paste(\"trajectory-diagnostics\" , yy, mm, \".csv\", sep = \"-\",collapse = \"\")))\n",
    "    # Uncomment the beneath line and check the computation result\n",
    "    # return(list(result = results_df, result_diag = diagnostics_df ))\n",
    " }"
   ]
  },
  {
   "cell_type": "code",
   "execution_count": null,
   "metadata": {},
   "outputs": [],
   "source": [
    "# Generate the final table\n",
    "main = function(YEARLIST, MONTHLIST) {\n",
    "    for (y in YEARLIST) {\n",
    "        for (m in MONTHLIST) {\n",
    "            df_agg = aggregate_line_trajectories(y, m)\n",
    "            df_agg = preprocess_data(df_agg)\n",
    "            process_month_trajectory(df_agg, y, m)            \n",
    "        }\n",
    "    }\n",
    "}"
   ]
  },
  {
   "cell_type": "code",
   "execution_count": null,
   "metadata": {},
   "outputs": [],
   "source": [
    "main(YEARLIST, MONTHLIST)"
   ]
  }
 ],
 "metadata": {
  "kernelspec": {
   "display_name": "R",
   "language": "R",
   "name": "ir"
  },
  "language_info": {
   "codemirror_mode": "r",
   "file_extension": ".r",
   "mimetype": "text/x-r-source",
   "name": "R",
   "pygments_lexer": "r",
   "version": "3.6.2"
  }
 },
 "nbformat": 4,
 "nbformat_minor": 4
}
