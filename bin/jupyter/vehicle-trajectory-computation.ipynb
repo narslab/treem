{
 "cells": [
  {
   "cell_type": "markdown",
   "metadata": {},
   "source": [
    "# Data preprocessing and model preparation"
   ]
  },
  {
   "cell_type": "code",
   "execution_count": 5,
   "metadata": {
    "collapsed": true,
    "jupyter": {
     "outputs_hidden": true
    }
   },
   "outputs": [
    {
     "name": "stderr",
     "output_type": "stream",
     "text": [
      "Warning message:\n",
      "\"package 'data.table' was built under R version 3.6.3\"\n",
      "\n",
      "Attaching package: 'dplyr'\n",
      "\n",
      "\n",
      "The following objects are masked from 'package:data.table':\n",
      "\n",
      "    between, first, last\n",
      "\n",
      "\n",
      "The following objects are masked from 'package:stats':\n",
      "\n",
      "    filter, lag\n",
      "\n",
      "\n",
      "The following objects are masked from 'package:base':\n",
      "\n",
      "    intersect, setdiff, setequal, union\n",
      "\n",
      "\n",
      "Warning message:\n",
      "\"package 'geosphere' was built under R version 3.6.3\"\n",
      "\n",
      "Attaching package: 'lubridate'\n",
      "\n",
      "\n",
      "The following objects are masked from 'package:data.table':\n",
      "\n",
      "    hour, isoweek, mday, minute, month, quarter, second, wday, week,\n",
      "    yday, year\n",
      "\n",
      "\n",
      "The following object is masked from 'package:base':\n",
      "\n",
      "    date\n",
      "\n",
      "\n"
     ]
    }
   ],
   "source": [
    "library(data.table) #fread\n",
    "library(dplyr)\n",
    "library(geosphere) # Calculate vehicle distance\n",
    "library(lubridate)# Date column extraction"
   ]
  },
  {
   "cell_type": "code",
   "execution_count": 6,
   "metadata": {},
   "outputs": [
    {
     "data": {
      "text/html": [
       "249200"
      ],
      "text/latex": [
       "249200"
      ],
      "text/markdown": [
       "249200"
      ],
      "text/plain": [
       "[1] 249200"
      ]
     },
     "metadata": {},
     "output_type": "display_data"
    }
   ],
   "source": [
    "# adjust the R limit\n",
    "memory.limit(size=249200)"
   ]
  },
  {
   "cell_type": "markdown",
   "metadata": {},
   "source": [
    "### Input location data and data preprocessing"
   ]
  },
  {
   "cell_type": "code",
   "execution_count": 7,
   "metadata": {},
   "outputs": [],
   "source": [
    "# Read data from folder\n",
    "# Suggestion: Just do one year at one time. One year's table has 94363502 rows(green)\n",
    "yearlist = c('19')\n",
    "monthlist = c(\"01\", \"02\", \"03\", \"04\", \"05\", \"06\", \"07\", \"08\", \"09\", \"10\", \"11\", \"12\") #FOR FULL TABLE\n",
    "distance_filepath = \"../../data/raw/vehicle-location/\"\n",
    "# aggregrate_trajectory_table\n",
    "trajectory_table_combination = function(yearlist,monthlist){\n",
    "    for (year in yearlist) {\n",
    "        for (month in monthlist) {\n",
    "        assign(paste(\"dg\", year, month, sep=\"\"), fread(paste(distance_filepath, paste(\"lightrail\", \"trajectories\", month, year, \".csv\", sep = \"-\", collapse = \"\"), sep=\"\")))\n",
    "        assign(paste(\"dh\", year, month, sep=\"\"), fread(paste(distance_filepath, paste(\"heavyrail\", \"trajectories\", month, year, \".csv\", sep = \"-\", collapse = \"\"), sep=\"\")))\n",
    "        }\n",
    "    }\n",
    "   # Combine the original tables to a single one for analysis\n",
    "   dg = rbind(dg1901,dg1902,dg1903,dg1904,dg1905,dg1906,dg1907,dg1908,dg1909,dg1910,dg1911,dg1912)\n",
    "   dh = rbind(dh1901,dh1902,dh1903,dh1904,dh1905,dh1906,dh1907,dh1908,dh1909,dh1910,dh1911,dh1912)\n",
    "   dg = subset(dg,select = c(trxtime,trainid,lineid,lat,lon))\n",
    "   dh = subset(dh,select = c(trxtime,trainid,lineid,lat,lon))\n",
    "   df = rbind(dg,dh)\n",
    "   return(df)\n",
    "}"
   ]
  },
  {
   "cell_type": "code",
   "execution_count": 8,
   "metadata": {},
   "outputs": [],
   "source": [
    "df_trajectory_table = trajectory_table_combination(yearlist,monthlist)"
   ]
  },
  {
   "cell_type": "code",
   "execution_count": 9,
   "metadata": {
    "collapsed": true,
    "jupyter": {
     "outputs_hidden": true
    }
   },
   "outputs": [
    {
     "data": {
      "text/html": [
       "<table>\n",
       "<caption>A data.table: 6 × 5</caption>\n",
       "<thead>\n",
       "\t<tr><th scope=col>trxtime</th><th scope=col>trainid</th><th scope=col>lineid</th><th scope=col>lat</th><th scope=col>lon</th></tr>\n",
       "\t<tr><th scope=col>&lt;chr&gt;</th><th scope=col>&lt;int&gt;</th><th scope=col>&lt;int&gt;</th><th scope=col>&lt;dbl&gt;</th><th scope=col>&lt;dbl&gt;</th></tr>\n",
       "</thead>\n",
       "<tbody>\n",
       "\t<tr><td>2019-01-01 23:59:59</td><td>10415</td><td>4</td><td>42.31891</td><td>-71.21649</td></tr>\n",
       "\t<tr><td>2019-01-01 23:59:42</td><td>10018</td><td>4</td><td>42.35164</td><td>-71.07172</td></tr>\n",
       "\t<tr><td>2019-01-01 23:59:26</td><td>10262</td><td>4</td><td>42.34763</td><td>-71.10144</td></tr>\n",
       "\t<tr><td>2019-01-01 23:59:23</td><td>10172</td><td>4</td><td>42.35927</td><td>-71.05945</td></tr>\n",
       "\t<tr><td>2019-01-01 23:59:47</td><td>10444</td><td>4</td><td>42.35301</td><td>-71.06454</td></tr>\n",
       "\t<tr><td>2019-01-01 23:59:16</td><td>10075</td><td>4</td><td>42.35986</td><td>-71.05891</td></tr>\n",
       "</tbody>\n",
       "</table>\n"
      ],
      "text/latex": [
       "A data.table: 6 × 5\n",
       "\\begin{tabular}{lllll}\n",
       " trxtime & trainid & lineid & lat & lon\\\\\n",
       " <chr> & <int> & <int> & <dbl> & <dbl>\\\\\n",
       "\\hline\n",
       "\t 2019-01-01 23:59:59 & 10415 & 4 & 42.31891 & -71.21649\\\\\n",
       "\t 2019-01-01 23:59:42 & 10018 & 4 & 42.35164 & -71.07172\\\\\n",
       "\t 2019-01-01 23:59:26 & 10262 & 4 & 42.34763 & -71.10144\\\\\n",
       "\t 2019-01-01 23:59:23 & 10172 & 4 & 42.35927 & -71.05945\\\\\n",
       "\t 2019-01-01 23:59:47 & 10444 & 4 & 42.35301 & -71.06454\\\\\n",
       "\t 2019-01-01 23:59:16 & 10075 & 4 & 42.35986 & -71.05891\\\\\n",
       "\\end{tabular}\n"
      ],
      "text/markdown": [
       "\n",
       "A data.table: 6 × 5\n",
       "\n",
       "| trxtime &lt;chr&gt; | trainid &lt;int&gt; | lineid &lt;int&gt; | lat &lt;dbl&gt; | lon &lt;dbl&gt; |\n",
       "|---|---|---|---|---|\n",
       "| 2019-01-01 23:59:59 | 10415 | 4 | 42.31891 | -71.21649 |\n",
       "| 2019-01-01 23:59:42 | 10018 | 4 | 42.35164 | -71.07172 |\n",
       "| 2019-01-01 23:59:26 | 10262 | 4 | 42.34763 | -71.10144 |\n",
       "| 2019-01-01 23:59:23 | 10172 | 4 | 42.35927 | -71.05945 |\n",
       "| 2019-01-01 23:59:47 | 10444 | 4 | 42.35301 | -71.06454 |\n",
       "| 2019-01-01 23:59:16 | 10075 | 4 | 42.35986 | -71.05891 |\n",
       "\n"
      ],
      "text/plain": [
       "  trxtime             trainid lineid lat      lon      \n",
       "1 2019-01-01 23:59:59 10415   4      42.31891 -71.21649\n",
       "2 2019-01-01 23:59:42 10018   4      42.35164 -71.07172\n",
       "3 2019-01-01 23:59:26 10262   4      42.34763 -71.10144\n",
       "4 2019-01-01 23:59:23 10172   4      42.35927 -71.05945\n",
       "5 2019-01-01 23:59:47 10444   4      42.35301 -71.06454\n",
       "6 2019-01-01 23:59:16 10075   4      42.35986 -71.05891"
      ]
     },
     "metadata": {},
     "output_type": "display_data"
    }
   ],
   "source": [
    "head(df_trajectory_table)"
   ]
  },
  {
   "cell_type": "markdown",
   "metadata": {},
   "source": [
    "### Experimental section"
   ]
  },
  {
   "cell_type": "code",
   "execution_count": 10,
   "metadata": {},
   "outputs": [],
   "source": [
    "d_test = df_trajectory_table[1:1000,]"
   ]
  },
  {
   "cell_type": "code",
   "execution_count": 46,
   "metadata": {},
   "outputs": [],
   "source": [
    "# Data preprocessing\n",
    "preprocess_data = function(df){\n",
    "    # Add time column to do analysis by random time scale\n",
    "     df$day = day(df$trxtime)\n",
    "     df$month = month(df$trxtime)\n",
    "     df$year = year(df$trxtime)\n",
    "    # check the na values ratio\n",
    "     df_na = df[(is.na(df$lon)) | (is.na(df$lat)),]\n",
    "     df_na_rate = nrow(df_na)/nrow(df)\n",
    "    # remove the rows with values of lat and lon are 0\n",
    "     df = df[!(is.na(df$lon)) | !(is.na(df$lat)),] \n",
    "     df = df[order(df$trainid, df$trxtime),]\n",
    "     df = distinct(df,trxtime, trainid, .keep_all = TRUE) # Remove the duplicated time record\n",
    "    return(df)\n",
    "}"
   ]
  },
  {
   "cell_type": "code",
   "execution_count": 47,
   "metadata": {
    "collapsed": true,
    "jupyter": {
     "outputs_hidden": true
    }
   },
   "outputs": [
    {
     "ename": "ERROR",
     "evalue": "Error in return(df, df_na_rate): multi-argument returns are not permitted\n",
     "output_type": "error",
     "traceback": [
      "Error in return(df, df_na_rate): multi-argument returns are not permitted\nTraceback:\n",
      "1. preprocess_data(d_test)"
     ]
    }
   ],
   "source": [
    "preprocess_data(d_test)"
   ]
  },
  {
   "cell_type": "code",
   "execution_count": null,
   "metadata": {},
   "outputs": [],
   "source": [
    "# All speed are mph\n",
    "# Green line\n",
    "## Branch main 8.6\n",
    "## Branch B 7.1\n",
    "## Branch C 7.9\n",
    "## Branch D 18.7\n",
    "## Branch E 7.1\n",
    "# Red line \n",
    "## A 16.7\n",
    "## B 20.1\n",
    "# Orange line 18.3\n",
    "# Blue line 18.6\n",
    "# Ref: https://www.fixmbta.com/green-line-upgrades"
   ]
  },
  {
   "cell_type": "code",
   "execution_count": 31,
   "metadata": {
    "collapsed": true,
    "jupyter": {
     "outputs_hidden": true
    }
   },
   "outputs": [
    {
     "data": {
      "text/html": [
       "<table>\n",
       "<caption>A data.table: 6 × 5</caption>\n",
       "<thead>\n",
       "\t<tr><th scope=col>trxtime</th><th scope=col>trainid</th><th scope=col>lineid</th><th scope=col>lat</th><th scope=col>lon</th></tr>\n",
       "\t<tr><th scope=col>&lt;chr&gt;</th><th scope=col>&lt;int&gt;</th><th scope=col>&lt;int&gt;</th><th scope=col>&lt;dbl&gt;</th><th scope=col>&lt;dbl&gt;</th></tr>\n",
       "</thead>\n",
       "<tbody>\n",
       "\t<tr><td>2019-01-01 23:59:59</td><td>10415</td><td>4</td><td>42.31891</td><td>-71.21649</td></tr>\n",
       "\t<tr><td>2019-01-01 23:59:42</td><td>10018</td><td>4</td><td>42.35164</td><td>-71.07172</td></tr>\n",
       "\t<tr><td>2019-01-01 23:59:26</td><td>10262</td><td>4</td><td>42.34763</td><td>-71.10144</td></tr>\n",
       "\t<tr><td>2019-01-01 23:59:23</td><td>10172</td><td>4</td><td>42.35927</td><td>-71.05945</td></tr>\n",
       "\t<tr><td>2019-01-01 23:59:47</td><td>10444</td><td>4</td><td>42.35301</td><td>-71.06454</td></tr>\n",
       "\t<tr><td>2019-01-01 23:59:16</td><td>10075</td><td>4</td><td>42.35986</td><td>-71.05891</td></tr>\n",
       "</tbody>\n",
       "</table>\n"
      ],
      "text/latex": [
       "A data.table: 6 × 5\n",
       "\\begin{tabular}{lllll}\n",
       " trxtime & trainid & lineid & lat & lon\\\\\n",
       " <chr> & <int> & <int> & <dbl> & <dbl>\\\\\n",
       "\\hline\n",
       "\t 2019-01-01 23:59:59 & 10415 & 4 & 42.31891 & -71.21649\\\\\n",
       "\t 2019-01-01 23:59:42 & 10018 & 4 & 42.35164 & -71.07172\\\\\n",
       "\t 2019-01-01 23:59:26 & 10262 & 4 & 42.34763 & -71.10144\\\\\n",
       "\t 2019-01-01 23:59:23 & 10172 & 4 & 42.35927 & -71.05945\\\\\n",
       "\t 2019-01-01 23:59:47 & 10444 & 4 & 42.35301 & -71.06454\\\\\n",
       "\t 2019-01-01 23:59:16 & 10075 & 4 & 42.35986 & -71.05891\\\\\n",
       "\\end{tabular}\n"
      ],
      "text/markdown": [
       "\n",
       "A data.table: 6 × 5\n",
       "\n",
       "| trxtime &lt;chr&gt; | trainid &lt;int&gt; | lineid &lt;int&gt; | lat &lt;dbl&gt; | lon &lt;dbl&gt; |\n",
       "|---|---|---|---|---|\n",
       "| 2019-01-01 23:59:59 | 10415 | 4 | 42.31891 | -71.21649 |\n",
       "| 2019-01-01 23:59:42 | 10018 | 4 | 42.35164 | -71.07172 |\n",
       "| 2019-01-01 23:59:26 | 10262 | 4 | 42.34763 | -71.10144 |\n",
       "| 2019-01-01 23:59:23 | 10172 | 4 | 42.35927 | -71.05945 |\n",
       "| 2019-01-01 23:59:47 | 10444 | 4 | 42.35301 | -71.06454 |\n",
       "| 2019-01-01 23:59:16 | 10075 | 4 | 42.35986 | -71.05891 |\n",
       "\n"
      ],
      "text/plain": [
       "  trxtime             trainid lineid lat      lon      \n",
       "1 2019-01-01 23:59:59 10415   4      42.31891 -71.21649\n",
       "2 2019-01-01 23:59:42 10018   4      42.35164 -71.07172\n",
       "3 2019-01-01 23:59:26 10262   4      42.34763 -71.10144\n",
       "4 2019-01-01 23:59:23 10172   4      42.35927 -71.05945\n",
       "5 2019-01-01 23:59:47 10444   4      42.35301 -71.06454\n",
       "6 2019-01-01 23:59:16 10075   4      42.35986 -71.05891"
      ]
     },
     "metadata": {},
     "output_type": "display_data"
    }
   ],
   "source": [
    "head(d_test)"
   ]
  },
  {
   "cell_type": "markdown",
   "metadata": {},
   "source": [
    "### Vehicle distance,speed, acceleration calculation and correction"
   ]
  },
  {
   "cell_type": "code",
   "execution_count": 126,
   "metadata": {},
   "outputs": [],
   "source": [
    "# Correct table computation\n",
    "correct_compute_variables <- function(d) {\n",
    "    d$dist_meters = NA\n",
    "    d$interval_seconds = NA\n",
    "    d$speed_mps = NA\n",
    "    d$speed_kph = NA\n",
    "    d$accel_mps2 = NA\n",
    "    n <- nrow(d)\n",
    "    if (n >= 2) {\n",
    "        # Compute interval distance using Haversine function\n",
    "        d$dist_meters[2:n] = distHaversine(cbind(d$lon[1:n-1],d$lat[1:n-1]),cbind(d$lon[2:n],d$lat[2:n]))\n",
    "        # Compute time interval\n",
    "        d$interval_seconds[2:n] = as.numeric(difftime(d$trxtime[2:n], d$trxtime[1:n-1], units = \"secs\"))\n",
    "        # Compute speed in meters per second\n",
    "        d$speed_mps[2:n] = d$dist_meters[2:n] / d$interval_seconds[2:n]\n",
    "        d$speed_kph[2:n] = d$speed_mps[2:n]*3.6\n",
    "        d$accel_mps2[2:n] = (d$speed_mps[2:n] - d$speed_mps[1:n-1])/d$interval_seconds[2:n]\n",
    "         # revise the incorrect values \n",
    "        for(k in 2:n) { \n",
    "            if (!(is.na(d$speed_kph[k]))) {\n",
    "                if (d$speed_kph[k] > 128 ){\n",
    "                # the reference link is here:\n",
    "                # https://www.masslive.com/worcester/2019/09/electrified-faster-and-more-trains-7-ways-the-mbtas-commuter-rail-service-could-be-a-lot-better.html\n",
    "                     d$speed_kph[k] = d$speed_kph[k-1]\n",
    "                     d$speed_mps[k] = d$speed_kph[k] / 3.6\n",
    "                     d$accel_mps2[k] = (d$speed_mps[k]-d$speed_mps[k-1]) / d$interval_seconds[k]\n",
    "                     d$dist_meters[k] = d$speed_mps[k] * d$interval_seconds[k]  \n",
    "                 }\n",
    "             }\n",
    "         } \n",
    "     }\n",
    "    return(d\n",
    "}"
   ]
  },
  {
   "cell_type": "code",
   "execution_count": 125,
   "metadata": {},
   "outputs": [],
   "source": [
    "# Process calculation for four lines\n",
    "results.df = data.frame() # empty dataframe\n",
    "compute_trajectory = function(data){\n",
    " for(i in unique(data$day)) { \n",
    "    if (i <= 31) { # define when the loop will end\n",
    "        data.day <- data[data$day == i, ]\n",
    "        for (j in unique(data.day$trainid)) {# Put each train in one loop in a subset\n",
    "            data.day.train = data.day[data.day$trainid == j, ]        \n",
    "            results <- compute_variables(data.day.train) # Process data with only one row separately        \n",
    "            results.df <- rbind(results.df, results)\n",
    "         # put all the results in one table\n",
    "          }\n",
    "       }\n",
    "    }\n",
    "    return(results.df)\n",
    " # Save the results for one year\n",
    "# write.csv(x=results.df,file.path(\"../../data/tidy/\", paste(\"rail_distances\",yearlist,monthlist,\".csv\",sep = \"-\",collapse = \"\")))\n",
    "}"
   ]
  },
  {
   "cell_type": "markdown",
   "metadata": {},
   "source": [
    "### Summarize the excessive value"
   ]
  },
  {
   "cell_type": "code",
   "execution_count": 138,
   "metadata": {},
   "outputs": [],
   "source": [
    "# For making sure the data structure is same, please generate the df_trajectory_table firstly\n",
    "d_excessive_speed = d_test[0,]\n",
    "d_excessive_speed$dist_meters = NA\n",
    "d_excessive_speed$interval_seconds = NA\n",
    "d_excessive_speed$speed_mps = NA\n",
    "d_excessive_speed$speed_kph = NA\n",
    "d_excessive_speed$accel_mps2 = NA\n",
    "# Function to compute distances (D), speeds (S) and acceleration (A) in meters, meters per second, km per hour and m s^-2\n",
    "excessive_speed <- function(d) {\n",
    "    d$dist_meters = NA\n",
    "    d$interval_seconds = NA\n",
    "    d$speed_mps = NA\n",
    "    d$speed_kph = NA\n",
    "    d$accel_mps2 = NA\n",
    "    n <- nrow(d)\n",
    "    if (n >= 2) {\n",
    "        # Compute interval distance using Haversine function\n",
    "        d$dist_meters[2:n] = distHaversine(cbind(d$lon[1:n-1],d$lat[1:n-1]),cbind(d$lon[2:n],d$lat[2:n]))\n",
    "        # Compute time interval\n",
    "        d$interval_seconds[2:n] = as.numeric(difftime(d$trxtime[2:n], d$trxtime[1:n-1], units = \"secs\"))\n",
    "        # Compute speed in meters per second\n",
    "        d$speed_mps[2:n] = d$dist_meters[2:n] / d$interval_seconds[2:n]\n",
    "        d$speed_kph[2:n] = d$speed_mps[2:n]*3.6\n",
    "        d$accel_mps2[2:n] = (d$speed_mps[2:n] - d$speed_mps[1:n-1])/d$interval_seconds[2:n]\n",
    "         # revise the incorrect values \n",
    "        for(k in 2:n) { \n",
    "            if (!(is.na(d$speed_kph[k]))) {\n",
    "                if (d$speed_kph[k] > 128 ){\n",
    "                    # put all excessive values to one single table\n",
    "                    d_excessive_speed = rbind(d_excessive_speed,as.vector(d[k]))\n",
    "                # the reference link is here:\n",
    "                # https://www.masslive.com/worcester/2019/09/electrified-faster-and-more-trains-7-ways-the-mbtas-commuter-rail-service-could-be-a-lot-better.html\n",
    "                     d$speed_kph[k] = d$speed_kph[k-1]\n",
    "                     d$speed_mps[k] = d$speed_kph[k] / 3.6\n",
    "                     d$accel_mps2[k] = (d$speed_mps[k]-d$speed_mps[k-1]) / d$interval_seconds[k]\n",
    "                     d$dist_meters[k] = d$speed_mps[k] * d$interval_seconds[k]  \n",
    "                 }\n",
    "             }\n",
    "         } \n",
    "     }\n",
    "    return(list(d,d_excessive_speed))\n",
    "}"
   ]
  },
  {
   "cell_type": "code",
   "execution_count": 139,
   "metadata": {},
   "outputs": [],
   "source": [
    "# Process calculation for four lines\n",
    "results.df = data.frame() # empty dataframe\n",
    "excessive_speed_table = function(data){\n",
    " for(i in unique(data$day)) { \n",
    "    if (i <= 31) { # define when the loop will end\n",
    "        data.day <- data[data$day == i, ]\n",
    "        for (j in unique(data.day$trainid)) {# Put each train in one loop in a subset\n",
    "            data.day.train = data.day[data.day$trainid == j, ]       \n",
    "            results <- excessive_speed(data.day.train)\n",
    "            # Process data with only one row separately        \n",
    "            results.df <- rbind(results.df, results)\n",
    "         # put all the results in one table\n",
    "          }\n",
    "       }\n",
    "    }\n",
    "    return(results.df)\n",
    " # Save the results for one year\n",
    "# write.csv(x=results.df,file.path(\"../../data/tidy/\", paste(\"rail_distances\",yearlist,monthlist,\".csv\",sep = \"-\",collapse = \"\")))\n",
    "}"
   ]
  },
  {
   "cell_type": "code",
   "execution_count": 131,
   "metadata": {
    "collapsed": true,
    "jupyter": {
     "outputs_hidden": true
    }
   },
   "outputs": [
    {
     "data": {
      "text/html": [
       "<table>\n",
       "<caption>A data.table: 304 × 8</caption>\n",
       "<thead>\n",
       "\t<tr><th scope=col>trxtime</th><th scope=col>trainid</th><th scope=col>lineid</th><th scope=col>lat</th><th scope=col>lon</th><th scope=col>day</th><th scope=col>month</th><th scope=col>year</th></tr>\n",
       "\t<tr><th scope=col>&lt;chr&gt;</th><th scope=col>&lt;int&gt;</th><th scope=col>&lt;int&gt;</th><th scope=col>&lt;dbl&gt;</th><th scope=col>&lt;dbl&gt;</th><th scope=col>&lt;int&gt;</th><th scope=col>&lt;dbl&gt;</th><th scope=col>&lt;dbl&gt;</th></tr>\n",
       "</thead>\n",
       "<tbody>\n",
       "\t<tr><td>2019-01-01 03:00:21</td><td>10012</td><td>4</td><td>42.33728</td><td>-71.25358</td><td>1</td><td>1</td><td>2019</td></tr>\n",
       "\t<tr><td>2019-01-01 03:02:09</td><td>10012</td><td>4</td><td>42.33738</td><td>-71.25332</td><td>1</td><td>1</td><td>2019</td></tr>\n",
       "\t<tr><td>2019-01-01 23:59:42</td><td>10018</td><td>4</td><td>42.35164</td><td>-71.07172</td><td>1</td><td>1</td><td>2019</td></tr>\n",
       "\t<tr><td>2019-01-01 03:00:20</td><td>10045</td><td>4</td><td>42.34002</td><td>-71.16640</td><td>1</td><td>1</td><td>2019</td></tr>\n",
       "\t<tr><td>2019-01-01 03:00:37</td><td>10045</td><td>4</td><td>42.34027</td><td>-71.16688</td><td>1</td><td>1</td><td>2019</td></tr>\n",
       "\t<tr><td>2019-01-01 03:01:33</td><td>10049</td><td>4</td><td>42.35164</td><td>-71.07172</td><td>1</td><td>1</td><td>2019</td></tr>\n",
       "\t<tr><td>2019-01-01 03:02:20</td><td>10049</td><td>4</td><td>42.35018</td><td>-71.07710</td><td>1</td><td>1</td><td>2019</td></tr>\n",
       "\t<tr><td>2019-01-01 03:03:46</td><td>10049</td><td>4</td><td>42.34996</td><td>-71.07792</td><td>1</td><td>1</td><td>2019</td></tr>\n",
       "\t<tr><td>2019-01-01 03:01:27</td><td>10070</td><td>4</td><td>42.34791</td><td>-71.08631</td><td>1</td><td>1</td><td>2019</td></tr>\n",
       "\t<tr><td>2019-01-01 03:02:07</td><td>10070</td><td>4</td><td>42.34809</td><td>-71.08845</td><td>1</td><td>1</td><td>2019</td></tr>\n",
       "\t<tr><td>2019-01-01 03:02:11</td><td>10070</td><td>4</td><td>42.34809</td><td>-71.08845</td><td>1</td><td>1</td><td>2019</td></tr>\n",
       "\t<tr><td>2019-01-01 03:02:17</td><td>10070</td><td>4</td><td>42.34806</td><td>-71.08969</td><td>1</td><td>1</td><td>2019</td></tr>\n",
       "\t<tr><td>2019-01-01 03:02:40</td><td>10070</td><td>4</td><td>42.34811</td><td>-71.09211</td><td>1</td><td>1</td><td>2019</td></tr>\n",
       "\t<tr><td>2019-01-01 03:03:28</td><td>10070</td><td>4</td><td>42.34897</td><td>-71.09328</td><td>1</td><td>1</td><td>2019</td></tr>\n",
       "\t<tr><td>2019-01-01 03:03:33</td><td>10070</td><td>4</td><td>42.34897</td><td>-71.09328</td><td>1</td><td>1</td><td>2019</td></tr>\n",
       "\t<tr><td>2019-01-01 03:03:38</td><td>10070</td><td>4</td><td>42.34898</td><td>-71.09414</td><td>1</td><td>1</td><td>2019</td></tr>\n",
       "\t<tr><td>2019-01-01 03:03:51</td><td>10070</td><td>4</td><td>42.34894</td><td>-71.09527</td><td>1</td><td>1</td><td>2019</td></tr>\n",
       "\t<tr><td>2019-01-01 03:00:07</td><td>10072</td><td>4</td><td>42.33680</td><td>-71.25352</td><td>1</td><td>1</td><td>2019</td></tr>\n",
       "\t<tr><td>2019-01-01 03:02:25</td><td>10072</td><td>4</td><td>42.33668</td><td>-71.25398</td><td>1</td><td>1</td><td>2019</td></tr>\n",
       "\t<tr><td>2019-01-01 03:02:37</td><td>10072</td><td>4</td><td>42.33680</td><td>-71.25352</td><td>1</td><td>1</td><td>2019</td></tr>\n",
       "\t<tr><td>2019-01-01 03:02:43</td><td>10072</td><td>4</td><td>42.33668</td><td>-71.25398</td><td>1</td><td>1</td><td>2019</td></tr>\n",
       "\t<tr><td>2019-01-01 23:59:16</td><td>10075</td><td>4</td><td>42.35986</td><td>-71.05891</td><td>1</td><td>1</td><td>2019</td></tr>\n",
       "\t<tr><td>2019-01-01 03:00:07</td><td>10076</td><td>4</td><td>42.34791</td><td>-71.08631</td><td>1</td><td>1</td><td>2019</td></tr>\n",
       "\t<tr><td>2019-01-01 03:00:10</td><td>10076</td><td>4</td><td>42.34809</td><td>-71.08845</td><td>1</td><td>1</td><td>2019</td></tr>\n",
       "\t<tr><td>2019-01-01 03:00:13</td><td>10076</td><td>4</td><td>42.34806</td><td>-71.08969</td><td>1</td><td>1</td><td>2019</td></tr>\n",
       "\t<tr><td>2019-01-01 03:00:29</td><td>10076</td><td>4</td><td>42.34811</td><td>-71.09211</td><td>1</td><td>1</td><td>2019</td></tr>\n",
       "\t<tr><td>2019-01-01 03:01:15</td><td>10076</td><td>4</td><td>42.34897</td><td>-71.09328</td><td>1</td><td>1</td><td>2019</td></tr>\n",
       "\t<tr><td>2019-01-01 03:01:18</td><td>10076</td><td>4</td><td>42.34897</td><td>-71.09328</td><td>1</td><td>1</td><td>2019</td></tr>\n",
       "\t<tr><td>2019-01-01 03:01:26</td><td>10076</td><td>4</td><td>42.34898</td><td>-71.09414</td><td>1</td><td>1</td><td>2019</td></tr>\n",
       "\t<tr><td>2019-01-01 03:01:41</td><td>10076</td><td>4</td><td>42.34904</td><td>-71.09528</td><td>1</td><td>1</td><td>2019</td></tr>\n",
       "\t<tr><td>...</td><td>...</td><td>...</td><td>...</td><td>...</td><td>...</td><td>...</td><td>...</td></tr>\n",
       "\t<tr><td>2019-01-01 03:03:19</td><td>10436</td><td>4</td><td>42.33680</td><td>-71.25352</td><td>1</td><td>1</td><td>2019</td></tr>\n",
       "\t<tr><td>2019-01-01 03:03:25</td><td>10436</td><td>4</td><td>42.33680</td><td>-71.25352</td><td>1</td><td>1</td><td>2019</td></tr>\n",
       "\t<tr><td>2019-01-01 03:03:31</td><td>10436</td><td>4</td><td>42.33680</td><td>-71.25352</td><td>1</td><td>1</td><td>2019</td></tr>\n",
       "\t<tr><td>2019-01-01 03:03:37</td><td>10436</td><td>4</td><td>42.33680</td><td>-71.25352</td><td>1</td><td>1</td><td>2019</td></tr>\n",
       "\t<tr><td>2019-01-01 03:03:43</td><td>10436</td><td>4</td><td>42.33680</td><td>-71.25352</td><td>1</td><td>1</td><td>2019</td></tr>\n",
       "\t<tr><td>2019-01-01 03:03:49</td><td>10436</td><td>4</td><td>42.33680</td><td>-71.25352</td><td>1</td><td>1</td><td>2019</td></tr>\n",
       "\t<tr><td>2019-01-01 03:03:55</td><td>10436</td><td>4</td><td>42.33680</td><td>-71.25352</td><td>1</td><td>1</td><td>2019</td></tr>\n",
       "\t<tr><td>2019-01-01 03:04:01</td><td>10436</td><td>4</td><td>42.33680</td><td>-71.25352</td><td>1</td><td>1</td><td>2019</td></tr>\n",
       "\t<tr><td>2019-01-01 03:04:07</td><td>10436</td><td>4</td><td>42.33680</td><td>-71.25352</td><td>1</td><td>1</td><td>2019</td></tr>\n",
       "\t<tr><td>2019-01-01 03:04:13</td><td>10436</td><td>4</td><td>42.33680</td><td>-71.25352</td><td>1</td><td>1</td><td>2019</td></tr>\n",
       "\t<tr><td>2019-01-01 23:59:47</td><td>10444</td><td>4</td><td>42.35301</td><td>-71.06454</td><td>1</td><td>1</td><td>2019</td></tr>\n",
       "\t<tr><td>2019-01-01 03:01:59</td><td>10483</td><td>4</td><td>42.33525</td><td>-71.14855</td><td>1</td><td>1</td><td>2019</td></tr>\n",
       "\t<tr><td>2019-01-01 03:02:59</td><td>10483</td><td>4</td><td>42.33546</td><td>-71.14940</td><td>1</td><td>1</td><td>2019</td></tr>\n",
       "\t<tr><td>2019-01-01 03:03:05</td><td>10483</td><td>4</td><td>42.33525</td><td>-71.14855</td><td>1</td><td>1</td><td>2019</td></tr>\n",
       "\t<tr><td>2019-01-01 03:00:03</td><td>10485</td><td>4</td><td>42.33658</td><td>-71.25367</td><td>1</td><td>1</td><td>2019</td></tr>\n",
       "\t<tr><td>2019-01-01 03:03:15</td><td>10485</td><td>4</td><td>42.33645</td><td>-71.25413</td><td>1</td><td>1</td><td>2019</td></tr>\n",
       "\t<tr><td>2019-01-01 03:00:06</td><td>10488</td><td>4</td><td>42.36609</td><td>-71.06298</td><td>1</td><td>1</td><td>2019</td></tr>\n",
       "\t<tr><td>2019-01-01 03:00:32</td><td>10488</td><td>4</td><td>42.36574</td><td>-71.06466</td><td>1</td><td>1</td><td>2019</td></tr>\n",
       "\t<tr><td>2019-01-01 03:00:35</td><td>10488</td><td>4</td><td>42.36574</td><td>-71.06466</td><td>1</td><td>1</td><td>2019</td></tr>\n",
       "\t<tr><td>2019-01-01 03:01:10</td><td>10488</td><td>4</td><td>42.36672</td><td>-71.06772</td><td>1</td><td>1</td><td>2019</td></tr>\n",
       "\t<tr><td>2019-01-01 03:01:16</td><td>10488</td><td>4</td><td>42.36691</td><td>-71.06811</td><td>1</td><td>1</td><td>2019</td></tr>\n",
       "\t<tr><td>2019-01-01 03:01:23</td><td>10488</td><td>4</td><td>42.36758</td><td>-71.06944</td><td>1</td><td>1</td><td>2019</td></tr>\n",
       "\t<tr><td>2019-01-01 03:01:52</td><td>10488</td><td>4</td><td>42.36857</td><td>-71.07138</td><td>1</td><td>1</td><td>2019</td></tr>\n",
       "\t<tr><td>2019-01-01 03:02:24</td><td>10488</td><td>4</td><td>42.36960</td><td>-71.07338</td><td>1</td><td>1</td><td>2019</td></tr>\n",
       "\t<tr><td>2019-01-01 03:02:53</td><td>10488</td><td>4</td><td>42.37062</td><td>-71.07564</td><td>1</td><td>1</td><td>2019</td></tr>\n",
       "\t<tr><td>2019-01-01 03:04:03</td><td>10488</td><td>4</td><td>42.37108</td><td>-71.07723</td><td>1</td><td>1</td><td>2019</td></tr>\n",
       "\t<tr><td>2019-01-01 03:00:20</td><td>10489</td><td>4</td><td>42.36857</td><td>-71.07138</td><td>1</td><td>1</td><td>2019</td></tr>\n",
       "\t<tr><td>2019-01-01 03:00:48</td><td>10489</td><td>4</td><td>42.36960</td><td>-71.07338</td><td>1</td><td>1</td><td>2019</td></tr>\n",
       "\t<tr><td>2019-01-01 03:01:16</td><td>10489</td><td>4</td><td>42.37062</td><td>-71.07564</td><td>1</td><td>1</td><td>2019</td></tr>\n",
       "\t<tr><td>2019-01-01 03:01:30</td><td>10489</td><td>4</td><td>42.37108</td><td>-71.07723</td><td>1</td><td>1</td><td>2019</td></tr>\n",
       "</tbody>\n",
       "</table>\n"
      ],
      "text/latex": [
       "A data.table: 304 × 8\n",
       "\\begin{tabular}{llllllll}\n",
       " trxtime & trainid & lineid & lat & lon & day & month & year\\\\\n",
       " <chr> & <int> & <int> & <dbl> & <dbl> & <int> & <dbl> & <dbl>\\\\\n",
       "\\hline\n",
       "\t 2019-01-01 03:00:21 & 10012 & 4 & 42.33728 & -71.25358 & 1 & 1 & 2019\\\\\n",
       "\t 2019-01-01 03:02:09 & 10012 & 4 & 42.33738 & -71.25332 & 1 & 1 & 2019\\\\\n",
       "\t 2019-01-01 23:59:42 & 10018 & 4 & 42.35164 & -71.07172 & 1 & 1 & 2019\\\\\n",
       "\t 2019-01-01 03:00:20 & 10045 & 4 & 42.34002 & -71.16640 & 1 & 1 & 2019\\\\\n",
       "\t 2019-01-01 03:00:37 & 10045 & 4 & 42.34027 & -71.16688 & 1 & 1 & 2019\\\\\n",
       "\t 2019-01-01 03:01:33 & 10049 & 4 & 42.35164 & -71.07172 & 1 & 1 & 2019\\\\\n",
       "\t 2019-01-01 03:02:20 & 10049 & 4 & 42.35018 & -71.07710 & 1 & 1 & 2019\\\\\n",
       "\t 2019-01-01 03:03:46 & 10049 & 4 & 42.34996 & -71.07792 & 1 & 1 & 2019\\\\\n",
       "\t 2019-01-01 03:01:27 & 10070 & 4 & 42.34791 & -71.08631 & 1 & 1 & 2019\\\\\n",
       "\t 2019-01-01 03:02:07 & 10070 & 4 & 42.34809 & -71.08845 & 1 & 1 & 2019\\\\\n",
       "\t 2019-01-01 03:02:11 & 10070 & 4 & 42.34809 & -71.08845 & 1 & 1 & 2019\\\\\n",
       "\t 2019-01-01 03:02:17 & 10070 & 4 & 42.34806 & -71.08969 & 1 & 1 & 2019\\\\\n",
       "\t 2019-01-01 03:02:40 & 10070 & 4 & 42.34811 & -71.09211 & 1 & 1 & 2019\\\\\n",
       "\t 2019-01-01 03:03:28 & 10070 & 4 & 42.34897 & -71.09328 & 1 & 1 & 2019\\\\\n",
       "\t 2019-01-01 03:03:33 & 10070 & 4 & 42.34897 & -71.09328 & 1 & 1 & 2019\\\\\n",
       "\t 2019-01-01 03:03:38 & 10070 & 4 & 42.34898 & -71.09414 & 1 & 1 & 2019\\\\\n",
       "\t 2019-01-01 03:03:51 & 10070 & 4 & 42.34894 & -71.09527 & 1 & 1 & 2019\\\\\n",
       "\t 2019-01-01 03:00:07 & 10072 & 4 & 42.33680 & -71.25352 & 1 & 1 & 2019\\\\\n",
       "\t 2019-01-01 03:02:25 & 10072 & 4 & 42.33668 & -71.25398 & 1 & 1 & 2019\\\\\n",
       "\t 2019-01-01 03:02:37 & 10072 & 4 & 42.33680 & -71.25352 & 1 & 1 & 2019\\\\\n",
       "\t 2019-01-01 03:02:43 & 10072 & 4 & 42.33668 & -71.25398 & 1 & 1 & 2019\\\\\n",
       "\t 2019-01-01 23:59:16 & 10075 & 4 & 42.35986 & -71.05891 & 1 & 1 & 2019\\\\\n",
       "\t 2019-01-01 03:00:07 & 10076 & 4 & 42.34791 & -71.08631 & 1 & 1 & 2019\\\\\n",
       "\t 2019-01-01 03:00:10 & 10076 & 4 & 42.34809 & -71.08845 & 1 & 1 & 2019\\\\\n",
       "\t 2019-01-01 03:00:13 & 10076 & 4 & 42.34806 & -71.08969 & 1 & 1 & 2019\\\\\n",
       "\t 2019-01-01 03:00:29 & 10076 & 4 & 42.34811 & -71.09211 & 1 & 1 & 2019\\\\\n",
       "\t 2019-01-01 03:01:15 & 10076 & 4 & 42.34897 & -71.09328 & 1 & 1 & 2019\\\\\n",
       "\t 2019-01-01 03:01:18 & 10076 & 4 & 42.34897 & -71.09328 & 1 & 1 & 2019\\\\\n",
       "\t 2019-01-01 03:01:26 & 10076 & 4 & 42.34898 & -71.09414 & 1 & 1 & 2019\\\\\n",
       "\t 2019-01-01 03:01:41 & 10076 & 4 & 42.34904 & -71.09528 & 1 & 1 & 2019\\\\\n",
       "\t ... & ... & ... & ... & ... & ... & ... & ...\\\\\n",
       "\t 2019-01-01 03:03:19 & 10436 & 4 & 42.33680 & -71.25352 & 1 & 1 & 2019\\\\\n",
       "\t 2019-01-01 03:03:25 & 10436 & 4 & 42.33680 & -71.25352 & 1 & 1 & 2019\\\\\n",
       "\t 2019-01-01 03:03:31 & 10436 & 4 & 42.33680 & -71.25352 & 1 & 1 & 2019\\\\\n",
       "\t 2019-01-01 03:03:37 & 10436 & 4 & 42.33680 & -71.25352 & 1 & 1 & 2019\\\\\n",
       "\t 2019-01-01 03:03:43 & 10436 & 4 & 42.33680 & -71.25352 & 1 & 1 & 2019\\\\\n",
       "\t 2019-01-01 03:03:49 & 10436 & 4 & 42.33680 & -71.25352 & 1 & 1 & 2019\\\\\n",
       "\t 2019-01-01 03:03:55 & 10436 & 4 & 42.33680 & -71.25352 & 1 & 1 & 2019\\\\\n",
       "\t 2019-01-01 03:04:01 & 10436 & 4 & 42.33680 & -71.25352 & 1 & 1 & 2019\\\\\n",
       "\t 2019-01-01 03:04:07 & 10436 & 4 & 42.33680 & -71.25352 & 1 & 1 & 2019\\\\\n",
       "\t 2019-01-01 03:04:13 & 10436 & 4 & 42.33680 & -71.25352 & 1 & 1 & 2019\\\\\n",
       "\t 2019-01-01 23:59:47 & 10444 & 4 & 42.35301 & -71.06454 & 1 & 1 & 2019\\\\\n",
       "\t 2019-01-01 03:01:59 & 10483 & 4 & 42.33525 & -71.14855 & 1 & 1 & 2019\\\\\n",
       "\t 2019-01-01 03:02:59 & 10483 & 4 & 42.33546 & -71.14940 & 1 & 1 & 2019\\\\\n",
       "\t 2019-01-01 03:03:05 & 10483 & 4 & 42.33525 & -71.14855 & 1 & 1 & 2019\\\\\n",
       "\t 2019-01-01 03:00:03 & 10485 & 4 & 42.33658 & -71.25367 & 1 & 1 & 2019\\\\\n",
       "\t 2019-01-01 03:03:15 & 10485 & 4 & 42.33645 & -71.25413 & 1 & 1 & 2019\\\\\n",
       "\t 2019-01-01 03:00:06 & 10488 & 4 & 42.36609 & -71.06298 & 1 & 1 & 2019\\\\\n",
       "\t 2019-01-01 03:00:32 & 10488 & 4 & 42.36574 & -71.06466 & 1 & 1 & 2019\\\\\n",
       "\t 2019-01-01 03:00:35 & 10488 & 4 & 42.36574 & -71.06466 & 1 & 1 & 2019\\\\\n",
       "\t 2019-01-01 03:01:10 & 10488 & 4 & 42.36672 & -71.06772 & 1 & 1 & 2019\\\\\n",
       "\t 2019-01-01 03:01:16 & 10488 & 4 & 42.36691 & -71.06811 & 1 & 1 & 2019\\\\\n",
       "\t 2019-01-01 03:01:23 & 10488 & 4 & 42.36758 & -71.06944 & 1 & 1 & 2019\\\\\n",
       "\t 2019-01-01 03:01:52 & 10488 & 4 & 42.36857 & -71.07138 & 1 & 1 & 2019\\\\\n",
       "\t 2019-01-01 03:02:24 & 10488 & 4 & 42.36960 & -71.07338 & 1 & 1 & 2019\\\\\n",
       "\t 2019-01-01 03:02:53 & 10488 & 4 & 42.37062 & -71.07564 & 1 & 1 & 2019\\\\\n",
       "\t 2019-01-01 03:04:03 & 10488 & 4 & 42.37108 & -71.07723 & 1 & 1 & 2019\\\\\n",
       "\t 2019-01-01 03:00:20 & 10489 & 4 & 42.36857 & -71.07138 & 1 & 1 & 2019\\\\\n",
       "\t 2019-01-01 03:00:48 & 10489 & 4 & 42.36960 & -71.07338 & 1 & 1 & 2019\\\\\n",
       "\t 2019-01-01 03:01:16 & 10489 & 4 & 42.37062 & -71.07564 & 1 & 1 & 2019\\\\\n",
       "\t 2019-01-01 03:01:30 & 10489 & 4 & 42.37108 & -71.07723 & 1 & 1 & 2019\\\\\n",
       "\\end{tabular}\n"
      ],
      "text/markdown": [
       "\n",
       "A data.table: 304 × 8\n",
       "\n",
       "| trxtime &lt;chr&gt; | trainid &lt;int&gt; | lineid &lt;int&gt; | lat &lt;dbl&gt; | lon &lt;dbl&gt; | day &lt;int&gt; | month &lt;dbl&gt; | year &lt;dbl&gt; |\n",
       "|---|---|---|---|---|---|---|---|\n",
       "| 2019-01-01 03:00:21 | 10012 | 4 | 42.33728 | -71.25358 | 1 | 1 | 2019 |\n",
       "| 2019-01-01 03:02:09 | 10012 | 4 | 42.33738 | -71.25332 | 1 | 1 | 2019 |\n",
       "| 2019-01-01 23:59:42 | 10018 | 4 | 42.35164 | -71.07172 | 1 | 1 | 2019 |\n",
       "| 2019-01-01 03:00:20 | 10045 | 4 | 42.34002 | -71.16640 | 1 | 1 | 2019 |\n",
       "| 2019-01-01 03:00:37 | 10045 | 4 | 42.34027 | -71.16688 | 1 | 1 | 2019 |\n",
       "| 2019-01-01 03:01:33 | 10049 | 4 | 42.35164 | -71.07172 | 1 | 1 | 2019 |\n",
       "| 2019-01-01 03:02:20 | 10049 | 4 | 42.35018 | -71.07710 | 1 | 1 | 2019 |\n",
       "| 2019-01-01 03:03:46 | 10049 | 4 | 42.34996 | -71.07792 | 1 | 1 | 2019 |\n",
       "| 2019-01-01 03:01:27 | 10070 | 4 | 42.34791 | -71.08631 | 1 | 1 | 2019 |\n",
       "| 2019-01-01 03:02:07 | 10070 | 4 | 42.34809 | -71.08845 | 1 | 1 | 2019 |\n",
       "| 2019-01-01 03:02:11 | 10070 | 4 | 42.34809 | -71.08845 | 1 | 1 | 2019 |\n",
       "| 2019-01-01 03:02:17 | 10070 | 4 | 42.34806 | -71.08969 | 1 | 1 | 2019 |\n",
       "| 2019-01-01 03:02:40 | 10070 | 4 | 42.34811 | -71.09211 | 1 | 1 | 2019 |\n",
       "| 2019-01-01 03:03:28 | 10070 | 4 | 42.34897 | -71.09328 | 1 | 1 | 2019 |\n",
       "| 2019-01-01 03:03:33 | 10070 | 4 | 42.34897 | -71.09328 | 1 | 1 | 2019 |\n",
       "| 2019-01-01 03:03:38 | 10070 | 4 | 42.34898 | -71.09414 | 1 | 1 | 2019 |\n",
       "| 2019-01-01 03:03:51 | 10070 | 4 | 42.34894 | -71.09527 | 1 | 1 | 2019 |\n",
       "| 2019-01-01 03:00:07 | 10072 | 4 | 42.33680 | -71.25352 | 1 | 1 | 2019 |\n",
       "| 2019-01-01 03:02:25 | 10072 | 4 | 42.33668 | -71.25398 | 1 | 1 | 2019 |\n",
       "| 2019-01-01 03:02:37 | 10072 | 4 | 42.33680 | -71.25352 | 1 | 1 | 2019 |\n",
       "| 2019-01-01 03:02:43 | 10072 | 4 | 42.33668 | -71.25398 | 1 | 1 | 2019 |\n",
       "| 2019-01-01 23:59:16 | 10075 | 4 | 42.35986 | -71.05891 | 1 | 1 | 2019 |\n",
       "| 2019-01-01 03:00:07 | 10076 | 4 | 42.34791 | -71.08631 | 1 | 1 | 2019 |\n",
       "| 2019-01-01 03:00:10 | 10076 | 4 | 42.34809 | -71.08845 | 1 | 1 | 2019 |\n",
       "| 2019-01-01 03:00:13 | 10076 | 4 | 42.34806 | -71.08969 | 1 | 1 | 2019 |\n",
       "| 2019-01-01 03:00:29 | 10076 | 4 | 42.34811 | -71.09211 | 1 | 1 | 2019 |\n",
       "| 2019-01-01 03:01:15 | 10076 | 4 | 42.34897 | -71.09328 | 1 | 1 | 2019 |\n",
       "| 2019-01-01 03:01:18 | 10076 | 4 | 42.34897 | -71.09328 | 1 | 1 | 2019 |\n",
       "| 2019-01-01 03:01:26 | 10076 | 4 | 42.34898 | -71.09414 | 1 | 1 | 2019 |\n",
       "| 2019-01-01 03:01:41 | 10076 | 4 | 42.34904 | -71.09528 | 1 | 1 | 2019 |\n",
       "| ... | ... | ... | ... | ... | ... | ... | ... |\n",
       "| 2019-01-01 03:03:19 | 10436 | 4 | 42.33680 | -71.25352 | 1 | 1 | 2019 |\n",
       "| 2019-01-01 03:03:25 | 10436 | 4 | 42.33680 | -71.25352 | 1 | 1 | 2019 |\n",
       "| 2019-01-01 03:03:31 | 10436 | 4 | 42.33680 | -71.25352 | 1 | 1 | 2019 |\n",
       "| 2019-01-01 03:03:37 | 10436 | 4 | 42.33680 | -71.25352 | 1 | 1 | 2019 |\n",
       "| 2019-01-01 03:03:43 | 10436 | 4 | 42.33680 | -71.25352 | 1 | 1 | 2019 |\n",
       "| 2019-01-01 03:03:49 | 10436 | 4 | 42.33680 | -71.25352 | 1 | 1 | 2019 |\n",
       "| 2019-01-01 03:03:55 | 10436 | 4 | 42.33680 | -71.25352 | 1 | 1 | 2019 |\n",
       "| 2019-01-01 03:04:01 | 10436 | 4 | 42.33680 | -71.25352 | 1 | 1 | 2019 |\n",
       "| 2019-01-01 03:04:07 | 10436 | 4 | 42.33680 | -71.25352 | 1 | 1 | 2019 |\n",
       "| 2019-01-01 03:04:13 | 10436 | 4 | 42.33680 | -71.25352 | 1 | 1 | 2019 |\n",
       "| 2019-01-01 23:59:47 | 10444 | 4 | 42.35301 | -71.06454 | 1 | 1 | 2019 |\n",
       "| 2019-01-01 03:01:59 | 10483 | 4 | 42.33525 | -71.14855 | 1 | 1 | 2019 |\n",
       "| 2019-01-01 03:02:59 | 10483 | 4 | 42.33546 | -71.14940 | 1 | 1 | 2019 |\n",
       "| 2019-01-01 03:03:05 | 10483 | 4 | 42.33525 | -71.14855 | 1 | 1 | 2019 |\n",
       "| 2019-01-01 03:00:03 | 10485 | 4 | 42.33658 | -71.25367 | 1 | 1 | 2019 |\n",
       "| 2019-01-01 03:03:15 | 10485 | 4 | 42.33645 | -71.25413 | 1 | 1 | 2019 |\n",
       "| 2019-01-01 03:00:06 | 10488 | 4 | 42.36609 | -71.06298 | 1 | 1 | 2019 |\n",
       "| 2019-01-01 03:00:32 | 10488 | 4 | 42.36574 | -71.06466 | 1 | 1 | 2019 |\n",
       "| 2019-01-01 03:00:35 | 10488 | 4 | 42.36574 | -71.06466 | 1 | 1 | 2019 |\n",
       "| 2019-01-01 03:01:10 | 10488 | 4 | 42.36672 | -71.06772 | 1 | 1 | 2019 |\n",
       "| 2019-01-01 03:01:16 | 10488 | 4 | 42.36691 | -71.06811 | 1 | 1 | 2019 |\n",
       "| 2019-01-01 03:01:23 | 10488 | 4 | 42.36758 | -71.06944 | 1 | 1 | 2019 |\n",
       "| 2019-01-01 03:01:52 | 10488 | 4 | 42.36857 | -71.07138 | 1 | 1 | 2019 |\n",
       "| 2019-01-01 03:02:24 | 10488 | 4 | 42.36960 | -71.07338 | 1 | 1 | 2019 |\n",
       "| 2019-01-01 03:02:53 | 10488 | 4 | 42.37062 | -71.07564 | 1 | 1 | 2019 |\n",
       "| 2019-01-01 03:04:03 | 10488 | 4 | 42.37108 | -71.07723 | 1 | 1 | 2019 |\n",
       "| 2019-01-01 03:00:20 | 10489 | 4 | 42.36857 | -71.07138 | 1 | 1 | 2019 |\n",
       "| 2019-01-01 03:00:48 | 10489 | 4 | 42.36960 | -71.07338 | 1 | 1 | 2019 |\n",
       "| 2019-01-01 03:01:16 | 10489 | 4 | 42.37062 | -71.07564 | 1 | 1 | 2019 |\n",
       "| 2019-01-01 03:01:30 | 10489 | 4 | 42.37108 | -71.07723 | 1 | 1 | 2019 |\n",
       "\n"
      ],
      "text/plain": [
       "    trxtime             trainid lineid lat      lon       day month year\n",
       "1   2019-01-01 03:00:21 10012   4      42.33728 -71.25358 1   1     2019\n",
       "2   2019-01-01 03:02:09 10012   4      42.33738 -71.25332 1   1     2019\n",
       "3   2019-01-01 23:59:42 10018   4      42.35164 -71.07172 1   1     2019\n",
       "4   2019-01-01 03:00:20 10045   4      42.34002 -71.16640 1   1     2019\n",
       "5   2019-01-01 03:00:37 10045   4      42.34027 -71.16688 1   1     2019\n",
       "6   2019-01-01 03:01:33 10049   4      42.35164 -71.07172 1   1     2019\n",
       "7   2019-01-01 03:02:20 10049   4      42.35018 -71.07710 1   1     2019\n",
       "8   2019-01-01 03:03:46 10049   4      42.34996 -71.07792 1   1     2019\n",
       "9   2019-01-01 03:01:27 10070   4      42.34791 -71.08631 1   1     2019\n",
       "10  2019-01-01 03:02:07 10070   4      42.34809 -71.08845 1   1     2019\n",
       "11  2019-01-01 03:02:11 10070   4      42.34809 -71.08845 1   1     2019\n",
       "12  2019-01-01 03:02:17 10070   4      42.34806 -71.08969 1   1     2019\n",
       "13  2019-01-01 03:02:40 10070   4      42.34811 -71.09211 1   1     2019\n",
       "14  2019-01-01 03:03:28 10070   4      42.34897 -71.09328 1   1     2019\n",
       "15  2019-01-01 03:03:33 10070   4      42.34897 -71.09328 1   1     2019\n",
       "16  2019-01-01 03:03:38 10070   4      42.34898 -71.09414 1   1     2019\n",
       "17  2019-01-01 03:03:51 10070   4      42.34894 -71.09527 1   1     2019\n",
       "18  2019-01-01 03:00:07 10072   4      42.33680 -71.25352 1   1     2019\n",
       "19  2019-01-01 03:02:25 10072   4      42.33668 -71.25398 1   1     2019\n",
       "20  2019-01-01 03:02:37 10072   4      42.33680 -71.25352 1   1     2019\n",
       "21  2019-01-01 03:02:43 10072   4      42.33668 -71.25398 1   1     2019\n",
       "22  2019-01-01 23:59:16 10075   4      42.35986 -71.05891 1   1     2019\n",
       "23  2019-01-01 03:00:07 10076   4      42.34791 -71.08631 1   1     2019\n",
       "24  2019-01-01 03:00:10 10076   4      42.34809 -71.08845 1   1     2019\n",
       "25  2019-01-01 03:00:13 10076   4      42.34806 -71.08969 1   1     2019\n",
       "26  2019-01-01 03:00:29 10076   4      42.34811 -71.09211 1   1     2019\n",
       "27  2019-01-01 03:01:15 10076   4      42.34897 -71.09328 1   1     2019\n",
       "28  2019-01-01 03:01:18 10076   4      42.34897 -71.09328 1   1     2019\n",
       "29  2019-01-01 03:01:26 10076   4      42.34898 -71.09414 1   1     2019\n",
       "30  2019-01-01 03:01:41 10076   4      42.34904 -71.09528 1   1     2019\n",
       "... ...                 ...     ...    ...      ...       ... ...   ... \n",
       "275 2019-01-01 03:03:19 10436   4      42.33680 -71.25352 1   1     2019\n",
       "276 2019-01-01 03:03:25 10436   4      42.33680 -71.25352 1   1     2019\n",
       "277 2019-01-01 03:03:31 10436   4      42.33680 -71.25352 1   1     2019\n",
       "278 2019-01-01 03:03:37 10436   4      42.33680 -71.25352 1   1     2019\n",
       "279 2019-01-01 03:03:43 10436   4      42.33680 -71.25352 1   1     2019\n",
       "280 2019-01-01 03:03:49 10436   4      42.33680 -71.25352 1   1     2019\n",
       "281 2019-01-01 03:03:55 10436   4      42.33680 -71.25352 1   1     2019\n",
       "282 2019-01-01 03:04:01 10436   4      42.33680 -71.25352 1   1     2019\n",
       "283 2019-01-01 03:04:07 10436   4      42.33680 -71.25352 1   1     2019\n",
       "284 2019-01-01 03:04:13 10436   4      42.33680 -71.25352 1   1     2019\n",
       "285 2019-01-01 23:59:47 10444   4      42.35301 -71.06454 1   1     2019\n",
       "286 2019-01-01 03:01:59 10483   4      42.33525 -71.14855 1   1     2019\n",
       "287 2019-01-01 03:02:59 10483   4      42.33546 -71.14940 1   1     2019\n",
       "288 2019-01-01 03:03:05 10483   4      42.33525 -71.14855 1   1     2019\n",
       "289 2019-01-01 03:00:03 10485   4      42.33658 -71.25367 1   1     2019\n",
       "290 2019-01-01 03:03:15 10485   4      42.33645 -71.25413 1   1     2019\n",
       "291 2019-01-01 03:00:06 10488   4      42.36609 -71.06298 1   1     2019\n",
       "292 2019-01-01 03:00:32 10488   4      42.36574 -71.06466 1   1     2019\n",
       "293 2019-01-01 03:00:35 10488   4      42.36574 -71.06466 1   1     2019\n",
       "294 2019-01-01 03:01:10 10488   4      42.36672 -71.06772 1   1     2019\n",
       "295 2019-01-01 03:01:16 10488   4      42.36691 -71.06811 1   1     2019\n",
       "296 2019-01-01 03:01:23 10488   4      42.36758 -71.06944 1   1     2019\n",
       "297 2019-01-01 03:01:52 10488   4      42.36857 -71.07138 1   1     2019\n",
       "298 2019-01-01 03:02:24 10488   4      42.36960 -71.07338 1   1     2019\n",
       "299 2019-01-01 03:02:53 10488   4      42.37062 -71.07564 1   1     2019\n",
       "300 2019-01-01 03:04:03 10488   4      42.37108 -71.07723 1   1     2019\n",
       "301 2019-01-01 03:00:20 10489   4      42.36857 -71.07138 1   1     2019\n",
       "302 2019-01-01 03:00:48 10489   4      42.36960 -71.07338 1   1     2019\n",
       "303 2019-01-01 03:01:16 10489   4      42.37062 -71.07564 1   1     2019\n",
       "304 2019-01-01 03:01:30 10489   4      42.37108 -71.07723 1   1     2019"
      ]
     },
     "metadata": {},
     "output_type": "display_data"
    }
   ],
   "source": [
    "d_test"
   ]
  },
  {
   "cell_type": "code",
   "execution_count": 132,
   "metadata": {},
   "outputs": [],
   "source": [
    "# Generate the summary table\n",
    "d_correct = compute_trajectory(d_test)\n",
    "d_excessive_speed_table = excessive_speed_table(d_test)"
   ]
  },
  {
   "cell_type": "code",
   "execution_count": 135,
   "metadata": {},
   "outputs": [],
   "source": [
    "d_correct = na.omit(d_correct)"
   ]
  },
  {
   "cell_type": "code",
   "execution_count": 136,
   "metadata": {},
   "outputs": [],
   "source": [
    "# Generate the summary table\n",
    "summary_computation = data.frame(d_excessive_speed_rate = nrow(d_excessive_speed_table)/nrow(d_correct),excessive_speed_mean = mean(d_excessive_speed_table$speed_kph),excessive_speed_max = max(d_excessive_speed_table$speed_kph),excessive_speed_min = min(d_excessive_speed_table$speed_kph),max_correct = max(d_correct$speed_kph),\n",
    "                         min_correct = min(d_correct$speed_kph),mean_correct = mean(d_correct$speed_kph))"
   ]
  },
  {
   "cell_type": "code",
   "execution_count": 137,
   "metadata": {},
   "outputs": [
    {
     "data": {
      "text/html": [
       "<table>\n",
       "<caption>A data.frame: 1 × 7</caption>\n",
       "<thead>\n",
       "\t<tr><th scope=col>d_excessive_speed_rate</th><th scope=col>excessive_speed_mean</th><th scope=col>excessive_speed_max</th><th scope=col>excessive_speed_min</th><th scope=col>max_correct</th><th scope=col>min_correct</th><th scope=col>mean_correct</th></tr>\n",
       "\t<tr><th scope=col>&lt;dbl&gt;</th><th scope=col>&lt;dbl&gt;</th><th scope=col>&lt;dbl&gt;</th><th scope=col>&lt;dbl&gt;</th><th scope=col>&lt;dbl&gt;</th><th scope=col>&lt;dbl&gt;</th><th scope=col>&lt;dbl&gt;</th></tr>\n",
       "</thead>\n",
       "<tbody>\n",
       "\t<tr><td>0.003759398</td><td>212.3691</td><td>212.3691</td><td>212.3691</td><td>121.8748</td><td>0</td><td>27.97609</td></tr>\n",
       "</tbody>\n",
       "</table>\n"
      ],
      "text/latex": [
       "A data.frame: 1 × 7\n",
       "\\begin{tabular}{lllllll}\n",
       " d\\_excessive\\_speed\\_rate & excessive\\_speed\\_mean & excessive\\_speed\\_max & excessive\\_speed\\_min & max\\_correct & min\\_correct & mean\\_correct\\\\\n",
       " <dbl> & <dbl> & <dbl> & <dbl> & <dbl> & <dbl> & <dbl>\\\\\n",
       "\\hline\n",
       "\t 0.003759398 & 212.3691 & 212.3691 & 212.3691 & 121.8748 & 0 & 27.97609\\\\\n",
       "\\end{tabular}\n"
      ],
      "text/markdown": [
       "\n",
       "A data.frame: 1 × 7\n",
       "\n",
       "| d_excessive_speed_rate &lt;dbl&gt; | excessive_speed_mean &lt;dbl&gt; | excessive_speed_max &lt;dbl&gt; | excessive_speed_min &lt;dbl&gt; | max_correct &lt;dbl&gt; | min_correct &lt;dbl&gt; | mean_correct &lt;dbl&gt; |\n",
       "|---|---|---|---|---|---|---|\n",
       "| 0.003759398 | 212.3691 | 212.3691 | 212.3691 | 121.8748 | 0 | 27.97609 |\n",
       "\n"
      ],
      "text/plain": [
       "  d_excessive_speed_rate excessive_speed_mean excessive_speed_max\n",
       "1 0.003759398            212.3691             212.3691           \n",
       "  excessive_speed_min max_correct min_correct mean_correct\n",
       "1 212.3691            121.8748    0           27.97609    "
      ]
     },
     "metadata": {},
     "output_type": "display_data"
    }
   ],
   "source": [
    "summary_computation"
   ]
  },
  {
   "cell_type": "markdown",
   "metadata": {},
   "source": [
    "### Experimental section"
   ]
  },
  {
   "cell_type": "code",
   "execution_count": null,
   "metadata": {},
   "outputs": [],
   "source": [
    "#  # Count the row numbers which lat and lon are NA\n",
    "#      df_na = df[(is.na(data$lon)) | (is.na(data$lat)),]\n",
    "#      number_na = nrow(df_na)"
   ]
  },
  {
   "cell_type": "code",
   "execution_count": null,
   "metadata": {},
   "outputs": [],
   "source": [
    "# # Process value correction\n",
    "#         for(k in 2:n) { \n",
    "#                 # revise the incorrect values \n",
    "#                 if (!(is.na(d$speed_kph[k]))) {\n",
    "#                     if (d$speed_kph[k] > 128 ){\n",
    "#                        # the reference link is here:\n",
    "#                        # https://www.masslive.com/worcester/2019/09/electrified-faster-and-more-trains-7-ways-the-mbtas-commuter-rail-service-could-be-a-lot-better.html\n",
    "#                          if(k==3){d$speed_kph[k] = d$speed_kph[k+1]}\n",
    "#                          else{\n",
    "#                         d$speed_kph[k] = (d$speed_kph[k-1] + d$speed_kph[k+1] )/2\n",
    "#                         d$speed_mps[k] = d$speed_kph[k] / 3.6\n",
    "#                         d$accel_mps2[k] = (d$speed_mps[k]-d$speed_mps[k-1]) / d$interval_seconds[k]\n",
    "#                         d$dist_meters[k] = d$speed_mps[k] * d$interval_seconds[k]}\n",
    "#                         else if (k == nrows(d)){d$speed_kph[k] = d$speed_kph[k-1]}\n",
    "#                     }\n",
    "#                 }\n",
    "#     }        "
   ]
  }
 ],
 "metadata": {
  "kernelspec": {
   "display_name": "R",
   "language": "R",
   "name": "ir"
  },
  "language_info": {
   "codemirror_mode": "r",
   "file_extension": ".r",
   "mimetype": "text/x-r-source",
   "name": "R",
   "pygments_lexer": "r",
   "version": "4.0.3"
  }
 },
 "nbformat": 4,
 "nbformat_minor": 4
}
