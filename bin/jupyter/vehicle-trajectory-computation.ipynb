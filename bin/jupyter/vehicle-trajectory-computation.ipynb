{
 "cells": [
  {
   "cell_type": "markdown",
   "metadata": {},
   "source": [
    "# Data preprocessing and model preparation"
   ]
  },
  {
   "cell_type": "code",
   "execution_count": 1,
   "metadata": {
    "collapsed": true,
    "jupyter": {
     "outputs_hidden": true
    }
   },
   "outputs": [
    {
     "name": "stderr",
     "output_type": "stream",
     "text": [
      "Warning message:\n",
      "\"package 'data.table' was built under R version 3.6.3\"\n",
      "\n",
      "Attaching package: 'dplyr'\n",
      "\n",
      "\n",
      "The following objects are masked from 'package:data.table':\n",
      "\n",
      "    between, first, last\n",
      "\n",
      "\n",
      "The following objects are masked from 'package:stats':\n",
      "\n",
      "    filter, lag\n",
      "\n",
      "\n",
      "The following objects are masked from 'package:base':\n",
      "\n",
      "    intersect, setdiff, setequal, union\n",
      "\n",
      "\n",
      "Warning message:\n",
      "\"package 'geosphere' was built under R version 3.6.3\"\n"
     ]
    }
   ],
   "source": [
    "library(data.table) #fread\n",
    "library(dplyr)\n",
    "library(geosphere) # Calculate vehicle distance\n",
    "library(lubridate)# Date column extraction"
   ]
  },
  {
   "cell_type": "code",
   "execution_count": 2,
   "metadata": {},
   "outputs": [
    {
     "data": {
      "text/html": [
       "249200"
      ],
      "text/latex": [
       "249200"
      ],
      "text/markdown": [
       "249200"
      ],
      "text/plain": [
       "[1] 249200"
      ]
     },
     "metadata": {},
     "output_type": "display_data"
    }
   ],
   "source": [
    "# adjust the R limit\n",
    "memory.limit(size=249200)"
   ]
  },
  {
   "cell_type": "markdown",
   "metadata": {},
   "source": [
    "### Input location data and data preprocessing"
   ]
  },
  {
   "cell_type": "code",
   "execution_count": 3,
   "metadata": {},
   "outputs": [],
   "source": [
    "# Read data from folder\n",
    "# Suggestion: Just do one year at one time. One year's table has 94363502 rows(green)\n",
    "yearlist = c('19')\n",
    "monthlist = c(\"01\", \"02\", \"03\", \"04\", \"05\", \"06\", \"07\", \"08\", \"09\", \"10\", \"11\", \"12\") #FOR FULL TABLE\n",
    "distance_filepath = \"../../data/raw/vehicle-location/\"\n",
    "trajectory_table_combination = function(yearlist,monthlist){\n",
    "    for (year in yearlist) {\n",
    "        for (month in monthlist) {\n",
    "        assign(paste(\"dg\", year, month, sep=\"\"), fread(paste(lightrail_distance_filepath, paste(\"lightrail\", \"trajectories\", month, year, \".csv\", sep = \"-\", collapse = \"\"), sep=\"\")))\n",
    "        assign(paste(\"dh\", year, month, sep=\"\"), fread(paste(heavyrail_distance_filepath, paste(\"heavyrail\", \"trajectories\", month, year, \".csv\", sep = \"-\", collapse = \"\"), sep=\"\")))\n",
    "        }\n",
    "    }\n",
    "   # Combine the original tables to a single one for analysis\n",
    "   dg = rbind(dg1901,dg1902,dg1903,dg1904,dg1905,dg1906,dg1907,dg1908,dg1909,dg1910,dg1911,dg1912)\n",
    "   dh = rbind(dh1901,dh1902,dh1903,dh1904,dh1905,dh1906,dh1907,dh1908,dh1909,dh1910,dh1911,dh1912)\n",
    "   dg = subset(dg,select = c(trxtime,trainid,lineid,lat,lon))\n",
    "   dh = subset(dh,select = c(trxtime,trainid,lineid,lat,lon))\n",
    "   df = rbind(dg,dh)\n",
    "   return(df)\n",
    "}"
   ]
  },
  {
   "cell_type": "code",
   "execution_count": 19,
   "metadata": {},
   "outputs": [],
   "source": [
    "# Data preprocessing\n",
    "data_pre = function(df){\n",
    "    # Add time column to do analysis by random time scale\n",
    "     df$day = day(df$trxtime)\n",
    "     df$month = month(df$trxtime)\n",
    "     df$year = year(df$trxtime)\n",
    "     # Count the row numbers which lat and lon are NA\n",
    "     df_na = df[(is.na(data$lon)) | (is.na(data$lat)),]\n",
    "     number_na = nrow(df_na)\n",
    "     df = df[!(is.na(data$lon)) | !(is.na(data$lat)),] #remove the rows with values of lat and lon are 0\n",
    "    # nrows for checking the number of NA lon and lat\n",
    "     df = df[order(data$trainid, data$trxtime),]\n",
    "     df = distinct(df,time, trainid, .keep_all = TRUE) # Remove the duplicated time record\n",
    "    return(df)\n",
    "}"
   ]
  },
  {
   "cell_type": "code",
   "execution_count": null,
   "metadata": {},
   "outputs": [],
   "source": [
    "df_trajectory_table = data_pre(df_trajectory_table)"
   ]
  },
  {
   "cell_type": "code",
   "execution_count": null,
   "metadata": {},
   "outputs": [],
   "source": [
    "# All speed are mph\n",
    "# Green line\n",
    "## Branch main 8.6\n",
    "## Branch B 7.1\n",
    "## Branch C 7.9\n",
    "## Branch D 18.7\n",
    "## Branch E 7.1\n",
    "# Red line \n",
    "## A 16.7\n",
    "## B 20.1\n",
    "# Orange line 18.3\n",
    "# Blue line 18.6\n",
    "# Ref: https://www.fixmbta.com/green-line-upgrades"
   ]
  },
  {
   "cell_type": "markdown",
   "metadata": {},
   "source": [
    "### Vehicle distance,speed, acceleration calculation"
   ]
  },
  {
   "cell_type": "code",
   "execution_count": null,
   "metadata": {},
   "outputs": [],
   "source": [
    "# Function to compute distances (D), speeds (S) and acceleration (A) in meters, meters per second, km per hour and m s^-2\n",
    "computeDSA <- function(d) {\n",
    "    d$dist_meters=NA\n",
    "    d$interval_seconds=NA\n",
    "    d$speed_mps=NA\n",
    "    d$speed_kph=NA\n",
    "    d$accel_mps2=NA\n",
    "    n <- nrow(d)\n",
    "    if (n >= 2) {\n",
    "        # Compute interval distance using Haversine function\n",
    "        d$dist_meters[2:n] = distHaversine(cbind(d$lon[1:n-1],d$lat[1:n-1]),cbind(d$lon[2:n],d$lat[2:n]))\n",
    "        # Compute time interval\n",
    "        d$interval_seconds[2:n] = as.numeric(difftime(d$time[2:n], d$time[1:n-1], units = \"secs\"))\n",
    "        # Compute speed in meters per second\n",
    "        d$speed_mps[2:n] = d$dist_meters[2:n] / d$interval_seconds[2:n]\n",
    "        d$speed_kph[2:n] = d$speed_mps[2:n]*3.6\n",
    "        d$accel_mps2[2:n] = (d$speed_mps[2:n] - d$speed_mps[1:n-1])/d$interval_seconds[2:n]\n",
    "        # mean(d[d$speed_kph > speed_threshold, speed_kph])\n",
    "        # Print numbers of incorrect speed \n",
    "        # Define the speed threshold\n",
    "        if(d$lineid = 4){\n",
    "            Speed_threshold = 18.7\n",
    "        }\n",
    "        else{Speed_threshold = 20.1}\n",
    "        # Process value correction\n",
    "        for(k in 2:n) { \n",
    "                # revise the incorrect values \n",
    "                if (!(is.na(d$speed_kph[k]))) {\n",
    "                    if (d$speed_kph[k] > speed_threshold ) {\n",
    "                         if(k==3){d$speed_kph[k] = d$speed_kph[k+1]}\n",
    "                         else{\n",
    "                        d$speed_kph[k] = ( d$speed_kph[k-1] + d$speed_kph[k+1] )/2\n",
    "                        d$speed_mps[k] = d$speed_kph[k] / 3.6\n",
    "                        d$accel_mps2[k] = (d$speed_mps[k]-d$speed_mps[k-1]) / d$interval_seconds[k]\n",
    "                        d$dist_meters[k] = d$speed_mps[k] * d$interval_seconds[k]}\n",
    "                        else if (k == nrows(d)){\n",
    "                       d$speed_kph[k] = d$speed_kph[k-1]}\n",
    "                    }\n",
    "                }\n",
    "            }\n",
    "        }    \n",
    "    return(d)\n",
    "}"
   ]
  },
  {
   "cell_type": "code",
   "execution_count": null,
   "metadata": {},
   "outputs": [],
   "source": [
    "# Process calculation for four lines\n",
    "results.df = data.frame() # empty dataframe\n",
    "Month_calculation = function(data){\n",
    "for(i in unique(data$Day)) { \n",
    "    if (i <= 31) { # define when the loop will end\n",
    "        data.day <- data[data$Day == i, ]\n",
    "        for (j in unique(data.day$trainid)) {# Put each train in one loop in a subset\n",
    "            data.day.train = data.day[data.day$trainid == j, ]        \n",
    "            results <- computeDSA(data.day.train) # Process data with only one row separately        \n",
    "            results.df <- rbind(results.df, results) # put all the results in one table\n",
    "        }\n",
    "     }\n",
    "  }\n",
    "}\n",
    "# Save the results for one year\n",
    "write.csv(x=results.df,file.path(\"../../data/tidy/\", paste(\"rail_distances_\",yearlist,\".csv\",sep = \"\",collapse = \"\")))"
   ]
  },
  {
   "cell_type": "code",
   "execution_count": null,
   "metadata": {},
   "outputs": [],
   "source": [
    "# old methods\n",
    "#  for(k in 2:n) { \n",
    "#                 # revise the incorrect values \n",
    "#                 if (!(is.na(d$speed_kph[k]))) {\n",
    "#                     if(d$line == 1)\n",
    "#                     if (d$speed_kph[k] > #speed_threshold ) {\n",
    "#                         d$speed_kph[k] = d$speed_kph[k-1]\n",
    "#                         d$speed_mps[k] = d$speed_kph[k] / 3.6\n",
    "#                         d$accel_mps2[k] = (d$speed_mps[k]-d$speed_mps[k-1]) / d$interval_seconds[k]\n",
    "#                         d$dist_meters[k] = d$speed_mps[k] * d$interval_seconds[k] \n",
    "#                     }"
   ]
  }
 ],
 "metadata": {
  "kernelspec": {
   "display_name": "R",
   "language": "R",
   "name": "ir"
  },
  "language_info": {
   "codemirror_mode": "r",
   "file_extension": ".r",
   "mimetype": "text/x-r-source",
   "name": "R",
   "pygments_lexer": "r",
   "version": "3.6.2"
  }
 },
 "nbformat": 4,
 "nbformat_minor": 4
}
