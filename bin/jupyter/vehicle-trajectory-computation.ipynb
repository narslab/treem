{
 "cells": [
  {
   "cell_type": "markdown",
   "metadata": {},
   "source": [
    "# Data preprocessing and trajectory analysis"
   ]
  },
  {
   "cell_type": "code",
   "execution_count": 1,
   "metadata": {
    "collapsed": true,
    "jupyter": {
     "outputs_hidden": true
    }
   },
   "outputs": [
    {
     "name": "stderr",
     "output_type": "stream",
     "text": [
      "Warning message:\n",
      "\"package 'data.table' was built under R version 3.6.3\"\n",
      "Registered S3 methods overwritten by 'tibble':\n",
      "  method     from  \n",
      "  format.tbl pillar\n",
      "  print.tbl  pillar\n",
      "\n",
      "\n",
      "Attaching package: 'dplyr'\n",
      "\n",
      "\n",
      "The following objects are masked from 'package:data.table':\n",
      "\n",
      "    between, first, last\n",
      "\n",
      "\n",
      "The following objects are masked from 'package:stats':\n",
      "\n",
      "    filter, lag\n",
      "\n",
      "\n",
      "The following objects are masked from 'package:base':\n",
      "\n",
      "    intersect, setdiff, setequal, union\n",
      "\n",
      "\n",
      "Warning message:\n",
      "\"package 'geosphere' was built under R version 3.6.3\"\n",
      "\n",
      "Attaching package: 'lubridate'\n",
      "\n",
      "\n",
      "The following objects are masked from 'package:data.table':\n",
      "\n",
      "    hour, isoweek, mday, minute, month, quarter, second, wday, week,\n",
      "    yday, year\n",
      "\n",
      "\n",
      "The following object is masked from 'package:base':\n",
      "\n",
      "    date\n",
      "\n",
      "\n",
      "Warning message:\n",
      "\"package 'robfilter' was built under R version 3.6.3\"\n",
      "Loading required package: robustbase\n",
      "\n",
      "Warning message:\n",
      "\"package 'robustbase' was built under R version 3.6.3\"\n",
      "Loading required package: MASS\n",
      "\n",
      "Warning message:\n",
      "\"package 'MASS' was built under R version 3.6.3\"\n",
      "\n",
      "Attaching package: 'MASS'\n",
      "\n",
      "\n",
      "The following object is masked from 'package:dplyr':\n",
      "\n",
      "    select\n",
      "\n",
      "\n",
      "Loading required package: lattice\n",
      "\n",
      "Warning message:\n",
      "\"package 'ggplot2' was built under R version 3.6.3\"\n",
      "Warning message:\n",
      "\"package 'gridExtra' was built under R version 3.6.3\"\n",
      "\n",
      "Attaching package: 'gridExtra'\n",
      "\n",
      "\n",
      "The following object is masked from 'package:dplyr':\n",
      "\n",
      "    combine\n",
      "\n",
      "\n",
      "Warning message:\n",
      "\"package 'ggmap' was built under R version 3.6.3\"\n",
      "Google's Terms of Service: https://cloud.google.com/maps-platform/terms/.\n",
      "\n",
      "Please cite ggmap if you use it! See citation(\"ggmap\") for details.\n",
      "\n"
     ]
    }
   ],
   "source": [
    "library(data.table) #fread\n",
    "library(dplyr)\n",
    "library(geosphere) # Calculate vehicle distance\n",
    "library(lubridate)# Date column extraction\n",
    "library(robfilter)# Smooth the data\n",
    "library(ggplot2) # Plot\n",
    "library(gridExtra) # Combine different plots\n",
    "library(ggmap) # plot points on the map"
   ]
  },
  {
   "cell_type": "code",
   "execution_count": 28,
   "metadata": {
    "collapsed": true,
    "jupyter": {
     "outputs_hidden": true
    }
   },
   "outputs": [
    {
     "name": "stderr",
     "output_type": "stream",
     "text": [
      "Warning message:\n",
      "\"package 'scales' was built under R version 3.6.3\"\n"
     ]
    }
   ],
   "source": [
    "library(scales)"
   ]
  },
  {
   "cell_type": "code",
   "execution_count": 2,
   "metadata": {},
   "outputs": [
    {
     "data": {
      "text/html": [
       "249200"
      ],
      "text/latex": [
       "249200"
      ],
      "text/markdown": [
       "249200"
      ],
      "text/plain": [
       "[1] 249200"
      ]
     },
     "metadata": {},
     "output_type": "display_data"
    }
   ],
   "source": [
    "# adjust the R limit\n",
    "memory.limit(size=249200)"
   ]
  },
  {
   "cell_type": "markdown",
   "metadata": {},
   "source": [
    "## Input location data"
   ]
  },
  {
   "cell_type": "code",
   "execution_count": 2,
   "metadata": {},
   "outputs": [],
   "source": [
    "# Read data from folder\n",
    "# Suggestion: Just do one year at one time. One year's table has 94363502 rows(green)\n",
    "YEARLIST = c('19')\n",
    "MONTHlIST = c(\"04\") #FOR FULL TABLE\n",
    "DISTANCE_FILEPATH = \"../../data/raw/vehicle-location/\""
   ]
  },
  {
   "cell_type": "code",
   "execution_count": 3,
   "metadata": {},
   "outputs": [],
   "source": [
    "add_dd_mm_yy_cols = function(df) {\n",
    "    df$day = day(df$trxtime)\n",
    "    df$month = month(df$trxtime)\n",
    "    df$year = year(df$trxtime)\n",
    "    return(df)\n",
    "}\n",
    "get_light_rail_trajectories = function(year, month){\n",
    "    assign(\"dg\", fread(paste(DISTANCE_FILEPATH, paste(\"lightrail\", \"trajectories\", month, year, \".csv\", sep = \"-\", collapse = \"\"), sep=\"\")))\n",
    "    dg = add_dd_mm_yy_cols(dg)\n",
    "    return(dg)\n",
    "}\n",
    "get_heavy_rail_trajectories = function(year, month){\n",
    "    assign(\"dh\", fread(paste(DISTANCE_FILEPATH, paste(\"heavyrail\", \"trajectories\", month, year, \".csv\", sep = \"-\", collapse = \"\"), sep=\"\")))\n",
    "    dh = add_dd_mm_yy_cols(dh)\n",
    "    return(dh)\n",
    "}"
   ]
  },
  {
   "cell_type": "code",
   "execution_count": 4,
   "metadata": {},
   "outputs": [],
   "source": [
    "df_lightrail = get_light_rail_trajectories(YEARLIST,MONTHlIST)\n",
    "df_heavyrail = get_heavy_rail_trajectories(YEARLIST,MONTHlIST)"
   ]
  },
  {
   "cell_type": "code",
   "execution_count": 14,
   "metadata": {},
   "outputs": [],
   "source": [
    "light_subset = function(dayid,id){\n",
    "    # Subset the table by all unique indexes\n",
    "    day_trainid_subset = df_lightrail[day == dayid, .SD, keyby = .(trainid, vehicleid, routeid) ]\n",
    "    unique_train_vehicle_route_car_tuple = unique(\n",
    "    day_trainid_subset[, .(trainid, vehicleid, routeid, car1,car2,car3) ]\n",
    "    )\n",
    "    print(unique_train_vehicle_route_car_tuple)\n",
    "    index = id\n",
    "    # Select all conditions whi\n",
    "    trajectory = day_trainid_subset[\n",
    "    trainid == unique_train_vehicle_route_car_tuple[index, 1][[1]] & \n",
    "    vehicleid == unique_train_vehicle_route_car_tuple[index, 2][[1]] &\n",
    "    routeid == unique_train_vehicle_route_car_tuple[index, 3][[1]],][order(trxtime)]\n",
    "    clean_trajectory = trajectory[, .SD[1], by = trxtime]\n",
    "    # transfer trxtime to timestamp\n",
    "    options(tz = \"America/New_York\")\n",
    "    clean_trajectory$time = as.POSIXct(clean_trajectory$trxtime,tz = getOption(\"tz\"))\n",
    "    return(clean_trajectory)\n",
    "}"
   ]
  },
  {
   "cell_type": "code",
   "execution_count": 136,
   "metadata": {
    "collapsed": true,
    "jupyter": {
     "outputs_hidden": true
    }
   },
   "outputs": [
    {
     "name": "stdout",
     "output_type": "stream",
     "text": [
      "      trainid vehicleid routeid car1 car2 car3\n",
      "   1:   10001      3699       0 3699   NA   NA\n",
      "   2:   10001      3699     850 3699   NA   NA\n",
      "   3:   10001      3699     850 3699 3856   NA\n",
      "   4:   10001      3699     880 3699 3856   NA\n",
      "   5:   10002      <NA>      NA   NA   NA   NA\n",
      "  ---                                         \n",
      "1204:   10473      3826     880 3826   NA   NA\n",
      "1205:   10473      3826     880 3826 3644   NA\n",
      "1206:   10474      3828       0 3828   NA   NA\n",
      "1207:   10474      3828     880 3828   NA   NA\n",
      "1208:   10474      3828     880 3828 3626   NA\n"
     ]
    }
   ],
   "source": [
    "clean_trajectory = light_subset(1,2)"
   ]
  },
  {
   "cell_type": "code",
   "execution_count": 128,
   "metadata": {},
   "outputs": [],
   "source": [
    "run = function(clean_trajectory){\n",
    "    clean_trajectory = compute_time_interval(clean_trajectory)\n",
    "    clean_trajectory = compute_distance(clean_trajectory)\n",
    "    clean_trajectory  = compute_speed_acceleration(clean_trajectory)\n",
    "    #train_plot(clean_trajectory)\n",
    "    }"
   ]
  },
  {
   "cell_type": "code",
   "execution_count": 137,
   "metadata": {},
   "outputs": [],
   "source": [
    "clean_trajectory = run(clean_trajectory)"
   ]
  },
  {
   "cell_type": "code",
   "execution_count": 138,
   "metadata": {
    "collapsed": true,
    "jupyter": {
     "outputs_hidden": true
    }
   },
   "outputs": [
    {
     "data": {
      "text/html": [
       "<table class=\"dataframe\">\n",
       "<caption>A data.table: 201 × 27</caption>\n",
       "<thead>\n",
       "\t<tr><th scope=col>trxtime</th><th scope=col>trainid</th><th scope=col>vehicleid</th><th scope=col>routeid</th><th scope=col>counter</th><th scope=col>lineid</th><th scope=col>lat</th><th scope=col>lon</th><th scope=col>servicetypeid</th><th scope=col>sourceid</th><th scope=col>...</th><th scope=col>inserted</th><th scope=col>day</th><th scope=col>month</th><th scope=col>year</th><th scope=col>time</th><th scope=col>interval_seconds</th><th scope=col>dist_meters</th><th scope=col>speed_mps</th><th scope=col>speed_kph</th><th scope=col>accel_mps2</th></tr>\n",
       "\t<tr><th scope=col>&lt;chr&gt;</th><th scope=col>&lt;int&gt;</th><th scope=col>&lt;chr&gt;</th><th scope=col>&lt;int&gt;</th><th scope=col>&lt;int&gt;</th><th scope=col>&lt;int&gt;</th><th scope=col>&lt;dbl&gt;</th><th scope=col>&lt;dbl&gt;</th><th scope=col>&lt;int&gt;</th><th scope=col>&lt;int&gt;</th><th scope=col>...</th><th scope=col>&lt;chr&gt;</th><th scope=col>&lt;int&gt;</th><th scope=col>&lt;dbl&gt;</th><th scope=col>&lt;dbl&gt;</th><th scope=col>&lt;dttm&gt;</th><th scope=col>&lt;dbl&gt;</th><th scope=col>&lt;dbl&gt;</th><th scope=col>&lt;dbl&gt;</th><th scope=col>&lt;dbl&gt;</th><th scope=col>&lt;dbl&gt;</th></tr>\n",
       "</thead>\n",
       "<tbody>\n",
       "\t<tr><td>2019-04-01 06:35:54</td><td>10001</td><td>  3699</td><td>850</td><td>17645</td><td>4</td><td>42.33666</td><td>-71.25081</td><td>1</td><td>0</td><td>...</td><td>2019-04-19 15:20:20</td><td>1</td><td>4</td><td>2019</td><td>2019-04-01 06:35:54</td><td>NA</td><td>       NA</td><td>       NA</td><td>        NA</td><td>         NA</td></tr>\n",
       "\t<tr><td>2019-04-01 06:36:00</td><td>10001</td><td>  3699</td><td>850</td><td>17656</td><td>4</td><td>42.33633</td><td>-71.25019</td><td>1</td><td>1</td><td>...</td><td>2019-04-19 15:20:20</td><td>1</td><td>4</td><td>2019</td><td>2019-04-01 06:36:00</td><td> 6</td><td> 62.70724</td><td>10.451207</td><td> 37.624345</td><td>         NA</td></tr>\n",
       "\t<tr><td>2019-04-01 06:36:06</td><td>10001</td><td>  3699</td><td>850</td><td>17675</td><td>4</td><td>42.33567</td><td>-71.24901</td><td>1</td><td>1</td><td>...</td><td>2019-04-19 15:20:20</td><td>1</td><td>4</td><td>2019</td><td>2019-04-01 06:36:06</td><td> 6</td><td>121.29373</td><td>20.215621</td><td> 72.776237</td><td>  1.6274024</td></tr>\n",
       "\t<tr><td>2019-04-01 06:36:12</td><td>10001</td><td>  3699</td><td>850</td><td>17793</td><td>4</td><td>42.33535</td><td>-71.24840</td><td>1</td><td>1</td><td>...</td><td>2019-04-19 15:20:20</td><td>1</td><td>4</td><td>2019</td><td>2019-04-01 06:36:12</td><td> 6</td><td> 61.86077</td><td>10.310128</td><td> 37.116461</td><td> -1.6509156</td></tr>\n",
       "\t<tr><td>2019-04-01 06:36:13</td><td>10001</td><td>  3699</td><td>850</td><td>17798</td><td>4</td><td>42.33506</td><td>-71.24777</td><td>1</td><td>1</td><td>...</td><td>2019-04-19 15:20:20</td><td>1</td><td>4</td><td>2019</td><td>2019-04-01 06:36:13</td><td> 1</td><td> 60.99345</td><td>60.993453</td><td>219.576431</td><td> 50.6833250</td></tr>\n",
       "\t<tr><td>2019-04-01 06:36:18</td><td>10001</td><td>  3699</td><td>850</td><td>17818</td><td>4</td><td>42.33475</td><td>-71.24716</td><td>1</td><td>1</td><td>...</td><td>2019-04-19 15:20:20</td><td>1</td><td>4</td><td>2019</td><td>2019-04-01 06:36:18</td><td> 5</td><td> 61.18063</td><td>12.236127</td><td> 44.050056</td><td> -9.7514653</td></tr>\n",
       "\t<tr><td>2019-04-01 06:36:24</td><td>10001</td><td>  3699</td><td>850</td><td>17842</td><td>4</td><td>42.33443</td><td>-71.24654</td><td>1</td><td>1</td><td>...</td><td>2019-04-19 15:20:20</td><td>1</td><td>4</td><td>2019</td><td>2019-04-01 06:36:24</td><td> 6</td><td> 62.58200</td><td>10.430333</td><td> 37.549198</td><td> -0.3009656</td></tr>\n",
       "\t<tr><td>2019-04-01 06:36:25</td><td>10001</td><td>  3699</td><td>850</td><td>17846</td><td>4</td><td>42.33411</td><td>-71.24592</td><td>1</td><td>1</td><td>...</td><td>2019-04-19 15:20:20</td><td>1</td><td>4</td><td>2019</td><td>2019-04-01 06:36:25</td><td> 1</td><td> 61.64781</td><td>61.647806</td><td>221.932101</td><td> 51.2174730</td></tr>\n",
       "\t<tr><td>2019-04-01 06:36:36</td><td>10001</td><td>  3699</td><td>850</td><td>17948</td><td>4</td><td>42.33382</td><td>-71.24534</td><td>1</td><td>1</td><td>...</td><td>2019-04-19 15:20:20</td><td>1</td><td>4</td><td>2019</td><td>2019-04-01 06:36:36</td><td>11</td><td> 57.18007</td><td> 5.198188</td><td> 18.713476</td><td> -5.1317835</td></tr>\n",
       "\t<tr><td>2019-04-01 06:36:37</td><td>10001</td><td>  3699</td><td>850</td><td>17950</td><td>4</td><td>42.33348</td><td>-71.24470</td><td>1</td><td>1</td><td>...</td><td>2019-04-19 15:20:20</td><td>1</td><td>4</td><td>2019</td><td>2019-04-01 06:36:37</td><td> 1</td><td> 65.17261</td><td>65.172613</td><td>234.621405</td><td> 59.9744248</td></tr>\n",
       "\t<tr><td>2019-04-01 06:36:43</td><td>10001</td><td>  3699</td><td>850</td><td>17970</td><td>4</td><td>42.33322</td><td>-71.24409</td><td>1</td><td>1</td><td>...</td><td>2019-04-19 15:20:20</td><td>1</td><td>4</td><td>2019</td><td>2019-04-01 06:36:43</td><td> 6</td><td> 58.28943</td><td> 9.714904</td><td> 34.973656</td><td> -9.2429514</td></tr>\n",
       "\t<tr><td>2019-04-01 06:36:54</td><td>10001</td><td>  3699</td><td>850</td><td>18023</td><td>4</td><td>42.33285</td><td>-71.24337</td><td>1</td><td>1</td><td>...</td><td>2019-04-19 15:20:20</td><td>1</td><td>4</td><td>2019</td><td>2019-04-01 06:36:54</td><td>11</td><td> 72.00499</td><td> 6.545909</td><td> 23.565271</td><td> -0.2880905</td></tr>\n",
       "\t<tr><td>2019-04-01 06:37:30</td><td>10001</td><td>  3699</td><td>850</td><td>18112</td><td>4</td><td>42.33239</td><td>-71.24249</td><td>1</td><td>1</td><td>...</td><td>2019-04-19 15:20:20</td><td>1</td><td>4</td><td>2019</td><td>2019-04-01 06:37:30</td><td>36</td><td> 88.38201</td><td> 2.455056</td><td>  8.838201</td><td> -0.1136348</td></tr>\n",
       "\t<tr><td>2019-04-01 06:37:36</td><td>10001</td><td>  3699</td><td>850</td><td>18129</td><td>4</td><td>42.33208</td><td>-71.24181</td><td>1</td><td>1</td><td>...</td><td>2019-04-19 15:20:20</td><td>1</td><td>4</td><td>2019</td><td>2019-04-01 06:37:36</td><td> 6</td><td> 65.51966</td><td>10.919944</td><td> 39.311797</td><td>  1.4108147</td></tr>\n",
       "\t<tr><td>2019-04-01 06:37:42</td><td>10001</td><td>  3699</td><td>850</td><td>18147</td><td>4</td><td>42.33178</td><td>-71.24122</td><td>1</td><td>1</td><td>...</td><td>2019-04-19 15:20:20</td><td>1</td><td>4</td><td>2019</td><td>2019-04-01 06:37:42</td><td> 6</td><td> 59.40225</td><td> 9.900375</td><td> 35.641350</td><td> -0.1699281</td></tr>\n",
       "\t<tr><td>2019-04-01 06:37:43</td><td>10001</td><td>  3699</td><td>850</td><td>18148</td><td>4</td><td>42.33147</td><td>-71.24063</td><td>1</td><td>1</td><td>...</td><td>2019-04-19 15:20:20</td><td>1</td><td>4</td><td>2019</td><td>2019-04-01 06:37:43</td><td> 1</td><td> 59.14938</td><td>59.149379</td><td>212.937765</td><td> 49.2490042</td></tr>\n",
       "\t<tr><td>2019-04-01 06:37:48</td><td>10001</td><td>  3699</td><td>850</td><td>18160</td><td>4</td><td>42.33114</td><td>-71.24000</td><td>1</td><td>1</td><td>...</td><td>2019-04-19 15:20:20</td><td>1</td><td>4</td><td>2019</td><td>2019-04-01 06:37:48</td><td> 5</td><td> 64.30355</td><td>12.860709</td><td> 46.298554</td><td> -9.2577339</td></tr>\n",
       "\t<tr><td>2019-04-01 06:37:54</td><td>10001</td><td>  3699</td><td>850</td><td>18176</td><td>4</td><td>42.33087</td><td>-71.23939</td><td>1</td><td>1</td><td>...</td><td>2019-04-19 15:20:20</td><td>1</td><td>4</td><td>2019</td><td>2019-04-01 06:37:54</td><td> 6</td><td> 58.03233</td><td> 9.672056</td><td> 34.819400</td><td> -0.5314423</td></tr>\n",
       "\t<tr><td>2019-04-01 06:38:00</td><td>10001</td><td>  3699</td><td>850</td><td>18197</td><td>4</td><td>42.33024</td><td>-71.23816</td><td>1</td><td>1</td><td>...</td><td>2019-04-19 15:20:20</td><td>1</td><td>4</td><td>2019</td><td>2019-04-01 06:38:00</td><td> 6</td><td>122.94932</td><td>20.491553</td><td> 73.769591</td><td>  1.8032496</td></tr>\n",
       "\t<tr><td>2019-04-01 06:38:01</td><td>10001</td><td>  3699</td><td>850</td><td>18198</td><td>4</td><td>42.32992</td><td>-71.23749</td><td>1</td><td>1</td><td>...</td><td>2019-04-19 15:20:20</td><td>1</td><td>4</td><td>2019</td><td>2019-04-01 06:38:01</td><td> 1</td><td> 65.51781</td><td>65.517807</td><td>235.864104</td><td> 45.0262536</td></tr>\n",
       "\t<tr><td>2019-04-01 06:38:06</td><td>10001</td><td>  3699</td><td>850</td><td>18217</td><td>4</td><td>42.32961</td><td>-71.23688</td><td>1</td><td>1</td><td>...</td><td>2019-04-19 15:20:20</td><td>1</td><td>4</td><td>2019</td><td>2019-04-01 06:38:06</td><td> 5</td><td> 61.84554</td><td>12.369109</td><td> 44.528792</td><td>-10.6297396</td></tr>\n",
       "\t<tr><td>2019-04-01 06:38:07</td><td>10001</td><td>  3699</td><td>850</td><td>18222</td><td>4</td><td>42.32930</td><td>-71.23627</td><td>1</td><td>1</td><td>...</td><td>2019-04-19 15:20:20</td><td>1</td><td>4</td><td>2019</td><td>2019-04-01 06:38:07</td><td> 1</td><td> 60.58588</td><td>60.585881</td><td>218.109172</td><td> 48.2167722</td></tr>\n",
       "\t<tr><td>2019-04-01 06:38:12</td><td>10001</td><td>  3699</td><td>850</td><td>18241</td><td>4</td><td>42.32899</td><td>-71.23567</td><td>1</td><td>1</td><td>...</td><td>2019-04-19 15:20:20</td><td>1</td><td>4</td><td>2019</td><td>2019-04-01 06:38:12</td><td> 5</td><td> 59.71249</td><td>11.942497</td><td> 42.992990</td><td> -9.7286768</td></tr>\n",
       "\t<tr><td>2019-04-01 06:38:18</td><td>10001</td><td>  3699</td><td>850</td><td>18265</td><td>4</td><td>42.32870</td><td>-71.23506</td><td>1</td><td>1</td><td>...</td><td>2019-04-19 15:20:20</td><td>1</td><td>4</td><td>2019</td><td>2019-04-01 06:38:18</td><td> 6</td><td> 59.94894</td><td> 9.991491</td><td> 35.969367</td><td> -0.3251677</td></tr>\n",
       "\t<tr><td>2019-04-01 06:38:19</td><td>10001</td><td>  3699</td><td>850</td><td>18266</td><td>4</td><td>42.32837</td><td>-71.23447</td><td>1</td><td>1</td><td>...</td><td>2019-04-19 15:20:20</td><td>1</td><td>4</td><td>2019</td><td>2019-04-01 06:38:19</td><td> 1</td><td> 60.96955</td><td>60.969555</td><td>219.490398</td><td> 50.9780641</td></tr>\n",
       "\t<tr><td>2019-04-01 06:38:24</td><td>10001</td><td>  3699</td><td>850</td><td>18290</td><td>4</td><td>42.32802</td><td>-71.23383</td><td>1</td><td>1</td><td>...</td><td>2019-04-19 15:20:20</td><td>1</td><td>4</td><td>2019</td><td>2019-04-01 06:38:24</td><td> 5</td><td> 65.69653</td><td>13.139306</td><td> 47.301503</td><td> -9.5660497</td></tr>\n",
       "\t<tr><td>2019-04-01 06:38:30</td><td>10001</td><td>  3699</td><td>850</td><td>18311</td><td>4</td><td>42.32759</td><td>-71.23316</td><td>1</td><td>1</td><td>...</td><td>2019-04-19 15:20:20</td><td>1</td><td>4</td><td>2019</td><td>2019-04-01 06:38:30</td><td> 6</td><td> 73.17872</td><td>12.196453</td><td> 43.907231</td><td> -0.1571422</td></tr>\n",
       "\t<tr><td>2019-04-01 06:38:36</td><td>10001</td><td>  3699</td><td>850</td><td>18327</td><td>4</td><td>42.32721</td><td>-71.23263</td><td>1</td><td>1</td><td>...</td><td>2019-04-19 15:20:20</td><td>1</td><td>4</td><td>2019</td><td>2019-04-01 06:38:36</td><td> 6</td><td> 60.25799</td><td>10.042999</td><td> 36.154797</td><td> -0.3589090</td></tr>\n",
       "\t<tr><td>2019-04-01 06:38:37</td><td>10001</td><td>  3699</td><td>850</td><td>18330</td><td>4</td><td>42.32683</td><td>-71.23211</td><td>1</td><td>1</td><td>...</td><td>2019-04-19 15:20:20</td><td>1</td><td>4</td><td>2019</td><td>2019-04-01 06:38:37</td><td> 1</td><td> 60.09519</td><td>60.095191</td><td>216.342687</td><td> 50.0521917</td></tr>\n",
       "\t<tr><td>2019-04-01 06:38:43</td><td>10001</td><td>  3699</td><td>850</td><td>18354</td><td>4</td><td>42.32650</td><td>-71.23164</td><td>1</td><td>1</td><td>...</td><td>2019-04-19 15:20:20</td><td>1</td><td>4</td><td>2019</td><td>2019-04-01 06:38:43</td><td> 6</td><td> 53.72758</td><td> 8.954596</td><td> 32.236546</td><td> -8.5234324</td></tr>\n",
       "\t<tr><td>...</td><td>...</td><td>...</td><td>...</td><td>...</td><td>...</td><td>...</td><td>...</td><td>...</td><td>...</td><td></td><td>...</td><td>...</td><td>...</td><td>...</td><td>...</td><td>...</td><td>...</td><td>...</td><td>...</td><td>...</td></tr>\n",
       "\t<tr><td>2019-04-01 06:59:21</td><td>10001</td><td>  3699</td><td>850</td><td>22900</td><td>4</td><td>42.33682</td><td>-71.11236</td><td>1</td><td>1</td><td>...</td><td>2019-04-19 15:20:20</td><td>1</td><td>4</td><td>2019</td><td>2019-04-01 06:59:21</td><td> 6</td><td> 64.02372</td><td>10.6706194</td><td>38.414230</td><td>-1.73374079</td></tr>\n",
       "\t<tr><td>2019-04-01 06:59:27</td><td>10001</td><td>  3699</td><td>850</td><td>22923</td><td>4</td><td>42.33783</td><td>-71.11184</td><td>1</td><td>1</td><td>...</td><td>2019-04-19 15:20:20</td><td>1</td><td>4</td><td>2019</td><td>2019-04-01 06:59:27</td><td> 6</td><td>121.20659</td><td>20.2010989</td><td>72.723956</td><td> 1.58841325</td></tr>\n",
       "\t<tr><td>2019-04-01 06:59:33</td><td>10001</td><td>  3699</td><td>850</td><td>22939</td><td>4</td><td>42.33840</td><td>-71.11158</td><td>1</td><td>1</td><td>...</td><td>2019-04-19 15:20:20</td><td>1</td><td>4</td><td>2019</td><td>2019-04-01 06:59:33</td><td> 6</td><td> 66.86290</td><td>11.1438163</td><td>40.117739</td><td>-1.50954710</td></tr>\n",
       "\t<tr><td>2019-04-01 06:59:39</td><td>10001</td><td>  3699</td><td>850</td><td>22964</td><td>4</td><td>42.33950</td><td>-71.11123</td><td>1</td><td>1</td><td>...</td><td>2019-04-19 15:20:20</td><td>1</td><td>4</td><td>2019</td><td>2019-04-01 06:59:39</td><td> 6</td><td>125.49112</td><td>20.9151866</td><td>75.294672</td><td> 1.62856172</td></tr>\n",
       "\t<tr><td>2019-04-01 06:59:45</td><td>10001</td><td>  3699</td><td>850</td><td>22985</td><td>4</td><td>42.34005</td><td>-71.11107</td><td>1</td><td>1</td><td>...</td><td>2019-04-19 15:20:20</td><td>1</td><td>4</td><td>2019</td><td>2019-04-01 06:59:45</td><td> 6</td><td> 61.85815</td><td>10.3096914</td><td>37.114889</td><td>-1.76758253</td></tr>\n",
       "\t<tr><td>2019-04-01 06:59:54</td><td>10001</td><td>  3699</td><td>850</td><td>23023</td><td>4</td><td>42.34117</td><td>-71.11040</td><td>1</td><td>1</td><td>...</td><td>2019-04-19 15:20:20</td><td>1</td><td>4</td><td>2019</td><td>2019-04-01 06:59:54</td><td> 9</td><td>136.44538</td><td>15.1605980</td><td>54.578153</td><td> 0.53898962</td></tr>\n",
       "\t<tr><td>2019-04-01 07:00:06</td><td>10001</td><td>  3699</td><td>850</td><td>23066</td><td>4</td><td>42.34174</td><td>-71.10985</td><td>1</td><td>1</td><td>...</td><td>2019-04-19 15:20:20</td><td>1</td><td>4</td><td>2019</td><td>2019-04-01 07:00:06</td><td>12</td><td> 78.01786</td><td> 6.5014884</td><td>23.405358</td><td>-0.72159247</td></tr>\n",
       "\t<tr><td>2019-04-01 07:00:45</td><td>10001</td><td>  3699</td><td>850</td><td>23252</td><td>4</td><td>42.34222</td><td>-71.10930</td><td>1</td><td>1</td><td>...</td><td>2019-04-19 15:20:20</td><td>1</td><td>4</td><td>2019</td><td>2019-04-01 07:00:45</td><td>39</td><td> 70.47413</td><td> 1.8070289</td><td> 6.505304</td><td>-0.12037075</td></tr>\n",
       "\t<tr><td>2019-04-01 07:00:54</td><td>10001</td><td>  3699</td><td>850</td><td>23288</td><td>4</td><td>42.34260</td><td>-71.10871</td><td>1</td><td>1</td><td>...</td><td>2019-04-19 15:20:20</td><td>1</td><td>4</td><td>2019</td><td>2019-04-01 07:00:54</td><td> 9</td><td> 64.56773</td><td> 7.1741922</td><td>25.827092</td><td> 0.59635148</td></tr>\n",
       "\t<tr><td>2019-04-01 07:00:57</td><td>10001</td><td>  3699</td><td>850</td><td>23300</td><td>4</td><td>42.34297</td><td>-71.10812</td><td>1</td><td>1</td><td>...</td><td>2019-04-19 15:20:20</td><td>1</td><td>4</td><td>2019</td><td>2019-04-01 07:00:57</td><td> 3</td><td> 63.41042</td><td>21.1368050</td><td>76.092498</td><td> 4.65420427</td></tr>\n",
       "\t<tr><td>2019-04-01 07:01:03</td><td>10001</td><td>  3699</td><td>850</td><td>23324</td><td>4</td><td>42.34336</td><td>-71.10753</td><td>1</td><td>1</td><td>...</td><td>2019-04-19 15:20:20</td><td>1</td><td>4</td><td>2019</td><td>2019-04-01 07:01:03</td><td> 6</td><td> 64.91902</td><td>10.8198360</td><td>38.951410</td><td>-1.71949483</td></tr>\n",
       "\t<tr><td>2019-04-01 07:01:09</td><td>10001</td><td>  3699</td><td>850</td><td>23345</td><td>4</td><td>42.34371</td><td>-71.10697</td><td>1</td><td>1</td><td>...</td><td>2019-04-19 15:20:20</td><td>1</td><td>4</td><td>2019</td><td>2019-04-01 07:01:09</td><td> 6</td><td> 60.13087</td><td>10.0218121</td><td>36.078523</td><td>-0.13300399</td></tr>\n",
       "\t<tr><td>2019-04-01 07:01:15</td><td>10001</td><td>  3699</td><td>850</td><td>23370</td><td>4</td><td>42.34408</td><td>-71.10637</td><td>1</td><td>1</td><td>...</td><td>2019-04-19 15:20:20</td><td>1</td><td>4</td><td>2019</td><td>2019-04-01 07:01:15</td><td> 6</td><td> 64.48583</td><td>10.7476376</td><td>38.691495</td><td> 0.12097092</td></tr>\n",
       "\t<tr><td>2019-04-01 07:01:24</td><td>10001</td><td>  3699</td><td>850</td><td>23403</td><td>4</td><td>42.34444</td><td>-71.10581</td><td>1</td><td>1</td><td>...</td><td>2019-04-19 15:20:20</td><td>1</td><td>4</td><td>2019</td><td>2019-04-01 07:01:24</td><td> 9</td><td> 61.18240</td><td> 6.7980442</td><td>24.472959</td><td>-0.43884372</td></tr>\n",
       "\t<tr><td>2019-04-01 07:01:33</td><td>10001</td><td>  3699</td><td>850</td><td>23439</td><td>4</td><td>42.34478</td><td>-71.10525</td><td>1</td><td>1</td><td>...</td><td>2019-04-19 15:20:20</td><td>1</td><td>4</td><td>2019</td><td>2019-04-01 07:01:33</td><td> 9</td><td> 59.90425</td><td> 6.6560281</td><td>23.961701</td><td>-0.01577956</td></tr>\n",
       "\t<tr><td>2019-04-01 07:01:45</td><td>10001</td><td>  3699</td><td>850</td><td>23493</td><td>4</td><td>42.34517</td><td>-71.10456</td><td>1</td><td>1</td><td>...</td><td>2019-04-19 15:20:20</td><td>1</td><td>4</td><td>2019</td><td>2019-04-01 07:01:45</td><td>12</td><td> 71.24638</td><td> 5.9371984</td><td>21.373914</td><td>-0.05990247</td></tr>\n",
       "\t<tr><td>2019-04-01 07:02:20</td><td>10001</td><td>  3699</td><td>850</td><td>23627</td><td>4</td><td>42.34524</td><td>-71.10444</td><td>1</td><td>2</td><td>...</td><td>2019-04-19 15:20:20</td><td>1</td><td>4</td><td>2019</td><td>2019-04-01 07:02:20</td><td>35</td><td> 13.05304</td><td> 0.3729439</td><td> 1.342598</td><td>-0.15897870</td></tr>\n",
       "\t<tr><td>2019-04-01 07:02:50</td><td>10001</td><td>  3699</td><td>850</td><td>23769</td><td>4</td><td>42.34588</td><td>-71.10331</td><td>1</td><td>2</td><td>...</td><td>2019-04-19 15:20:20</td><td>1</td><td>4</td><td>2019</td><td>2019-04-01 07:02:50</td><td>30</td><td>116.79073</td><td> 3.8930244</td><td>14.014888</td><td> 0.11733602</td></tr>\n",
       "\t<tr><td>2019-04-01 07:03:11</td><td>10001</td><td>  3699</td><td>850</td><td>23889</td><td>4</td><td>42.34648</td><td>-71.10222</td><td>1</td><td>2</td><td>...</td><td>2019-04-19 15:20:20</td><td>1</td><td>4</td><td>2019</td><td>2019-04-01 07:03:11</td><td>21</td><td>111.75342</td><td> 5.3215916</td><td>19.157730</td><td> 0.06802701</td></tr>\n",
       "\t<tr><td>2019-04-01 07:03:23</td><td>10001</td><td>  3699</td><td>850</td><td>23941</td><td>4</td><td>42.34703</td><td>-71.10166</td><td>1</td><td>2</td><td>...</td><td>2019-04-19 15:20:20</td><td>1</td><td>4</td><td>2019</td><td>2019-04-01 07:03:23</td><td>12</td><td> 76.90675</td><td> 6.4088961</td><td>23.072026</td><td> 0.09060871</td></tr>\n",
       "\t<tr><td>2019-04-01 07:03:27</td><td>10001</td><td>  3699</td><td>850</td><td>23958</td><td>4</td><td>42.34763</td><td>-71.10143</td><td>1</td><td>2</td><td>...</td><td>2019-04-19 15:20:20</td><td>1</td><td>4</td><td>2019</td><td>2019-04-01 07:03:27</td><td> 4</td><td> 68.77812</td><td>17.1945299</td><td>61.900308</td><td> 2.69640845</td></tr>\n",
       "\t<tr><td>2019-04-01 07:03:48</td><td>10001</td><td>  3699</td><td>850</td><td>24022</td><td>4</td><td>42.34819</td><td>-71.09927</td><td>1</td><td>2</td><td>...</td><td>2019-04-19 15:20:20</td><td>1</td><td>4</td><td>2019</td><td>2019-04-01 07:03:48</td><td>21</td><td>189.20901</td><td> 9.0099528</td><td>32.435830</td><td>-0.38974177</td></tr>\n",
       "\t<tr><td>2019-04-01 07:04:06</td><td>10001</td><td>  3699</td><td>850</td><td>24079</td><td>4</td><td>42.34862</td><td>-71.09760</td><td>1</td><td>2</td><td>...</td><td>2019-04-19 15:20:20</td><td>1</td><td>4</td><td>2019</td><td>2019-04-01 07:04:06</td><td>18</td><td>144.64829</td><td> 8.0360163</td><td>28.929659</td><td>-0.05410758</td></tr>\n",
       "\t<tr><td>2019-04-01 07:04:46</td><td>10001</td><td>  3699</td><td>850</td><td>24286</td><td>4</td><td>42.34880</td><td>-71.09594</td><td>1</td><td>2</td><td>...</td><td>2019-04-19 15:20:20</td><td>1</td><td>4</td><td>2019</td><td>2019-04-01 07:04:46</td><td>40</td><td>138.04923</td><td> 3.4512307</td><td>12.424430</td><td>-0.11461964</td></tr>\n",
       "\t<tr><td>2019-04-01 07:04:53</td><td>10001</td><td>  3699</td><td>850</td><td>24314</td><td>4</td><td>42.34881</td><td>-71.09509</td><td>1</td><td>2</td><td>...</td><td>2019-04-19 15:20:20</td><td>1</td><td>4</td><td>2019</td><td>2019-04-01 07:04:53</td><td> 7</td><td> 70.35280</td><td>10.0503995</td><td>36.181438</td><td> 0.94273841</td></tr>\n",
       "\t<tr><td>2019-04-01 07:05:00</td><td>10001</td><td>  3699</td><td>850</td><td>24421</td><td>4</td><td>42.34885</td><td>-71.09469</td><td>1</td><td>0</td><td>...</td><td>2019-04-19 15:20:20</td><td>1</td><td>4</td><td>2019</td><td>2019-04-01 07:05:00</td><td> 7</td><td> 32.97912</td><td> 4.7113033</td><td>16.960692</td><td>-0.76272803</td></tr>\n",
       "\t<tr><td>2019-04-01 07:05:28</td><td>10001</td><td>  3699</td><td>850</td><td>24414</td><td>4</td><td>42.34885</td><td>-71.09469</td><td>1</td><td>2</td><td>...</td><td>2019-04-19 15:20:20</td><td>1</td><td>4</td><td>2019</td><td>2019-04-01 07:05:28</td><td>28</td><td>  0.00000</td><td> 0.0000000</td><td> 0.000000</td><td>-0.16826083</td></tr>\n",
       "\t<tr><td>2019-04-01 07:05:29</td><td>10001</td><td>  3699</td><td>850</td><td>24424</td><td>4</td><td>42.34885</td><td>-71.09469</td><td>1</td><td>2</td><td>...</td><td>2019-04-19 15:20:20</td><td>1</td><td>4</td><td>2019</td><td>2019-04-01 07:05:29</td><td> 1</td><td>  0.00000</td><td> 0.0000000</td><td> 0.000000</td><td> 0.00000000</td></tr>\n",
       "\t<tr><td>2019-04-01 07:05:38</td><td>10001</td><td>  3699</td><td>850</td><td>24451</td><td>4</td><td>42.34892</td><td>-71.09430</td><td>1</td><td>2</td><td>...</td><td>2019-04-19 15:20:20</td><td>1</td><td>4</td><td>2019</td><td>2019-04-01 07:05:38</td><td> 9</td><td> 33.17844</td><td> 3.6864928</td><td>13.271374</td><td> 0.40961031</td></tr>\n",
       "\t<tr><td>2019-04-01 07:05:49</td><td>10001</td><td>  3699</td><td>850</td><td>24502</td><td>4</td><td>42.34896</td><td>-71.09402</td><td>1</td><td>2</td><td>...</td><td>2019-04-19 15:20:20</td><td>1</td><td>4</td><td>2019</td><td>2019-04-01 07:05:49</td><td>11</td><td> 23.64519</td><td> 2.1495625</td><td> 7.738425</td><td>-0.13972094</td></tr>\n",
       "</tbody>\n",
       "</table>\n"
      ],
      "text/latex": [
       "A data.table: 201 × 27\n",
       "\\begin{tabular}{lllllllllllllllllllll}\n",
       " trxtime & trainid & vehicleid & routeid & counter & lineid & lat & lon & servicetypeid & sourceid & ... & inserted & day & month & year & time & interval\\_seconds & dist\\_meters & speed\\_mps & speed\\_kph & accel\\_mps2\\\\\n",
       " <chr> & <int> & <chr> & <int> & <int> & <int> & <dbl> & <dbl> & <int> & <int> & ... & <chr> & <int> & <dbl> & <dbl> & <dttm> & <dbl> & <dbl> & <dbl> & <dbl> & <dbl>\\\\\n",
       "\\hline\n",
       "\t 2019-04-01 06:35:54 & 10001 &   3699 & 850 & 17645 & 4 & 42.33666 & -71.25081 & 1 & 0 & ... & 2019-04-19 15:20:20 & 1 & 4 & 2019 & 2019-04-01 06:35:54 & NA &        NA &        NA &         NA &          NA\\\\\n",
       "\t 2019-04-01 06:36:00 & 10001 &   3699 & 850 & 17656 & 4 & 42.33633 & -71.25019 & 1 & 1 & ... & 2019-04-19 15:20:20 & 1 & 4 & 2019 & 2019-04-01 06:36:00 &  6 &  62.70724 & 10.451207 &  37.624345 &          NA\\\\\n",
       "\t 2019-04-01 06:36:06 & 10001 &   3699 & 850 & 17675 & 4 & 42.33567 & -71.24901 & 1 & 1 & ... & 2019-04-19 15:20:20 & 1 & 4 & 2019 & 2019-04-01 06:36:06 &  6 & 121.29373 & 20.215621 &  72.776237 &   1.6274024\\\\\n",
       "\t 2019-04-01 06:36:12 & 10001 &   3699 & 850 & 17793 & 4 & 42.33535 & -71.24840 & 1 & 1 & ... & 2019-04-19 15:20:20 & 1 & 4 & 2019 & 2019-04-01 06:36:12 &  6 &  61.86077 & 10.310128 &  37.116461 &  -1.6509156\\\\\n",
       "\t 2019-04-01 06:36:13 & 10001 &   3699 & 850 & 17798 & 4 & 42.33506 & -71.24777 & 1 & 1 & ... & 2019-04-19 15:20:20 & 1 & 4 & 2019 & 2019-04-01 06:36:13 &  1 &  60.99345 & 60.993453 & 219.576431 &  50.6833250\\\\\n",
       "\t 2019-04-01 06:36:18 & 10001 &   3699 & 850 & 17818 & 4 & 42.33475 & -71.24716 & 1 & 1 & ... & 2019-04-19 15:20:20 & 1 & 4 & 2019 & 2019-04-01 06:36:18 &  5 &  61.18063 & 12.236127 &  44.050056 &  -9.7514653\\\\\n",
       "\t 2019-04-01 06:36:24 & 10001 &   3699 & 850 & 17842 & 4 & 42.33443 & -71.24654 & 1 & 1 & ... & 2019-04-19 15:20:20 & 1 & 4 & 2019 & 2019-04-01 06:36:24 &  6 &  62.58200 & 10.430333 &  37.549198 &  -0.3009656\\\\\n",
       "\t 2019-04-01 06:36:25 & 10001 &   3699 & 850 & 17846 & 4 & 42.33411 & -71.24592 & 1 & 1 & ... & 2019-04-19 15:20:20 & 1 & 4 & 2019 & 2019-04-01 06:36:25 &  1 &  61.64781 & 61.647806 & 221.932101 &  51.2174730\\\\\n",
       "\t 2019-04-01 06:36:36 & 10001 &   3699 & 850 & 17948 & 4 & 42.33382 & -71.24534 & 1 & 1 & ... & 2019-04-19 15:20:20 & 1 & 4 & 2019 & 2019-04-01 06:36:36 & 11 &  57.18007 &  5.198188 &  18.713476 &  -5.1317835\\\\\n",
       "\t 2019-04-01 06:36:37 & 10001 &   3699 & 850 & 17950 & 4 & 42.33348 & -71.24470 & 1 & 1 & ... & 2019-04-19 15:20:20 & 1 & 4 & 2019 & 2019-04-01 06:36:37 &  1 &  65.17261 & 65.172613 & 234.621405 &  59.9744248\\\\\n",
       "\t 2019-04-01 06:36:43 & 10001 &   3699 & 850 & 17970 & 4 & 42.33322 & -71.24409 & 1 & 1 & ... & 2019-04-19 15:20:20 & 1 & 4 & 2019 & 2019-04-01 06:36:43 &  6 &  58.28943 &  9.714904 &  34.973656 &  -9.2429514\\\\\n",
       "\t 2019-04-01 06:36:54 & 10001 &   3699 & 850 & 18023 & 4 & 42.33285 & -71.24337 & 1 & 1 & ... & 2019-04-19 15:20:20 & 1 & 4 & 2019 & 2019-04-01 06:36:54 & 11 &  72.00499 &  6.545909 &  23.565271 &  -0.2880905\\\\\n",
       "\t 2019-04-01 06:37:30 & 10001 &   3699 & 850 & 18112 & 4 & 42.33239 & -71.24249 & 1 & 1 & ... & 2019-04-19 15:20:20 & 1 & 4 & 2019 & 2019-04-01 06:37:30 & 36 &  88.38201 &  2.455056 &   8.838201 &  -0.1136348\\\\\n",
       "\t 2019-04-01 06:37:36 & 10001 &   3699 & 850 & 18129 & 4 & 42.33208 & -71.24181 & 1 & 1 & ... & 2019-04-19 15:20:20 & 1 & 4 & 2019 & 2019-04-01 06:37:36 &  6 &  65.51966 & 10.919944 &  39.311797 &   1.4108147\\\\\n",
       "\t 2019-04-01 06:37:42 & 10001 &   3699 & 850 & 18147 & 4 & 42.33178 & -71.24122 & 1 & 1 & ... & 2019-04-19 15:20:20 & 1 & 4 & 2019 & 2019-04-01 06:37:42 &  6 &  59.40225 &  9.900375 &  35.641350 &  -0.1699281\\\\\n",
       "\t 2019-04-01 06:37:43 & 10001 &   3699 & 850 & 18148 & 4 & 42.33147 & -71.24063 & 1 & 1 & ... & 2019-04-19 15:20:20 & 1 & 4 & 2019 & 2019-04-01 06:37:43 &  1 &  59.14938 & 59.149379 & 212.937765 &  49.2490042\\\\\n",
       "\t 2019-04-01 06:37:48 & 10001 &   3699 & 850 & 18160 & 4 & 42.33114 & -71.24000 & 1 & 1 & ... & 2019-04-19 15:20:20 & 1 & 4 & 2019 & 2019-04-01 06:37:48 &  5 &  64.30355 & 12.860709 &  46.298554 &  -9.2577339\\\\\n",
       "\t 2019-04-01 06:37:54 & 10001 &   3699 & 850 & 18176 & 4 & 42.33087 & -71.23939 & 1 & 1 & ... & 2019-04-19 15:20:20 & 1 & 4 & 2019 & 2019-04-01 06:37:54 &  6 &  58.03233 &  9.672056 &  34.819400 &  -0.5314423\\\\\n",
       "\t 2019-04-01 06:38:00 & 10001 &   3699 & 850 & 18197 & 4 & 42.33024 & -71.23816 & 1 & 1 & ... & 2019-04-19 15:20:20 & 1 & 4 & 2019 & 2019-04-01 06:38:00 &  6 & 122.94932 & 20.491553 &  73.769591 &   1.8032496\\\\\n",
       "\t 2019-04-01 06:38:01 & 10001 &   3699 & 850 & 18198 & 4 & 42.32992 & -71.23749 & 1 & 1 & ... & 2019-04-19 15:20:20 & 1 & 4 & 2019 & 2019-04-01 06:38:01 &  1 &  65.51781 & 65.517807 & 235.864104 &  45.0262536\\\\\n",
       "\t 2019-04-01 06:38:06 & 10001 &   3699 & 850 & 18217 & 4 & 42.32961 & -71.23688 & 1 & 1 & ... & 2019-04-19 15:20:20 & 1 & 4 & 2019 & 2019-04-01 06:38:06 &  5 &  61.84554 & 12.369109 &  44.528792 & -10.6297396\\\\\n",
       "\t 2019-04-01 06:38:07 & 10001 &   3699 & 850 & 18222 & 4 & 42.32930 & -71.23627 & 1 & 1 & ... & 2019-04-19 15:20:20 & 1 & 4 & 2019 & 2019-04-01 06:38:07 &  1 &  60.58588 & 60.585881 & 218.109172 &  48.2167722\\\\\n",
       "\t 2019-04-01 06:38:12 & 10001 &   3699 & 850 & 18241 & 4 & 42.32899 & -71.23567 & 1 & 1 & ... & 2019-04-19 15:20:20 & 1 & 4 & 2019 & 2019-04-01 06:38:12 &  5 &  59.71249 & 11.942497 &  42.992990 &  -9.7286768\\\\\n",
       "\t 2019-04-01 06:38:18 & 10001 &   3699 & 850 & 18265 & 4 & 42.32870 & -71.23506 & 1 & 1 & ... & 2019-04-19 15:20:20 & 1 & 4 & 2019 & 2019-04-01 06:38:18 &  6 &  59.94894 &  9.991491 &  35.969367 &  -0.3251677\\\\\n",
       "\t 2019-04-01 06:38:19 & 10001 &   3699 & 850 & 18266 & 4 & 42.32837 & -71.23447 & 1 & 1 & ... & 2019-04-19 15:20:20 & 1 & 4 & 2019 & 2019-04-01 06:38:19 &  1 &  60.96955 & 60.969555 & 219.490398 &  50.9780641\\\\\n",
       "\t 2019-04-01 06:38:24 & 10001 &   3699 & 850 & 18290 & 4 & 42.32802 & -71.23383 & 1 & 1 & ... & 2019-04-19 15:20:20 & 1 & 4 & 2019 & 2019-04-01 06:38:24 &  5 &  65.69653 & 13.139306 &  47.301503 &  -9.5660497\\\\\n",
       "\t 2019-04-01 06:38:30 & 10001 &   3699 & 850 & 18311 & 4 & 42.32759 & -71.23316 & 1 & 1 & ... & 2019-04-19 15:20:20 & 1 & 4 & 2019 & 2019-04-01 06:38:30 &  6 &  73.17872 & 12.196453 &  43.907231 &  -0.1571422\\\\\n",
       "\t 2019-04-01 06:38:36 & 10001 &   3699 & 850 & 18327 & 4 & 42.32721 & -71.23263 & 1 & 1 & ... & 2019-04-19 15:20:20 & 1 & 4 & 2019 & 2019-04-01 06:38:36 &  6 &  60.25799 & 10.042999 &  36.154797 &  -0.3589090\\\\\n",
       "\t 2019-04-01 06:38:37 & 10001 &   3699 & 850 & 18330 & 4 & 42.32683 & -71.23211 & 1 & 1 & ... & 2019-04-19 15:20:20 & 1 & 4 & 2019 & 2019-04-01 06:38:37 &  1 &  60.09519 & 60.095191 & 216.342687 &  50.0521917\\\\\n",
       "\t 2019-04-01 06:38:43 & 10001 &   3699 & 850 & 18354 & 4 & 42.32650 & -71.23164 & 1 & 1 & ... & 2019-04-19 15:20:20 & 1 & 4 & 2019 & 2019-04-01 06:38:43 &  6 &  53.72758 &  8.954596 &  32.236546 &  -8.5234324\\\\\n",
       "\t ... & ... & ... & ... & ... & ... & ... & ... & ... & ... &  & ... & ... & ... & ... & ... & ... & ... & ... & ... & ...\\\\\n",
       "\t 2019-04-01 06:59:21 & 10001 &   3699 & 850 & 22900 & 4 & 42.33682 & -71.11236 & 1 & 1 & ... & 2019-04-19 15:20:20 & 1 & 4 & 2019 & 2019-04-01 06:59:21 &  6 &  64.02372 & 10.6706194 & 38.414230 & -1.73374079\\\\\n",
       "\t 2019-04-01 06:59:27 & 10001 &   3699 & 850 & 22923 & 4 & 42.33783 & -71.11184 & 1 & 1 & ... & 2019-04-19 15:20:20 & 1 & 4 & 2019 & 2019-04-01 06:59:27 &  6 & 121.20659 & 20.2010989 & 72.723956 &  1.58841325\\\\\n",
       "\t 2019-04-01 06:59:33 & 10001 &   3699 & 850 & 22939 & 4 & 42.33840 & -71.11158 & 1 & 1 & ... & 2019-04-19 15:20:20 & 1 & 4 & 2019 & 2019-04-01 06:59:33 &  6 &  66.86290 & 11.1438163 & 40.117739 & -1.50954710\\\\\n",
       "\t 2019-04-01 06:59:39 & 10001 &   3699 & 850 & 22964 & 4 & 42.33950 & -71.11123 & 1 & 1 & ... & 2019-04-19 15:20:20 & 1 & 4 & 2019 & 2019-04-01 06:59:39 &  6 & 125.49112 & 20.9151866 & 75.294672 &  1.62856172\\\\\n",
       "\t 2019-04-01 06:59:45 & 10001 &   3699 & 850 & 22985 & 4 & 42.34005 & -71.11107 & 1 & 1 & ... & 2019-04-19 15:20:20 & 1 & 4 & 2019 & 2019-04-01 06:59:45 &  6 &  61.85815 & 10.3096914 & 37.114889 & -1.76758253\\\\\n",
       "\t 2019-04-01 06:59:54 & 10001 &   3699 & 850 & 23023 & 4 & 42.34117 & -71.11040 & 1 & 1 & ... & 2019-04-19 15:20:20 & 1 & 4 & 2019 & 2019-04-01 06:59:54 &  9 & 136.44538 & 15.1605980 & 54.578153 &  0.53898962\\\\\n",
       "\t 2019-04-01 07:00:06 & 10001 &   3699 & 850 & 23066 & 4 & 42.34174 & -71.10985 & 1 & 1 & ... & 2019-04-19 15:20:20 & 1 & 4 & 2019 & 2019-04-01 07:00:06 & 12 &  78.01786 &  6.5014884 & 23.405358 & -0.72159247\\\\\n",
       "\t 2019-04-01 07:00:45 & 10001 &   3699 & 850 & 23252 & 4 & 42.34222 & -71.10930 & 1 & 1 & ... & 2019-04-19 15:20:20 & 1 & 4 & 2019 & 2019-04-01 07:00:45 & 39 &  70.47413 &  1.8070289 &  6.505304 & -0.12037075\\\\\n",
       "\t 2019-04-01 07:00:54 & 10001 &   3699 & 850 & 23288 & 4 & 42.34260 & -71.10871 & 1 & 1 & ... & 2019-04-19 15:20:20 & 1 & 4 & 2019 & 2019-04-01 07:00:54 &  9 &  64.56773 &  7.1741922 & 25.827092 &  0.59635148\\\\\n",
       "\t 2019-04-01 07:00:57 & 10001 &   3699 & 850 & 23300 & 4 & 42.34297 & -71.10812 & 1 & 1 & ... & 2019-04-19 15:20:20 & 1 & 4 & 2019 & 2019-04-01 07:00:57 &  3 &  63.41042 & 21.1368050 & 76.092498 &  4.65420427\\\\\n",
       "\t 2019-04-01 07:01:03 & 10001 &   3699 & 850 & 23324 & 4 & 42.34336 & -71.10753 & 1 & 1 & ... & 2019-04-19 15:20:20 & 1 & 4 & 2019 & 2019-04-01 07:01:03 &  6 &  64.91902 & 10.8198360 & 38.951410 & -1.71949483\\\\\n",
       "\t 2019-04-01 07:01:09 & 10001 &   3699 & 850 & 23345 & 4 & 42.34371 & -71.10697 & 1 & 1 & ... & 2019-04-19 15:20:20 & 1 & 4 & 2019 & 2019-04-01 07:01:09 &  6 &  60.13087 & 10.0218121 & 36.078523 & -0.13300399\\\\\n",
       "\t 2019-04-01 07:01:15 & 10001 &   3699 & 850 & 23370 & 4 & 42.34408 & -71.10637 & 1 & 1 & ... & 2019-04-19 15:20:20 & 1 & 4 & 2019 & 2019-04-01 07:01:15 &  6 &  64.48583 & 10.7476376 & 38.691495 &  0.12097092\\\\\n",
       "\t 2019-04-01 07:01:24 & 10001 &   3699 & 850 & 23403 & 4 & 42.34444 & -71.10581 & 1 & 1 & ... & 2019-04-19 15:20:20 & 1 & 4 & 2019 & 2019-04-01 07:01:24 &  9 &  61.18240 &  6.7980442 & 24.472959 & -0.43884372\\\\\n",
       "\t 2019-04-01 07:01:33 & 10001 &   3699 & 850 & 23439 & 4 & 42.34478 & -71.10525 & 1 & 1 & ... & 2019-04-19 15:20:20 & 1 & 4 & 2019 & 2019-04-01 07:01:33 &  9 &  59.90425 &  6.6560281 & 23.961701 & -0.01577956\\\\\n",
       "\t 2019-04-01 07:01:45 & 10001 &   3699 & 850 & 23493 & 4 & 42.34517 & -71.10456 & 1 & 1 & ... & 2019-04-19 15:20:20 & 1 & 4 & 2019 & 2019-04-01 07:01:45 & 12 &  71.24638 &  5.9371984 & 21.373914 & -0.05990247\\\\\n",
       "\t 2019-04-01 07:02:20 & 10001 &   3699 & 850 & 23627 & 4 & 42.34524 & -71.10444 & 1 & 2 & ... & 2019-04-19 15:20:20 & 1 & 4 & 2019 & 2019-04-01 07:02:20 & 35 &  13.05304 &  0.3729439 &  1.342598 & -0.15897870\\\\\n",
       "\t 2019-04-01 07:02:50 & 10001 &   3699 & 850 & 23769 & 4 & 42.34588 & -71.10331 & 1 & 2 & ... & 2019-04-19 15:20:20 & 1 & 4 & 2019 & 2019-04-01 07:02:50 & 30 & 116.79073 &  3.8930244 & 14.014888 &  0.11733602\\\\\n",
       "\t 2019-04-01 07:03:11 & 10001 &   3699 & 850 & 23889 & 4 & 42.34648 & -71.10222 & 1 & 2 & ... & 2019-04-19 15:20:20 & 1 & 4 & 2019 & 2019-04-01 07:03:11 & 21 & 111.75342 &  5.3215916 & 19.157730 &  0.06802701\\\\\n",
       "\t 2019-04-01 07:03:23 & 10001 &   3699 & 850 & 23941 & 4 & 42.34703 & -71.10166 & 1 & 2 & ... & 2019-04-19 15:20:20 & 1 & 4 & 2019 & 2019-04-01 07:03:23 & 12 &  76.90675 &  6.4088961 & 23.072026 &  0.09060871\\\\\n",
       "\t 2019-04-01 07:03:27 & 10001 &   3699 & 850 & 23958 & 4 & 42.34763 & -71.10143 & 1 & 2 & ... & 2019-04-19 15:20:20 & 1 & 4 & 2019 & 2019-04-01 07:03:27 &  4 &  68.77812 & 17.1945299 & 61.900308 &  2.69640845\\\\\n",
       "\t 2019-04-01 07:03:48 & 10001 &   3699 & 850 & 24022 & 4 & 42.34819 & -71.09927 & 1 & 2 & ... & 2019-04-19 15:20:20 & 1 & 4 & 2019 & 2019-04-01 07:03:48 & 21 & 189.20901 &  9.0099528 & 32.435830 & -0.38974177\\\\\n",
       "\t 2019-04-01 07:04:06 & 10001 &   3699 & 850 & 24079 & 4 & 42.34862 & -71.09760 & 1 & 2 & ... & 2019-04-19 15:20:20 & 1 & 4 & 2019 & 2019-04-01 07:04:06 & 18 & 144.64829 &  8.0360163 & 28.929659 & -0.05410758\\\\\n",
       "\t 2019-04-01 07:04:46 & 10001 &   3699 & 850 & 24286 & 4 & 42.34880 & -71.09594 & 1 & 2 & ... & 2019-04-19 15:20:20 & 1 & 4 & 2019 & 2019-04-01 07:04:46 & 40 & 138.04923 &  3.4512307 & 12.424430 & -0.11461964\\\\\n",
       "\t 2019-04-01 07:04:53 & 10001 &   3699 & 850 & 24314 & 4 & 42.34881 & -71.09509 & 1 & 2 & ... & 2019-04-19 15:20:20 & 1 & 4 & 2019 & 2019-04-01 07:04:53 &  7 &  70.35280 & 10.0503995 & 36.181438 &  0.94273841\\\\\n",
       "\t 2019-04-01 07:05:00 & 10001 &   3699 & 850 & 24421 & 4 & 42.34885 & -71.09469 & 1 & 0 & ... & 2019-04-19 15:20:20 & 1 & 4 & 2019 & 2019-04-01 07:05:00 &  7 &  32.97912 &  4.7113033 & 16.960692 & -0.76272803\\\\\n",
       "\t 2019-04-01 07:05:28 & 10001 &   3699 & 850 & 24414 & 4 & 42.34885 & -71.09469 & 1 & 2 & ... & 2019-04-19 15:20:20 & 1 & 4 & 2019 & 2019-04-01 07:05:28 & 28 &   0.00000 &  0.0000000 &  0.000000 & -0.16826083\\\\\n",
       "\t 2019-04-01 07:05:29 & 10001 &   3699 & 850 & 24424 & 4 & 42.34885 & -71.09469 & 1 & 2 & ... & 2019-04-19 15:20:20 & 1 & 4 & 2019 & 2019-04-01 07:05:29 &  1 &   0.00000 &  0.0000000 &  0.000000 &  0.00000000\\\\\n",
       "\t 2019-04-01 07:05:38 & 10001 &   3699 & 850 & 24451 & 4 & 42.34892 & -71.09430 & 1 & 2 & ... & 2019-04-19 15:20:20 & 1 & 4 & 2019 & 2019-04-01 07:05:38 &  9 &  33.17844 &  3.6864928 & 13.271374 &  0.40961031\\\\\n",
       "\t 2019-04-01 07:05:49 & 10001 &   3699 & 850 & 24502 & 4 & 42.34896 & -71.09402 & 1 & 2 & ... & 2019-04-19 15:20:20 & 1 & 4 & 2019 & 2019-04-01 07:05:49 & 11 &  23.64519 &  2.1495625 &  7.738425 & -0.13972094\\\\\n",
       "\\end{tabular}\n"
      ],
      "text/markdown": [
       "\n",
       "A data.table: 201 × 27\n",
       "\n",
       "| trxtime &lt;chr&gt; | trainid &lt;int&gt; | vehicleid &lt;chr&gt; | routeid &lt;int&gt; | counter &lt;int&gt; | lineid &lt;int&gt; | lat &lt;dbl&gt; | lon &lt;dbl&gt; | servicetypeid &lt;int&gt; | sourceid &lt;int&gt; | ... ... | inserted &lt;chr&gt; | day &lt;int&gt; | month &lt;dbl&gt; | year &lt;dbl&gt; | time &lt;dttm&gt; | interval_seconds &lt;dbl&gt; | dist_meters &lt;dbl&gt; | speed_mps &lt;dbl&gt; | speed_kph &lt;dbl&gt; | accel_mps2 &lt;dbl&gt; |\n",
       "|---|---|---|---|---|---|---|---|---|---|---|---|---|---|---|---|---|---|---|---|---|\n",
       "| 2019-04-01 06:35:54 | 10001 |   3699 | 850 | 17645 | 4 | 42.33666 | -71.25081 | 1 | 0 | ... | 2019-04-19 15:20:20 | 1 | 4 | 2019 | 2019-04-01 06:35:54 | NA |        NA |        NA |         NA |          NA |\n",
       "| 2019-04-01 06:36:00 | 10001 |   3699 | 850 | 17656 | 4 | 42.33633 | -71.25019 | 1 | 1 | ... | 2019-04-19 15:20:20 | 1 | 4 | 2019 | 2019-04-01 06:36:00 |  6 |  62.70724 | 10.451207 |  37.624345 |          NA |\n",
       "| 2019-04-01 06:36:06 | 10001 |   3699 | 850 | 17675 | 4 | 42.33567 | -71.24901 | 1 | 1 | ... | 2019-04-19 15:20:20 | 1 | 4 | 2019 | 2019-04-01 06:36:06 |  6 | 121.29373 | 20.215621 |  72.776237 |   1.6274024 |\n",
       "| 2019-04-01 06:36:12 | 10001 |   3699 | 850 | 17793 | 4 | 42.33535 | -71.24840 | 1 | 1 | ... | 2019-04-19 15:20:20 | 1 | 4 | 2019 | 2019-04-01 06:36:12 |  6 |  61.86077 | 10.310128 |  37.116461 |  -1.6509156 |\n",
       "| 2019-04-01 06:36:13 | 10001 |   3699 | 850 | 17798 | 4 | 42.33506 | -71.24777 | 1 | 1 | ... | 2019-04-19 15:20:20 | 1 | 4 | 2019 | 2019-04-01 06:36:13 |  1 |  60.99345 | 60.993453 | 219.576431 |  50.6833250 |\n",
       "| 2019-04-01 06:36:18 | 10001 |   3699 | 850 | 17818 | 4 | 42.33475 | -71.24716 | 1 | 1 | ... | 2019-04-19 15:20:20 | 1 | 4 | 2019 | 2019-04-01 06:36:18 |  5 |  61.18063 | 12.236127 |  44.050056 |  -9.7514653 |\n",
       "| 2019-04-01 06:36:24 | 10001 |   3699 | 850 | 17842 | 4 | 42.33443 | -71.24654 | 1 | 1 | ... | 2019-04-19 15:20:20 | 1 | 4 | 2019 | 2019-04-01 06:36:24 |  6 |  62.58200 | 10.430333 |  37.549198 |  -0.3009656 |\n",
       "| 2019-04-01 06:36:25 | 10001 |   3699 | 850 | 17846 | 4 | 42.33411 | -71.24592 | 1 | 1 | ... | 2019-04-19 15:20:20 | 1 | 4 | 2019 | 2019-04-01 06:36:25 |  1 |  61.64781 | 61.647806 | 221.932101 |  51.2174730 |\n",
       "| 2019-04-01 06:36:36 | 10001 |   3699 | 850 | 17948 | 4 | 42.33382 | -71.24534 | 1 | 1 | ... | 2019-04-19 15:20:20 | 1 | 4 | 2019 | 2019-04-01 06:36:36 | 11 |  57.18007 |  5.198188 |  18.713476 |  -5.1317835 |\n",
       "| 2019-04-01 06:36:37 | 10001 |   3699 | 850 | 17950 | 4 | 42.33348 | -71.24470 | 1 | 1 | ... | 2019-04-19 15:20:20 | 1 | 4 | 2019 | 2019-04-01 06:36:37 |  1 |  65.17261 | 65.172613 | 234.621405 |  59.9744248 |\n",
       "| 2019-04-01 06:36:43 | 10001 |   3699 | 850 | 17970 | 4 | 42.33322 | -71.24409 | 1 | 1 | ... | 2019-04-19 15:20:20 | 1 | 4 | 2019 | 2019-04-01 06:36:43 |  6 |  58.28943 |  9.714904 |  34.973656 |  -9.2429514 |\n",
       "| 2019-04-01 06:36:54 | 10001 |   3699 | 850 | 18023 | 4 | 42.33285 | -71.24337 | 1 | 1 | ... | 2019-04-19 15:20:20 | 1 | 4 | 2019 | 2019-04-01 06:36:54 | 11 |  72.00499 |  6.545909 |  23.565271 |  -0.2880905 |\n",
       "| 2019-04-01 06:37:30 | 10001 |   3699 | 850 | 18112 | 4 | 42.33239 | -71.24249 | 1 | 1 | ... | 2019-04-19 15:20:20 | 1 | 4 | 2019 | 2019-04-01 06:37:30 | 36 |  88.38201 |  2.455056 |   8.838201 |  -0.1136348 |\n",
       "| 2019-04-01 06:37:36 | 10001 |   3699 | 850 | 18129 | 4 | 42.33208 | -71.24181 | 1 | 1 | ... | 2019-04-19 15:20:20 | 1 | 4 | 2019 | 2019-04-01 06:37:36 |  6 |  65.51966 | 10.919944 |  39.311797 |   1.4108147 |\n",
       "| 2019-04-01 06:37:42 | 10001 |   3699 | 850 | 18147 | 4 | 42.33178 | -71.24122 | 1 | 1 | ... | 2019-04-19 15:20:20 | 1 | 4 | 2019 | 2019-04-01 06:37:42 |  6 |  59.40225 |  9.900375 |  35.641350 |  -0.1699281 |\n",
       "| 2019-04-01 06:37:43 | 10001 |   3699 | 850 | 18148 | 4 | 42.33147 | -71.24063 | 1 | 1 | ... | 2019-04-19 15:20:20 | 1 | 4 | 2019 | 2019-04-01 06:37:43 |  1 |  59.14938 | 59.149379 | 212.937765 |  49.2490042 |\n",
       "| 2019-04-01 06:37:48 | 10001 |   3699 | 850 | 18160 | 4 | 42.33114 | -71.24000 | 1 | 1 | ... | 2019-04-19 15:20:20 | 1 | 4 | 2019 | 2019-04-01 06:37:48 |  5 |  64.30355 | 12.860709 |  46.298554 |  -9.2577339 |\n",
       "| 2019-04-01 06:37:54 | 10001 |   3699 | 850 | 18176 | 4 | 42.33087 | -71.23939 | 1 | 1 | ... | 2019-04-19 15:20:20 | 1 | 4 | 2019 | 2019-04-01 06:37:54 |  6 |  58.03233 |  9.672056 |  34.819400 |  -0.5314423 |\n",
       "| 2019-04-01 06:38:00 | 10001 |   3699 | 850 | 18197 | 4 | 42.33024 | -71.23816 | 1 | 1 | ... | 2019-04-19 15:20:20 | 1 | 4 | 2019 | 2019-04-01 06:38:00 |  6 | 122.94932 | 20.491553 |  73.769591 |   1.8032496 |\n",
       "| 2019-04-01 06:38:01 | 10001 |   3699 | 850 | 18198 | 4 | 42.32992 | -71.23749 | 1 | 1 | ... | 2019-04-19 15:20:20 | 1 | 4 | 2019 | 2019-04-01 06:38:01 |  1 |  65.51781 | 65.517807 | 235.864104 |  45.0262536 |\n",
       "| 2019-04-01 06:38:06 | 10001 |   3699 | 850 | 18217 | 4 | 42.32961 | -71.23688 | 1 | 1 | ... | 2019-04-19 15:20:20 | 1 | 4 | 2019 | 2019-04-01 06:38:06 |  5 |  61.84554 | 12.369109 |  44.528792 | -10.6297396 |\n",
       "| 2019-04-01 06:38:07 | 10001 |   3699 | 850 | 18222 | 4 | 42.32930 | -71.23627 | 1 | 1 | ... | 2019-04-19 15:20:20 | 1 | 4 | 2019 | 2019-04-01 06:38:07 |  1 |  60.58588 | 60.585881 | 218.109172 |  48.2167722 |\n",
       "| 2019-04-01 06:38:12 | 10001 |   3699 | 850 | 18241 | 4 | 42.32899 | -71.23567 | 1 | 1 | ... | 2019-04-19 15:20:20 | 1 | 4 | 2019 | 2019-04-01 06:38:12 |  5 |  59.71249 | 11.942497 |  42.992990 |  -9.7286768 |\n",
       "| 2019-04-01 06:38:18 | 10001 |   3699 | 850 | 18265 | 4 | 42.32870 | -71.23506 | 1 | 1 | ... | 2019-04-19 15:20:20 | 1 | 4 | 2019 | 2019-04-01 06:38:18 |  6 |  59.94894 |  9.991491 |  35.969367 |  -0.3251677 |\n",
       "| 2019-04-01 06:38:19 | 10001 |   3699 | 850 | 18266 | 4 | 42.32837 | -71.23447 | 1 | 1 | ... | 2019-04-19 15:20:20 | 1 | 4 | 2019 | 2019-04-01 06:38:19 |  1 |  60.96955 | 60.969555 | 219.490398 |  50.9780641 |\n",
       "| 2019-04-01 06:38:24 | 10001 |   3699 | 850 | 18290 | 4 | 42.32802 | -71.23383 | 1 | 1 | ... | 2019-04-19 15:20:20 | 1 | 4 | 2019 | 2019-04-01 06:38:24 |  5 |  65.69653 | 13.139306 |  47.301503 |  -9.5660497 |\n",
       "| 2019-04-01 06:38:30 | 10001 |   3699 | 850 | 18311 | 4 | 42.32759 | -71.23316 | 1 | 1 | ... | 2019-04-19 15:20:20 | 1 | 4 | 2019 | 2019-04-01 06:38:30 |  6 |  73.17872 | 12.196453 |  43.907231 |  -0.1571422 |\n",
       "| 2019-04-01 06:38:36 | 10001 |   3699 | 850 | 18327 | 4 | 42.32721 | -71.23263 | 1 | 1 | ... | 2019-04-19 15:20:20 | 1 | 4 | 2019 | 2019-04-01 06:38:36 |  6 |  60.25799 | 10.042999 |  36.154797 |  -0.3589090 |\n",
       "| 2019-04-01 06:38:37 | 10001 |   3699 | 850 | 18330 | 4 | 42.32683 | -71.23211 | 1 | 1 | ... | 2019-04-19 15:20:20 | 1 | 4 | 2019 | 2019-04-01 06:38:37 |  1 |  60.09519 | 60.095191 | 216.342687 |  50.0521917 |\n",
       "| 2019-04-01 06:38:43 | 10001 |   3699 | 850 | 18354 | 4 | 42.32650 | -71.23164 | 1 | 1 | ... | 2019-04-19 15:20:20 | 1 | 4 | 2019 | 2019-04-01 06:38:43 |  6 |  53.72758 |  8.954596 |  32.236546 |  -8.5234324 |\n",
       "| ... | ... | ... | ... | ... | ... | ... | ... | ... | ... | <!----> | ... | ... | ... | ... | ... | ... | ... | ... | ... | ... |\n",
       "| 2019-04-01 06:59:21 | 10001 |   3699 | 850 | 22900 | 4 | 42.33682 | -71.11236 | 1 | 1 | ... | 2019-04-19 15:20:20 | 1 | 4 | 2019 | 2019-04-01 06:59:21 |  6 |  64.02372 | 10.6706194 | 38.414230 | -1.73374079 |\n",
       "| 2019-04-01 06:59:27 | 10001 |   3699 | 850 | 22923 | 4 | 42.33783 | -71.11184 | 1 | 1 | ... | 2019-04-19 15:20:20 | 1 | 4 | 2019 | 2019-04-01 06:59:27 |  6 | 121.20659 | 20.2010989 | 72.723956 |  1.58841325 |\n",
       "| 2019-04-01 06:59:33 | 10001 |   3699 | 850 | 22939 | 4 | 42.33840 | -71.11158 | 1 | 1 | ... | 2019-04-19 15:20:20 | 1 | 4 | 2019 | 2019-04-01 06:59:33 |  6 |  66.86290 | 11.1438163 | 40.117739 | -1.50954710 |\n",
       "| 2019-04-01 06:59:39 | 10001 |   3699 | 850 | 22964 | 4 | 42.33950 | -71.11123 | 1 | 1 | ... | 2019-04-19 15:20:20 | 1 | 4 | 2019 | 2019-04-01 06:59:39 |  6 | 125.49112 | 20.9151866 | 75.294672 |  1.62856172 |\n",
       "| 2019-04-01 06:59:45 | 10001 |   3699 | 850 | 22985 | 4 | 42.34005 | -71.11107 | 1 | 1 | ... | 2019-04-19 15:20:20 | 1 | 4 | 2019 | 2019-04-01 06:59:45 |  6 |  61.85815 | 10.3096914 | 37.114889 | -1.76758253 |\n",
       "| 2019-04-01 06:59:54 | 10001 |   3699 | 850 | 23023 | 4 | 42.34117 | -71.11040 | 1 | 1 | ... | 2019-04-19 15:20:20 | 1 | 4 | 2019 | 2019-04-01 06:59:54 |  9 | 136.44538 | 15.1605980 | 54.578153 |  0.53898962 |\n",
       "| 2019-04-01 07:00:06 | 10001 |   3699 | 850 | 23066 | 4 | 42.34174 | -71.10985 | 1 | 1 | ... | 2019-04-19 15:20:20 | 1 | 4 | 2019 | 2019-04-01 07:00:06 | 12 |  78.01786 |  6.5014884 | 23.405358 | -0.72159247 |\n",
       "| 2019-04-01 07:00:45 | 10001 |   3699 | 850 | 23252 | 4 | 42.34222 | -71.10930 | 1 | 1 | ... | 2019-04-19 15:20:20 | 1 | 4 | 2019 | 2019-04-01 07:00:45 | 39 |  70.47413 |  1.8070289 |  6.505304 | -0.12037075 |\n",
       "| 2019-04-01 07:00:54 | 10001 |   3699 | 850 | 23288 | 4 | 42.34260 | -71.10871 | 1 | 1 | ... | 2019-04-19 15:20:20 | 1 | 4 | 2019 | 2019-04-01 07:00:54 |  9 |  64.56773 |  7.1741922 | 25.827092 |  0.59635148 |\n",
       "| 2019-04-01 07:00:57 | 10001 |   3699 | 850 | 23300 | 4 | 42.34297 | -71.10812 | 1 | 1 | ... | 2019-04-19 15:20:20 | 1 | 4 | 2019 | 2019-04-01 07:00:57 |  3 |  63.41042 | 21.1368050 | 76.092498 |  4.65420427 |\n",
       "| 2019-04-01 07:01:03 | 10001 |   3699 | 850 | 23324 | 4 | 42.34336 | -71.10753 | 1 | 1 | ... | 2019-04-19 15:20:20 | 1 | 4 | 2019 | 2019-04-01 07:01:03 |  6 |  64.91902 | 10.8198360 | 38.951410 | -1.71949483 |\n",
       "| 2019-04-01 07:01:09 | 10001 |   3699 | 850 | 23345 | 4 | 42.34371 | -71.10697 | 1 | 1 | ... | 2019-04-19 15:20:20 | 1 | 4 | 2019 | 2019-04-01 07:01:09 |  6 |  60.13087 | 10.0218121 | 36.078523 | -0.13300399 |\n",
       "| 2019-04-01 07:01:15 | 10001 |   3699 | 850 | 23370 | 4 | 42.34408 | -71.10637 | 1 | 1 | ... | 2019-04-19 15:20:20 | 1 | 4 | 2019 | 2019-04-01 07:01:15 |  6 |  64.48583 | 10.7476376 | 38.691495 |  0.12097092 |\n",
       "| 2019-04-01 07:01:24 | 10001 |   3699 | 850 | 23403 | 4 | 42.34444 | -71.10581 | 1 | 1 | ... | 2019-04-19 15:20:20 | 1 | 4 | 2019 | 2019-04-01 07:01:24 |  9 |  61.18240 |  6.7980442 | 24.472959 | -0.43884372 |\n",
       "| 2019-04-01 07:01:33 | 10001 |   3699 | 850 | 23439 | 4 | 42.34478 | -71.10525 | 1 | 1 | ... | 2019-04-19 15:20:20 | 1 | 4 | 2019 | 2019-04-01 07:01:33 |  9 |  59.90425 |  6.6560281 | 23.961701 | -0.01577956 |\n",
       "| 2019-04-01 07:01:45 | 10001 |   3699 | 850 | 23493 | 4 | 42.34517 | -71.10456 | 1 | 1 | ... | 2019-04-19 15:20:20 | 1 | 4 | 2019 | 2019-04-01 07:01:45 | 12 |  71.24638 |  5.9371984 | 21.373914 | -0.05990247 |\n",
       "| 2019-04-01 07:02:20 | 10001 |   3699 | 850 | 23627 | 4 | 42.34524 | -71.10444 | 1 | 2 | ... | 2019-04-19 15:20:20 | 1 | 4 | 2019 | 2019-04-01 07:02:20 | 35 |  13.05304 |  0.3729439 |  1.342598 | -0.15897870 |\n",
       "| 2019-04-01 07:02:50 | 10001 |   3699 | 850 | 23769 | 4 | 42.34588 | -71.10331 | 1 | 2 | ... | 2019-04-19 15:20:20 | 1 | 4 | 2019 | 2019-04-01 07:02:50 | 30 | 116.79073 |  3.8930244 | 14.014888 |  0.11733602 |\n",
       "| 2019-04-01 07:03:11 | 10001 |   3699 | 850 | 23889 | 4 | 42.34648 | -71.10222 | 1 | 2 | ... | 2019-04-19 15:20:20 | 1 | 4 | 2019 | 2019-04-01 07:03:11 | 21 | 111.75342 |  5.3215916 | 19.157730 |  0.06802701 |\n",
       "| 2019-04-01 07:03:23 | 10001 |   3699 | 850 | 23941 | 4 | 42.34703 | -71.10166 | 1 | 2 | ... | 2019-04-19 15:20:20 | 1 | 4 | 2019 | 2019-04-01 07:03:23 | 12 |  76.90675 |  6.4088961 | 23.072026 |  0.09060871 |\n",
       "| 2019-04-01 07:03:27 | 10001 |   3699 | 850 | 23958 | 4 | 42.34763 | -71.10143 | 1 | 2 | ... | 2019-04-19 15:20:20 | 1 | 4 | 2019 | 2019-04-01 07:03:27 |  4 |  68.77812 | 17.1945299 | 61.900308 |  2.69640845 |\n",
       "| 2019-04-01 07:03:48 | 10001 |   3699 | 850 | 24022 | 4 | 42.34819 | -71.09927 | 1 | 2 | ... | 2019-04-19 15:20:20 | 1 | 4 | 2019 | 2019-04-01 07:03:48 | 21 | 189.20901 |  9.0099528 | 32.435830 | -0.38974177 |\n",
       "| 2019-04-01 07:04:06 | 10001 |   3699 | 850 | 24079 | 4 | 42.34862 | -71.09760 | 1 | 2 | ... | 2019-04-19 15:20:20 | 1 | 4 | 2019 | 2019-04-01 07:04:06 | 18 | 144.64829 |  8.0360163 | 28.929659 | -0.05410758 |\n",
       "| 2019-04-01 07:04:46 | 10001 |   3699 | 850 | 24286 | 4 | 42.34880 | -71.09594 | 1 | 2 | ... | 2019-04-19 15:20:20 | 1 | 4 | 2019 | 2019-04-01 07:04:46 | 40 | 138.04923 |  3.4512307 | 12.424430 | -0.11461964 |\n",
       "| 2019-04-01 07:04:53 | 10001 |   3699 | 850 | 24314 | 4 | 42.34881 | -71.09509 | 1 | 2 | ... | 2019-04-19 15:20:20 | 1 | 4 | 2019 | 2019-04-01 07:04:53 |  7 |  70.35280 | 10.0503995 | 36.181438 |  0.94273841 |\n",
       "| 2019-04-01 07:05:00 | 10001 |   3699 | 850 | 24421 | 4 | 42.34885 | -71.09469 | 1 | 0 | ... | 2019-04-19 15:20:20 | 1 | 4 | 2019 | 2019-04-01 07:05:00 |  7 |  32.97912 |  4.7113033 | 16.960692 | -0.76272803 |\n",
       "| 2019-04-01 07:05:28 | 10001 |   3699 | 850 | 24414 | 4 | 42.34885 | -71.09469 | 1 | 2 | ... | 2019-04-19 15:20:20 | 1 | 4 | 2019 | 2019-04-01 07:05:28 | 28 |   0.00000 |  0.0000000 |  0.000000 | -0.16826083 |\n",
       "| 2019-04-01 07:05:29 | 10001 |   3699 | 850 | 24424 | 4 | 42.34885 | -71.09469 | 1 | 2 | ... | 2019-04-19 15:20:20 | 1 | 4 | 2019 | 2019-04-01 07:05:29 |  1 |   0.00000 |  0.0000000 |  0.000000 |  0.00000000 |\n",
       "| 2019-04-01 07:05:38 | 10001 |   3699 | 850 | 24451 | 4 | 42.34892 | -71.09430 | 1 | 2 | ... | 2019-04-19 15:20:20 | 1 | 4 | 2019 | 2019-04-01 07:05:38 |  9 |  33.17844 |  3.6864928 | 13.271374 |  0.40961031 |\n",
       "| 2019-04-01 07:05:49 | 10001 |   3699 | 850 | 24502 | 4 | 42.34896 | -71.09402 | 1 | 2 | ... | 2019-04-19 15:20:20 | 1 | 4 | 2019 | 2019-04-01 07:05:49 | 11 |  23.64519 |  2.1495625 |  7.738425 | -0.13972094 |\n",
       "\n"
      ],
      "text/plain": [
       "    trxtime             trainid vehicleid routeid counter lineid lat     \n",
       "1   2019-04-01 06:35:54 10001     3699    850     17645   4      42.33666\n",
       "2   2019-04-01 06:36:00 10001     3699    850     17656   4      42.33633\n",
       "3   2019-04-01 06:36:06 10001     3699    850     17675   4      42.33567\n",
       "4   2019-04-01 06:36:12 10001     3699    850     17793   4      42.33535\n",
       "5   2019-04-01 06:36:13 10001     3699    850     17798   4      42.33506\n",
       "6   2019-04-01 06:36:18 10001     3699    850     17818   4      42.33475\n",
       "7   2019-04-01 06:36:24 10001     3699    850     17842   4      42.33443\n",
       "8   2019-04-01 06:36:25 10001     3699    850     17846   4      42.33411\n",
       "9   2019-04-01 06:36:36 10001     3699    850     17948   4      42.33382\n",
       "10  2019-04-01 06:36:37 10001     3699    850     17950   4      42.33348\n",
       "11  2019-04-01 06:36:43 10001     3699    850     17970   4      42.33322\n",
       "12  2019-04-01 06:36:54 10001     3699    850     18023   4      42.33285\n",
       "13  2019-04-01 06:37:30 10001     3699    850     18112   4      42.33239\n",
       "14  2019-04-01 06:37:36 10001     3699    850     18129   4      42.33208\n",
       "15  2019-04-01 06:37:42 10001     3699    850     18147   4      42.33178\n",
       "16  2019-04-01 06:37:43 10001     3699    850     18148   4      42.33147\n",
       "17  2019-04-01 06:37:48 10001     3699    850     18160   4      42.33114\n",
       "18  2019-04-01 06:37:54 10001     3699    850     18176   4      42.33087\n",
       "19  2019-04-01 06:38:00 10001     3699    850     18197   4      42.33024\n",
       "20  2019-04-01 06:38:01 10001     3699    850     18198   4      42.32992\n",
       "21  2019-04-01 06:38:06 10001     3699    850     18217   4      42.32961\n",
       "22  2019-04-01 06:38:07 10001     3699    850     18222   4      42.32930\n",
       "23  2019-04-01 06:38:12 10001     3699    850     18241   4      42.32899\n",
       "24  2019-04-01 06:38:18 10001     3699    850     18265   4      42.32870\n",
       "25  2019-04-01 06:38:19 10001     3699    850     18266   4      42.32837\n",
       "26  2019-04-01 06:38:24 10001     3699    850     18290   4      42.32802\n",
       "27  2019-04-01 06:38:30 10001     3699    850     18311   4      42.32759\n",
       "28  2019-04-01 06:38:36 10001     3699    850     18327   4      42.32721\n",
       "29  2019-04-01 06:38:37 10001     3699    850     18330   4      42.32683\n",
       "30  2019-04-01 06:38:43 10001     3699    850     18354   4      42.32650\n",
       "... ...                 ...     ...       ...     ...     ...    ...     \n",
       "172 2019-04-01 06:59:21 10001     3699    850     22900   4      42.33682\n",
       "173 2019-04-01 06:59:27 10001     3699    850     22923   4      42.33783\n",
       "174 2019-04-01 06:59:33 10001     3699    850     22939   4      42.33840\n",
       "175 2019-04-01 06:59:39 10001     3699    850     22964   4      42.33950\n",
       "176 2019-04-01 06:59:45 10001     3699    850     22985   4      42.34005\n",
       "177 2019-04-01 06:59:54 10001     3699    850     23023   4      42.34117\n",
       "178 2019-04-01 07:00:06 10001     3699    850     23066   4      42.34174\n",
       "179 2019-04-01 07:00:45 10001     3699    850     23252   4      42.34222\n",
       "180 2019-04-01 07:00:54 10001     3699    850     23288   4      42.34260\n",
       "181 2019-04-01 07:00:57 10001     3699    850     23300   4      42.34297\n",
       "182 2019-04-01 07:01:03 10001     3699    850     23324   4      42.34336\n",
       "183 2019-04-01 07:01:09 10001     3699    850     23345   4      42.34371\n",
       "184 2019-04-01 07:01:15 10001     3699    850     23370   4      42.34408\n",
       "185 2019-04-01 07:01:24 10001     3699    850     23403   4      42.34444\n",
       "186 2019-04-01 07:01:33 10001     3699    850     23439   4      42.34478\n",
       "187 2019-04-01 07:01:45 10001     3699    850     23493   4      42.34517\n",
       "188 2019-04-01 07:02:20 10001     3699    850     23627   4      42.34524\n",
       "189 2019-04-01 07:02:50 10001     3699    850     23769   4      42.34588\n",
       "190 2019-04-01 07:03:11 10001     3699    850     23889   4      42.34648\n",
       "191 2019-04-01 07:03:23 10001     3699    850     23941   4      42.34703\n",
       "192 2019-04-01 07:03:27 10001     3699    850     23958   4      42.34763\n",
       "193 2019-04-01 07:03:48 10001     3699    850     24022   4      42.34819\n",
       "194 2019-04-01 07:04:06 10001     3699    850     24079   4      42.34862\n",
       "195 2019-04-01 07:04:46 10001     3699    850     24286   4      42.34880\n",
       "196 2019-04-01 07:04:53 10001     3699    850     24314   4      42.34881\n",
       "197 2019-04-01 07:05:00 10001     3699    850     24421   4      42.34885\n",
       "198 2019-04-01 07:05:28 10001     3699    850     24414   4      42.34885\n",
       "199 2019-04-01 07:05:29 10001     3699    850     24424   4      42.34885\n",
       "200 2019-04-01 07:05:38 10001     3699    850     24451   4      42.34892\n",
       "201 2019-04-01 07:05:49 10001     3699    850     24502   4      42.34896\n",
       "    lon       servicetypeid sourceid ... inserted            day month year\n",
       "1   -71.25081 1             0        ... 2019-04-19 15:20:20 1   4     2019\n",
       "2   -71.25019 1             1        ... 2019-04-19 15:20:20 1   4     2019\n",
       "3   -71.24901 1             1        ... 2019-04-19 15:20:20 1   4     2019\n",
       "4   -71.24840 1             1        ... 2019-04-19 15:20:20 1   4     2019\n",
       "5   -71.24777 1             1        ... 2019-04-19 15:20:20 1   4     2019\n",
       "6   -71.24716 1             1        ... 2019-04-19 15:20:20 1   4     2019\n",
       "7   -71.24654 1             1        ... 2019-04-19 15:20:20 1   4     2019\n",
       "8   -71.24592 1             1        ... 2019-04-19 15:20:20 1   4     2019\n",
       "9   -71.24534 1             1        ... 2019-04-19 15:20:20 1   4     2019\n",
       "10  -71.24470 1             1        ... 2019-04-19 15:20:20 1   4     2019\n",
       "11  -71.24409 1             1        ... 2019-04-19 15:20:20 1   4     2019\n",
       "12  -71.24337 1             1        ... 2019-04-19 15:20:20 1   4     2019\n",
       "13  -71.24249 1             1        ... 2019-04-19 15:20:20 1   4     2019\n",
       "14  -71.24181 1             1        ... 2019-04-19 15:20:20 1   4     2019\n",
       "15  -71.24122 1             1        ... 2019-04-19 15:20:20 1   4     2019\n",
       "16  -71.24063 1             1        ... 2019-04-19 15:20:20 1   4     2019\n",
       "17  -71.24000 1             1        ... 2019-04-19 15:20:20 1   4     2019\n",
       "18  -71.23939 1             1        ... 2019-04-19 15:20:20 1   4     2019\n",
       "19  -71.23816 1             1        ... 2019-04-19 15:20:20 1   4     2019\n",
       "20  -71.23749 1             1        ... 2019-04-19 15:20:20 1   4     2019\n",
       "21  -71.23688 1             1        ... 2019-04-19 15:20:20 1   4     2019\n",
       "22  -71.23627 1             1        ... 2019-04-19 15:20:20 1   4     2019\n",
       "23  -71.23567 1             1        ... 2019-04-19 15:20:20 1   4     2019\n",
       "24  -71.23506 1             1        ... 2019-04-19 15:20:20 1   4     2019\n",
       "25  -71.23447 1             1        ... 2019-04-19 15:20:20 1   4     2019\n",
       "26  -71.23383 1             1        ... 2019-04-19 15:20:20 1   4     2019\n",
       "27  -71.23316 1             1        ... 2019-04-19 15:20:20 1   4     2019\n",
       "28  -71.23263 1             1        ... 2019-04-19 15:20:20 1   4     2019\n",
       "29  -71.23211 1             1        ... 2019-04-19 15:20:20 1   4     2019\n",
       "30  -71.23164 1             1        ... 2019-04-19 15:20:20 1   4     2019\n",
       "... ...       ...           ...          ...                 ... ...   ... \n",
       "172 -71.11236 1             1        ... 2019-04-19 15:20:20 1   4     2019\n",
       "173 -71.11184 1             1        ... 2019-04-19 15:20:20 1   4     2019\n",
       "174 -71.11158 1             1        ... 2019-04-19 15:20:20 1   4     2019\n",
       "175 -71.11123 1             1        ... 2019-04-19 15:20:20 1   4     2019\n",
       "176 -71.11107 1             1        ... 2019-04-19 15:20:20 1   4     2019\n",
       "177 -71.11040 1             1        ... 2019-04-19 15:20:20 1   4     2019\n",
       "178 -71.10985 1             1        ... 2019-04-19 15:20:20 1   4     2019\n",
       "179 -71.10930 1             1        ... 2019-04-19 15:20:20 1   4     2019\n",
       "180 -71.10871 1             1        ... 2019-04-19 15:20:20 1   4     2019\n",
       "181 -71.10812 1             1        ... 2019-04-19 15:20:20 1   4     2019\n",
       "182 -71.10753 1             1        ... 2019-04-19 15:20:20 1   4     2019\n",
       "183 -71.10697 1             1        ... 2019-04-19 15:20:20 1   4     2019\n",
       "184 -71.10637 1             1        ... 2019-04-19 15:20:20 1   4     2019\n",
       "185 -71.10581 1             1        ... 2019-04-19 15:20:20 1   4     2019\n",
       "186 -71.10525 1             1        ... 2019-04-19 15:20:20 1   4     2019\n",
       "187 -71.10456 1             1        ... 2019-04-19 15:20:20 1   4     2019\n",
       "188 -71.10444 1             2        ... 2019-04-19 15:20:20 1   4     2019\n",
       "189 -71.10331 1             2        ... 2019-04-19 15:20:20 1   4     2019\n",
       "190 -71.10222 1             2        ... 2019-04-19 15:20:20 1   4     2019\n",
       "191 -71.10166 1             2        ... 2019-04-19 15:20:20 1   4     2019\n",
       "192 -71.10143 1             2        ... 2019-04-19 15:20:20 1   4     2019\n",
       "193 -71.09927 1             2        ... 2019-04-19 15:20:20 1   4     2019\n",
       "194 -71.09760 1             2        ... 2019-04-19 15:20:20 1   4     2019\n",
       "195 -71.09594 1             2        ... 2019-04-19 15:20:20 1   4     2019\n",
       "196 -71.09509 1             2        ... 2019-04-19 15:20:20 1   4     2019\n",
       "197 -71.09469 1             0        ... 2019-04-19 15:20:20 1   4     2019\n",
       "198 -71.09469 1             2        ... 2019-04-19 15:20:20 1   4     2019\n",
       "199 -71.09469 1             2        ... 2019-04-19 15:20:20 1   4     2019\n",
       "200 -71.09430 1             2        ... 2019-04-19 15:20:20 1   4     2019\n",
       "201 -71.09402 1             2        ... 2019-04-19 15:20:20 1   4     2019\n",
       "    time                interval_seconds dist_meters speed_mps  speed_kph \n",
       "1   2019-04-01 06:35:54 NA                      NA          NA          NA\n",
       "2   2019-04-01 06:36:00  6                62.70724   10.451207   37.624345\n",
       "3   2019-04-01 06:36:06  6               121.29373   20.215621   72.776237\n",
       "4   2019-04-01 06:36:12  6                61.86077   10.310128   37.116461\n",
       "5   2019-04-01 06:36:13  1                60.99345   60.993453  219.576431\n",
       "6   2019-04-01 06:36:18  5                61.18063   12.236127   44.050056\n",
       "7   2019-04-01 06:36:24  6                62.58200   10.430333   37.549198\n",
       "8   2019-04-01 06:36:25  1                61.64781   61.647806  221.932101\n",
       "9   2019-04-01 06:36:36 11                57.18007    5.198188   18.713476\n",
       "10  2019-04-01 06:36:37  1                65.17261   65.172613  234.621405\n",
       "11  2019-04-01 06:36:43  6                58.28943    9.714904   34.973656\n",
       "12  2019-04-01 06:36:54 11                72.00499    6.545909   23.565271\n",
       "13  2019-04-01 06:37:30 36                88.38201    2.455056    8.838201\n",
       "14  2019-04-01 06:37:36  6                65.51966   10.919944   39.311797\n",
       "15  2019-04-01 06:37:42  6                59.40225    9.900375   35.641350\n",
       "16  2019-04-01 06:37:43  1                59.14938   59.149379  212.937765\n",
       "17  2019-04-01 06:37:48  5                64.30355   12.860709   46.298554\n",
       "18  2019-04-01 06:37:54  6                58.03233    9.672056   34.819400\n",
       "19  2019-04-01 06:38:00  6               122.94932   20.491553   73.769591\n",
       "20  2019-04-01 06:38:01  1                65.51781   65.517807  235.864104\n",
       "21  2019-04-01 06:38:06  5                61.84554   12.369109   44.528792\n",
       "22  2019-04-01 06:38:07  1                60.58588   60.585881  218.109172\n",
       "23  2019-04-01 06:38:12  5                59.71249   11.942497   42.992990\n",
       "24  2019-04-01 06:38:18  6                59.94894    9.991491   35.969367\n",
       "25  2019-04-01 06:38:19  1                60.96955   60.969555  219.490398\n",
       "26  2019-04-01 06:38:24  5                65.69653   13.139306   47.301503\n",
       "27  2019-04-01 06:38:30  6                73.17872   12.196453   43.907231\n",
       "28  2019-04-01 06:38:36  6                60.25799   10.042999   36.154797\n",
       "29  2019-04-01 06:38:37  1                60.09519   60.095191  216.342687\n",
       "30  2019-04-01 06:38:43  6                53.72758    8.954596   32.236546\n",
       "... ...                 ...              ...         ...        ...       \n",
       "172 2019-04-01 06:59:21  6                64.02372   10.6706194 38.414230 \n",
       "173 2019-04-01 06:59:27  6               121.20659   20.2010989 72.723956 \n",
       "174 2019-04-01 06:59:33  6                66.86290   11.1438163 40.117739 \n",
       "175 2019-04-01 06:59:39  6               125.49112   20.9151866 75.294672 \n",
       "176 2019-04-01 06:59:45  6                61.85815   10.3096914 37.114889 \n",
       "177 2019-04-01 06:59:54  9               136.44538   15.1605980 54.578153 \n",
       "178 2019-04-01 07:00:06 12                78.01786    6.5014884 23.405358 \n",
       "179 2019-04-01 07:00:45 39                70.47413    1.8070289  6.505304 \n",
       "180 2019-04-01 07:00:54  9                64.56773    7.1741922 25.827092 \n",
       "181 2019-04-01 07:00:57  3                63.41042   21.1368050 76.092498 \n",
       "182 2019-04-01 07:01:03  6                64.91902   10.8198360 38.951410 \n",
       "183 2019-04-01 07:01:09  6                60.13087   10.0218121 36.078523 \n",
       "184 2019-04-01 07:01:15  6                64.48583   10.7476376 38.691495 \n",
       "185 2019-04-01 07:01:24  9                61.18240    6.7980442 24.472959 \n",
       "186 2019-04-01 07:01:33  9                59.90425    6.6560281 23.961701 \n",
       "187 2019-04-01 07:01:45 12                71.24638    5.9371984 21.373914 \n",
       "188 2019-04-01 07:02:20 35                13.05304    0.3729439  1.342598 \n",
       "189 2019-04-01 07:02:50 30               116.79073    3.8930244 14.014888 \n",
       "190 2019-04-01 07:03:11 21               111.75342    5.3215916 19.157730 \n",
       "191 2019-04-01 07:03:23 12                76.90675    6.4088961 23.072026 \n",
       "192 2019-04-01 07:03:27  4                68.77812   17.1945299 61.900308 \n",
       "193 2019-04-01 07:03:48 21               189.20901    9.0099528 32.435830 \n",
       "194 2019-04-01 07:04:06 18               144.64829    8.0360163 28.929659 \n",
       "195 2019-04-01 07:04:46 40               138.04923    3.4512307 12.424430 \n",
       "196 2019-04-01 07:04:53  7                70.35280   10.0503995 36.181438 \n",
       "197 2019-04-01 07:05:00  7                32.97912    4.7113033 16.960692 \n",
       "198 2019-04-01 07:05:28 28                 0.00000    0.0000000  0.000000 \n",
       "199 2019-04-01 07:05:29  1                 0.00000    0.0000000  0.000000 \n",
       "200 2019-04-01 07:05:38  9                33.17844    3.6864928 13.271374 \n",
       "201 2019-04-01 07:05:49 11                23.64519    2.1495625  7.738425 \n",
       "    accel_mps2 \n",
       "1            NA\n",
       "2            NA\n",
       "3     1.6274024\n",
       "4    -1.6509156\n",
       "5    50.6833250\n",
       "6    -9.7514653\n",
       "7    -0.3009656\n",
       "8    51.2174730\n",
       "9    -5.1317835\n",
       "10   59.9744248\n",
       "11   -9.2429514\n",
       "12   -0.2880905\n",
       "13   -0.1136348\n",
       "14    1.4108147\n",
       "15   -0.1699281\n",
       "16   49.2490042\n",
       "17   -9.2577339\n",
       "18   -0.5314423\n",
       "19    1.8032496\n",
       "20   45.0262536\n",
       "21  -10.6297396\n",
       "22   48.2167722\n",
       "23   -9.7286768\n",
       "24   -0.3251677\n",
       "25   50.9780641\n",
       "26   -9.5660497\n",
       "27   -0.1571422\n",
       "28   -0.3589090\n",
       "29   50.0521917\n",
       "30   -8.5234324\n",
       "... ...        \n",
       "172 -1.73374079\n",
       "173  1.58841325\n",
       "174 -1.50954710\n",
       "175  1.62856172\n",
       "176 -1.76758253\n",
       "177  0.53898962\n",
       "178 -0.72159247\n",
       "179 -0.12037075\n",
       "180  0.59635148\n",
       "181  4.65420427\n",
       "182 -1.71949483\n",
       "183 -0.13300399\n",
       "184  0.12097092\n",
       "185 -0.43884372\n",
       "186 -0.01577956\n",
       "187 -0.05990247\n",
       "188 -0.15897870\n",
       "189  0.11733602\n",
       "190  0.06802701\n",
       "191  0.09060871\n",
       "192  2.69640845\n",
       "193 -0.38974177\n",
       "194 -0.05410758\n",
       "195 -0.11461964\n",
       "196  0.94273841\n",
       "197 -0.76272803\n",
       "198 -0.16826083\n",
       "199  0.00000000\n",
       "200  0.40961031\n",
       "201 -0.13972094"
      ]
     },
     "metadata": {},
     "output_type": "display_data"
    }
   ],
   "source": [
    "clean_trajectory"
   ]
  },
  {
   "cell_type": "code",
   "execution_count": 42,
   "metadata": {},
   "outputs": [],
   "source": [
    "heavy_subset = function(day,index){\n",
    "   # Subset the table by all unique indexes\n",
    "    day_trainid_subset = df_heavyrail[day == day, .SD, \n",
    "                                      keyby = .(trainid, vehicleid,lineid,tripid,heavyrailbranchid) ]\n",
    "    unique_train_vehicle_route_car_tuple = unique(\n",
    "    day_trainid_subset[, .(trainid,vehicleid,lineid,tripid,heavyrailbranchid) ]\n",
    "    )\n",
    "    #print(dim(unique_train_vehicle_route_car_tuple)[1])\n",
    "    print(unique_train_vehicle_route_car_tuple)\n",
    "    index = index\n",
    "    trajectory = day_trainid_subset[\n",
    "    trainid == unique_train_vehicle_route_car_tuple[index, 1][[1]] & \n",
    "    vehicleid == unique_train_vehicle_route_car_tuple[index, 2][[1]] &\n",
    "    lineid == unique_train_vehicle_route_car_tuple[index, 3] &    \n",
    "    tripid == unique_train_vehicle_route_car_tuple[index, 4] & \n",
    "    heavyrailbranchid == unique_train_vehicle_route_car_tuple[index, 5][[1]],][order(trxtime)]\n",
    "    clean_trajectory = trajectory[, .SD[1], by = trxtime] \n",
    "    return(clean_trajectory)\n",
    "}"
   ]
  },
  {
   "cell_type": "markdown",
   "metadata": {
    "jupyter": {
     "source_hidden": true
    }
   },
   "source": [
    "# Basic summary"
   ]
  },
  {
   "cell_type": "code",
   "execution_count": 41,
   "metadata": {
    "jupyter": {
     "source_hidden": true
    }
   },
   "outputs": [],
   "source": [
    "heavyrail_summary_table = function(df){\n",
    "    # Calculate the number of different trainids, routes,vehicles for each line\n",
    "    d_summary = df[,.(num_trainid = length(unique(df$trainid,na.rm =TRUE)),\n",
    "                      num_routeid = length(unique(df$tripid,na.rm =TRUE)),\n",
    "                      num_vehicleid = length(unique(df$vehicleid,na.rm =TRUE)),\n",
    "                      num_branch = length(unique(df$heavyrailbranchid,na.rm =TRUE)),\n",
    "                      num_trip = length(unique(df$tripid,na.rm =TRUE)))\n",
    "                      #by = lineid\n",
    "                   ] \n",
    "    return(d_summary)\n",
    "}"
   ]
  },
  {
   "cell_type": "code",
   "execution_count": 42,
   "metadata": {
    "collapsed": true,
    "jupyter": {
     "outputs_hidden": true,
     "source_hidden": true
    }
   },
   "outputs": [
    {
     "data": {
      "text/html": [
       "<table class=\"dataframe\">\n",
       "<caption>A data.table: 1 × 5</caption>\n",
       "<thead>\n",
       "\t<tr><th scope=col>num_trainid</th><th scope=col>num_routeid</th><th scope=col>num_vehicleid</th><th scope=col>num_branch</th><th scope=col>num_trip</th></tr>\n",
       "\t<tr><th scope=col>&lt;int&gt;</th><th scope=col>&lt;int&gt;</th><th scope=col>&lt;int&gt;</th><th scope=col>&lt;int&gt;</th><th scope=col>&lt;int&gt;</th></tr>\n",
       "</thead>\n",
       "<tbody>\n",
       "\t<tr><td>1559</td><td>33966</td><td>2119</td><td>3</td><td>33966</td></tr>\n",
       "</tbody>\n",
       "</table>\n"
      ],
      "text/latex": [
       "A data.table: 1 × 5\n",
       "\\begin{tabular}{lllll}\n",
       " num\\_trainid & num\\_routeid & num\\_vehicleid & num\\_branch & num\\_trip\\\\\n",
       " <int> & <int> & <int> & <int> & <int>\\\\\n",
       "\\hline\n",
       "\t 1559 & 33966 & 2119 & 3 & 33966\\\\\n",
       "\\end{tabular}\n"
      ],
      "text/markdown": [
       "\n",
       "A data.table: 1 × 5\n",
       "\n",
       "| num_trainid &lt;int&gt; | num_routeid &lt;int&gt; | num_vehicleid &lt;int&gt; | num_branch &lt;int&gt; | num_trip &lt;int&gt; |\n",
       "|---|---|---|---|---|\n",
       "| 1559 | 33966 | 2119 | 3 | 33966 |\n",
       "\n"
      ],
      "text/plain": [
       "  num_trainid num_routeid num_vehicleid num_branch num_trip\n",
       "1 1559        33966       2119          3          33966   "
      ]
     },
     "metadata": {},
     "output_type": "display_data"
    }
   ],
   "source": [
    "heavyrail_summary_table(df_heavyrail)"
   ]
  },
  {
   "cell_type": "markdown",
   "metadata": {},
   "source": [
    "# Function used for trajectory investigation"
   ]
  },
  {
   "cell_type": "code",
   "execution_count": 70,
   "metadata": {},
   "outputs": [],
   "source": [
    "# Plot the map\n",
    "light_location = function(df_lightrail_test){\n",
    "    # get the map\n",
    "    ma <- get_stamenmap(bbox = c(left = min(df_lightrail_test$lon), bottom = min(df_lightrail_test$lat), \n",
    "                                  right = max(df_lightrail_test$lon), top = max(df_lightrail_test$lat)), \n",
    "                         zoom = 14)\n",
    "   # plotting the map with some points on it\n",
    "   options(repr.plot.width = 20, repr.plot.height = 10)\n",
    "   ggmap(ma) +\n",
    "   geom_point(data = df_lightrail_test, aes(x = lon, y = lat, color = time, alpha = 0.7), size = 4, shape = 16) +\n",
    "    geom_text(data = df_lightrail_test, aes(label=ifelse(speed_kph > 80,round(speed_kph,0),'')),hjust=0,vjust=0) +\n",
    "#    scale_colour_gradient(\n",
    "#    low = \"#132B43\",\n",
    "#    high = \"#56B1F7\",\n",
    "#    space = \"Lab\",\n",
    "#    na.value = \"grey50\",\n",
    "#    guide = \"colourbar\",\n",
    "#    aesthetics = \"colour\") + \n",
    "   guides(fill=FALSE, alpha=FALSE, size=FALSE)\n",
    "}"
   ]
  },
  {
   "cell_type": "code",
   "execution_count": 20,
   "metadata": {},
   "outputs": [],
   "source": [
    "compute_time_interval <- function(d) {\n",
    "    d$interval_seconds = NA\n",
    "    n <- nrow(d)\n",
    "    if (n >= 2) {\n",
    "        # Compute time interval\n",
    "        d$interval_seconds[2:n] = as.numeric(difftime(d$trxtime[2:n], d$trxtime[1:n-1], units = \"secs\"))\n",
    "        }\n",
    "    return(d)\n",
    "}"
   ]
  },
  {
   "cell_type": "code",
   "execution_count": 18,
   "metadata": {},
   "outputs": [],
   "source": [
    "compute_distance <- function(d) {\n",
    "    d$dist_meters = NA\n",
    "     n <- nrow(d)\n",
    "    if (n >= 2) {\n",
    "        # Compute interval distance using Haversine function\n",
    "        d$dist_meters[2:n] = distHaversine(cbind(d$lon[1:n-1],d$lat[1:n-1]),cbind(d$lon[2:n],d$lat[2:n]))\n",
    "        }\n",
    "    return(d)\n",
    "}"
   ]
  },
  {
   "cell_type": "code",
   "execution_count": 17,
   "metadata": {},
   "outputs": [],
   "source": [
    "compute_speed_acceleration <- function(d) {\n",
    "    d$speed_mps = NA\n",
    "    d$speed_kph = NA\n",
    "    d$accel_mps2 = NA\n",
    "    n <- nrow(d)\n",
    "    if (n >= 2) {\n",
    "        d$speed_mps[2:n] = d$dist_meters[2:n] / d$interval_seconds[2:n]\n",
    "        # Convert speed to kph\n",
    "        d$speed_kph[2:n] = d$speed_mps[2:n] * 3.6\n",
    "        d$accel_mps2[2:n] = (d$speed_mps[2:n] - d$speed_mps[1:n-1])/d$interval_seconds[2:n]\n",
    "        }\n",
    "    return(d)\n",
    "}  "
   ]
  },
  {
   "cell_type": "code",
   "execution_count": 144,
   "metadata": {
    "collapsed": true,
    "jupyter": {
     "outputs_hidden": true
    }
   },
   "outputs": [
    {
     "data": {
      "text/html": [
       "<table class=\"dataframe\">\n",
       "<caption>A data.table: 6 × 27</caption>\n",
       "<thead>\n",
       "\t<tr><th scope=col>trxtime</th><th scope=col>trainid</th><th scope=col>vehicleid</th><th scope=col>routeid</th><th scope=col>counter</th><th scope=col>lineid</th><th scope=col>lat</th><th scope=col>lon</th><th scope=col>servicetypeid</th><th scope=col>sourceid</th><th scope=col>...</th><th scope=col>inserted</th><th scope=col>day</th><th scope=col>month</th><th scope=col>year</th><th scope=col>time</th><th scope=col>interval_seconds</th><th scope=col>dist_meters</th><th scope=col>speed_mps</th><th scope=col>speed_kph</th><th scope=col>accel_mps2</th></tr>\n",
       "\t<tr><th scope=col>&lt;chr&gt;</th><th scope=col>&lt;int&gt;</th><th scope=col>&lt;chr&gt;</th><th scope=col>&lt;int&gt;</th><th scope=col>&lt;int&gt;</th><th scope=col>&lt;int&gt;</th><th scope=col>&lt;dbl&gt;</th><th scope=col>&lt;dbl&gt;</th><th scope=col>&lt;int&gt;</th><th scope=col>&lt;int&gt;</th><th scope=col>...</th><th scope=col>&lt;chr&gt;</th><th scope=col>&lt;int&gt;</th><th scope=col>&lt;dbl&gt;</th><th scope=col>&lt;dbl&gt;</th><th scope=col>&lt;dttm&gt;</th><th scope=col>&lt;dbl&gt;</th><th scope=col>&lt;dbl&gt;</th><th scope=col>&lt;dbl&gt;</th><th scope=col>&lt;dbl&gt;</th><th scope=col>&lt;dbl&gt;</th></tr>\n",
       "</thead>\n",
       "<tbody>\n",
       "\t<tr><td>2019-04-01 06:35:54</td><td>10001</td><td>  3699</td><td>850</td><td>17645</td><td>4</td><td>42.33666</td><td>-71.25081</td><td>1</td><td>0</td><td>...</td><td>2019-04-19 15:20:20</td><td>1</td><td>4</td><td>2019</td><td>2019-04-01 06:35:54</td><td>NA</td><td>       NA</td><td>      NA</td><td>       NA</td><td>       NA</td></tr>\n",
       "\t<tr><td>2019-04-01 06:36:00</td><td>10001</td><td>  3699</td><td>850</td><td>17656</td><td>4</td><td>42.33633</td><td>-71.25019</td><td>1</td><td>1</td><td>...</td><td>2019-04-19 15:20:20</td><td>1</td><td>4</td><td>2019</td><td>2019-04-01 06:36:00</td><td> 6</td><td> 62.70724</td><td>10.45121</td><td> 37.62434</td><td>       NA</td></tr>\n",
       "\t<tr><td>2019-04-01 06:36:06</td><td>10001</td><td>  3699</td><td>850</td><td>17675</td><td>4</td><td>42.33567</td><td>-71.24901</td><td>1</td><td>1</td><td>...</td><td>2019-04-19 15:20:20</td><td>1</td><td>4</td><td>2019</td><td>2019-04-01 06:36:06</td><td> 6</td><td>121.29373</td><td>20.21562</td><td> 72.77624</td><td> 1.627402</td></tr>\n",
       "\t<tr><td>2019-04-01 06:36:12</td><td>10001</td><td>  3699</td><td>850</td><td>17793</td><td>4</td><td>42.33535</td><td>-71.24840</td><td>1</td><td>1</td><td>...</td><td>2019-04-19 15:20:20</td><td>1</td><td>4</td><td>2019</td><td>2019-04-01 06:36:12</td><td> 6</td><td> 61.86077</td><td>10.31013</td><td> 37.11646</td><td>-1.650916</td></tr>\n",
       "\t<tr><td>2019-04-01 06:36:13</td><td>10001</td><td>  3699</td><td>850</td><td>17798</td><td>4</td><td>42.33506</td><td>-71.24777</td><td>1</td><td>1</td><td>...</td><td>2019-04-19 15:20:20</td><td>1</td><td>4</td><td>2019</td><td>2019-04-01 06:36:13</td><td> 1</td><td> 60.99345</td><td>60.99345</td><td>219.57643</td><td>50.683325</td></tr>\n",
       "\t<tr><td>2019-04-01 06:36:18</td><td>10001</td><td>  3699</td><td>850</td><td>17818</td><td>4</td><td>42.33475</td><td>-71.24716</td><td>1</td><td>1</td><td>...</td><td>2019-04-19 15:20:20</td><td>1</td><td>4</td><td>2019</td><td>2019-04-01 06:36:18</td><td> 5</td><td> 61.18063</td><td>12.23613</td><td> 44.05006</td><td>-9.751465</td></tr>\n",
       "</tbody>\n",
       "</table>\n"
      ],
      "text/latex": [
       "A data.table: 6 × 27\n",
       "\\begin{tabular}{lllllllllllllllllllll}\n",
       " trxtime & trainid & vehicleid & routeid & counter & lineid & lat & lon & servicetypeid & sourceid & ... & inserted & day & month & year & time & interval\\_seconds & dist\\_meters & speed\\_mps & speed\\_kph & accel\\_mps2\\\\\n",
       " <chr> & <int> & <chr> & <int> & <int> & <int> & <dbl> & <dbl> & <int> & <int> & ... & <chr> & <int> & <dbl> & <dbl> & <dttm> & <dbl> & <dbl> & <dbl> & <dbl> & <dbl>\\\\\n",
       "\\hline\n",
       "\t 2019-04-01 06:35:54 & 10001 &   3699 & 850 & 17645 & 4 & 42.33666 & -71.25081 & 1 & 0 & ... & 2019-04-19 15:20:20 & 1 & 4 & 2019 & 2019-04-01 06:35:54 & NA &        NA &       NA &        NA &        NA\\\\\n",
       "\t 2019-04-01 06:36:00 & 10001 &   3699 & 850 & 17656 & 4 & 42.33633 & -71.25019 & 1 & 1 & ... & 2019-04-19 15:20:20 & 1 & 4 & 2019 & 2019-04-01 06:36:00 &  6 &  62.70724 & 10.45121 &  37.62434 &        NA\\\\\n",
       "\t 2019-04-01 06:36:06 & 10001 &   3699 & 850 & 17675 & 4 & 42.33567 & -71.24901 & 1 & 1 & ... & 2019-04-19 15:20:20 & 1 & 4 & 2019 & 2019-04-01 06:36:06 &  6 & 121.29373 & 20.21562 &  72.77624 &  1.627402\\\\\n",
       "\t 2019-04-01 06:36:12 & 10001 &   3699 & 850 & 17793 & 4 & 42.33535 & -71.24840 & 1 & 1 & ... & 2019-04-19 15:20:20 & 1 & 4 & 2019 & 2019-04-01 06:36:12 &  6 &  61.86077 & 10.31013 &  37.11646 & -1.650916\\\\\n",
       "\t 2019-04-01 06:36:13 & 10001 &   3699 & 850 & 17798 & 4 & 42.33506 & -71.24777 & 1 & 1 & ... & 2019-04-19 15:20:20 & 1 & 4 & 2019 & 2019-04-01 06:36:13 &  1 &  60.99345 & 60.99345 & 219.57643 & 50.683325\\\\\n",
       "\t 2019-04-01 06:36:18 & 10001 &   3699 & 850 & 17818 & 4 & 42.33475 & -71.24716 & 1 & 1 & ... & 2019-04-19 15:20:20 & 1 & 4 & 2019 & 2019-04-01 06:36:18 &  5 &  61.18063 & 12.23613 &  44.05006 & -9.751465\\\\\n",
       "\\end{tabular}\n"
      ],
      "text/markdown": [
       "\n",
       "A data.table: 6 × 27\n",
       "\n",
       "| trxtime &lt;chr&gt; | trainid &lt;int&gt; | vehicleid &lt;chr&gt; | routeid &lt;int&gt; | counter &lt;int&gt; | lineid &lt;int&gt; | lat &lt;dbl&gt; | lon &lt;dbl&gt; | servicetypeid &lt;int&gt; | sourceid &lt;int&gt; | ... ... | inserted &lt;chr&gt; | day &lt;int&gt; | month &lt;dbl&gt; | year &lt;dbl&gt; | time &lt;dttm&gt; | interval_seconds &lt;dbl&gt; | dist_meters &lt;dbl&gt; | speed_mps &lt;dbl&gt; | speed_kph &lt;dbl&gt; | accel_mps2 &lt;dbl&gt; |\n",
       "|---|---|---|---|---|---|---|---|---|---|---|---|---|---|---|---|---|---|---|---|---|\n",
       "| 2019-04-01 06:35:54 | 10001 |   3699 | 850 | 17645 | 4 | 42.33666 | -71.25081 | 1 | 0 | ... | 2019-04-19 15:20:20 | 1 | 4 | 2019 | 2019-04-01 06:35:54 | NA |        NA |       NA |        NA |        NA |\n",
       "| 2019-04-01 06:36:00 | 10001 |   3699 | 850 | 17656 | 4 | 42.33633 | -71.25019 | 1 | 1 | ... | 2019-04-19 15:20:20 | 1 | 4 | 2019 | 2019-04-01 06:36:00 |  6 |  62.70724 | 10.45121 |  37.62434 |        NA |\n",
       "| 2019-04-01 06:36:06 | 10001 |   3699 | 850 | 17675 | 4 | 42.33567 | -71.24901 | 1 | 1 | ... | 2019-04-19 15:20:20 | 1 | 4 | 2019 | 2019-04-01 06:36:06 |  6 | 121.29373 | 20.21562 |  72.77624 |  1.627402 |\n",
       "| 2019-04-01 06:36:12 | 10001 |   3699 | 850 | 17793 | 4 | 42.33535 | -71.24840 | 1 | 1 | ... | 2019-04-19 15:20:20 | 1 | 4 | 2019 | 2019-04-01 06:36:12 |  6 |  61.86077 | 10.31013 |  37.11646 | -1.650916 |\n",
       "| 2019-04-01 06:36:13 | 10001 |   3699 | 850 | 17798 | 4 | 42.33506 | -71.24777 | 1 | 1 | ... | 2019-04-19 15:20:20 | 1 | 4 | 2019 | 2019-04-01 06:36:13 |  1 |  60.99345 | 60.99345 | 219.57643 | 50.683325 |\n",
       "| 2019-04-01 06:36:18 | 10001 |   3699 | 850 | 17818 | 4 | 42.33475 | -71.24716 | 1 | 1 | ... | 2019-04-19 15:20:20 | 1 | 4 | 2019 | 2019-04-01 06:36:18 |  5 |  61.18063 | 12.23613 |  44.05006 | -9.751465 |\n",
       "\n"
      ],
      "text/plain": [
       "  trxtime             trainid vehicleid routeid counter lineid lat     \n",
       "1 2019-04-01 06:35:54 10001     3699    850     17645   4      42.33666\n",
       "2 2019-04-01 06:36:00 10001     3699    850     17656   4      42.33633\n",
       "3 2019-04-01 06:36:06 10001     3699    850     17675   4      42.33567\n",
       "4 2019-04-01 06:36:12 10001     3699    850     17793   4      42.33535\n",
       "5 2019-04-01 06:36:13 10001     3699    850     17798   4      42.33506\n",
       "6 2019-04-01 06:36:18 10001     3699    850     17818   4      42.33475\n",
       "  lon       servicetypeid sourceid ... inserted            day month year\n",
       "1 -71.25081 1             0        ... 2019-04-19 15:20:20 1   4     2019\n",
       "2 -71.25019 1             1        ... 2019-04-19 15:20:20 1   4     2019\n",
       "3 -71.24901 1             1        ... 2019-04-19 15:20:20 1   4     2019\n",
       "4 -71.24840 1             1        ... 2019-04-19 15:20:20 1   4     2019\n",
       "5 -71.24777 1             1        ... 2019-04-19 15:20:20 1   4     2019\n",
       "6 -71.24716 1             1        ... 2019-04-19 15:20:20 1   4     2019\n",
       "  time                interval_seconds dist_meters speed_mps speed_kph\n",
       "1 2019-04-01 06:35:54 NA                      NA         NA         NA\n",
       "2 2019-04-01 06:36:00  6                62.70724   10.45121   37.62434\n",
       "3 2019-04-01 06:36:06  6               121.29373   20.21562   72.77624\n",
       "4 2019-04-01 06:36:12  6                61.86077   10.31013   37.11646\n",
       "5 2019-04-01 06:36:13  1                60.99345   60.99345  219.57643\n",
       "6 2019-04-01 06:36:18  5                61.18063   12.23613   44.05006\n",
       "  accel_mps2\n",
       "1        NA \n",
       "2        NA \n",
       "3  1.627402 \n",
       "4 -1.650916 \n",
       "5 50.683325 \n",
       "6 -9.751465 "
      ]
     },
     "metadata": {},
     "output_type": "display_data"
    }
   ],
   "source": [
    "head(clean_trajectory)"
   ]
  },
  {
   "cell_type": "code",
   "execution_count": 148,
   "metadata": {},
   "outputs": [],
   "source": [
    "distance_filter = function(df){\n",
    "   df = data.table(df)\n",
    "   df = df[interval_seconds > 1]\n",
    "   df = run(df)\n",
    "    # Smooth the distance\n",
    "   filter = robreg.filter(df$dist_meters, width=10,online=TRUE,method= \"MED\")\n",
    "   plot(filter)\n",
    "   df$dist_meters =  filter$level$MED\n",
    "   df = compute_speed_acceleration(df)\n",
    "  return(df) \n",
    "}"
   ]
  },
  {
   "cell_type": "code",
   "execution_count": 149,
   "metadata": {
    "collapsed": true,
    "jupyter": {
     "outputs_hidden": true
    }
   },
   "outputs": [
    {
     "name": "stdout",
     "output_type": "stream",
     "text": [
      "1 out of 179 time series values in df$dist_meters are missing. \n"
     ]
    },
    {
     "data": {
      "image/png": "[encoded data removed]",
      "text/plain": [
       "Plot with title \"Robust Online Regression Filter\""
      ]
     },
     "metadata": {
      "image/png": {
       "height": 420,
       "width": 420
      }
     },
     "output_type": "display_data"
    }
   ],
   "source": [
    "d_filter = distance_filter(clean_trajectory)"
   ]
  },
  {
   "cell_type": "code",
   "execution_count": 151,
   "metadata": {},
   "outputs": [
    {
     "data": {
      "text/html": [
       "120.539364061934"
      ],
      "text/latex": [
       "120.539364061934"
      ],
      "text/markdown": [
       "120.539364061934"
      ],
      "text/plain": [
       "[1] 120.5394"
      ]
     },
     "metadata": {},
     "output_type": "display_data"
    }
   ],
   "source": [
    "max(d_filter$dist_meters)"
   ]
  },
  {
   "cell_type": "code",
   "execution_count": 147,
   "metadata": {},
   "outputs": [
    {
     "data": {
      "text/html": [
       "<style>\n",
       ".list-inline {list-style: none; margin:0; padding: 0}\n",
       ".list-inline>li {display: inline-block}\n",
       ".list-inline>li:not(:last-child)::after {content: \"\\00b7\"; padding: 0 .5ex}\n",
       "</style>\n",
       "<ol class=list-inline><li>179</li><li>29</li></ol>\n"
      ],
      "text/latex": [
       "\\begin{enumerate*}\n",
       "\\item 179\n",
       "\\item 29\n",
       "\\end{enumerate*}\n"
      ],
      "text/markdown": [
       "1. 179\n",
       "2. 29\n",
       "\n",
       "\n"
      ],
      "text/plain": [
       "[1] 179  29"
      ]
     },
     "metadata": {},
     "output_type": "display_data"
    },
    {
     "data": {
      "text/html": [
       "<style>\n",
       ".list-inline {list-style: none; margin:0; padding: 0}\n",
       ".list-inline>li {display: inline-block}\n",
       ".list-inline>li:not(:last-child)::after {content: \"\\00b7\"; padding: 0 .5ex}\n",
       "</style>\n",
       "<ol class=list-inline><li>201</li><li>29</li></ol>\n"
      ],
      "text/latex": [
       "\\begin{enumerate*}\n",
       "\\item 201\n",
       "\\item 29\n",
       "\\end{enumerate*}\n"
      ],
      "text/markdown": [
       "1. 201\n",
       "2. 29\n",
       "\n",
       "\n"
      ],
      "text/plain": [
       "[1] 201  29"
      ]
     },
     "metadata": {},
     "output_type": "display_data"
    }
   ],
   "source": [
    "dim(d_filter)\n",
    "dim(clean_trajectory)"
   ]
  },
  {
   "cell_type": "code",
   "execution_count": 153,
   "metadata": {
    "collapsed": true,
    "jupyter": {
     "outputs_hidden": true
    }
   },
   "outputs": [
    {
     "data": {
      "image/png": "[encoded data removed]",
      "text/plain": [
       "Plot with title \"Histogram of d_filter$speed_kph\""
      ]
     },
     "metadata": {
      "image/png": {
       "height": 420,
       "width": 420
      }
     },
     "output_type": "display_data"
    }
   ],
   "source": [
    "hist(d_filter$speed_kph)"
   ]
  },
  {
   "cell_type": "code",
   "execution_count": 154,
   "metadata": {
    "collapsed": true,
    "jupyter": {
     "outputs_hidden": true
    }
   },
   "outputs": [
    {
     "data": {
      "image/png": "[encoded data removed]",
      "text/plain": [
       "Plot with title \"Histogram of d_filter$accel_mps2\""
      ]
     },
     "metadata": {
      "image/png": {
       "height": 420,
       "width": 420
      }
     },
     "output_type": "display_data"
    }
   ],
   "source": [
    "hist(d_filter$accel_mps2)"
   ]
  },
  {
   "cell_type": "code",
   "execution_count": 152,
   "metadata": {
    "collapsed": true,
    "jupyter": {
     "outputs_hidden": true
    }
   },
   "outputs": [
    {
     "name": "stderr",
     "output_type": "stream",
     "text": [
      "Warning message:\n",
      "\"Removed 5 rows containing missing values (geom_point).\"\n"
     ]
    },
    {
     "data": {
      "image/png": "[encoded data removed]",
      "text/plain": [
       "plot without title"
      ]
     },
     "metadata": {
      "image/png": {
       "height": 420,
       "width": 420
      }
     },
     "output_type": "display_data"
    }
   ],
   "source": [
    "train_plot(d_filter)"
   ]
  },
  {
   "cell_type": "code",
   "execution_count": 156,
   "metadata": {
    "collapsed": true,
    "jupyter": {
     "outputs_hidden": true
    }
   },
   "outputs": [
    {
     "name": "stderr",
     "output_type": "stream",
     "text": [
      "Warning message:\n",
      "\"Removed 4 rows containing missing values (geom_point).\"\n",
      "Warning message:\n",
      "\"Removed 5 rows containing missing values (geom_point).\"\n"
     ]
    },
    {
     "data": {
      "image/png": "[encoded data removed]",
      "text/plain": [
       "plot without title"
      ]
     },
     "metadata": {
      "image/png": {
       "height": 420,
       "width": 420
      }
     },
     "output_type": "display_data"
    },
    {
     "data": {
      "image/png": "[encoded data removed]",
      "text/plain": [
       "plot without title"
      ]
     },
     "metadata": {
      "image/png": {
       "height": 420,
       "width": 420
      }
     },
     "output_type": "display_data"
    }
   ],
   "source": [
    "train_plot(d_filter)\n",
    "train_plot(clean_trajectory)"
   ]
  },
  {
   "cell_type": "code",
   "execution_count": 103,
   "metadata": {},
   "outputs": [],
   "source": [
    "compute_cumulative_time_distance = function(d){\n",
    "    df = d\n",
    "    # no rm.na argument in cumsum function,so we make distance and time with NA as 0\n",
    "    df[is.na(df)] <- 0\n",
    "    # Calculate the cumulative dist and time\n",
    "    df = df %>%\n",
    "    mutate(cumdist = cumsum(dist_meters)) %>%\n",
    "    mutate(cumtime = cumsum(interval_seconds))\n",
    "    d$cumdist_km = df$cumdist/1000\n",
    "    d$cumtime_hrs = df$cumtime/3600\n",
    "    return(d)\n",
    "}"
   ]
  },
  {
   "cell_type": "code",
   "execution_count": 145,
   "metadata": {},
   "outputs": [],
   "source": [
    "clean_trajectory = compute_cumulative_time_distance(clean_trajectory)\n",
    "d_filter = compute_cumulative_time_distance(d_filter)"
   ]
  },
  {
   "cell_type": "code",
   "execution_count": 107,
   "metadata": {
    "collapsed": true,
    "jupyter": {
     "outputs_hidden": true
    }
   },
   "outputs": [
    {
     "data": {
      "text/html": [
       "<table class=\"dataframe\">\n",
       "<caption>A data.frame: 201 × 31</caption>\n",
       "<thead>\n",
       "\t<tr><th scope=col>trxtime</th><th scope=col>trainid</th><th scope=col>vehicleid</th><th scope=col>routeid</th><th scope=col>counter</th><th scope=col>lineid</th><th scope=col>lat</th><th scope=col>lon</th><th scope=col>servicetypeid</th><th scope=col>sourceid</th><th scope=col>...</th><th scope=col>time</th><th scope=col>interval_seconds</th><th scope=col>dist_meters</th><th scope=col>speed_mps</th><th scope=col>speed_kph</th><th scope=col>accel_mps2</th><th scope=col>cumdist</th><th scope=col>cumtime</th><th scope=col>cumdist_km</th><th scope=col>cumtime_hrs</th></tr>\n",
       "\t<tr><th scope=col>&lt;chr&gt;</th><th scope=col>&lt;int&gt;</th><th scope=col>&lt;chr&gt;</th><th scope=col>&lt;int&gt;</th><th scope=col>&lt;int&gt;</th><th scope=col>&lt;int&gt;</th><th scope=col>&lt;dbl&gt;</th><th scope=col>&lt;dbl&gt;</th><th scope=col>&lt;int&gt;</th><th scope=col>&lt;int&gt;</th><th scope=col>...</th><th scope=col>&lt;dttm&gt;</th><th scope=col>&lt;dbl&gt;</th><th scope=col>&lt;dbl&gt;</th><th scope=col>&lt;dbl&gt;</th><th scope=col>&lt;dbl&gt;</th><th scope=col>&lt;dbl&gt;</th><th scope=col>&lt;dbl&gt;</th><th scope=col>&lt;dbl&gt;</th><th scope=col>&lt;dbl&gt;</th><th scope=col>&lt;dbl&gt;</th></tr>\n",
       "</thead>\n",
       "<tbody>\n",
       "\t<tr><td>2019-04-01 06:35:54</td><td>10001</td><td>  3699</td><td>850</td><td>17645</td><td>4</td><td>42.33666</td><td>-71.25081</td><td>1</td><td>0</td><td>...</td><td>2019-04-01 06:35:54</td><td>NA</td><td>       NA</td><td>       NA</td><td>        NA</td><td>         NA</td><td>   0.00000</td><td>  0</td><td>0.00000000</td><td>0.000000000</td></tr>\n",
       "\t<tr><td>2019-04-01 06:36:00</td><td>10001</td><td>  3699</td><td>850</td><td>17656</td><td>4</td><td>42.33633</td><td>-71.25019</td><td>1</td><td>1</td><td>...</td><td>2019-04-01 06:36:00</td><td> 6</td><td> 62.70724</td><td>10.451207</td><td> 37.624345</td><td>         NA</td><td>  62.70724</td><td>  6</td><td>0.06270724</td><td>0.001666667</td></tr>\n",
       "\t<tr><td>2019-04-01 06:36:06</td><td>10001</td><td>  3699</td><td>850</td><td>17675</td><td>4</td><td>42.33567</td><td>-71.24901</td><td>1</td><td>1</td><td>...</td><td>2019-04-01 06:36:06</td><td> 6</td><td>121.29373</td><td>20.215621</td><td> 72.776237</td><td>  1.6274024</td><td> 184.00097</td><td> 12</td><td>0.18400097</td><td>0.003333333</td></tr>\n",
       "\t<tr><td>2019-04-01 06:36:12</td><td>10001</td><td>  3699</td><td>850</td><td>17793</td><td>4</td><td>42.33535</td><td>-71.24840</td><td>1</td><td>1</td><td>...</td><td>2019-04-01 06:36:12</td><td> 6</td><td> 61.86077</td><td>10.310128</td><td> 37.116461</td><td> -1.6509156</td><td> 245.86174</td><td> 18</td><td>0.24586174</td><td>0.005000000</td></tr>\n",
       "\t<tr><td>2019-04-01 06:36:13</td><td>10001</td><td>  3699</td><td>850</td><td>17798</td><td>4</td><td>42.33506</td><td>-71.24777</td><td>1</td><td>1</td><td>...</td><td>2019-04-01 06:36:13</td><td> 1</td><td> 60.99345</td><td>60.993453</td><td>219.576431</td><td> 50.6833250</td><td> 306.85519</td><td> 19</td><td>0.30685519</td><td>0.005277778</td></tr>\n",
       "\t<tr><td>2019-04-01 06:36:18</td><td>10001</td><td>  3699</td><td>850</td><td>17818</td><td>4</td><td>42.33475</td><td>-71.24716</td><td>1</td><td>1</td><td>...</td><td>2019-04-01 06:36:18</td><td> 5</td><td> 61.18063</td><td>12.236127</td><td> 44.050056</td><td> -9.7514653</td><td> 368.03582</td><td> 24</td><td>0.36803582</td><td>0.006666667</td></tr>\n",
       "\t<tr><td>2019-04-01 06:36:24</td><td>10001</td><td>  3699</td><td>850</td><td>17842</td><td>4</td><td>42.33443</td><td>-71.24654</td><td>1</td><td>1</td><td>...</td><td>2019-04-01 06:36:24</td><td> 6</td><td> 62.58200</td><td>10.430333</td><td> 37.549198</td><td> -0.3009656</td><td> 430.61782</td><td> 30</td><td>0.43061782</td><td>0.008333333</td></tr>\n",
       "\t<tr><td>2019-04-01 06:36:25</td><td>10001</td><td>  3699</td><td>850</td><td>17846</td><td>4</td><td>42.33411</td><td>-71.24592</td><td>1</td><td>1</td><td>...</td><td>2019-04-01 06:36:25</td><td> 1</td><td> 61.64781</td><td>61.647806</td><td>221.932101</td><td> 51.2174730</td><td> 492.26563</td><td> 31</td><td>0.49226563</td><td>0.008611111</td></tr>\n",
       "\t<tr><td>2019-04-01 06:36:36</td><td>10001</td><td>  3699</td><td>850</td><td>17948</td><td>4</td><td>42.33382</td><td>-71.24534</td><td>1</td><td>1</td><td>...</td><td>2019-04-01 06:36:36</td><td>11</td><td> 57.18007</td><td> 5.198188</td><td> 18.713476</td><td> -5.1317835</td><td> 549.44569</td><td> 42</td><td>0.54944569</td><td>0.011666667</td></tr>\n",
       "\t<tr><td>2019-04-01 06:36:37</td><td>10001</td><td>  3699</td><td>850</td><td>17950</td><td>4</td><td>42.33348</td><td>-71.24470</td><td>1</td><td>1</td><td>...</td><td>2019-04-01 06:36:37</td><td> 1</td><td> 65.17261</td><td>65.172613</td><td>234.621405</td><td> 59.9744248</td><td> 614.61830</td><td> 43</td><td>0.61461830</td><td>0.011944444</td></tr>\n",
       "\t<tr><td>2019-04-01 06:36:43</td><td>10001</td><td>  3699</td><td>850</td><td>17970</td><td>4</td><td>42.33322</td><td>-71.24409</td><td>1</td><td>1</td><td>...</td><td>2019-04-01 06:36:43</td><td> 6</td><td> 58.28943</td><td> 9.714904</td><td> 34.973656</td><td> -9.2429514</td><td> 672.90773</td><td> 49</td><td>0.67290773</td><td>0.013611111</td></tr>\n",
       "\t<tr><td>2019-04-01 06:36:54</td><td>10001</td><td>  3699</td><td>850</td><td>18023</td><td>4</td><td>42.33285</td><td>-71.24337</td><td>1</td><td>1</td><td>...</td><td>2019-04-01 06:36:54</td><td>11</td><td> 72.00499</td><td> 6.545909</td><td> 23.565271</td><td> -0.2880905</td><td> 744.91272</td><td> 60</td><td>0.74491272</td><td>0.016666667</td></tr>\n",
       "\t<tr><td>2019-04-01 06:37:30</td><td>10001</td><td>  3699</td><td>850</td><td>18112</td><td>4</td><td>42.33239</td><td>-71.24249</td><td>1</td><td>1</td><td>...</td><td>2019-04-01 06:37:30</td><td>36</td><td> 88.38201</td><td> 2.455056</td><td>  8.838201</td><td> -0.1136348</td><td> 833.29473</td><td> 96</td><td>0.83329473</td><td>0.026666667</td></tr>\n",
       "\t<tr><td>2019-04-01 06:37:36</td><td>10001</td><td>  3699</td><td>850</td><td>18129</td><td>4</td><td>42.33208</td><td>-71.24181</td><td>1</td><td>1</td><td>...</td><td>2019-04-01 06:37:36</td><td> 6</td><td> 65.51966</td><td>10.919944</td><td> 39.311797</td><td>  1.4108147</td><td> 898.81439</td><td>102</td><td>0.89881439</td><td>0.028333333</td></tr>\n",
       "\t<tr><td>2019-04-01 06:37:42</td><td>10001</td><td>  3699</td><td>850</td><td>18147</td><td>4</td><td>42.33178</td><td>-71.24122</td><td>1</td><td>1</td><td>...</td><td>2019-04-01 06:37:42</td><td> 6</td><td> 59.40225</td><td> 9.900375</td><td> 35.641350</td><td> -0.1699281</td><td> 958.21664</td><td>108</td><td>0.95821664</td><td>0.030000000</td></tr>\n",
       "\t<tr><td>2019-04-01 06:37:43</td><td>10001</td><td>  3699</td><td>850</td><td>18148</td><td>4</td><td>42.33147</td><td>-71.24063</td><td>1</td><td>1</td><td>...</td><td>2019-04-01 06:37:43</td><td> 1</td><td> 59.14938</td><td>59.149379</td><td>212.937765</td><td> 49.2490042</td><td>1017.36602</td><td>109</td><td>1.01736602</td><td>0.030277778</td></tr>\n",
       "\t<tr><td>2019-04-01 06:37:48</td><td>10001</td><td>  3699</td><td>850</td><td>18160</td><td>4</td><td>42.33114</td><td>-71.24000</td><td>1</td><td>1</td><td>...</td><td>2019-04-01 06:37:48</td><td> 5</td><td> 64.30355</td><td>12.860709</td><td> 46.298554</td><td> -9.2577339</td><td>1081.66957</td><td>114</td><td>1.08166957</td><td>0.031666667</td></tr>\n",
       "\t<tr><td>2019-04-01 06:37:54</td><td>10001</td><td>  3699</td><td>850</td><td>18176</td><td>4</td><td>42.33087</td><td>-71.23939</td><td>1</td><td>1</td><td>...</td><td>2019-04-01 06:37:54</td><td> 6</td><td> 58.03233</td><td> 9.672056</td><td> 34.819400</td><td> -0.5314423</td><td>1139.70190</td><td>120</td><td>1.13970190</td><td>0.033333333</td></tr>\n",
       "\t<tr><td>2019-04-01 06:38:00</td><td>10001</td><td>  3699</td><td>850</td><td>18197</td><td>4</td><td>42.33024</td><td>-71.23816</td><td>1</td><td>1</td><td>...</td><td>2019-04-01 06:38:00</td><td> 6</td><td>122.94932</td><td>20.491553</td><td> 73.769591</td><td>  1.8032496</td><td>1262.65122</td><td>126</td><td>1.26265122</td><td>0.035000000</td></tr>\n",
       "\t<tr><td>2019-04-01 06:38:01</td><td>10001</td><td>  3699</td><td>850</td><td>18198</td><td>4</td><td>42.32992</td><td>-71.23749</td><td>1</td><td>1</td><td>...</td><td>2019-04-01 06:38:01</td><td> 1</td><td> 65.51781</td><td>65.517807</td><td>235.864104</td><td> 45.0262536</td><td>1328.16903</td><td>127</td><td>1.32816903</td><td>0.035277778</td></tr>\n",
       "\t<tr><td>2019-04-01 06:38:06</td><td>10001</td><td>  3699</td><td>850</td><td>18217</td><td>4</td><td>42.32961</td><td>-71.23688</td><td>1</td><td>1</td><td>...</td><td>2019-04-01 06:38:06</td><td> 5</td><td> 61.84554</td><td>12.369109</td><td> 44.528792</td><td>-10.6297396</td><td>1390.01457</td><td>132</td><td>1.39001457</td><td>0.036666667</td></tr>\n",
       "\t<tr><td>2019-04-01 06:38:07</td><td>10001</td><td>  3699</td><td>850</td><td>18222</td><td>4</td><td>42.32930</td><td>-71.23627</td><td>1</td><td>1</td><td>...</td><td>2019-04-01 06:38:07</td><td> 1</td><td> 60.58588</td><td>60.585881</td><td>218.109172</td><td> 48.2167722</td><td>1450.60045</td><td>133</td><td>1.45060045</td><td>0.036944444</td></tr>\n",
       "\t<tr><td>2019-04-01 06:38:12</td><td>10001</td><td>  3699</td><td>850</td><td>18241</td><td>4</td><td>42.32899</td><td>-71.23567</td><td>1</td><td>1</td><td>...</td><td>2019-04-01 06:38:12</td><td> 5</td><td> 59.71249</td><td>11.942497</td><td> 42.992990</td><td> -9.7286768</td><td>1510.31294</td><td>138</td><td>1.51031294</td><td>0.038333333</td></tr>\n",
       "\t<tr><td>2019-04-01 06:38:18</td><td>10001</td><td>  3699</td><td>850</td><td>18265</td><td>4</td><td>42.32870</td><td>-71.23506</td><td>1</td><td>1</td><td>...</td><td>2019-04-01 06:38:18</td><td> 6</td><td> 59.94894</td><td> 9.991491</td><td> 35.969367</td><td> -0.3251677</td><td>1570.26189</td><td>144</td><td>1.57026189</td><td>0.040000000</td></tr>\n",
       "\t<tr><td>2019-04-01 06:38:19</td><td>10001</td><td>  3699</td><td>850</td><td>18266</td><td>4</td><td>42.32837</td><td>-71.23447</td><td>1</td><td>1</td><td>...</td><td>2019-04-01 06:38:19</td><td> 1</td><td> 60.96955</td><td>60.969555</td><td>219.490398</td><td> 50.9780641</td><td>1631.23144</td><td>145</td><td>1.63123144</td><td>0.040277778</td></tr>\n",
       "\t<tr><td>2019-04-01 06:38:24</td><td>10001</td><td>  3699</td><td>850</td><td>18290</td><td>4</td><td>42.32802</td><td>-71.23383</td><td>1</td><td>1</td><td>...</td><td>2019-04-01 06:38:24</td><td> 5</td><td> 65.69653</td><td>13.139306</td><td> 47.301503</td><td> -9.5660497</td><td>1696.92797</td><td>150</td><td>1.69692797</td><td>0.041666667</td></tr>\n",
       "\t<tr><td>2019-04-01 06:38:30</td><td>10001</td><td>  3699</td><td>850</td><td>18311</td><td>4</td><td>42.32759</td><td>-71.23316</td><td>1</td><td>1</td><td>...</td><td>2019-04-01 06:38:30</td><td> 6</td><td> 73.17872</td><td>12.196453</td><td> 43.907231</td><td> -0.1571422</td><td>1770.10669</td><td>156</td><td>1.77010669</td><td>0.043333333</td></tr>\n",
       "\t<tr><td>2019-04-01 06:38:36</td><td>10001</td><td>  3699</td><td>850</td><td>18327</td><td>4</td><td>42.32721</td><td>-71.23263</td><td>1</td><td>1</td><td>...</td><td>2019-04-01 06:38:36</td><td> 6</td><td> 60.25799</td><td>10.042999</td><td> 36.154797</td><td> -0.3589090</td><td>1830.36469</td><td>162</td><td>1.83036469</td><td>0.045000000</td></tr>\n",
       "\t<tr><td>2019-04-01 06:38:37</td><td>10001</td><td>  3699</td><td>850</td><td>18330</td><td>4</td><td>42.32683</td><td>-71.23211</td><td>1</td><td>1</td><td>...</td><td>2019-04-01 06:38:37</td><td> 1</td><td> 60.09519</td><td>60.095191</td><td>216.342687</td><td> 50.0521917</td><td>1890.45988</td><td>163</td><td>1.89045988</td><td>0.045277778</td></tr>\n",
       "\t<tr><td>2019-04-01 06:38:43</td><td>10001</td><td>  3699</td><td>850</td><td>18354</td><td>4</td><td>42.32650</td><td>-71.23164</td><td>1</td><td>1</td><td>...</td><td>2019-04-01 06:38:43</td><td> 6</td><td> 53.72758</td><td> 8.954596</td><td> 32.236546</td><td> -8.5234324</td><td>1944.18745</td><td>169</td><td>1.94418745</td><td>0.046944444</td></tr>\n",
       "\t<tr><td>...</td><td>...</td><td>...</td><td>...</td><td>...</td><td>...</td><td>...</td><td>...</td><td>...</td><td>...</td><td></td><td>...</td><td>...</td><td>...</td><td>...</td><td>...</td><td>...</td><td>...</td><td>...</td><td>...</td><td>...</td></tr>\n",
       "\t<tr><td>2019-04-01 06:59:21</td><td>10001</td><td>  3699</td><td>850</td><td>22900</td><td>4</td><td>42.33682</td><td>-71.11236</td><td>1</td><td>1</td><td>...</td><td>2019-04-01 06:59:21</td><td> 6</td><td> 64.02372</td><td>10.6706194</td><td>38.414230</td><td>-1.73374079</td><td>13352.64</td><td>1407</td><td>13.35264</td><td>0.3908333</td></tr>\n",
       "\t<tr><td>2019-04-01 06:59:27</td><td>10001</td><td>  3699</td><td>850</td><td>22923</td><td>4</td><td>42.33783</td><td>-71.11184</td><td>1</td><td>1</td><td>...</td><td>2019-04-01 06:59:27</td><td> 6</td><td>121.20659</td><td>20.2010989</td><td>72.723956</td><td> 1.58841325</td><td>13473.85</td><td>1413</td><td>13.47385</td><td>0.3925000</td></tr>\n",
       "\t<tr><td>2019-04-01 06:59:33</td><td>10001</td><td>  3699</td><td>850</td><td>22939</td><td>4</td><td>42.33840</td><td>-71.11158</td><td>1</td><td>1</td><td>...</td><td>2019-04-01 06:59:33</td><td> 6</td><td> 66.86290</td><td>11.1438163</td><td>40.117739</td><td>-1.50954710</td><td>13540.71</td><td>1419</td><td>13.54071</td><td>0.3941667</td></tr>\n",
       "\t<tr><td>2019-04-01 06:59:39</td><td>10001</td><td>  3699</td><td>850</td><td>22964</td><td>4</td><td>42.33950</td><td>-71.11123</td><td>1</td><td>1</td><td>...</td><td>2019-04-01 06:59:39</td><td> 6</td><td>125.49112</td><td>20.9151866</td><td>75.294672</td><td> 1.62856172</td><td>13666.20</td><td>1425</td><td>13.66620</td><td>0.3958333</td></tr>\n",
       "\t<tr><td>2019-04-01 06:59:45</td><td>10001</td><td>  3699</td><td>850</td><td>22985</td><td>4</td><td>42.34005</td><td>-71.11107</td><td>1</td><td>1</td><td>...</td><td>2019-04-01 06:59:45</td><td> 6</td><td> 61.85815</td><td>10.3096914</td><td>37.114889</td><td>-1.76758253</td><td>13728.06</td><td>1431</td><td>13.72806</td><td>0.3975000</td></tr>\n",
       "\t<tr><td>2019-04-01 06:59:54</td><td>10001</td><td>  3699</td><td>850</td><td>23023</td><td>4</td><td>42.34117</td><td>-71.11040</td><td>1</td><td>1</td><td>...</td><td>2019-04-01 06:59:54</td><td> 9</td><td>136.44538</td><td>15.1605980</td><td>54.578153</td><td> 0.53898962</td><td>13864.51</td><td>1440</td><td>13.86451</td><td>0.4000000</td></tr>\n",
       "\t<tr><td>2019-04-01 07:00:06</td><td>10001</td><td>  3699</td><td>850</td><td>23066</td><td>4</td><td>42.34174</td><td>-71.10985</td><td>1</td><td>1</td><td>...</td><td>2019-04-01 07:00:06</td><td>12</td><td> 78.01786</td><td> 6.5014884</td><td>23.405358</td><td>-0.72159247</td><td>13942.52</td><td>1452</td><td>13.94252</td><td>0.4033333</td></tr>\n",
       "\t<tr><td>2019-04-01 07:00:45</td><td>10001</td><td>  3699</td><td>850</td><td>23252</td><td>4</td><td>42.34222</td><td>-71.10930</td><td>1</td><td>1</td><td>...</td><td>2019-04-01 07:00:45</td><td>39</td><td> 70.47413</td><td> 1.8070289</td><td> 6.505304</td><td>-0.12037075</td><td>14013.00</td><td>1491</td><td>14.01300</td><td>0.4141667</td></tr>\n",
       "\t<tr><td>2019-04-01 07:00:54</td><td>10001</td><td>  3699</td><td>850</td><td>23288</td><td>4</td><td>42.34260</td><td>-71.10871</td><td>1</td><td>1</td><td>...</td><td>2019-04-01 07:00:54</td><td> 9</td><td> 64.56773</td><td> 7.1741922</td><td>25.827092</td><td> 0.59635148</td><td>14077.57</td><td>1500</td><td>14.07757</td><td>0.4166667</td></tr>\n",
       "\t<tr><td>2019-04-01 07:00:57</td><td>10001</td><td>  3699</td><td>850</td><td>23300</td><td>4</td><td>42.34297</td><td>-71.10812</td><td>1</td><td>1</td><td>...</td><td>2019-04-01 07:00:57</td><td> 3</td><td> 63.41042</td><td>21.1368050</td><td>76.092498</td><td> 4.65420427</td><td>14140.98</td><td>1503</td><td>14.14098</td><td>0.4175000</td></tr>\n",
       "\t<tr><td>2019-04-01 07:01:03</td><td>10001</td><td>  3699</td><td>850</td><td>23324</td><td>4</td><td>42.34336</td><td>-71.10753</td><td>1</td><td>1</td><td>...</td><td>2019-04-01 07:01:03</td><td> 6</td><td> 64.91902</td><td>10.8198360</td><td>38.951410</td><td>-1.71949483</td><td>14205.89</td><td>1509</td><td>14.20589</td><td>0.4191667</td></tr>\n",
       "\t<tr><td>2019-04-01 07:01:09</td><td>10001</td><td>  3699</td><td>850</td><td>23345</td><td>4</td><td>42.34371</td><td>-71.10697</td><td>1</td><td>1</td><td>...</td><td>2019-04-01 07:01:09</td><td> 6</td><td> 60.13087</td><td>10.0218121</td><td>36.078523</td><td>-0.13300399</td><td>14266.03</td><td>1515</td><td>14.26603</td><td>0.4208333</td></tr>\n",
       "\t<tr><td>2019-04-01 07:01:15</td><td>10001</td><td>  3699</td><td>850</td><td>23370</td><td>4</td><td>42.34408</td><td>-71.10637</td><td>1</td><td>1</td><td>...</td><td>2019-04-01 07:01:15</td><td> 6</td><td> 64.48583</td><td>10.7476376</td><td>38.691495</td><td> 0.12097092</td><td>14330.51</td><td>1521</td><td>14.33051</td><td>0.4225000</td></tr>\n",
       "\t<tr><td>2019-04-01 07:01:24</td><td>10001</td><td>  3699</td><td>850</td><td>23403</td><td>4</td><td>42.34444</td><td>-71.10581</td><td>1</td><td>1</td><td>...</td><td>2019-04-01 07:01:24</td><td> 9</td><td> 61.18240</td><td> 6.7980442</td><td>24.472959</td><td>-0.43884372</td><td>14391.69</td><td>1530</td><td>14.39169</td><td>0.4250000</td></tr>\n",
       "\t<tr><td>2019-04-01 07:01:33</td><td>10001</td><td>  3699</td><td>850</td><td>23439</td><td>4</td><td>42.34478</td><td>-71.10525</td><td>1</td><td>1</td><td>...</td><td>2019-04-01 07:01:33</td><td> 9</td><td> 59.90425</td><td> 6.6560281</td><td>23.961701</td><td>-0.01577956</td><td>14451.60</td><td>1539</td><td>14.45160</td><td>0.4275000</td></tr>\n",
       "\t<tr><td>2019-04-01 07:01:45</td><td>10001</td><td>  3699</td><td>850</td><td>23493</td><td>4</td><td>42.34517</td><td>-71.10456</td><td>1</td><td>1</td><td>...</td><td>2019-04-01 07:01:45</td><td>12</td><td> 71.24638</td><td> 5.9371984</td><td>21.373914</td><td>-0.05990247</td><td>14522.84</td><td>1551</td><td>14.52284</td><td>0.4308333</td></tr>\n",
       "\t<tr><td>2019-04-01 07:02:20</td><td>10001</td><td>  3699</td><td>850</td><td>23627</td><td>4</td><td>42.34524</td><td>-71.10444</td><td>1</td><td>2</td><td>...</td><td>2019-04-01 07:02:20</td><td>35</td><td> 13.05304</td><td> 0.3729439</td><td> 1.342598</td><td>-0.15897870</td><td>14535.90</td><td>1586</td><td>14.53590</td><td>0.4405556</td></tr>\n",
       "\t<tr><td>2019-04-01 07:02:50</td><td>10001</td><td>  3699</td><td>850</td><td>23769</td><td>4</td><td>42.34588</td><td>-71.10331</td><td>1</td><td>2</td><td>...</td><td>2019-04-01 07:02:50</td><td>30</td><td>116.79073</td><td> 3.8930244</td><td>14.014888</td><td> 0.11733602</td><td>14652.69</td><td>1616</td><td>14.65269</td><td>0.4488889</td></tr>\n",
       "\t<tr><td>2019-04-01 07:03:11</td><td>10001</td><td>  3699</td><td>850</td><td>23889</td><td>4</td><td>42.34648</td><td>-71.10222</td><td>1</td><td>2</td><td>...</td><td>2019-04-01 07:03:11</td><td>21</td><td>111.75342</td><td> 5.3215916</td><td>19.157730</td><td> 0.06802701</td><td>14764.44</td><td>1637</td><td>14.76444</td><td>0.4547222</td></tr>\n",
       "\t<tr><td>2019-04-01 07:03:23</td><td>10001</td><td>  3699</td><td>850</td><td>23941</td><td>4</td><td>42.34703</td><td>-71.10166</td><td>1</td><td>2</td><td>...</td><td>2019-04-01 07:03:23</td><td>12</td><td> 76.90675</td><td> 6.4088961</td><td>23.072026</td><td> 0.09060871</td><td>14841.35</td><td>1649</td><td>14.84135</td><td>0.4580556</td></tr>\n",
       "\t<tr><td>2019-04-01 07:03:27</td><td>10001</td><td>  3699</td><td>850</td><td>23958</td><td>4</td><td>42.34763</td><td>-71.10143</td><td>1</td><td>2</td><td>...</td><td>2019-04-01 07:03:27</td><td> 4</td><td> 68.77812</td><td>17.1945299</td><td>61.900308</td><td> 2.69640845</td><td>14910.13</td><td>1653</td><td>14.91013</td><td>0.4591667</td></tr>\n",
       "\t<tr><td>2019-04-01 07:03:48</td><td>10001</td><td>  3699</td><td>850</td><td>24022</td><td>4</td><td>42.34819</td><td>-71.09927</td><td>1</td><td>2</td><td>...</td><td>2019-04-01 07:03:48</td><td>21</td><td>189.20901</td><td> 9.0099528</td><td>32.435830</td><td>-0.38974177</td><td>15099.34</td><td>1674</td><td>15.09934</td><td>0.4650000</td></tr>\n",
       "\t<tr><td>2019-04-01 07:04:06</td><td>10001</td><td>  3699</td><td>850</td><td>24079</td><td>4</td><td>42.34862</td><td>-71.09760</td><td>1</td><td>2</td><td>...</td><td>2019-04-01 07:04:06</td><td>18</td><td>144.64829</td><td> 8.0360163</td><td>28.929659</td><td>-0.05410758</td><td>15243.98</td><td>1692</td><td>15.24398</td><td>0.4700000</td></tr>\n",
       "\t<tr><td>2019-04-01 07:04:46</td><td>10001</td><td>  3699</td><td>850</td><td>24286</td><td>4</td><td>42.34880</td><td>-71.09594</td><td>1</td><td>2</td><td>...</td><td>2019-04-01 07:04:46</td><td>40</td><td>138.04923</td><td> 3.4512307</td><td>12.424430</td><td>-0.11461964</td><td>15382.03</td><td>1732</td><td>15.38203</td><td>0.4811111</td></tr>\n",
       "\t<tr><td>2019-04-01 07:04:53</td><td>10001</td><td>  3699</td><td>850</td><td>24314</td><td>4</td><td>42.34881</td><td>-71.09509</td><td>1</td><td>2</td><td>...</td><td>2019-04-01 07:04:53</td><td> 7</td><td> 70.35280</td><td>10.0503995</td><td>36.181438</td><td> 0.94273841</td><td>15452.39</td><td>1739</td><td>15.45239</td><td>0.4830556</td></tr>\n",
       "\t<tr><td>2019-04-01 07:05:00</td><td>10001</td><td>  3699</td><td>850</td><td>24421</td><td>4</td><td>42.34885</td><td>-71.09469</td><td>1</td><td>0</td><td>...</td><td>2019-04-01 07:05:00</td><td> 7</td><td> 32.97912</td><td> 4.7113033</td><td>16.960692</td><td>-0.76272803</td><td>15485.36</td><td>1746</td><td>15.48536</td><td>0.4850000</td></tr>\n",
       "\t<tr><td>2019-04-01 07:05:28</td><td>10001</td><td>  3699</td><td>850</td><td>24414</td><td>4</td><td>42.34885</td><td>-71.09469</td><td>1</td><td>2</td><td>...</td><td>2019-04-01 07:05:28</td><td>28</td><td>  0.00000</td><td> 0.0000000</td><td> 0.000000</td><td>-0.16826083</td><td>15485.36</td><td>1774</td><td>15.48536</td><td>0.4927778</td></tr>\n",
       "\t<tr><td>2019-04-01 07:05:29</td><td>10001</td><td>  3699</td><td>850</td><td>24424</td><td>4</td><td>42.34885</td><td>-71.09469</td><td>1</td><td>2</td><td>...</td><td>2019-04-01 07:05:29</td><td> 1</td><td>  0.00000</td><td> 0.0000000</td><td> 0.000000</td><td> 0.00000000</td><td>15485.36</td><td>1775</td><td>15.48536</td><td>0.4930556</td></tr>\n",
       "\t<tr><td>2019-04-01 07:05:38</td><td>10001</td><td>  3699</td><td>850</td><td>24451</td><td>4</td><td>42.34892</td><td>-71.09430</td><td>1</td><td>2</td><td>...</td><td>2019-04-01 07:05:38</td><td> 9</td><td> 33.17844</td><td> 3.6864928</td><td>13.271374</td><td> 0.40961031</td><td>15518.54</td><td>1784</td><td>15.51854</td><td>0.4955556</td></tr>\n",
       "\t<tr><td>2019-04-01 07:05:49</td><td>10001</td><td>  3699</td><td>850</td><td>24502</td><td>4</td><td>42.34896</td><td>-71.09402</td><td>1</td><td>2</td><td>...</td><td>2019-04-01 07:05:49</td><td>11</td><td> 23.64519</td><td> 2.1495625</td><td> 7.738425</td><td>-0.13972094</td><td>15542.19</td><td>1795</td><td>15.54219</td><td>0.4986111</td></tr>\n",
       "</tbody>\n",
       "</table>\n"
      ],
      "text/latex": [
       "A data.frame: 201 × 31\n",
       "\\begin{tabular}{lllllllllllllllllllll}\n",
       " trxtime & trainid & vehicleid & routeid & counter & lineid & lat & lon & servicetypeid & sourceid & ... & time & interval\\_seconds & dist\\_meters & speed\\_mps & speed\\_kph & accel\\_mps2 & cumdist & cumtime & cumdist\\_km & cumtime\\_hrs\\\\\n",
       " <chr> & <int> & <chr> & <int> & <int> & <int> & <dbl> & <dbl> & <int> & <int> & ... & <dttm> & <dbl> & <dbl> & <dbl> & <dbl> & <dbl> & <dbl> & <dbl> & <dbl> & <dbl>\\\\\n",
       "\\hline\n",
       "\t 2019-04-01 06:35:54 & 10001 &   3699 & 850 & 17645 & 4 & 42.33666 & -71.25081 & 1 & 0 & ... & 2019-04-01 06:35:54 & NA &        NA &        NA &         NA &          NA &    0.00000 &   0 & 0.00000000 & 0.000000000\\\\\n",
       "\t 2019-04-01 06:36:00 & 10001 &   3699 & 850 & 17656 & 4 & 42.33633 & -71.25019 & 1 & 1 & ... & 2019-04-01 06:36:00 &  6 &  62.70724 & 10.451207 &  37.624345 &          NA &   62.70724 &   6 & 0.06270724 & 0.001666667\\\\\n",
       "\t 2019-04-01 06:36:06 & 10001 &   3699 & 850 & 17675 & 4 & 42.33567 & -71.24901 & 1 & 1 & ... & 2019-04-01 06:36:06 &  6 & 121.29373 & 20.215621 &  72.776237 &   1.6274024 &  184.00097 &  12 & 0.18400097 & 0.003333333\\\\\n",
       "\t 2019-04-01 06:36:12 & 10001 &   3699 & 850 & 17793 & 4 & 42.33535 & -71.24840 & 1 & 1 & ... & 2019-04-01 06:36:12 &  6 &  61.86077 & 10.310128 &  37.116461 &  -1.6509156 &  245.86174 &  18 & 0.24586174 & 0.005000000\\\\\n",
       "\t 2019-04-01 06:36:13 & 10001 &   3699 & 850 & 17798 & 4 & 42.33506 & -71.24777 & 1 & 1 & ... & 2019-04-01 06:36:13 &  1 &  60.99345 & 60.993453 & 219.576431 &  50.6833250 &  306.85519 &  19 & 0.30685519 & 0.005277778\\\\\n",
       "\t 2019-04-01 06:36:18 & 10001 &   3699 & 850 & 17818 & 4 & 42.33475 & -71.24716 & 1 & 1 & ... & 2019-04-01 06:36:18 &  5 &  61.18063 & 12.236127 &  44.050056 &  -9.7514653 &  368.03582 &  24 & 0.36803582 & 0.006666667\\\\\n",
       "\t 2019-04-01 06:36:24 & 10001 &   3699 & 850 & 17842 & 4 & 42.33443 & -71.24654 & 1 & 1 & ... & 2019-04-01 06:36:24 &  6 &  62.58200 & 10.430333 &  37.549198 &  -0.3009656 &  430.61782 &  30 & 0.43061782 & 0.008333333\\\\\n",
       "\t 2019-04-01 06:36:25 & 10001 &   3699 & 850 & 17846 & 4 & 42.33411 & -71.24592 & 1 & 1 & ... & 2019-04-01 06:36:25 &  1 &  61.64781 & 61.647806 & 221.932101 &  51.2174730 &  492.26563 &  31 & 0.49226563 & 0.008611111\\\\\n",
       "\t 2019-04-01 06:36:36 & 10001 &   3699 & 850 & 17948 & 4 & 42.33382 & -71.24534 & 1 & 1 & ... & 2019-04-01 06:36:36 & 11 &  57.18007 &  5.198188 &  18.713476 &  -5.1317835 &  549.44569 &  42 & 0.54944569 & 0.011666667\\\\\n",
       "\t 2019-04-01 06:36:37 & 10001 &   3699 & 850 & 17950 & 4 & 42.33348 & -71.24470 & 1 & 1 & ... & 2019-04-01 06:36:37 &  1 &  65.17261 & 65.172613 & 234.621405 &  59.9744248 &  614.61830 &  43 & 0.61461830 & 0.011944444\\\\\n",
       "\t 2019-04-01 06:36:43 & 10001 &   3699 & 850 & 17970 & 4 & 42.33322 & -71.24409 & 1 & 1 & ... & 2019-04-01 06:36:43 &  6 &  58.28943 &  9.714904 &  34.973656 &  -9.2429514 &  672.90773 &  49 & 0.67290773 & 0.013611111\\\\\n",
       "\t 2019-04-01 06:36:54 & 10001 &   3699 & 850 & 18023 & 4 & 42.33285 & -71.24337 & 1 & 1 & ... & 2019-04-01 06:36:54 & 11 &  72.00499 &  6.545909 &  23.565271 &  -0.2880905 &  744.91272 &  60 & 0.74491272 & 0.016666667\\\\\n",
       "\t 2019-04-01 06:37:30 & 10001 &   3699 & 850 & 18112 & 4 & 42.33239 & -71.24249 & 1 & 1 & ... & 2019-04-01 06:37:30 & 36 &  88.38201 &  2.455056 &   8.838201 &  -0.1136348 &  833.29473 &  96 & 0.83329473 & 0.026666667\\\\\n",
       "\t 2019-04-01 06:37:36 & 10001 &   3699 & 850 & 18129 & 4 & 42.33208 & -71.24181 & 1 & 1 & ... & 2019-04-01 06:37:36 &  6 &  65.51966 & 10.919944 &  39.311797 &   1.4108147 &  898.81439 & 102 & 0.89881439 & 0.028333333\\\\\n",
       "\t 2019-04-01 06:37:42 & 10001 &   3699 & 850 & 18147 & 4 & 42.33178 & -71.24122 & 1 & 1 & ... & 2019-04-01 06:37:42 &  6 &  59.40225 &  9.900375 &  35.641350 &  -0.1699281 &  958.21664 & 108 & 0.95821664 & 0.030000000\\\\\n",
       "\t 2019-04-01 06:37:43 & 10001 &   3699 & 850 & 18148 & 4 & 42.33147 & -71.24063 & 1 & 1 & ... & 2019-04-01 06:37:43 &  1 &  59.14938 & 59.149379 & 212.937765 &  49.2490042 & 1017.36602 & 109 & 1.01736602 & 0.030277778\\\\\n",
       "\t 2019-04-01 06:37:48 & 10001 &   3699 & 850 & 18160 & 4 & 42.33114 & -71.24000 & 1 & 1 & ... & 2019-04-01 06:37:48 &  5 &  64.30355 & 12.860709 &  46.298554 &  -9.2577339 & 1081.66957 & 114 & 1.08166957 & 0.031666667\\\\\n",
       "\t 2019-04-01 06:37:54 & 10001 &   3699 & 850 & 18176 & 4 & 42.33087 & -71.23939 & 1 & 1 & ... & 2019-04-01 06:37:54 &  6 &  58.03233 &  9.672056 &  34.819400 &  -0.5314423 & 1139.70190 & 120 & 1.13970190 & 0.033333333\\\\\n",
       "\t 2019-04-01 06:38:00 & 10001 &   3699 & 850 & 18197 & 4 & 42.33024 & -71.23816 & 1 & 1 & ... & 2019-04-01 06:38:00 &  6 & 122.94932 & 20.491553 &  73.769591 &   1.8032496 & 1262.65122 & 126 & 1.26265122 & 0.035000000\\\\\n",
       "\t 2019-04-01 06:38:01 & 10001 &   3699 & 850 & 18198 & 4 & 42.32992 & -71.23749 & 1 & 1 & ... & 2019-04-01 06:38:01 &  1 &  65.51781 & 65.517807 & 235.864104 &  45.0262536 & 1328.16903 & 127 & 1.32816903 & 0.035277778\\\\\n",
       "\t 2019-04-01 06:38:06 & 10001 &   3699 & 850 & 18217 & 4 & 42.32961 & -71.23688 & 1 & 1 & ... & 2019-04-01 06:38:06 &  5 &  61.84554 & 12.369109 &  44.528792 & -10.6297396 & 1390.01457 & 132 & 1.39001457 & 0.036666667\\\\\n",
       "\t 2019-04-01 06:38:07 & 10001 &   3699 & 850 & 18222 & 4 & 42.32930 & -71.23627 & 1 & 1 & ... & 2019-04-01 06:38:07 &  1 &  60.58588 & 60.585881 & 218.109172 &  48.2167722 & 1450.60045 & 133 & 1.45060045 & 0.036944444\\\\\n",
       "\t 2019-04-01 06:38:12 & 10001 &   3699 & 850 & 18241 & 4 & 42.32899 & -71.23567 & 1 & 1 & ... & 2019-04-01 06:38:12 &  5 &  59.71249 & 11.942497 &  42.992990 &  -9.7286768 & 1510.31294 & 138 & 1.51031294 & 0.038333333\\\\\n",
       "\t 2019-04-01 06:38:18 & 10001 &   3699 & 850 & 18265 & 4 & 42.32870 & -71.23506 & 1 & 1 & ... & 2019-04-01 06:38:18 &  6 &  59.94894 &  9.991491 &  35.969367 &  -0.3251677 & 1570.26189 & 144 & 1.57026189 & 0.040000000\\\\\n",
       "\t 2019-04-01 06:38:19 & 10001 &   3699 & 850 & 18266 & 4 & 42.32837 & -71.23447 & 1 & 1 & ... & 2019-04-01 06:38:19 &  1 &  60.96955 & 60.969555 & 219.490398 &  50.9780641 & 1631.23144 & 145 & 1.63123144 & 0.040277778\\\\\n",
       "\t 2019-04-01 06:38:24 & 10001 &   3699 & 850 & 18290 & 4 & 42.32802 & -71.23383 & 1 & 1 & ... & 2019-04-01 06:38:24 &  5 &  65.69653 & 13.139306 &  47.301503 &  -9.5660497 & 1696.92797 & 150 & 1.69692797 & 0.041666667\\\\\n",
       "\t 2019-04-01 06:38:30 & 10001 &   3699 & 850 & 18311 & 4 & 42.32759 & -71.23316 & 1 & 1 & ... & 2019-04-01 06:38:30 &  6 &  73.17872 & 12.196453 &  43.907231 &  -0.1571422 & 1770.10669 & 156 & 1.77010669 & 0.043333333\\\\\n",
       "\t 2019-04-01 06:38:36 & 10001 &   3699 & 850 & 18327 & 4 & 42.32721 & -71.23263 & 1 & 1 & ... & 2019-04-01 06:38:36 &  6 &  60.25799 & 10.042999 &  36.154797 &  -0.3589090 & 1830.36469 & 162 & 1.83036469 & 0.045000000\\\\\n",
       "\t 2019-04-01 06:38:37 & 10001 &   3699 & 850 & 18330 & 4 & 42.32683 & -71.23211 & 1 & 1 & ... & 2019-04-01 06:38:37 &  1 &  60.09519 & 60.095191 & 216.342687 &  50.0521917 & 1890.45988 & 163 & 1.89045988 & 0.045277778\\\\\n",
       "\t 2019-04-01 06:38:43 & 10001 &   3699 & 850 & 18354 & 4 & 42.32650 & -71.23164 & 1 & 1 & ... & 2019-04-01 06:38:43 &  6 &  53.72758 &  8.954596 &  32.236546 &  -8.5234324 & 1944.18745 & 169 & 1.94418745 & 0.046944444\\\\\n",
       "\t ... & ... & ... & ... & ... & ... & ... & ... & ... & ... &  & ... & ... & ... & ... & ... & ... & ... & ... & ... & ...\\\\\n",
       "\t 2019-04-01 06:59:21 & 10001 &   3699 & 850 & 22900 & 4 & 42.33682 & -71.11236 & 1 & 1 & ... & 2019-04-01 06:59:21 &  6 &  64.02372 & 10.6706194 & 38.414230 & -1.73374079 & 13352.64 & 1407 & 13.35264 & 0.3908333\\\\\n",
       "\t 2019-04-01 06:59:27 & 10001 &   3699 & 850 & 22923 & 4 & 42.33783 & -71.11184 & 1 & 1 & ... & 2019-04-01 06:59:27 &  6 & 121.20659 & 20.2010989 & 72.723956 &  1.58841325 & 13473.85 & 1413 & 13.47385 & 0.3925000\\\\\n",
       "\t 2019-04-01 06:59:33 & 10001 &   3699 & 850 & 22939 & 4 & 42.33840 & -71.11158 & 1 & 1 & ... & 2019-04-01 06:59:33 &  6 &  66.86290 & 11.1438163 & 40.117739 & -1.50954710 & 13540.71 & 1419 & 13.54071 & 0.3941667\\\\\n",
       "\t 2019-04-01 06:59:39 & 10001 &   3699 & 850 & 22964 & 4 & 42.33950 & -71.11123 & 1 & 1 & ... & 2019-04-01 06:59:39 &  6 & 125.49112 & 20.9151866 & 75.294672 &  1.62856172 & 13666.20 & 1425 & 13.66620 & 0.3958333\\\\\n",
       "\t 2019-04-01 06:59:45 & 10001 &   3699 & 850 & 22985 & 4 & 42.34005 & -71.11107 & 1 & 1 & ... & 2019-04-01 06:59:45 &  6 &  61.85815 & 10.3096914 & 37.114889 & -1.76758253 & 13728.06 & 1431 & 13.72806 & 0.3975000\\\\\n",
       "\t 2019-04-01 06:59:54 & 10001 &   3699 & 850 & 23023 & 4 & 42.34117 & -71.11040 & 1 & 1 & ... & 2019-04-01 06:59:54 &  9 & 136.44538 & 15.1605980 & 54.578153 &  0.53898962 & 13864.51 & 1440 & 13.86451 & 0.4000000\\\\\n",
       "\t 2019-04-01 07:00:06 & 10001 &   3699 & 850 & 23066 & 4 & 42.34174 & -71.10985 & 1 & 1 & ... & 2019-04-01 07:00:06 & 12 &  78.01786 &  6.5014884 & 23.405358 & -0.72159247 & 13942.52 & 1452 & 13.94252 & 0.4033333\\\\\n",
       "\t 2019-04-01 07:00:45 & 10001 &   3699 & 850 & 23252 & 4 & 42.34222 & -71.10930 & 1 & 1 & ... & 2019-04-01 07:00:45 & 39 &  70.47413 &  1.8070289 &  6.505304 & -0.12037075 & 14013.00 & 1491 & 14.01300 & 0.4141667\\\\\n",
       "\t 2019-04-01 07:00:54 & 10001 &   3699 & 850 & 23288 & 4 & 42.34260 & -71.10871 & 1 & 1 & ... & 2019-04-01 07:00:54 &  9 &  64.56773 &  7.1741922 & 25.827092 &  0.59635148 & 14077.57 & 1500 & 14.07757 & 0.4166667\\\\\n",
       "\t 2019-04-01 07:00:57 & 10001 &   3699 & 850 & 23300 & 4 & 42.34297 & -71.10812 & 1 & 1 & ... & 2019-04-01 07:00:57 &  3 &  63.41042 & 21.1368050 & 76.092498 &  4.65420427 & 14140.98 & 1503 & 14.14098 & 0.4175000\\\\\n",
       "\t 2019-04-01 07:01:03 & 10001 &   3699 & 850 & 23324 & 4 & 42.34336 & -71.10753 & 1 & 1 & ... & 2019-04-01 07:01:03 &  6 &  64.91902 & 10.8198360 & 38.951410 & -1.71949483 & 14205.89 & 1509 & 14.20589 & 0.4191667\\\\\n",
       "\t 2019-04-01 07:01:09 & 10001 &   3699 & 850 & 23345 & 4 & 42.34371 & -71.10697 & 1 & 1 & ... & 2019-04-01 07:01:09 &  6 &  60.13087 & 10.0218121 & 36.078523 & -0.13300399 & 14266.03 & 1515 & 14.26603 & 0.4208333\\\\\n",
       "\t 2019-04-01 07:01:15 & 10001 &   3699 & 850 & 23370 & 4 & 42.34408 & -71.10637 & 1 & 1 & ... & 2019-04-01 07:01:15 &  6 &  64.48583 & 10.7476376 & 38.691495 &  0.12097092 & 14330.51 & 1521 & 14.33051 & 0.4225000\\\\\n",
       "\t 2019-04-01 07:01:24 & 10001 &   3699 & 850 & 23403 & 4 & 42.34444 & -71.10581 & 1 & 1 & ... & 2019-04-01 07:01:24 &  9 &  61.18240 &  6.7980442 & 24.472959 & -0.43884372 & 14391.69 & 1530 & 14.39169 & 0.4250000\\\\\n",
       "\t 2019-04-01 07:01:33 & 10001 &   3699 & 850 & 23439 & 4 & 42.34478 & -71.10525 & 1 & 1 & ... & 2019-04-01 07:01:33 &  9 &  59.90425 &  6.6560281 & 23.961701 & -0.01577956 & 14451.60 & 1539 & 14.45160 & 0.4275000\\\\\n",
       "\t 2019-04-01 07:01:45 & 10001 &   3699 & 850 & 23493 & 4 & 42.34517 & -71.10456 & 1 & 1 & ... & 2019-04-01 07:01:45 & 12 &  71.24638 &  5.9371984 & 21.373914 & -0.05990247 & 14522.84 & 1551 & 14.52284 & 0.4308333\\\\\n",
       "\t 2019-04-01 07:02:20 & 10001 &   3699 & 850 & 23627 & 4 & 42.34524 & -71.10444 & 1 & 2 & ... & 2019-04-01 07:02:20 & 35 &  13.05304 &  0.3729439 &  1.342598 & -0.15897870 & 14535.90 & 1586 & 14.53590 & 0.4405556\\\\\n",
       "\t 2019-04-01 07:02:50 & 10001 &   3699 & 850 & 23769 & 4 & 42.34588 & -71.10331 & 1 & 2 & ... & 2019-04-01 07:02:50 & 30 & 116.79073 &  3.8930244 & 14.014888 &  0.11733602 & 14652.69 & 1616 & 14.65269 & 0.4488889\\\\\n",
       "\t 2019-04-01 07:03:11 & 10001 &   3699 & 850 & 23889 & 4 & 42.34648 & -71.10222 & 1 & 2 & ... & 2019-04-01 07:03:11 & 21 & 111.75342 &  5.3215916 & 19.157730 &  0.06802701 & 14764.44 & 1637 & 14.76444 & 0.4547222\\\\\n",
       "\t 2019-04-01 07:03:23 & 10001 &   3699 & 850 & 23941 & 4 & 42.34703 & -71.10166 & 1 & 2 & ... & 2019-04-01 07:03:23 & 12 &  76.90675 &  6.4088961 & 23.072026 &  0.09060871 & 14841.35 & 1649 & 14.84135 & 0.4580556\\\\\n",
       "\t 2019-04-01 07:03:27 & 10001 &   3699 & 850 & 23958 & 4 & 42.34763 & -71.10143 & 1 & 2 & ... & 2019-04-01 07:03:27 &  4 &  68.77812 & 17.1945299 & 61.900308 &  2.69640845 & 14910.13 & 1653 & 14.91013 & 0.4591667\\\\\n",
       "\t 2019-04-01 07:03:48 & 10001 &   3699 & 850 & 24022 & 4 & 42.34819 & -71.09927 & 1 & 2 & ... & 2019-04-01 07:03:48 & 21 & 189.20901 &  9.0099528 & 32.435830 & -0.38974177 & 15099.34 & 1674 & 15.09934 & 0.4650000\\\\\n",
       "\t 2019-04-01 07:04:06 & 10001 &   3699 & 850 & 24079 & 4 & 42.34862 & -71.09760 & 1 & 2 & ... & 2019-04-01 07:04:06 & 18 & 144.64829 &  8.0360163 & 28.929659 & -0.05410758 & 15243.98 & 1692 & 15.24398 & 0.4700000\\\\\n",
       "\t 2019-04-01 07:04:46 & 10001 &   3699 & 850 & 24286 & 4 & 42.34880 & -71.09594 & 1 & 2 & ... & 2019-04-01 07:04:46 & 40 & 138.04923 &  3.4512307 & 12.424430 & -0.11461964 & 15382.03 & 1732 & 15.38203 & 0.4811111\\\\\n",
       "\t 2019-04-01 07:04:53 & 10001 &   3699 & 850 & 24314 & 4 & 42.34881 & -71.09509 & 1 & 2 & ... & 2019-04-01 07:04:53 &  7 &  70.35280 & 10.0503995 & 36.181438 &  0.94273841 & 15452.39 & 1739 & 15.45239 & 0.4830556\\\\\n",
       "\t 2019-04-01 07:05:00 & 10001 &   3699 & 850 & 24421 & 4 & 42.34885 & -71.09469 & 1 & 0 & ... & 2019-04-01 07:05:00 &  7 &  32.97912 &  4.7113033 & 16.960692 & -0.76272803 & 15485.36 & 1746 & 15.48536 & 0.4850000\\\\\n",
       "\t 2019-04-01 07:05:28 & 10001 &   3699 & 850 & 24414 & 4 & 42.34885 & -71.09469 & 1 & 2 & ... & 2019-04-01 07:05:28 & 28 &   0.00000 &  0.0000000 &  0.000000 & -0.16826083 & 15485.36 & 1774 & 15.48536 & 0.4927778\\\\\n",
       "\t 2019-04-01 07:05:29 & 10001 &   3699 & 850 & 24424 & 4 & 42.34885 & -71.09469 & 1 & 2 & ... & 2019-04-01 07:05:29 &  1 &   0.00000 &  0.0000000 &  0.000000 &  0.00000000 & 15485.36 & 1775 & 15.48536 & 0.4930556\\\\\n",
       "\t 2019-04-01 07:05:38 & 10001 &   3699 & 850 & 24451 & 4 & 42.34892 & -71.09430 & 1 & 2 & ... & 2019-04-01 07:05:38 &  9 &  33.17844 &  3.6864928 & 13.271374 &  0.40961031 & 15518.54 & 1784 & 15.51854 & 0.4955556\\\\\n",
       "\t 2019-04-01 07:05:49 & 10001 &   3699 & 850 & 24502 & 4 & 42.34896 & -71.09402 & 1 & 2 & ... & 2019-04-01 07:05:49 & 11 &  23.64519 &  2.1495625 &  7.738425 & -0.13972094 & 15542.19 & 1795 & 15.54219 & 0.4986111\\\\\n",
       "\\end{tabular}\n"
      ],
      "text/markdown": [
       "\n",
       "A data.frame: 201 × 31\n",
       "\n",
       "| trxtime &lt;chr&gt; | trainid &lt;int&gt; | vehicleid &lt;chr&gt; | routeid &lt;int&gt; | counter &lt;int&gt; | lineid &lt;int&gt; | lat &lt;dbl&gt; | lon &lt;dbl&gt; | servicetypeid &lt;int&gt; | sourceid &lt;int&gt; | ... ... | time &lt;dttm&gt; | interval_seconds &lt;dbl&gt; | dist_meters &lt;dbl&gt; | speed_mps &lt;dbl&gt; | speed_kph &lt;dbl&gt; | accel_mps2 &lt;dbl&gt; | cumdist &lt;dbl&gt; | cumtime &lt;dbl&gt; | cumdist_km &lt;dbl&gt; | cumtime_hrs &lt;dbl&gt; |\n",
       "|---|---|---|---|---|---|---|---|---|---|---|---|---|---|---|---|---|---|---|---|---|\n",
       "| 2019-04-01 06:35:54 | 10001 |   3699 | 850 | 17645 | 4 | 42.33666 | -71.25081 | 1 | 0 | ... | 2019-04-01 06:35:54 | NA |        NA |        NA |         NA |          NA |    0.00000 |   0 | 0.00000000 | 0.000000000 |\n",
       "| 2019-04-01 06:36:00 | 10001 |   3699 | 850 | 17656 | 4 | 42.33633 | -71.25019 | 1 | 1 | ... | 2019-04-01 06:36:00 |  6 |  62.70724 | 10.451207 |  37.624345 |          NA |   62.70724 |   6 | 0.06270724 | 0.001666667 |\n",
       "| 2019-04-01 06:36:06 | 10001 |   3699 | 850 | 17675 | 4 | 42.33567 | -71.24901 | 1 | 1 | ... | 2019-04-01 06:36:06 |  6 | 121.29373 | 20.215621 |  72.776237 |   1.6274024 |  184.00097 |  12 | 0.18400097 | 0.003333333 |\n",
       "| 2019-04-01 06:36:12 | 10001 |   3699 | 850 | 17793 | 4 | 42.33535 | -71.24840 | 1 | 1 | ... | 2019-04-01 06:36:12 |  6 |  61.86077 | 10.310128 |  37.116461 |  -1.6509156 |  245.86174 |  18 | 0.24586174 | 0.005000000 |\n",
       "| 2019-04-01 06:36:13 | 10001 |   3699 | 850 | 17798 | 4 | 42.33506 | -71.24777 | 1 | 1 | ... | 2019-04-01 06:36:13 |  1 |  60.99345 | 60.993453 | 219.576431 |  50.6833250 |  306.85519 |  19 | 0.30685519 | 0.005277778 |\n",
       "| 2019-04-01 06:36:18 | 10001 |   3699 | 850 | 17818 | 4 | 42.33475 | -71.24716 | 1 | 1 | ... | 2019-04-01 06:36:18 |  5 |  61.18063 | 12.236127 |  44.050056 |  -9.7514653 |  368.03582 |  24 | 0.36803582 | 0.006666667 |\n",
       "| 2019-04-01 06:36:24 | 10001 |   3699 | 850 | 17842 | 4 | 42.33443 | -71.24654 | 1 | 1 | ... | 2019-04-01 06:36:24 |  6 |  62.58200 | 10.430333 |  37.549198 |  -0.3009656 |  430.61782 |  30 | 0.43061782 | 0.008333333 |\n",
       "| 2019-04-01 06:36:25 | 10001 |   3699 | 850 | 17846 | 4 | 42.33411 | -71.24592 | 1 | 1 | ... | 2019-04-01 06:36:25 |  1 |  61.64781 | 61.647806 | 221.932101 |  51.2174730 |  492.26563 |  31 | 0.49226563 | 0.008611111 |\n",
       "| 2019-04-01 06:36:36 | 10001 |   3699 | 850 | 17948 | 4 | 42.33382 | -71.24534 | 1 | 1 | ... | 2019-04-01 06:36:36 | 11 |  57.18007 |  5.198188 |  18.713476 |  -5.1317835 |  549.44569 |  42 | 0.54944569 | 0.011666667 |\n",
       "| 2019-04-01 06:36:37 | 10001 |   3699 | 850 | 17950 | 4 | 42.33348 | -71.24470 | 1 | 1 | ... | 2019-04-01 06:36:37 |  1 |  65.17261 | 65.172613 | 234.621405 |  59.9744248 |  614.61830 |  43 | 0.61461830 | 0.011944444 |\n",
       "| 2019-04-01 06:36:43 | 10001 |   3699 | 850 | 17970 | 4 | 42.33322 | -71.24409 | 1 | 1 | ... | 2019-04-01 06:36:43 |  6 |  58.28943 |  9.714904 |  34.973656 |  -9.2429514 |  672.90773 |  49 | 0.67290773 | 0.013611111 |\n",
       "| 2019-04-01 06:36:54 | 10001 |   3699 | 850 | 18023 | 4 | 42.33285 | -71.24337 | 1 | 1 | ... | 2019-04-01 06:36:54 | 11 |  72.00499 |  6.545909 |  23.565271 |  -0.2880905 |  744.91272 |  60 | 0.74491272 | 0.016666667 |\n",
       "| 2019-04-01 06:37:30 | 10001 |   3699 | 850 | 18112 | 4 | 42.33239 | -71.24249 | 1 | 1 | ... | 2019-04-01 06:37:30 | 36 |  88.38201 |  2.455056 |   8.838201 |  -0.1136348 |  833.29473 |  96 | 0.83329473 | 0.026666667 |\n",
       "| 2019-04-01 06:37:36 | 10001 |   3699 | 850 | 18129 | 4 | 42.33208 | -71.24181 | 1 | 1 | ... | 2019-04-01 06:37:36 |  6 |  65.51966 | 10.919944 |  39.311797 |   1.4108147 |  898.81439 | 102 | 0.89881439 | 0.028333333 |\n",
       "| 2019-04-01 06:37:42 | 10001 |   3699 | 850 | 18147 | 4 | 42.33178 | -71.24122 | 1 | 1 | ... | 2019-04-01 06:37:42 |  6 |  59.40225 |  9.900375 |  35.641350 |  -0.1699281 |  958.21664 | 108 | 0.95821664 | 0.030000000 |\n",
       "| 2019-04-01 06:37:43 | 10001 |   3699 | 850 | 18148 | 4 | 42.33147 | -71.24063 | 1 | 1 | ... | 2019-04-01 06:37:43 |  1 |  59.14938 | 59.149379 | 212.937765 |  49.2490042 | 1017.36602 | 109 | 1.01736602 | 0.030277778 |\n",
       "| 2019-04-01 06:37:48 | 10001 |   3699 | 850 | 18160 | 4 | 42.33114 | -71.24000 | 1 | 1 | ... | 2019-04-01 06:37:48 |  5 |  64.30355 | 12.860709 |  46.298554 |  -9.2577339 | 1081.66957 | 114 | 1.08166957 | 0.031666667 |\n",
       "| 2019-04-01 06:37:54 | 10001 |   3699 | 850 | 18176 | 4 | 42.33087 | -71.23939 | 1 | 1 | ... | 2019-04-01 06:37:54 |  6 |  58.03233 |  9.672056 |  34.819400 |  -0.5314423 | 1139.70190 | 120 | 1.13970190 | 0.033333333 |\n",
       "| 2019-04-01 06:38:00 | 10001 |   3699 | 850 | 18197 | 4 | 42.33024 | -71.23816 | 1 | 1 | ... | 2019-04-01 06:38:00 |  6 | 122.94932 | 20.491553 |  73.769591 |   1.8032496 | 1262.65122 | 126 | 1.26265122 | 0.035000000 |\n",
       "| 2019-04-01 06:38:01 | 10001 |   3699 | 850 | 18198 | 4 | 42.32992 | -71.23749 | 1 | 1 | ... | 2019-04-01 06:38:01 |  1 |  65.51781 | 65.517807 | 235.864104 |  45.0262536 | 1328.16903 | 127 | 1.32816903 | 0.035277778 |\n",
       "| 2019-04-01 06:38:06 | 10001 |   3699 | 850 | 18217 | 4 | 42.32961 | -71.23688 | 1 | 1 | ... | 2019-04-01 06:38:06 |  5 |  61.84554 | 12.369109 |  44.528792 | -10.6297396 | 1390.01457 | 132 | 1.39001457 | 0.036666667 |\n",
       "| 2019-04-01 06:38:07 | 10001 |   3699 | 850 | 18222 | 4 | 42.32930 | -71.23627 | 1 | 1 | ... | 2019-04-01 06:38:07 |  1 |  60.58588 | 60.585881 | 218.109172 |  48.2167722 | 1450.60045 | 133 | 1.45060045 | 0.036944444 |\n",
       "| 2019-04-01 06:38:12 | 10001 |   3699 | 850 | 18241 | 4 | 42.32899 | -71.23567 | 1 | 1 | ... | 2019-04-01 06:38:12 |  5 |  59.71249 | 11.942497 |  42.992990 |  -9.7286768 | 1510.31294 | 138 | 1.51031294 | 0.038333333 |\n",
       "| 2019-04-01 06:38:18 | 10001 |   3699 | 850 | 18265 | 4 | 42.32870 | -71.23506 | 1 | 1 | ... | 2019-04-01 06:38:18 |  6 |  59.94894 |  9.991491 |  35.969367 |  -0.3251677 | 1570.26189 | 144 | 1.57026189 | 0.040000000 |\n",
       "| 2019-04-01 06:38:19 | 10001 |   3699 | 850 | 18266 | 4 | 42.32837 | -71.23447 | 1 | 1 | ... | 2019-04-01 06:38:19 |  1 |  60.96955 | 60.969555 | 219.490398 |  50.9780641 | 1631.23144 | 145 | 1.63123144 | 0.040277778 |\n",
       "| 2019-04-01 06:38:24 | 10001 |   3699 | 850 | 18290 | 4 | 42.32802 | -71.23383 | 1 | 1 | ... | 2019-04-01 06:38:24 |  5 |  65.69653 | 13.139306 |  47.301503 |  -9.5660497 | 1696.92797 | 150 | 1.69692797 | 0.041666667 |\n",
       "| 2019-04-01 06:38:30 | 10001 |   3699 | 850 | 18311 | 4 | 42.32759 | -71.23316 | 1 | 1 | ... | 2019-04-01 06:38:30 |  6 |  73.17872 | 12.196453 |  43.907231 |  -0.1571422 | 1770.10669 | 156 | 1.77010669 | 0.043333333 |\n",
       "| 2019-04-01 06:38:36 | 10001 |   3699 | 850 | 18327 | 4 | 42.32721 | -71.23263 | 1 | 1 | ... | 2019-04-01 06:38:36 |  6 |  60.25799 | 10.042999 |  36.154797 |  -0.3589090 | 1830.36469 | 162 | 1.83036469 | 0.045000000 |\n",
       "| 2019-04-01 06:38:37 | 10001 |   3699 | 850 | 18330 | 4 | 42.32683 | -71.23211 | 1 | 1 | ... | 2019-04-01 06:38:37 |  1 |  60.09519 | 60.095191 | 216.342687 |  50.0521917 | 1890.45988 | 163 | 1.89045988 | 0.045277778 |\n",
       "| 2019-04-01 06:38:43 | 10001 |   3699 | 850 | 18354 | 4 | 42.32650 | -71.23164 | 1 | 1 | ... | 2019-04-01 06:38:43 |  6 |  53.72758 |  8.954596 |  32.236546 |  -8.5234324 | 1944.18745 | 169 | 1.94418745 | 0.046944444 |\n",
       "| ... | ... | ... | ... | ... | ... | ... | ... | ... | ... | <!----> | ... | ... | ... | ... | ... | ... | ... | ... | ... | ... |\n",
       "| 2019-04-01 06:59:21 | 10001 |   3699 | 850 | 22900 | 4 | 42.33682 | -71.11236 | 1 | 1 | ... | 2019-04-01 06:59:21 |  6 |  64.02372 | 10.6706194 | 38.414230 | -1.73374079 | 13352.64 | 1407 | 13.35264 | 0.3908333 |\n",
       "| 2019-04-01 06:59:27 | 10001 |   3699 | 850 | 22923 | 4 | 42.33783 | -71.11184 | 1 | 1 | ... | 2019-04-01 06:59:27 |  6 | 121.20659 | 20.2010989 | 72.723956 |  1.58841325 | 13473.85 | 1413 | 13.47385 | 0.3925000 |\n",
       "| 2019-04-01 06:59:33 | 10001 |   3699 | 850 | 22939 | 4 | 42.33840 | -71.11158 | 1 | 1 | ... | 2019-04-01 06:59:33 |  6 |  66.86290 | 11.1438163 | 40.117739 | -1.50954710 | 13540.71 | 1419 | 13.54071 | 0.3941667 |\n",
       "| 2019-04-01 06:59:39 | 10001 |   3699 | 850 | 22964 | 4 | 42.33950 | -71.11123 | 1 | 1 | ... | 2019-04-01 06:59:39 |  6 | 125.49112 | 20.9151866 | 75.294672 |  1.62856172 | 13666.20 | 1425 | 13.66620 | 0.3958333 |\n",
       "| 2019-04-01 06:59:45 | 10001 |   3699 | 850 | 22985 | 4 | 42.34005 | -71.11107 | 1 | 1 | ... | 2019-04-01 06:59:45 |  6 |  61.85815 | 10.3096914 | 37.114889 | -1.76758253 | 13728.06 | 1431 | 13.72806 | 0.3975000 |\n",
       "| 2019-04-01 06:59:54 | 10001 |   3699 | 850 | 23023 | 4 | 42.34117 | -71.11040 | 1 | 1 | ... | 2019-04-01 06:59:54 |  9 | 136.44538 | 15.1605980 | 54.578153 |  0.53898962 | 13864.51 | 1440 | 13.86451 | 0.4000000 |\n",
       "| 2019-04-01 07:00:06 | 10001 |   3699 | 850 | 23066 | 4 | 42.34174 | -71.10985 | 1 | 1 | ... | 2019-04-01 07:00:06 | 12 |  78.01786 |  6.5014884 | 23.405358 | -0.72159247 | 13942.52 | 1452 | 13.94252 | 0.4033333 |\n",
       "| 2019-04-01 07:00:45 | 10001 |   3699 | 850 | 23252 | 4 | 42.34222 | -71.10930 | 1 | 1 | ... | 2019-04-01 07:00:45 | 39 |  70.47413 |  1.8070289 |  6.505304 | -0.12037075 | 14013.00 | 1491 | 14.01300 | 0.4141667 |\n",
       "| 2019-04-01 07:00:54 | 10001 |   3699 | 850 | 23288 | 4 | 42.34260 | -71.10871 | 1 | 1 | ... | 2019-04-01 07:00:54 |  9 |  64.56773 |  7.1741922 | 25.827092 |  0.59635148 | 14077.57 | 1500 | 14.07757 | 0.4166667 |\n",
       "| 2019-04-01 07:00:57 | 10001 |   3699 | 850 | 23300 | 4 | 42.34297 | -71.10812 | 1 | 1 | ... | 2019-04-01 07:00:57 |  3 |  63.41042 | 21.1368050 | 76.092498 |  4.65420427 | 14140.98 | 1503 | 14.14098 | 0.4175000 |\n",
       "| 2019-04-01 07:01:03 | 10001 |   3699 | 850 | 23324 | 4 | 42.34336 | -71.10753 | 1 | 1 | ... | 2019-04-01 07:01:03 |  6 |  64.91902 | 10.8198360 | 38.951410 | -1.71949483 | 14205.89 | 1509 | 14.20589 | 0.4191667 |\n",
       "| 2019-04-01 07:01:09 | 10001 |   3699 | 850 | 23345 | 4 | 42.34371 | -71.10697 | 1 | 1 | ... | 2019-04-01 07:01:09 |  6 |  60.13087 | 10.0218121 | 36.078523 | -0.13300399 | 14266.03 | 1515 | 14.26603 | 0.4208333 |\n",
       "| 2019-04-01 07:01:15 | 10001 |   3699 | 850 | 23370 | 4 | 42.34408 | -71.10637 | 1 | 1 | ... | 2019-04-01 07:01:15 |  6 |  64.48583 | 10.7476376 | 38.691495 |  0.12097092 | 14330.51 | 1521 | 14.33051 | 0.4225000 |\n",
       "| 2019-04-01 07:01:24 | 10001 |   3699 | 850 | 23403 | 4 | 42.34444 | -71.10581 | 1 | 1 | ... | 2019-04-01 07:01:24 |  9 |  61.18240 |  6.7980442 | 24.472959 | -0.43884372 | 14391.69 | 1530 | 14.39169 | 0.4250000 |\n",
       "| 2019-04-01 07:01:33 | 10001 |   3699 | 850 | 23439 | 4 | 42.34478 | -71.10525 | 1 | 1 | ... | 2019-04-01 07:01:33 |  9 |  59.90425 |  6.6560281 | 23.961701 | -0.01577956 | 14451.60 | 1539 | 14.45160 | 0.4275000 |\n",
       "| 2019-04-01 07:01:45 | 10001 |   3699 | 850 | 23493 | 4 | 42.34517 | -71.10456 | 1 | 1 | ... | 2019-04-01 07:01:45 | 12 |  71.24638 |  5.9371984 | 21.373914 | -0.05990247 | 14522.84 | 1551 | 14.52284 | 0.4308333 |\n",
       "| 2019-04-01 07:02:20 | 10001 |   3699 | 850 | 23627 | 4 | 42.34524 | -71.10444 | 1 | 2 | ... | 2019-04-01 07:02:20 | 35 |  13.05304 |  0.3729439 |  1.342598 | -0.15897870 | 14535.90 | 1586 | 14.53590 | 0.4405556 |\n",
       "| 2019-04-01 07:02:50 | 10001 |   3699 | 850 | 23769 | 4 | 42.34588 | -71.10331 | 1 | 2 | ... | 2019-04-01 07:02:50 | 30 | 116.79073 |  3.8930244 | 14.014888 |  0.11733602 | 14652.69 | 1616 | 14.65269 | 0.4488889 |\n",
       "| 2019-04-01 07:03:11 | 10001 |   3699 | 850 | 23889 | 4 | 42.34648 | -71.10222 | 1 | 2 | ... | 2019-04-01 07:03:11 | 21 | 111.75342 |  5.3215916 | 19.157730 |  0.06802701 | 14764.44 | 1637 | 14.76444 | 0.4547222 |\n",
       "| 2019-04-01 07:03:23 | 10001 |   3699 | 850 | 23941 | 4 | 42.34703 | -71.10166 | 1 | 2 | ... | 2019-04-01 07:03:23 | 12 |  76.90675 |  6.4088961 | 23.072026 |  0.09060871 | 14841.35 | 1649 | 14.84135 | 0.4580556 |\n",
       "| 2019-04-01 07:03:27 | 10001 |   3699 | 850 | 23958 | 4 | 42.34763 | -71.10143 | 1 | 2 | ... | 2019-04-01 07:03:27 |  4 |  68.77812 | 17.1945299 | 61.900308 |  2.69640845 | 14910.13 | 1653 | 14.91013 | 0.4591667 |\n",
       "| 2019-04-01 07:03:48 | 10001 |   3699 | 850 | 24022 | 4 | 42.34819 | -71.09927 | 1 | 2 | ... | 2019-04-01 07:03:48 | 21 | 189.20901 |  9.0099528 | 32.435830 | -0.38974177 | 15099.34 | 1674 | 15.09934 | 0.4650000 |\n",
       "| 2019-04-01 07:04:06 | 10001 |   3699 | 850 | 24079 | 4 | 42.34862 | -71.09760 | 1 | 2 | ... | 2019-04-01 07:04:06 | 18 | 144.64829 |  8.0360163 | 28.929659 | -0.05410758 | 15243.98 | 1692 | 15.24398 | 0.4700000 |\n",
       "| 2019-04-01 07:04:46 | 10001 |   3699 | 850 | 24286 | 4 | 42.34880 | -71.09594 | 1 | 2 | ... | 2019-04-01 07:04:46 | 40 | 138.04923 |  3.4512307 | 12.424430 | -0.11461964 | 15382.03 | 1732 | 15.38203 | 0.4811111 |\n",
       "| 2019-04-01 07:04:53 | 10001 |   3699 | 850 | 24314 | 4 | 42.34881 | -71.09509 | 1 | 2 | ... | 2019-04-01 07:04:53 |  7 |  70.35280 | 10.0503995 | 36.181438 |  0.94273841 | 15452.39 | 1739 | 15.45239 | 0.4830556 |\n",
       "| 2019-04-01 07:05:00 | 10001 |   3699 | 850 | 24421 | 4 | 42.34885 | -71.09469 | 1 | 0 | ... | 2019-04-01 07:05:00 |  7 |  32.97912 |  4.7113033 | 16.960692 | -0.76272803 | 15485.36 | 1746 | 15.48536 | 0.4850000 |\n",
       "| 2019-04-01 07:05:28 | 10001 |   3699 | 850 | 24414 | 4 | 42.34885 | -71.09469 | 1 | 2 | ... | 2019-04-01 07:05:28 | 28 |   0.00000 |  0.0000000 |  0.000000 | -0.16826083 | 15485.36 | 1774 | 15.48536 | 0.4927778 |\n",
       "| 2019-04-01 07:05:29 | 10001 |   3699 | 850 | 24424 | 4 | 42.34885 | -71.09469 | 1 | 2 | ... | 2019-04-01 07:05:29 |  1 |   0.00000 |  0.0000000 |  0.000000 |  0.00000000 | 15485.36 | 1775 | 15.48536 | 0.4930556 |\n",
       "| 2019-04-01 07:05:38 | 10001 |   3699 | 850 | 24451 | 4 | 42.34892 | -71.09430 | 1 | 2 | ... | 2019-04-01 07:05:38 |  9 |  33.17844 |  3.6864928 | 13.271374 |  0.40961031 | 15518.54 | 1784 | 15.51854 | 0.4955556 |\n",
       "| 2019-04-01 07:05:49 | 10001 |   3699 | 850 | 24502 | 4 | 42.34896 | -71.09402 | 1 | 2 | ... | 2019-04-01 07:05:49 | 11 |  23.64519 |  2.1495625 |  7.738425 | -0.13972094 | 15542.19 | 1795 | 15.54219 | 0.4986111 |\n",
       "\n"
      ],
      "text/plain": [
       "    trxtime             trainid vehicleid routeid counter lineid lat     \n",
       "1   2019-04-01 06:35:54 10001     3699    850     17645   4      42.33666\n",
       "2   2019-04-01 06:36:00 10001     3699    850     17656   4      42.33633\n",
       "3   2019-04-01 06:36:06 10001     3699    850     17675   4      42.33567\n",
       "4   2019-04-01 06:36:12 10001     3699    850     17793   4      42.33535\n",
       "5   2019-04-01 06:36:13 10001     3699    850     17798   4      42.33506\n",
       "6   2019-04-01 06:36:18 10001     3699    850     17818   4      42.33475\n",
       "7   2019-04-01 06:36:24 10001     3699    850     17842   4      42.33443\n",
       "8   2019-04-01 06:36:25 10001     3699    850     17846   4      42.33411\n",
       "9   2019-04-01 06:36:36 10001     3699    850     17948   4      42.33382\n",
       "10  2019-04-01 06:36:37 10001     3699    850     17950   4      42.33348\n",
       "11  2019-04-01 06:36:43 10001     3699    850     17970   4      42.33322\n",
       "12  2019-04-01 06:36:54 10001     3699    850     18023   4      42.33285\n",
       "13  2019-04-01 06:37:30 10001     3699    850     18112   4      42.33239\n",
       "14  2019-04-01 06:37:36 10001     3699    850     18129   4      42.33208\n",
       "15  2019-04-01 06:37:42 10001     3699    850     18147   4      42.33178\n",
       "16  2019-04-01 06:37:43 10001     3699    850     18148   4      42.33147\n",
       "17  2019-04-01 06:37:48 10001     3699    850     18160   4      42.33114\n",
       "18  2019-04-01 06:37:54 10001     3699    850     18176   4      42.33087\n",
       "19  2019-04-01 06:38:00 10001     3699    850     18197   4      42.33024\n",
       "20  2019-04-01 06:38:01 10001     3699    850     18198   4      42.32992\n",
       "21  2019-04-01 06:38:06 10001     3699    850     18217   4      42.32961\n",
       "22  2019-04-01 06:38:07 10001     3699    850     18222   4      42.32930\n",
       "23  2019-04-01 06:38:12 10001     3699    850     18241   4      42.32899\n",
       "24  2019-04-01 06:38:18 10001     3699    850     18265   4      42.32870\n",
       "25  2019-04-01 06:38:19 10001     3699    850     18266   4      42.32837\n",
       "26  2019-04-01 06:38:24 10001     3699    850     18290   4      42.32802\n",
       "27  2019-04-01 06:38:30 10001     3699    850     18311   4      42.32759\n",
       "28  2019-04-01 06:38:36 10001     3699    850     18327   4      42.32721\n",
       "29  2019-04-01 06:38:37 10001     3699    850     18330   4      42.32683\n",
       "30  2019-04-01 06:38:43 10001     3699    850     18354   4      42.32650\n",
       "... ...                 ...     ...       ...     ...     ...    ...     \n",
       "172 2019-04-01 06:59:21 10001     3699    850     22900   4      42.33682\n",
       "173 2019-04-01 06:59:27 10001     3699    850     22923   4      42.33783\n",
       "174 2019-04-01 06:59:33 10001     3699    850     22939   4      42.33840\n",
       "175 2019-04-01 06:59:39 10001     3699    850     22964   4      42.33950\n",
       "176 2019-04-01 06:59:45 10001     3699    850     22985   4      42.34005\n",
       "177 2019-04-01 06:59:54 10001     3699    850     23023   4      42.34117\n",
       "178 2019-04-01 07:00:06 10001     3699    850     23066   4      42.34174\n",
       "179 2019-04-01 07:00:45 10001     3699    850     23252   4      42.34222\n",
       "180 2019-04-01 07:00:54 10001     3699    850     23288   4      42.34260\n",
       "181 2019-04-01 07:00:57 10001     3699    850     23300   4      42.34297\n",
       "182 2019-04-01 07:01:03 10001     3699    850     23324   4      42.34336\n",
       "183 2019-04-01 07:01:09 10001     3699    850     23345   4      42.34371\n",
       "184 2019-04-01 07:01:15 10001     3699    850     23370   4      42.34408\n",
       "185 2019-04-01 07:01:24 10001     3699    850     23403   4      42.34444\n",
       "186 2019-04-01 07:01:33 10001     3699    850     23439   4      42.34478\n",
       "187 2019-04-01 07:01:45 10001     3699    850     23493   4      42.34517\n",
       "188 2019-04-01 07:02:20 10001     3699    850     23627   4      42.34524\n",
       "189 2019-04-01 07:02:50 10001     3699    850     23769   4      42.34588\n",
       "190 2019-04-01 07:03:11 10001     3699    850     23889   4      42.34648\n",
       "191 2019-04-01 07:03:23 10001     3699    850     23941   4      42.34703\n",
       "192 2019-04-01 07:03:27 10001     3699    850     23958   4      42.34763\n",
       "193 2019-04-01 07:03:48 10001     3699    850     24022   4      42.34819\n",
       "194 2019-04-01 07:04:06 10001     3699    850     24079   4      42.34862\n",
       "195 2019-04-01 07:04:46 10001     3699    850     24286   4      42.34880\n",
       "196 2019-04-01 07:04:53 10001     3699    850     24314   4      42.34881\n",
       "197 2019-04-01 07:05:00 10001     3699    850     24421   4      42.34885\n",
       "198 2019-04-01 07:05:28 10001     3699    850     24414   4      42.34885\n",
       "199 2019-04-01 07:05:29 10001     3699    850     24424   4      42.34885\n",
       "200 2019-04-01 07:05:38 10001     3699    850     24451   4      42.34892\n",
       "201 2019-04-01 07:05:49 10001     3699    850     24502   4      42.34896\n",
       "    lon       servicetypeid sourceid ... time                interval_seconds\n",
       "1   -71.25081 1             0        ... 2019-04-01 06:35:54 NA              \n",
       "2   -71.25019 1             1        ... 2019-04-01 06:36:00  6              \n",
       "3   -71.24901 1             1        ... 2019-04-01 06:36:06  6              \n",
       "4   -71.24840 1             1        ... 2019-04-01 06:36:12  6              \n",
       "5   -71.24777 1             1        ... 2019-04-01 06:36:13  1              \n",
       "6   -71.24716 1             1        ... 2019-04-01 06:36:18  5              \n",
       "7   -71.24654 1             1        ... 2019-04-01 06:36:24  6              \n",
       "8   -71.24592 1             1        ... 2019-04-01 06:36:25  1              \n",
       "9   -71.24534 1             1        ... 2019-04-01 06:36:36 11              \n",
       "10  -71.24470 1             1        ... 2019-04-01 06:36:37  1              \n",
       "11  -71.24409 1             1        ... 2019-04-01 06:36:43  6              \n",
       "12  -71.24337 1             1        ... 2019-04-01 06:36:54 11              \n",
       "13  -71.24249 1             1        ... 2019-04-01 06:37:30 36              \n",
       "14  -71.24181 1             1        ... 2019-04-01 06:37:36  6              \n",
       "15  -71.24122 1             1        ... 2019-04-01 06:37:42  6              \n",
       "16  -71.24063 1             1        ... 2019-04-01 06:37:43  1              \n",
       "17  -71.24000 1             1        ... 2019-04-01 06:37:48  5              \n",
       "18  -71.23939 1             1        ... 2019-04-01 06:37:54  6              \n",
       "19  -71.23816 1             1        ... 2019-04-01 06:38:00  6              \n",
       "20  -71.23749 1             1        ... 2019-04-01 06:38:01  1              \n",
       "21  -71.23688 1             1        ... 2019-04-01 06:38:06  5              \n",
       "22  -71.23627 1             1        ... 2019-04-01 06:38:07  1              \n",
       "23  -71.23567 1             1        ... 2019-04-01 06:38:12  5              \n",
       "24  -71.23506 1             1        ... 2019-04-01 06:38:18  6              \n",
       "25  -71.23447 1             1        ... 2019-04-01 06:38:19  1              \n",
       "26  -71.23383 1             1        ... 2019-04-01 06:38:24  5              \n",
       "27  -71.23316 1             1        ... 2019-04-01 06:38:30  6              \n",
       "28  -71.23263 1             1        ... 2019-04-01 06:38:36  6              \n",
       "29  -71.23211 1             1        ... 2019-04-01 06:38:37  1              \n",
       "30  -71.23164 1             1        ... 2019-04-01 06:38:43  6              \n",
       "... ...       ...           ...          ...                 ...             \n",
       "172 -71.11236 1             1        ... 2019-04-01 06:59:21  6              \n",
       "173 -71.11184 1             1        ... 2019-04-01 06:59:27  6              \n",
       "174 -71.11158 1             1        ... 2019-04-01 06:59:33  6              \n",
       "175 -71.11123 1             1        ... 2019-04-01 06:59:39  6              \n",
       "176 -71.11107 1             1        ... 2019-04-01 06:59:45  6              \n",
       "177 -71.11040 1             1        ... 2019-04-01 06:59:54  9              \n",
       "178 -71.10985 1             1        ... 2019-04-01 07:00:06 12              \n",
       "179 -71.10930 1             1        ... 2019-04-01 07:00:45 39              \n",
       "180 -71.10871 1             1        ... 2019-04-01 07:00:54  9              \n",
       "181 -71.10812 1             1        ... 2019-04-01 07:00:57  3              \n",
       "182 -71.10753 1             1        ... 2019-04-01 07:01:03  6              \n",
       "183 -71.10697 1             1        ... 2019-04-01 07:01:09  6              \n",
       "184 -71.10637 1             1        ... 2019-04-01 07:01:15  6              \n",
       "185 -71.10581 1             1        ... 2019-04-01 07:01:24  9              \n",
       "186 -71.10525 1             1        ... 2019-04-01 07:01:33  9              \n",
       "187 -71.10456 1             1        ... 2019-04-01 07:01:45 12              \n",
       "188 -71.10444 1             2        ... 2019-04-01 07:02:20 35              \n",
       "189 -71.10331 1             2        ... 2019-04-01 07:02:50 30              \n",
       "190 -71.10222 1             2        ... 2019-04-01 07:03:11 21              \n",
       "191 -71.10166 1             2        ... 2019-04-01 07:03:23 12              \n",
       "192 -71.10143 1             2        ... 2019-04-01 07:03:27  4              \n",
       "193 -71.09927 1             2        ... 2019-04-01 07:03:48 21              \n",
       "194 -71.09760 1             2        ... 2019-04-01 07:04:06 18              \n",
       "195 -71.09594 1             2        ... 2019-04-01 07:04:46 40              \n",
       "196 -71.09509 1             2        ... 2019-04-01 07:04:53  7              \n",
       "197 -71.09469 1             0        ... 2019-04-01 07:05:00  7              \n",
       "198 -71.09469 1             2        ... 2019-04-01 07:05:28 28              \n",
       "199 -71.09469 1             2        ... 2019-04-01 07:05:29  1              \n",
       "200 -71.09430 1             2        ... 2019-04-01 07:05:38  9              \n",
       "201 -71.09402 1             2        ... 2019-04-01 07:05:49 11              \n",
       "    dist_meters speed_mps  speed_kph  accel_mps2  cumdist    cumtime cumdist_km\n",
       "1          NA          NA          NA          NA    0.00000   0     0.00000000\n",
       "2    62.70724   10.451207   37.624345          NA   62.70724   6     0.06270724\n",
       "3   121.29373   20.215621   72.776237   1.6274024  184.00097  12     0.18400097\n",
       "4    61.86077   10.310128   37.116461  -1.6509156  245.86174  18     0.24586174\n",
       "5    60.99345   60.993453  219.576431  50.6833250  306.85519  19     0.30685519\n",
       "6    61.18063   12.236127   44.050056  -9.7514653  368.03582  24     0.36803582\n",
       "7    62.58200   10.430333   37.549198  -0.3009656  430.61782  30     0.43061782\n",
       "8    61.64781   61.647806  221.932101  51.2174730  492.26563  31     0.49226563\n",
       "9    57.18007    5.198188   18.713476  -5.1317835  549.44569  42     0.54944569\n",
       "10   65.17261   65.172613  234.621405  59.9744248  614.61830  43     0.61461830\n",
       "11   58.28943    9.714904   34.973656  -9.2429514  672.90773  49     0.67290773\n",
       "12   72.00499    6.545909   23.565271  -0.2880905  744.91272  60     0.74491272\n",
       "13   88.38201    2.455056    8.838201  -0.1136348  833.29473  96     0.83329473\n",
       "14   65.51966   10.919944   39.311797   1.4108147  898.81439 102     0.89881439\n",
       "15   59.40225    9.900375   35.641350  -0.1699281  958.21664 108     0.95821664\n",
       "16   59.14938   59.149379  212.937765  49.2490042 1017.36602 109     1.01736602\n",
       "17   64.30355   12.860709   46.298554  -9.2577339 1081.66957 114     1.08166957\n",
       "18   58.03233    9.672056   34.819400  -0.5314423 1139.70190 120     1.13970190\n",
       "19  122.94932   20.491553   73.769591   1.8032496 1262.65122 126     1.26265122\n",
       "20   65.51781   65.517807  235.864104  45.0262536 1328.16903 127     1.32816903\n",
       "21   61.84554   12.369109   44.528792 -10.6297396 1390.01457 132     1.39001457\n",
       "22   60.58588   60.585881  218.109172  48.2167722 1450.60045 133     1.45060045\n",
       "23   59.71249   11.942497   42.992990  -9.7286768 1510.31294 138     1.51031294\n",
       "24   59.94894    9.991491   35.969367  -0.3251677 1570.26189 144     1.57026189\n",
       "25   60.96955   60.969555  219.490398  50.9780641 1631.23144 145     1.63123144\n",
       "26   65.69653   13.139306   47.301503  -9.5660497 1696.92797 150     1.69692797\n",
       "27   73.17872   12.196453   43.907231  -0.1571422 1770.10669 156     1.77010669\n",
       "28   60.25799   10.042999   36.154797  -0.3589090 1830.36469 162     1.83036469\n",
       "29   60.09519   60.095191  216.342687  50.0521917 1890.45988 163     1.89045988\n",
       "30   53.72758    8.954596   32.236546  -8.5234324 1944.18745 169     1.94418745\n",
       "... ...         ...        ...        ...         ...        ...     ...       \n",
       "172  64.02372   10.6706194 38.414230  -1.73374079 13352.64   1407    13.35264  \n",
       "173 121.20659   20.2010989 72.723956   1.58841325 13473.85   1413    13.47385  \n",
       "174  66.86290   11.1438163 40.117739  -1.50954710 13540.71   1419    13.54071  \n",
       "175 125.49112   20.9151866 75.294672   1.62856172 13666.20   1425    13.66620  \n",
       "176  61.85815   10.3096914 37.114889  -1.76758253 13728.06   1431    13.72806  \n",
       "177 136.44538   15.1605980 54.578153   0.53898962 13864.51   1440    13.86451  \n",
       "178  78.01786    6.5014884 23.405358  -0.72159247 13942.52   1452    13.94252  \n",
       "179  70.47413    1.8070289  6.505304  -0.12037075 14013.00   1491    14.01300  \n",
       "180  64.56773    7.1741922 25.827092   0.59635148 14077.57   1500    14.07757  \n",
       "181  63.41042   21.1368050 76.092498   4.65420427 14140.98   1503    14.14098  \n",
       "182  64.91902   10.8198360 38.951410  -1.71949483 14205.89   1509    14.20589  \n",
       "183  60.13087   10.0218121 36.078523  -0.13300399 14266.03   1515    14.26603  \n",
       "184  64.48583   10.7476376 38.691495   0.12097092 14330.51   1521    14.33051  \n",
       "185  61.18240    6.7980442 24.472959  -0.43884372 14391.69   1530    14.39169  \n",
       "186  59.90425    6.6560281 23.961701  -0.01577956 14451.60   1539    14.45160  \n",
       "187  71.24638    5.9371984 21.373914  -0.05990247 14522.84   1551    14.52284  \n",
       "188  13.05304    0.3729439  1.342598  -0.15897870 14535.90   1586    14.53590  \n",
       "189 116.79073    3.8930244 14.014888   0.11733602 14652.69   1616    14.65269  \n",
       "190 111.75342    5.3215916 19.157730   0.06802701 14764.44   1637    14.76444  \n",
       "191  76.90675    6.4088961 23.072026   0.09060871 14841.35   1649    14.84135  \n",
       "192  68.77812   17.1945299 61.900308   2.69640845 14910.13   1653    14.91013  \n",
       "193 189.20901    9.0099528 32.435830  -0.38974177 15099.34   1674    15.09934  \n",
       "194 144.64829    8.0360163 28.929659  -0.05410758 15243.98   1692    15.24398  \n",
       "195 138.04923    3.4512307 12.424430  -0.11461964 15382.03   1732    15.38203  \n",
       "196  70.35280   10.0503995 36.181438   0.94273841 15452.39   1739    15.45239  \n",
       "197  32.97912    4.7113033 16.960692  -0.76272803 15485.36   1746    15.48536  \n",
       "198   0.00000    0.0000000  0.000000  -0.16826083 15485.36   1774    15.48536  \n",
       "199   0.00000    0.0000000  0.000000   0.00000000 15485.36   1775    15.48536  \n",
       "200  33.17844    3.6864928 13.271374   0.40961031 15518.54   1784    15.51854  \n",
       "201  23.64519    2.1495625  7.738425  -0.13972094 15542.19   1795    15.54219  \n",
       "    cumtime_hrs\n",
       "1   0.000000000\n",
       "2   0.001666667\n",
       "3   0.003333333\n",
       "4   0.005000000\n",
       "5   0.005277778\n",
       "6   0.006666667\n",
       "7   0.008333333\n",
       "8   0.008611111\n",
       "9   0.011666667\n",
       "10  0.011944444\n",
       "11  0.013611111\n",
       "12  0.016666667\n",
       "13  0.026666667\n",
       "14  0.028333333\n",
       "15  0.030000000\n",
       "16  0.030277778\n",
       "17  0.031666667\n",
       "18  0.033333333\n",
       "19  0.035000000\n",
       "20  0.035277778\n",
       "21  0.036666667\n",
       "22  0.036944444\n",
       "23  0.038333333\n",
       "24  0.040000000\n",
       "25  0.040277778\n",
       "26  0.041666667\n",
       "27  0.043333333\n",
       "28  0.045000000\n",
       "29  0.045277778\n",
       "30  0.046944444\n",
       "... ...        \n",
       "172 0.3908333  \n",
       "173 0.3925000  \n",
       "174 0.3941667  \n",
       "175 0.3958333  \n",
       "176 0.3975000  \n",
       "177 0.4000000  \n",
       "178 0.4033333  \n",
       "179 0.4141667  \n",
       "180 0.4166667  \n",
       "181 0.4175000  \n",
       "182 0.4191667  \n",
       "183 0.4208333  \n",
       "184 0.4225000  \n",
       "185 0.4250000  \n",
       "186 0.4275000  \n",
       "187 0.4308333  \n",
       "188 0.4405556  \n",
       "189 0.4488889  \n",
       "190 0.4547222  \n",
       "191 0.4580556  \n",
       "192 0.4591667  \n",
       "193 0.4650000  \n",
       "194 0.4700000  \n",
       "195 0.4811111  \n",
       "196 0.4830556  \n",
       "197 0.4850000  \n",
       "198 0.4927778  \n",
       "199 0.4930556  \n",
       "200 0.4955556  \n",
       "201 0.4986111  "
      ]
     },
     "metadata": {},
     "output_type": "display_data"
    }
   ],
   "source": [
    "clean_trajectory"
   ]
  },
  {
   "cell_type": "code",
   "execution_count": 106,
   "metadata": {
    "collapsed": true,
    "jupyter": {
     "outputs_hidden": true
    }
   },
   "outputs": [
    {
     "name": "stderr",
     "output_type": "stream",
     "text": [
      "Warning message in melt(clean_trajectory, id.vars = c(\"time\", \"month\", \"day\"), measure.vars = c(\"dist_meters\", :\n",
      "\"The melt generic in data.table has been passed a data.frame and will attempt to redirect to the relevant reshape2 method; please note that reshape2 is deprecated, and this redirection is now deprecated as well. To continue using melt methods from reshape2 while both libraries are attached, e.g. melt.list, you can prepend the namespace like reshape2::melt(clean_trajectory). In the next version, this warning will become an error.\"\n",
      "Warning message:\n",
      "\"Removed 5 rows containing missing values (geom_point).\"\n"
     ]
    },
    {
     "data": {
      "image/png": "[encoded data removed]",
      "text/plain": [
       "plot without title"
      ]
     },
     "metadata": {
      "image/png": {
       "height": 420,
       "width": 420
      }
     },
     "output_type": "display_data"
    }
   ],
   "source": [
    "train_plot(clean_trajectory)"
   ]
  },
  {
   "cell_type": "code",
   "execution_count": 155,
   "metadata": {},
   "outputs": [],
   "source": [
    "train_plot = function(df){\n",
    "    clean_trajectory_melt = melt(df, id.vars = c(\"time\",\"month\",\"day\") ,\n",
    "                                 measure.vars = c(\"dist_meters\",\"cumdist_km\",\"interval_seconds\",\"cumtime_hrs\",\"speed_kph\",\"accel_mps2\"))\n",
    "    # Name new labels for plot\n",
    "    levels(clean_trajectory_melt$variable) = c(\"Distance (meters)\",\"Cumulative distance (km)\",\n",
    "                                               \"Time interval (s)\",\"Cumulative time (hrs)\",\"Speed (km/h)\",\"Acceleration (meters/s^2)\")\n",
    "    # generate the facet plot\n",
    "    ggplot(clean_trajectory_melt,aes(x = time,y = value)) + \n",
    "    geom_point(colour=\"darkorange\") + \n",
    "    theme(strip.text = element_text(size = rel(1))) + \n",
    "    facet_wrap(~variable,ncol = 2 , scales = \"free_y\")\n",
    "   # return( clean_trajectory_melt)\n",
    "}"
   ]
  },
  {
   "cell_type": "markdown",
   "metadata": {},
   "source": [
    "## Green line investigation"
   ]
  },
  {
   "cell_type": "code",
   "execution_count": 75,
   "metadata": {},
   "outputs": [],
   "source": [
    "df_green_test = green_subset(850,10404,'3628',18,4,3628,3878)"
   ]
  },
  {
   "cell_type": "code",
   "execution_count": 77,
   "metadata": {},
   "outputs": [],
   "source": [
    "# Computation\n",
    "df_green_test_dis = compute_distance(df_green_test)\n",
    "df_green_test_dis_speed_accel = compute_speed_acceleration(df_green_test_dis)"
   ]
  },
  {
   "cell_type": "code",
   "execution_count": 169,
   "metadata": {
    "collapsed": true,
    "jupyter": {
     "outputs_hidden": true
    }
   },
   "outputs": [
    {
     "data": {
      "image/png": "[encoded data removed]",
      "text/plain": [
       "Plot with title \"Histogram of df_green_test_dis_speed_accel$interval_seconds\""
      ]
     },
     "metadata": {
      "image/png": {
       "height": 600,
       "width": 300
      }
     },
     "output_type": "display_data"
    }
   ],
   "source": [
    "hist(df_green_test_dis_speed_accel$interval_seconds,xlim = c(0,10000))"
   ]
  },
  {
   "cell_type": "markdown",
   "metadata": {},
   "source": [
    "## Data preprocessing"
   ]
  },
  {
   "cell_type": "code",
   "execution_count": 6,
   "metadata": {},
   "outputs": [],
   "source": [
    "# Data preprocessing\n",
    "preprocess_data = function(df){\n",
    "    # Add time column to do analysis by random time scale\n",
    "    df$day = day(df$trxtime)\n",
    "    df$month = month(df$trxtime)\n",
    "    df$year = year(df$trxtime)\n",
    "    # check the na values ratio\n",
    "    df_zero = df[df$lon == 0 | df$lat == 0,]\n",
    "    df_zero_rate = nrow(df_zero)/nrow(df)\n",
    "    print(df_zero_rate)\n",
    "    # remove the rows with values of lat and lon are 0/NA\n",
    "    df = df[!(is.na(df$lon)) | !(is.na(df$lat)),]\n",
    "    df = df[df$lon != 0 | df$lat != 0,]\n",
    "    df = df[order(df$trainid, df$trxtime),]\n",
    "    df = distinct(df, trxtime, trainid, .keep_all = TRUE) # Remove the duplicated time record\n",
    "    return(df)\n",
    "}"
   ]
  },
  {
   "cell_type": "code",
   "execution_count": 7,
   "metadata": {},
   "outputs": [
    {
     "name": "stdout",
     "output_type": "stream",
     "text": [
      "[1] 0.0008356593\n"
     ]
    }
   ],
   "source": [
    "df = preprocess_data(df)"
   ]
  },
  {
   "cell_type": "markdown",
   "metadata": {},
   "source": [
    "### Smoothing methods"
   ]
  },
  {
   "cell_type": "code",
   "execution_count": null,
   "metadata": {},
   "outputs": [],
   "source": [
    "#df_test$dist_meters\n",
    "filter = robreg.filter(clean_trajectory_melt$dist_meters, width=10,online=TRUE,method= \"MED\")"
   ]
  },
  {
   "cell_type": "code",
   "execution_count": 63,
   "metadata": {},
   "outputs": [],
   "source": [
    "width = 10\n",
    "right.width = 10"
   ]
  },
  {
   "cell_type": "code",
   "execution_count": 51,
   "metadata": {},
   "outputs": [],
   "source": [
    "filter_wrm = wrm.filter(df_test_computed$dist_meters, width,weight.type = 1, del = floor(width/2), extrapolate = TRUE)"
   ]
  },
  {
   "cell_type": "code",
   "execution_count": 64,
   "metadata": {
    "collapsed": true,
    "jupyter": {
     "outputs_hidden": true
    }
   },
   "outputs": [
    {
     "name": "stderr",
     "output_type": "stream",
     "text": [
      "Warning message in scarm.filter(df_test_computed$dist_meters, right.width, min.left.width = right.width, :\n",
      "\"'min.width' must be an integer >=5; 'min.width' is set to 5.\n",
      "\"\n"
     ]
    }
   ],
   "source": [
    "filter_scarm = scarm.filter(df_test_computed$dist_meters,right.width, min.left.width=right.width,\n",
    "min.width=floor(right.width/3), max.width=200,sign.level=0.001, bound.noise.sd=0.01, rtr=TRUE,autocorrelations=\"automatic\")"
   ]
  },
  {
   "cell_type": "code",
   "execution_count": 70,
   "metadata": {},
   "outputs": [
    {
     "name": "stdout",
     "output_type": "stream",
     "text": [
      "1 out of 255 time series values in y are missing. \n"
     ]
    }
   ],
   "source": [
    "filter_rmfilter = rm.filter(df_test_computed$dist_meters, width, minNonNAs = 5, online = FALSE, extrapolate = TRUE)"
   ]
  },
  {
   "cell_type": "code",
   "execution_count": 11,
   "metadata": {
    "collapsed": true,
    "jupyter": {
     "outputs_hidden": true
    }
   },
   "outputs": [
    {
     "data": {
      "text/html": [
       "<table class=\"dataframe\">\n",
       "<caption>A data.table: 6 × 8</caption>\n",
       "<thead>\n",
       "\t<tr><th scope=col>trxtime</th><th scope=col>trainid</th><th scope=col>lineid</th><th scope=col>lat</th><th scope=col>lon</th><th scope=col>day</th><th scope=col>month</th><th scope=col>year</th></tr>\n",
       "\t<tr><th scope=col>&lt;chr&gt;</th><th scope=col>&lt;int&gt;</th><th scope=col>&lt;int&gt;</th><th scope=col>&lt;dbl&gt;</th><th scope=col>&lt;dbl&gt;</th><th scope=col>&lt;int&gt;</th><th scope=col>&lt;dbl&gt;</th><th scope=col>&lt;dbl&gt;</th></tr>\n",
       "</thead>\n",
       "<tbody>\n",
       "\t<tr><td>2019-04-30 20:23:51</td><td>1415375776</td><td>3</td><td>42.40392</td><td>-71.07747</td><td>30</td><td>4</td><td>2019</td></tr>\n",
       "\t<tr><td>2019-04-30 20:43:41</td><td>1415375776</td><td>3</td><td>42.40669</td><td>-71.07697</td><td>30</td><td>4</td><td>2019</td></tr>\n",
       "\t<tr><td>2019-04-30 20:45:26</td><td>1415375776</td><td>3</td><td>42.41500</td><td>-71.07683</td><td>30</td><td>4</td><td>2019</td></tr>\n",
       "\t<tr><td>2019-04-30 20:46:00</td><td>1415375776</td><td>3</td><td>42.42273</td><td>-71.07593</td><td>30</td><td>4</td><td>2019</td></tr>\n",
       "\t<tr><td>2019-04-30 20:46:37</td><td>1415375776</td><td>3</td><td>42.42668</td><td>-71.07428</td><td>30</td><td>4</td><td>2019</td></tr>\n",
       "\t<tr><td>2019-04-30 20:47:04</td><td>1415375776</td><td>3</td><td>42.42861</td><td>-71.07350</td><td>30</td><td>4</td><td>2019</td></tr>\n",
       "</tbody>\n",
       "</table>\n"
      ],
      "text/latex": [
       "A data.table: 6 × 8\n",
       "\\begin{tabular}{llllllll}\n",
       " trxtime & trainid & lineid & lat & lon & day & month & year\\\\\n",
       " <chr> & <int> & <int> & <dbl> & <dbl> & <int> & <dbl> & <dbl>\\\\\n",
       "\\hline\n",
       "\t 2019-04-30 20:23:51 & 1415375776 & 3 & 42.40392 & -71.07747 & 30 & 4 & 2019\\\\\n",
       "\t 2019-04-30 20:43:41 & 1415375776 & 3 & 42.40669 & -71.07697 & 30 & 4 & 2019\\\\\n",
       "\t 2019-04-30 20:45:26 & 1415375776 & 3 & 42.41500 & -71.07683 & 30 & 4 & 2019\\\\\n",
       "\t 2019-04-30 20:46:00 & 1415375776 & 3 & 42.42273 & -71.07593 & 30 & 4 & 2019\\\\\n",
       "\t 2019-04-30 20:46:37 & 1415375776 & 3 & 42.42668 & -71.07428 & 30 & 4 & 2019\\\\\n",
       "\t 2019-04-30 20:47:04 & 1415375776 & 3 & 42.42861 & -71.07350 & 30 & 4 & 2019\\\\\n",
       "\\end{tabular}\n"
      ],
      "text/markdown": [
       "\n",
       "A data.table: 6 × 8\n",
       "\n",
       "| trxtime &lt;chr&gt; | trainid &lt;int&gt; | lineid &lt;int&gt; | lat &lt;dbl&gt; | lon &lt;dbl&gt; | day &lt;int&gt; | month &lt;dbl&gt; | year &lt;dbl&gt; |\n",
       "|---|---|---|---|---|---|---|---|\n",
       "| 2019-04-30 20:23:51 | 1415375776 | 3 | 42.40392 | -71.07747 | 30 | 4 | 2019 |\n",
       "| 2019-04-30 20:43:41 | 1415375776 | 3 | 42.40669 | -71.07697 | 30 | 4 | 2019 |\n",
       "| 2019-04-30 20:45:26 | 1415375776 | 3 | 42.41500 | -71.07683 | 30 | 4 | 2019 |\n",
       "| 2019-04-30 20:46:00 | 1415375776 | 3 | 42.42273 | -71.07593 | 30 | 4 | 2019 |\n",
       "| 2019-04-30 20:46:37 | 1415375776 | 3 | 42.42668 | -71.07428 | 30 | 4 | 2019 |\n",
       "| 2019-04-30 20:47:04 | 1415375776 | 3 | 42.42861 | -71.07350 | 30 | 4 | 2019 |\n",
       "\n"
      ],
      "text/plain": [
       "  trxtime             trainid    lineid lat      lon       day month year\n",
       "1 2019-04-30 20:23:51 1415375776 3      42.40392 -71.07747 30  4     2019\n",
       "2 2019-04-30 20:43:41 1415375776 3      42.40669 -71.07697 30  4     2019\n",
       "3 2019-04-30 20:45:26 1415375776 3      42.41500 -71.07683 30  4     2019\n",
       "4 2019-04-30 20:46:00 1415375776 3      42.42273 -71.07593 30  4     2019\n",
       "5 2019-04-30 20:46:37 1415375776 3      42.42668 -71.07428 30  4     2019\n",
       "6 2019-04-30 20:47:04 1415375776 3      42.42861 -71.07350 30  4     2019"
      ]
     },
     "metadata": {},
     "output_type": "display_data"
    }
   ],
   "source": [
    "head(df_test_1415375776)"
   ]
  },
  {
   "cell_type": "markdown",
   "metadata": {},
   "source": [
    "### test result"
   ]
  },
  {
   "cell_type": "code",
   "execution_count": 72,
   "metadata": {},
   "outputs": [],
   "source": [
    "d1 = df_test_computed\n",
    "d1$dist_meters = filter_rmfilter$level$RM\n",
    "d1_speed_accel = compute_speed_acceleration(d1)"
   ]
  },
  {
   "cell_type": "code",
   "execution_count": 11,
   "metadata": {
    "collapsed": true,
    "jupyter": {
     "outputs_hidden": true
    }
   },
   "outputs": [
    {
     "name": "stderr",
     "output_type": "stream",
     "text": [
      "Warning message in strptime(xx, f, tz = tz):\n",
      "\"unknown timezone '%Y:%M:%D:%H:%M:%S'\"\n",
      "Warning message in as.POSIXct.POSIXlt(x):\n",
      "\"unknown timezone '%Y:%M:%D:%H:%M:%S'\"\n",
      "Warning message in strptime(x, f, tz = tz):\n",
      "\"unknown timezone '%Y:%M:%D:%H:%M:%S'\"\n",
      "Warning message in as.POSIXct.POSIXlt(as.POSIXlt(x, tz, ...), tz, ...):\n",
      "\"unknown timezone '%Y:%M:%D:%H:%M:%S'\"\n",
      "Warning message in as.POSIXlt.POSIXct(x):\n",
      "\"unknown timezone '%Y:%M:%D:%H:%M:%S'\"\n",
      "Warning message in as.POSIXct.POSIXlt(from):\n",
      "\"unknown timezone '%Y:%M:%D:%H:%M:%S'\"\n",
      "Warning message in as.POSIXct.POSIXlt(from):\n",
      "\"unknown timezone '%Y:%M:%D:%H:%M:%S'\"\n",
      "Warning message in as.POSIXlt.POSIXct(x):\n",
      "\"unknown timezone '%Y:%M:%D:%H:%M:%S'\"\n",
      "Warning message in as.POSIXct.POSIXlt(from):\n",
      "\"unknown timezone '%Y:%M:%D:%H:%M:%S'\"\n",
      "Warning message in as.POSIXct.POSIXlt(from):\n",
      "\"unknown timezone '%Y:%M:%D:%H:%M:%S'\"\n",
      "Warning message in as.POSIXlt.POSIXct(x, tz):\n",
      "\"unknown timezone '%Y:%M:%D:%H:%M:%S'\"\n",
      "Warning message in as.POSIXlt.POSIXct(x):\n",
      "\"unknown timezone '%Y:%M:%D:%H:%M:%S'\"\n",
      "Warning message in as.POSIXct.POSIXlt(from):\n",
      "\"unknown timezone '%Y:%M:%D:%H:%M:%S'\"\n",
      "Warning message in as.POSIXct.POSIXlt(from):\n",
      "\"unknown timezone '%Y:%M:%D:%H:%M:%S'\"\n",
      "Warning message in as.POSIXlt.POSIXct(x):\n",
      "\"unknown timezone '%Y:%M:%D:%H:%M:%S'\"\n",
      "Warning message in as.POSIXct.POSIXlt(from):\n",
      "\"unknown timezone '%Y:%M:%D:%H:%M:%S'\"\n",
      "Warning message in as.POSIXct.POSIXlt(from):\n",
      "\"unknown timezone '%Y:%M:%D:%H:%M:%S'\"\n",
      "Warning message in as.POSIXlt.POSIXct(x, tz):\n",
      "\"unknown timezone '%Y:%M:%D:%H:%M:%S'\"\n",
      "Warning message in as.POSIXlt.POSIXct(x):\n",
      "\"unknown timezone '%Y:%M:%D:%H:%M:%S'\"\n",
      "Warning message in as.POSIXct.POSIXlt(from):\n",
      "\"unknown timezone '%Y:%M:%D:%H:%M:%S'\"\n",
      "Warning message in as.POSIXct.POSIXlt(from):\n",
      "\"unknown timezone '%Y:%M:%D:%H:%M:%S'\"\n",
      "Warning message in as.POSIXlt.POSIXct(x):\n",
      "\"unknown timezone '%Y:%M:%D:%H:%M:%S'\"\n",
      "Warning message in as.POSIXct.POSIXlt(from):\n",
      "\"unknown timezone '%Y:%M:%D:%H:%M:%S'\"\n",
      "Warning message in as.POSIXct.POSIXlt(from):\n",
      "\"unknown timezone '%Y:%M:%D:%H:%M:%S'\"\n",
      "Warning message in as.POSIXlt.POSIXct(x, tz):\n",
      "\"unknown timezone '%Y:%M:%D:%H:%M:%S'\"\n",
      "Warning message in as.POSIXlt.POSIXct(x):\n",
      "\"unknown timezone '%Y:%M:%D:%H:%M:%S'\"\n",
      "Warning message in as.POSIXct.POSIXlt(from):\n",
      "\"unknown timezone '%Y:%M:%D:%H:%M:%S'\"\n",
      "Warning message in as.POSIXct.POSIXlt(from):\n",
      "\"unknown timezone '%Y:%M:%D:%H:%M:%S'\"\n",
      "Warning message in as.POSIXlt.POSIXct(x):\n",
      "\"unknown timezone '%Y:%M:%D:%H:%M:%S'\"\n",
      "Warning message in as.POSIXct.POSIXlt(from):\n",
      "\"unknown timezone '%Y:%M:%D:%H:%M:%S'\"\n",
      "Warning message in as.POSIXct.POSIXlt(from):\n",
      "\"unknown timezone '%Y:%M:%D:%H:%M:%S'\"\n",
      "Warning message in as.POSIXlt.POSIXct(x, tz):\n",
      "\"unknown timezone '%Y:%M:%D:%H:%M:%S'\"\n",
      "Warning message in as.POSIXlt.POSIXct(x):\n",
      "\"unknown timezone '%Y:%M:%D:%H:%M:%S'\"\n",
      "Warning message in as.POSIXct.POSIXlt(from):\n",
      "\"unknown timezone '%Y:%M:%D:%H:%M:%S'\"\n",
      "Warning message in as.POSIXct.POSIXlt(from):\n",
      "\"unknown timezone '%Y:%M:%D:%H:%M:%S'\"\n",
      "Warning message in as.POSIXlt.POSIXct(x):\n",
      "\"unknown timezone '%Y:%M:%D:%H:%M:%S'\"\n",
      "Warning message in as.POSIXct.POSIXlt(from):\n",
      "\"unknown timezone '%Y:%M:%D:%H:%M:%S'\"\n",
      "Warning message in as.POSIXct.POSIXlt(from):\n",
      "\"unknown timezone '%Y:%M:%D:%H:%M:%S'\"\n",
      "Warning message in as.POSIXlt.POSIXct(x, tz):\n",
      "\"unknown timezone '%Y:%M:%D:%H:%M:%S'\"\n",
      "Warning message in as.POSIXlt.POSIXct(x):\n",
      "\"unknown timezone '%Y:%M:%D:%H:%M:%S'\"\n",
      "Warning message in as.POSIXct.POSIXlt(from):\n",
      "\"unknown timezone '%Y:%M:%D:%H:%M:%S'\"\n",
      "Warning message in as.POSIXct.POSIXlt(from):\n",
      "\"unknown timezone '%Y:%M:%D:%H:%M:%S'\"\n",
      "Warning message in as.POSIXlt.POSIXct(x):\n",
      "\"unknown timezone '%Y:%M:%D:%H:%M:%S'\"\n",
      "Warning message in as.POSIXct.POSIXlt(from):\n",
      "\"unknown timezone '%Y:%M:%D:%H:%M:%S'\"\n",
      "Warning message in as.POSIXct.POSIXlt(from):\n",
      "\"unknown timezone '%Y:%M:%D:%H:%M:%S'\"\n",
      "Warning message in as.POSIXlt.POSIXct(x, tz):\n",
      "\"unknown timezone '%Y:%M:%D:%H:%M:%S'\"\n",
      "Warning message in as.POSIXlt.POSIXct(x):\n",
      "\"unknown timezone '%Y:%M:%D:%H:%M:%S'\"\n",
      "Warning message in as.POSIXct.POSIXlt(from):\n",
      "\"unknown timezone '%Y:%M:%D:%H:%M:%S'\"\n",
      "Warning message in as.POSIXct.POSIXlt(from):\n",
      "\"unknown timezone '%Y:%M:%D:%H:%M:%S'\"\n",
      "Warning message in as.POSIXlt.POSIXct(x):\n",
      "\"unknown timezone '%Y:%M:%D:%H:%M:%S'\"\n",
      "Warning message in as.POSIXct.POSIXlt(from):\n",
      "\"unknown timezone '%Y:%M:%D:%H:%M:%S'\"\n",
      "Warning message in as.POSIXct.POSIXlt(from):\n",
      "\"unknown timezone '%Y:%M:%D:%H:%M:%S'\"\n",
      "Warning message in as.POSIXlt.POSIXct(x, tz):\n",
      "\"unknown timezone '%Y:%M:%D:%H:%M:%S'\"\n",
      "Warning message in as.POSIXlt.POSIXct(x):\n",
      "\"unknown timezone '%Y:%M:%D:%H:%M:%S'\"\n",
      "Warning message in as.POSIXct.POSIXlt(from):\n",
      "\"unknown timezone '%Y:%M:%D:%H:%M:%S'\"\n",
      "Warning message in as.POSIXct.POSIXlt(from):\n",
      "\"unknown timezone '%Y:%M:%D:%H:%M:%S'\"\n",
      "Warning message in as.POSIXlt.POSIXct(x):\n",
      "\"unknown timezone '%Y:%M:%D:%H:%M:%S'\"\n",
      "Warning message in as.POSIXct.POSIXlt(from):\n",
      "\"unknown timezone '%Y:%M:%D:%H:%M:%S'\"\n",
      "Warning message in as.POSIXct.POSIXlt(from):\n",
      "\"unknown timezone '%Y:%M:%D:%H:%M:%S'\"\n",
      "Warning message in as.POSIXlt.POSIXct(x, tz):\n",
      "\"unknown timezone '%Y:%M:%D:%H:%M:%S'\"\n"
     ]
    },
    {
     "data": {
      "image/png": "[encoded data removed]",
      "text/plain": [
       "plot without title"
      ]
     },
     "metadata": {
      "image/png": {
       "height": 600,
       "width": 300
      }
     },
     "output_type": "display_data"
    }
   ],
   "source": [
    "d_test = train_test()"
   ]
  },
  {
   "cell_type": "code",
   "execution_count": 17,
   "metadata": {
    "collapsed": true,
    "jupyter": {
     "outputs_hidden": true
    }
   },
   "outputs": [
    {
     "data": {
      "image/png": "[encoded data removed]",
      "text/plain": [
       "plot without title"
      ]
     },
     "metadata": {
      "image/png": {
       "height": 480,
       "width": 480
      }
     },
     "output_type": "display_data"
    }
   ],
   "source": [
    "options(repr.plot.width = 8, repr.plot.height = 8)\n",
    "ggplot(d_test) + \n",
    "    geom_point(aes(x = lat, y = lon,color = factor(hour)),size = 1,alpha = 0.4) +\n",
    "    theme(axis.text=element_text(size = 12),axis.title.x = element_text(size = 20),axis.title.y = element_text(size = 20),title= element_text(size = 20)) +\n",
    "    labs(title =\" lon vs lat \", y = \"lon\", x = \"lat\")"
   ]
  },
  {
   "cell_type": "code",
   "execution_count": 16,
   "metadata": {
    "collapsed": true,
    "jupyter": {
     "outputs_hidden": true
    }
   },
   "outputs": [
    {
     "data": {
      "image/png": "[encoded data removed]",
      "text/plain": [
       "plot without title"
      ]
     },
     "metadata": {
      "image/png": {
       "height": 480,
       "width": 480
      }
     },
     "output_type": "display_data"
    }
   ],
   "source": [
    "options(repr.plot.width = 8, repr.plot.height = 8)\n",
    "ggplot(d_test) + \n",
    "    geom_line(aes(x = lat, y = lon),size = 1,alpha = 0.4) +\n",
    "    theme(axis.text=element_text(size = 12),axis.title.x = element_text(size = 20),axis.title.y = element_text(size = 20),title= element_text(size = 20)) +\n",
    "    labs(title =\" lon vs lat \", y = \"lon\", x = \"lat\")"
   ]
  },
  {
   "cell_type": "code",
   "execution_count": 32,
   "metadata": {
    "collapsed": true,
    "jupyter": {
     "outputs_hidden": true
    }
   },
   "outputs": [
    {
     "data": {
      "image/png": "[encoded data removed]",
      "text/plain": [
       "Plot with title \"Truncated Histogram of x\""
      ]
     },
     "metadata": {
      "image/png": {
       "height": 480,
       "width": 480
      }
     },
     "output_type": "display_data"
    }
   ],
   "source": [
    "truncHist(d_test$interval_seconds,xmin = 0,xmax = 2000)"
   ]
  },
  {
   "cell_type": "code",
   "execution_count": 35,
   "metadata": {},
   "outputs": [
    {
     "data": {
      "text/html": [
       "-86388"
      ],
      "text/latex": [
       "-86388"
      ],
      "text/markdown": [
       "-86388"
      ],
      "text/plain": [
       "[1] -86388"
      ]
     },
     "metadata": {},
     "output_type": "display_data"
    }
   ],
   "source": [
    "min(d_test$interval_seconds,na.rm = TRUE)"
   ]
  },
  {
   "cell_type": "code",
   "execution_count": 37,
   "metadata": {
    "collapsed": true,
    "jupyter": {
     "outputs_hidden": true
    }
   },
   "outputs": [
    {
     "name": "stderr",
     "output_type": "stream",
     "text": [
      "Warning message in as.POSIXlt.POSIXct(x):\n",
      "\"unknown timezone '%Y:%M:%D:%H:%M:%S'\"\n",
      "Warning message in as.POSIXct.POSIXlt(from):\n",
      "\"unknown timezone '%Y:%M:%D:%H:%M:%S'\"\n",
      "Warning message in as.POSIXct.POSIXlt(from):\n",
      "\"unknown timezone '%Y:%M:%D:%H:%M:%S'\"\n",
      "Warning message in as.POSIXlt.POSIXct(x):\n",
      "\"unknown timezone '%Y:%M:%D:%H:%M:%S'\"\n",
      "Warning message in as.POSIXct.POSIXlt(from):\n",
      "\"unknown timezone '%Y:%M:%D:%H:%M:%S'\"\n",
      "Warning message in as.POSIXct.POSIXlt(from):\n",
      "\"unknown timezone '%Y:%M:%D:%H:%M:%S'\"\n",
      "Warning message in as.POSIXlt.POSIXct(x, tz):\n",
      "\"unknown timezone '%Y:%M:%D:%H:%M:%S'\"\n",
      "Warning message in as.POSIXlt.POSIXct(x):\n",
      "\"unknown timezone '%Y:%M:%D:%H:%M:%S'\"\n",
      "Warning message in as.POSIXct.POSIXlt(from):\n",
      "\"unknown timezone '%Y:%M:%D:%H:%M:%S'\"\n",
      "Warning message in as.POSIXct.POSIXlt(from):\n",
      "\"unknown timezone '%Y:%M:%D:%H:%M:%S'\"\n",
      "Warning message in as.POSIXlt.POSIXct(x):\n",
      "\"unknown timezone '%Y:%M:%D:%H:%M:%S'\"\n",
      "Warning message in as.POSIXct.POSIXlt(from):\n",
      "\"unknown timezone '%Y:%M:%D:%H:%M:%S'\"\n",
      "Warning message in as.POSIXct.POSIXlt(from):\n",
      "\"unknown timezone '%Y:%M:%D:%H:%M:%S'\"\n",
      "Warning message in as.POSIXlt.POSIXct(x, tz):\n",
      "\"unknown timezone '%Y:%M:%D:%H:%M:%S'\"\n"
     ]
    },
    {
     "data": {
      "image/png": "[encoded data removed]",
      "text/plain": [
       "plot without title"
      ]
     },
     "metadata": {
      "image/png": {
       "height": 480,
       "width": 480
      }
     },
     "output_type": "display_data"
    }
   ],
   "source": [
    "ggplot(d_test) + \n",
    "    geom_line(aes(x = time, y = dist_meters),size = 1,alpha = 0.4) +\n",
    "    theme(axis.text=element_text(size = 12),axis.title.x = element_text(size = 20),axis.title.y = element_text(size = 20),title= element_text(size = 20)) +\n",
    "    labs(title =\" lon vs lat \", y = \"lon\", x = \"lat\")"
   ]
  },
  {
   "cell_type": "code",
   "execution_count": 43,
   "metadata": {
    "collapsed": true,
    "jupyter": {
     "outputs_hidden": true
    }
   },
   "outputs": [
    {
     "data": {
      "text/html": [
       "<style>\n",
       ".list-inline {list-style: none; margin:0; padding: 0}\n",
       ".list-inline>li {display: inline-block}\n",
       ".list-inline>li:not(:last-child)::after {content: \"\\00b7\"; padding: 0 .5ex}\n",
       "</style>\n",
       "<ol class=list-inline><li>&lt;NA&gt;</li><li>-7932</li><li>-22448</li><li>-4215</li><li>-400</li><li>-6391</li><li>-11169</li><li>-78130</li><li>-8010</li><li>-1192</li><li>-66387</li><li>-9272</li><li>-83991</li><li>-6009</li><li>-58023</li><li>-68116</li><li>-67975</li><li>-257</li><li>-53762</li><li>-33447</li><li>-62078</li><li>-3147</li><li>-2104</li><li>-10452</li><li>-572</li><li>-5983</li><li>-1081</li><li>-41154</li><li>-66532</li><li>-4733</li><li>-59229</li><li>-56292</li><li>-526</li><li>-542</li><li>-47448</li><li>-19744</li><li>-2325</li><li>-86352</li><li>-49388</li><li>-39323</li><li>-719</li><li>-73959</li><li>-28803</li><li>-780</li><li>-1827</li><li>-65616</li><li>-2350</li><li>-65451</li><li>-521</li><li>-62071</li><li>-77722</li><li>-35200</li><li>-64404</li><li>-85716</li><li>-1195</li><li>-465</li><li>-960</li><li>-45983</li><li>-11140</li><li>-21973</li><li>-60943</li><li>-64699</li><li>-46452</li><li>-21767</li><li>-669</li><li>-55474</li><li>-578</li><li>-86349</li><li>-17318</li><li>-63965</li><li>-64009</li><li>-82</li><li>-727</li><li>-397</li><li>-41830</li><li>-144</li><li>-61878</li><li>-18260</li><li>-18182</li><li>-12864</li><li>-850</li><li>-923</li><li>-28392</li><li>-1026</li><li>-53134</li><li>-12889</li><li>-63272</li><li>-63172</li><li>-882</li><li>-63129</li><li>-10338</li><li>-59562</li><li>-1913</li><li>-401</li><li>-34070</li><li>-23777</li><li>-3137</li><li>-32565</li><li>-28166</li><li>-21319</li><li>-61463</li><li>-61040</li><li>-53068</li><li>-32472</li><li>-61470</li><li>-442</li><li>-22130</li><li>-26296</li><li>-1535</li><li>-52780</li><li>-2951</li><li>-86178</li><li>-61001</li><li>-171</li><li>-42877</li><li>-4929</li><li>-60454</li><li>-13148</li><li>-59623</li><li>-59817</li><li>-910</li><li>-60030</li><li>-26439</li><li>-635</li><li>-28644</li><li>-8392</li><li>-4322</li><li>-45365</li><li>-43481</li><li>-1564</li><li>-1514</li><li>-358</li><li>-58499</li><li>-22075</li><li>-41384</li><li>-21552</li><li>-5689</li><li>-8911</li><li>-496</li><li>-1989</li><li>-17834</li><li>-29394</li><li>-55079</li><li>-901</li><li>-18</li><li>-29611</li><li>-2994</li><li>-3</li><li>-56310</li><li>-26153</li><li>-52439</li><li>-1076</li><li>-3433</li><li>-281</li><li>-31515</li><li>-54860</li><li>-31539</li><li>-41</li><li>-842</li><li>-2903</li><li>-32878</li><li>-4024</li><li>-32290</li><li>-19682</li><li>-41027</li><li>-378</li><li>-83152</li><li>-86388</li><li>-1663</li><li>-2172</li><li>-41187</li><li>-2000</li><li>-468</li><li>-698</li><li>-19574</li><li>-38083</li><li>-6893</li><li>-1</li><li>-38141</li><li>-2483</li><li>-36736</li><li>-36680</li><li>-2908</li><li>-723</li><li>-13573</li><li>-37558</li><li>-42178</li><li>-48626</li><li>-4066</li><li>-870</li><li>-34640</li><li>-32306</li><li>-2152</li><li>-2331</li><li>-22929</li><li>-5100</li><li>-42622</li><li>-31386</li><li>-1462</li><li>-2074</li><li>...</li><li>-22211</li><li>-144</li><li>-5623</li><li>-103</li><li>-1222</li><li>-7814</li><li>-81634</li><li>-2267</li><li>-60876</li><li>-98</li><li>-87</li><li>-60685</li><li>-1669</li><li>-1423</li><li>-5859</li><li>-3050</li><li>-321</li><li>-62384</li><li>-63140</li><li>-2807</li><li>-62950</li><li>-59688</li><li>-67196</li><li>-84916</li><li>-61796</li><li>-1945</li><li>-63802</li><li>-62939</li><li>-70274</li><li>-17539</li><li>-48</li><li>-8156</li><li>-1922</li><li>-1990</li><li>-303</li><li>-21104</li><li>-11</li><li>-3</li><li>-1865</li><li>-2710</li><li>-516</li><li>-1758</li><li>-1588</li><li>-2053</li><li>-5563</li><li>-700</li><li>-1142</li><li>-9244</li><li>-1877</li><li>-3457</li><li>-8</li><li>-16721</li><li>-369</li><li>-264</li><li>-1594</li><li>-1612</li><li>-16235</li><li>-269</li><li>-205</li><li>-1577</li><li>-2460</li><li>-1104</li><li>-10854</li><li>-3875</li><li>-689</li><li>-12753</li><li>-955</li><li>-1844</li><li>-7750</li><li>-9555</li><li>-916</li><li>-1762</li><li>-1039</li><li>-1292</li><li>-255</li><li>-6150</li><li>-9984</li><li>-10096</li><li>-6824</li><li>-9341</li><li>-3650</li><li>-659</li><li>-1172</li><li>-1084</li><li>-4698</li><li>-1601</li><li>-286</li><li>-1797</li><li>-23</li><li>-1962</li><li>-3498</li><li>-5404</li><li>-3224</li><li>-1608</li><li>-3805</li><li>-3221</li><li>-107</li><li>-261</li><li>-2838</li><li>-902</li><li>-6</li><li>-591</li><li>-838</li><li>-414</li><li>-61610</li><li>-41755</li><li>-3598</li><li>-78401</li><li>-69134</li><li>-27579</li><li>-70457</li><li>-33</li><li>-3017</li><li>-85858</li><li>-581</li><li>-80383</li><li>-4079</li><li>-2027</li><li>-960</li><li>-47904</li><li>-73797</li><li>-86376</li><li>-27008</li><li>-66703</li><li>-76165</li><li>-3650</li><li>-2848</li><li>-27728</li><li>-61666</li><li>-72632</li><li>-69140</li><li>-6548</li><li>-11106</li><li>-86332</li><li>-4919</li><li>-4052</li><li>-55137</li><li>-75160</li><li>-2914</li><li>-2723</li><li>-86332</li><li>-86368</li><li>-1249</li><li>-71603</li><li>-23011</li><li>-22480</li><li>-68531</li><li>-53773</li><li>-67485</li><li>-58284</li><li>-68204</li><li>-67670</li><li>-52998</li><li>-68885</li><li>-19114</li><li>-12401</li><li>-21572</li><li>-17108</li><li>-52589</li><li>-50457</li><li>-11555</li><li>-67522</li><li>-13507</li><li>-57223</li><li>-66432</li><li>-46568</li><li>-16413</li><li>-64629</li><li>-19475</li><li>-46849</li><li>-13758</li><li>-48976</li><li>-63731</li><li>-41790</li><li>-12311</li><li>-14817</li><li>-54197</li><li>-3315</li><li>-24361</li><li>-28306</li><li>-38218</li><li>-36854</li><li>-32191</li><li>-18317</li><li>-34356</li><li>-15408</li><li>-13799</li><li>-18648</li><li>-31499</li><li>-32609</li><li>-18309</li><li>-32961</li><li>-33006</li><li>-32172</li><li>-259</li><li>-28798</li><li>-15383</li><li>-990</li><li>-12920</li><li>-9943</li></ol>\n"
      ],
      "text/latex": [
       "\\begin{enumerate*}\n",
       "\\item <NA>\n",
       "\\item -7932\n",
       "\\item -22448\n",
       "\\item -4215\n",
       "\\item -400\n",
       "\\item -6391\n",
       "\\item -11169\n",
       "\\item -78130\n",
       "\\item -8010\n",
       "\\item -1192\n",
       "\\item -66387\n",
       "\\item -9272\n",
       "\\item -83991\n",
       "\\item -6009\n",
       "\\item -58023\n",
       "\\item -68116\n",
       "\\item -67975\n",
       "\\item -257\n",
       "\\item -53762\n",
       "\\item -33447\n",
       "\\item -62078\n",
       "\\item -3147\n",
       "\\item -2104\n",
       "\\item -10452\n",
       "\\item -572\n",
       "\\item -5983\n",
       "\\item -1081\n",
       "\\item -41154\n",
       "\\item -66532\n",
       "\\item -4733\n",
       "\\item -59229\n",
       "\\item -56292\n",
       "\\item -526\n",
       "\\item -542\n",
       "\\item -47448\n",
       "\\item -19744\n",
       "\\item -2325\n",
       "\\item -86352\n",
       "\\item -49388\n",
       "\\item -39323\n",
       "\\item -719\n",
       "\\item -73959\n",
       "\\item -28803\n",
       "\\item -780\n",
       "\\item -1827\n",
       "\\item -65616\n",
       "\\item -2350\n",
       "\\item -65451\n",
       "\\item -521\n",
       "\\item -62071\n",
       "\\item -77722\n",
       "\\item -35200\n",
       "\\item -64404\n",
       "\\item -85716\n",
       "\\item -1195\n",
       "\\item -465\n",
       "\\item -960\n",
       "\\item -45983\n",
       "\\item -11140\n",
       "\\item -21973\n",
       "\\item -60943\n",
       "\\item -64699\n",
       "\\item -46452\n",
       "\\item -21767\n",
       "\\item -669\n",
       "\\item -55474\n",
       "\\item -578\n",
       "\\item -86349\n",
       "\\item -17318\n",
       "\\item -63965\n",
       "\\item -64009\n",
       "\\item -82\n",
       "\\item -727\n",
       "\\item -397\n",
       "\\item -41830\n",
       "\\item -144\n",
       "\\item -61878\n",
       "\\item -18260\n",
       "\\item -18182\n",
       "\\item -12864\n",
       "\\item -850\n",
       "\\item -923\n",
       "\\item -28392\n",
       "\\item -1026\n",
       "\\item -53134\n",
       "\\item -12889\n",
       "\\item -63272\n",
       "\\item -63172\n",
       "\\item -882\n",
       "\\item -63129\n",
       "\\item -10338\n",
       "\\item -59562\n",
       "\\item -1913\n",
       "\\item -401\n",
       "\\item -34070\n",
       "\\item -23777\n",
       "\\item -3137\n",
       "\\item -32565\n",
       "\\item -28166\n",
       "\\item -21319\n",
       "\\item -61463\n",
       "\\item -61040\n",
       "\\item -53068\n",
       "\\item -32472\n",
       "\\item -61470\n",
       "\\item -442\n",
       "\\item -22130\n",
       "\\item -26296\n",
       "\\item -1535\n",
       "\\item -52780\n",
       "\\item -2951\n",
       "\\item -86178\n",
       "\\item -61001\n",
       "\\item -171\n",
       "\\item -42877\n",
       "\\item -4929\n",
       "\\item -60454\n",
       "\\item -13148\n",
       "\\item -59623\n",
       "\\item -59817\n",
       "\\item -910\n",
       "\\item -60030\n",
       "\\item -26439\n",
       "\\item -635\n",
       "\\item -28644\n",
       "\\item -8392\n",
       "\\item -4322\n",
       "\\item -45365\n",
       "\\item -43481\n",
       "\\item -1564\n",
       "\\item -1514\n",
       "\\item -358\n",
       "\\item -58499\n",
       "\\item -22075\n",
       "\\item -41384\n",
       "\\item -21552\n",
       "\\item -5689\n",
       "\\item -8911\n",
       "\\item -496\n",
       "\\item -1989\n",
       "\\item -17834\n",
       "\\item -29394\n",
       "\\item -55079\n",
       "\\item -901\n",
       "\\item -18\n",
       "\\item -29611\n",
       "\\item -2994\n",
       "\\item -3\n",
       "\\item -56310\n",
       "\\item -26153\n",
       "\\item -52439\n",
       "\\item -1076\n",
       "\\item -3433\n",
       "\\item -281\n",
       "\\item -31515\n",
       "\\item -54860\n",
       "\\item -31539\n",
       "\\item -41\n",
       "\\item -842\n",
       "\\item -2903\n",
       "\\item -32878\n",
       "\\item -4024\n",
       "\\item -32290\n",
       "\\item -19682\n",
       "\\item -41027\n",
       "\\item -378\n",
       "\\item -83152\n",
       "\\item -86388\n",
       "\\item -1663\n",
       "\\item -2172\n",
       "\\item -41187\n",
       "\\item -2000\n",
       "\\item -468\n",
       "\\item -698\n",
       "\\item -19574\n",
       "\\item -38083\n",
       "\\item -6893\n",
       "\\item -1\n",
       "\\item -38141\n",
       "\\item -2483\n",
       "\\item -36736\n",
       "\\item -36680\n",
       "\\item -2908\n",
       "\\item -723\n",
       "\\item -13573\n",
       "\\item -37558\n",
       "\\item -42178\n",
       "\\item -48626\n",
       "\\item -4066\n",
       "\\item -870\n",
       "\\item -34640\n",
       "\\item -32306\n",
       "\\item -2152\n",
       "\\item -2331\n",
       "\\item -22929\n",
       "\\item -5100\n",
       "\\item -42622\n",
       "\\item -31386\n",
       "\\item -1462\n",
       "\\item -2074\n",
       "\\item ...\n",
       "\\item -22211\n",
       "\\item -144\n",
       "\\item -5623\n",
       "\\item -103\n",
       "\\item -1222\n",
       "\\item -7814\n",
       "\\item -81634\n",
       "\\item -2267\n",
       "\\item -60876\n",
       "\\item -98\n",
       "\\item -87\n",
       "\\item -60685\n",
       "\\item -1669\n",
       "\\item -1423\n",
       "\\item -5859\n",
       "\\item -3050\n",
       "\\item -321\n",
       "\\item -62384\n",
       "\\item -63140\n",
       "\\item -2807\n",
       "\\item -62950\n",
       "\\item -59688\n",
       "\\item -67196\n",
       "\\item -84916\n",
       "\\item -61796\n",
       "\\item -1945\n",
       "\\item -63802\n",
       "\\item -62939\n",
       "\\item -70274\n",
       "\\item -17539\n",
       "\\item -48\n",
       "\\item -8156\n",
       "\\item -1922\n",
       "\\item -1990\n",
       "\\item -303\n",
       "\\item -21104\n",
       "\\item -11\n",
       "\\item -3\n",
       "\\item -1865\n",
       "\\item -2710\n",
       "\\item -516\n",
       "\\item -1758\n",
       "\\item -1588\n",
       "\\item -2053\n",
       "\\item -5563\n",
       "\\item -700\n",
       "\\item -1142\n",
       "\\item -9244\n",
       "\\item -1877\n",
       "\\item -3457\n",
       "\\item -8\n",
       "\\item -16721\n",
       "\\item -369\n",
       "\\item -264\n",
       "\\item -1594\n",
       "\\item -1612\n",
       "\\item -16235\n",
       "\\item -269\n",
       "\\item -205\n",
       "\\item -1577\n",
       "\\item -2460\n",
       "\\item -1104\n",
       "\\item -10854\n",
       "\\item -3875\n",
       "\\item -689\n",
       "\\item -12753\n",
       "\\item -955\n",
       "\\item -1844\n",
       "\\item -7750\n",
       "\\item -9555\n",
       "\\item -916\n",
       "\\item -1762\n",
       "\\item -1039\n",
       "\\item -1292\n",
       "\\item -255\n",
       "\\item -6150\n",
       "\\item -9984\n",
       "\\item -10096\n",
       "\\item -6824\n",
       "\\item -9341\n",
       "\\item -3650\n",
       "\\item -659\n",
       "\\item -1172\n",
       "\\item -1084\n",
       "\\item -4698\n",
       "\\item -1601\n",
       "\\item -286\n",
       "\\item -1797\n",
       "\\item -23\n",
       "\\item -1962\n",
       "\\item -3498\n",
       "\\item -5404\n",
       "\\item -3224\n",
       "\\item -1608\n",
       "\\item -3805\n",
       "\\item -3221\n",
       "\\item -107\n",
       "\\item -261\n",
       "\\item -2838\n",
       "\\item -902\n",
       "\\item -6\n",
       "\\item -591\n",
       "\\item -838\n",
       "\\item -414\n",
       "\\item -61610\n",
       "\\item -41755\n",
       "\\item -3598\n",
       "\\item -78401\n",
       "\\item -69134\n",
       "\\item -27579\n",
       "\\item -70457\n",
       "\\item -33\n",
       "\\item -3017\n",
       "\\item -85858\n",
       "\\item -581\n",
       "\\item -80383\n",
       "\\item -4079\n",
       "\\item -2027\n",
       "\\item -960\n",
       "\\item -47904\n",
       "\\item -73797\n",
       "\\item -86376\n",
       "\\item -27008\n",
       "\\item -66703\n",
       "\\item -76165\n",
       "\\item -3650\n",
       "\\item -2848\n",
       "\\item -27728\n",
       "\\item -61666\n",
       "\\item -72632\n",
       "\\item -69140\n",
       "\\item -6548\n",
       "\\item -11106\n",
       "\\item -86332\n",
       "\\item -4919\n",
       "\\item -4052\n",
       "\\item -55137\n",
       "\\item -75160\n",
       "\\item -2914\n",
       "\\item -2723\n",
       "\\item -86332\n",
       "\\item -86368\n",
       "\\item -1249\n",
       "\\item -71603\n",
       "\\item -23011\n",
       "\\item -22480\n",
       "\\item -68531\n",
       "\\item -53773\n",
       "\\item -67485\n",
       "\\item -58284\n",
       "\\item -68204\n",
       "\\item -67670\n",
       "\\item -52998\n",
       "\\item -68885\n",
       "\\item -19114\n",
       "\\item -12401\n",
       "\\item -21572\n",
       "\\item -17108\n",
       "\\item -52589\n",
       "\\item -50457\n",
       "\\item -11555\n",
       "\\item -67522\n",
       "\\item -13507\n",
       "\\item -57223\n",
       "\\item -66432\n",
       "\\item -46568\n",
       "\\item -16413\n",
       "\\item -64629\n",
       "\\item -19475\n",
       "\\item -46849\n",
       "\\item -13758\n",
       "\\item -48976\n",
       "\\item -63731\n",
       "\\item -41790\n",
       "\\item -12311\n",
       "\\item -14817\n",
       "\\item -54197\n",
       "\\item -3315\n",
       "\\item -24361\n",
       "\\item -28306\n",
       "\\item -38218\n",
       "\\item -36854\n",
       "\\item -32191\n",
       "\\item -18317\n",
       "\\item -34356\n",
       "\\item -15408\n",
       "\\item -13799\n",
       "\\item -18648\n",
       "\\item -31499\n",
       "\\item -32609\n",
       "\\item -18309\n",
       "\\item -32961\n",
       "\\item -33006\n",
       "\\item -32172\n",
       "\\item -259\n",
       "\\item -28798\n",
       "\\item -15383\n",
       "\\item -990\n",
       "\\item -12920\n",
       "\\item -9943\n",
       "\\end{enumerate*}\n"
      ],
      "text/markdown": [
       "1. &lt;NA&gt;\n",
       "2. -7932\n",
       "3. -22448\n",
       "4. -4215\n",
       "5. -400\n",
       "6. -6391\n",
       "7. -11169\n",
       "8. -78130\n",
       "9. -8010\n",
       "10. -1192\n",
       "11. -66387\n",
       "12. -9272\n",
       "13. -83991\n",
       "14. -6009\n",
       "15. -58023\n",
       "16. -68116\n",
       "17. -67975\n",
       "18. -257\n",
       "19. -53762\n",
       "20. -33447\n",
       "21. -62078\n",
       "22. -3147\n",
       "23. -2104\n",
       "24. -10452\n",
       "25. -572\n",
       "26. -5983\n",
       "27. -1081\n",
       "28. -41154\n",
       "29. -66532\n",
       "30. -4733\n",
       "31. -59229\n",
       "32. -56292\n",
       "33. -526\n",
       "34. -542\n",
       "35. -47448\n",
       "36. -19744\n",
       "37. -2325\n",
       "38. -86352\n",
       "39. -49388\n",
       "40. -39323\n",
       "41. -719\n",
       "42. -73959\n",
       "43. -28803\n",
       "44. -780\n",
       "45. -1827\n",
       "46. -65616\n",
       "47. -2350\n",
       "48. -65451\n",
       "49. -521\n",
       "50. -62071\n",
       "51. -77722\n",
       "52. -35200\n",
       "53. -64404\n",
       "54. -85716\n",
       "55. -1195\n",
       "56. -465\n",
       "57. -960\n",
       "58. -45983\n",
       "59. -11140\n",
       "60. -21973\n",
       "61. -60943\n",
       "62. -64699\n",
       "63. -46452\n",
       "64. -21767\n",
       "65. -669\n",
       "66. -55474\n",
       "67. -578\n",
       "68. -86349\n",
       "69. -17318\n",
       "70. -63965\n",
       "71. -64009\n",
       "72. -82\n",
       "73. -727\n",
       "74. -397\n",
       "75. -41830\n",
       "76. -144\n",
       "77. -61878\n",
       "78. -18260\n",
       "79. -18182\n",
       "80. -12864\n",
       "81. -850\n",
       "82. -923\n",
       "83. -28392\n",
       "84. -1026\n",
       "85. -53134\n",
       "86. -12889\n",
       "87. -63272\n",
       "88. -63172\n",
       "89. -882\n",
       "90. -63129\n",
       "91. -10338\n",
       "92. -59562\n",
       "93. -1913\n",
       "94. -401\n",
       "95. -34070\n",
       "96. -23777\n",
       "97. -3137\n",
       "98. -32565\n",
       "99. -28166\n",
       "100. -21319\n",
       "101. -61463\n",
       "102. -61040\n",
       "103. -53068\n",
       "104. -32472\n",
       "105. -61470\n",
       "106. -442\n",
       "107. -22130\n",
       "108. -26296\n",
       "109. -1535\n",
       "110. -52780\n",
       "111. -2951\n",
       "112. -86178\n",
       "113. -61001\n",
       "114. -171\n",
       "115. -42877\n",
       "116. -4929\n",
       "117. -60454\n",
       "118. -13148\n",
       "119. -59623\n",
       "120. -59817\n",
       "121. -910\n",
       "122. -60030\n",
       "123. -26439\n",
       "124. -635\n",
       "125. -28644\n",
       "126. -8392\n",
       "127. -4322\n",
       "128. -45365\n",
       "129. -43481\n",
       "130. -1564\n",
       "131. -1514\n",
       "132. -358\n",
       "133. -58499\n",
       "134. -22075\n",
       "135. -41384\n",
       "136. -21552\n",
       "137. -5689\n",
       "138. -8911\n",
       "139. -496\n",
       "140. -1989\n",
       "141. -17834\n",
       "142. -29394\n",
       "143. -55079\n",
       "144. -901\n",
       "145. -18\n",
       "146. -29611\n",
       "147. -2994\n",
       "148. -3\n",
       "149. -56310\n",
       "150. -26153\n",
       "151. -52439\n",
       "152. -1076\n",
       "153. -3433\n",
       "154. -281\n",
       "155. -31515\n",
       "156. -54860\n",
       "157. -31539\n",
       "158. -41\n",
       "159. -842\n",
       "160. -2903\n",
       "161. -32878\n",
       "162. -4024\n",
       "163. -32290\n",
       "164. -19682\n",
       "165. -41027\n",
       "166. -378\n",
       "167. -83152\n",
       "168. -86388\n",
       "169. -1663\n",
       "170. -2172\n",
       "171. -41187\n",
       "172. -2000\n",
       "173. -468\n",
       "174. -698\n",
       "175. -19574\n",
       "176. -38083\n",
       "177. -6893\n",
       "178. -1\n",
       "179. -38141\n",
       "180. -2483\n",
       "181. -36736\n",
       "182. -36680\n",
       "183. -2908\n",
       "184. -723\n",
       "185. -13573\n",
       "186. -37558\n",
       "187. -42178\n",
       "188. -48626\n",
       "189. -4066\n",
       "190. -870\n",
       "191. -34640\n",
       "192. -32306\n",
       "193. -2152\n",
       "194. -2331\n",
       "195. -22929\n",
       "196. -5100\n",
       "197. -42622\n",
       "198. -31386\n",
       "199. -1462\n",
       "200. -2074\n",
       "201. ...\n",
       "202. -22211\n",
       "203. -144\n",
       "204. -5623\n",
       "205. -103\n",
       "206. -1222\n",
       "207. -7814\n",
       "208. -81634\n",
       "209. -2267\n",
       "210. -60876\n",
       "211. -98\n",
       "212. -87\n",
       "213. -60685\n",
       "214. -1669\n",
       "215. -1423\n",
       "216. -5859\n",
       "217. -3050\n",
       "218. -321\n",
       "219. -62384\n",
       "220. -63140\n",
       "221. -2807\n",
       "222. -62950\n",
       "223. -59688\n",
       "224. -67196\n",
       "225. -84916\n",
       "226. -61796\n",
       "227. -1945\n",
       "228. -63802\n",
       "229. -62939\n",
       "230. -70274\n",
       "231. -17539\n",
       "232. -48\n",
       "233. -8156\n",
       "234. -1922\n",
       "235. -1990\n",
       "236. -303\n",
       "237. -21104\n",
       "238. -11\n",
       "239. -3\n",
       "240. -1865\n",
       "241. -2710\n",
       "242. -516\n",
       "243. -1758\n",
       "244. -1588\n",
       "245. -2053\n",
       "246. -5563\n",
       "247. -700\n",
       "248. -1142\n",
       "249. -9244\n",
       "250. -1877\n",
       "251. -3457\n",
       "252. -8\n",
       "253. -16721\n",
       "254. -369\n",
       "255. -264\n",
       "256. -1594\n",
       "257. -1612\n",
       "258. -16235\n",
       "259. -269\n",
       "260. -205\n",
       "261. -1577\n",
       "262. -2460\n",
       "263. -1104\n",
       "264. -10854\n",
       "265. -3875\n",
       "266. -689\n",
       "267. -12753\n",
       "268. -955\n",
       "269. -1844\n",
       "270. -7750\n",
       "271. -9555\n",
       "272. -916\n",
       "273. -1762\n",
       "274. -1039\n",
       "275. -1292\n",
       "276. -255\n",
       "277. -6150\n",
       "278. -9984\n",
       "279. -10096\n",
       "280. -6824\n",
       "281. -9341\n",
       "282. -3650\n",
       "283. -659\n",
       "284. -1172\n",
       "285. -1084\n",
       "286. -4698\n",
       "287. -1601\n",
       "288. -286\n",
       "289. -1797\n",
       "290. -23\n",
       "291. -1962\n",
       "292. -3498\n",
       "293. -5404\n",
       "294. -3224\n",
       "295. -1608\n",
       "296. -3805\n",
       "297. -3221\n",
       "298. -107\n",
       "299. -261\n",
       "300. -2838\n",
       "301. -902\n",
       "302. -6\n",
       "303. -591\n",
       "304. -838\n",
       "305. -414\n",
       "306. -61610\n",
       "307. -41755\n",
       "308. -3598\n",
       "309. -78401\n",
       "310. -69134\n",
       "311. -27579\n",
       "312. -70457\n",
       "313. -33\n",
       "314. -3017\n",
       "315. -85858\n",
       "316. -581\n",
       "317. -80383\n",
       "318. -4079\n",
       "319. -2027\n",
       "320. -960\n",
       "321. -47904\n",
       "322. -73797\n",
       "323. -86376\n",
       "324. -27008\n",
       "325. -66703\n",
       "326. -76165\n",
       "327. -3650\n",
       "328. -2848\n",
       "329. -27728\n",
       "330. -61666\n",
       "331. -72632\n",
       "332. -69140\n",
       "333. -6548\n",
       "334. -11106\n",
       "335. -86332\n",
       "336. -4919\n",
       "337. -4052\n",
       "338. -55137\n",
       "339. -75160\n",
       "340. -2914\n",
       "341. -2723\n",
       "342. -86332\n",
       "343. -86368\n",
       "344. -1249\n",
       "345. -71603\n",
       "346. -23011\n",
       "347. -22480\n",
       "348. -68531\n",
       "349. -53773\n",
       "350. -67485\n",
       "351. -58284\n",
       "352. -68204\n",
       "353. -67670\n",
       "354. -52998\n",
       "355. -68885\n",
       "356. -19114\n",
       "357. -12401\n",
       "358. -21572\n",
       "359. -17108\n",
       "360. -52589\n",
       "361. -50457\n",
       "362. -11555\n",
       "363. -67522\n",
       "364. -13507\n",
       "365. -57223\n",
       "366. -66432\n",
       "367. -46568\n",
       "368. -16413\n",
       "369. -64629\n",
       "370. -19475\n",
       "371. -46849\n",
       "372. -13758\n",
       "373. -48976\n",
       "374. -63731\n",
       "375. -41790\n",
       "376. -12311\n",
       "377. -14817\n",
       "378. -54197\n",
       "379. -3315\n",
       "380. -24361\n",
       "381. -28306\n",
       "382. -38218\n",
       "383. -36854\n",
       "384. -32191\n",
       "385. -18317\n",
       "386. -34356\n",
       "387. -15408\n",
       "388. -13799\n",
       "389. -18648\n",
       "390. -31499\n",
       "391. -32609\n",
       "392. -18309\n",
       "393. -32961\n",
       "394. -33006\n",
       "395. -32172\n",
       "396. -259\n",
       "397. -28798\n",
       "398. -15383\n",
       "399. -990\n",
       "400. -12920\n",
       "401. -9943\n",
       "\n",
       "\n"
      ],
      "text/plain": [
       "  [1]     NA  -7932 -22448  -4215   -400  -6391 -11169 -78130  -8010  -1192\n",
       " [11] -66387  -9272 -83991  -6009 -58023 -68116 -67975   -257 -53762 -33447\n",
       " [21] -62078  -3147  -2104 -10452   -572  -5983  -1081 -41154 -66532  -4733\n",
       " [31] -59229 -56292   -526   -542 -47448 -19744  -2325 -86352 -49388 -39323\n",
       " [41]   -719 -73959 -28803   -780  -1827 -65616  -2350 -65451   -521 -62071\n",
       " [51] -77722 -35200 -64404 -85716  -1195   -465   -960 -45983 -11140 -21973\n",
       " [61] -60943 -64699 -46452 -21767   -669 -55474   -578 -86349 -17318 -63965\n",
       " [71] -64009    -82   -727   -397 -41830   -144 -61878 -18260 -18182 -12864\n",
       " [81]   -850   -923 -28392  -1026 -53134 -12889 -63272 -63172   -882 -63129\n",
       " [91] -10338 -59562  -1913   -401 -34070 -23777  -3137 -32565 -28166 -21319\n",
       "[101] -61463 -61040 -53068 -32472 -61470   -442 -22130 -26296  -1535 -52780\n",
       "[111]  -2951 -86178 -61001   -171 -42877  -4929 -60454 -13148 -59623 -59817\n",
       "[121]   -910 -60030 -26439   -635 -28644  -8392  -4322 -45365 -43481  -1564\n",
       "[131]  -1514   -358 -58499 -22075 -41384 -21552  -5689  -8911   -496  -1989\n",
       "[141] -17834 -29394 -55079   -901    -18 -29611  -2994     -3 -56310 -26153\n",
       "[151] -52439  -1076  -3433   -281 -31515 -54860 -31539    -41   -842  -2903\n",
       "[161] -32878  -4024 -32290 -19682 -41027   -378 -83152 -86388  -1663  -2172\n",
       "[171] -41187  -2000   -468   -698 -19574 -38083  -6893     -1 -38141  -2483\n",
       "[181] -36736 -36680  -2908   -723 -13573 -37558 -42178 -48626  -4066   -870\n",
       "[191] -34640 -32306  -2152  -2331 -22929  -5100 -42622 -31386  -1462  -2074\n",
       "[201]   -320 -49609 -22062   -423 -34042 -30424  -1767  -1773   -185    -55\n",
       "[211] -41157     -4  -1195  -1871  -1785    -86   -108 -28384 -85798  -8513\n",
       "[221]  -1540  -2882  -1829  -1386   -574   -240 -36493  -5854    -37   -310\n",
       "[231]    -64  -2426   -137  -5385  -1891  -8713   -534     -3  -4627 -18353\n",
       "[241] -86303 -61402 -30713 -56702 -58251 -44680 -55584 -11454 -21686 -25522\n",
       "[251] -56862   -481   -978  -3159  -1409  -2154 -22211   -144  -5623   -103\n",
       "[261]  -1222  -7814 -81634  -2267 -60876    -98    -87 -60685  -1669  -1423\n",
       "[271]  -5859  -3050   -321 -62384 -63140  -2807 -62950 -59688 -67196 -84916\n",
       "[281] -61796  -1945 -63802 -62939 -70274 -17539    -48  -8156  -1922  -1990\n",
       "[291]   -303 -21104    -11     -3  -1865  -2710   -516  -1758  -1588  -2053\n",
       "[301]  -5563   -700  -1142  -9244  -1877  -3457     -8 -16721   -369   -264\n",
       "[311]  -1594  -1612 -16235   -269   -205  -1577  -2460  -1104 -10854  -3875\n",
       "[321]   -689 -12753   -955  -1844  -7750  -9555   -916  -1762  -1039  -1292\n",
       "[331]   -255  -6150  -9984 -10096  -6824  -9341  -3650   -659  -1172  -1084\n",
       "[341]  -4698  -1601   -286  -1797    -23  -1962  -3498  -5404  -3224  -1608\n",
       "[351]  -3805  -3221   -107   -261  -2838   -902     -6   -591   -838   -414\n",
       "[361] -61610 -41755  -3598 -78401 -69134 -27579 -70457    -33  -3017 -85858\n",
       "[371]   -581 -80383  -4079  -2027   -960 -47904 -73797 -86376 -27008 -66703\n",
       "[381] -76165  -3650  -2848 -27728 -61666 -72632 -69140  -6548 -11106 -86332\n",
       "[391]  -4919  -4052 -55137 -75160  -2914  -2723 -86332 -86368  -1249 -71603\n",
       "[401] -23011 -22480 -68531 -53773 -67485 -58284 -68204 -67670 -52998 -68885\n",
       "[411] -19114 -12401 -21572 -17108 -52589 -50457 -11555 -67522 -13507 -57223\n",
       "[421] -66432 -46568 -16413 -64629 -19475 -46849 -13758 -48976 -63731 -41790\n",
       "[431] -12311 -14817 -54197  -3315 -24361 -28306 -38218 -36854 -32191 -18317\n",
       "[441] -34356 -15408 -13799 -18648 -31499 -32609 -18309 -32961 -33006 -32172\n",
       "[451]   -259 -28798 -15383   -990 -12920  -9943"
      ]
     },
     "metadata": {},
     "output_type": "display_data"
    }
   ],
   "source": [
    "d_test[d_test$interval_seconds < 0,c(\"interval_seconds\")]"
   ]
  },
  {
   "cell_type": "markdown",
   "metadata": {},
   "source": [
    "### Day 1 10001 test"
   ]
  },
  {
   "cell_type": "code",
   "execution_count": 111,
   "metadata": {},
   "outputs": [],
   "source": [
    "compute_distance <- function(d) {\n",
    "    d$dist_meters = NA\n",
    "    d$interval_seconds = NA\n",
    "    n <- nrow(d)\n",
    "    if (n >= 2) {\n",
    "        # Compute interval distance using Haversine function\n",
    "        d$dist_meters[2:n] = distHaversine(cbind(d$lon[1:n-1],d$lat[1:n-1]),cbind(d$lon[2:n],d$lat[2:n]))\n",
    "        # Compute time interval\n",
    "        d$interval_seconds[2:n] = as.numeric(difftime(d$trxtime[2:n], d$trxtime[1:n-1], units = \"secs\"))\n",
    "        }\n",
    "    return(d)\n",
    "}"
   ]
  },
  {
   "cell_type": "code",
   "execution_count": 9,
   "metadata": {},
   "outputs": [],
   "source": [
    "compute_speed_acceleration <- function(d) {\n",
    "    d = data.frame(d)\n",
    "    d$speed_mps = NA\n",
    "    d$speed_mps = as.numeric(d$speed_mps)\n",
    "    d$speed_kph = NA\n",
    "    d$speed_kph = as.numeric(d$speed_kph)\n",
    "    d$accel_mps2 = NA\n",
    "    d$accel_mps2 = as.numeric(d$accel_mps2)\n",
    "    n <- nrow(d)\n",
    "    if (n >= 2) {\n",
    "        d$speed_mps[2:n] = d$dist_meters[2:n] / d$interval_seconds[2:n]\n",
    "        # Convert speed to kph\n",
    "        d$speed_kph[2:n] = d$speed_mps[2:n] * 3.6\n",
    "        d$accel_mps2[2:n] = (d$speed_mps[2:n] - d$speed_mps[1:n-1])/d$interval_seconds[2:n]\n",
    "        }\n",
    "    return(d)\n",
    "}       "
   ]
  },
  {
   "cell_type": "code",
   "execution_count": 14,
   "metadata": {},
   "outputs": [
    {
     "name": "stdout",
     "output_type": "stream",
     "text": [
      "1 out of 255 time series values in df_test_computed$dist_meters are missing. \n"
     ]
    }
   ],
   "source": [
    "#df_test$dist_meters\n",
    "filter = robreg.filter(df_test_computed$dist_meters, width=10,online=TRUE,method= \"MED\")"
   ]
  },
  {
   "cell_type": "code",
   "execution_count": 40,
   "metadata": {},
   "outputs": [],
   "source": [
    "d1$dist_meters = filter$level$MED"
   ]
  },
  {
   "cell_type": "code",
   "execution_count": 36,
   "metadata": {
    "collapsed": true,
    "jupyter": {
     "outputs_hidden": true
    }
   },
   "outputs": [
    {
     "name": "stderr",
     "output_type": "stream",
     "text": [
      "Warning message in as.POSIXlt.POSIXct(x):\n",
      "\"unknown timezone '%Y:%M:%D:%H:%M:%S'\"\n",
      "Warning message in as.POSIXct.POSIXlt(from):\n",
      "\"unknown timezone '%Y:%M:%D:%H:%M:%S'\"\n",
      "Warning message in as.POSIXct.POSIXlt(from):\n",
      "\"unknown timezone '%Y:%M:%D:%H:%M:%S'\"\n",
      "Warning message in as.POSIXlt.POSIXct(x, tz):\n",
      "\"unknown timezone '%Y:%M:%D:%H:%M:%S'\"\n",
      "Warning message in as.POSIXlt.POSIXct(x):\n",
      "\"unknown timezone '%Y:%M:%D:%H:%M:%S'\"\n",
      "Warning message in as.POSIXct.POSIXlt(from):\n",
      "\"unknown timezone '%Y:%M:%D:%H:%M:%S'\"\n",
      "Warning message in as.POSIXct.POSIXlt(from):\n",
      "\"unknown timezone '%Y:%M:%D:%H:%M:%S'\"\n",
      "Warning message in as.POSIXlt.POSIXct(x, tz):\n",
      "\"unknown timezone '%Y:%M:%D:%H:%M:%S'\"\n",
      "Warning message:\n",
      "\"Removed 1 row(s) containing missing values (geom_path).\"\n",
      "Warning message in as.POSIXlt.POSIXct(x):\n",
      "\"unknown timezone '%Y:%M:%D:%H:%M:%S'\"\n",
      "Warning message in as.POSIXct.POSIXlt(from):\n",
      "\"unknown timezone '%Y:%M:%D:%H:%M:%S'\"\n",
      "Warning message in as.POSIXct.POSIXlt(from):\n",
      "\"unknown timezone '%Y:%M:%D:%H:%M:%S'\"\n",
      "Warning message in as.POSIXlt.POSIXct(x, tz):\n",
      "\"unknown timezone '%Y:%M:%D:%H:%M:%S'\"\n",
      "Warning message in as.POSIXlt.POSIXct(x):\n",
      "\"unknown timezone '%Y:%M:%D:%H:%M:%S'\"\n",
      "Warning message in as.POSIXct.POSIXlt(from):\n",
      "\"unknown timezone '%Y:%M:%D:%H:%M:%S'\"\n",
      "Warning message in as.POSIXct.POSIXlt(from):\n",
      "\"unknown timezone '%Y:%M:%D:%H:%M:%S'\"\n",
      "Warning message in as.POSIXlt.POSIXct(x, tz):\n",
      "\"unknown timezone '%Y:%M:%D:%H:%M:%S'\"\n",
      "Warning message:\n",
      "\"Removed 1 row(s) containing missing values (geom_path).\"\n",
      "Warning message in as.POSIXlt.POSIXct(x):\n",
      "\"unknown timezone '%Y:%M:%D:%H:%M:%S'\"\n",
      "Warning message in as.POSIXct.POSIXlt(from):\n",
      "\"unknown timezone '%Y:%M:%D:%H:%M:%S'\"\n",
      "Warning message in as.POSIXct.POSIXlt(from):\n",
      "\"unknown timezone '%Y:%M:%D:%H:%M:%S'\"\n",
      "Warning message in as.POSIXlt.POSIXct(x, tz):\n",
      "\"unknown timezone '%Y:%M:%D:%H:%M:%S'\"\n",
      "Warning message in as.POSIXlt.POSIXct(x):\n",
      "\"unknown timezone '%Y:%M:%D:%H:%M:%S'\"\n",
      "Warning message in as.POSIXct.POSIXlt(from):\n",
      "\"unknown timezone '%Y:%M:%D:%H:%M:%S'\"\n",
      "Warning message in as.POSIXct.POSIXlt(from):\n",
      "\"unknown timezone '%Y:%M:%D:%H:%M:%S'\"\n",
      "Warning message in as.POSIXlt.POSIXct(x, tz):\n",
      "\"unknown timezone '%Y:%M:%D:%H:%M:%S'\"\n",
      "Warning message:\n",
      "\"Removed 2 row(s) containing missing values (geom_path).\"\n",
      "Warning message in as.POSIXlt.POSIXct(x):\n",
      "\"unknown timezone '%Y:%M:%D:%H:%M:%S'\"\n",
      "Warning message in as.POSIXct.POSIXlt(from):\n",
      "\"unknown timezone '%Y:%M:%D:%H:%M:%S'\"\n",
      "Warning message in as.POSIXct.POSIXlt(from):\n",
      "\"unknown timezone '%Y:%M:%D:%H:%M:%S'\"\n",
      "Warning message in as.POSIXlt.POSIXct(x, tz):\n",
      "\"unknown timezone '%Y:%M:%D:%H:%M:%S'\"\n",
      "Warning message in as.POSIXlt.POSIXct(x):\n",
      "\"unknown timezone '%Y:%M:%D:%H:%M:%S'\"\n",
      "Warning message in as.POSIXct.POSIXlt(from):\n",
      "\"unknown timezone '%Y:%M:%D:%H:%M:%S'\"\n",
      "Warning message in as.POSIXct.POSIXlt(from):\n",
      "\"unknown timezone '%Y:%M:%D:%H:%M:%S'\"\n",
      "Warning message in as.POSIXlt.POSIXct(x, tz):\n",
      "\"unknown timezone '%Y:%M:%D:%H:%M:%S'\"\n",
      "Warning message:\n",
      "\"Removed 1 row(s) containing missing values (geom_path).\"\n"
     ]
    },
    {
     "data": {
      "image/png": "[encoded data removed]",
      "text/plain": [
       "plot without title"
      ]
     },
     "metadata": {
      "image/png": {
       "height": 420,
       "width": 420
      }
     },
     "output_type": "display_data"
    }
   ],
   "source": [
    "grid.arrange(p1, p2, p3, p4, ncol=2, nrow=2)"
   ]
  },
  {
   "cell_type": "code",
   "execution_count": 63,
   "metadata": {
    "collapsed": true,
    "jupyter": {
     "outputs_hidden": true
    }
   },
   "outputs": [
    {
     "data": {
      "image/png": "[encoded data removed]",
      "text/plain": [
       "plot without title"
      ]
     },
     "metadata": {
      "image/png": {
       "height": 420,
       "width": 420
      },
      "text/plain": {
       "height": 420,
       "width": 420
      }
     },
     "output_type": "display_data"
    }
   ],
   "source": [
    "ggplot(df_1_10001_calculate) + \n",
    " geom_line(aes(x=lat, y=lon),size = 1,alpha = 0.4) +\n",
    "theme(axis.text=element_text(size = 12),axis.title.x = element_text(size = 20),axis.title.y = element_text(size = 20),title= element_text(size = 20))+\n",
    " labs(title =\" lon vs lat \", y = \"lon\", x = \"lat\")"
   ]
  },
  {
   "cell_type": "markdown",
   "metadata": {},
   "source": [
    "## Vehicle distance,speed, acceleration calculation \n",
    "### Spurious values statistics\n",
    "### Value correction"
   ]
  },
  {
   "cell_type": "code",
   "execution_count": 18,
   "metadata": {},
   "outputs": [],
   "source": [
    "# Function to compute distances (D), speeds (S) and acceleration (A) in meters, meters per second, km per hour and m s^-2\n",
    "compute_speed_acceleration <- function(d) {\n",
    "    d = data.frame(d)\n",
    "#     d$dist_meters = NA\n",
    "#     d$dist_meters = as.numeric(d$dist_meters)\n",
    "#     d$interval_seconds = NA\n",
    "#     d$interval_seconds = as.numeric(d$interval_seconds)\n",
    "    d$speed_mps = NA\n",
    "    d$speed_mps = as.numeric(d$speed_mps)\n",
    "    d$speed_kph = NA\n",
    "    d$speed_kph = as.numeric(d$speed_kph)\n",
    "    d$accel_mps2 = NA\n",
    "    d$accel_mps2 = as.numeric(d$accel_mps2)\n",
    "    n <- nrow(d)\n",
    "    diagnostics = {}\n",
    "    if (n >= 2) {\n",
    "#         # Compute interval distance using Haversine function\n",
    "#         d$dist_meters[2:n] = distHaversine(cbind(d$lon[1:n-1],d$lat[1:n-1]),cbind(d$lon[2:n],d$lat[2:n]))\n",
    "#         # Compute time interval\n",
    "#         d$interval_seconds[2:n] = as.numeric(difftime(d$trxtime[2:n], d$trxtime[1:n-1], units = \"secs\"))\n",
    "        # Compute speed in meters per second\n",
    "        d$speed_mps[2:n] = d$dist_meters[2:n] / d$interval_seconds[2:n]\n",
    "        # Convert speed to kph\n",
    "        d$speed_kph[2:n] = d$speed_mps[2:n] * 3.6\n",
    "        # # Compute accelerations\n",
    "        # d$accel_mps2[2:n] = (d$speed_mps[2:n] - d$speed_mps[1:n-1])/d$interval_seconds[2:n]\n",
    "        # Spurious values statistics\n",
    "        index_excessive_speeds = as.numeric(row.names(d[(d$speed_kph > 128) & (!is.na(d$speed_kph)),]))\n",
    "        # Original data metrics calculation\n",
    "         diagnostics$mean_original_speed_kph = mean(as.numeric(d[, \"speed_kph\"]),na.rm=TRUE)\n",
    "         diagnostics$min_original_speed_kph = min(as.numeric(d[, \"speed_kph\"]),na.rm=TRUE)\n",
    "         diagnostics$max_original_speed_kph = max(as.numeric(d[, \"speed_kph\"]),na.rm=TRUE)\n",
    "         diagnostics$num_original_speed_kph = length(as.numeric(d[, \"speed_kph\"]))\n",
    "        # Excessive data metrics calculation\n",
    "         diagnostics$mean_excess_speed_kph = mean(as.numeric(d[index_excessive_speeds, \"speed_kph\"]))\n",
    "         diagnostics$min_excess_speed_kph = min(d[index_excessive_speeds, \"speed_kph\"]) \n",
    "         diagnostics$max_excess_speed_kph = max(as.numeric(d[index_excessive_speeds, \"speed_kph\"])) \n",
    "         diagnostics$num_excess_speed_kph = length(d[index_excessive_speeds, \"speed_kph\"]) \n",
    "         diagnostics$prop_excess_speed_kph = round(100*diagnostics$num_excess_speed/n, 2)\n",
    "        # Correct the excessive speed values and recalculate acceleration and distance\n",
    "        repeat{\n",
    "        d[index_excessive_speeds, c('speed_kph',\"speed_mps\")] = d[index_excessive_speeds - 1 , c('speed_kph',\"speed_mps\")]\n",
    "        d[index_excessive_speeds, \"dist_meters\"] = d[index_excessive_speeds, \"speed_mps\"] * d[index_excessive_speeds,\"interval_seconds\"]\n",
    "        # d[index_excessive_speeds, \"accel_mps2\"] = (d[index_excessive_speeds, \"speed_mps\"] \n",
    "        #                                           - d[index_excessive_speeds - 1, \"speed_mps\"]) / d[index_excessive_speeds,\"interval_seconds\"]\n",
    "        if(max(d$speed_kph,na.rm = TRUE) <= 128){break}\n",
    "        }\n",
    "         # Compute accelerations\n",
    "         d$accel_mps2[2:n] = (d$speed_mps[2:n] - d$speed_mps[1:n-1])/d$interval_seconds[2:n]\n",
    "        # Correct accelerations\n",
    "         index_excessive_accelerations = as.numeric(row.names(d[(d$dist_meters == 0) & (d$accel_mps2 > 6),]))\n",
    "         d[index_excessive_accelerations, \"accel_mps2\"] = d[index_excessive_accelerations - 1 , \"accel_mps2\"]\n",
    "        # Corrected data metrics calculation\n",
    "         diagnostics$mean_corrected_speed_kph = mean(as.numeric(d[, \"speed_kph\"]),na.rm=TRUE)\n",
    "         diagnostics$min_corrected_speed_kph = min(as.numeric(d[, \"speed_kph\"]),na.rm=TRUE)\n",
    "         diagnostics$max_corrected_speed_kph = max(as.numeric(d[, \"speed_kph\"]),na.rm=TRUE)\n",
    "         diagnostics$num_corrected_speed_kph = length(as.numeric(d[, \"speed_kph\"]))\n",
    "    }\n",
    "    return(list(data = d ,diag_metrics = diagnostics))   \n",
    "}"
   ]
  },
  {
   "cell_type": "code",
   "execution_count": 21,
   "metadata": {},
   "outputs": [],
   "source": [
    "# Process calculation \n",
    "process_month_trajectory = function(data){\n",
    "    results_df = data.frame() # empty dataframe\n",
    "    diagnostics_df = data.frame()\n",
    "    for(i in unique(data$day)) { \n",
    "        data_day <- data[data$day == i, ]\n",
    "        # Put each train in one loop in a subset\n",
    "        for (j in unique(data_day$trainid)) {\n",
    "            data_day_train = data_day[data_day$trainid == j, ]        \n",
    "            trajectory_and_diagnostics <- compute_trajectories(data_day_train)  \n",
    "            trajectories = trajectory_and_diagnostics$data\n",
    "            diagnostics = trajectory_and_diagnostics$diag_metrics          \n",
    "            results_df <- rbind(results_df, trajectories)\n",
    "            diagnostics_df <- rbind(diagnostics_df, diagnostics) \n",
    "        }\n",
    "    }\n",
    "     write.csv(x = results_df, file.path(\"../../data/tidy/\", paste(\"trajectory\", yy, mm, \".csv\", sep = \"-\", collapse = \"\")))\n",
    "    write.csv(x = diagnostics_df, file.path(\"../../data/tidy/\", paste(\"trajectory-diagnostics\" , yy, mm, \".csv\", sep = \"-\",collapse = \"\")))\n",
    "    # Uncomment the beneath line and check the computation result\n",
    "    # return(list(result = results_df, result_diag = diagnostics_df ))\n",
    " }"
   ]
  },
  {
   "cell_type": "code",
   "execution_count": null,
   "metadata": {},
   "outputs": [],
   "source": [
    "# Generate the final table\n",
    "main = function(YEARLIST, MONTHLIST) {\n",
    "    for (y in YEARLIST) {\n",
    "        for (m in MONTHLIST) {\n",
    "            df_agg = aggregate_line_trajectories(y, m)\n",
    "            df_agg = preprocess_data(df_agg)\n",
    "            process_month_trajectory(df_agg, y, m)            \n",
    "        }\n",
    "    }\n",
    "}"
   ]
  },
  {
   "cell_type": "code",
   "execution_count": null,
   "metadata": {},
   "outputs": [],
   "source": [
    "main(YEARLIST, MONTHLIST)"
   ]
  },
  {
   "cell_type": "markdown",
   "metadata": {},
   "source": [
    "## something which will be used or not (this part wiil be deleted when this script has been done)"
   ]
  },
  {
   "cell_type": "code",
   "execution_count": null,
   "metadata": {},
   "outputs": [],
   "source": [
    "# # aggregrate_trajectory_table\n",
    "# aggregate_line_trajectories = function(year, month){\n",
    "#     assign(\"dg\", fread(paste(DISTANCE_FILEPATH, paste(paste(c(\"lightrail\",\"trajectories\",month, year),collapse = \"-\"),\".csv\",sep = \"\"), sep = \"\")))\n",
    "#     assign(\"dh\", fread(paste(DISTANCE_FILEPATH, paste(paste(c(\"heavyrail\",\"trajectories\",month, year),collapse = \"-\"),\".csv\",sep = \"\"), sep = \"\")))\n",
    "#     # Combine the original tables to a single one for analysis\n",
    "#     dg = subset(dg, select = c(trxtime, trainid, lineid, lat, lon))\n",
    "#     dh = subset(dh, select = c(trxtime, trainid, lineid, lat, lon))\n",
    "#     df = rbind(dg, dh)\n",
    "#     return(df)\n",
    "# }"
   ]
  },
  {
   "cell_type": "code",
   "execution_count": null,
   "metadata": {},
   "outputs": [],
   "source": [
    "# aggregrate_trajectory_table\n",
    "aggregate_line_trajectories = function(year, month){\n",
    "    assign(\"dg\", fread(paste(DISTANCE_FILEPATH, paste(\"lightrail\", \"trajectories\", month, year, \".csv\", sep = \"-\", collapse = \"\"), sep=\"\")))\n",
    "    assign(\"dh\", fread(paste(DISTANCE_FILEPATH, paste(\"heavyrail\", \"trajectories\", month, year, \".csv\", sep = \"-\", collapse = \"\"), sep=\"\")))\n",
    "    # Combine the original tables to a single one for analysis\n",
    "    dg = subset(dg, select = c(trxtime, trainid, lineid, lat, lon))\n",
    "    dh = subset(dh, select = c(trxtime, trainid, lineid, lat, lon))\n",
    "    df = rbind(dg, dh)\n",
    "    return(df)\n",
    "}"
   ]
  },
  {
   "cell_type": "code",
   "execution_count": null,
   "metadata": {},
   "outputs": [],
   "source": [
    "# Fixed file path\n",
    "assign(\"df\", fread(paste(DISTANCE_FILEPATH, paste(DISTANCE_FILEPATH, paste(\"heavyrail\", \"trajectories\", month, year, \".csv\", sep = \"-\", collapse = \"\"), sep=\"\")))"
   ]
  },
  {
   "cell_type": "code",
   "execution_count": null,
   "metadata": {},
   "outputs": [],
   "source": [
    "add_dd_mm_yy_cols = function(df) {\n",
    "    df$day = day(df$trxtime)\n",
    "    df$month = month(df$trxtime)\n",
    "    df$year = year(df$trxtime)\n",
    "    return(df)\n",
    "}\n",
    "get_heavy_rail_trajectories = function(year, month){\n",
    "    assign(\"df\", fread(paste(DISTANCE_FILEPATH, paste(DISTANCE_FILEPATH, paste(\"heavyrail\", \"trajectories\", month, year, \".csv\", sep = \"-\", collapse = \"\"), sep=\"\")))\n",
    "    df = add_dd_mm_yy_cols(df)\n",
    "    return(df)\n",
    "}\n",
    "\n",
    "get_light_rail_trajectories = function(year, month){\n",
    "    assign(\"dg\", fread(paste(DISTANCE_FILEPATH, paste(\"lightrail\", \"trajectories\", month, year, \".csv\", sep = \"-\", collapse = \"\"), sep=\"\")))\n",
    "    dg = add_dd_mm_yy_cols(dg)\n",
    "    return(dg)\n",
    "}"
   ]
  }
 ],
 "metadata": {
  "kernelspec": {
   "display_name": "R",
   "language": "R",
   "name": "ir"
  },
  "language_info": {
   "codemirror_mode": "r",
   "file_extension": ".r",
   "mimetype": "text/x-r-source",
   "name": "R",
   "pygments_lexer": "r",
   "version": "3.6.2"
  }
 },
 "nbformat": 4,
 "nbformat_minor": 4
}
